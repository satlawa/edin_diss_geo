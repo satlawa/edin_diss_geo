{
 "cells": [
  {
   "cell_type": "code",
   "execution_count": 1,
   "metadata": {},
   "outputs": [],
   "source": [
    "from osgeo import gdal\n",
    "import sys\n",
    "import os\n",
    "import pandas as pd"
   ]
  },
  {
   "cell_type": "code",
   "execution_count": 6,
   "metadata": {},
   "outputs": [],
   "source": [
    "path1 = '/media/philipp/ed7d22ba-5a3b-4d31-bf6c-6add6e106b3d/test/aligned/id_397615_ortho.tif'\n",
    "path2 = '/media/philipp/ed7d22ba-5a3b-4d31-bf6c-6add6e106b3d/test/aligned/id_397615_oh.tif'\n",
    "path_out = '/media/philipp/ed7d22ba-5a3b-4d31-bf6c-6add6e106b3d/test/aligned/gdal_out_al.tif'\n",
    "path_out2 = '/media/philipp/ed7d22ba-5a3b-4d31-bf6c-6add6e106b3d/test/aligned/gdal_out_al_oh.tif'"
   ]
  },
  {
   "cell_type": "code",
   "execution_count": 3,
   "metadata": {},
   "outputs": [],
   "source": [
    "ds1 = gdal.Open(path1)\n",
    "ds2 = gdal.Open(path2)"
   ]
  },
  {
   "cell_type": "markdown",
   "metadata": {},
   "source": [
    "## align to 1m"
   ]
  },
  {
   "cell_type": "code",
   "execution_count": 4,
   "metadata": {},
   "outputs": [
    {
     "name": "stdout",
     "output_type": "stream",
     "text": [
      "Driver: GTiff/GeoTIFF\n",
      "Size is 399 x 399 x 1\n",
      "Projection is PROJCS[\"Lambert Conformal Conic\",GEOGCS[\"wkt_datum_1\",DATUM[\"wkt_datum_1\",SPHEROID[\"Bessel\",6377397.155,299.152813106079]],PRIMEM[\"Greenwich\",0],UNIT[\"degree\",0.0174532925199433,AUTHORITY[\"EPSG\",\"9122\"]]],PROJECTION[\"Lambert_Conformal_Conic_2SP\"],PARAMETER[\"latitude_of_origin\",47.5],PARAMETER[\"central_meridian\",13.3333333333333],PARAMETER[\"standard_parallel_1\",49],PARAMETER[\"standard_parallel_2\",46],PARAMETER[\"false_easting\",400000],PARAMETER[\"false_northing\",400000],UNIT[\"metre\",1,AUTHORITY[\"EPSG\",\"9001\"]],AXIS[\"Easting\",EAST],AXIS[\"Northing\",NORTH]]\n",
      "Origin = (396151.81015256664, 386719.6451956807)\n",
      "Pixel Size = (1.0, -1.0)\n"
     ]
    }
   ],
   "source": [
    "print(\"Driver: {}/{}\".format(ds2.GetDriver().ShortName,\n",
    "                            ds2.GetDriver().LongName))\n",
    "print(\"Size is {} x {} x {}\".format(ds2.RasterXSize,\n",
    "                                    ds2.RasterYSize,\n",
    "                                    ds2.RasterCount))\n",
    "print(\"Projection is {}\".format(ds2.GetProjection()))\n",
    "geotransform = ds2.GetGeoTransform()\n",
    "if geotransform:\n",
    "    print(\"Origin = ({}, {})\".format(geotransform[0], geotransform[3]))\n",
    "    print(\"Pixel Size = ({}, {})\".format(geotransform[1], geotransform[5]))"
   ]
  },
  {
   "cell_type": "code",
   "execution_count": 5,
   "metadata": {},
   "outputs": [],
   "source": [
    "# aligning to 1m\n",
    "gdal.Warp(path_out, ds1, targetAlignedPixels = True, xRes = geotransform[1], yRes = geotransform[1]) "
   ]
  },
  {
   "cell_type": "code",
   "execution_count": null,
   "metadata": {},
   "outputs": [],
   "source": []
  },
  {
   "cell_type": "markdown",
   "metadata": {},
   "source": [
    "## align to 0.2m"
   ]
  },
  {
   "cell_type": "code",
   "execution_count": 8,
   "metadata": {},
   "outputs": [],
   "source": [
    "# aligning to 1m\n",
    "geotransform = ds1.GetGeoTransform()\n",
    "gdal.Warp(path_out2, ds2, targetAlignedPixels = True, xRes = geotransform[1], yRes = geotransform[1], width = ds1.RasterXSize, height = ds1.RasterXSize) "
   ]
  },
  {
   "cell_type": "code",
   "execution_count": null,
   "metadata": {},
   "outputs": [],
   "source": []
  },
  {
   "cell_type": "code",
   "execution_count": null,
   "metadata": {},
   "outputs": [],
   "source": []
  },
  {
   "cell_type": "code",
   "execution_count": null,
   "metadata": {},
   "outputs": [],
   "source": [
    "###############################################################################\n",
    "# Test -tr\n",
    "\n",
    "def test_gdalwarp_7():\n",
    "    if test_cli_utilities.get_gdalwarp_path() is None:\n",
    "        return 'skip'\n",
    "\n",
    "    gdaltest.runexternal(test_cli_utilities.get_gdalwarp_path() + ' -tr 120 120 tmp/testgdalwarp_gcp.tif tmp/testgdalwarp7.tif')\n",
    "\n",
    "    ds = gdal.Open('tmp/testgdalwarp7.tif')\n",
    "    if ds is None:\n",
    "        return 'fail'\n",
    "\n",
    "    expected_gt = (440720.0, 120.0, 0.0, 3751320.0, 0.0, -120.0)\n",
    "    if not gdaltest.geotransform_equals(expected_gt, ds.GetGeoTransform(), 1e-9) :\n",
    "        gdaltest.post_reason('Bad geotransform')\n",
    "        return 'fail'\n",
    "\n",
    "    ds = None\n",
    "\n",
    "    return 'success'\n",
    "\n",
    "###############################################################################"
   ]
  },
  {
   "cell_type": "code",
   "execution_count": null,
   "metadata": {},
   "outputs": [],
   "source": [
    "###############################################################################\n",
    "# Test -tap\n",
    "\n",
    "def test_gdalwarp_32():\n",
    "    if test_cli_utilities.get_gdalwarp_path() is None:\n",
    "        return 'skip'\n",
    "\n",
    "    (out, err) = gdaltest.runexternal_out_and_err(test_cli_utilities.get_gdalwarp_path() + ' -tap ../gcore/data/byte.tif tmp/testgdalwarp32.tif',\n",
    "                                                  check_memleak = False)\n",
    "    if err.find('-tap option cannot be used without using -tr') == -1:\n",
    "        gdaltest.post_reason('expected error')\n",
    "        return 'fail'\n",
    "\n",
    "    gdaltest.runexternal(test_cli_utilities.get_gdalwarp_path() + ' -tr 100 50 -tap ../gcore/data/byte.tif tmp/testgdalwarp32.tif')\n",
    "\n",
    "    ds = gdal.Open('tmp/testgdalwarp32.tif')\n",
    "    if ds is None:\n",
    "        return 'fail'\n",
    "\n",
    "    expected_gt = (440700.0, 100.0, 0.0, 3751350.0, 0.0, -50.0)\n",
    "    got_gt = ds.GetGeoTransform()\n",
    "    if not gdaltest.geotransform_equals(expected_gt, got_gt, 1e-9) :\n",
    "        gdaltest.post_reason('Bad geotransform')\n",
    "        print(got_gt)\n",
    "        return 'fail'\n",
    "\n",
    "    if ds.RasterXSize != 13 or ds.RasterYSize != 25:\n",
    "        gdaltest.post_reason('Wrong raster dimensions : %d x %d' % (ds.RasterXSize, ds.RasterYSize) )\n",
    "        return 'fail'\n",
    "\n",
    "    ds = None\n",
    "\n",
    "    return 'success'\n",
    "\n",
    "###############################################################################"
   ]
  }
 ],
 "metadata": {
  "kernelspec": {
   "display_name": "geo",
   "language": "python",
   "name": "geo"
  },
  "language_info": {
   "codemirror_mode": {
    "name": "ipython",
    "version": 3
   },
   "file_extension": ".py",
   "mimetype": "text/x-python",
   "name": "python",
   "nbconvert_exporter": "python",
   "pygments_lexer": "ipython3",
   "version": "3.8.4"
  }
 },
 "nbformat": 4,
 "nbformat_minor": 4
}
