{
 "cells": [
  {
   "cell_type": "code",
   "execution_count": null,
   "metadata": {},
   "outputs": [],
   "source": []
  },
  {
   "cell_type": "code",
   "execution_count": 1,
   "metadata": {},
   "outputs": [],
   "source": [
    "from osgeo import gdal\n",
    "import sys\n",
    "import os\n",
    "import pandas as pd"
   ]
  },
  {
   "cell_type": "code",
   "execution_count": null,
   "metadata": {},
   "outputs": [],
   "source": [
    "# align reselution of ortho (0.2m) and oh (1m)"
   ]
  },
  {
   "cell_type": "code",
   "execution_count": 2,
   "metadata": {},
   "outputs": [],
   "source": [
    "path_ortho = '/media/philipp/ed7d22ba-5a3b-4d31-bf6c-6add6e106b3d/ortho/2018250_bischofshofen_lb_rgbi.img'\n",
    "path_oh = '/media/philipp/ed7d22ba-5a3b-4d31-bf6c-6add6e106b3d/oh/oh.tif'\n",
    "path_out = '/media/philipp/ed7d22ba-5a3b-4d31-bf6c-6add6e106b3d/test/256x256/ortho_1.tif'"
   ]
  },
  {
   "cell_type": "code",
   "execution_count": 3,
   "metadata": {},
   "outputs": [],
   "source": [
    "ds_ortho = gdal.Open(path_ortho)\n",
    "ds_oh = gdal.Open(path_oh)"
   ]
  },
  {
   "cell_type": "code",
   "execution_count": 5,
   "metadata": {},
   "outputs": [
    {
     "name": "stdout",
     "output_type": "stream",
     "text": [
      "Driver: GTiff/GeoTIFF\n",
      "Size is 77473 x 36988 x 1\n",
      "Projection is PROJCS[\"MGI / Austria Lambert\",GEOGCS[\"MGI\",DATUM[\"unnamed\",SPHEROID[\"unnamed\",6377397.155,299.152812800003],AUTHORITY[\"EPSG\",\"6312\"]],PRIMEM[\"Greenwich\",0],UNIT[\"degree\",0.0174532925199433,AUTHORITY[\"EPSG\",\"9122\"]]],PROJECTION[\"Lambert_Conformal_Conic_2SP\"],PARAMETER[\"latitude_of_origin\",47.5],PARAMETER[\"central_meridian\",13.3333333333333],PARAMETER[\"standard_parallel_1\",46],PARAMETER[\"standard_parallel_2\",49],PARAMETER[\"false_easting\",400000],PARAMETER[\"false_northing\",400000],UNIT[\"metre\",1,AUTHORITY[\"EPSG\",\"9001\"]],AXIS[\"Easting\",EAST],AXIS[\"Northing\",NORTH]]\n",
      "Origin = (373758.8101525671, 418695.6451956801)\n",
      "Pixel Size = (0.9999999999999799, -0.99999999999998)\n"
     ]
    }
   ],
   "source": [
    "print(\"Driver: {}/{}\".format(ds_oh.GetDriver().ShortName,\n",
    "                            ds_oh.GetDriver().LongName))\n",
    "print(\"Size is {} x {} x {}\".format(ds_oh.RasterXSize,\n",
    "                                    ds_oh.RasterYSize,\n",
    "                                    ds_oh.RasterCount))\n",
    "print(\"Projection is {}\".format(ds_oh.GetProjection()))\n",
    "geotransform = ds_oh.GetGeoTransform()\n",
    "if geotransform:\n",
    "    print(\"Origin = ({}, {})\".format(geotransform[0], geotransform[3]))\n",
    "    print(\"Pixel Size = ({}, {})\".format(geotransform[1], geotransform[5]))"
   ]
  },
  {
   "cell_type": "code",
   "execution_count": 6,
   "metadata": {},
   "outputs": [
    {
     "data": {
      "text/plain": [
       "<osgeo.gdal.Dataset; proxy of <Swig Object of type 'GDALDatasetShadow *' at 0x7ff6341d8b10> >"
      ]
     },
     "execution_count": 6,
     "metadata": {},
     "output_type": "execute_result"
    }
   ],
   "source": [
    "# aligning to 1m\n",
    "gdal.Warp(path_out, ds_ortho, targetAlignedPixels = True, xRes = geotransform[1], yRes = geotransform[1]) "
   ]
  },
  {
   "cell_type": "code",
   "execution_count": 9,
   "metadata": {},
   "outputs": [
    {
     "name": "stdout",
     "output_type": "stream",
     "text": [
      "Driver: GTiff/GeoTIFF\n",
      "Size is 77475 x 36989 x 4\n",
      "Projection is PROJCS[\"Lambert Conformal Conic\",GEOGCS[\"MGI AT (EPSG:1618)\",DATUM[\"MGI_AT_EPSG_1618\",SPHEROID[\"Bessel\",6377397.155,299.15281310608]],PRIMEM[\"Greenwich\",0],UNIT[\"degree\",0.0174532925199433,AUTHORITY[\"EPSG\",\"9122\"]]],PROJECTION[\"Lambert_Conformal_Conic_2SP\"],PARAMETER[\"latitude_of_origin\",47.5],PARAMETER[\"central_meridian\",13.3333333333333],PARAMETER[\"standard_parallel_1\",49],PARAMETER[\"standard_parallel_2\",46],PARAMETER[\"false_easting\",400000],PARAMETER[\"false_northing\",400000],UNIT[\"metre\",1,AUTHORITY[\"EPSG\",\"9001\"]],AXIS[\"Easting\",EAST],AXIS[\"Northing\",NORTH]]\n",
      "Origin = (373758.8101525671, 418695.6451956801)\n",
      "Pixel Size = (0.9999999999999799, -0.99999999999998)\n"
     ]
    }
   ],
   "source": [
    "path_ortho = '/media/philipp/ed7d22ba-5a3b-4d31-bf6c-6add6e106b3d/test/256x256/ortho_1.tif'\n",
    "ds_ortho = gdal.Open(path_ortho)\n",
    "\n",
    "print(\"Driver: {}/{}\".format(ds_ortho.GetDriver().ShortName,\n",
    "                            ds_ortho.GetDriver().LongName))\n",
    "print(\"Size is {} x {} x {}\".format(ds_ortho.RasterXSize,\n",
    "                                    ds_ortho.RasterYSize,\n",
    "                                    ds_ortho.RasterCount))\n",
    "print(\"Projection is {}\".format(ds_ortho.GetProjection()))\n",
    "geotransform = ds_oh.GetGeoTransform()\n",
    "if geotransform:\n",
    "    print(\"Origin = ({}, {})\".format(geotransform[0], geotransform[3]))\n",
    "    print(\"Pixel Size = ({}, {})\".format(geotransform[1], geotransform[5]))"
   ]
  },
  {
   "cell_type": "code",
   "execution_count": null,
   "metadata": {},
   "outputs": [],
   "source": []
  }
 ],
 "metadata": {
  "kernelspec": {
   "display_name": "geopd",
   "language": "python",
   "name": "geopd"
  },
  "language_info": {
   "codemirror_mode": {
    "name": "ipython",
    "version": 3
   },
   "file_extension": ".py",
   "mimetype": "text/x-python",
   "name": "python",
   "nbconvert_exporter": "python",
   "pygments_lexer": "ipython3",
   "version": "3.7.7"
  }
 },
 "nbformat": 4,
 "nbformat_minor": 4
}
