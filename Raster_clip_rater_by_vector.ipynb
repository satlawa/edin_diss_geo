{
 "cells": [
  {
   "cell_type": "code",
   "execution_count": null,
   "metadata": {},
   "outputs": [],
   "source": []
  },
  {
   "cell_type": "code",
   "execution_count": null,
   "metadata": {},
   "outputs": [],
   "source": []
  },
  {
   "cell_type": "code",
   "execution_count": null,
   "metadata": {},
   "outputs": [],
   "source": [
    "### http://karthur.org/2015/clipping-rasters-in-python.html"
   ]
  },
  {
   "cell_type": "code",
   "execution_count": 15,
   "metadata": {},
   "outputs": [],
   "source": [
    "from osgeo import gdal, gdalnumeric, ogr\n",
    "from PIL import Image, ImageDraw\n",
    "import os, sys\n",
    "import numpy as np\n",
    "\n",
    "def clip_raster(rast, features_path, gt=None, nodata=-9999):\n",
    "    '''\n",
    "    Clips a raster (given as either a gdal.Dataset or as a numpy.array\n",
    "    instance) to a polygon layer provided by a Shapefile (or other vector\n",
    "    layer). If a numpy.array is given, a \"GeoTransform\" must be provided\n",
    "    (via dataset.GetGeoTransform() in GDAL). Returns an array. Clip features\n",
    "    must be a dissolved, single-part geometry (not multi-part). Modified from:\n",
    "\n",
    "    http://pcjericks.github.io/py-gdalogr-cookbook/raster_layers.html\n",
    "    #clip-a-geotiff-with-shapefile\n",
    "\n",
    "    Arguments:\n",
    "        rast            A gdal.Dataset or a NumPy array\n",
    "        features_path   The path to the clipping features\n",
    "        gt              An optional GDAL GeoTransform to use instead\n",
    "        nodata          The NoData value; defaults to -9999.\n",
    "    '''\n",
    "    def array_to_image(a):\n",
    "        '''\n",
    "        Converts a gdalnumeric array to a Python Imaging Library (PIL) Image.\n",
    "        '''\n",
    "        i = Image.fromstring('L',(a.shape[1], a.shape[0]),\n",
    "            (a.astype('b')).tostring())\n",
    "        return i\n",
    "\n",
    "    def image_to_array(i):\n",
    "        '''\n",
    "        Converts a Python Imaging Library (PIL) array to a gdalnumeric image.\n",
    "        '''\n",
    "        a = gdalnumeric.fromstring(i.tobytes(), 'b')\n",
    "        a.shape = i.im.size[1], i.im.size[0]\n",
    "        return a\n",
    "\n",
    "    def world_to_pixel(geo_matrix, x, y):\n",
    "        '''\n",
    "        Uses a gdal geomatrix (gdal.GetGeoTransform()) to calculate\n",
    "        the pixel location of a geospatial coordinate; from:\n",
    "        http://pcjericks.github.io/py-gdalogr-cookbook/raster_layers.html#clip-a-geotiff-with-shapefile\n",
    "        '''\n",
    "        ulX = geo_matrix[0]\n",
    "        ulY = geo_matrix[3]\n",
    "        xDist = geo_matrix[1]\n",
    "        yDist = geo_matrix[5]\n",
    "        rtnX = geo_matrix[2]\n",
    "        rtnY = geo_matrix[4]\n",
    "        pixel = int((x - ulX) / xDist)\n",
    "        line = int((ulY - y) / xDist)\n",
    "        return (pixel, line)\n",
    "\n",
    "    # Can accept either a gdal.Dataset or numpy.array instance\n",
    "    if not isinstance(rast, np.ndarray):\n",
    "        gt = rast.GetGeoTransform()\n",
    "        rast = rast.ReadAsArray()\n",
    "\n",
    "    # Create an OGR layer from a boundary shapefile\n",
    "    features = ogr.Open(features_path)\n",
    "    if features.GetDriver().GetName() == 'ESRI Shapefile':\n",
    "        lyr = features.GetLayer(os.path.split(os.path.splitext(features_path)[0])[1])\n",
    "\n",
    "    else:\n",
    "        lyr = features.GetLayer()\n",
    "\n",
    "    # Get the first feature\n",
    "    poly = lyr.GetNextFeature()\n",
    "\n",
    "    # Convert the layer extent to image pixel coordinates\n",
    "    minX, maxX, minY, maxY = lyr.GetExtent()\n",
    "    ulX, ulY = world_to_pixel(gt, minX, maxY)\n",
    "    lrX, lrY = world_to_pixel(gt, maxX, minY)\n",
    "\n",
    "    # Calculate the pixel size of the new image\n",
    "    pxWidth = int(lrX - ulX)\n",
    "    pxHeight = int(lrY - ulY)\n",
    "\n",
    "    # If the clipping features extend out-of-bounds and ABOVE the raster...\n",
    "    if gt[3] < maxY:\n",
    "        # In such a case... ulY ends up being negative--can't have that!\n",
    "        iY = ulY\n",
    "        ulY = 0\n",
    "\n",
    "    # Multi-band image?\n",
    "    try:\n",
    "        clip = rast[:, ulY:lrY, ulX:lrX]\n",
    "\n",
    "    except IndexError:\n",
    "        clip = rast[ulY:lrY, ulX:lrX]\n",
    "\n",
    "    # Create a new geomatrix for the image\n",
    "    gt2 = list(gt)\n",
    "    gt2[0] = minX\n",
    "    gt2[3] = maxY\n",
    "\n",
    "    # Map points to pixels for drawing the boundary on a blank 8-bit,\n",
    "    #   black and white, mask image.\n",
    "    points = []\n",
    "    pixels = []\n",
    "    geom = poly.GetGeometryRef()\n",
    "    pts = geom.GetGeometryRef(0)\n",
    "\n",
    "    for p in range(pts.GetPointCount()):\n",
    "        points.append((pts.GetX(p), pts.GetY(p)))\n",
    "\n",
    "    for p in points:\n",
    "        pixels.append(world_to_pixel(gt2, p[0], p[1]))\n",
    "\n",
    "    raster_poly = Image.new('L', (pxWidth, pxHeight), 1)\n",
    "    rasterize = ImageDraw.Draw(raster_poly)\n",
    "    rasterize.polygon(pixels, 0) # Fill with zeroes\n",
    "\n",
    "    # If the clipping features extend out-of-bounds and ABOVE the raster...\n",
    "    if gt[3] < maxY:\n",
    "        # The clip features were \"pushed down\" to match the bounds of the\n",
    "        #   raster; this step \"pulls\" them back up\n",
    "        premask = image_to_array(raster_poly)\n",
    "        # We slice out the piece of our clip features that are \"off the map\"\n",
    "        mask = np.ndarray((premask.shape[-2] - abs(iY), premask.shape[-1]), premask.dtype)\n",
    "        mask[:] = premask[abs(iY):, :]\n",
    "        mask.resize(premask.shape) # Then fill in from the bottom\n",
    "\n",
    "        # Most importantly, push the clipped piece down\n",
    "        gt2[3] = maxY - (maxY - gt[3])\n",
    "\n",
    "    else:\n",
    "        mask = image_to_array(raster_poly)\n",
    "\n",
    "    # Clip the image using the mask\n",
    "    try:\n",
    "        clip = gdalnumeric.choose(mask, (clip, nodata))\n",
    "\n",
    "    # If the clipping features extend out-of-bounds and BELOW the raster...\n",
    "    except ValueError:\n",
    "        # We have to cut the clipping features to the raster!\n",
    "        rshp = list(mask.shape)\n",
    "        if mask.shape[-2] != clip.shape[-2]:\n",
    "            rshp[0] = clip.shape[-2]\n",
    "\n",
    "        if mask.shape[-1] != clip.shape[-1]:\n",
    "            rshp[1] = clip.shape[-1]\n",
    "\n",
    "        mask.resize(*rshp, refcheck=False)\n",
    "\n",
    "        clip = gdalnumeric.choose(mask, (clip, nodata))\n",
    "\n",
    "    return (clip, ulX, ulY, gt2)\n"
   ]
  },
  {
   "cell_type": "code",
   "execution_count": 2,
   "metadata": {},
   "outputs": [],
   "source": [
    "raster_path = '/media/philipp/ed7d22ba-5a3b-4d31-bf6c-6add6e106b3d/oh/oh.tif'\n",
    "#'/media/philipp/ed7d22ba-5a3b-4d31-bf6c-6add6e106b3d/ortho/2018250_bischofshofen_lb_rgbi.img'\n",
    "shp_path = '/media/philipp/ed7d22ba-5a3b-4d31-bf6c-6add6e106b3d/test/grid_2/test_grid_1x.shp'"
   ]
  },
  {
   "cell_type": "code",
   "execution_count": null,
   "metadata": {},
   "outputs": [],
   "source": [
    "# Load the source data as a gdalnumeric array\n",
    "srcArray = gdalnumeric.LoadFile(raster_path)\n",
    "\n",
    "# Also load as a gdal image to get geotransform\n",
    "# (world file) info\n",
    "srcImage = gdal.Open(raster_path)"
   ]
  },
  {
   "cell_type": "code",
   "execution_count": 3,
   "metadata": {},
   "outputs": [
    {
     "name": "stderr",
     "output_type": "stream",
     "text": [
      "<ipython-input-1-1d4625184fe2>:35: DeprecationWarning: The binary mode of fromstring is deprecated, as it behaves surprisingly on unicode inputs. Use frombuffer instead\n",
      "  a = gdalnumeric.fromstring(i.tobytes(), 'b')\n"
     ]
    }
   ],
   "source": [
    "# Load the source data as a gdalnumeric array\n",
    "raster = gdal.Open(raster_path)\n",
    "\n",
    "clip, ulX, ulY, gt2 = clip_raster(raster, shp_path, gt=None, nodata=-9999)"
   ]
  },
  {
   "cell_type": "code",
   "execution_count": 6,
   "metadata": {},
   "outputs": [
    {
     "data": {
      "text/plain": [
       "[396151.0700034943,\n",
       " 0.9999999999999799,\n",
       " 0.0,\n",
       " 386719.9152037557,\n",
       " 0.0,\n",
       " -0.99999999999998]"
      ]
     },
     "execution_count": 6,
     "metadata": {},
     "output_type": "execute_result"
    }
   ],
   "source": [
    "gt2"
   ]
  },
  {
   "cell_type": "code",
   "execution_count": null,
   "metadata": {},
   "outputs": [],
   "source": [
    "dst_ds.SetGeoTransform([444720, 30, 0, 3751320, 0, -30 ])\n",
    "srs = osr.SpatialReference()\n",
    "srs.SetUTM( 11, 1 )\n",
    "srs.SetWellKnownGeogCS( 'NAD27' )\n",
    "dst_ds.SetProjection( srs.ExportToWkt() )\n",
    "raster = numpy.zeros( (512, 512) )\n",
    "dst_ds.GetRasterBand(1).WriteArray( raster )"
   ]
  },
  {
   "cell_type": "code",
   "execution_count": null,
   "metadata": {},
   "outputs": [],
   "source": [
    "driver = gdal.GetDriverByName( 'GTiff' )\n",
    "dst_filename = 'x_tmp.tif'\n",
    "dst_ds = driver.Create(dst_filename,400,400,1,gdal.GDT_Float32)\n",
    "dst_ds.SetGeoTransform(gt2)\n",
    "dst_ds.GetRasterBand(1).WriteArray(clip)\n",
    "dst_ds.FlushCache()  # Write to disk."
   ]
  },
  {
   "cell_type": "code",
   "execution_count": null,
   "metadata": {},
   "outputs": [],
   "source": []
  },
  {
   "cell_type": "code",
   "execution_count": null,
   "metadata": {},
   "outputs": [],
   "source": []
  },
  {
   "cell_type": "code",
   "execution_count": 16,
   "metadata": {},
   "outputs": [
    {
     "ename": "NameError",
     "evalue": "name 'OpenArray' is not defined",
     "output_type": "error",
     "traceback": [
      "\u001b[0;31m---------------------------------------------------------------------------\u001b[0m",
      "\u001b[0;31mNameError\u001b[0m                                 Traceback (most recent call last)",
      "\u001b[0;32m<ipython-input-16-4e7f7de2f1ec>\u001b[0m in \u001b[0;36m<module>\u001b[0;34m\u001b[0m\n\u001b[1;32m      3\u001b[0m     \u001b[0;32mraise\u001b[0m \u001b[0mValueError\u001b[0m\u001b[0;34m(\u001b[0m\u001b[0;34m\"Can't find GeoTiff Driver\"\u001b[0m\u001b[0;34m)\u001b[0m\u001b[0;34m\u001b[0m\u001b[0;34m\u001b[0m\u001b[0m\n\u001b[1;32m      4\u001b[0m gtiffDriver.CreateCopy( \"OUTPUT.tif\",\n\u001b[0;32m----> 5\u001b[0;31m     \u001b[0mOpenArray\u001b[0m\u001b[0;34m(\u001b[0m \u001b[0mclip\u001b[0m\u001b[0;34m,\u001b[0m \u001b[0mprototype_ds\u001b[0m\u001b[0;34m=\u001b[0m\u001b[0mraster_path\u001b[0m\u001b[0;34m,\u001b[0m \u001b[0mxoff\u001b[0m\u001b[0;34m=\u001b[0m\u001b[0mulX\u001b[0m\u001b[0;34m,\u001b[0m \u001b[0myoff\u001b[0m\u001b[0;34m=\u001b[0m\u001b[0mulY\u001b[0m \u001b[0;34m)\u001b[0m\u001b[0;34m\u001b[0m\u001b[0;34m\u001b[0m\u001b[0m\n\u001b[0m\u001b[1;32m      6\u001b[0m )\n",
      "\u001b[0;31mNameError\u001b[0m: name 'OpenArray' is not defined"
     ]
    }
   ],
   "source": [
    "gtiffDriver = gdal.GetDriverByName( 'GTiff' )\n",
    "if gtiffDriver is None:\n",
    "    raise ValueError(\"Can't find GeoTiff Driver\")\n",
    "gtiffDriver.CreateCopy( \"OUTPUT.tif\",\n",
    "    OpenArray( clip, prototype_ds=raster_path, xoff=ulX, yoff=ulY )\n",
    ")"
   ]
  },
  {
   "cell_type": "code",
   "execution_count": null,
   "metadata": {},
   "outputs": [],
   "source": [
    "gtiffDriver = gdal.GetDriverByName( 'GTiff' )\n",
    "if gtiffDriver is None:\n",
    "    raise ValueError(\"Can't find GeoTiff Driver\")\n",
    "gtiffDriver.Create( \"OUTPUT.tif\", "
   ]
  },
  {
   "cell_type": "code",
   "execution_count": 12,
   "metadata": {},
   "outputs": [],
   "source": [
    "from osgeo import gdal\n",
    "from osgeo import osr\n",
    "\n",
    "def GetGeoInfo(FileName):\n",
    "    SourceDS = gdal.Open(FileName)\n",
    "    GeoT = SourceDS.GetGeoTransform()\n",
    "    Projection = osr.SpatialReference()\n",
    "    Projection.ImportFromWkt(SourceDS.GetProjectionRef())    \n",
    "    return GeoT, Projection\n",
    "\n",
    "def array_to_raster(array):\n",
    "    \"\"\"Array > Raster\n",
    "    Save a raster from a C order array.\n",
    "\n",
    "    :param array: ndarray\n",
    "    \"\"\"\n",
    "    dst_filename = '/a_file/name.tiff'\n",
    "\n",
    "\n",
    "    # You need to get those values like you did.\n",
    "    x_pixels = 16  # number of pixels in x\n",
    "    y_pixels = 16  # number of pixels in y\n",
    "    PIXEL_SIZE = 3  # size of the pixel...        \n",
    "    x_min = 553648  \n",
    "    y_max = 7784555  # x_min & y_max are like the \"top left\" corner.\n",
    "    wkt_projection = 'a projection in wkt that you got from other file'\n",
    "\n",
    "    driver = gdal.GetDriverByName('GTiff')\n",
    "\n",
    "    dataset = driver.Create(\n",
    "        dst_filename,\n",
    "        x_pixels,\n",
    "        y_pixels,\n",
    "        1,\n",
    "        gdal.GDT_Float32, )\n",
    "\n",
    "    dataset.SetGeoTransform((\n",
    "        x_min,    # 0\n",
    "        PIXEL_SIZE,  # 1\n",
    "        0,                      # 2\n",
    "        y_max,    # 3\n",
    "        0,                      # 4\n",
    "        -PIXEL_SIZE))  \n",
    "\n",
    "    dataset.SetProjection(wkt_projection)\n",
    "    dataset.GetRasterBand(1).WriteArray(array)\n",
    "    dataset.FlushCache()  # Write to disk.\n",
    "    return dataset, dataset.GetRasterBand(1)  #If you need to return, remenber to return  also the dataset because the band don`t live without dataset"
   ]
  },
  {
   "cell_type": "code",
   "execution_count": 13,
   "metadata": {},
   "outputs": [
    {
     "data": {
      "text/plain": [
       "((373758.8101525671,\n",
       "  0.9999999999999799,\n",
       "  0.0,\n",
       "  418695.6451956801,\n",
       "  0.0,\n",
       "  -0.99999999999998),\n",
       " <osgeo.osr.SpatialReference; proxy of <Swig Object of type 'OSRSpatialReferenceShadow *' at 0x7f1778618600> >)"
      ]
     },
     "execution_count": 13,
     "metadata": {},
     "output_type": "execute_result"
    }
   ],
   "source": [
    "GetGeoInfo('/media/philipp/ed7d22ba-5a3b-4d31-bf6c-6add6e106b3d/oh/oh.tif')"
   ]
  },
  {
   "cell_type": "code",
   "execution_count": null,
   "metadata": {},
   "outputs": [],
   "source": []
  }
 ],
 "metadata": {
  "kernelspec": {
   "display_name": "geo",
   "language": "python",
   "name": "geo"
  },
  "language_info": {
   "codemirror_mode": {
    "name": "ipython",
    "version": 3
   },
   "file_extension": ".py",
   "mimetype": "text/x-python",
   "name": "python",
   "nbconvert_exporter": "python",
   "pygments_lexer": "ipython3",
   "version": "3.8.4"
  }
 },
 "nbformat": 4,
 "nbformat_minor": 4
}
