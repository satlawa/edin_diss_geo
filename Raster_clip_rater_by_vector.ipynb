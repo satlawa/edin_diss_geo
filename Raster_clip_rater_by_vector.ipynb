{
 "cells": [
  {
   "cell_type": "code",
   "execution_count": null,
   "metadata": {},
   "outputs": [],
   "source": []
  },
  {
   "cell_type": "code",
   "execution_count": null,
   "metadata": {},
   "outputs": [],
   "source": []
  },
  {
   "cell_type": "code",
   "execution_count": 1,
   "metadata": {},
   "outputs": [],
   "source": [
    "### http://karthur.org/2015/clipping-rasters-in-python.html"
   ]
  },
  {
   "cell_type": "code",
   "execution_count": 2,
   "metadata": {},
   "outputs": [],
   "source": [
    "from osgeo import gdal, gdalnumeric, ogr\n",
    "from PIL import Image, ImageDraw\n",
    "import os, sys\n",
    "import numpy as np\n",
    "\n",
    "def clip_raster(rast, features_path, gt=None, nodata=-9999):\n",
    "    '''\n",
    "    Clips a raster (given as either a gdal.Dataset or as a numpy.array\n",
    "    instance) to a polygon layer provided by a Shapefile (or other vector\n",
    "    layer). If a numpy.array is given, a \"GeoTransform\" must be provided\n",
    "    (via dataset.GetGeoTransform() in GDAL). Returns an array. Clip features\n",
    "    must be a dissolved, single-part geometry (not multi-part). Modified from:\n",
    "\n",
    "    http://pcjericks.github.io/py-gdalogr-cookbook/raster_layers.html\n",
    "    #clip-a-geotiff-with-shapefile\n",
    "\n",
    "    Arguments:\n",
    "        rast            A gdal.Dataset or a NumPy array\n",
    "        features_path   The path to the clipping features\n",
    "        gt              An optional GDAL GeoTransform to use instead\n",
    "        nodata          The NoData value; defaults to -9999.\n",
    "    '''\n",
    "    def array_to_image(a):\n",
    "        '''\n",
    "        Converts a gdalnumeric array to a Python Imaging Library (PIL) Image.\n",
    "        '''\n",
    "        i = Image.fromstring('L',(a.shape[1], a.shape[0]),\n",
    "            (a.astype('b')).tostring())\n",
    "        return i\n",
    "\n",
    "    def image_to_array(i):\n",
    "        '''\n",
    "        Converts a Python Imaging Library (PIL) array to a gdalnumeric image.\n",
    "        '''\n",
    "        a = gdalnumeric.fromstring(i.tobytes(), 'b')\n",
    "        a.shape = i.im.size[1], i.im.size[0]\n",
    "        return a\n",
    "\n",
    "    def world_to_pixel(geo_matrix, x, y):\n",
    "        '''\n",
    "        Uses a gdal geomatrix (gdal.GetGeoTransform()) to calculate\n",
    "        the pixel location of a geospatial coordinate; from:\n",
    "        http://pcjericks.github.io/py-gdalogr-cookbook/raster_layers.html#clip-a-geotiff-with-shapefile\n",
    "        '''\n",
    "        ulX = geo_matrix[0]\n",
    "        ulY = geo_matrix[3]\n",
    "        xDist = geo_matrix[1]\n",
    "        yDist = geo_matrix[5]\n",
    "        rtnX = geo_matrix[2]\n",
    "        rtnY = geo_matrix[4]\n",
    "        pixel = int((x - ulX) / xDist)\n",
    "        line = int((ulY - y) / xDist)\n",
    "        return (pixel, line)\n",
    "\n",
    "    # Can accept either a gdal.Dataset or numpy.array instance\n",
    "    if not isinstance(rast, np.ndarray):\n",
    "        gt = rast.GetGeoTransform()\n",
    "        rast = rast.ReadAsArray()\n",
    "\n",
    "    # Create an OGR layer from a boundary shapefile\n",
    "    features = ogr.Open(features_path)\n",
    "    if features.GetDriver().GetName() == 'ESRI Shapefile':\n",
    "        lyr = features.GetLayer(os.path.split(os.path.splitext(features_path)[0])[1])\n",
    "\n",
    "    else:\n",
    "        lyr = features.GetLayer()\n",
    "\n",
    "    # Get the first feature\n",
    "    poly = lyr.GetNextFeature()\n",
    "\n",
    "    # Convert the layer extent to image pixel coordinates\n",
    "    minX, maxX, minY, maxY = lyr.GetExtent()\n",
    "    ulX, ulY = world_to_pixel(gt, minX, maxY)\n",
    "    lrX, lrY = world_to_pixel(gt, maxX, minY)\n",
    "\n",
    "    # Calculate the pixel size of the new image\n",
    "    pxWidth = int(lrX - ulX)\n",
    "    pxHeight = int(lrY - ulY)\n",
    "\n",
    "    # If the clipping features extend out-of-bounds and ABOVE the raster...\n",
    "    if gt[3] < maxY:\n",
    "        # In such a case... ulY ends up being negative--can't have that!\n",
    "        iY = ulY\n",
    "        ulY = 0\n",
    "\n",
    "    # Multi-band image?\n",
    "    try:\n",
    "        clip = rast[:, ulY:lrY, ulX:lrX]\n",
    "\n",
    "    except IndexError:\n",
    "        clip = rast[ulY:lrY, ulX:lrX]\n",
    "\n",
    "    # Create a new geomatrix for the image\n",
    "    gt2 = list(gt)\n",
    "    gt2[0] = minX\n",
    "    gt2[3] = maxY\n",
    "\n",
    "    # Map points to pixels for drawing the boundary on a blank 8-bit,\n",
    "    #   black and white, mask image.\n",
    "    points = []\n",
    "    pixels = []\n",
    "    geom = poly.GetGeometryRef()\n",
    "    pts = geom.GetGeometryRef(0)\n",
    "\n",
    "    for p in range(pts.GetPointCount()):\n",
    "        points.append((pts.GetX(p), pts.GetY(p)))\n",
    "\n",
    "    for p in points:\n",
    "        pixels.append(world_to_pixel(gt2, p[0], p[1]))\n",
    "\n",
    "    raster_poly = Image.new('L', (pxWidth, pxHeight), 1)\n",
    "    rasterize = ImageDraw.Draw(raster_poly)\n",
    "    rasterize.polygon(pixels, 0) # Fill with zeroes\n",
    "\n",
    "    # If the clipping features extend out-of-bounds and ABOVE the raster...\n",
    "    if gt[3] < maxY:\n",
    "        # The clip features were \"pushed down\" to match the bounds of the\n",
    "        #   raster; this step \"pulls\" them back up\n",
    "        premask = image_to_array(raster_poly)\n",
    "        # We slice out the piece of our clip features that are \"off the map\"\n",
    "        mask = np.ndarray((premask.shape[-2] - abs(iY), premask.shape[-1]), premask.dtype)\n",
    "        mask[:] = premask[abs(iY):, :]\n",
    "        mask.resize(premask.shape) # Then fill in from the bottom\n",
    "\n",
    "        # Most importantly, push the clipped piece down\n",
    "        gt2[3] = maxY - (maxY - gt[3])\n",
    "\n",
    "    else:\n",
    "        mask = image_to_array(raster_poly)\n",
    "\n",
    "    # Clip the image using the mask\n",
    "    try:\n",
    "        clip = gdalnumeric.choose(mask, (clip, nodata))\n",
    "\n",
    "    # If the clipping features extend out-of-bounds and BELOW the raster...\n",
    "    except ValueError:\n",
    "        # We have to cut the clipping features to the raster!\n",
    "        rshp = list(mask.shape)\n",
    "        if mask.shape[-2] != clip.shape[-2]:\n",
    "            rshp[0] = clip.shape[-2]\n",
    "\n",
    "        if mask.shape[-1] != clip.shape[-1]:\n",
    "            rshp[1] = clip.shape[-1]\n",
    "\n",
    "        mask.resize(*rshp, refcheck=False)\n",
    "\n",
    "        clip = gdalnumeric.choose(mask, (clip, nodata))\n",
    "\n",
    "    return (clip, ulX, ulY, gt2)\n"
   ]
  },
  {
   "cell_type": "code",
   "execution_count": 4,
   "metadata": {},
   "outputs": [],
   "source": [
    "#raster_path = '/media/philipp/ed7d22ba-5a3b-4d31-bf6c-6add6e106b3d/oh/oh.tif'\n",
    "raster_path = '/media/philipp/ed7d22ba-5a3b-4d31-bf6c-6add6e106b3d/test/256x256/ortho_1.tif'\n",
    "#'/media/philipp/ed7d22ba-5a3b-4d31-bf6c-6add6e106b3d/ortho/2018250_bischofshofen_lb_rgbi.img'\n",
    "shp_path = '/media/philipp/ed7d22ba-5a3b-4d31-bf6c-6add6e106b3d/test/rater_clip/test_256.shp'"
   ]
  },
  {
   "cell_type": "code",
   "execution_count": 5,
   "metadata": {},
   "outputs": [],
   "source": [
    "# Load the source data as a gdalnumeric array\n",
    "#srcArray = gdalnumeric.LoadFile(raster_path)\n",
    "\n",
    "# Also load as a gdal image to get geotransform\n",
    "# (world file) info\n",
    "srcImage = gdal.Open(raster_path)"
   ]
  },
  {
   "cell_type": "code",
   "execution_count": 6,
   "metadata": {},
   "outputs": [
    {
     "name": "stderr",
     "output_type": "stream",
     "text": [
      "<ipython-input-2-04f6c83ce52d>:35: DeprecationWarning: The binary mode of fromstring is deprecated, as it behaves surprisingly on unicode inputs. Use frombuffer instead\n",
      "  a = gdalnumeric.fromstring(i.tobytes(), 'b')\n"
     ]
    }
   ],
   "source": [
    "clip, ulX, ulY, gt2 = clip_raster(srcImage, shp_path, gt=None, nodata=-9999)"
   ]
  },
  {
   "cell_type": "code",
   "execution_count": 7,
   "metadata": {},
   "outputs": [
    {
     "data": {
      "text/plain": [
       "<osgeo.gdal.Dataset; proxy of <Swig Object of type 'GDALDatasetShadow *' at 0x7ffa9d67eb40> >"
      ]
     },
     "execution_count": 7,
     "metadata": {},
     "output_type": "execute_result"
    }
   ],
   "source": [
    "#gdalnumeric.SaveArray(clip, \"OUTPUT.tif\", format=\"GTiff\", prototype=raster_path)"
   ]
  },
  {
   "cell_type": "code",
   "execution_count": 10,
   "metadata": {},
   "outputs": [
    {
     "data": {
      "text/plain": [
       "(4, 260, 260)"
      ]
     },
     "execution_count": 10,
     "metadata": {},
     "output_type": "execute_result"
    }
   ],
   "source": [
    "clip.shape"
   ]
  },
  {
   "cell_type": "code",
   "execution_count": 15,
   "metadata": {},
   "outputs": [
    {
     "data": {
      "text/plain": [
       "260"
      ]
     },
     "execution_count": 15,
     "metadata": {},
     "output_type": "execute_result"
    }
   ],
   "source": [
    "clip.shape[1]"
   ]
  },
  {
   "cell_type": "code",
   "execution_count": null,
   "metadata": {},
   "outputs": [],
   "source": []
  },
  {
   "cell_type": "code",
   "execution_count": 8,
   "metadata": {},
   "outputs": [],
   "source": [
    "dst_filename = 'xxx_oh.tiff'\n",
    "x_pixels = clip.shape[0]  # number of pixels in x\n",
    "y_pixels = clip.shape[1]  # number of pixels in y\n",
    "driver = gdal.GetDriverByName('GTiff')\n",
    "dataset = driver.Create(dst_filename,x_pixels, y_pixels, 1,gdal.GDT_Float32)\n",
    "dataset.GetRasterBand(1).WriteArray(clip)\n",
    "\n",
    "# follow code is adding GeoTranform and Projection\n",
    "#geotrans=srcImage.GetGeoTransform()  #get GeoTranform from existed 'data0'\n",
    "proj=srcImage.GetProjection() #you can get from a exsited tif or import \n",
    "dataset.SetGeoTransform(gt2)\n",
    "dataset.SetProjection(proj)\n",
    "dataset.FlushCache()\n",
    "dataset=None"
   ]
  },
  {
   "cell_type": "code",
   "execution_count": 16,
   "metadata": {},
   "outputs": [],
   "source": [
    "dst_filename = 'xxx_ortho.tiff'\n",
    "x_pixels = clip.shape[1]  # number of pixels in x\n",
    "y_pixels = clip.shape[2]  # number of pixels in y\n",
    "driver = gdal.GetDriverByName('GTiff')\n",
    "dataset = driver.Create(dst_filename, x_pixels, y_pixels, clip.shape[0], gdal.GDT_Byte)\n",
    "for i in range(clip.shape[0]):\n",
    "    dataset.GetRasterBand(i+1).WriteArray(clip[i])\n",
    "\n",
    "# follow code is adding GeoTranform and Projection\n",
    "#geotrans=srcImage.GetGeoTransform()  #get GeoTranform from existed 'data0'\n",
    "proj=srcImage.GetProjection() #you can get from a exsited tif or import \n",
    "dataset.SetGeoTransform(gt2)\n",
    "dataset.SetProjection(proj)\n",
    "dataset.FlushCache()\n",
    "dataset=None"
   ]
  },
  {
   "cell_type": "code",
   "execution_count": 18,
   "metadata": {},
   "outputs": [
    {
     "data": {
      "text/plain": [
       "array([[[ 54,  54,  51, ...,  66,  76,  84],\n",
       "        [ 61,  63,  68, ...,  50,  49,  92],\n",
       "        [ 66,  72,  68, ...,  44,  45,  42],\n",
       "        ...,\n",
       "        [ 69,  91,  81, ...,  77,  74,  72],\n",
       "        [ 64,  64,  71, ..., 105, 115, 111],\n",
       "        [ 68,  64,  70, ..., 117, 102, 110]],\n",
       "\n",
       "       [[ 58,  57,  56, ...,  70,  84,  90],\n",
       "        [ 64,  64,  70, ...,  53,  49, 104],\n",
       "        [ 68,  77,  73, ...,  49,  48,  47],\n",
       "        ...,\n",
       "        [ 72,  95,  80, ...,  76,  75,  73],\n",
       "        [ 68,  68,  73, ..., 108, 119, 115],\n",
       "        [ 74,  69,  75, ..., 130, 103, 118]],\n",
       "\n",
       "       [[ 57,  56,  54, ...,  62,  69,  69],\n",
       "        [ 60,  58,  66, ...,  50,  44,  82],\n",
       "        [ 58,  67,  64, ...,  48,  47,  42],\n",
       "        ...,\n",
       "        [ 61,  76,  61, ...,  62,  57,  55],\n",
       "        [ 60,  58,  56, ...,  78,  91,  80],\n",
       "        [ 65,  61,  62, ..., 100,  80,  92]],\n",
       "\n",
       "       [[124, 120, 112, ..., 153, 176, 184],\n",
       "        [153, 150, 156, ..., 116, 127, 188],\n",
       "        [166, 172, 167, ...,  80,  87,  96],\n",
       "        ...,\n",
       "        [181, 205, 196, ..., 179, 179, 180],\n",
       "        [174, 182, 188, ..., 205, 214, 212],\n",
       "        [176, 177, 185, ..., 216, 207, 213]]], dtype=uint8)"
      ]
     },
     "execution_count": 18,
     "metadata": {},
     "output_type": "execute_result"
    }
   ],
   "source": [
    "clip"
   ]
  },
  {
   "cell_type": "code",
   "execution_count": null,
   "metadata": {},
   "outputs": [],
   "source": []
  }
 ],
 "metadata": {
  "kernelspec": {
   "display_name": "geo",
   "language": "python",
   "name": "geo"
  },
  "language_info": {
   "codemirror_mode": {
    "name": "ipython",
    "version": 3
   },
   "file_extension": ".py",
   "mimetype": "text/x-python",
   "name": "python",
   "nbconvert_exporter": "python",
   "pygments_lexer": "ipython3",
   "version": "3.8.4"
  }
 },
 "nbformat": 4,
 "nbformat_minor": 4
}
