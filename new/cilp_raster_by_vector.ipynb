{
 "cells": [
  {
   "cell_type": "code",
   "execution_count": null,
   "metadata": {},
   "outputs": [],
   "source": [
    "# clip tiles"
   ]
  },
  {
   "cell_type": "code",
   "execution_count": 1,
   "metadata": {},
   "outputs": [],
   "source": [
    "import os\n",
    "import sys\n",
    "import geopandas\n",
    "import pandas as pd\n",
    "try:\n",
    "    from osgeo import ogr, osr, gdal\n",
    "except:\n",
    "    sys.exit('ERROR: cannot find GDAL/OGR modules')"
   ]
  },
  {
   "cell_type": "code",
   "execution_count": null,
   "metadata": {},
   "outputs": [],
   "source": []
  },
  {
   "cell_type": "code",
   "execution_count": 13,
   "metadata": {},
   "outputs": [],
   "source": [
    "grid = geopandas.read_file('/home/philipp/Data/edin_diss/GIS_meta/overlap_grid/overlap_03_nordburgenland_suedburgenland_grid.shp')"
   ]
  },
  {
   "cell_type": "code",
   "execution_count": 14,
   "metadata": {},
   "outputs": [
    {
     "data": {
      "text/html": [
       "<div>\n",
       "<style scoped>\n",
       "    .dataframe tbody tr th:only-of-type {\n",
       "        vertical-align: middle;\n",
       "    }\n",
       "\n",
       "    .dataframe tbody tr th {\n",
       "        vertical-align: top;\n",
       "    }\n",
       "\n",
       "    .dataframe thead th {\n",
       "        text-align: right;\n",
       "    }\n",
       "</style>\n",
       "<table border=\"1\" class=\"dataframe\">\n",
       "  <thead>\n",
       "    <tr style=\"text-align: right;\">\n",
       "      <th></th>\n",
       "      <th>id</th>\n",
       "      <th>left</th>\n",
       "      <th>top</th>\n",
       "      <th>right</th>\n",
       "      <th>bottom</th>\n",
       "      <th>geometry</th>\n",
       "    </tr>\n",
       "  </thead>\n",
       "  <tbody>\n",
       "    <tr>\n",
       "      <th>0</th>\n",
       "      <td>1.0</td>\n",
       "      <td>598540.814451</td>\n",
       "      <td>434188.171883</td>\n",
       "      <td>600588.814451</td>\n",
       "      <td>432140.171883</td>\n",
       "      <td>POLYGON ((598540.814 434188.172, 600588.814 43...</td>\n",
       "    </tr>\n",
       "    <tr>\n",
       "      <th>1</th>\n",
       "      <td>2.0</td>\n",
       "      <td>598540.814451</td>\n",
       "      <td>432140.171883</td>\n",
       "      <td>600588.814451</td>\n",
       "      <td>430092.171883</td>\n",
       "      <td>POLYGON ((598540.814 432140.172, 600588.814 43...</td>\n",
       "    </tr>\n",
       "    <tr>\n",
       "      <th>2</th>\n",
       "      <td>3.0</td>\n",
       "      <td>598540.814451</td>\n",
       "      <td>430092.171883</td>\n",
       "      <td>600588.814451</td>\n",
       "      <td>428044.171883</td>\n",
       "      <td>POLYGON ((598540.814 430092.172, 600588.814 43...</td>\n",
       "    </tr>\n",
       "    <tr>\n",
       "      <th>3</th>\n",
       "      <td>4.0</td>\n",
       "      <td>598540.814451</td>\n",
       "      <td>428044.171883</td>\n",
       "      <td>600588.814451</td>\n",
       "      <td>425996.171883</td>\n",
       "      <td>POLYGON ((598540.814 428044.172, 600588.814 42...</td>\n",
       "    </tr>\n",
       "    <tr>\n",
       "      <th>4</th>\n",
       "      <td>5.0</td>\n",
       "      <td>598540.814451</td>\n",
       "      <td>425996.171883</td>\n",
       "      <td>600588.814451</td>\n",
       "      <td>423948.171883</td>\n",
       "      <td>POLYGON ((598540.814 425996.172, 600588.814 42...</td>\n",
       "    </tr>\n",
       "  </tbody>\n",
       "</table>\n",
       "</div>"
      ],
      "text/plain": [
       "    id           left            top          right         bottom  \\\n",
       "0  1.0  598540.814451  434188.171883  600588.814451  432140.171883   \n",
       "1  2.0  598540.814451  432140.171883  600588.814451  430092.171883   \n",
       "2  3.0  598540.814451  430092.171883  600588.814451  428044.171883   \n",
       "3  4.0  598540.814451  428044.171883  600588.814451  425996.171883   \n",
       "4  5.0  598540.814451  425996.171883  600588.814451  423948.171883   \n",
       "\n",
       "                                            geometry  \n",
       "0  POLYGON ((598540.814 434188.172, 600588.814 43...  \n",
       "1  POLYGON ((598540.814 432140.172, 600588.814 43...  \n",
       "2  POLYGON ((598540.814 430092.172, 600588.814 43...  \n",
       "3  POLYGON ((598540.814 428044.172, 600588.814 42...  \n",
       "4  POLYGON ((598540.814 425996.172, 600588.814 42...  "
      ]
     },
     "execution_count": 14,
     "metadata": {},
     "output_type": "execute_result"
    }
   ],
   "source": [
    "i = 0\n",
    "grid.head()"
   ]
  },
  {
   "cell_type": "code",
   "execution_count": 15,
   "metadata": {},
   "outputs": [],
   "source": [
    "extend = grid.loc[i,'geometry'].bounds"
   ]
  },
  {
   "cell_type": "code",
   "execution_count": 16,
   "metadata": {},
   "outputs": [
    {
     "data": {
      "text/plain": [
       "(598540.8144514622, 432140.1718825997, 600588.8144514622, 434188.1718825997)"
      ]
     },
     "execution_count": 16,
     "metadata": {},
     "output_type": "execute_result"
    }
   ],
   "source": [
    "extend"
   ]
  },
  {
   "cell_type": "code",
   "execution_count": 17,
   "metadata": {},
   "outputs": [
    {
     "data": {
      "text/plain": [
       "598540.8144514622"
      ]
     },
     "execution_count": 17,
     "metadata": {},
     "output_type": "execute_result"
    }
   ],
   "source": [
    "extend[0]"
   ]
  },
  {
   "cell_type": "code",
   "execution_count": 2,
   "metadata": {},
   "outputs": [
    {
     "data": {
      "text/plain": [
       "True"
      ]
     },
     "execution_count": 2,
     "metadata": {},
     "output_type": "execute_result"
    }
   ],
   "source": [
    "os.path.isfile('/media/philipp/Seagate Desktop Drive/2017/2017360_mariazell_lb_rgbi.img') "
   ]
  },
  {
   "cell_type": "code",
   "execution_count": 8,
   "metadata": {},
   "outputs": [],
   "source": [
    "path_raster = '/media/philipp/Elements/2019/2019150_nordburgenland_lb_rgbi.img'\n",
    "path_out = \"/media/philipp/DATA/color_corr_matrix/01_nordburgenland_wien/overlap_{}.tif\".format(i)\n",
    "\n",
    "bashCommand = \"gdal_translate -projwin {} {} {} {} -a_nodata 0.0 -of GTiff {} {}\".format(extend[0], extend[3], extend[2], extend[1], path_raster, path_out)"
   ]
  },
  {
   "cell_type": "code",
   "execution_count": 9,
   "metadata": {},
   "outputs": [
    {
     "data": {
      "text/plain": [
       "'gdal_translate -projwin 596339.2880734366 462082.3724556746 598387.2880734366 460034.3724556746 -a_nodata 0.0 -of GTiff /media/philipp/Elements/2019/2019150_nordburgenland_lb_rgbi.img /media/philipp/DATA/color_corr_matrix/02_nordburgenland_mariazell/overlap_0.tif'"
      ]
     },
     "execution_count": 9,
     "metadata": {},
     "output_type": "execute_result"
    }
   ],
   "source": [
    "bashCommand"
   ]
  },
  {
   "cell_type": "code",
   "execution_count": 10,
   "metadata": {},
   "outputs": [
    {
     "data": {
      "text/plain": [
       "0"
      ]
     },
     "execution_count": 10,
     "metadata": {},
     "output_type": "execute_result"
    }
   ],
   "source": [
    "os.system(bashCommand)"
   ]
  },
  {
   "cell_type": "code",
   "execution_count": 23,
   "metadata": {},
   "outputs": [
    {
     "data": {
      "text/plain": [
       "True"
      ]
     },
     "execution_count": 23,
     "metadata": {},
     "output_type": "execute_result"
    }
   ],
   "source": [
    "os.path.isfile(path_raster)"
   ]
  },
  {
   "cell_type": "code",
   "execution_count": null,
   "metadata": {},
   "outputs": [],
   "source": []
  },
  {
   "cell_type": "code",
   "execution_count": 18,
   "metadata": {},
   "outputs": [
    {
     "name": "stdout",
     "output_type": "stream",
     "text": [
      "finished grid nr. 0\n",
      "finished grid nr. 1\n",
      "finished grid nr. 2\n",
      "finished grid nr. 3\n",
      "finished grid nr. 4\n",
      "finished grid nr. 5\n",
      "finished grid nr. 6\n",
      "finished grid nr. 7\n",
      "finished grid nr. 8\n",
      "finished grid nr. 9\n",
      "finished grid nr. 10\n",
      "finished grid nr. 11\n",
      "finished grid nr. 12\n",
      "finished grid nr. 13\n",
      "finished grid nr. 14\n",
      "finished grid nr. 15\n",
      "finished grid nr. 16\n",
      "finished grid nr. 17\n",
      "finished grid nr. 18\n",
      "finished grid nr. 19\n",
      "finished grid nr. 20\n",
      "finished grid nr. 21\n",
      "finished grid nr. 22\n",
      "finished grid nr. 23\n",
      "finished grid nr. 24\n",
      "finished grid nr. 25\n",
      "finished grid nr. 26\n",
      "finished grid nr. 27\n",
      "finished grid nr. 28\n",
      "finished grid nr. 29\n",
      "finished grid nr. 30\n",
      "finished grid nr. 31\n",
      "finished grid nr. 32\n",
      "finished grid nr. 33\n",
      "finished grid nr. 34\n",
      "finished grid nr. 35\n",
      "finished grid nr. 36\n",
      "finished grid nr. 37\n",
      "finished grid nr. 38\n",
      "finished grid nr. 39\n",
      "finished grid nr. 40\n",
      "finished grid nr. 41\n",
      "finished grid nr. 42\n",
      "finished grid nr. 43\n",
      "finished grid nr. 44\n",
      "finished grid nr. 45\n",
      "finished grid nr. 46\n",
      "finished grid nr. 47\n",
      "finished grid nr. 48\n",
      "finished grid nr. 49\n",
      "finished grid nr. 50\n",
      "finished grid nr. 51\n",
      "finished grid nr. 52\n",
      "finished grid nr. 53\n",
      "finished grid nr. 54\n",
      "finished grid nr. 55\n",
      "finished grid nr. 56\n",
      "finished grid nr. 57\n",
      "finished grid nr. 58\n",
      "finished grid nr. 59\n",
      "finished grid nr. 60\n",
      "finished grid nr. 61\n",
      "finished grid nr. 62\n",
      "finished grid nr. 63\n",
      "finished grid nr. 64\n",
      "finished grid nr. 65\n",
      "finished grid nr. 66\n",
      "finished grid nr. 67\n",
      "finished grid nr. 68\n",
      "finished grid nr. 69\n",
      "finished grid nr. 70\n",
      "finished grid nr. 71\n",
      "finished grid nr. 72\n",
      "finished grid nr. 73\n",
      "finished grid nr. 74\n",
      "finished grid nr. 75\n",
      "finished grid nr. 76\n",
      "finished grid nr. 77\n",
      "finished grid nr. 78\n",
      "finished grid nr. 79\n",
      "finished grid nr. 80\n",
      "finished grid nr. 81\n",
      "finished grid nr. 82\n",
      "finished grid nr. 83\n",
      "finished grid nr. 84\n",
      "finished grid nr. 85\n",
      "finished grid nr. 86\n",
      "finished grid nr. 87\n",
      "finished grid nr. 88\n",
      "finished grid nr. 89\n",
      "finished grid nr. 90\n",
      "finished grid nr. 91\n",
      "finished grid nr. 92\n",
      "finished grid nr. 93\n",
      "finished grid nr. 94\n",
      "finished grid nr. 95\n",
      "finished grid nr. 96\n",
      "finished grid nr. 97\n",
      "finished grid nr. 98\n",
      "finished grid nr. 99\n",
      "finished grid nr. 100\n",
      "finished grid nr. 101\n",
      "finished grid nr. 102\n",
      "finished grid nr. 103\n",
      "finished grid nr. 104\n",
      "finished grid nr. 105\n",
      "finished grid nr. 106\n",
      "finished grid nr. 107\n",
      "finished grid nr. 108\n",
      "finished grid nr. 109\n",
      "finished grid nr. 110\n",
      "finished grid nr. 111\n",
      "finished grid nr. 112\n",
      "finished grid nr. 113\n",
      "finished grid nr. 114\n",
      "finished grid nr. 115\n",
      "finished grid nr. 116\n",
      "finished grid nr. 117\n",
      "finished grid nr. 118\n",
      "finished grid nr. 119\n",
      "finished grid nr. 120\n",
      "finished grid nr. 121\n",
      "finished grid nr. 122\n",
      "finished grid nr. 123\n",
      "finished grid nr. 124\n",
      "finished grid nr. 125\n",
      "finished grid nr. 126\n",
      "finished grid nr. 127\n",
      "finished grid nr. 128\n",
      "finished grid nr. 129\n",
      "finished grid nr. 130\n",
      "finished grid nr. 131\n",
      "finished grid nr. 132\n",
      "finished grid nr. 133\n",
      "finished grid nr. 134\n",
      "finished grid nr. 135\n",
      "finished grid nr. 136\n",
      "finished grid nr. 137\n",
      "finished grid nr. 138\n",
      "finished grid nr. 139\n",
      "finished grid nr. 140\n",
      "finished grid nr. 141\n",
      "finished grid nr. 142\n",
      "finished grid nr. 143\n",
      "finished grid nr. 144\n",
      "finished grid nr. 145\n",
      "finished grid nr. 146\n",
      "finished grid nr. 147\n",
      "finished grid nr. 148\n",
      "finished grid nr. 149\n",
      "finished grid nr. 150\n",
      "finished grid nr. 151\n",
      "finished grid nr. 152\n",
      "finished grid nr. 153\n",
      "finished grid nr. 154\n",
      "finished grid nr. 155\n",
      "finished grid nr. 156\n",
      "finished grid nr. 157\n",
      "finished grid nr. 158\n",
      "finished grid nr. 159\n",
      "finished grid nr. 160\n",
      "finished grid nr. 161\n",
      "finished grid nr. 162\n",
      "finished grid nr. 163\n",
      "finished grid nr. 164\n",
      "finished grid nr. 165\n",
      "finished grid nr. 166\n",
      "finished grid nr. 167\n",
      "finished grid nr. 168\n",
      "finished grid nr. 169\n",
      "finished grid nr. 170\n",
      "finished grid nr. 171\n",
      "finished grid nr. 172\n",
      "finished grid nr. 173\n",
      "finished grid nr. 174\n",
      "finished grid nr. 175\n",
      "finished grid nr. 176\n",
      "finished grid nr. 177\n",
      "finished grid nr. 178\n",
      "finished grid nr. 179\n"
     ]
    }
   ],
   "source": [
    "for i in range(grid.shape[0]):\n",
    "    extend = grid.loc[i,'geometry'].bounds\n",
    "    \n",
    "    path_raster = '/media/philipp/Elements/2019/2019150_nordburgenland_lb_rgbi.img'\n",
    "    path_out = \"/media/philipp/DATA/color_corr_matrix/03_nordburgenland_suedburgenland/overlap_{}.tif\".format(i)\n",
    "\n",
    "    bashCommand = \"gdal_translate -projwin {} {} {} {} -a_nodata 0.0 -of GTiff {} {}\".format(extend[0], extend[3], extend[2], extend[1], path_raster, path_out)\n",
    "    os.system(bashCommand)\n",
    "    \n",
    "    print(\"finished grid nr. {}\".format(i))"
   ]
  },
  {
   "cell_type": "code",
   "execution_count": null,
   "metadata": {},
   "outputs": [],
   "source": []
  }
 ],
 "metadata": {
  "kernelspec": {
   "display_name": "geo",
   "language": "python",
   "name": "geo"
  },
  "language_info": {
   "codemirror_mode": {
    "name": "ipython",
    "version": 3
   },
   "file_extension": ".py",
   "mimetype": "text/x-python",
   "name": "python",
   "nbconvert_exporter": "python",
   "pygments_lexer": "ipython3",
   "version": "3.8.2"
  }
 },
 "nbformat": 4,
 "nbformat_minor": 4
}
