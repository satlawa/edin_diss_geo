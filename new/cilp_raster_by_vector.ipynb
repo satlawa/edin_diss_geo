{
 "cells": [
  {
   "cell_type": "code",
   "execution_count": null,
   "metadata": {},
   "outputs": [],
   "source": []
  },
  {
   "cell_type": "code",
   "execution_count": 34,
   "metadata": {},
   "outputs": [],
   "source": [
    "import os\n",
    "import sys\n",
    "import geopandas\n",
    "import pandas as pd\n",
    "try:\n",
    "    from osgeo import ogr, osr, gdal\n",
    "except:\n",
    "    sys.exit('ERROR: cannot find GDAL/OGR modules')"
   ]
  },
  {
   "cell_type": "code",
   "execution_count": 35,
   "metadata": {},
   "outputs": [],
   "source": [
    "grid = geopandas.read_file('/home/philipp/Data/edin_diss/GIS_grid/GIS_grid_fin.shp')"
   ]
  },
  {
   "cell_type": "code",
   "execution_count": 12,
   "metadata": {},
   "outputs": [],
   "source": [
    "grid = geopandas.read_file('/home/philipp/Data/edin_diss/GIS_grid/2018_wien/GIS_grid_ortho.shp')"
   ]
  },
  {
   "cell_type": "code",
   "execution_count": 13,
   "metadata": {},
   "outputs": [
    {
     "data": {
      "text/html": [
       "<div>\n",
       "<style scoped>\n",
       "    .dataframe tbody tr th:only-of-type {\n",
       "        vertical-align: middle;\n",
       "    }\n",
       "\n",
       "    .dataframe tbody tr th {\n",
       "        vertical-align: top;\n",
       "    }\n",
       "\n",
       "    .dataframe thead th {\n",
       "        text-align: right;\n",
       "    }\n",
       "</style>\n",
       "<table border=\"1\" class=\"dataframe\">\n",
       "  <thead>\n",
       "    <tr style=\"text-align: right;\">\n",
       "      <th></th>\n",
       "      <th>id</th>\n",
       "      <th>left</th>\n",
       "      <th>top</th>\n",
       "      <th>right</th>\n",
       "      <th>bottom</th>\n",
       "      <th>geometry</th>\n",
       "    </tr>\n",
       "  </thead>\n",
       "  <tbody>\n",
       "    <tr>\n",
       "      <th>0</th>\n",
       "      <td>10893027.0</td>\n",
       "      <td>595479.5</td>\n",
       "      <td>472624.7152</td>\n",
       "      <td>595582.5</td>\n",
       "      <td>472521.7152</td>\n",
       "      <td>POLYGON ((595479.500 472624.715, 595582.500 47...</td>\n",
       "    </tr>\n",
       "    <tr>\n",
       "      <th>1</th>\n",
       "      <td>10893028.0</td>\n",
       "      <td>595479.5</td>\n",
       "      <td>472522.0152</td>\n",
       "      <td>595582.5</td>\n",
       "      <td>472419.0152</td>\n",
       "      <td>POLYGON ((595479.500 472522.015, 595582.500 47...</td>\n",
       "    </tr>\n",
       "    <tr>\n",
       "      <th>2</th>\n",
       "      <td>10893029.0</td>\n",
       "      <td>595479.5</td>\n",
       "      <td>472419.3152</td>\n",
       "      <td>595582.5</td>\n",
       "      <td>472316.3152</td>\n",
       "      <td>POLYGON ((595479.500 472419.315, 595582.500 47...</td>\n",
       "    </tr>\n",
       "    <tr>\n",
       "      <th>3</th>\n",
       "      <td>10893030.0</td>\n",
       "      <td>595479.5</td>\n",
       "      <td>472316.6152</td>\n",
       "      <td>595582.5</td>\n",
       "      <td>472213.6152</td>\n",
       "      <td>POLYGON ((595479.500 472316.615, 595582.500 47...</td>\n",
       "    </tr>\n",
       "    <tr>\n",
       "      <th>4</th>\n",
       "      <td>10893031.0</td>\n",
       "      <td>595479.5</td>\n",
       "      <td>472213.9152</td>\n",
       "      <td>595582.5</td>\n",
       "      <td>472110.9152</td>\n",
       "      <td>POLYGON ((595479.500 472213.915, 595582.500 47...</td>\n",
       "    </tr>\n",
       "  </tbody>\n",
       "</table>\n",
       "</div>"
      ],
      "text/plain": [
       "           id      left          top     right       bottom  \\\n",
       "0  10893027.0  595479.5  472624.7152  595582.5  472521.7152   \n",
       "1  10893028.0  595479.5  472522.0152  595582.5  472419.0152   \n",
       "2  10893029.0  595479.5  472419.3152  595582.5  472316.3152   \n",
       "3  10893030.0  595479.5  472316.6152  595582.5  472213.6152   \n",
       "4  10893031.0  595479.5  472213.9152  595582.5  472110.9152   \n",
       "\n",
       "                                            geometry  \n",
       "0  POLYGON ((595479.500 472624.715, 595582.500 47...  \n",
       "1  POLYGON ((595479.500 472522.015, 595582.500 47...  \n",
       "2  POLYGON ((595479.500 472419.315, 595582.500 47...  \n",
       "3  POLYGON ((595479.500 472316.615, 595582.500 47...  \n",
       "4  POLYGON ((595479.500 472213.915, 595582.500 47...  "
      ]
     },
     "execution_count": 13,
     "metadata": {},
     "output_type": "execute_result"
    }
   ],
   "source": [
    "grid.head()"
   ]
  },
  {
   "cell_type": "code",
   "execution_count": 27,
   "metadata": {},
   "outputs": [],
   "source": [
    "extend = grid.loc[1000,'geometry'].bounds"
   ]
  },
  {
   "cell_type": "code",
   "execution_count": 28,
   "metadata": {},
   "outputs": [
    {
     "data": {
      "text/plain": [
       "(597944.2999997132, 471186.61519993, 598047.2999997132, 471289.61519993)"
      ]
     },
     "execution_count": 28,
     "metadata": {},
     "output_type": "execute_result"
    }
   ],
   "source": [
    "extend"
   ]
  },
  {
   "cell_type": "code",
   "execution_count": 29,
   "metadata": {},
   "outputs": [
    {
     "data": {
      "text/plain": [
       "597944.2999997132"
      ]
     },
     "execution_count": 29,
     "metadata": {},
     "output_type": "execute_result"
    }
   ],
   "source": [
    "extend[0]"
   ]
  },
  {
   "cell_type": "code",
   "execution_count": 31,
   "metadata": {},
   "outputs": [],
   "source": [
    "path_raster = '/media/philipp/Elements/2018/wien/2018460_wien_lb_rgbi.img'\n",
    "path_out = \"/home/philipp/Data/edin_diss/new.tif\"\n",
    "\n",
    "bashCommand = \"gdal_translate -projwin {} {} {} {} -a_nodata 0.0 -of GTiff {} {}\".format(extend[0], extend[3], extend[2], extend[1], path_raster, path_out)"
   ]
  },
  {
   "cell_type": "code",
   "execution_count": 32,
   "metadata": {},
   "outputs": [
    {
     "data": {
      "text/plain": [
       "'gdal_translate -projwin 597944.2999997132 471289.61519993 598047.2999997132 471186.61519993 -a_nodata 0.0 -of GTiff /media/philipp/Elements/2018/wien/2018460_wien_lb_rgbi.img /home/philipp/Data/edin_diss/new.tif'"
      ]
     },
     "execution_count": 32,
     "metadata": {},
     "output_type": "execute_result"
    }
   ],
   "source": [
    "bashCommand"
   ]
  },
  {
   "cell_type": "code",
   "execution_count": 33,
   "metadata": {},
   "outputs": [
    {
     "data": {
      "text/plain": [
       "0"
      ]
     },
     "execution_count": 33,
     "metadata": {},
     "output_type": "execute_result"
    }
   ],
   "source": [
    "os.system(bashCommand)"
   ]
  },
  {
   "cell_type": "code",
   "execution_count": 23,
   "metadata": {},
   "outputs": [
    {
     "data": {
      "text/plain": [
       "True"
      ]
     },
     "execution_count": 23,
     "metadata": {},
     "output_type": "execute_result"
    }
   ],
   "source": [
    "os.path.isfile(path_raster)"
   ]
  },
  {
   "cell_type": "code",
   "execution_count": null,
   "metadata": {},
   "outputs": [],
   "source": []
  }
 ],
 "metadata": {
  "kernelspec": {
   "display_name": "geo",
   "language": "python",
   "name": "geo"
  },
  "language_info": {
   "codemirror_mode": {
    "name": "ipython",
    "version": 3
   },
   "file_extension": ".py",
   "mimetype": "text/x-python",
   "name": "python",
   "nbconvert_exporter": "python",
   "pygments_lexer": "ipython3",
   "version": "3.8.2"
  }
 },
 "nbformat": 4,
 "nbformat_minor": 4
}
