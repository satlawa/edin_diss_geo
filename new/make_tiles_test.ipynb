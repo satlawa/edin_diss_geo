{
 "cells": [
  {
   "cell_type": "code",
   "execution_count": null,
   "metadata": {},
   "outputs": [],
   "source": []
  },
  {
   "cell_type": "code",
   "execution_count": 1,
   "metadata": {},
   "outputs": [],
   "source": [
    "from DataTiles import DataTiles"
   ]
  },
  {
   "cell_type": "code",
   "execution_count": 2,
   "metadata": {},
   "outputs": [
    {
     "name": "stdout",
     "output_type": "stream",
     "text": [
      "provided output path found\n",
      "provided grid file found\n"
     ]
    }
   ],
   "source": [
    "path_grid = \"/home/philipp/Data/edin_diss/GIS_grid/GIS_grid_fin.shp\"\n",
    "path_out_dir = \"/media/philipp/DATA/2017_mariazell_6_7_8\"\n",
    "tiles = DataTiles(path_grid, path_out_dir)"
   ]
  },
  {
   "cell_type": "code",
   "execution_count": 3,
   "metadata": {},
   "outputs": [
    {
     "data": {
      "text/html": [
       "<div>\n",
       "<style scoped>\n",
       "    .dataframe tbody tr th:only-of-type {\n",
       "        vertical-align: middle;\n",
       "    }\n",
       "\n",
       "    .dataframe tbody tr th {\n",
       "        vertical-align: top;\n",
       "    }\n",
       "\n",
       "    .dataframe thead th {\n",
       "        text-align: right;\n",
       "    }\n",
       "</style>\n",
       "<table border=\"1\" class=\"dataframe\">\n",
       "  <thead>\n",
       "    <tr style=\"text-align: right;\">\n",
       "      <th></th>\n",
       "      <th>id</th>\n",
       "      <th>left</th>\n",
       "      <th>top</th>\n",
       "      <th>right</th>\n",
       "      <th>bottom</th>\n",
       "      <th>geometry</th>\n",
       "    </tr>\n",
       "  </thead>\n",
       "  <tbody>\n",
       "    <tr>\n",
       "      <th>0</th>\n",
       "      <td>0</td>\n",
       "      <td>161058.5</td>\n",
       "      <td>356984.5152</td>\n",
       "      <td>161161.5</td>\n",
       "      <td>356881.5152</td>\n",
       "      <td>POLYGON ((161058.500 356984.515, 161161.500 35...</td>\n",
       "    </tr>\n",
       "    <tr>\n",
       "      <th>1</th>\n",
       "      <td>1</td>\n",
       "      <td>161058.5</td>\n",
       "      <td>356881.8152</td>\n",
       "      <td>161161.5</td>\n",
       "      <td>356778.8152</td>\n",
       "      <td>POLYGON ((161058.500 356881.815, 161161.500 35...</td>\n",
       "    </tr>\n",
       "    <tr>\n",
       "      <th>2</th>\n",
       "      <td>2</td>\n",
       "      <td>161058.5</td>\n",
       "      <td>356779.1152</td>\n",
       "      <td>161161.5</td>\n",
       "      <td>356676.1152</td>\n",
       "      <td>POLYGON ((161058.500 356779.115, 161161.500 35...</td>\n",
       "    </tr>\n",
       "    <tr>\n",
       "      <th>3</th>\n",
       "      <td>3</td>\n",
       "      <td>161161.2</td>\n",
       "      <td>356984.5152</td>\n",
       "      <td>161264.2</td>\n",
       "      <td>356881.5152</td>\n",
       "      <td>POLYGON ((161161.200 356984.515, 161264.200 35...</td>\n",
       "    </tr>\n",
       "    <tr>\n",
       "      <th>4</th>\n",
       "      <td>4</td>\n",
       "      <td>161161.2</td>\n",
       "      <td>356881.8152</td>\n",
       "      <td>161264.2</td>\n",
       "      <td>356778.8152</td>\n",
       "      <td>POLYGON ((161161.200 356881.815, 161264.200 35...</td>\n",
       "    </tr>\n",
       "    <tr>\n",
       "      <th>...</th>\n",
       "      <td>...</td>\n",
       "      <td>...</td>\n",
       "      <td>...</td>\n",
       "      <td>...</td>\n",
       "      <td>...</td>\n",
       "      <td>...</td>\n",
       "    </tr>\n",
       "    <tr>\n",
       "      <th>352837</th>\n",
       "      <td>352837</td>\n",
       "      <td>648370.0</td>\n",
       "      <td>457219.7152</td>\n",
       "      <td>648473.0</td>\n",
       "      <td>457116.7152</td>\n",
       "      <td>POLYGON ((648370.000 457219.715, 648473.000 45...</td>\n",
       "    </tr>\n",
       "    <tr>\n",
       "      <th>352838</th>\n",
       "      <td>352838</td>\n",
       "      <td>648370.0</td>\n",
       "      <td>457117.0152</td>\n",
       "      <td>648473.0</td>\n",
       "      <td>457014.0152</td>\n",
       "      <td>POLYGON ((648370.000 457117.015, 648473.000 45...</td>\n",
       "    </tr>\n",
       "    <tr>\n",
       "      <th>352839</th>\n",
       "      <td>352839</td>\n",
       "      <td>648370.0</td>\n",
       "      <td>457014.3152</td>\n",
       "      <td>648473.0</td>\n",
       "      <td>456911.3152</td>\n",
       "      <td>POLYGON ((648370.000 457014.315, 648473.000 45...</td>\n",
       "    </tr>\n",
       "    <tr>\n",
       "      <th>352840</th>\n",
       "      <td>352840</td>\n",
       "      <td>648370.0</td>\n",
       "      <td>456808.9152</td>\n",
       "      <td>648473.0</td>\n",
       "      <td>456705.9152</td>\n",
       "      <td>POLYGON ((648370.000 456808.915, 648473.000 45...</td>\n",
       "    </tr>\n",
       "    <tr>\n",
       "      <th>352841</th>\n",
       "      <td>352841</td>\n",
       "      <td>648370.0</td>\n",
       "      <td>456706.2152</td>\n",
       "      <td>648473.0</td>\n",
       "      <td>456603.2152</td>\n",
       "      <td>POLYGON ((648370.000 456706.215, 648473.000 45...</td>\n",
       "    </tr>\n",
       "  </tbody>\n",
       "</table>\n",
       "<p>352842 rows × 6 columns</p>\n",
       "</div>"
      ],
      "text/plain": [
       "            id      left          top     right       bottom  \\\n",
       "0            0  161058.5  356984.5152  161161.5  356881.5152   \n",
       "1            1  161058.5  356881.8152  161161.5  356778.8152   \n",
       "2            2  161058.5  356779.1152  161161.5  356676.1152   \n",
       "3            3  161161.2  356984.5152  161264.2  356881.5152   \n",
       "4            4  161161.2  356881.8152  161264.2  356778.8152   \n",
       "...        ...       ...          ...       ...          ...   \n",
       "352837  352837  648370.0  457219.7152  648473.0  457116.7152   \n",
       "352838  352838  648370.0  457117.0152  648473.0  457014.0152   \n",
       "352839  352839  648370.0  457014.3152  648473.0  456911.3152   \n",
       "352840  352840  648370.0  456808.9152  648473.0  456705.9152   \n",
       "352841  352841  648370.0  456706.2152  648473.0  456603.2152   \n",
       "\n",
       "                                                 geometry  \n",
       "0       POLYGON ((161058.500 356984.515, 161161.500 35...  \n",
       "1       POLYGON ((161058.500 356881.815, 161161.500 35...  \n",
       "2       POLYGON ((161058.500 356779.115, 161161.500 35...  \n",
       "3       POLYGON ((161161.200 356984.515, 161264.200 35...  \n",
       "4       POLYGON ((161161.200 356881.815, 161264.200 35...  \n",
       "...                                                   ...  \n",
       "352837  POLYGON ((648370.000 457219.715, 648473.000 45...  \n",
       "352838  POLYGON ((648370.000 457117.015, 648473.000 45...  \n",
       "352839  POLYGON ((648370.000 457014.315, 648473.000 45...  \n",
       "352840  POLYGON ((648370.000 456808.915, 648473.000 45...  \n",
       "352841  POLYGON ((648370.000 456706.215, 648473.000 45...  \n",
       "\n",
       "[352842 rows x 6 columns]"
      ]
     },
     "execution_count": 3,
     "metadata": {},
     "output_type": "execute_result"
    }
   ],
   "source": [
    "tiles.grid"
   ]
  },
  {
   "cell_type": "code",
   "execution_count": 4,
   "metadata": {},
   "outputs": [],
   "source": [
    "tiles.clip_grid(extend=(553447.3900000005960464, 432354.7151999995112419, 579917.2500000000000000, 415309.3352000005543232))"
   ]
  },
  {
   "cell_type": "code",
   "execution_count": 5,
   "metadata": {},
   "outputs": [],
   "source": [
    "#path_raster = \"/media/philipp/Elements/2019/2019470_zillertal_lb_rgbi.img\"\n",
    "#path_raster = \"/media/philipp/Elements/GIS_dsm/Oberhoehen_2020/Rasterdaten/171/FB171_ndsm.tif\"\n",
    "path_raster = \"/media/philipp/Seagate\\ Desktop\\ Drive/2017/2017360_mariazell_lb_rgbi.img\"\n",
    "#path_raster = \"/media/philipp/Seagate Desktop Drive/2017/2017360_mariazell_lb_rgbi.img\""
   ]
  },
  {
   "cell_type": "code",
   "execution_count": 6,
   "metadata": {},
   "outputs": [],
   "source": [
    "#tiles.clip_grid(raster_path=path_raster)"
   ]
  },
  {
   "cell_type": "code",
   "execution_count": 7,
   "metadata": {},
   "outputs": [
    {
     "name": "stdout",
     "output_type": "stream",
     "text": [
      "=========================================\n",
      "starting creation of tiles\n",
      "Progress: 0%\n",
      "Progress: 10%\n",
      "Progress: 20%\n",
      "Progress: 30%\n",
      "Progress: 40%\n",
      "Progress: 50%\n",
      "Progress: 60%\n",
      "Progress: 70%\n",
      "Progress: 80%\n",
      "Progress: 90%\n",
      "Progress: 100%\n",
      "finished creation of tiles\n",
      "=========================================\n",
      "CPU times: user 5.47 s, sys: 1.56 s, total: 7.03 s\n",
      "Wall time: 2h 31min 27s\n"
     ]
    }
   ],
   "source": [
    "%%time\n",
    "tiles.make_tiles(path_raster, 'ortho')#'dsm')"
   ]
  },
  {
   "cell_type": "code",
   "execution_count": null,
   "metadata": {},
   "outputs": [],
   "source": []
  },
  {
   "cell_type": "code",
   "execution_count": 1,
   "metadata": {},
   "outputs": [
    {
     "name": "stdout",
     "output_type": "stream",
     "text": [
      "True\n"
     ]
    },
    {
     "data": {
      "text/plain": [
       "True"
      ]
     },
     "execution_count": 1,
     "metadata": {},
     "output_type": "execute_result"
    }
   ],
   "source": [
    "import os\n",
    "\n",
    "# Extent\n",
    "extend=(373758.1807780060917139,\\\n",
    "346719.2047037770971656,\\\n",
    "376258.0838622150477022,\\\n",
    "383707.5496682192897424)\n",
    "\n",
    "#path_raster = \"/media/philipp/Elements/2018/zell_am_see/2018470_zell_am_see_lb_rgbi.img\"\n",
    "path_raster = \"/media/philipp/Seagate Desktop Drive/2018/2018360_tamsweg_lb_rgbi.img\"\n",
    "print(os.path.isfile(path_raster))\n",
    "\n",
    "path_out = \"/media/philipp/DATA/color_corr_matrix/overlap_tamsweg_zell_am_see.tif\"\n",
    "os.path.exists(\"/media/philipp/DATA/color_corr_matrix\")"
   ]
  },
  {
   "cell_type": "code",
   "execution_count": 2,
   "metadata": {},
   "outputs": [
    {
     "data": {
      "text/plain": [
       "(373758.1807780061, 346719.2047037771, 376258.08386221505, 383707.5496682193)"
      ]
     },
     "execution_count": 2,
     "metadata": {},
     "output_type": "execute_result"
    }
   ],
   "source": [
    "extend"
   ]
  },
  {
   "cell_type": "code",
   "execution_count": 7,
   "metadata": {},
   "outputs": [
    {
     "data": {
      "text/plain": [
       "256"
      ]
     },
     "execution_count": 7,
     "metadata": {},
     "output_type": "execute_result"
    }
   ],
   "source": [
    "# construct command\n",
    "bashCommand = \"gdal_translate -projwin {} {} {} {} -a_nodata 0.0 -of GTiff {} {}\".format(extend[0], extend[1], extend[2], extend[3], path_raster, path_out)\n",
    "# execute command\n",
    "os.system(bashCommand)"
   ]
  },
  {
   "cell_type": "code",
   "execution_count": 6,
   "metadata": {},
   "outputs": [
    {
     "data": {
      "text/plain": [
       "(373758.1807780061, 383707.5496682193, 451233.9807780061, 346718.7496682193)"
      ]
     },
     "execution_count": 6,
     "metadata": {},
     "output_type": "execute_result"
    }
   ],
   "source": [
    "tiles.get_extend(path_raster)"
   ]
  },
  {
   "cell_type": "code",
   "execution_count": null,
   "metadata": {},
   "outputs": [],
   "source": []
  }
 ],
 "metadata": {
  "kernelspec": {
   "display_name": "geo",
   "language": "python",
   "name": "geo"
  },
  "language_info": {
   "codemirror_mode": {
    "name": "ipython",
    "version": 3
   },
   "file_extension": ".py",
   "mimetype": "text/x-python",
   "name": "python",
   "nbconvert_exporter": "python",
   "pygments_lexer": "ipython3",
   "version": "3.8.2"
  }
 },
 "nbformat": 4,
 "nbformat_minor": 4
}
