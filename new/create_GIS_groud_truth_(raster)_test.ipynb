{
 "cells": [
  {
   "cell_type": "code",
   "execution_count": null,
   "metadata": {},
   "outputs": [],
   "source": []
  },
  {
   "cell_type": "code",
   "execution_count": 1,
   "metadata": {},
   "outputs": [],
   "source": [
    "import sys\n",
    "import os\n",
    "\n",
    "import geopandas as gpd\n",
    "import pandas as pd\n",
    "\n",
    "from osgeo import gdal\n",
    "#from pyproj import CRS"
   ]
  },
  {
   "cell_type": "markdown",
   "metadata": {},
   "source": [
    "## create ground truth"
   ]
  },
  {
   "cell_type": "code",
   "execution_count": 16,
   "metadata": {},
   "outputs": [],
   "source": [
    "path_tif = '/home/philipp/Data/edin_dataset/ortho/tile_ortho_3.tif'"
   ]
  },
  {
   "cell_type": "code",
   "execution_count": 17,
   "metadata": {},
   "outputs": [],
   "source": [
    "def get_extend(file_path):\n",
    "    src = gdal.Open(file_path)\n",
    "    ulx, xres, xskew, uly, yskew, yres  = src.GetGeoTransform()\n",
    "    lrx = ulx + (src.RasterXSize * xres)\n",
    "    lry = uly + (src.RasterYSize * yres)\n",
    "    return(ulx,uly,lrx,lry)"
   ]
  },
  {
   "cell_type": "code",
   "execution_count": 18,
   "metadata": {},
   "outputs": [],
   "source": [
    "c0, c3, c2, c1 = get_extend(path_tif)"
   ]
  },
  {
   "cell_type": "code",
   "execution_count": null,
   "metadata": {},
   "outputs": [],
   "source": [
    "# load raw vector with geometry: WO | data: df=1 no_df=0\n",
    "db_data = gpd.read_file(\"/home/philipp/Data/edin_diss/GIS_ground_truth/typ_2018/gis_typ_wwie_2018.shp\")"
   ]
  },
  {
   "cell_type": "code",
   "execution_count": null,
   "metadata": {},
   "outputs": [],
   "source": [
    "c2"
   ]
  },
  {
   "cell_type": "code",
   "execution_count": null,
   "metadata": {},
   "outputs": [],
   "source": [
    "# pixel resolution\n",
    "#pixel = 0.2000000000000000111\n",
    "pixel = 0.2\n",
    "\n",
    "# boundries\n",
    "#c0 = x.left\n",
    "#c1 = x.bottom\n",
    "#c2 = x.right\n",
    "#c3 = x.top\n",
    "\n",
    "#\n",
    "name = \"gis_typ_wwie_2018\"\n",
    "name_layer = \"typ\"\n",
    "path_shp = \"/home/philipp/Data/edin_diss/GIS_ground_truth/typ_2018/\" + name + \".shp\"\n",
    "path_out = \"/home/philipp/Data/edin_diss/test_typ.tif\""
   ]
  },
  {
   "cell_type": "code",
   "execution_count": 15,
   "metadata": {},
   "outputs": [
    {
     "data": {
      "text/plain": [
       "0"
      ]
     },
     "execution_count": 15,
     "metadata": {},
     "output_type": "execute_result"
    }
   ],
   "source": [
    "# create string for bash command\n",
    "bashCommand = \"gdal_rasterize -l \" + name + \" -a \" + name_layer + \" -tr \" + str(pixel) + \" \" + str(pixel) + \\\n",
    "\" -a_nodata 0.0 -te \" + str(c0) + \" \" + str(c1) + \" \" + str(c2) + \" \" + str(c3) + \\\n",
    "\" -ot Byte -of GTiff \" + path_shp + \" \" + path_out\n",
    "\n",
    "# execute bash command\n",
    "os.system(bashCommand)"
   ]
  },
  {
   "cell_type": "code",
   "execution_count": null,
   "metadata": {},
   "outputs": [],
   "source": [
    "# create roads"
   ]
  },
  {
   "cell_type": "code",
   "execution_count": 3,
   "metadata": {},
   "outputs": [],
   "source": [
    "# load raw vector data\n",
    "db_data = gpd.read_file(\"/media/philipp/ed7d22ba-5a3b-4d31-bf6c-6add6e106b3d/test/256x256/1m/ground_truth_roads/gt_roads.shp\")"
   ]
  },
  {
   "cell_type": "code",
   "execution_count": 2,
   "metadata": {},
   "outputs": [],
   "source": [
    "grid = gpd.read_file(\"/media/philipp/ed7d22ba-5a3b-4d31-bf6c-6add6e106b3d/test/256x256/1m/grid_256_fin_clip.shp\")"
   ]
  },
  {
   "cell_type": "code",
   "execution_count": 3,
   "metadata": {},
   "outputs": [
    {
     "data": {
      "text/html": [
       "<div>\n",
       "<style scoped>\n",
       "    .dataframe tbody tr th:only-of-type {\n",
       "        vertical-align: middle;\n",
       "    }\n",
       "\n",
       "    .dataframe tbody tr th {\n",
       "        vertical-align: top;\n",
       "    }\n",
       "\n",
       "    .dataframe thead th {\n",
       "        text-align: right;\n",
       "    }\n",
       "</style>\n",
       "<table border=\"1\" class=\"dataframe\">\n",
       "  <thead>\n",
       "    <tr style=\"text-align: right;\">\n",
       "      <th></th>\n",
       "      <th>id</th>\n",
       "      <th>left</th>\n",
       "      <th>top</th>\n",
       "      <th>right</th>\n",
       "      <th>bottom</th>\n",
       "      <th>area</th>\n",
       "      <th>geometry</th>\n",
       "    </tr>\n",
       "  </thead>\n",
       "  <tbody>\n",
       "    <tr>\n",
       "      <th>0</th>\n",
       "      <td>865700.0</td>\n",
       "      <td>373903.070003</td>\n",
       "      <td>397777.915204</td>\n",
       "      <td>374163.070003</td>\n",
       "      <td>397517.915204</td>\n",
       "      <td>67600.0</td>\n",
       "      <td>POLYGON ((373903.070 397777.915, 374163.070 39...</td>\n",
       "    </tr>\n",
       "    <tr>\n",
       "      <th>1</th>\n",
       "      <td>865701.0</td>\n",
       "      <td>373903.070003</td>\n",
       "      <td>397519.915204</td>\n",
       "      <td>374163.070003</td>\n",
       "      <td>397259.915204</td>\n",
       "      <td>67600.0</td>\n",
       "      <td>POLYGON ((373903.070 397519.915, 374163.070 39...</td>\n",
       "    </tr>\n",
       "    <tr>\n",
       "      <th>2</th>\n",
       "      <td>865702.0</td>\n",
       "      <td>373903.070003</td>\n",
       "      <td>397261.915204</td>\n",
       "      <td>374163.070003</td>\n",
       "      <td>397001.915204</td>\n",
       "      <td>67600.0</td>\n",
       "      <td>POLYGON ((373903.070 397261.915, 374163.070 39...</td>\n",
       "    </tr>\n",
       "    <tr>\n",
       "      <th>3</th>\n",
       "      <td>865703.0</td>\n",
       "      <td>373903.070003</td>\n",
       "      <td>397003.915204</td>\n",
       "      <td>374163.070003</td>\n",
       "      <td>396743.915204</td>\n",
       "      <td>67600.0</td>\n",
       "      <td>POLYGON ((373903.070 397003.915, 374163.070 39...</td>\n",
       "    </tr>\n",
       "    <tr>\n",
       "      <th>4</th>\n",
       "      <td>865704.0</td>\n",
       "      <td>373903.070003</td>\n",
       "      <td>396745.915204</td>\n",
       "      <td>374163.070003</td>\n",
       "      <td>396485.915204</td>\n",
       "      <td>67600.0</td>\n",
       "      <td>POLYGON ((373903.070 396745.915, 374163.070 39...</td>\n",
       "    </tr>\n",
       "  </tbody>\n",
       "</table>\n",
       "</div>"
      ],
      "text/plain": [
       "         id           left            top          right         bottom  \\\n",
       "0  865700.0  373903.070003  397777.915204  374163.070003  397517.915204   \n",
       "1  865701.0  373903.070003  397519.915204  374163.070003  397259.915204   \n",
       "2  865702.0  373903.070003  397261.915204  374163.070003  397001.915204   \n",
       "3  865703.0  373903.070003  397003.915204  374163.070003  396743.915204   \n",
       "4  865704.0  373903.070003  396745.915204  374163.070003  396485.915204   \n",
       "\n",
       "      area                                           geometry  \n",
       "0  67600.0  POLYGON ((373903.070 397777.915, 374163.070 39...  \n",
       "1  67600.0  POLYGON ((373903.070 397519.915, 374163.070 39...  \n",
       "2  67600.0  POLYGON ((373903.070 397261.915, 374163.070 39...  \n",
       "3  67600.0  POLYGON ((373903.070 397003.915, 374163.070 39...  \n",
       "4  67600.0  POLYGON ((373903.070 396745.915, 374163.070 39...  "
      ]
     },
     "execution_count": 3,
     "metadata": {},
     "output_type": "execute_result"
    }
   ],
   "source": [
    "grid.loc[:4]"
   ]
  },
  {
   "cell_type": "code",
   "execution_count": 12,
   "metadata": {},
   "outputs": [
    {
     "name": "stdout",
     "output_type": "stream",
     "text": [
      "0 373903.0700034943\n",
      "1 373903.0700034943\n",
      "2 373903.0700034943\n",
      "3 373903.0700034943\n",
      "4 373903.0700034943\n"
     ]
    }
   ],
   "source": [
    "for index, row in grid.loc[:4].iterrows():\n",
    "    print(index, row.left)"
   ]
  },
  {
   "cell_type": "code",
   "execution_count": 4,
   "metadata": {},
   "outputs": [
    {
     "data": {
      "text/html": [
       "<div>\n",
       "<style scoped>\n",
       "    .dataframe tbody tr th:only-of-type {\n",
       "        vertical-align: middle;\n",
       "    }\n",
       "\n",
       "    .dataframe tbody tr th {\n",
       "        vertical-align: top;\n",
       "    }\n",
       "\n",
       "    .dataframe thead th {\n",
       "        text-align: right;\n",
       "    }\n",
       "</style>\n",
       "<table border=\"1\" class=\"dataframe\">\n",
       "  <thead>\n",
       "    <tr style=\"text-align: right;\">\n",
       "      <th></th>\n",
       "      <th>id</th>\n",
       "      <th>left</th>\n",
       "      <th>top</th>\n",
       "      <th>right</th>\n",
       "      <th>bottom</th>\n",
       "      <th>area</th>\n",
       "      <th>geometry</th>\n",
       "    </tr>\n",
       "  </thead>\n",
       "  <tbody>\n",
       "    <tr>\n",
       "      <th>5468</th>\n",
       "      <td>960967.0</td>\n",
       "      <td>397897.070003</td>\n",
       "      <td>412741.915204</td>\n",
       "      <td>398157.070003</td>\n",
       "      <td>412481.915204</td>\n",
       "      <td>67600.0</td>\n",
       "      <td>POLYGON ((397897.070 412741.915, 398157.070 41...</td>\n",
       "    </tr>\n",
       "  </tbody>\n",
       "</table>\n",
       "</div>"
      ],
      "text/plain": [
       "            id           left            top          right         bottom  \\\n",
       "5468  960967.0  397897.070003  412741.915204  398157.070003  412481.915204   \n",
       "\n",
       "         area                                           geometry  \n",
       "5468  67600.0  POLYGON ((397897.070 412741.915, 398157.070 41...  "
      ]
     },
     "execution_count": 4,
     "metadata": {},
     "output_type": "execute_result"
    }
   ],
   "source": [
    "grid[grid['id'] == 960967]"
   ]
  },
  {
   "cell_type": "code",
   "execution_count": 13,
   "metadata": {},
   "outputs": [],
   "source": [
    "def create_raster(x, i, res=1):\n",
    "\n",
    "    #\n",
    "    name = \"gt_roads\"\n",
    "    name_layer = \"str\"\n",
    "    path_shp = \"/media/philipp/ed7d22ba-5a3b-4d31-bf6c-6add6e106b3d/test/256x256/1m/ground_truth_roads/\" + name + \".shp\"\n",
    "    path_out = \"/media/philipp/ed7d22ba-5a3b-4d31-bf6c-6add6e106b3d/test/256x256/1m/data_256_gt_roads/256_gt_id_\" + str(i) + \".tif\"\n",
    "    \n",
    "    # create string for bash command\n",
    "    bashCommand = \"gdal_rasterize -l \" + name + \" -a \" + name_layer + \" -tr \" + str(res) + \" \" + str(res) + \\\n",
    "    \" -a_nodata 0.0 -te \" + str(x.left) + \" \" + str(x.right) + \" \" + str(x.bottom) + \" \" + str(x.top) + \\\n",
    "    \" -ot Byte -of GTiff \" + path_shp + \" \" + path_out\n",
    "    \n",
    "    print(bashCommand)\n",
    "    # execute bash command\n",
    "    os.system(bashCommand)"
   ]
  },
  {
   "cell_type": "code",
   "execution_count": 14,
   "metadata": {},
   "outputs": [
    {
     "name": "stdout",
     "output_type": "stream",
     "text": [
      "gdal_rasterize -l gt_roads -a str -tr 1.0 1.0 -a_nodata 0.0 -te 397897.0700034943 398157.0700034943 412481.9152037557 412741.9152037557 -ot Byte -of GTiff /media/philipp/ed7d22ba-5a3b-4d31-bf6c-6add6e106b3d/test/256x256/1m/ground_truth_roads/gt_roads.shp /media/philipp/ed7d22ba-5a3b-4d31-bf6c-6add6e106b3d/test/256x256/1m/data_256_gt_roads/256_gt_id_5468.tif\n"
     ]
    }
   ],
   "source": [
    "create_raster(grid.loc[5468], 5468, res=1.0)"
   ]
  },
  {
   "cell_type": "code",
   "execution_count": 27,
   "metadata": {},
   "outputs": [],
   "source": [
    "# load raw vector data\n",
    "name = \"gt_roads\"\n",
    "db_data = gpd.read_file(\"/media/philipp/ed7d22ba-5a3b-4d31-bf6c-6add6e106b3d/test/256x256/1m/ground_truth_roads/gt_roads.shp\")"
   ]
  },
  {
   "cell_type": "code",
   "execution_count": 28,
   "metadata": {},
   "outputs": [
    {
     "data": {
      "text/html": [
       "<div>\n",
       "<style scoped>\n",
       "    .dataframe tbody tr th:only-of-type {\n",
       "        vertical-align: middle;\n",
       "    }\n",
       "\n",
       "    .dataframe tbody tr th {\n",
       "        vertical-align: top;\n",
       "    }\n",
       "\n",
       "    .dataframe thead th {\n",
       "        text-align: right;\n",
       "    }\n",
       "</style>\n",
       "<table border=\"1\" class=\"dataframe\">\n",
       "  <thead>\n",
       "    <tr style=\"text-align: right;\">\n",
       "      <th></th>\n",
       "      <th>str</th>\n",
       "      <th>geometry</th>\n",
       "    </tr>\n",
       "  </thead>\n",
       "  <tbody>\n",
       "    <tr>\n",
       "      <th>0</th>\n",
       "      <td>0</td>\n",
       "      <td>POLYGON ((386279.300 358369.925, 386291.340 35...</td>\n",
       "    </tr>\n",
       "    <tr>\n",
       "      <th>1</th>\n",
       "      <td>0</td>\n",
       "      <td>POLYGON ((411127.657 394260.340, 411148.950 39...</td>\n",
       "    </tr>\n",
       "    <tr>\n",
       "      <th>2</th>\n",
       "      <td>0</td>\n",
       "      <td>POLYGON ((380930.470 358686.725, 380935.880 35...</td>\n",
       "    </tr>\n",
       "    <tr>\n",
       "      <th>3</th>\n",
       "      <td>0</td>\n",
       "      <td>POLYGON ((397372.350 374393.005, 397368.830 37...</td>\n",
       "    </tr>\n",
       "    <tr>\n",
       "      <th>4</th>\n",
       "      <td>0</td>\n",
       "      <td>POLYGON ((402954.780 381514.065, 402947.730 38...</td>\n",
       "    </tr>\n",
       "    <tr>\n",
       "      <th>...</th>\n",
       "      <td>...</td>\n",
       "      <td>...</td>\n",
       "    </tr>\n",
       "    <tr>\n",
       "      <th>373121</th>\n",
       "      <td>0</td>\n",
       "      <td>POLYGON ((475862.030 432686.985, 475862.030 43...</td>\n",
       "    </tr>\n",
       "    <tr>\n",
       "      <th>373122</th>\n",
       "      <td>0</td>\n",
       "      <td>POLYGON ((482408.040 432455.096, 482407.996 43...</td>\n",
       "    </tr>\n",
       "    <tr>\n",
       "      <th>373123</th>\n",
       "      <td>0</td>\n",
       "      <td>POLYGON ((484783.950 428687.795, 484791.320 42...</td>\n",
       "    </tr>\n",
       "    <tr>\n",
       "      <th>373124</th>\n",
       "      <td>0</td>\n",
       "      <td>POLYGON ((464475.693 432193.495, 464475.352 43...</td>\n",
       "    </tr>\n",
       "    <tr>\n",
       "      <th>373125</th>\n",
       "      <td>1</td>\n",
       "      <td>POLYGON ((482027.847 439229.777, 482022.961 43...</td>\n",
       "    </tr>\n",
       "  </tbody>\n",
       "</table>\n",
       "<p>373126 rows × 2 columns</p>\n",
       "</div>"
      ],
      "text/plain": [
       "        str                                           geometry\n",
       "0         0  POLYGON ((386279.300 358369.925, 386291.340 35...\n",
       "1         0  POLYGON ((411127.657 394260.340, 411148.950 39...\n",
       "2         0  POLYGON ((380930.470 358686.725, 380935.880 35...\n",
       "3         0  POLYGON ((397372.350 374393.005, 397368.830 37...\n",
       "4         0  POLYGON ((402954.780 381514.065, 402947.730 38...\n",
       "...     ...                                                ...\n",
       "373121    0  POLYGON ((475862.030 432686.985, 475862.030 43...\n",
       "373122    0  POLYGON ((482408.040 432455.096, 482407.996 43...\n",
       "373123    0  POLYGON ((484783.950 428687.795, 484791.320 42...\n",
       "373124    0  POLYGON ((464475.693 432193.495, 464475.352 43...\n",
       "373125    1  POLYGON ((482027.847 439229.777, 482022.961 43...\n",
       "\n",
       "[373126 rows x 2 columns]"
      ]
     },
     "execution_count": 28,
     "metadata": {},
     "output_type": "execute_result"
    }
   ],
   "source": [
    "db_data"
   ]
  },
  {
   "cell_type": "code",
   "execution_count": 15,
   "metadata": {},
   "outputs": [],
   "source": [
    "c0 = 373757.9999999924912117\n",
    "c1 = 381706.9999999923165888\n",
    "c2 = 418695.9999999915598892\n",
    "c3 = 451232.9999999909196049"
   ]
  },
  {
   "cell_type": "code",
   "execution_count": 22,
   "metadata": {},
   "outputs": [],
   "source": [
    "bashCommand = \"gdal_rasterize -l gt_roads -a str -tr 1.0 1.0 -a_nodata 0.0 -te \" + str(c0) + \" \" + str(c1) + \" \" + str(c3) + \" \" + str(c2) + \" -ot Byte -of GTiff /media/philipp/ed7d22ba-5a3b-4d31-bf6c-6add6e106b3d/test/256x256/1m/ground_truth_roads/gt_roads.shp /media/philipp/ed7d22ba-5a3b-4d31-bf6c-6add6e106b3d/test/256x256/1m/data_256_gt_roads/256_gt_id.tif\""
   ]
  },
  {
   "cell_type": "code",
   "execution_count": 23,
   "metadata": {},
   "outputs": [
    {
     "data": {
      "text/plain": [
       "0"
      ]
     },
     "execution_count": 23,
     "metadata": {},
     "output_type": "execute_result"
    }
   ],
   "source": [
    "os.system(bashCommand)"
   ]
  },
  {
   "cell_type": "code",
   "execution_count": null,
   "metadata": {},
   "outputs": [],
   "source": [
    "\"gdal_rasterize -l gt_roads -a str -tr 1.0 1.0 -a_nodata 0.0 -te 397897.070003 398157.070003 412741.915204 412481.915204 -ot Float32 -of GTiff /media/philipp/ed7d22ba-5a3b-4d31-bf6c-6add6e106b3d/test/256x256/1m/ground_truth_roads/gt_roads.shp /tmp/processing_6d2f8ae78a2b40e0a5a23fd41edebe3a/a28b3db10203442a842805fa64cd3777/OUTPUT.tif\""
   ]
  },
  {
   "cell_type": "code",
   "execution_count": null,
   "metadata": {},
   "outputs": [],
   "source": []
  }
 ],
 "metadata": {
  "kernelspec": {
   "display_name": "geo",
   "language": "python",
   "name": "geo"
  },
  "language_info": {
   "codemirror_mode": {
    "name": "ipython",
    "version": 3
   },
   "file_extension": ".py",
   "mimetype": "text/x-python",
   "name": "python",
   "nbconvert_exporter": "python",
   "pygments_lexer": "ipython3",
   "version": "3.8.2"
  }
 },
 "nbformat": 4,
 "nbformat_minor": 4
}
