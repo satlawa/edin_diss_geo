{
 "cells": [
  {
   "cell_type": "code",
   "execution_count": null,
   "metadata": {},
   "outputs": [],
   "source": []
  },
  {
   "cell_type": "code",
   "execution_count": 1,
   "metadata": {},
   "outputs": [],
   "source": [
    "import os\n",
    "import sys\n",
    "import geopandas\n",
    "import pandas as pd\n",
    "try:\n",
    "    from osgeo import ogr, osr, gdal\n",
    "except:\n",
    "    sys.exit('ERROR: cannot find GDAL/OGR modules')"
   ]
  },
  {
   "cell_type": "code",
   "execution_count": 5,
   "metadata": {},
   "outputs": [],
   "source": [
    "grid = geopandas.read_file('/home/philipp/Data/edin_diss/GIS_meta/overlap_grid/overlap_10_bischofshofen_tamsweg_grid.shp')"
   ]
  },
  {
   "cell_type": "code",
   "execution_count": 6,
   "metadata": {},
   "outputs": [
    {
     "data": {
      "text/html": [
       "<div>\n",
       "<style scoped>\n",
       "    .dataframe tbody tr th:only-of-type {\n",
       "        vertical-align: middle;\n",
       "    }\n",
       "\n",
       "    .dataframe tbody tr th {\n",
       "        vertical-align: top;\n",
       "    }\n",
       "\n",
       "    .dataframe thead th {\n",
       "        text-align: right;\n",
       "    }\n",
       "</style>\n",
       "<table border=\"1\" class=\"dataframe\">\n",
       "  <thead>\n",
       "    <tr style=\"text-align: right;\">\n",
       "      <th></th>\n",
       "      <th>id</th>\n",
       "      <th>left</th>\n",
       "      <th>top</th>\n",
       "      <th>right</th>\n",
       "      <th>bottom</th>\n",
       "      <th>geometry</th>\n",
       "    </tr>\n",
       "  </thead>\n",
       "  <tbody>\n",
       "    <tr>\n",
       "      <th>0</th>\n",
       "      <td>1.0</td>\n",
       "      <td>373758.970093</td>\n",
       "      <td>383707.549668</td>\n",
       "      <td>375806.970093</td>\n",
       "      <td>382683.549668</td>\n",
       "      <td>POLYGON ((373758.970 383707.550, 375806.970 38...</td>\n",
       "    </tr>\n",
       "    <tr>\n",
       "      <th>1</th>\n",
       "      <td>2.0</td>\n",
       "      <td>373758.970093</td>\n",
       "      <td>382683.549668</td>\n",
       "      <td>375806.970093</td>\n",
       "      <td>381659.549668</td>\n",
       "      <td>POLYGON ((373758.970 382683.550, 375806.970 38...</td>\n",
       "    </tr>\n",
       "    <tr>\n",
       "      <th>2</th>\n",
       "      <td>3.0</td>\n",
       "      <td>375806.970093</td>\n",
       "      <td>383707.549668</td>\n",
       "      <td>377854.970093</td>\n",
       "      <td>382683.549668</td>\n",
       "      <td>POLYGON ((375806.970 383707.550, 377854.970 38...</td>\n",
       "    </tr>\n",
       "    <tr>\n",
       "      <th>3</th>\n",
       "      <td>4.0</td>\n",
       "      <td>375806.970093</td>\n",
       "      <td>382683.549668</td>\n",
       "      <td>377854.970093</td>\n",
       "      <td>381659.549668</td>\n",
       "      <td>POLYGON ((375806.970 382683.550, 377854.970 38...</td>\n",
       "    </tr>\n",
       "    <tr>\n",
       "      <th>4</th>\n",
       "      <td>5.0</td>\n",
       "      <td>377854.970093</td>\n",
       "      <td>383707.549668</td>\n",
       "      <td>379902.970093</td>\n",
       "      <td>382683.549668</td>\n",
       "      <td>POLYGON ((377854.970 383707.550, 379902.970 38...</td>\n",
       "    </tr>\n",
       "  </tbody>\n",
       "</table>\n",
       "</div>"
      ],
      "text/plain": [
       "    id           left            top          right         bottom  \\\n",
       "0  1.0  373758.970093  383707.549668  375806.970093  382683.549668   \n",
       "1  2.0  373758.970093  382683.549668  375806.970093  381659.549668   \n",
       "2  3.0  375806.970093  383707.549668  377854.970093  382683.549668   \n",
       "3  4.0  375806.970093  382683.549668  377854.970093  381659.549668   \n",
       "4  5.0  377854.970093  383707.549668  379902.970093  382683.549668   \n",
       "\n",
       "                                            geometry  \n",
       "0  POLYGON ((373758.970 383707.550, 375806.970 38...  \n",
       "1  POLYGON ((373758.970 382683.550, 375806.970 38...  \n",
       "2  POLYGON ((375806.970 383707.550, 377854.970 38...  \n",
       "3  POLYGON ((375806.970 382683.550, 377854.970 38...  \n",
       "4  POLYGON ((377854.970 383707.550, 379902.970 38...  "
      ]
     },
     "execution_count": 6,
     "metadata": {},
     "output_type": "execute_result"
    }
   ],
   "source": [
    "i = 0\n",
    "grid.head()"
   ]
  },
  {
   "cell_type": "code",
   "execution_count": 7,
   "metadata": {},
   "outputs": [],
   "source": [
    "extend = grid.loc[i,'geometry'].bounds"
   ]
  },
  {
   "cell_type": "code",
   "execution_count": 8,
   "metadata": {},
   "outputs": [
    {
     "data": {
      "text/plain": [
       "(373758.97009303217, 382683.5496682193, 375806.97009303217, 383707.5496682193)"
      ]
     },
     "execution_count": 8,
     "metadata": {},
     "output_type": "execute_result"
    }
   ],
   "source": [
    "extend"
   ]
  },
  {
   "cell_type": "code",
   "execution_count": 9,
   "metadata": {},
   "outputs": [
    {
     "data": {
      "text/plain": [
       "373758.97009303217"
      ]
     },
     "execution_count": 9,
     "metadata": {},
     "output_type": "execute_result"
    }
   ],
   "source": [
    "extend[0]"
   ]
  },
  {
   "cell_type": "code",
   "execution_count": 2,
   "metadata": {},
   "outputs": [
    {
     "data": {
      "text/plain": [
       "True"
      ]
     },
     "execution_count": 2,
     "metadata": {},
     "output_type": "execute_result"
    }
   ],
   "source": [
    "os.path.isfile('/media/philipp/ed7d22ba-5a3b-4d31-bf6c-6add6e106b3d/ortho/2018250_bischofshofen_lb_rgbi.img') "
   ]
  },
  {
   "cell_type": "code",
   "execution_count": 8,
   "metadata": {},
   "outputs": [],
   "source": [
    "path_raster = '/media/philipp/Elements/2019/2019150_nordburgenland_lb_rgbi.img'\n",
    "path_out = \"/media/philipp/DATA/color_corr_matrix/01_nordburgenland_wien/overlap_{}.tif\".format(i)\n",
    "\n",
    "bashCommand = \"gdal_translate -projwin {} {} {} {} -a_nodata 0.0 -of GTiff {} {}\".format(extend[0], extend[3], extend[2], extend[1], path_raster, path_out)"
   ]
  },
  {
   "cell_type": "code",
   "execution_count": 9,
   "metadata": {},
   "outputs": [
    {
     "data": {
      "text/plain": [
       "'gdal_translate -projwin 596339.2880734366 462082.3724556746 598387.2880734366 460034.3724556746 -a_nodata 0.0 -of GTiff /media/philipp/Elements/2019/2019150_nordburgenland_lb_rgbi.img /media/philipp/DATA/color_corr_matrix/02_nordburgenland_mariazell/overlap_0.tif'"
      ]
     },
     "execution_count": 9,
     "metadata": {},
     "output_type": "execute_result"
    }
   ],
   "source": [
    "bashCommand"
   ]
  },
  {
   "cell_type": "code",
   "execution_count": 10,
   "metadata": {},
   "outputs": [
    {
     "data": {
      "text/plain": [
       "0"
      ]
     },
     "execution_count": 10,
     "metadata": {},
     "output_type": "execute_result"
    }
   ],
   "source": [
    "os.system(bashCommand)"
   ]
  },
  {
   "cell_type": "code",
   "execution_count": 23,
   "metadata": {},
   "outputs": [
    {
     "data": {
      "text/plain": [
       "True"
      ]
     },
     "execution_count": 23,
     "metadata": {},
     "output_type": "execute_result"
    }
   ],
   "source": [
    "os.path.isfile(path_raster)"
   ]
  },
  {
   "cell_type": "code",
   "execution_count": null,
   "metadata": {},
   "outputs": [],
   "source": []
  },
  {
   "cell_type": "code",
   "execution_count": 11,
   "metadata": {},
   "outputs": [
    {
     "name": "stdout",
     "output_type": "stream",
     "text": [
      "finished grid nr. 0\n",
      "finished grid nr. 1\n",
      "finished grid nr. 2\n",
      "finished grid nr. 3\n",
      "finished grid nr. 4\n",
      "finished grid nr. 5\n",
      "finished grid nr. 6\n",
      "finished grid nr. 7\n",
      "finished grid nr. 8\n",
      "finished grid nr. 9\n",
      "finished grid nr. 10\n",
      "finished grid nr. 11\n",
      "finished grid nr. 12\n",
      "finished grid nr. 13\n",
      "finished grid nr. 14\n",
      "finished grid nr. 15\n",
      "finished grid nr. 16\n",
      "finished grid nr. 17\n",
      "finished grid nr. 18\n",
      "finished grid nr. 19\n",
      "finished grid nr. 20\n",
      "finished grid nr. 21\n",
      "finished grid nr. 22\n",
      "finished grid nr. 23\n",
      "finished grid nr. 24\n",
      "finished grid nr. 25\n",
      "finished grid nr. 26\n",
      "finished grid nr. 27\n",
      "finished grid nr. 28\n",
      "finished grid nr. 29\n",
      "finished grid nr. 30\n",
      "finished grid nr. 31\n",
      "finished grid nr. 32\n",
      "finished grid nr. 33\n",
      "finished grid nr. 34\n",
      "finished grid nr. 35\n",
      "finished grid nr. 36\n",
      "finished grid nr. 37\n",
      "finished grid nr. 38\n",
      "finished grid nr. 39\n",
      "finished grid nr. 40\n",
      "finished grid nr. 41\n",
      "finished grid nr. 42\n",
      "finished grid nr. 43\n",
      "finished grid nr. 44\n",
      "finished grid nr. 45\n",
      "finished grid nr. 46\n",
      "finished grid nr. 47\n",
      "finished grid nr. 48\n",
      "finished grid nr. 49\n",
      "finished grid nr. 50\n",
      "finished grid nr. 51\n",
      "finished grid nr. 52\n",
      "finished grid nr. 53\n",
      "finished grid nr. 54\n",
      "finished grid nr. 55\n",
      "finished grid nr. 56\n",
      "finished grid nr. 57\n",
      "finished grid nr. 58\n",
      "finished grid nr. 59\n",
      "finished grid nr. 60\n",
      "finished grid nr. 61\n",
      "finished grid nr. 62\n",
      "finished grid nr. 63\n",
      "finished grid nr. 64\n",
      "finished grid nr. 65\n",
      "finished grid nr. 66\n",
      "finished grid nr. 67\n",
      "finished grid nr. 68\n",
      "finished grid nr. 69\n",
      "finished grid nr. 70\n",
      "finished grid nr. 71\n",
      "finished grid nr. 72\n",
      "finished grid nr. 73\n",
      "finished grid nr. 74\n",
      "finished grid nr. 75\n"
     ]
    }
   ],
   "source": [
    "for i in range(grid.shape[0]):\n",
    "    extend = grid.loc[i,'geometry'].bounds\n",
    "    \n",
    "    path_raster = '/media/philipp/ed7d22ba-5a3b-4d31-bf6c-6add6e106b3d/ortho/2018250_bischofshofen_lb_rgbi.img'\n",
    "    path_out = \"/media/philipp/DATA/color_corr_matrix/10_bischofshofen_tamsweg/overlap_{}.tif\".format(i)\n",
    "\n",
    "    bashCommand = \"gdal_translate -projwin {} {} {} {} -a_nodata 0.0 -of GTiff {} {}\".format(extend[0], extend[3], extend[2], extend[1], path_raster, path_out)\n",
    "    os.system(bashCommand)\n",
    "    \n",
    "    print(\"finished grid nr. {}\".format(i))"
   ]
  },
  {
   "cell_type": "code",
   "execution_count": null,
   "metadata": {},
   "outputs": [],
   "source": []
  }
 ],
 "metadata": {
  "kernelspec": {
   "display_name": "geo",
   "language": "python",
   "name": "geo"
  },
  "language_info": {
   "codemirror_mode": {
    "name": "ipython",
    "version": 3
   },
   "file_extension": ".py",
   "mimetype": "text/x-python",
   "name": "python",
   "nbconvert_exporter": "python",
   "pygments_lexer": "ipython3",
   "version": "3.8.2"
  }
 },
 "nbformat": 4,
 "nbformat_minor": 4
}
