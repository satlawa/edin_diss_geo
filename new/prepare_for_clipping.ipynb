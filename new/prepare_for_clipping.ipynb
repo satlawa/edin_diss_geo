{
 "cells": [
  {
   "cell_type": "code",
   "execution_count": null,
   "metadata": {},
   "outputs": [],
   "source": []
  },
  {
   "cell_type": "code",
   "execution_count": 1,
   "metadata": {},
   "outputs": [],
   "source": [
    "import sys\n",
    "import os\n",
    "\n",
    "import geopandas as gpd\n",
    "import pandas as pd\n",
    "\n",
    "from osgeo import gdal\n",
    "#from pyproj import CRS"
   ]
  },
  {
   "cell_type": "markdown",
   "metadata": {},
   "source": [
    "### Load raster (ortho) and get extend"
   ]
  },
  {
   "cell_type": "code",
   "execution_count": 22,
   "metadata": {},
   "outputs": [],
   "source": [
    "def get_extend(file_path):\n",
    "    src = gdal.Open(file_path)\n",
    "    ulx, xres, xskew, uly, yskew, yres  = src.GetGeoTransform()\n",
    "    lrx = ulx + (src.RasterXSize * xres)\n",
    "    lry = uly + (src.RasterYSize * yres)\n",
    "    return(ulx,uly,lrx,lry)"
   ]
  },
  {
   "cell_type": "code",
   "execution_count": 23,
   "metadata": {},
   "outputs": [
    {
     "name": "stdout",
     "output_type": "stream",
     "text": [
      "upper left corner:  373758.97009303217 418695.08341240825\n",
      "lower right corner:  451232.3700930322 381707.48341240827\n"
     ]
    }
   ],
   "source": [
    "path_ortho = '/media/philipp/ed7d22ba-5a3b-4d31-bf6c-6add6e106b3d/ortho/2018250_bischofshofen_lb_rgbi.img'\n",
    "ulx,uly,lrx,lry = get_extend(path_ortho)\n",
    "\n",
    "print('upper left corner: ', ulx, uly)\n",
    "print('lower right corner: ', lrx, lry)"
   ]
  },
  {
   "cell_type": "markdown",
   "metadata": {},
   "source": [
    "### Load grid and cut to extend"
   ]
  },
  {
   "cell_type": "code",
   "execution_count": 6,
   "metadata": {},
   "outputs": [],
   "source": [
    "# load vector grid\n",
    "path_grid = '/media/philipp/ed7d22ba-5a3b-4d31-bf6c-6add6e106b3d/grid/GIS_grid_fin.shp'\n",
    "grid_all = gpd.read_file(path_grid)"
   ]
  },
  {
   "cell_type": "code",
   "execution_count": 7,
   "metadata": {},
   "outputs": [
    {
     "data": {
      "text/plain": [
       "(352842, 6)"
      ]
     },
     "execution_count": 7,
     "metadata": {},
     "output_type": "execute_result"
    }
   ],
   "source": [
    "grid_all.shape"
   ]
  },
  {
   "cell_type": "code",
   "execution_count": 24,
   "metadata": {},
   "outputs": [
    {
     "data": {
      "text/html": [
       "<div>\n",
       "<style scoped>\n",
       "    .dataframe tbody tr th:only-of-type {\n",
       "        vertical-align: middle;\n",
       "    }\n",
       "\n",
       "    .dataframe tbody tr th {\n",
       "        vertical-align: top;\n",
       "    }\n",
       "\n",
       "    .dataframe thead th {\n",
       "        text-align: right;\n",
       "    }\n",
       "</style>\n",
       "<table border=\"1\" class=\"dataframe\">\n",
       "  <thead>\n",
       "    <tr style=\"text-align: right;\">\n",
       "      <th></th>\n",
       "      <th>id</th>\n",
       "      <th>left</th>\n",
       "      <th>top</th>\n",
       "      <th>right</th>\n",
       "      <th>bottom</th>\n",
       "      <th>geometry</th>\n",
       "    </tr>\n",
       "  </thead>\n",
       "  <tbody>\n",
       "    <tr>\n",
       "      <th>0</th>\n",
       "      <td>1903.0</td>\n",
       "      <td>161058.5</td>\n",
       "      <td>356984.5152</td>\n",
       "      <td>161161.5</td>\n",
       "      <td>356881.5152</td>\n",
       "      <td>POLYGON ((161058.500 356984.515, 161161.500 35...</td>\n",
       "    </tr>\n",
       "    <tr>\n",
       "      <th>1</th>\n",
       "      <td>1904.0</td>\n",
       "      <td>161058.5</td>\n",
       "      <td>356881.8152</td>\n",
       "      <td>161161.5</td>\n",
       "      <td>356778.8152</td>\n",
       "      <td>POLYGON ((161058.500 356881.815, 161161.500 35...</td>\n",
       "    </tr>\n",
       "    <tr>\n",
       "      <th>2</th>\n",
       "      <td>1905.0</td>\n",
       "      <td>161058.5</td>\n",
       "      <td>356779.1152</td>\n",
       "      <td>161161.5</td>\n",
       "      <td>356676.1152</td>\n",
       "      <td>POLYGON ((161058.500 356779.115, 161161.500 35...</td>\n",
       "    </tr>\n",
       "    <tr>\n",
       "      <th>3</th>\n",
       "      <td>4478.0</td>\n",
       "      <td>161161.2</td>\n",
       "      <td>356984.5152</td>\n",
       "      <td>161264.2</td>\n",
       "      <td>356881.5152</td>\n",
       "      <td>POLYGON ((161161.200 356984.515, 161264.200 35...</td>\n",
       "    </tr>\n",
       "  </tbody>\n",
       "</table>\n",
       "</div>"
      ],
      "text/plain": [
       "       id      left          top     right       bottom  \\\n",
       "0  1903.0  161058.5  356984.5152  161161.5  356881.5152   \n",
       "1  1904.0  161058.5  356881.8152  161161.5  356778.8152   \n",
       "2  1905.0  161058.5  356779.1152  161161.5  356676.1152   \n",
       "3  4478.0  161161.2  356984.5152  161264.2  356881.5152   \n",
       "\n",
       "                                            geometry  \n",
       "0  POLYGON ((161058.500 356984.515, 161161.500 35...  \n",
       "1  POLYGON ((161058.500 356881.815, 161161.500 35...  \n",
       "2  POLYGON ((161058.500 356779.115, 161161.500 35...  \n",
       "3  POLYGON ((161161.200 356984.515, 161264.200 35...  "
      ]
     },
     "execution_count": 24,
     "metadata": {},
     "output_type": "execute_result"
    }
   ],
   "source": [
    "grid_all.head(4)"
   ]
  },
  {
   "cell_type": "markdown",
   "metadata": {},
   "source": [
    "### filter grid by extend"
   ]
  },
  {
   "cell_type": "code",
   "execution_count": 34,
   "metadata": {},
   "outputs": [],
   "source": [
    "grid_filter = grid_all[(ulx <= grid_all['left']) &\n",
    "                       (uly >= grid_all['top']) &\n",
    "                       (lrx >= grid_all['right']) &\n",
    "                       (lry <= grid_all['bottom'])]"
   ]
  },
  {
   "cell_type": "code",
   "execution_count": 35,
   "metadata": {},
   "outputs": [
    {
     "data": {
      "text/plain": [
       "(53964, 6)"
      ]
     },
     "execution_count": 35,
     "metadata": {},
     "output_type": "execute_result"
    }
   ],
   "source": [
    "grid_filter.shape"
   ]
  },
  {
   "cell_type": "code",
   "execution_count": 36,
   "metadata": {},
   "outputs": [],
   "source": [
    "# with border tiles\n",
    "#grid_filter = grid_all[(ulx <= grid_all['right']) &\n",
    "#                       (uly >= grid_all['bottom']) &\n",
    "#                       (lrx >= grid_all['left']) &\n",
    "#                       (lry <= grid_all['top'])]"
   ]
  },
  {
   "cell_type": "code",
   "execution_count": 37,
   "metadata": {},
   "outputs": [],
   "source": [
    "# save to file\n",
    "grid_filter.to_file(\"/media/philipp/ed7d22ba-5a3b-4d31-bf6c-6add6e106b3d/ortho/grid/GIS_grid_ortho.shp\")"
   ]
  },
  {
   "cell_type": "code",
   "execution_count": null,
   "metadata": {},
   "outputs": [],
   "source": []
  }
 ],
 "metadata": {
  "kernelspec": {
   "display_name": "geo",
   "language": "python",
   "name": "geo"
  },
  "language_info": {
   "codemirror_mode": {
    "name": "ipython",
    "version": 3
   },
   "file_extension": ".py",
   "mimetype": "text/x-python",
   "name": "python",
   "nbconvert_exporter": "python",
   "pygments_lexer": "ipython3",
   "version": "3.8.2"
  }
 },
 "nbformat": 4,
 "nbformat_minor": 4
}
