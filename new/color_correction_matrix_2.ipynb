{
 "cells": [
  {
   "cell_type": "code",
   "execution_count": null,
   "metadata": {},
   "outputs": [],
   "source": []
  },
  {
   "cell_type": "code",
   "execution_count": 1,
   "metadata": {},
   "outputs": [],
   "source": [
    "import sys\n",
    "import geopandas\n",
    "import pandas as pd\n",
    "import numpy as np\n",
    "import matplotlib.pyplot as plt\n",
    "#from pyproj import CRS\n",
    "try:\n",
    "    from osgeo import ogr, osr, gdal\n",
    "except:\n",
    "    sys.exit('ERROR: cannot find GDAL/OGR modules')"
   ]
  },
  {
   "cell_type": "code",
   "execution_count": 2,
   "metadata": {},
   "outputs": [],
   "source": [
    "def tif2array(input_file, dtype=np.uint8):\n",
    "    \"\"\"\n",
    "    read GeoTiff and convert to numpy array.\n",
    "    inputs:\n",
    "        input_file (str) : the name of input GeoTiff file.\n",
    "    return:\n",
    "        image(np.array) : image for each bands\n",
    "        dataset : for gdal's data drive.\n",
    "    \"\"\"\n",
    "    dataset = gdal.Open(input_file, gdal.GA_ReadOnly)\n",
    "\n",
    "    if dataset is None:\n",
    "        return None\n",
    "\n",
    "    # Allocate our array using the first band's datatype\n",
    "    image_datatype = dataset.GetRasterBand(1).DataType\n",
    "    image = np.zeros((dataset.RasterYSize, dataset.RasterXSize, dataset.RasterCount),\n",
    "                     dtype=dtype)\n",
    "\n",
    "    # Loop over all bands in dataset\n",
    "    for b in range(dataset.RasterCount):\n",
    "        # Remember, GDAL index is on 1, but Python is on 0 -- so we add 1 for our GDAL calls\n",
    "        band = dataset.GetRasterBand(b + 1)\n",
    "        # Read in the band's data into the third dimension of our array\n",
    "        image[:, :, b] = band.ReadAsArray()#buf_type=gdalconst.GDT_Byte)\n",
    "\n",
    "    #image = image[2:-2,2:-2,:]\n",
    "\n",
    "    return image"
   ]
  },
  {
   "cell_type": "code",
   "execution_count": 3,
   "metadata": {},
   "outputs": [],
   "source": [
    "# option 0 - load directly as np array if sorted by id\n",
    "#samples_0 = np.genfromtxt('/media/philipp/DATA/color_corr_matrix/20_st_poelten_wien/sample_values_wien.csv',delimiter=',', skip_header=1)\n",
    "#samples_1 = np.genfromtxt('/media/philipp/DATA/color_corr_matrix/20_st_poelten_wien/sample_values_st_poelten.csv',delimiter=',', skip_header=1)"
   ]
  },
  {
   "cell_type": "code",
   "execution_count": 4,
   "metadata": {},
   "outputs": [],
   "source": [
    "# option 1 - load through gepandas as geodataframe and convert it into a np array\n",
    "path_file_0 = '/media/philipp/DATA/color_corr_matrix/20_st_poelten_wien/sample_points_values_wien.shp'\n",
    "path_file_1 = '/media/philipp/DATA/color_corr_matrix/20_st_poelten_wien/sample_points_values_st_poelten.shp'\n",
    "# read data\n",
    "sample_0 = geopandas.read_file(path_file_0)\n",
    "sample_1 = geopandas.read_file(path_file_1)\n",
    "# convert to numpy\n",
    "sample_0 = sample_0.iloc[:,1:5].to_numpy()\n",
    "sample_1 = sample_1.iloc[:,1:5].to_numpy()"
   ]
  },
  {
   "cell_type": "code",
   "execution_count": 6,
   "metadata": {},
   "outputs": [],
   "source": [
    "sample_0 = sample_0 / 255\n",
    "sample_1 = sample_1 / 255"
   ]
  },
  {
   "cell_type": "code",
   "execution_count": 8,
   "metadata": {},
   "outputs": [],
   "source": [
    "# add column of ones\n",
    "sample_0h = np.ones((sample_0.shape[0],sample_0.shape[1]+1))\n",
    "sample_0h[:,:-1] = sample_0\n",
    "\n",
    "sample_1h = np.ones((sample_1.shape[0],sample_1.shape[1]+1))\n",
    "sample_1h[:,:-1] = sample_1"
   ]
  },
  {
   "cell_type": "code",
   "execution_count": 9,
   "metadata": {},
   "outputs": [
    {
     "data": {
      "text/plain": [
       "array([[0.19215686, 0.23137255, 0.25098039, 0.48235294, 1.        ],\n",
       "       [0.30980392, 0.37254902, 0.36470588, 0.61176471, 1.        ],\n",
       "       [0.25490196, 0.32156863, 0.30196078, 0.59215686, 1.        ],\n",
       "       ...,\n",
       "       [0.34117647, 0.42352941, 0.41568627, 0.74901961, 1.        ],\n",
       "       [0.36862745, 0.43921569, 0.4       , 0.70588235, 1.        ],\n",
       "       [0.76078431, 0.75294118, 0.75294118, 0.65098039, 1.        ]])"
      ]
     },
     "execution_count": 9,
     "metadata": {},
     "output_type": "execute_result"
    }
   ],
   "source": [
    "sample_0h"
   ]
  },
  {
   "cell_type": "code",
   "execution_count": 13,
   "metadata": {},
   "outputs": [
    {
     "name": "stderr",
     "output_type": "stream",
     "text": [
      "<ipython-input-13-1b3d855d72f9>:1: FutureWarning: `rcond` parameter will change to the default of machine precision times ``max(M, N)`` where M and N are the input matrix dimensions.\n",
      "To use the future default and silence this warning we advise to pass `rcond=None`, to keep using the old, explicitly pass `rcond=-1`.\n",
      "  ColorCorrectionMatrix_20 = np.linalg.lstsq(sample_0h, sample_1h)[0]\n"
     ]
    }
   ],
   "source": [
    "ColorCorrectionMatrix_20 = np.linalg.lstsq(sample_0h, sample_1h)[0]"
   ]
  },
  {
   "cell_type": "code",
   "execution_count": 14,
   "metadata": {},
   "outputs": [
    {
     "data": {
      "text/plain": [
       "array([[ 1.00091965e+00,  2.55002222e-01,  2.40596402e-01,\n",
       "         1.42303800e-01,  4.19690065e-16],\n",
       "       [-5.08850968e-01,  2.89393514e-01,  1.03774063e-01,\n",
       "        -3.71997905e-01,  3.33066907e-16],\n",
       "       [ 2.30748069e-01,  2.53596152e-01,  6.43858902e-01,\n",
       "         2.67420191e-02, -8.88178420e-16],\n",
       "       [-1.24675245e-01, -2.08988555e-01, -3.12388633e-01,\n",
       "         6.44483958e-01,  1.11022302e-16],\n",
       "       [ 2.53974343e-01,  2.43811733e-01,  1.52369989e-01,\n",
       "         4.37197793e-01,  1.00000000e+00]])"
      ]
     },
     "execution_count": 14,
     "metadata": {},
     "output_type": "execute_result"
    }
   ],
   "source": [
    "ColorCorrectionMatrix_20"
   ]
  },
  {
   "cell_type": "code",
   "execution_count": 15,
   "metadata": {},
   "outputs": [],
   "source": [
    "np.save(\"/media/philipp/DATA/color_corr_matrix/20_st_poelten_wien/ColorCorrectionMatrix_20\", ColorCorrectionMatrix_20)"
   ]
  },
  {
   "cell_type": "code",
   "execution_count": null,
   "metadata": {},
   "outputs": [],
   "source": []
  },
  {
   "cell_type": "code",
   "execution_count": 16,
   "metadata": {},
   "outputs": [],
   "source": [
    "path_file_0 = '/media/philipp/DATA/color_corr_matrix/04_mariazell_st_poelten/sample_points_values_st_poelten.shp'\n",
    "path_file_1 = '/media/philipp/DATA/color_corr_matrix/04_mariazell_st_poelten/sample_points_values_mariazell.shp'\n",
    "# read data\n",
    "sample_04_0 = geopandas.read_file(path_file_0)\n",
    "sample_04_1 = geopandas.read_file(path_file_1)\n",
    "# convert to numpy\n",
    "sample_04_0 = sample_04_0.iloc[:,1:5].to_numpy()\n",
    "sample_04_1 = sample_04_1.iloc[:,1:5].to_numpy()"
   ]
  },
  {
   "cell_type": "code",
   "execution_count": 23,
   "metadata": {},
   "outputs": [],
   "source": [
    "# add column of ones\n",
    "sample_04_0h = np.ones((sample_04_0.shape[0],sample_04_0.shape[1]+1))\n",
    "sample_04_0h[:,:-1] = sample_04_0 / 255\n",
    "\n",
    "sample_04_1h = np.ones((sample_04_1.shape[0],sample_04_1.shape[1]+1))\n",
    "sample_04_1h[:,:-1] = sample_04_1 / 255"
   ]
  },
  {
   "cell_type": "code",
   "execution_count": 31,
   "metadata": {},
   "outputs": [
    {
     "data": {
      "text/plain": [
       "array([[0.40784314, 0.41568627, 0.27843137, 0.82745098, 1.        ],\n",
       "       [0.36470588, 0.38431373, 0.29411765, 0.78823529, 1.        ],\n",
       "       [0.44313725, 0.45882353, 0.30588235, 0.85098039, 1.        ],\n",
       "       ...,\n",
       "       [0.41960784, 0.38431373, 0.31372549, 0.63529412, 1.        ],\n",
       "       [0.45882353, 0.48627451, 0.35294118, 0.83137255, 1.        ],\n",
       "       [0.49411765, 0.50588235, 0.36078431, 0.85098039, 1.        ]])"
      ]
     },
     "execution_count": 31,
     "metadata": {},
     "output_type": "execute_result"
    }
   ],
   "source": [
    "sample_04_0h"
   ]
  },
  {
   "cell_type": "code",
   "execution_count": null,
   "metadata": {},
   "outputs": [],
   "source": [
    "# convert st_poelten image to colour of wien"
   ]
  },
  {
   "cell_type": "code",
   "execution_count": 24,
   "metadata": {},
   "outputs": [],
   "source": [
    "sample_04_0hc = np.matmul(sample_04_0h, ColorCorrectionMatrix_20)"
   ]
  },
  {
   "cell_type": "code",
   "execution_count": 43,
   "metadata": {
    "scrolled": true
   },
   "outputs": [
    {
     "data": {
      "text/plain": [
       "array([[0.41175504, 0.36579089, 0.21441727, 0.8813257 , 1.        ],\n",
       "       [0.39305087, 0.35788539, 0.22313323, 0.86200323, 1.        ],\n",
       "       [0.4285319 , 0.3893187 , 0.23770968, 0.88619964, 1.        ],\n",
       "       [0.41741039, 0.37760615, 0.231025  , 0.85895676, 1.        ],\n",
       "       [0.41183497, 0.39983584, 0.24184048, 0.85489616, 1.        ],\n",
       "       [0.33838611, 0.29153209, 0.16579091, 0.71699574, 1.        ],\n",
       "       [0.41286467, 0.3823261 , 0.23237129, 0.85620694, 1.        ],\n",
       "       [0.45909441, 0.40785677, 0.33294862, 0.61775608, 1.        ],\n",
       "       [0.39353615, 0.3451538 , 0.20546635, 0.81302955, 1.        ],\n",
       "       [0.45609583, 0.39193451, 0.2641895 , 0.8533618 , 1.        ],\n",
       "       [0.39440996, 0.36689805, 0.24291444, 0.82554562, 1.        ],\n",
       "       [0.42054009, 0.40491553, 0.26028968, 0.89500104, 1.        ],\n",
       "       [0.38821334, 0.33534823, 0.17558189, 0.89915632, 1.        ],\n",
       "       [0.57255784, 0.5804622 , 0.5276103 , 0.52367532, 1.        ],\n",
       "       [0.57864296, 0.5868959 , 0.53666101, 0.5247158 , 1.        ],\n",
       "       [0.67292911, 0.64957462, 0.61185209, 0.77701693, 1.        ],\n",
       "       [0.50053891, 0.46771056, 0.3387625 , 0.84923874, 1.        ],\n",
       "       [0.40637737, 0.37016098, 0.2131638 , 0.87331136, 1.        ],\n",
       "       [0.61036325, 0.57472854, 0.53105636, 0.7111065 , 1.        ],\n",
       "       [0.6832623 , 0.66351568, 0.63582078, 0.72630136, 1.        ],\n",
       "       [0.43306383, 0.39015524, 0.2452203 , 0.8681723 , 1.        ],\n",
       "       [0.42231309, 0.3882956 , 0.24121529, 0.86549251, 1.        ],\n",
       "       [0.43096272, 0.39897301, 0.25269185, 0.85278554, 1.        ],\n",
       "       [0.46996771, 0.42620251, 0.28686198, 0.84332318, 1.        ],\n",
       "       [0.43270083, 0.39279466, 0.27982686, 0.79476073, 1.        ],\n",
       "       [0.41145182, 0.36184746, 0.20773539, 0.88510216, 1.        ],\n",
       "       [0.61439515, 0.56864696, 0.48708685, 0.79290173, 1.        ],\n",
       "       [0.44279027, 0.37958118, 0.21342493, 0.85530645, 1.        ],\n",
       "       [0.49017877, 0.44878184, 0.3189143 , 0.83633506, 1.        ],\n",
       "       [0.43876375, 0.38371457, 0.22484462, 0.8652018 , 1.        ],\n",
       "       [0.44445859, 0.39916702, 0.24294185, 0.86543369, 1.        ],\n",
       "       [0.42437662, 0.40645549, 0.24902822, 0.85947527, 1.        ],\n",
       "       [0.42477864, 0.39075132, 0.24016624, 0.8661135 , 1.        ],\n",
       "       [0.35445203, 0.2892143 , 0.14929847, 0.80207338, 1.        ],\n",
       "       [0.34459397, 0.28164929, 0.13541174, 0.82948441, 1.        ],\n",
       "       [0.35457685, 0.31831492, 0.21861576, 0.6395557 , 1.        ],\n",
       "       [0.41838348, 0.36840948, 0.21595439, 0.86533624, 1.        ],\n",
       "       [0.35172926, 0.30315072, 0.19690825, 0.71718562, 1.        ],\n",
       "       [0.43362063, 0.38883397, 0.23564647, 0.88295199, 1.        ],\n",
       "       [0.41136032, 0.35592353, 0.19914641, 0.88091891, 1.        ],\n",
       "       [0.42065824, 0.37120359, 0.20963812, 0.88717489, 1.        ],\n",
       "       [0.44217162, 0.38967305, 0.23685146, 0.873581  , 1.        ],\n",
       "       [0.34189959, 0.28980768, 0.17073315, 0.73930289, 1.        ],\n",
       "       [0.33871454, 0.29128393, 0.17059709, 0.75085857, 1.        ],\n",
       "       [0.40162057, 0.36076078, 0.20282385, 0.85645632, 1.        ],\n",
       "       [0.34188738, 0.28310782, 0.15832649, 0.76928884, 1.        ],\n",
       "       [0.36818229, 0.31964354, 0.17741921, 0.8267354 , 1.        ],\n",
       "       [0.39078974, 0.35434212, 0.19721107, 0.8664554 , 1.        ],\n",
       "       [0.38461677, 0.3275404 , 0.18574358, 0.8017525 , 1.        ],\n",
       "       [0.34467343, 0.29899229, 0.18709004, 0.71368069, 1.        ],\n",
       "       [0.3930661 , 0.34156321, 0.20610844, 0.81386737, 1.        ],\n",
       "       [0.36408933, 0.31515208, 0.19146991, 0.75041065, 1.        ],\n",
       "       [0.34699402, 0.27932444, 0.12932346, 0.81671335, 1.        ],\n",
       "       [0.34370462, 0.28096088, 0.15826231, 0.75094689, 1.        ],\n",
       "       [0.4124885 , 0.37773804, 0.22576424, 0.86514305, 1.        ],\n",
       "       [0.3952419 , 0.34256932, 0.19631726, 0.85007446, 1.        ],\n",
       "       [0.3479587 , 0.29509801, 0.17623411, 0.74955216, 1.        ],\n",
       "       [0.42166384, 0.40784392, 0.26259013, 0.87962697, 1.        ],\n",
       "       [0.37579079, 0.32022284, 0.1957465 , 0.81512501, 1.        ],\n",
       "       [0.34515728, 0.29702639, 0.17759104, 0.73362003, 1.        ],\n",
       "       [0.35503976, 0.31799111, 0.21629108, 0.64623711, 1.        ],\n",
       "       [0.43991383, 0.40441459, 0.2730951 , 0.81032214, 1.        ],\n",
       "       [0.34455354, 0.2988464 , 0.19078944, 0.7147912 , 1.        ],\n",
       "       [0.43117871, 0.39444302, 0.25608337, 0.86920717, 1.        ],\n",
       "       [0.34075792, 0.26881602, 0.10969837, 0.8484589 , 1.        ],\n",
       "       [0.41722658, 0.38510192, 0.25761855, 0.878174  , 1.        ],\n",
       "       [0.41126851, 0.35473326, 0.23383131, 0.76257834, 1.        ],\n",
       "       [0.39527347, 0.35988344, 0.22281317, 0.78258333, 1.        ],\n",
       "       [0.33669335, 0.28322512, 0.16065764, 0.74757607, 1.        ],\n",
       "       [0.40995746, 0.37050176, 0.22177405, 0.85113001, 1.        ],\n",
       "       [0.38251455, 0.31107827, 0.18186661, 0.73832082, 1.        ],\n",
       "       [0.35762314, 0.3194638 , 0.22058408, 0.6308001 , 1.        ],\n",
       "       [0.37920723, 0.31933003, 0.20126807, 0.74707197, 1.        ],\n",
       "       [0.33575024, 0.2743874 , 0.14217631, 0.78666594, 1.        ],\n",
       "       [0.36976895, 0.32224813, 0.17739497, 0.81804273, 1.        ],\n",
       "       [0.38785352, 0.33640121, 0.19977579, 0.7828117 , 1.        ],\n",
       "       [0.34144382, 0.29404588, 0.17474044, 0.72510226, 1.        ],\n",
       "       [0.41818794, 0.38259068, 0.2423634 , 0.87872382, 1.        ],\n",
       "       [0.41700822, 0.37187472, 0.22086821, 0.87710166, 1.        ],\n",
       "       [0.7366774 , 0.72016493, 0.69150824, 0.83743209, 1.        ],\n",
       "       [0.43154981, 0.39624561, 0.25196637, 0.88273779, 1.        ],\n",
       "       [0.33533506, 0.27954742, 0.14630188, 0.73718561, 1.        ],\n",
       "       [0.40966122, 0.37371571, 0.24695294, 0.85290606, 1.        ],\n",
       "       [0.44069851, 0.41331351, 0.2861161 , 0.82256998, 1.        ],\n",
       "       [0.44740561, 0.40657822, 0.24823192, 0.88207899, 1.        ],\n",
       "       [0.55346082, 0.49809448, 0.37520655, 0.83259006, 1.        ],\n",
       "       [0.42884084, 0.37994695, 0.24152229, 0.83789151, 1.        ],\n",
       "       [0.60308618, 0.57887429, 0.50082355, 0.84435526, 1.        ],\n",
       "       [0.36259799, 0.30078434, 0.17607714, 0.6982886 , 1.        ],\n",
       "       [0.41956828, 0.3819109 , 0.24817364, 0.84449168, 1.        ],\n",
       "       [0.448353  , 0.43754505, 0.3212088 , 0.84810615, 1.        ],\n",
       "       [0.41725197, 0.34967208, 0.21284493, 0.80436902, 1.        ],\n",
       "       [0.35907611, 0.32747898, 0.23311616, 0.60244077, 1.        ],\n",
       "       [0.41839236, 0.40618171, 0.26458915, 0.86453267, 1.        ],\n",
       "       [0.4178787 , 0.37201749, 0.23262771, 0.83213897, 1.        ],\n",
       "       [0.33886552, 0.29535866, 0.18117148, 0.71807255, 1.        ],\n",
       "       [0.39326972, 0.35981929, 0.22290874, 0.84652429, 1.        ],\n",
       "       [0.41217878, 0.35377957, 0.20380643, 0.85437379, 1.        ],\n",
       "       [0.4290286 , 0.37795201, 0.227024  , 0.85408809, 1.        ],\n",
       "       [0.4053529 , 0.36097027, 0.2075416 , 0.86328452, 1.        ]])"
      ]
     },
     "execution_count": 43,
     "metadata": {},
     "output_type": "execute_result"
    }
   ],
   "source": [
    "sample_04_0hc[:100]"
   ]
  },
  {
   "cell_type": "code",
   "execution_count": 42,
   "metadata": {},
   "outputs": [
    {
     "data": {
      "text/plain": [
       "(680, 5)"
      ]
     },
     "execution_count": 42,
     "metadata": {},
     "output_type": "execute_result"
    }
   ],
   "source": [
    "sample_04_1h.shape"
   ]
  },
  {
   "cell_type": "code",
   "execution_count": 66,
   "metadata": {},
   "outputs": [
    {
     "name": "stderr",
     "output_type": "stream",
     "text": [
      "<ipython-input-66-836e689b2fab>:1: FutureWarning: `rcond` parameter will change to the default of machine precision times ``max(M, N)`` where M and N are the input matrix dimensions.\n",
      "To use the future default and silence this warning we advise to pass `rcond=None`, to keep using the old, explicitly pass `rcond=-1`.\n",
      "  ColorCorrectionMatrix_04 = np.linalg.lstsq(sample_04_0hc[350:], sample_04_1h[350:])[0]\n"
     ]
    }
   ],
   "source": [
    "ColorCorrectionMatrix_04 = np.linalg.lstsq(sample_04_0hc[350:], sample_04_1h[350:])[0]"
   ]
  },
  {
   "cell_type": "code",
   "execution_count": 28,
   "metadata": {},
   "outputs": [],
   "source": [
    "np.save(\"/media/philipp/DATA/color_corr_matrix/04_mariazell_st_poelten/ColorCorrectionMatrix_04\", ColorCorrectionMatrix_04)"
   ]
  },
  {
   "cell_type": "code",
   "execution_count": 45,
   "metadata": {},
   "outputs": [
    {
     "data": {
      "text/plain": [
       "array([[ 2.24890897e+00,  1.61976575e+00,  1.30554796e+00,\n",
       "        -2.56537514e-01,  3.49862040e-15],\n",
       "       [ 1.54209008e+00,  2.27167820e+00, -6.47245982e-01,\n",
       "         2.33793720e+00, -2.10942375e-15],\n",
       "       [-1.48224031e+00, -1.79580297e+00,  6.24800761e-01,\n",
       "        -1.30551756e+00,  2.08166817e-16],\n",
       "       [ 5.60903582e-02,  9.30645295e-02,  2.74509317e-01,\n",
       "         1.19262775e+00, -1.66533454e-16],\n",
       "       [-9.33839248e-01, -8.46054305e-01, -3.82568942e-01,\n",
       "        -1.01422310e+00,  1.00000000e+00]])"
      ]
     },
     "execution_count": 45,
     "metadata": {},
     "output_type": "execute_result"
    }
   ],
   "source": [
    "ColorCorrectionMatrix_04"
   ]
  },
  {
   "cell_type": "code",
   "execution_count": 67,
   "metadata": {},
   "outputs": [
    {
     "data": {
      "text/plain": [
       "array([[            nan,             nan,             nan,\n",
       "                    nan, -2.18434629e-16],\n",
       "       [            nan,             nan,             nan,\n",
       "                    nan,  2.22044605e-15],\n",
       "       [            nan,             nan,             nan,\n",
       "                    nan, -9.43689571e-16],\n",
       "       [            nan,             nan,             nan,\n",
       "                    nan,  0.00000000e+00],\n",
       "       [            nan,             nan,             nan,\n",
       "                    nan,  1.00000000e+00]])"
      ]
     },
     "execution_count": 67,
     "metadata": {},
     "output_type": "execute_result"
    }
   ],
   "source": [
    "ColorCorrectionMatrix_04"
   ]
  },
  {
   "cell_type": "code",
   "execution_count": null,
   "metadata": {},
   "outputs": [],
   "source": []
  },
  {
   "cell_type": "code",
   "execution_count": 35,
   "metadata": {},
   "outputs": [],
   "source": [
    "sample_04_0 = geopandas.read_file(path_file_0)\n",
    "sample_04_1 = geopandas.read_file(path_file_1)"
   ]
  },
  {
   "cell_type": "code",
   "execution_count": 36,
   "metadata": {},
   "outputs": [
    {
     "data": {
      "text/html": [
       "<div>\n",
       "<style scoped>\n",
       "    .dataframe tbody tr th:only-of-type {\n",
       "        vertical-align: middle;\n",
       "    }\n",
       "\n",
       "    .dataframe tbody tr th {\n",
       "        vertical-align: top;\n",
       "    }\n",
       "\n",
       "    .dataframe thead th {\n",
       "        text-align: right;\n",
       "    }\n",
       "</style>\n",
       "<table border=\"1\" class=\"dataframe\">\n",
       "  <thead>\n",
       "    <tr style=\"text-align: right;\">\n",
       "      <th></th>\n",
       "      <th>id</th>\n",
       "      <th>2017250__1</th>\n",
       "      <th>2017250__2</th>\n",
       "      <th>2017250__3</th>\n",
       "      <th>2017250__4</th>\n",
       "      <th>geometry</th>\n",
       "    </tr>\n",
       "  </thead>\n",
       "  <tbody>\n",
       "    <tr>\n",
       "      <th>0</th>\n",
       "      <td>1</td>\n",
       "      <td>104.0</td>\n",
       "      <td>106.0</td>\n",
       "      <td>71.0</td>\n",
       "      <td>211.0</td>\n",
       "      <td>POINT (523290.869 458928.114)</td>\n",
       "    </tr>\n",
       "    <tr>\n",
       "      <th>1</th>\n",
       "      <td>2</td>\n",
       "      <td>93.0</td>\n",
       "      <td>98.0</td>\n",
       "      <td>75.0</td>\n",
       "      <td>201.0</td>\n",
       "      <td>POINT (523320.131 458882.328)</td>\n",
       "    </tr>\n",
       "    <tr>\n",
       "      <th>2</th>\n",
       "      <td>3</td>\n",
       "      <td>113.0</td>\n",
       "      <td>117.0</td>\n",
       "      <td>78.0</td>\n",
       "      <td>217.0</td>\n",
       "      <td>POINT (523297.310 458912.152)</td>\n",
       "    </tr>\n",
       "    <tr>\n",
       "      <th>3</th>\n",
       "      <td>4</td>\n",
       "      <td>105.0</td>\n",
       "      <td>108.0</td>\n",
       "      <td>73.0</td>\n",
       "      <td>203.0</td>\n",
       "      <td>POINT (523345.191 458794.957)</td>\n",
       "    </tr>\n",
       "    <tr>\n",
       "      <th>4</th>\n",
       "      <td>5</td>\n",
       "      <td>112.0</td>\n",
       "      <td>124.0</td>\n",
       "      <td>75.0</td>\n",
       "      <td>209.0</td>\n",
       "      <td>POINT (523388.879 458862.863)</td>\n",
       "    </tr>\n",
       "    <tr>\n",
       "      <th>...</th>\n",
       "      <td>...</td>\n",
       "      <td>...</td>\n",
       "      <td>...</td>\n",
       "      <td>...</td>\n",
       "      <td>...</td>\n",
       "      <td>...</td>\n",
       "    </tr>\n",
       "    <tr>\n",
       "      <th>675</th>\n",
       "      <td>676</td>\n",
       "      <td>88.0</td>\n",
       "      <td>86.0</td>\n",
       "      <td>60.0</td>\n",
       "      <td>188.0</td>\n",
       "      <td>POINT (568309.063 459052.013)</td>\n",
       "    </tr>\n",
       "    <tr>\n",
       "      <th>676</th>\n",
       "      <td>677</td>\n",
       "      <td>112.0</td>\n",
       "      <td>101.0</td>\n",
       "      <td>85.0</td>\n",
       "      <td>186.0</td>\n",
       "      <td>POINT (568309.063 459045.442)</td>\n",
       "    </tr>\n",
       "    <tr>\n",
       "      <th>677</th>\n",
       "      <td>678</td>\n",
       "      <td>107.0</td>\n",
       "      <td>98.0</td>\n",
       "      <td>80.0</td>\n",
       "      <td>162.0</td>\n",
       "      <td>POINT (567923.949 459460.651)</td>\n",
       "    </tr>\n",
       "    <tr>\n",
       "      <th>678</th>\n",
       "      <td>679</td>\n",
       "      <td>117.0</td>\n",
       "      <td>124.0</td>\n",
       "      <td>90.0</td>\n",
       "      <td>212.0</td>\n",
       "      <td>POINT (567789.532 459475.790)</td>\n",
       "    </tr>\n",
       "    <tr>\n",
       "      <th>679</th>\n",
       "      <td>0</td>\n",
       "      <td>126.0</td>\n",
       "      <td>129.0</td>\n",
       "      <td>92.0</td>\n",
       "      <td>217.0</td>\n",
       "      <td>POINT (568216.621 459687.588)</td>\n",
       "    </tr>\n",
       "  </tbody>\n",
       "</table>\n",
       "<p>680 rows × 6 columns</p>\n",
       "</div>"
      ],
      "text/plain": [
       "      id  2017250__1  2017250__2  2017250__3  2017250__4  \\\n",
       "0      1       104.0       106.0        71.0       211.0   \n",
       "1      2        93.0        98.0        75.0       201.0   \n",
       "2      3       113.0       117.0        78.0       217.0   \n",
       "3      4       105.0       108.0        73.0       203.0   \n",
       "4      5       112.0       124.0        75.0       209.0   \n",
       "..   ...         ...         ...         ...         ...   \n",
       "675  676        88.0        86.0        60.0       188.0   \n",
       "676  677       112.0       101.0        85.0       186.0   \n",
       "677  678       107.0        98.0        80.0       162.0   \n",
       "678  679       117.0       124.0        90.0       212.0   \n",
       "679    0       126.0       129.0        92.0       217.0   \n",
       "\n",
       "                          geometry  \n",
       "0    POINT (523290.869 458928.114)  \n",
       "1    POINT (523320.131 458882.328)  \n",
       "2    POINT (523297.310 458912.152)  \n",
       "3    POINT (523345.191 458794.957)  \n",
       "4    POINT (523388.879 458862.863)  \n",
       "..                             ...  \n",
       "675  POINT (568309.063 459052.013)  \n",
       "676  POINT (568309.063 459045.442)  \n",
       "677  POINT (567923.949 459460.651)  \n",
       "678  POINT (567789.532 459475.790)  \n",
       "679  POINT (568216.621 459687.588)  \n",
       "\n",
       "[680 rows x 6 columns]"
      ]
     },
     "execution_count": 36,
     "metadata": {},
     "output_type": "execute_result"
    }
   ],
   "source": [
    "sample_04_0"
   ]
  },
  {
   "cell_type": "code",
   "execution_count": 37,
   "metadata": {},
   "outputs": [
    {
     "data": {
      "text/html": [
       "<div>\n",
       "<style scoped>\n",
       "    .dataframe tbody tr th:only-of-type {\n",
       "        vertical-align: middle;\n",
       "    }\n",
       "\n",
       "    .dataframe tbody tr th {\n",
       "        vertical-align: top;\n",
       "    }\n",
       "\n",
       "    .dataframe thead th {\n",
       "        text-align: right;\n",
       "    }\n",
       "</style>\n",
       "<table border=\"1\" class=\"dataframe\">\n",
       "  <thead>\n",
       "    <tr style=\"text-align: right;\">\n",
       "      <th></th>\n",
       "      <th>id</th>\n",
       "      <th>2017360__1</th>\n",
       "      <th>2017360__2</th>\n",
       "      <th>2017360__3</th>\n",
       "      <th>2017360__4</th>\n",
       "      <th>geometry</th>\n",
       "    </tr>\n",
       "  </thead>\n",
       "  <tbody>\n",
       "    <tr>\n",
       "      <th>0</th>\n",
       "      <td>1</td>\n",
       "      <td>80.0</td>\n",
       "      <td>102.0</td>\n",
       "      <td>77.0</td>\n",
       "      <td>140.0</td>\n",
       "      <td>POINT (523290.869 458928.114)</td>\n",
       "    </tr>\n",
       "    <tr>\n",
       "      <th>1</th>\n",
       "      <td>2</td>\n",
       "      <td>35.0</td>\n",
       "      <td>53.0</td>\n",
       "      <td>58.0</td>\n",
       "      <td>98.0</td>\n",
       "      <td>POINT (523320.131 458882.328)</td>\n",
       "    </tr>\n",
       "    <tr>\n",
       "      <th>2</th>\n",
       "      <td>3</td>\n",
       "      <td>84.0</td>\n",
       "      <td>108.0</td>\n",
       "      <td>84.0</td>\n",
       "      <td>154.0</td>\n",
       "      <td>POINT (523297.310 458912.152)</td>\n",
       "    </tr>\n",
       "    <tr>\n",
       "      <th>3</th>\n",
       "      <td>4</td>\n",
       "      <td>91.0</td>\n",
       "      <td>106.0</td>\n",
       "      <td>85.0</td>\n",
       "      <td>119.0</td>\n",
       "      <td>POINT (523345.191 458794.957)</td>\n",
       "    </tr>\n",
       "    <tr>\n",
       "      <th>4</th>\n",
       "      <td>5</td>\n",
       "      <td>55.0</td>\n",
       "      <td>69.0</td>\n",
       "      <td>64.0</td>\n",
       "      <td>129.0</td>\n",
       "      <td>POINT (523388.879 458862.863)</td>\n",
       "    </tr>\n",
       "    <tr>\n",
       "      <th>...</th>\n",
       "      <td>...</td>\n",
       "      <td>...</td>\n",
       "      <td>...</td>\n",
       "      <td>...</td>\n",
       "      <td>...</td>\n",
       "      <td>...</td>\n",
       "    </tr>\n",
       "    <tr>\n",
       "      <th>675</th>\n",
       "      <td>676</td>\n",
       "      <td>68.0</td>\n",
       "      <td>84.0</td>\n",
       "      <td>64.0</td>\n",
       "      <td>124.0</td>\n",
       "      <td>POINT (568309.063 459052.013)</td>\n",
       "    </tr>\n",
       "    <tr>\n",
       "      <th>676</th>\n",
       "      <td>677</td>\n",
       "      <td>83.0</td>\n",
       "      <td>94.0</td>\n",
       "      <td>73.0</td>\n",
       "      <td>113.0</td>\n",
       "      <td>POINT (568309.063 459045.442)</td>\n",
       "    </tr>\n",
       "    <tr>\n",
       "      <th>677</th>\n",
       "      <td>678</td>\n",
       "      <td>115.0</td>\n",
       "      <td>129.0</td>\n",
       "      <td>116.0</td>\n",
       "      <td>144.0</td>\n",
       "      <td>POINT (567923.949 459460.651)</td>\n",
       "    </tr>\n",
       "    <tr>\n",
       "      <th>678</th>\n",
       "      <td>679</td>\n",
       "      <td>45.0</td>\n",
       "      <td>53.0</td>\n",
       "      <td>52.0</td>\n",
       "      <td>84.0</td>\n",
       "      <td>POINT (567789.532 459475.790)</td>\n",
       "    </tr>\n",
       "    <tr>\n",
       "      <th>679</th>\n",
       "      <td>0</td>\n",
       "      <td>123.0</td>\n",
       "      <td>128.0</td>\n",
       "      <td>104.0</td>\n",
       "      <td>140.0</td>\n",
       "      <td>POINT (568216.621 459687.588)</td>\n",
       "    </tr>\n",
       "  </tbody>\n",
       "</table>\n",
       "<p>680 rows × 6 columns</p>\n",
       "</div>"
      ],
      "text/plain": [
       "      id  2017360__1  2017360__2  2017360__3  2017360__4  \\\n",
       "0      1        80.0       102.0        77.0       140.0   \n",
       "1      2        35.0        53.0        58.0        98.0   \n",
       "2      3        84.0       108.0        84.0       154.0   \n",
       "3      4        91.0       106.0        85.0       119.0   \n",
       "4      5        55.0        69.0        64.0       129.0   \n",
       "..   ...         ...         ...         ...         ...   \n",
       "675  676        68.0        84.0        64.0       124.0   \n",
       "676  677        83.0        94.0        73.0       113.0   \n",
       "677  678       115.0       129.0       116.0       144.0   \n",
       "678  679        45.0        53.0        52.0        84.0   \n",
       "679    0       123.0       128.0       104.0       140.0   \n",
       "\n",
       "                          geometry  \n",
       "0    POINT (523290.869 458928.114)  \n",
       "1    POINT (523320.131 458882.328)  \n",
       "2    POINT (523297.310 458912.152)  \n",
       "3    POINT (523345.191 458794.957)  \n",
       "4    POINT (523388.879 458862.863)  \n",
       "..                             ...  \n",
       "675  POINT (568309.063 459052.013)  \n",
       "676  POINT (568309.063 459045.442)  \n",
       "677  POINT (567923.949 459460.651)  \n",
       "678  POINT (567789.532 459475.790)  \n",
       "679  POINT (568216.621 459687.588)  \n",
       "\n",
       "[680 rows x 6 columns]"
      ]
     },
     "execution_count": 37,
     "metadata": {},
     "output_type": "execute_result"
    }
   ],
   "source": [
    "sample_04_1"
   ]
  },
  {
   "cell_type": "code",
   "execution_count": null,
   "metadata": {},
   "outputs": [],
   "source": []
  }
 ],
 "metadata": {
  "kernelspec": {
   "display_name": "geo_env",
   "language": "python",
   "name": "geo_env"
  },
  "language_info": {
   "codemirror_mode": {
    "name": "ipython",
    "version": 3
   },
   "file_extension": ".py",
   "mimetype": "text/x-python",
   "name": "python",
   "nbconvert_exporter": "python",
   "pygments_lexer": "ipython3",
   "version": "3.9.1"
  }
 },
 "nbformat": 4,
 "nbformat_minor": 4
}
