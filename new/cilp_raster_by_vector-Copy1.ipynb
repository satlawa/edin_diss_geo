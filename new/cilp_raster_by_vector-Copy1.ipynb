{
 "cells": [
  {
   "cell_type": "code",
   "execution_count": null,
   "metadata": {},
   "outputs": [],
   "source": []
  },
  {
   "cell_type": "code",
   "execution_count": 1,
   "metadata": {},
   "outputs": [],
   "source": [
    "import os\n",
    "import sys\n",
    "import geopandas\n",
    "import pandas as pd\n",
    "try:\n",
    "    from osgeo import ogr, osr, gdal\n",
    "except:\n",
    "    sys.exit('ERROR: cannot find GDAL/OGR modules')"
   ]
  },
  {
   "cell_type": "code",
   "execution_count": 2,
   "metadata": {},
   "outputs": [],
   "source": [
    "grid = geopandas.read_file('/home/philipp/Data/edin_diss/GIS_meta/overlap_grid/overlap_20_st_poelten_wien_grid.shp')"
   ]
  },
  {
   "cell_type": "code",
   "execution_count": 2,
   "metadata": {},
   "outputs": [],
   "source": [
    "grid = geopandas.read_file('/home/philipp/Data/edin_diss/GIS_meta/overlap_grid/mariazell_grid.shp')"
   ]
  },
  {
   "cell_type": "code",
   "execution_count": 3,
   "metadata": {},
   "outputs": [
    {
     "data": {
      "text/html": [
       "<div>\n",
       "<style scoped>\n",
       "    .dataframe tbody tr th:only-of-type {\n",
       "        vertical-align: middle;\n",
       "    }\n",
       "\n",
       "    .dataframe tbody tr th {\n",
       "        vertical-align: top;\n",
       "    }\n",
       "\n",
       "    .dataframe thead th {\n",
       "        text-align: right;\n",
       "    }\n",
       "</style>\n",
       "<table border=\"1\" class=\"dataframe\">\n",
       "  <thead>\n",
       "    <tr style=\"text-align: right;\">\n",
       "      <th></th>\n",
       "      <th>id</th>\n",
       "      <th>left</th>\n",
       "      <th>top</th>\n",
       "      <th>right</th>\n",
       "      <th>bottom</th>\n",
       "      <th>geometry</th>\n",
       "    </tr>\n",
       "  </thead>\n",
       "  <tbody>\n",
       "    <tr>\n",
       "      <th>0</th>\n",
       "      <td>1.0</td>\n",
       "      <td>552478.6753</td>\n",
       "      <td>432840.0327</td>\n",
       "      <td>556574.6753</td>\n",
       "      <td>428744.0327</td>\n",
       "      <td>POLYGON ((552478.675 432840.033, 556574.675 43...</td>\n",
       "    </tr>\n",
       "    <tr>\n",
       "      <th>1</th>\n",
       "      <td>2.0</td>\n",
       "      <td>552478.6753</td>\n",
       "      <td>428744.0327</td>\n",
       "      <td>556574.6753</td>\n",
       "      <td>424648.0327</td>\n",
       "      <td>POLYGON ((552478.675 428744.033, 556574.675 42...</td>\n",
       "    </tr>\n",
       "    <tr>\n",
       "      <th>2</th>\n",
       "      <td>3.0</td>\n",
       "      <td>552478.6753</td>\n",
       "      <td>424648.0327</td>\n",
       "      <td>556574.6753</td>\n",
       "      <td>420552.0327</td>\n",
       "      <td>POLYGON ((552478.675 424648.033, 556574.675 42...</td>\n",
       "    </tr>\n",
       "    <tr>\n",
       "      <th>3</th>\n",
       "      <td>4.0</td>\n",
       "      <td>552478.6753</td>\n",
       "      <td>420552.0327</td>\n",
       "      <td>556574.6753</td>\n",
       "      <td>416456.0327</td>\n",
       "      <td>POLYGON ((552478.675 420552.033, 556574.675 42...</td>\n",
       "    </tr>\n",
       "    <tr>\n",
       "      <th>4</th>\n",
       "      <td>5.0</td>\n",
       "      <td>552478.6753</td>\n",
       "      <td>416456.0327</td>\n",
       "      <td>556574.6753</td>\n",
       "      <td>412360.0327</td>\n",
       "      <td>POLYGON ((552478.675 416456.033, 556574.675 41...</td>\n",
       "    </tr>\n",
       "  </tbody>\n",
       "</table>\n",
       "</div>"
      ],
      "text/plain": [
       "    id         left          top        right       bottom  \\\n",
       "0  1.0  552478.6753  432840.0327  556574.6753  428744.0327   \n",
       "1  2.0  552478.6753  428744.0327  556574.6753  424648.0327   \n",
       "2  3.0  552478.6753  424648.0327  556574.6753  420552.0327   \n",
       "3  4.0  552478.6753  420552.0327  556574.6753  416456.0327   \n",
       "4  5.0  552478.6753  416456.0327  556574.6753  412360.0327   \n",
       "\n",
       "                                            geometry  \n",
       "0  POLYGON ((552478.675 432840.033, 556574.675 43...  \n",
       "1  POLYGON ((552478.675 428744.033, 556574.675 42...  \n",
       "2  POLYGON ((552478.675 424648.033, 556574.675 42...  \n",
       "3  POLYGON ((552478.675 420552.033, 556574.675 42...  \n",
       "4  POLYGON ((552478.675 416456.033, 556574.675 41...  "
      ]
     },
     "execution_count": 3,
     "metadata": {},
     "output_type": "execute_result"
    }
   ],
   "source": [
    "i = 1\n",
    "grid.head()"
   ]
  },
  {
   "cell_type": "code",
   "execution_count": 4,
   "metadata": {},
   "outputs": [],
   "source": [
    "extend = grid.loc[i,'geometry'].bounds"
   ]
  },
  {
   "cell_type": "code",
   "execution_count": 5,
   "metadata": {},
   "outputs": [
    {
     "data": {
      "text/plain": [
       "(552478.6753, 424648.0327, 556574.6753, 428744.0327)"
      ]
     },
     "execution_count": 5,
     "metadata": {},
     "output_type": "execute_result"
    }
   ],
   "source": [
    "extend"
   ]
  },
  {
   "cell_type": "code",
   "execution_count": 6,
   "metadata": {},
   "outputs": [
    {
     "data": {
      "text/plain": [
       "552478.6753"
      ]
     },
     "execution_count": 6,
     "metadata": {},
     "output_type": "execute_result"
    }
   ],
   "source": [
    "extend[0]"
   ]
  },
  {
   "cell_type": "code",
   "execution_count": 7,
   "metadata": {},
   "outputs": [
    {
     "data": {
      "text/plain": [
       "True"
      ]
     },
     "execution_count": 7,
     "metadata": {},
     "output_type": "execute_result"
    }
   ],
   "source": [
    "os.path.isfile('/media/philipp/Seagate Desktop Drive/2017/2017250_stpoelten_lb_rgbi.img') "
   ]
  },
  {
   "cell_type": "code",
   "execution_count": 30,
   "metadata": {},
   "outputs": [],
   "source": [
    "path_raster = '/media/philipp/Seagate\\ Desktop\\ Drive/2017/2017360_mariazell_lb_rgbi.img'\n",
    "path_out = \"/media/philipp/DATA/color_corr_matrix/02_nordburgenland_mariazell/overlap_rev_{}.tif\".format(i)\n",
    "\n",
    "bashCommand = \"gdal_translate -projwin {} {} {} {} -a_nodata 0.0 -of GTiff {} {}\".format(extend[0], extend[3], extend[2], extend[1], path_raster, path_out)"
   ]
  },
  {
   "cell_type": "code",
   "execution_count": 31,
   "metadata": {},
   "outputs": [
    {
     "data": {
      "text/plain": [
       "'gdal_translate -projwin 596339.2880734366 460034.3724556746 598387.2880734366 457986.3724556746 -a_nodata 0.0 -of GTiff /media/philipp/Seagate\\\\ Desktop\\\\ Drive/2017/2017360_mariazell_lb_rgbi.img /media/philipp/DATA/color_corr_matrix/02_nordburgenland_mariazell/overlap_rev_1.tif'"
      ]
     },
     "execution_count": 31,
     "metadata": {},
     "output_type": "execute_result"
    }
   ],
   "source": [
    "bashCommand"
   ]
  },
  {
   "cell_type": "code",
   "execution_count": 32,
   "metadata": {},
   "outputs": [
    {
     "data": {
      "text/plain": [
       "0"
      ]
     },
     "execution_count": 32,
     "metadata": {},
     "output_type": "execute_result"
    }
   ],
   "source": [
    "os.system(bashCommand)"
   ]
  },
  {
   "cell_type": "code",
   "execution_count": 23,
   "metadata": {},
   "outputs": [
    {
     "data": {
      "text/plain": [
       "True"
      ]
     },
     "execution_count": 23,
     "metadata": {},
     "output_type": "execute_result"
    }
   ],
   "source": [
    "os.path.isfile(path_raster)"
   ]
  },
  {
   "cell_type": "code",
   "execution_count": null,
   "metadata": {},
   "outputs": [],
   "source": []
  },
  {
   "cell_type": "code",
   "execution_count": 8,
   "metadata": {
    "scrolled": true
   },
   "outputs": [
    {
     "name": "stdout",
     "output_type": "stream",
     "text": [
      "finished grid nr. 0\n",
      "finished grid nr. 1\n",
      "finished grid nr. 2\n",
      "finished grid nr. 3\n",
      "finished grid nr. 4\n",
      "finished grid nr. 5\n",
      "finished grid nr. 6\n",
      "finished grid nr. 7\n",
      "finished grid nr. 8\n",
      "finished grid nr. 9\n",
      "finished grid nr. 10\n",
      "finished grid nr. 11\n",
      "finished grid nr. 12\n",
      "finished grid nr. 13\n",
      "finished grid nr. 14\n",
      "finished grid nr. 15\n",
      "finished grid nr. 16\n",
      "finished grid nr. 17\n",
      "finished grid nr. 18\n",
      "finished grid nr. 19\n",
      "finished grid nr. 20\n",
      "finished grid nr. 21\n",
      "finished grid nr. 22\n",
      "finished grid nr. 23\n",
      "finished grid nr. 24\n",
      "finished grid nr. 25\n",
      "finished grid nr. 26\n",
      "finished grid nr. 27\n",
      "finished grid nr. 28\n",
      "finished grid nr. 29\n",
      "finished grid nr. 30\n",
      "finished grid nr. 31\n",
      "finished grid nr. 32\n",
      "finished grid nr. 33\n",
      "finished grid nr. 34\n",
      "finished grid nr. 35\n",
      "finished grid nr. 36\n",
      "finished grid nr. 37\n",
      "finished grid nr. 38\n",
      "finished grid nr. 39\n",
      "finished grid nr. 40\n",
      "finished grid nr. 41\n",
      "finished grid nr. 42\n",
      "finished grid nr. 43\n",
      "finished grid nr. 44\n",
      "finished grid nr. 45\n",
      "finished grid nr. 46\n",
      "finished grid nr. 47\n",
      "finished grid nr. 48\n",
      "finished grid nr. 49\n",
      "finished grid nr. 50\n",
      "finished grid nr. 51\n",
      "finished grid nr. 52\n",
      "finished grid nr. 53\n",
      "finished grid nr. 54\n",
      "finished grid nr. 55\n",
      "finished grid nr. 56\n",
      "finished grid nr. 57\n",
      "finished grid nr. 58\n",
      "finished grid nr. 59\n",
      "finished grid nr. 60\n",
      "finished grid nr. 61\n",
      "finished grid nr. 62\n",
      "finished grid nr. 63\n",
      "finished grid nr. 64\n",
      "finished grid nr. 65\n"
     ]
    }
   ],
   "source": [
    "for i in range(grid.shape[0]):\n",
    "    extend = grid.loc[i,'geometry'].bounds\n",
    "    \n",
    "    path_raster = '/media/philipp/Seagate\\ Desktop\\ Drive/2017/2017250_stpoelten_lb_rgbi.img'\n",
    "    path_out = \"/media/philipp/DATA/color_corr_matrix/20_st_poelten_wien/overlap_{}.tif\".format(i)\n",
    "\n",
    "    bashCommand = \"gdal_translate -projwin {} {} {} {} -a_nodata 0.0 -of GTiff {} {}\".format(extend[0], extend[3], extend[2], extend[1], path_raster, path_out)\n",
    "    os.system(bashCommand)\n",
    "    \n",
    "    print(\"finished grid nr. {}\".format(i))"
   ]
  },
  {
   "cell_type": "code",
   "execution_count": 9,
   "metadata": {},
   "outputs": [
    {
     "name": "stdout",
     "output_type": "stream",
     "text": [
      "finished grid nr. 6\n",
      "finished grid nr. 8\n"
     ]
    }
   ],
   "source": [
    "for i in [6,8]:\n",
    "    extend = grid.loc[i,'geometry'].bounds\n",
    "    \n",
    "    path_raster = '/media/philipp/Seagate\\ Desktop\\ Drive/2017/2017360_mariazell_lb_rgbi.img'\n",
    "    path_out = \"/media/philipp/DATA/ortho/mariazell_{}.tif\".format(i)\n",
    "\n",
    "    bashCommand = \"gdal_translate -projwin {} {} {} {} -a_nodata 0.0 -of GTiff {} {}\".format(extend[0], extend[3], extend[2], extend[1], path_raster, path_out)\n",
    "    os.system(bashCommand)\n",
    "    \n",
    "    print(\"finished grid nr. {}\".format(i))"
   ]
  },
  {
   "cell_type": "code",
   "execution_count": null,
   "metadata": {},
   "outputs": [],
   "source": []
  }
 ],
 "metadata": {
  "kernelspec": {
   "display_name": "geo",
   "language": "python",
   "name": "geo"
  },
  "language_info": {
   "codemirror_mode": {
    "name": "ipython",
    "version": 3
   },
   "file_extension": ".py",
   "mimetype": "text/x-python",
   "name": "python",
   "nbconvert_exporter": "python",
   "pygments_lexer": "ipython3",
   "version": "3.8.2"
  }
 },
 "nbformat": 4,
 "nbformat_minor": 4
}
