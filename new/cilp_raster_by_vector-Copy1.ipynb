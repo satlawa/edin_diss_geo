{
 "cells": [
  {
   "cell_type": "code",
   "execution_count": null,
   "metadata": {},
   "outputs": [],
   "source": []
  },
  {
   "cell_type": "code",
   "execution_count": 1,
   "metadata": {},
   "outputs": [],
   "source": [
    "import os\n",
    "import sys\n",
    "import geopandas\n",
    "import pandas as pd\n",
    "try:\n",
    "    from osgeo import ogr, osr, gdal\n",
    "except:\n",
    "    sys.exit('ERROR: cannot find GDAL/OGR modules')"
   ]
  },
  {
   "cell_type": "code",
   "execution_count": 2,
   "metadata": {},
   "outputs": [],
   "source": [
    "grid = geopandas.read_file('/home/philipp/Data/edin_diss/GIS_meta/fly_blocks_overlap.shp')"
   ]
  },
  {
   "cell_type": "code",
   "execution_count": 3,
   "metadata": {},
   "outputs": [
    {
     "data": {
      "text/html": [
       "<div>\n",
       "<style scoped>\n",
       "    .dataframe tbody tr th:only-of-type {\n",
       "        vertical-align: middle;\n",
       "    }\n",
       "\n",
       "    .dataframe tbody tr th {\n",
       "        vertical-align: top;\n",
       "    }\n",
       "\n",
       "    .dataframe thead th {\n",
       "        text-align: right;\n",
       "    }\n",
       "</style>\n",
       "<table border=\"1\" class=\"dataframe\">\n",
       "  <thead>\n",
       "    <tr style=\"text-align: right;\">\n",
       "      <th></th>\n",
       "      <th>name_1</th>\n",
       "      <th>year_1</th>\n",
       "      <th>file_1</th>\n",
       "      <th>id</th>\n",
       "      <th>year_2</th>\n",
       "      <th>name_2</th>\n",
       "      <th>file_2</th>\n",
       "      <th>geometry</th>\n",
       "    </tr>\n",
       "  </thead>\n",
       "  <tbody>\n",
       "    <tr>\n",
       "      <th>0</th>\n",
       "      <td>Nordburgenland</td>\n",
       "      <td>2019.0</td>\n",
       "      <td>2019150_nordburgenland_lb_rgbi.img</td>\n",
       "      <td>1.0</td>\n",
       "      <td>2018.0</td>\n",
       "      <td>Wien</td>\n",
       "      <td>2018460_wien_lb_rgbi.img</td>\n",
       "      <td>POLYGON ((671995.597 492379.065, 671995.597 46...</td>\n",
       "    </tr>\n",
       "    <tr>\n",
       "      <th>1</th>\n",
       "      <td>Wien</td>\n",
       "      <td>2018.0</td>\n",
       "      <td>2018460_wien_lb_rgbi.img</td>\n",
       "      <td>4.0</td>\n",
       "      <td>2017.0</td>\n",
       "      <td>St_Poelten</td>\n",
       "      <td>2017250_stpoelten_lb_rgbi.img</td>\n",
       "      <td>POLYGON ((599957.002 514827.376, 599957.002 46...</td>\n",
       "    </tr>\n",
       "    <tr>\n",
       "      <th>2</th>\n",
       "      <td>Nordburgenland</td>\n",
       "      <td>2019.0</td>\n",
       "      <td>2019150_nordburgenland_lb_rgbi.img</td>\n",
       "      <td>2.0</td>\n",
       "      <td>2017.0</td>\n",
       "      <td>Mariazell</td>\n",
       "      <td>2017360_mariazell_lb_rgbi.img</td>\n",
       "      <td>POLYGON ((596339.288 462082.372, 602080.127 46...</td>\n",
       "    </tr>\n",
       "    <tr>\n",
       "      <th>3</th>\n",
       "      <td>Nordburgenland</td>\n",
       "      <td>2019.0</td>\n",
       "      <td>2019150_nordburgenland_lb_rgbi.img</td>\n",
       "      <td>3.0</td>\n",
       "      <td>2019.0</td>\n",
       "      <td>Suedburgenland</td>\n",
       "      <td>2019250_suedburgenland_lb_rgbi.img</td>\n",
       "      <td>POLYGON ((598540.814 434188.172, 658744.814 43...</td>\n",
       "    </tr>\n",
       "    <tr>\n",
       "      <th>4</th>\n",
       "      <td>Wien</td>\n",
       "      <td>2018.0</td>\n",
       "      <td>2018460_wien_lb_rgbi.img</td>\n",
       "      <td>22.0</td>\n",
       "      <td>2018.0</td>\n",
       "      <td>Weinviertel</td>\n",
       "      <td>2018450_weinviertel_lb_rgbi.img</td>\n",
       "      <td>POLYGON ((669207.437 514827.376, 669207.437 50...</td>\n",
       "    </tr>\n",
       "  </tbody>\n",
       "</table>\n",
       "</div>"
      ],
      "text/plain": [
       "           name_1  year_1                              file_1    id  year_2  \\\n",
       "0  Nordburgenland  2019.0  2019150_nordburgenland_lb_rgbi.img   1.0  2018.0   \n",
       "1            Wien  2018.0            2018460_wien_lb_rgbi.img   4.0  2017.0   \n",
       "2  Nordburgenland  2019.0  2019150_nordburgenland_lb_rgbi.img   2.0  2017.0   \n",
       "3  Nordburgenland  2019.0  2019150_nordburgenland_lb_rgbi.img   3.0  2019.0   \n",
       "4            Wien  2018.0            2018460_wien_lb_rgbi.img  22.0  2018.0   \n",
       "\n",
       "           name_2                              file_2  \\\n",
       "0            Wien            2018460_wien_lb_rgbi.img   \n",
       "1      St_Poelten       2017250_stpoelten_lb_rgbi.img   \n",
       "2       Mariazell       2017360_mariazell_lb_rgbi.img   \n",
       "3  Suedburgenland  2019250_suedburgenland_lb_rgbi.img   \n",
       "4     Weinviertel     2018450_weinviertel_lb_rgbi.img   \n",
       "\n",
       "                                            geometry  \n",
       "0  POLYGON ((671995.597 492379.065, 671995.597 46...  \n",
       "1  POLYGON ((599957.002 514827.376, 599957.002 46...  \n",
       "2  POLYGON ((596339.288 462082.372, 602080.127 46...  \n",
       "3  POLYGON ((598540.814 434188.172, 658744.814 43...  \n",
       "4  POLYGON ((669207.437 514827.376, 669207.437 50...  "
      ]
     },
     "execution_count": 3,
     "metadata": {},
     "output_type": "execute_result"
    }
   ],
   "source": [
    "grid.head()"
   ]
  },
  {
   "cell_type": "code",
   "execution_count": 24,
   "metadata": {},
   "outputs": [
    {
     "data": {
      "text/html": [
       "<div>\n",
       "<style scoped>\n",
       "    .dataframe tbody tr th:only-of-type {\n",
       "        vertical-align: middle;\n",
       "    }\n",
       "\n",
       "    .dataframe tbody tr th {\n",
       "        vertical-align: top;\n",
       "    }\n",
       "\n",
       "    .dataframe thead th {\n",
       "        text-align: right;\n",
       "    }\n",
       "</style>\n",
       "<table border=\"1\" class=\"dataframe\">\n",
       "  <thead>\n",
       "    <tr style=\"text-align: right;\">\n",
       "      <th></th>\n",
       "      <th>name_1</th>\n",
       "      <th>year_1</th>\n",
       "      <th>file_1</th>\n",
       "      <th>id</th>\n",
       "      <th>year_2</th>\n",
       "      <th>name_2</th>\n",
       "      <th>file_2</th>\n",
       "      <th>geometry</th>\n",
       "    </tr>\n",
       "  </thead>\n",
       "  <tbody>\n",
       "    <tr>\n",
       "      <th>5</th>\n",
       "      <td>St_Poelten</td>\n",
       "      <td>2018.0</td>\n",
       "      <td>2017250_stpoelten_lb_rgbi.img</td>\n",
       "      <td>15.0</td>\n",
       "      <td>2018.0</td>\n",
       "      <td>Waldviertel</td>\n",
       "      <td>2018150_waldviertel_lb_rgbi.img</td>\n",
       "      <td>POLYGON ((597831.935 517027.236, 597831.935 51...</td>\n",
       "    </tr>\n",
       "    <tr>\n",
       "      <th>6</th>\n",
       "      <td>Mariazell</td>\n",
       "      <td>2017.0</td>\n",
       "      <td>2017360_mariazell_lb_rgbi.img</td>\n",
       "      <td>4.0</td>\n",
       "      <td>2019.0</td>\n",
       "      <td>Windischgarsten</td>\n",
       "      <td>2019450_windischgarsten_lb_rgbi.img</td>\n",
       "      <td>POLYGON ((522465.327 443685.387, 527450.890 44...</td>\n",
       "    </tr>\n",
       "    <tr>\n",
       "      <th>7</th>\n",
       "      <td>Mariazell</td>\n",
       "      <td>2017.0</td>\n",
       "      <td>2017360_mariazell_lb_rgbi.img</td>\n",
       "      <td>5.0</td>\n",
       "      <td>2019.0</td>\n",
       "      <td>Steyr</td>\n",
       "      <td>2019350_steyr_lb_rgbi.img</td>\n",
       "      <td>POLYGON ((526208.070 462082.372, 526208.070 44...</td>\n",
       "    </tr>\n",
       "    <tr>\n",
       "      <th>8</th>\n",
       "      <td>Mariazell</td>\n",
       "      <td>2017.0</td>\n",
       "      <td>2017360_mariazell_lb_rgbi.img</td>\n",
       "      <td>16.0</td>\n",
       "      <td>2017.0</td>\n",
       "      <td>Murtal</td>\n",
       "      <td>2017450_murtal_lb_rgbi.img</td>\n",
       "      <td>POLYGON ((524591.298 407141.761, 602080.127 40...</td>\n",
       "    </tr>\n",
       "    <tr>\n",
       "      <th>9</th>\n",
       "      <td>Windischgarsten</td>\n",
       "      <td>2019.0</td>\n",
       "      <td>2019450_windischgarsten_lb_rgbi.img</td>\n",
       "      <td>6.0</td>\n",
       "      <td>2017.0</td>\n",
       "      <td>Salzburg</td>\n",
       "      <td>2017460_salzburg_lb_rgbi.img</td>\n",
       "      <td>POLYGON ((451235.045 443685.387, 451235.045 41...</td>\n",
       "    </tr>\n",
       "    <tr>\n",
       "      <th>10</th>\n",
       "      <td>Salzburg</td>\n",
       "      <td>2017.0</td>\n",
       "      <td>2017460_salzburg_lb_rgbi.img</td>\n",
       "      <td>7.0</td>\n",
       "      <td>2018.0</td>\n",
       "      <td>Bischofshofen</td>\n",
       "      <td>2018250_bischofshofen_lb_rgbi.img</td>\n",
       "      <td>POLYGON ((373758.970 418695.083, 451232.370 41...</td>\n",
       "    </tr>\n",
       "    <tr>\n",
       "      <th>11</th>\n",
       "      <td>Bischofshofen</td>\n",
       "      <td>2018.0</td>\n",
       "      <td>2018250_bischofshofen_lb_rgbi.img</td>\n",
       "      <td>8.0</td>\n",
       "      <td>2018.0</td>\n",
       "      <td>Tamsweg</td>\n",
       "      <td>2018360_tamsweg_lb_rgbi.img</td>\n",
       "      <td>POLYGON ((373758.970 383707.550, 451232.370 38...</td>\n",
       "    </tr>\n",
       "    <tr>\n",
       "      <th>12</th>\n",
       "      <td>Tamsweg</td>\n",
       "      <td>2018.0</td>\n",
       "      <td>2018360_tamsweg_lb_rgbi.img</td>\n",
       "      <td>9.0</td>\n",
       "      <td>2018.0</td>\n",
       "      <td>Zell_am_See</td>\n",
       "      <td>2018470_zell_am_see_lb_rgbi.img</td>\n",
       "      <td>POLYGON ((376258.084 383707.550, 376258.084 34...</td>\n",
       "    </tr>\n",
       "    <tr>\n",
       "      <th>13</th>\n",
       "      <td>Zell_am_See</td>\n",
       "      <td>2018.0</td>\n",
       "      <td>2018470_zell_am_see_lb_rgbi.img</td>\n",
       "      <td>10.0</td>\n",
       "      <td>2018.0</td>\n",
       "      <td>Kitzbuehel</td>\n",
       "      <td>2018260_kitzbuehel_lb_rgbi.img</td>\n",
       "      <td>POLYGON ((376258.084 381707.539, 308783.369 38...</td>\n",
       "    </tr>\n",
       "    <tr>\n",
       "      <th>14</th>\n",
       "      <td>Zell_am_See</td>\n",
       "      <td>2018.0</td>\n",
       "      <td>2018470_zell_am_see_lb_rgbi.img</td>\n",
       "      <td>11.0</td>\n",
       "      <td>2019.0</td>\n",
       "      <td>Zillertal</td>\n",
       "      <td>2019470_zillertal_lb_rgbi.img</td>\n",
       "      <td>POLYGON ((311283.172 383708.805, 311283.172 34...</td>\n",
       "    </tr>\n",
       "    <tr>\n",
       "      <th>15</th>\n",
       "      <td>Zillertal</td>\n",
       "      <td>2019.0</td>\n",
       "      <td>2019470_zillertal_lb_rgbi.img</td>\n",
       "      <td>12.0</td>\n",
       "      <td>2019.0</td>\n",
       "      <td>Innsbruck</td>\n",
       "      <td>2019370_innsbruck_lb_rgbi.img</td>\n",
       "      <td>POLYGON ((270047.572 414780.846, 275756.049 41...</td>\n",
       "    </tr>\n",
       "  </tbody>\n",
       "</table>\n",
       "</div>"
      ],
      "text/plain": [
       "             name_1  year_1                               file_1    id  \\\n",
       "5        St_Poelten  2018.0        2017250_stpoelten_lb_rgbi.img  15.0   \n",
       "6         Mariazell  2017.0        2017360_mariazell_lb_rgbi.img   4.0   \n",
       "7         Mariazell  2017.0        2017360_mariazell_lb_rgbi.img   5.0   \n",
       "8         Mariazell  2017.0        2017360_mariazell_lb_rgbi.img  16.0   \n",
       "9   Windischgarsten  2019.0  2019450_windischgarsten_lb_rgbi.img   6.0   \n",
       "10         Salzburg  2017.0         2017460_salzburg_lb_rgbi.img   7.0   \n",
       "11    Bischofshofen  2018.0    2018250_bischofshofen_lb_rgbi.img   8.0   \n",
       "12          Tamsweg  2018.0          2018360_tamsweg_lb_rgbi.img   9.0   \n",
       "13      Zell_am_See  2018.0      2018470_zell_am_see_lb_rgbi.img  10.0   \n",
       "14      Zell_am_See  2018.0      2018470_zell_am_see_lb_rgbi.img  11.0   \n",
       "15        Zillertal  2019.0        2019470_zillertal_lb_rgbi.img  12.0   \n",
       "\n",
       "    year_2           name_2                               file_2  \\\n",
       "5   2018.0      Waldviertel      2018150_waldviertel_lb_rgbi.img   \n",
       "6   2019.0  Windischgarsten  2019450_windischgarsten_lb_rgbi.img   \n",
       "7   2019.0            Steyr            2019350_steyr_lb_rgbi.img   \n",
       "8   2017.0           Murtal           2017450_murtal_lb_rgbi.img   \n",
       "9   2017.0         Salzburg         2017460_salzburg_lb_rgbi.img   \n",
       "10  2018.0    Bischofshofen    2018250_bischofshofen_lb_rgbi.img   \n",
       "11  2018.0          Tamsweg          2018360_tamsweg_lb_rgbi.img   \n",
       "12  2018.0      Zell_am_See      2018470_zell_am_see_lb_rgbi.img   \n",
       "13  2018.0       Kitzbuehel       2018260_kitzbuehel_lb_rgbi.img   \n",
       "14  2019.0        Zillertal        2019470_zillertal_lb_rgbi.img   \n",
       "15  2019.0        Innsbruck        2019370_innsbruck_lb_rgbi.img   \n",
       "\n",
       "                                             geometry  \n",
       "5   POLYGON ((597831.935 517027.236, 597831.935 51...  \n",
       "6   POLYGON ((522465.327 443685.387, 527450.890 44...  \n",
       "7   POLYGON ((526208.070 462082.372, 526208.070 44...  \n",
       "8   POLYGON ((524591.298 407141.761, 602080.127 40...  \n",
       "9   POLYGON ((451235.045 443685.387, 451235.045 41...  \n",
       "10  POLYGON ((373758.970 418695.083, 451232.370 41...  \n",
       "11  POLYGON ((373758.970 383707.550, 451232.370 38...  \n",
       "12  POLYGON ((376258.084 383707.550, 376258.084 34...  \n",
       "13  POLYGON ((376258.084 381707.539, 308783.369 38...  \n",
       "14  POLYGON ((311283.172 383708.805, 311283.172 34...  \n",
       "15  POLYGON ((270047.572 414780.846, 275756.049 41...  "
      ]
     },
     "execution_count": 24,
     "metadata": {},
     "output_type": "execute_result"
    }
   ],
   "source": [
    "grid.loc[5:15,:]"
   ]
  },
  {
   "cell_type": "code",
   "execution_count": 27,
   "metadata": {},
   "outputs": [],
   "source": [
    "extend = grid.loc[6,'geometry'].bounds"
   ]
  },
  {
   "cell_type": "code",
   "execution_count": 28,
   "metadata": {},
   "outputs": [
    {
     "data": {
      "text/plain": [
       "(522465.3269301334, 406697.7869140269, 527450.890192066, 443685.38691402687)"
      ]
     },
     "execution_count": 28,
     "metadata": {},
     "output_type": "execute_result"
    }
   ],
   "source": [
    "extend"
   ]
  },
  {
   "cell_type": "code",
   "execution_count": 19,
   "metadata": {},
   "outputs": [
    {
     "data": {
      "text/plain": [
       "373758.97009303217"
      ]
     },
     "execution_count": 19,
     "metadata": {},
     "output_type": "execute_result"
    }
   ],
   "source": [
    "extend[0]"
   ]
  },
  {
   "cell_type": "code",
   "execution_count": 20,
   "metadata": {},
   "outputs": [
    {
     "data": {
      "text/plain": [
       "True"
      ]
     },
     "execution_count": 20,
     "metadata": {},
     "output_type": "execute_result"
    }
   ],
   "source": [
    "os.path.isfile('/media/philipp/Seagate Desktop Drive/2018/2018250_bischofshofen_lb_rgbi.img') "
   ]
  },
  {
   "cell_type": "code",
   "execution_count": 21,
   "metadata": {},
   "outputs": [],
   "source": [
    "path_raster = '/media/philipp/Seagate Desktop Drive/2018/2018250_bischofshofen_lb_rgbi.img'\n",
    "path_out = \"/media/philipp/DATA/overlap/overlap_{}_{}.tif\".format(grid.loc[11,'name_1'], grid.loc[11,'name_2'])\n",
    "\n",
    "bashCommand = \"gdal_translate -projwin {} {} {} {} -a_nodata 0.0 -of GTiff {} {}\".format(extend[0], extend[3], extend[2], extend[1], path_raster, path_out)"
   ]
  },
  {
   "cell_type": "code",
   "execution_count": 22,
   "metadata": {},
   "outputs": [
    {
     "data": {
      "text/plain": [
       "'gdal_translate -projwin 373758.97009303217 383707.5496682193 451232.3700930322 381707.48341240827 -a_nodata 0.0 -of GTiff /media/philipp/Seagate Desktop Drive/2018/2018250_bischofshofen_lb_rgbi.img /media/philipp/DATA/overlap/overlap_Bischofshofen_Tamsweg.tif'"
      ]
     },
     "execution_count": 22,
     "metadata": {},
     "output_type": "execute_result"
    }
   ],
   "source": [
    "bashCommand"
   ]
  },
  {
   "cell_type": "code",
   "execution_count": 23,
   "metadata": {},
   "outputs": [
    {
     "data": {
      "text/plain": [
       "256"
      ]
     },
     "execution_count": 23,
     "metadata": {},
     "output_type": "execute_result"
    }
   ],
   "source": [
    "os.system(bashCommand)"
   ]
  },
  {
   "cell_type": "code",
   "execution_count": 23,
   "metadata": {},
   "outputs": [
    {
     "data": {
      "text/plain": [
       "True"
      ]
     },
     "execution_count": 23,
     "metadata": {},
     "output_type": "execute_result"
    }
   ],
   "source": [
    "os.path.isfile(path_raster)"
   ]
  },
  {
   "cell_type": "code",
   "execution_count": null,
   "metadata": {},
   "outputs": [],
   "source": []
  }
 ],
 "metadata": {
  "kernelspec": {
   "display_name": "geo",
   "language": "python",
   "name": "geo"
  },
  "language_info": {
   "codemirror_mode": {
    "name": "ipython",
    "version": 3
   },
   "file_extension": ".py",
   "mimetype": "text/x-python",
   "name": "python",
   "nbconvert_exporter": "python",
   "pygments_lexer": "ipython3",
   "version": "3.8.2"
  }
 },
 "nbformat": 4,
 "nbformat_minor": 4
}
