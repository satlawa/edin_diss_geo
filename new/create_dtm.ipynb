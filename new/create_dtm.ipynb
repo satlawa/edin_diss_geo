{
 "cells": [
  {
   "cell_type": "code",
   "execution_count": null,
   "metadata": {},
   "outputs": [],
   "source": []
  },
  {
   "cell_type": "code",
   "execution_count": 1,
   "metadata": {},
   "outputs": [],
   "source": [
    "from DataDTM import DataDTM"
   ]
  },
  {
   "cell_type": "code",
   "execution_count": 2,
   "metadata": {},
   "outputs": [
    {
     "name": "stdout",
     "output_type": "stream",
     "text": [
      "provided path found\n",
      "reading file 'dtm_info.csv' ...\n",
      "dtm initialised\n"
     ]
    }
   ],
   "source": [
    "input_dir = '/media/philipp/ed7d22ba-5a3b-4d31-bf6c-6add6e106b3d/DTM'\n",
    "output_dir = '/media/philipp/ed7d22ba-5a3b-4d31-bf6c-6add6e106b3d/dtm'\n",
    "\n",
    "path_ortho = '/media/philipp/ed7d22ba-5a3b-4d31-bf6c-6add6e106b3d/ortho/2018250_bischofshofen_lb_rgbi.img'\n",
    "#ulx,uly,lrx,lry = get_extend(path_ortho)\n",
    "\n",
    "dtm = DataDTM(input_dir, output_dir)"
   ]
  },
  {
   "cell_type": "code",
   "execution_count": 4,
   "metadata": {},
   "outputs": [],
   "source": [
    "dtm.set_extend_by_raster(path_ortho)"
   ]
  },
  {
   "cell_type": "code",
   "execution_count": 5,
   "metadata": {},
   "outputs": [
    {
     "data": {
      "text/plain": [
       "(373758.97009303217, 418695.08341240825, 451232.3700930322, 381707.48341240827)"
      ]
     },
     "execution_count": 5,
     "metadata": {},
     "output_type": "execute_result"
    }
   ],
   "source": [
    "dtm.get_extend()"
   ]
  },
  {
   "cell_type": "code",
   "execution_count": 6,
   "metadata": {
    "scrolled": true
   },
   "outputs": [
    {
     "name": "stdout",
     "output_type": "stream",
     "text": [
      "tile column |105| added\n",
      "tile column |106| added\n",
      "tile column |107| added\n",
      "tile column |108| added\n",
      "tile column |109| added\n",
      "tile column |110| added\n",
      "tile column |111| added\n",
      "tile column |112| added\n",
      "tile column |113| added\n",
      "tile column |114| added\n",
      "tile column |115| added\n",
      "tile column |116| added\n",
      "tile column |117| added\n",
      "tile column |118| added\n",
      "tile column |119| added\n",
      "tile column |120| added\n",
      "tile column |121| added\n",
      "tile column |122| added\n",
      "tile column |123| added\n",
      "tile column |124| added\n",
      "tile column |125| added\n",
      "tile column |126| added\n",
      "tile column |127| added\n",
      "tile column |128| added\n",
      "tile column |129| added\n",
      "tile column |130| added\n",
      "tile column |131| added\n",
      "tile column |132| added\n",
      "tile column |133| added\n",
      "tile column |134| added\n",
      "tile column |135| added\n",
      "tile column |136| added\n",
      "tile column |/media/philipp/ed7d22ba-5a3b-4d31-bf6c-6add6e106b3d/dtmcol_105.tif| finished\n",
      "tile column |/media/philipp/ed7d22ba-5a3b-4d31-bf6c-6add6e106b3d/dtmcol_107.tif| finished\n",
      "tile column |/media/philipp/ed7d22ba-5a3b-4d31-bf6c-6add6e106b3d/dtmcol_111.tif| finished\n",
      "tile column |/media/philipp/ed7d22ba-5a3b-4d31-bf6c-6add6e106b3d/dtmcol_106.tif| finished\n",
      "tile column |/media/philipp/ed7d22ba-5a3b-4d31-bf6c-6add6e106b3d/dtmcol_109.tif| finished\n",
      "tile column |/media/philipp/ed7d22ba-5a3b-4d31-bf6c-6add6e106b3d/dtmcol_108.tif| finished\n",
      "tile column |/media/philipp/ed7d22ba-5a3b-4d31-bf6c-6add6e106b3d/dtmcol_112.tif| finished\n",
      "tile column |/media/philipp/ed7d22ba-5a3b-4d31-bf6c-6add6e106b3d/dtmcol_110.tif| finished\n",
      "tile column |/media/philipp/ed7d22ba-5a3b-4d31-bf6c-6add6e106b3d/dtmcol_113.tif| finished\n",
      "tile column |/media/philipp/ed7d22ba-5a3b-4d31-bf6c-6add6e106b3d/dtmcol_115.tif| finished\n",
      "tile column |/media/philipp/ed7d22ba-5a3b-4d31-bf6c-6add6e106b3d/dtmcol_117.tif| finished\n",
      "tile column |/media/philipp/ed7d22ba-5a3b-4d31-bf6c-6add6e106b3d/dtmcol_119.tif| finished\n",
      "tile column |/media/philipp/ed7d22ba-5a3b-4d31-bf6c-6add6e106b3d/dtmcol_114.tif| finished\n",
      "tile column |/media/philipp/ed7d22ba-5a3b-4d31-bf6c-6add6e106b3d/dtmcol_116.tif| finished\n",
      "tile column |/media/philipp/ed7d22ba-5a3b-4d31-bf6c-6add6e106b3d/dtmcol_118.tif| finished\n",
      "tile column |/media/philipp/ed7d22ba-5a3b-4d31-bf6c-6add6e106b3d/dtmcol_120.tif| finished\n",
      "tile column |/media/philipp/ed7d22ba-5a3b-4d31-bf6c-6add6e106b3d/dtmcol_121.tif| finished\n",
      "tile column |/media/philipp/ed7d22ba-5a3b-4d31-bf6c-6add6e106b3d/dtmcol_125.tif| finished\n",
      "tile column |/media/philipp/ed7d22ba-5a3b-4d31-bf6c-6add6e106b3d/dtmcol_127.tif| finished\n",
      "tile column |/media/philipp/ed7d22ba-5a3b-4d31-bf6c-6add6e106b3d/dtmcol_123.tif| finished\n",
      "tile column |/media/philipp/ed7d22ba-5a3b-4d31-bf6c-6add6e106b3d/dtmcol_126.tif| finished\n",
      "tile column |/media/philipp/ed7d22ba-5a3b-4d31-bf6c-6add6e106b3d/dtmcol_128.tif| finished\n",
      "tile column |/media/philipp/ed7d22ba-5a3b-4d31-bf6c-6add6e106b3d/dtmcol_122.tif| finished\n",
      "tile column |/media/philipp/ed7d22ba-5a3b-4d31-bf6c-6add6e106b3d/dtmcol_129.tif| finished\n",
      "tile column |/media/philipp/ed7d22ba-5a3b-4d31-bf6c-6add6e106b3d/dtmcol_124.tif| finished\n",
      "tile column |/media/philipp/ed7d22ba-5a3b-4d31-bf6c-6add6e106b3d/dtmcol_131.tif| finished\n",
      "tile column |/media/philipp/ed7d22ba-5a3b-4d31-bf6c-6add6e106b3d/dtmcol_133.tif| finished\n",
      "tile column |/media/philipp/ed7d22ba-5a3b-4d31-bf6c-6add6e106b3d/dtmcol_135.tif| finished\n",
      "tile column |/media/philipp/ed7d22ba-5a3b-4d31-bf6c-6add6e106b3d/dtmcol_130.tif| finished\n",
      "tile column |/media/philipp/ed7d22ba-5a3b-4d31-bf6c-6add6e106b3d/dtmcol_134.tif| finished\n",
      "tile column |/media/philipp/ed7d22ba-5a3b-4d31-bf6c-6add6e106b3d/dtmcol_132.tif| finished\n",
      "tile column |/media/philipp/ed7d22ba-5a3b-4d31-bf6c-6add6e106b3d/dtmcol_136.tif| finished\n",
      "tile column |/media/philipp/ed7d22ba-5a3b-4d31-bf6c-6add6e106b3d/dtmdtm_final.tif| finished\n",
      "end\n"
     ]
    }
   ],
   "source": [
    "dtm.create_dtm()"
   ]
  },
  {
   "cell_type": "code",
   "execution_count": null,
   "metadata": {},
   "outputs": [],
   "source": []
  }
 ],
 "metadata": {
  "kernelspec": {
   "display_name": "geo",
   "language": "python",
   "name": "geo"
  },
  "language_info": {
   "codemirror_mode": {
    "name": "ipython",
    "version": 3
   },
   "file_extension": ".py",
   "mimetype": "text/x-python",
   "name": "python",
   "nbconvert_exporter": "python",
   "pygments_lexer": "ipython3",
   "version": "3.8.2"
  }
 },
 "nbformat": 4,
 "nbformat_minor": 4
}
