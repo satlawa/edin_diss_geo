{
 "cells": [
  {
   "cell_type": "code",
   "execution_count": null,
   "metadata": {},
   "outputs": [],
   "source": []
  },
  {
   "cell_type": "code",
   "execution_count": 2,
   "metadata": {},
   "outputs": [],
   "source": [
    "from DataDTM import DataDTM"
   ]
  },
  {
   "cell_type": "code",
   "execution_count": 3,
   "metadata": {},
   "outputs": [
    {
     "name": "stdout",
     "output_type": "stream",
     "text": [
      "provided path found\n",
      "reading file 'dtm_info.csv' ...\n",
      "dtm initialised\n"
     ]
    }
   ],
   "source": [
    "input_dir = '/media/philipp/ed7d22ba-5a3b-4d31-bf6c-6add6e106b3d/DTM'\n",
    "output_dir = '/media/philipp/ed7d22ba-5a3b-4d31-bf6c-6add6e106b3d/dtm'\n",
    "\n",
    "#path_ortho = '/media/philipp/ed7d22ba-5a3b-4d31-bf6c-6add6e106b3d/ortho/2018250_bischofshofen_lb_rgbi.img'\n",
    "path_ortho = '/media/philipp/Elements/2018/zell_am_see/2018470_zell_am_see_lb_rgbi.img'\n",
    "#ulx,uly,lrx,lry = get_extend(path_ortho)\n",
    "\n",
    "dtm = DataDTM(input_dir, output_dir)"
   ]
  },
  {
   "cell_type": "code",
   "execution_count": 4,
   "metadata": {},
   "outputs": [],
   "source": [
    "dtm.set_extend_by_raster(path_ortho)"
   ]
  },
  {
   "cell_type": "code",
   "execution_count": 5,
   "metadata": {},
   "outputs": [
    {
     "data": {
      "text/plain": [
       "(307531.4838622151, 383708.8047037771, 376258.08386221505, 346719.2047037771)"
      ]
     },
     "execution_count": 5,
     "metadata": {},
     "output_type": "execute_result"
    }
   ],
   "source": [
    "dtm.get_extend()"
   ]
  },
  {
   "cell_type": "code",
   "execution_count": 5,
   "metadata": {},
   "outputs": [
    {
     "data": {
      "text/plain": [
       "(373758.97009303217, 418695.08341240825, 451232.3700930322, 381707.48341240827)"
      ]
     },
     "execution_count": 5,
     "metadata": {},
     "output_type": "execute_result"
    }
   ],
   "source": [
    "dtm.get_extend()"
   ]
  },
  {
   "cell_type": "code",
   "execution_count": 6,
   "metadata": {
    "scrolled": true
   },
   "outputs": [
    {
     "name": "stdout",
     "output_type": "stream",
     "text": [
      "tile column |100| added\n",
      "tile column |101| added\n",
      "tile column |102| added\n",
      "tile column |103| added\n",
      "tile column |104| added\n",
      "tile column |105| added\n",
      "tile column |106| added\n",
      "tile column |79| added\n",
      "tile column |80| added\n",
      "tile column |81| added\n",
      "tile column |82| added\n",
      "tile column |83| added\n",
      "tile column |84| added\n",
      "tile column |85| added\n",
      "tile column |86| added\n",
      "tile column |87| added\n",
      "tile column |88| added\n",
      "tile column |89| added\n",
      "tile column |90| added\n",
      "tile column |91| added\n",
      "tile column |92| added\n",
      "tile column |93| added\n",
      "tile column |94| added\n",
      "tile column |95| added\n",
      "tile column |96| added\n",
      "tile column |97| added\n",
      "tile column |98| added\n",
      "tile column |99| added\n",
      "tile column |/media/philipp/ed7d22ba-5a3b-4d31-bf6c-6add6e106b3d/dtmcol_100.tif| finished\n",
      "tile column |/media/philipp/ed7d22ba-5a3b-4d31-bf6c-6add6e106b3d/dtmcol_102.tif| finished\n",
      "tile column |/media/philipp/ed7d22ba-5a3b-4d31-bf6c-6add6e106b3d/dtmcol_106.tif| finished\n",
      "tile column |/media/philipp/ed7d22ba-5a3b-4d31-bf6c-6add6e106b3d/dtmcol_104.tif| finished\n",
      "tile column |/media/philipp/ed7d22ba-5a3b-4d31-bf6c-6add6e106b3d/dtmcol_101.tif| finished\n",
      "tile column |/media/philipp/ed7d22ba-5a3b-4d31-bf6c-6add6e106b3d/dtmcol_103.tif| finished\n",
      "tile column |/media/philipp/ed7d22ba-5a3b-4d31-bf6c-6add6e106b3d/dtmcol_105.tif| finished\n",
      "tile column |/media/philipp/ed7d22ba-5a3b-4d31-bf6c-6add6e106b3d/dtmcol_79.tif| finished\n",
      "tile column |/media/philipp/ed7d22ba-5a3b-4d31-bf6c-6add6e106b3d/dtmcol_80.tif| finished\n",
      "tile column |/media/philipp/ed7d22ba-5a3b-4d31-bf6c-6add6e106b3d/dtmcol_82.tif| finished\n",
      "tile column |/media/philipp/ed7d22ba-5a3b-4d31-bf6c-6add6e106b3d/dtmcol_84.tif| finished\n",
      "tile column |/media/philipp/ed7d22ba-5a3b-4d31-bf6c-6add6e106b3d/dtmcol_86.tif| finished\n",
      "tile column |/media/philipp/ed7d22ba-5a3b-4d31-bf6c-6add6e106b3d/dtmcol_81.tif| finished\n",
      "tile column |/media/philipp/ed7d22ba-5a3b-4d31-bf6c-6add6e106b3d/dtmcol_83.tif| finished\n",
      "tile column |/media/philipp/ed7d22ba-5a3b-4d31-bf6c-6add6e106b3d/dtmcol_85.tif| finished\n",
      "tile column |/media/philipp/ed7d22ba-5a3b-4d31-bf6c-6add6e106b3d/dtmcol_87.tif| finished\n",
      "tile column |/media/philipp/ed7d22ba-5a3b-4d31-bf6c-6add6e106b3d/dtmcol_88.tif| finished\n",
      "tile column |/media/philipp/ed7d22ba-5a3b-4d31-bf6c-6add6e106b3d/dtmcol_90.tif| finished\n",
      "tile column |/media/philipp/ed7d22ba-5a3b-4d31-bf6c-6add6e106b3d/dtmcol_92.tif| finished\n",
      "tile column |/media/philipp/ed7d22ba-5a3b-4d31-bf6c-6add6e106b3d/dtmcol_94.tif| finished\n",
      "tile column |/media/philipp/ed7d22ba-5a3b-4d31-bf6c-6add6e106b3d/dtmcol_89.tif| finished\n",
      "tile column |/media/philipp/ed7d22ba-5a3b-4d31-bf6c-6add6e106b3d/dtmcol_91.tif| finished\n",
      "tile column |/media/philipp/ed7d22ba-5a3b-4d31-bf6c-6add6e106b3d/dtmcol_93.tif| finished\n",
      "tile column |/media/philipp/ed7d22ba-5a3b-4d31-bf6c-6add6e106b3d/dtmcol_95.tif| finished\n",
      "tile column |/media/philipp/ed7d22ba-5a3b-4d31-bf6c-6add6e106b3d/dtmcol_98.tif| finished\n",
      "tile column |/media/philipp/ed7d22ba-5a3b-4d31-bf6c-6add6e106b3d/dtmcol_96.tif| finished\n",
      "tile column |/media/philipp/ed7d22ba-5a3b-4d31-bf6c-6add6e106b3d/dtmcol_99.tif| finished\n",
      "tile column |/media/philipp/ed7d22ba-5a3b-4d31-bf6c-6add6e106b3d/dtmcol_97.tif| finished\n"
     ]
    },
    {
     "ename": "ValueError",
     "evalue": "array larger than output file, or offset off edge",
     "output_type": "error",
     "traceback": [
      "\u001b[0;31m---------------------------------------------------------------------------\u001b[0m",
      "\u001b[0;31mValueError\u001b[0m                                Traceback (most recent call last)",
      "\u001b[0;32m<ipython-input-6-61f72e8c1951>\u001b[0m in \u001b[0;36m<module>\u001b[0;34m\u001b[0m\n\u001b[0;32m----> 1\u001b[0;31m \u001b[0mdtm\u001b[0m\u001b[0;34m.\u001b[0m\u001b[0mcreate_dtm\u001b[0m\u001b[0;34m(\u001b[0m\u001b[0;34m)\u001b[0m\u001b[0;34m\u001b[0m\u001b[0;34m\u001b[0m\u001b[0m\n\u001b[0m",
      "\u001b[0;32m~/Code/python/edin_diss_geo/new/DataDTM.py\u001b[0m in \u001b[0;36mcreate_dtm\u001b[0;34m(self)\u001b[0m\n\u001b[1;32m    176\u001b[0m         \u001b[0mpath_out\u001b[0m \u001b[0;34m=\u001b[0m \u001b[0mself\u001b[0m\u001b[0;34m.\u001b[0m\u001b[0moutput_dir\u001b[0m \u001b[0;34m+\u001b[0m \u001b[0;34m'dtm_final.tif'\u001b[0m\u001b[0;34m\u001b[0m\u001b[0;34m\u001b[0m\u001b[0m\n\u001b[1;32m    177\u001b[0m         \u001b[0;31m# merge column tiles into one file\u001b[0m\u001b[0;34m\u001b[0m\u001b[0;34m\u001b[0m\u001b[0;34m\u001b[0m\u001b[0m\n\u001b[0;32m--> 178\u001b[0;31m         \u001b[0mself\u001b[0m\u001b[0;34m.\u001b[0m\u001b[0mcreate_column\u001b[0m\u001b[0;34m(\u001b[0m\u001b[0;34m[\u001b[0m\u001b[0mpaths_out\u001b[0m\u001b[0;34m,\u001b[0m \u001b[0mpath_out\u001b[0m\u001b[0;34m]\u001b[0m\u001b[0;34m)\u001b[0m\u001b[0;34m\u001b[0m\u001b[0;34m\u001b[0m\u001b[0m\n\u001b[0m\u001b[1;32m    179\u001b[0m \u001b[0;34m\u001b[0m\u001b[0m\n\u001b[1;32m    180\u001b[0m         \u001b[0mprint\u001b[0m\u001b[0;34m(\u001b[0m\u001b[0;34m'end'\u001b[0m\u001b[0;34m)\u001b[0m\u001b[0;34m\u001b[0m\u001b[0;34m\u001b[0m\u001b[0m\n",
      "\u001b[0;32m~/Code/python/edin_diss_geo/new/DataDTM.py\u001b[0m in \u001b[0;36mcreate_column\u001b[0;34m(self, paths)\u001b[0m\n\u001b[1;32m    190\u001b[0m             \u001b[0mpath2\u001b[0m \u001b[0;34m=\u001b[0m \u001b[0mindex_y_x\u001b[0m\u001b[0;34m[\u001b[0m\u001b[0mi\u001b[0m\u001b[0;34m]\u001b[0m\u001b[0;34m\u001b[0m\u001b[0;34m\u001b[0m\u001b[0m\n\u001b[1;32m    191\u001b[0m             \u001b[0;31m# merge two tiles\u001b[0m\u001b[0;34m\u001b[0m\u001b[0;34m\u001b[0m\u001b[0;34m\u001b[0m\u001b[0m\n\u001b[0;32m--> 192\u001b[0;31m             \u001b[0mself\u001b[0m\u001b[0;34m.\u001b[0m\u001b[0mmosaic\u001b[0m\u001b[0;34m(\u001b[0m\u001b[0mpath1\u001b[0m\u001b[0;34m,\u001b[0m \u001b[0mpath2\u001b[0m\u001b[0;34m,\u001b[0m \u001b[0mpath_out\u001b[0m\u001b[0;34m)\u001b[0m\u001b[0;34m\u001b[0m\u001b[0;34m\u001b[0m\u001b[0m\n\u001b[0m\u001b[1;32m    193\u001b[0m             \u001b[0;31m# set path1 to the output path\u001b[0m\u001b[0;34m\u001b[0m\u001b[0;34m\u001b[0m\u001b[0;34m\u001b[0m\u001b[0m\n\u001b[1;32m    194\u001b[0m             \u001b[0mpath1\u001b[0m \u001b[0;34m=\u001b[0m \u001b[0mpath_out\u001b[0m\u001b[0;34m\u001b[0m\u001b[0;34m\u001b[0m\u001b[0m\n",
      "\u001b[0;32m~/Code/python/edin_diss_geo/new/DataDTM.py\u001b[0m in \u001b[0;36mmosaic\u001b[0;34m(self, path1, path2, path_out)\u001b[0m\n\u001b[1;32m    263\u001b[0m         \u001b[0;31m# read in doq2 and write it to the output\u001b[0m\u001b[0;34m\u001b[0m\u001b[0;34m\u001b[0m\u001b[0;34m\u001b[0m\u001b[0m\n\u001b[1;32m    264\u001b[0m         \u001b[0mdata2\u001b[0m \u001b[0;34m=\u001b[0m \u001b[0mband2\u001b[0m\u001b[0;34m.\u001b[0m\u001b[0mReadAsArray\u001b[0m\u001b[0;34m(\u001b[0m\u001b[0;36m0\u001b[0m\u001b[0;34m,\u001b[0m \u001b[0;36m0\u001b[0m\u001b[0;34m,\u001b[0m \u001b[0mcols2\u001b[0m\u001b[0;34m,\u001b[0m \u001b[0mrows2\u001b[0m\u001b[0;34m)\u001b[0m\u001b[0;34m\u001b[0m\u001b[0;34m\u001b[0m\u001b[0m\n\u001b[0;32m--> 265\u001b[0;31m         \u001b[0mbandOut\u001b[0m\u001b[0;34m.\u001b[0m\u001b[0mWriteArray\u001b[0m\u001b[0;34m(\u001b[0m\u001b[0mdata2\u001b[0m\u001b[0;34m,\u001b[0m \u001b[0mxOffset2\u001b[0m\u001b[0;34m,\u001b[0m \u001b[0myOffset2\u001b[0m\u001b[0;34m)\u001b[0m\u001b[0;34m\u001b[0m\u001b[0;34m\u001b[0m\u001b[0m\n\u001b[0m\u001b[1;32m    266\u001b[0m \u001b[0;34m\u001b[0m\u001b[0m\n\u001b[1;32m    267\u001b[0m         \u001b[0;31m# compute statistics for the output\u001b[0m\u001b[0;34m\u001b[0m\u001b[0;34m\u001b[0m\u001b[0;34m\u001b[0m\u001b[0m\n",
      "\u001b[0;32m~/Software/miniconda3/envs/geo/lib/python3.8/site-packages/osgeo/gdal.py\u001b[0m in \u001b[0;36mWriteArray\u001b[0;34m(self, array, xoff, yoff, resample_alg, callback, callback_data)\u001b[0m\n\u001b[1;32m   2618\u001b[0m         \u001b[0;32mfrom\u001b[0m \u001b[0;34m.\u001b[0m \u001b[0;32mimport\u001b[0m \u001b[0mgdalnumeric\u001b[0m\u001b[0;34m\u001b[0m\u001b[0;34m\u001b[0m\u001b[0m\n\u001b[1;32m   2619\u001b[0m \u001b[0;34m\u001b[0m\u001b[0m\n\u001b[0;32m-> 2620\u001b[0;31m         return gdalnumeric.BandWriteArray( self, array, xoff, yoff,\n\u001b[0m\u001b[1;32m   2621\u001b[0m                                            \u001b[0mresample_alg\u001b[0m \u001b[0;34m=\u001b[0m \u001b[0mresample_alg\u001b[0m\u001b[0;34m,\u001b[0m\u001b[0;34m\u001b[0m\u001b[0;34m\u001b[0m\u001b[0m\n\u001b[1;32m   2622\u001b[0m                                            \u001b[0mcallback\u001b[0m \u001b[0;34m=\u001b[0m \u001b[0mcallback\u001b[0m\u001b[0;34m,\u001b[0m\u001b[0;34m\u001b[0m\u001b[0;34m\u001b[0m\u001b[0m\n",
      "\u001b[0;32m~/Software/miniconda3/envs/geo/lib/python3.8/site-packages/osgeo/gdal_array.py\u001b[0m in \u001b[0;36mBandWriteArray\u001b[0;34m(band, array, xoff, yoff, resample_alg, callback, callback_data)\u001b[0m\n\u001b[1;32m    376\u001b[0m \u001b[0;34m\u001b[0m\u001b[0m\n\u001b[1;32m    377\u001b[0m     \u001b[0;32mif\u001b[0m \u001b[0mxsize\u001b[0m \u001b[0;34m+\u001b[0m \u001b[0mxoff\u001b[0m \u001b[0;34m>\u001b[0m \u001b[0mband\u001b[0m\u001b[0;34m.\u001b[0m\u001b[0mXSize\u001b[0m \u001b[0;32mor\u001b[0m \u001b[0mysize\u001b[0m \u001b[0;34m+\u001b[0m \u001b[0myoff\u001b[0m \u001b[0;34m>\u001b[0m \u001b[0mband\u001b[0m\u001b[0;34m.\u001b[0m\u001b[0mYSize\u001b[0m\u001b[0;34m:\u001b[0m\u001b[0;34m\u001b[0m\u001b[0;34m\u001b[0m\u001b[0m\n\u001b[0;32m--> 378\u001b[0;31m         \u001b[0;32mraise\u001b[0m \u001b[0mValueError\u001b[0m\u001b[0;34m(\u001b[0m\u001b[0;34m\"array larger than output file, or offset off edge\"\u001b[0m\u001b[0;34m)\u001b[0m\u001b[0;34m\u001b[0m\u001b[0;34m\u001b[0m\u001b[0m\n\u001b[0m\u001b[1;32m    379\u001b[0m \u001b[0;34m\u001b[0m\u001b[0m\n\u001b[1;32m    380\u001b[0m     \u001b[0mdatatype\u001b[0m \u001b[0;34m=\u001b[0m \u001b[0mNumericTypeCodeToGDALTypeCode\u001b[0m\u001b[0;34m(\u001b[0m \u001b[0marray\u001b[0m\u001b[0;34m.\u001b[0m\u001b[0mdtype\u001b[0m\u001b[0;34m.\u001b[0m\u001b[0mtype\u001b[0m \u001b[0;34m)\u001b[0m\u001b[0;34m\u001b[0m\u001b[0;34m\u001b[0m\u001b[0m\n",
      "\u001b[0;31mValueError\u001b[0m: array larger than output file, or offset off edge"
     ]
    }
   ],
   "source": [
    "dtm.create_dtm()"
   ]
  },
  {
   "cell_type": "code",
   "execution_count": null,
   "metadata": {},
   "outputs": [],
   "source": []
  }
 ],
 "metadata": {
  "kernelspec": {
   "display_name": "geo",
   "language": "python",
   "name": "geo"
  },
  "language_info": {
   "codemirror_mode": {
    "name": "ipython",
    "version": 3
   },
   "file_extension": ".py",
   "mimetype": "text/x-python",
   "name": "python",
   "nbconvert_exporter": "python",
   "pygments_lexer": "ipython3",
   "version": "3.8.2"
  }
 },
 "nbformat": 4,
 "nbformat_minor": 4
}
