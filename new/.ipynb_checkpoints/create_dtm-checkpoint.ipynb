{
 "cells": [
  {
   "cell_type": "code",
   "execution_count": null,
   "metadata": {},
   "outputs": [],
   "source": []
  },
  {
   "cell_type": "code",
   "execution_count": 2,
   "metadata": {},
   "outputs": [],
   "source": [
    "import os\n",
    "from DataDTM import DataDTM"
   ]
  },
  {
   "cell_type": "code",
   "execution_count": 3,
   "metadata": {},
   "outputs": [],
   "source": [
    "import geopandas\n",
    "import pandas as pd\n",
    "import numpy as np"
   ]
  },
  {
   "cell_type": "code",
   "execution_count": 4,
   "metadata": {},
   "outputs": [],
   "source": [
    "# input dir with raster data (.tif)\n",
    "input_dir = '/mnt/sda1/dsm'\n",
    "# output dir to write out mosaiced data (.tif)\n",
    "output_dir = '/home/philipp/Data/edin_diss/test'\n",
    "# path to info about the extefnd of the dtm tiles to be produced\n",
    "dtm_tiles = geopandas.read_file('/home/philipp/Data/edin_diss/GIS_grid/dtm_mosaic_tiles/dtm_mosaic_tiles.shp')"
   ]
  },
  {
   "cell_type": "code",
   "execution_count": 5,
   "metadata": {},
   "outputs": [
    {
     "data": {
      "text/html": [
       "<div>\n",
       "<style scoped>\n",
       "    .dataframe tbody tr th:only-of-type {\n",
       "        vertical-align: middle;\n",
       "    }\n",
       "\n",
       "    .dataframe tbody tr th {\n",
       "        vertical-align: top;\n",
       "    }\n",
       "\n",
       "    .dataframe thead th {\n",
       "        text-align: right;\n",
       "    }\n",
       "</style>\n",
       "<table border=\"1\" class=\"dataframe\">\n",
       "  <thead>\n",
       "    <tr style=\"text-align: right;\">\n",
       "      <th></th>\n",
       "      <th>id</th>\n",
       "      <th>area</th>\n",
       "      <th>x_min</th>\n",
       "      <th>x_max</th>\n",
       "      <th>y_min</th>\n",
       "      <th>y_max</th>\n",
       "      <th>geometry</th>\n",
       "    </tr>\n",
       "  </thead>\n",
       "  <tbody>\n",
       "    <tr>\n",
       "      <th>0</th>\n",
       "      <td>1</td>\n",
       "      <td>900491770</td>\n",
       "      <td>588890.9</td>\n",
       "      <td>618890.9</td>\n",
       "      <td>464061.6</td>\n",
       "      <td>494061.6</td>\n",
       "      <td>POLYGON ((618890.929 494061.562, 618890.929 46...</td>\n",
       "    </tr>\n",
       "    <tr>\n",
       "      <th>1</th>\n",
       "      <td>2</td>\n",
       "      <td>432266386</td>\n",
       "      <td>586373.4</td>\n",
       "      <td>613373.4</td>\n",
       "      <td>447965.8</td>\n",
       "      <td>463965.8</td>\n",
       "      <td>POLYGON ((613373.371 463965.793, 613373.371 44...</td>\n",
       "    </tr>\n",
       "    <tr>\n",
       "      <th>2</th>\n",
       "      <td>3</td>\n",
       "      <td>1926264735</td>\n",
       "      <td>498979.9</td>\n",
       "      <td>575979.9</td>\n",
       "      <td>413782.7</td>\n",
       "      <td>438782.7</td>\n",
       "      <td>POLYGON ((498979.946 438782.717, 575979.946 43...</td>\n",
       "    </tr>\n",
       "    <tr>\n",
       "      <th>3</th>\n",
       "      <td>4</td>\n",
       "      <td>5253387</td>\n",
       "      <td>495211.2</td>\n",
       "      <td>497711.2</td>\n",
       "      <td>440149.6</td>\n",
       "      <td>442249.6</td>\n",
       "      <td>POLYGON ((497711.203 442249.631, 497711.203 44...</td>\n",
       "    </tr>\n",
       "    <tr>\n",
       "      <th>4</th>\n",
       "      <td>5</td>\n",
       "      <td>117072370</td>\n",
       "      <td>480052.1</td>\n",
       "      <td>493052.1</td>\n",
       "      <td>448253.3</td>\n",
       "      <td>457253.3</td>\n",
       "      <td>POLYGON ((480052.068 457253.257, 493052.068 45...</td>\n",
       "    </tr>\n",
       "    <tr>\n",
       "      <th>...</th>\n",
       "      <td>...</td>\n",
       "      <td>...</td>\n",
       "      <td>...</td>\n",
       "      <td>...</td>\n",
       "      <td>...</td>\n",
       "      <td>...</td>\n",
       "      <td>...</td>\n",
       "    </tr>\n",
       "    <tr>\n",
       "      <th>285</th>\n",
       "      <td>286</td>\n",
       "      <td>32809</td>\n",
       "      <td>463473.5</td>\n",
       "      <td>463653.0</td>\n",
       "      <td>316266.2</td>\n",
       "      <td>316450.1</td>\n",
       "      <td>POLYGON ((463473.505 316450.051, 463652.990 31...</td>\n",
       "    </tr>\n",
       "    <tr>\n",
       "      <th>286</th>\n",
       "      <td>287</td>\n",
       "      <td>125770144</td>\n",
       "      <td>440527.6</td>\n",
       "      <td>455682.1</td>\n",
       "      <td>305079.8</td>\n",
       "      <td>313435.6</td>\n",
       "      <td>POLYGON ((440527.605 305079.818, 440527.605 31...</td>\n",
       "    </tr>\n",
       "    <tr>\n",
       "      <th>287</th>\n",
       "      <td>288</td>\n",
       "      <td>5169479</td>\n",
       "      <td>406758.6</td>\n",
       "      <td>409517.9</td>\n",
       "      <td>295244.9</td>\n",
       "      <td>297139.3</td>\n",
       "      <td>POLYGON ((406758.574 297139.252, 409517.877 29...</td>\n",
       "    </tr>\n",
       "    <tr>\n",
       "      <th>288</th>\n",
       "      <td>289</td>\n",
       "      <td>4397702</td>\n",
       "      <td>401490.8</td>\n",
       "      <td>403255.4</td>\n",
       "      <td>297182.5</td>\n",
       "      <td>299682.3</td>\n",
       "      <td>POLYGON ((401490.813 299665.009, 403255.383 29...</td>\n",
       "    </tr>\n",
       "    <tr>\n",
       "      <th>289</th>\n",
       "      <td>290</td>\n",
       "      <td>21708972</td>\n",
       "      <td>402753.7</td>\n",
       "      <td>410114.7</td>\n",
       "      <td>300365.6</td>\n",
       "      <td>303315.2</td>\n",
       "      <td>POLYGON ((402753.691 300365.647, 402762.341 30...</td>\n",
       "    </tr>\n",
       "  </tbody>\n",
       "</table>\n",
       "<p>290 rows × 7 columns</p>\n",
       "</div>"
      ],
      "text/plain": [
       "      id        area     x_min     x_max     y_min     y_max  \\\n",
       "0      1   900491770  588890.9  618890.9  464061.6  494061.6   \n",
       "1      2   432266386  586373.4  613373.4  447965.8  463965.8   \n",
       "2      3  1926264735  498979.9  575979.9  413782.7  438782.7   \n",
       "3      4     5253387  495211.2  497711.2  440149.6  442249.6   \n",
       "4      5   117072370  480052.1  493052.1  448253.3  457253.3   \n",
       "..   ...         ...       ...       ...       ...       ...   \n",
       "285  286       32809  463473.5  463653.0  316266.2  316450.1   \n",
       "286  287   125770144  440527.6  455682.1  305079.8  313435.6   \n",
       "287  288     5169479  406758.6  409517.9  295244.9  297139.3   \n",
       "288  289     4397702  401490.8  403255.4  297182.5  299682.3   \n",
       "289  290    21708972  402753.7  410114.7  300365.6  303315.2   \n",
       "\n",
       "                                              geometry  \n",
       "0    POLYGON ((618890.929 494061.562, 618890.929 46...  \n",
       "1    POLYGON ((613373.371 463965.793, 613373.371 44...  \n",
       "2    POLYGON ((498979.946 438782.717, 575979.946 43...  \n",
       "3    POLYGON ((497711.203 442249.631, 497711.203 44...  \n",
       "4    POLYGON ((480052.068 457253.257, 493052.068 45...  \n",
       "..                                                 ...  \n",
       "285  POLYGON ((463473.505 316450.051, 463652.990 31...  \n",
       "286  POLYGON ((440527.605 305079.818, 440527.605 31...  \n",
       "287  POLYGON ((406758.574 297139.252, 409517.877 29...  \n",
       "288  POLYGON ((401490.813 299665.009, 403255.383 29...  \n",
       "289  POLYGON ((402753.691 300365.647, 402762.341 30...  \n",
       "\n",
       "[290 rows x 7 columns]"
      ]
     },
     "execution_count": 5,
     "metadata": {},
     "output_type": "execute_result"
    }
   ],
   "source": [
    "dtm_tiles"
   ]
  },
  {
   "cell_type": "code",
   "execution_count": 4,
   "metadata": {},
   "outputs": [],
   "source": [
    "#dtm = DataDTM(input_dir)\n",
    "\n",
    "# setting extend by raster\n",
    "#path_ortho = '/media/philipp/ed7d22ba-5a3b-4d31-bf6c-6add6e106b3d/ortho/2018250_bischofshofen_lb_rgbi.img'\n",
    "#dtm.set_extend_by_raster(path_ortho)\n",
    "\n",
    "# setting extend manually\n",
    "#ulx,uly,lrx,lry = 177527, 400877, 185000, 350200\n",
    "#dtm.set_extend_by_coordinates(ulx, uly, lrx, lry)"
   ]
  },
  {
   "cell_type": "code",
   "execution_count": null,
   "metadata": {},
   "outputs": [],
   "source": [
    "for index, row in dtm_tiles.iterrows():dtm = DataDTM(input_dir)\n",
    "# loop over all tiles\n",
    "\n",
    "    print(index, row['x_min'], row['x_max'])\n",
    "    # setting extend\n",
    "    dtm.set_extend_by_coordinates(row['x_min'], row['y_max'], row['x_max'], row['y_min'])\n",
    "    dtm.create_dtm(os.path.join(output_dir, 'dtm_{}.tif'.format(row['id'])))\n",
    "    dtm.create_slope(os.path.join(output_dir, 'slope_{}.tif'.format(row['id'])))"
   ]
  },
  {
   "cell_type": "code",
   "execution_count": 5,
   "metadata": {},
   "outputs": [
    {
     "data": {
      "text/plain": [
       "(177527, 400877, 185000, 350200)"
      ]
     },
     "execution_count": 5,
     "metadata": {},
     "output_type": "execute_result"
    }
   ],
   "source": [
    "#dtm.get_extend()"
   ]
  },
  {
   "cell_type": "code",
   "execution_count": 6,
   "metadata": {
    "scrolled": true
   },
   "outputs": [
    {
     "name": "stdout",
     "output_type": "stream",
     "text": [
      "DTM file created - files merged\n"
     ]
    }
   ],
   "source": [
    "#dtm.create_dtm(output_path)"
   ]
  },
  {
   "cell_type": "code",
   "execution_count": 7,
   "metadata": {},
   "outputs": [
    {
     "name": "stdout",
     "output_type": "stream",
     "text": [
      "Slope file created\n"
     ]
    }
   ],
   "source": [
    "#dtm.create_slope('/home/philipp/Data/edin_diss/test/test_slope.tif')"
   ]
  },
  {
   "cell_type": "code",
   "execution_count": null,
   "metadata": {},
   "outputs": [],
   "source": []
  }
 ],
 "metadata": {
  "kernelspec": {
   "display_name": "geo",
   "language": "python",
   "name": "geo"
  },
  "language_info": {
   "codemirror_mode": {
    "name": "ipython",
    "version": 3
   },
   "file_extension": ".py",
   "mimetype": "text/x-python",
   "name": "python",
   "nbconvert_exporter": "python",
   "pygments_lexer": "ipython3",
   "version": "3.8.2"
  }
 },
 "nbformat": 4,
 "nbformat_minor": 4
}
