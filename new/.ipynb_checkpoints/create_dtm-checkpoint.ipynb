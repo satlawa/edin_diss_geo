{
 "cells": [
  {
   "cell_type": "code",
   "execution_count": null,
   "metadata": {},
   "outputs": [],
   "source": []
  },
  {
   "cell_type": "code",
   "execution_count": 1,
   "metadata": {},
   "outputs": [],
   "source": [
    "import os\n",
    "from DataDTM import DataDTM"
   ]
  },
  {
   "cell_type": "code",
   "execution_count": 3,
   "metadata": {},
   "outputs": [
    {
     "name": "stdout",
     "output_type": "stream",
     "text": [
      "provided path found\n",
      "reading file 'dtm_info.csv' ...\n",
      "dtm initialised\n"
     ]
    }
   ],
   "source": [
    "input_dir = '/mnt/sda1/dsm'\n",
    "output_path = '/home/philipp/Data/edin_diss/test/test_dtm.tif'\n",
    "\n",
    "path_ortho = '/media/philipp/ed7d22ba-5a3b-4d31-bf6c-6add6e106b3d/ortho/2018250_bischofshofen_lb_rgbi.img'\n",
    "#ulx,uly,lrx,lry = get_extend(path_ortho)\n",
    "\n",
    "dtm = DataDTM(input_dir)"
   ]
  },
  {
   "cell_type": "code",
   "execution_count": 4,
   "metadata": {},
   "outputs": [],
   "source": [
    "# setting extend by raster\n",
    "#dtm.set_extend_by_raster(path_ortho)\n",
    "\n",
    "# setting extend manually\n",
    "ulx,uly,lrx,lry = 177527, 400877, 185000, 350200\n",
    "dtm.set_extend_by_coordinates(ulx, uly, lrx, lry)"
   ]
  },
  {
   "cell_type": "code",
   "execution_count": 5,
   "metadata": {},
   "outputs": [
    {
     "data": {
      "text/plain": [
       "(177527, 400877, 185000, 350200)"
      ]
     },
     "execution_count": 5,
     "metadata": {},
     "output_type": "execute_result"
    }
   ],
   "source": [
    "dtm.get_extend()"
   ]
  },
  {
   "cell_type": "code",
   "execution_count": 6,
   "metadata": {
    "scrolled": true
   },
   "outputs": [
    {
     "name": "stdout",
     "output_type": "stream",
     "text": [
      "DTM file created - files merged\n"
     ]
    }
   ],
   "source": [
    "dtm.create_dtm(output_path)"
   ]
  },
  {
   "cell_type": "code",
   "execution_count": 7,
   "metadata": {},
   "outputs": [
    {
     "name": "stdout",
     "output_type": "stream",
     "text": [
      "Slope file created\n"
     ]
    }
   ],
   "source": [
    "dtm.create_slope('/home/philipp/Data/edin_diss/test/test_slope.tif')"
   ]
  },
  {
   "cell_type": "code",
   "execution_count": null,
   "metadata": {},
   "outputs": [],
   "source": []
  }
 ],
 "metadata": {
  "kernelspec": {
   "display_name": "geo",
   "language": "python",
   "name": "geo"
  },
  "language_info": {
   "codemirror_mode": {
    "name": "ipython",
    "version": 3
   },
   "file_extension": ".py",
   "mimetype": "text/x-python",
   "name": "python",
   "nbconvert_exporter": "python",
   "pygments_lexer": "ipython3",
   "version": "3.8.2"
  }
 },
 "nbformat": 4,
 "nbformat_minor": 4
}
