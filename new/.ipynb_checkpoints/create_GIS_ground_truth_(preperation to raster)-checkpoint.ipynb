{
 "cells": [
  {
   "cell_type": "code",
   "execution_count": 1,
   "metadata": {},
   "outputs": [],
   "source": [
    "import sys\n",
    "import geopandas\n",
    "import pandas as pd\n",
    "import numpy as np\n",
    "#from pyproj import CRS\n",
    "try:\n",
    "    from osgeo import ogr, osr, gdal\n",
    "except:\n",
    "    sys.exit('ERROR: cannot find GDAL/OGR modules')"
   ]
  },
  {
   "cell_type": "code",
   "execution_count": 2,
   "metadata": {},
   "outputs": [],
   "source": [
    "#wo_geo = geopandas.read_file('/home/philipp/Data/edin_diss/GIS_wo/2018/wo_2018.shp')\n",
    "\n",
    "wo_geo = geopandas.read_file('/home/philipp/Data/edin_diss/GIS_wo/2020/wo_2020_173_6.shp')"
   ]
  },
  {
   "cell_type": "code",
   "execution_count": 4,
   "metadata": {},
   "outputs": [
    {
     "data": {
      "text/plain": [
       "Index(['fb', 'fr', 'abt', 'uabt', 'teilfl', 'admin', 'length', 'area_x',\n",
       "       'year_fly', 'WO', 'fb_sap', 'fr_sap', 'abt_sap', 'uabt_sap',\n",
       "       'teilfl_sap', 'start_term', 'uz', 'non_forest', 'economy', 'ww_sw',\n",
       "       'sw_type', 'sea_level', 'exp', 'slope', 'site_type', 'veg_type',\n",
       "       'Wuchsgebie', 'mass_ha', 'mass_ha_lh', 'mass_ha_nh', 'mass_tot',\n",
       "       'mass_tot_l', 'mass_tot_n', 'cut_area', 'cut_lh', 'cut_nh', 'cut_sum',\n",
       "       'dr', 'bp', 'zp', 'ru', 'sg', 'ma', 'year_fe_x', 'cut', 'geometry'],\n",
       "      dtype='object')"
      ]
     },
     "execution_count": 4,
     "metadata": {},
     "output_type": "execute_result"
    }
   ],
   "source": [
    "wo_geo.columns"
   ]
  },
  {
   "cell_type": "code",
   "execution_count": 5,
   "metadata": {},
   "outputs": [],
   "source": [
    "conditions = [\n",
    "    (wo_geo['non_forest'] == 1)  | (wo_geo['non_forest'] == 6) | \\\n",
    "    (wo_geo['non_forest'] == 3) | (wo_geo['non_forest'] == 7) | \\\n",
    "    (wo_geo['non_forest'] == 8) | (wo_geo['non_forest'] == 9),\n",
    "    (wo_geo['mass_ha_nh'] == 0) & (wo_geo['mass_ha_lh'] == 0) | \\\n",
    "    (wo_geo['non_forest'] == 2) | (wo_geo['non_forest'] == 4) | \\\n",
    "    (wo_geo['non_forest'] == 5),\n",
    "    (wo_geo['mass_ha_nh'] >= wo_geo['mass_ha_lh']), \n",
    "    (wo_geo['mass_ha_nh'] < wo_geo['mass_ha_lh'])]\n",
    "\n",
    "choices = [4, 1, 2, 3]\n",
    "\n",
    "wo_geo['typ'] = np.select(conditions, choices, default=np.nan)"
   ]
  },
  {
   "cell_type": "code",
   "execution_count": 6,
   "metadata": {},
   "outputs": [
    {
     "data": {
      "text/plain": [
       "array([4., 3., 1., 2.])"
      ]
     },
     "execution_count": 6,
     "metadata": {},
     "output_type": "execute_result"
    }
   ],
   "source": [
    "wo_geo['typ'].unique()"
   ]
  },
  {
   "cell_type": "code",
   "execution_count": 7,
   "metadata": {},
   "outputs": [],
   "source": [
    "wo_geo['typ'] = wo_geo['typ'].astype(int)"
   ]
  },
  {
   "cell_type": "code",
   "execution_count": 8,
   "metadata": {},
   "outputs": [],
   "source": [
    "# create geo-dataframe\n",
    "wo_typ = wo_geo[['typ', 'geometry']]"
   ]
  },
  {
   "cell_type": "code",
   "execution_count": 9,
   "metadata": {},
   "outputs": [],
   "source": [
    "# save to file\n",
    "wo_typ.to_file(\"/home/philipp/Data/edin_diss/GIS_ground_truth/typ_2018/gis_typ_wwie_2018.shp\")"
   ]
  },
  {
   "cell_type": "code",
   "execution_count": null,
   "metadata": {},
   "outputs": [],
   "source": []
  }
 ],
 "metadata": {
  "kernelspec": {
   "display_name": "geo",
   "language": "python",
   "name": "geo"
  },
  "language_info": {
   "codemirror_mode": {
    "name": "ipython",
    "version": 3
   },
   "file_extension": ".py",
   "mimetype": "text/x-python",
   "name": "python",
   "nbconvert_exporter": "python",
   "pygments_lexer": "ipython3",
   "version": "3.8.2"
  }
 },
 "nbformat": 4,
 "nbformat_minor": 4
}
