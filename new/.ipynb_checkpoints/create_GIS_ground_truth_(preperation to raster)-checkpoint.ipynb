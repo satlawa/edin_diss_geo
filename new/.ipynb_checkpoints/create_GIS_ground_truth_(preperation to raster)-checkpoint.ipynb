{
 "cells": [
  {
   "cell_type": "code",
   "execution_count": 1,
   "metadata": {},
   "outputs": [],
   "source": [
    "import sys\n",
    "import geopandas\n",
    "import pandas as pd\n",
    "import numpy as np\n",
    "#from pyproj import CRS\n",
    "try:\n",
    "    from osgeo import ogr, osr, gdal\n",
    "except:\n",
    "    sys.exit('ERROR: cannot find GDAL/OGR modules')"
   ]
  },
  {
   "cell_type": "code",
   "execution_count": 2,
   "metadata": {},
   "outputs": [],
   "source": [
    "wo_geo = geopandas.read_file('/home/philipp/Data/edin_diss/GIS_wo/2018/wo_2018.shp')"
   ]
  },
  {
   "cell_type": "code",
   "execution_count": 3,
   "metadata": {},
   "outputs": [
    {
     "data": {
      "text/html": [
       "<div>\n",
       "<style scoped>\n",
       "    .dataframe tbody tr th:only-of-type {\n",
       "        vertical-align: middle;\n",
       "    }\n",
       "\n",
       "    .dataframe tbody tr th {\n",
       "        vertical-align: top;\n",
       "    }\n",
       "\n",
       "    .dataframe thead th {\n",
       "        text-align: right;\n",
       "    }\n",
       "</style>\n",
       "<table border=\"1\" class=\"dataframe\">\n",
       "  <thead>\n",
       "    <tr style=\"text-align: right;\">\n",
       "      <th></th>\n",
       "      <th>fb</th>\n",
       "      <th>fr</th>\n",
       "      <th>abt</th>\n",
       "      <th>uabt</th>\n",
       "      <th>teilfl</th>\n",
       "      <th>admin</th>\n",
       "      <th>length</th>\n",
       "      <th>area_x</th>\n",
       "      <th>year_fly</th>\n",
       "      <th>WO</th>\n",
       "      <th>...</th>\n",
       "      <th>cut_sum</th>\n",
       "      <th>dr</th>\n",
       "      <th>bp</th>\n",
       "      <th>zp</th>\n",
       "      <th>ru</th>\n",
       "      <th>sg</th>\n",
       "      <th>ma</th>\n",
       "      <th>year_fe_x</th>\n",
       "      <th>cut</th>\n",
       "      <th>geometry</th>\n",
       "    </tr>\n",
       "  </thead>\n",
       "  <tbody>\n",
       "    <tr>\n",
       "      <th>0</th>\n",
       "      <td>171</td>\n",
       "      <td>1</td>\n",
       "      <td>506</td>\n",
       "      <td>3</td>\n",
       "      <td>1</td>\n",
       "      <td>529</td>\n",
       "      <td>2402.546849</td>\n",
       "      <td>11624.655500</td>\n",
       "      <td>2018</td>\n",
       "      <td>1710150631</td>\n",
       "      <td>...</td>\n",
       "      <td>0</td>\n",
       "      <td>0</td>\n",
       "      <td>0</td>\n",
       "      <td>0</td>\n",
       "      <td>0</td>\n",
       "      <td>0</td>\n",
       "      <td>0</td>\n",
       "      <td>2009</td>\n",
       "      <td>0</td>\n",
       "      <td>POLYGON ((617139.640 493799.045, 617151.260 49...</td>\n",
       "    </tr>\n",
       "    <tr>\n",
       "      <th>1</th>\n",
       "      <td>171</td>\n",
       "      <td>1</td>\n",
       "      <td>506</td>\n",
       "      <td>9</td>\n",
       "      <td>2</td>\n",
       "      <td>529</td>\n",
       "      <td>381.617564</td>\n",
       "      <td>3111.435375</td>\n",
       "      <td>2018</td>\n",
       "      <td>1710150692</td>\n",
       "      <td>...</td>\n",
       "      <td>0</td>\n",
       "      <td>0</td>\n",
       "      <td>0</td>\n",
       "      <td>0</td>\n",
       "      <td>0</td>\n",
       "      <td>0</td>\n",
       "      <td>0</td>\n",
       "      <td>2009</td>\n",
       "      <td>0</td>\n",
       "      <td>POLYGON ((616697.800 493322.945, 616686.870 49...</td>\n",
       "    </tr>\n",
       "    <tr>\n",
       "      <th>2</th>\n",
       "      <td>171</td>\n",
       "      <td>1</td>\n",
       "      <td>506</td>\n",
       "      <td>A</td>\n",
       "      <td>0</td>\n",
       "      <td>529</td>\n",
       "      <td>1367.653182</td>\n",
       "      <td>93101.347400</td>\n",
       "      <td>2018</td>\n",
       "      <td>17101506A0</td>\n",
       "      <td>...</td>\n",
       "      <td>500</td>\n",
       "      <td>2</td>\n",
       "      <td>1</td>\n",
       "      <td>2</td>\n",
       "      <td>30</td>\n",
       "      <td>1</td>\n",
       "      <td>DF</td>\n",
       "      <td>2009</td>\n",
       "      <td>712</td>\n",
       "      <td>POLYGON ((617710.960 493854.385, 617742.710 49...</td>\n",
       "    </tr>\n",
       "    <tr>\n",
       "      <th>3</th>\n",
       "      <td>171</td>\n",
       "      <td>1</td>\n",
       "      <td>506</td>\n",
       "      <td>B</td>\n",
       "      <td>1</td>\n",
       "      <td>529</td>\n",
       "      <td>241.038183</td>\n",
       "      <td>611.014350</td>\n",
       "      <td>2018</td>\n",
       "      <td>17101506B1</td>\n",
       "      <td>...</td>\n",
       "      <td>0</td>\n",
       "      <td>0</td>\n",
       "      <td>0</td>\n",
       "      <td>0</td>\n",
       "      <td>0</td>\n",
       "      <td>0</td>\n",
       "      <td>0</td>\n",
       "      <td>2009</td>\n",
       "      <td>0</td>\n",
       "      <td>POLYGON ((617347.760 493783.145, 617356.300 49...</td>\n",
       "    </tr>\n",
       "    <tr>\n",
       "      <th>4</th>\n",
       "      <td>171</td>\n",
       "      <td>1</td>\n",
       "      <td>506</td>\n",
       "      <td>B</td>\n",
       "      <td>1</td>\n",
       "      <td>529</td>\n",
       "      <td>241.038183</td>\n",
       "      <td>611.014350</td>\n",
       "      <td>2018</td>\n",
       "      <td>17101506B1</td>\n",
       "      <td>...</td>\n",
       "      <td>0</td>\n",
       "      <td>0</td>\n",
       "      <td>0</td>\n",
       "      <td>0</td>\n",
       "      <td>0</td>\n",
       "      <td>0</td>\n",
       "      <td>0</td>\n",
       "      <td>2009</td>\n",
       "      <td>0</td>\n",
       "      <td>POLYGON ((617347.760 493783.145, 617356.300 49...</td>\n",
       "    </tr>\n",
       "  </tbody>\n",
       "</table>\n",
       "<p>5 rows × 46 columns</p>\n",
       "</div>"
      ],
      "text/plain": [
       "    fb  fr  abt uabt  teilfl  admin       length        area_x  year_fly  \\\n",
       "0  171   1  506    3       1    529  2402.546849  11624.655500      2018   \n",
       "1  171   1  506    9       2    529   381.617564   3111.435375      2018   \n",
       "2  171   1  506    A       0    529  1367.653182  93101.347400      2018   \n",
       "3  171   1  506    B       1    529   241.038183    611.014350      2018   \n",
       "4  171   1  506    B       1    529   241.038183    611.014350      2018   \n",
       "\n",
       "           WO  ...  cut_sum  dr  bp zp  ru sg  ma  year_fe_x  cut  \\\n",
       "0  1710150631  ...        0   0   0  0   0  0   0       2009    0   \n",
       "1  1710150692  ...        0   0   0  0   0  0   0       2009    0   \n",
       "2  17101506A0  ...      500   2   1  2  30  1  DF       2009  712   \n",
       "3  17101506B1  ...        0   0   0  0   0  0   0       2009    0   \n",
       "4  17101506B1  ...        0   0   0  0   0  0   0       2009    0   \n",
       "\n",
       "                                            geometry  \n",
       "0  POLYGON ((617139.640 493799.045, 617151.260 49...  \n",
       "1  POLYGON ((616697.800 493322.945, 616686.870 49...  \n",
       "2  POLYGON ((617710.960 493854.385, 617742.710 49...  \n",
       "3  POLYGON ((617347.760 493783.145, 617356.300 49...  \n",
       "4  POLYGON ((617347.760 493783.145, 617356.300 49...  \n",
       "\n",
       "[5 rows x 46 columns]"
      ]
     },
     "execution_count": 3,
     "metadata": {},
     "output_type": "execute_result"
    }
   ],
   "source": [
    "wo_geo.head()"
   ]
  },
  {
   "cell_type": "code",
   "execution_count": 4,
   "metadata": {},
   "outputs": [
    {
     "data": {
      "text/plain": [
       "Index(['fb', 'fr', 'abt', 'uabt', 'teilfl', 'admin', 'length', 'area_x',\n",
       "       'year_fly', 'WO', 'fb_sap', 'fr_sap', 'abt_sap', 'uabt_sap',\n",
       "       'teilfl_sap', 'start_term', 'uz', 'non_forest', 'economy', 'ww_sw',\n",
       "       'sw_type', 'sea_level', 'exp', 'slope', 'site_type', 'veg_type',\n",
       "       'Wuchsgebie', 'mass_ha', 'mass_ha_lh', 'mass_ha_nh', 'mass_tot',\n",
       "       'mass_tot_l', 'mass_tot_n', 'cut_area', 'cut_lh', 'cut_nh', 'cut_sum',\n",
       "       'dr', 'bp', 'zp', 'ru', 'sg', 'ma', 'year_fe_x', 'cut', 'geometry'],\n",
       "      dtype='object')"
      ]
     },
     "execution_count": 4,
     "metadata": {},
     "output_type": "execute_result"
    }
   ],
   "source": [
    "wo_geo.columns"
   ]
  },
  {
   "cell_type": "code",
   "execution_count": 5,
   "metadata": {},
   "outputs": [],
   "source": [
    "conditions = [\n",
    "    (wo_geo['non_forest'] == 1) | (wo_geo['non_forest'] == 4) | \\\n",
    "    (wo_geo['non_forest'] == 5) | (wo_geo['non_forest'] == 6) | \\\n",
    "    (wo_geo['non_forest'] == 3) | (wo_geo['non_forest'] == 7) | \\\n",
    "    (wo_geo['non_forest'] == 8) | (wo_geo['non_forest'] == 9),\n",
    "    (wo_geo['mass_ha_nh'] == 0) & (wo_geo['mass_ha_lh'] == 0) | \\\n",
    "    (wo_geo['non_forest'] == 2),\n",
    "    (wo_geo['mass_ha_nh'] >= wo_geo['mass_ha_lh']), \n",
    "    (wo_geo['mass_ha_nh'] < wo_geo['mass_ha_lh'])]\n",
    "\n",
    "choices = [4, 1, 2, 3]\n",
    "\n",
    "wo_geo['typ'] = np.select(conditions, choices, default=np.nan)"
   ]
  },
  {
   "cell_type": "code",
   "execution_count": 6,
   "metadata": {},
   "outputs": [
    {
     "data": {
      "text/plain": [
       "array([4., 3., 1., 2.])"
      ]
     },
     "execution_count": 6,
     "metadata": {},
     "output_type": "execute_result"
    }
   ],
   "source": [
    "wo_geo['typ'].unique()"
   ]
  },
  {
   "cell_type": "code",
   "execution_count": 7,
   "metadata": {},
   "outputs": [],
   "source": [
    "wo_geo['typ'] = wo_geo['typ'].astype(int)"
   ]
  },
  {
   "cell_type": "code",
   "execution_count": 8,
   "metadata": {},
   "outputs": [],
   "source": [
    "# create geo-dataframe\n",
    "wo_typ = wo_geo[['typ', 'geometry']]"
   ]
  },
  {
   "cell_type": "code",
   "execution_count": 9,
   "metadata": {},
   "outputs": [],
   "source": [
    "# save to file\n",
    "wo_typ.to_file(\"/home/philipp/Data/edin_diss/GIS_ground_truth/typ_2018/gis_typ_wwie_2018.shp\")"
   ]
  },
  {
   "cell_type": "code",
   "execution_count": null,
   "metadata": {},
   "outputs": [],
   "source": []
  }
 ],
 "metadata": {
  "kernelspec": {
   "display_name": "geopd",
   "language": "python",
   "name": "geopd"
  },
  "language_info": {
   "codemirror_mode": {
    "name": "ipython",
    "version": 3
   },
   "file_extension": ".py",
   "mimetype": "text/x-python",
   "name": "python",
   "nbconvert_exporter": "python",
   "pygments_lexer": "ipython3",
   "version": "3.7.7"
  }
 },
 "nbformat": 4,
 "nbformat_minor": 4
}
