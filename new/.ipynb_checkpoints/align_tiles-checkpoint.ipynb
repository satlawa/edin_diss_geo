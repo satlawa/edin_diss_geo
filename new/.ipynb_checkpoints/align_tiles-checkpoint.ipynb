{
 "cells": [
  {
   "cell_type": "code",
   "execution_count": 1,
   "metadata": {},
   "outputs": [],
   "source": [
    "# align tiles"
   ]
  },
  {
   "cell_type": "code",
   "execution_count": 1,
   "metadata": {},
   "outputs": [],
   "source": [
    "from osgeo import gdal\n",
    "import sys\n",
    "import os"
   ]
  },
  {
   "cell_type": "code",
   "execution_count": 2,
   "metadata": {},
   "outputs": [],
   "source": [
    "path1 = '/media/philipp/ed7d22ba-5a3b-4d31-bf6c-6add6e106b3d/tiles/ortho/tile_ortho_1.tif'\n",
    "\n",
    "dir_in = '/media/philipp/GIS2/tiles/dsm_1m'\n",
    "dir_out = '/media/philipp/GIS2/tiles/dsm'"
   ]
  },
  {
   "cell_type": "code",
   "execution_count": null,
   "metadata": {},
   "outputs": [],
   "source": []
  },
  {
   "cell_type": "code",
   "execution_count": null,
   "metadata": {},
   "outputs": [],
   "source": [
    "for i in range(53964):\n",
    "    path_in = dir_in + 'tile_dsm_' + i + '.tif'\n",
    "    path_out = dir_out + 'tile_dsm_' + i + '.tif'\n",
    "    \n",
    "    bashCommand = \"gdalwarp -tr 0.2 0.2 -tap \" + path_in + \" \" + path_out\n",
    "    # execute bash command\n",
    "    os.system(bashCommand)"
   ]
  },
  {
   "cell_type": "code",
   "execution_count": 3,
   "metadata": {},
   "outputs": [
    {
     "name": "stdout",
     "output_type": "stream",
     "text": [
      "/media/philipp/GIS2/tiles/dsm/tile_dsm_0.tif\n",
      "/media/philipp/GIS2/tiles/dsm/tile_dsm_1.tif\n",
      "/media/philipp/GIS2/tiles/dsm/tile_dsm_2.tif\n"
     ]
    }
   ],
   "source": [
    "for i in range(1,53964):\n",
    "    path_in = dir_in + '/tile_dsm_' + str(i) + '.tif'\n",
    "    path_out = dir_out + '/tile_dsm_' + str(i) + '.tif'\n",
    "    \n",
    "    print(path_out)\n",
    "    \n",
    "    bashCommand = \"gdalwarp -tr 0.2 0.2 -tap \" + path_in + \" \" + path_out\n",
    "    # execute bash command\n",
    "    os.system(bashCommand)"
   ]
  },
  {
   "cell_type": "code",
   "execution_count": null,
   "metadata": {},
   "outputs": [],
   "source": []
  }
 ],
 "metadata": {
  "kernelspec": {
   "display_name": "geo",
   "language": "python",
   "name": "geo"
  },
  "language_info": {
   "codemirror_mode": {
    "name": "ipython",
    "version": 3
   },
   "file_extension": ".py",
   "mimetype": "text/x-python",
   "name": "python",
   "nbconvert_exporter": "python",
   "pygments_lexer": "ipython3",
   "version": "3.8.2"
  }
 },
 "nbformat": 4,
 "nbformat_minor": 4
}
