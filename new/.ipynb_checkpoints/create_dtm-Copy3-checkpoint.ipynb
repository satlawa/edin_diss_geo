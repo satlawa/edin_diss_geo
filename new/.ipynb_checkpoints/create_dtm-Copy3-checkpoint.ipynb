{
 "cells": [
  {
   "cell_type": "code",
   "execution_count": null,
   "metadata": {},
   "outputs": [],
   "source": []
  },
  {
   "cell_type": "code",
   "execution_count": 1,
   "metadata": {},
   "outputs": [],
   "source": [
    "import os\n",
    "from DataDTM import DataDTM"
   ]
  },
  {
   "cell_type": "code",
   "execution_count": 2,
   "metadata": {},
   "outputs": [],
   "source": [
    "import geopandas\n",
    "import pandas as pd\n",
    "import numpy as np"
   ]
  },
  {
   "cell_type": "code",
   "execution_count": 3,
   "metadata": {},
   "outputs": [
    {
     "name": "stdout",
     "output_type": "stream",
     "text": [
      "provided path found\n",
      "reading file 'dtm_info.csv' ...\n",
      "dtm initialised\n"
     ]
    }
   ],
   "source": [
    "# input dir with raster data (.tif)\n",
    "input_dir = '/media/philipp/ed7d22ba-5a3b-4d31-bf6c-6add6e106b3d/DTM/'\n",
    "# output dir to write out mosaiced data (.tif)\n",
    "output_dir = '/media/philipp/DATA/dtm/'\n",
    "# path to info about the extefnd of the dtm tiles to be produced\n",
    "dtm_tiles = geopandas.read_file('/home/philipp/Data/edin_diss/GIS_grid/dtm_mosaic_tiles/dtm_mosaic_tiles.shp')\n",
    "\n",
    "dtm = DataDTM(input_dir)"
   ]
  },
  {
   "cell_type": "code",
   "execution_count": 4,
   "metadata": {},
   "outputs": [
    {
     "data": {
      "text/html": [
       "<div>\n",
       "<style scoped>\n",
       "    .dataframe tbody tr th:only-of-type {\n",
       "        vertical-align: middle;\n",
       "    }\n",
       "\n",
       "    .dataframe tbody tr th {\n",
       "        vertical-align: top;\n",
       "    }\n",
       "\n",
       "    .dataframe thead th {\n",
       "        text-align: right;\n",
       "    }\n",
       "</style>\n",
       "<table border=\"1\" class=\"dataframe\">\n",
       "  <thead>\n",
       "    <tr style=\"text-align: right;\">\n",
       "      <th></th>\n",
       "      <th>id</th>\n",
       "      <th>area</th>\n",
       "      <th>x_min</th>\n",
       "      <th>x_max</th>\n",
       "      <th>y_min</th>\n",
       "      <th>y_max</th>\n",
       "      <th>geometry</th>\n",
       "    </tr>\n",
       "  </thead>\n",
       "  <tbody>\n",
       "    <tr>\n",
       "      <th>0</th>\n",
       "      <td>1</td>\n",
       "      <td>900491770</td>\n",
       "      <td>588890.9</td>\n",
       "      <td>618890.9</td>\n",
       "      <td>464061.6</td>\n",
       "      <td>494061.6</td>\n",
       "      <td>POLYGON ((618890.929 494061.562, 618890.929 46...</td>\n",
       "    </tr>\n",
       "    <tr>\n",
       "      <th>1</th>\n",
       "      <td>2</td>\n",
       "      <td>432266386</td>\n",
       "      <td>586373.4</td>\n",
       "      <td>613373.4</td>\n",
       "      <td>447965.8</td>\n",
       "      <td>463965.8</td>\n",
       "      <td>POLYGON ((613373.371 463965.793, 613373.371 44...</td>\n",
       "    </tr>\n",
       "    <tr>\n",
       "      <th>2</th>\n",
       "      <td>3</td>\n",
       "      <td>1926264735</td>\n",
       "      <td>498979.9</td>\n",
       "      <td>575979.9</td>\n",
       "      <td>413782.7</td>\n",
       "      <td>438782.7</td>\n",
       "      <td>POLYGON ((498979.946 438782.717, 575979.946 43...</td>\n",
       "    </tr>\n",
       "    <tr>\n",
       "      <th>3</th>\n",
       "      <td>4</td>\n",
       "      <td>5253387</td>\n",
       "      <td>495211.2</td>\n",
       "      <td>497711.2</td>\n",
       "      <td>440149.6</td>\n",
       "      <td>442249.6</td>\n",
       "      <td>POLYGON ((497711.203 442249.631, 497711.203 44...</td>\n",
       "    </tr>\n",
       "    <tr>\n",
       "      <th>4</th>\n",
       "      <td>5</td>\n",
       "      <td>117072370</td>\n",
       "      <td>480052.1</td>\n",
       "      <td>493052.1</td>\n",
       "      <td>448253.3</td>\n",
       "      <td>457253.3</td>\n",
       "      <td>POLYGON ((480052.068 457253.257, 493052.068 45...</td>\n",
       "    </tr>\n",
       "    <tr>\n",
       "      <th>...</th>\n",
       "      <td>...</td>\n",
       "      <td>...</td>\n",
       "      <td>...</td>\n",
       "      <td>...</td>\n",
       "      <td>...</td>\n",
       "      <td>...</td>\n",
       "      <td>...</td>\n",
       "    </tr>\n",
       "    <tr>\n",
       "      <th>285</th>\n",
       "      <td>286</td>\n",
       "      <td>32809</td>\n",
       "      <td>463473.5</td>\n",
       "      <td>463653.0</td>\n",
       "      <td>316266.2</td>\n",
       "      <td>316450.1</td>\n",
       "      <td>POLYGON ((463473.505 316450.051, 463652.990 31...</td>\n",
       "    </tr>\n",
       "    <tr>\n",
       "      <th>286</th>\n",
       "      <td>287</td>\n",
       "      <td>125770144</td>\n",
       "      <td>440527.6</td>\n",
       "      <td>455682.1</td>\n",
       "      <td>305079.8</td>\n",
       "      <td>313435.6</td>\n",
       "      <td>POLYGON ((440527.605 305079.818, 440527.605 31...</td>\n",
       "    </tr>\n",
       "    <tr>\n",
       "      <th>287</th>\n",
       "      <td>288</td>\n",
       "      <td>5169479</td>\n",
       "      <td>406758.6</td>\n",
       "      <td>409517.9</td>\n",
       "      <td>295244.9</td>\n",
       "      <td>297139.3</td>\n",
       "      <td>POLYGON ((406758.574 297139.252, 409517.877 29...</td>\n",
       "    </tr>\n",
       "    <tr>\n",
       "      <th>288</th>\n",
       "      <td>289</td>\n",
       "      <td>4397702</td>\n",
       "      <td>401490.8</td>\n",
       "      <td>403255.4</td>\n",
       "      <td>297182.5</td>\n",
       "      <td>299682.3</td>\n",
       "      <td>POLYGON ((401490.813 299665.009, 403255.383 29...</td>\n",
       "    </tr>\n",
       "    <tr>\n",
       "      <th>289</th>\n",
       "      <td>290</td>\n",
       "      <td>21708972</td>\n",
       "      <td>402753.7</td>\n",
       "      <td>410114.7</td>\n",
       "      <td>300365.6</td>\n",
       "      <td>303315.2</td>\n",
       "      <td>POLYGON ((402753.691 300365.647, 402762.341 30...</td>\n",
       "    </tr>\n",
       "  </tbody>\n",
       "</table>\n",
       "<p>290 rows × 7 columns</p>\n",
       "</div>"
      ],
      "text/plain": [
       "      id        area     x_min     x_max     y_min     y_max  \\\n",
       "0      1   900491770  588890.9  618890.9  464061.6  494061.6   \n",
       "1      2   432266386  586373.4  613373.4  447965.8  463965.8   \n",
       "2      3  1926264735  498979.9  575979.9  413782.7  438782.7   \n",
       "3      4     5253387  495211.2  497711.2  440149.6  442249.6   \n",
       "4      5   117072370  480052.1  493052.1  448253.3  457253.3   \n",
       "..   ...         ...       ...       ...       ...       ...   \n",
       "285  286       32809  463473.5  463653.0  316266.2  316450.1   \n",
       "286  287   125770144  440527.6  455682.1  305079.8  313435.6   \n",
       "287  288     5169479  406758.6  409517.9  295244.9  297139.3   \n",
       "288  289     4397702  401490.8  403255.4  297182.5  299682.3   \n",
       "289  290    21708972  402753.7  410114.7  300365.6  303315.2   \n",
       "\n",
       "                                              geometry  \n",
       "0    POLYGON ((618890.929 494061.562, 618890.929 46...  \n",
       "1    POLYGON ((613373.371 463965.793, 613373.371 44...  \n",
       "2    POLYGON ((498979.946 438782.717, 575979.946 43...  \n",
       "3    POLYGON ((497711.203 442249.631, 497711.203 44...  \n",
       "4    POLYGON ((480052.068 457253.257, 493052.068 45...  \n",
       "..                                                 ...  \n",
       "285  POLYGON ((463473.505 316450.051, 463652.990 31...  \n",
       "286  POLYGON ((440527.605 305079.818, 440527.605 31...  \n",
       "287  POLYGON ((406758.574 297139.252, 409517.877 29...  \n",
       "288  POLYGON ((401490.813 299665.009, 403255.383 29...  \n",
       "289  POLYGON ((402753.691 300365.647, 402762.341 30...  \n",
       "\n",
       "[290 rows x 7 columns]"
      ]
     },
     "execution_count": 4,
     "metadata": {},
     "output_type": "execute_result"
    }
   ],
   "source": [
    "dtm_tiles"
   ]
  },
  {
   "cell_type": "code",
   "execution_count": 16,
   "metadata": {},
   "outputs": [],
   "source": [
    "# sort by area\n",
    "dtm_tiles = dtm_tiles.sort_values(by=['area'], ascending=False)\n",
    "# assign id in ascending order\n",
    "dtm_tiles['id'] = range(0,290)\n",
    "\n",
    "dtm_tiles_x = dtm_tiles.loc[dtm_tiles['id'].isin(np.arange(0,dtm_tiles.shape[0],4))]"
   ]
  },
  {
   "cell_type": "code",
   "execution_count": 17,
   "metadata": {},
   "outputs": [
    {
     "data": {
      "text/html": [
       "<div>\n",
       "<style scoped>\n",
       "    .dataframe tbody tr th:only-of-type {\n",
       "        vertical-align: middle;\n",
       "    }\n",
       "\n",
       "    .dataframe tbody tr th {\n",
       "        vertical-align: top;\n",
       "    }\n",
       "\n",
       "    .dataframe thead th {\n",
       "        text-align: right;\n",
       "    }\n",
       "</style>\n",
       "<table border=\"1\" class=\"dataframe\">\n",
       "  <thead>\n",
       "    <tr style=\"text-align: right;\">\n",
       "      <th></th>\n",
       "      <th>id</th>\n",
       "      <th>area</th>\n",
       "      <th>x_min</th>\n",
       "      <th>x_max</th>\n",
       "      <th>y_min</th>\n",
       "      <th>y_max</th>\n",
       "      <th>geometry</th>\n",
       "    </tr>\n",
       "  </thead>\n",
       "  <tbody>\n",
       "    <tr>\n",
       "      <th>2</th>\n",
       "      <td>0</td>\n",
       "      <td>1926264735</td>\n",
       "      <td>498979.9</td>\n",
       "      <td>575979.9</td>\n",
       "      <td>413782.7</td>\n",
       "      <td>438782.7</td>\n",
       "      <td>POLYGON ((498979.946 438782.717, 575979.946 43...</td>\n",
       "    </tr>\n",
       "    <tr>\n",
       "      <th>31</th>\n",
       "      <td>4</td>\n",
       "      <td>756513417</td>\n",
       "      <td>322683.5</td>\n",
       "      <td>358683.5</td>\n",
       "      <td>400972.9</td>\n",
       "      <td>421972.9</td>\n",
       "      <td>POLYGON ((358683.510 421972.937, 358683.510 40...</td>\n",
       "    </tr>\n",
       "    <tr>\n",
       "      <th>23</th>\n",
       "      <td>8</td>\n",
       "      <td>630424879</td>\n",
       "      <td>456015.5</td>\n",
       "      <td>486015.5</td>\n",
       "      <td>409127.7</td>\n",
       "      <td>430127.7</td>\n",
       "      <td>POLYGON ((486015.477 430127.717, 486015.477 40...</td>\n",
       "    </tr>\n",
       "    <tr>\n",
       "      <th>146</th>\n",
       "      <td>12</td>\n",
       "      <td>422164833</td>\n",
       "      <td>295183.5</td>\n",
       "      <td>336846.3</td>\n",
       "      <td>366270.5</td>\n",
       "      <td>376440.1</td>\n",
       "      <td>POLYGON ((295183.463 366270.465, 295544.322 37...</td>\n",
       "    </tr>\n",
       "    <tr>\n",
       "      <th>17</th>\n",
       "      <td>16</td>\n",
       "      <td>342233060</td>\n",
       "      <td>575961.6</td>\n",
       "      <td>593961.6</td>\n",
       "      <td>404185.7</td>\n",
       "      <td>423185.7</td>\n",
       "      <td>POLYGON ((593961.640 423185.687, 593961.640 40...</td>\n",
       "    </tr>\n",
       "    <tr>\n",
       "      <th>...</th>\n",
       "      <td>...</td>\n",
       "      <td>...</td>\n",
       "      <td>...</td>\n",
       "      <td>...</td>\n",
       "      <td>...</td>\n",
       "      <td>...</td>\n",
       "      <td>...</td>\n",
       "    </tr>\n",
       "    <tr>\n",
       "      <th>52</th>\n",
       "      <td>272</td>\n",
       "      <td>200122</td>\n",
       "      <td>530333.8</td>\n",
       "      <td>530733.8</td>\n",
       "      <td>456259.2</td>\n",
       "      <td>456759.2</td>\n",
       "      <td>POLYGON ((530333.832 456759.180, 530733.832 45...</td>\n",
       "    </tr>\n",
       "    <tr>\n",
       "      <th>237</th>\n",
       "      <td>276</td>\n",
       "      <td>159939</td>\n",
       "      <td>182776.1</td>\n",
       "      <td>183212.8</td>\n",
       "      <td>371572.5</td>\n",
       "      <td>371941.6</td>\n",
       "      <td>POLYGON ((182776.126 371935.406, 183212.847 37...</td>\n",
       "    </tr>\n",
       "    <tr>\n",
       "      <th>152</th>\n",
       "      <td>280</td>\n",
       "      <td>115161</td>\n",
       "      <td>335165.0</td>\n",
       "      <td>335402.9</td>\n",
       "      <td>365975.2</td>\n",
       "      <td>366459.1</td>\n",
       "      <td>POLYGON ((335165.011 366459.096, 335402.850 36...</td>\n",
       "    </tr>\n",
       "    <tr>\n",
       "      <th>195</th>\n",
       "      <td>284</td>\n",
       "      <td>75220</td>\n",
       "      <td>361789.3</td>\n",
       "      <td>362084.6</td>\n",
       "      <td>397360.4</td>\n",
       "      <td>397617.4</td>\n",
       "      <td>POLYGON ((361789.305 397617.365, 362084.553 39...</td>\n",
       "    </tr>\n",
       "    <tr>\n",
       "      <th>275</th>\n",
       "      <td>288</td>\n",
       "      <td>39072</td>\n",
       "      <td>440389.9</td>\n",
       "      <td>440623.5</td>\n",
       "      <td>293063.7</td>\n",
       "      <td>293231.0</td>\n",
       "      <td>POLYGON ((440389.928 293230.959, 440623.474 29...</td>\n",
       "    </tr>\n",
       "  </tbody>\n",
       "</table>\n",
       "<p>73 rows × 7 columns</p>\n",
       "</div>"
      ],
      "text/plain": [
       "      id        area     x_min     x_max     y_min     y_max  \\\n",
       "2      0  1926264735  498979.9  575979.9  413782.7  438782.7   \n",
       "31     4   756513417  322683.5  358683.5  400972.9  421972.9   \n",
       "23     8   630424879  456015.5  486015.5  409127.7  430127.7   \n",
       "146   12   422164833  295183.5  336846.3  366270.5  376440.1   \n",
       "17    16   342233060  575961.6  593961.6  404185.7  423185.7   \n",
       "..   ...         ...       ...       ...       ...       ...   \n",
       "52   272      200122  530333.8  530733.8  456259.2  456759.2   \n",
       "237  276      159939  182776.1  183212.8  371572.5  371941.6   \n",
       "152  280      115161  335165.0  335402.9  365975.2  366459.1   \n",
       "195  284       75220  361789.3  362084.6  397360.4  397617.4   \n",
       "275  288       39072  440389.9  440623.5  293063.7  293231.0   \n",
       "\n",
       "                                              geometry  \n",
       "2    POLYGON ((498979.946 438782.717, 575979.946 43...  \n",
       "31   POLYGON ((358683.510 421972.937, 358683.510 40...  \n",
       "23   POLYGON ((486015.477 430127.717, 486015.477 40...  \n",
       "146  POLYGON ((295183.463 366270.465, 295544.322 37...  \n",
       "17   POLYGON ((593961.640 423185.687, 593961.640 40...  \n",
       "..                                                 ...  \n",
       "52   POLYGON ((530333.832 456759.180, 530733.832 45...  \n",
       "237  POLYGON ((182776.126 371935.406, 183212.847 37...  \n",
       "152  POLYGON ((335165.011 366459.096, 335402.850 36...  \n",
       "195  POLYGON ((361789.305 397617.365, 362084.553 39...  \n",
       "275  POLYGON ((440389.928 293230.959, 440623.474 29...  \n",
       "\n",
       "[73 rows x 7 columns]"
      ]
     },
     "execution_count": 17,
     "metadata": {},
     "output_type": "execute_result"
    }
   ],
   "source": [
    "dtm_tiles_x"
   ]
  },
  {
   "cell_type": "code",
   "execution_count": 18,
   "metadata": {},
   "outputs": [
    {
     "data": {
      "text/plain": [
       "(73, 7)"
      ]
     },
     "execution_count": 18,
     "metadata": {},
     "output_type": "execute_result"
    }
   ],
   "source": [
    "dtm_tiles_x.shape"
   ]
  },
  {
   "cell_type": "code",
   "execution_count": 8,
   "metadata": {},
   "outputs": [
    {
     "data": {
      "text/plain": [
       "(622455.0, 369160.6, 622955.0, 368660.6)"
      ]
     },
     "execution_count": 8,
     "metadata": {},
     "output_type": "execute_result"
    }
   ],
   "source": [
    "#dtm = DataDTM(input_dir)\n",
    "\n",
    "# setting extend by raster\n",
    "#path_ortho = '/media/philipp/ed7d22ba-5a3b-4d31-bf6c-6add6e106b3d/ortho/2018250_bischofshofen_lb_rgbi.img'\n",
    "#dtm.set_extend_by_raster(path_ortho)\n",
    "\n",
    "# setting extend manually\n",
    "#ulx,uly,lrx,lry = 177527, 400877, 185000, 350200\n",
    "#dtm.set_extend_by_coordinates(ulx, uly, lrx, lry)\n",
    "#dtm.set_extend_by_coordinates(row['x_min'], row['y_max'], row['x_max'], row['y_min'])\n",
    "#dtm.get_extend()                           "
   ]
  },
  {
   "cell_type": "code",
   "execution_count": 9,
   "metadata": {},
   "outputs": [
    {
     "name": "stdout",
     "output_type": "stream",
     "text": [
      "DTM file created - files merged\n"
     ]
    }
   ],
   "source": [
    "#dtm.create_dtm(os.path.join(output_dir, 'dtm_{}.tif'.format(row['id'])))"
   ]
  },
  {
   "cell_type": "code",
   "execution_count": null,
   "metadata": {},
   "outputs": [
    {
     "name": "stdout",
     "output_type": "stream",
     "text": [
      "2 498979.9 575979.9 413782.7 438782.7\n"
     ]
    }
   ],
   "source": [
    "# loop over all tiles\n",
    "for index, row in dtm_tiles_x.iterrows():\n",
    "    \n",
    "    print(index, row['x_min'], row['x_max'], row['y_min'], row['y_max'])\n",
    "    # setting extend\n",
    "    dtm.set_extend_by_coordinates(row['x_min'], row['y_max'], row['x_max'], row['y_min'])\n",
    "    dtm.create_dtm(os.path.join(output_dir, 'dtm_{}.tif'.format(row['id'])))\n",
    "    dtm.create_slope(os.path.join(output_dir, 'slope_{}.tif'.format(row['id'])))"
   ]
  },
  {
   "cell_type": "code",
   "execution_count": 5,
   "metadata": {},
   "outputs": [
    {
     "data": {
      "text/plain": [
       "(177527, 400877, 185000, 350200)"
      ]
     },
     "execution_count": 5,
     "metadata": {},
     "output_type": "execute_result"
    }
   ],
   "source": [
    "#dtm.get_extend()"
   ]
  },
  {
   "cell_type": "code",
   "execution_count": 6,
   "metadata": {
    "scrolled": true
   },
   "outputs": [
    {
     "name": "stdout",
     "output_type": "stream",
     "text": [
      "DTM file created - files merged\n"
     ]
    }
   ],
   "source": [
    "#dtm.create_dtm(output_path)"
   ]
  },
  {
   "cell_type": "code",
   "execution_count": 7,
   "metadata": {},
   "outputs": [
    {
     "name": "stdout",
     "output_type": "stream",
     "text": [
      "Slope file created\n"
     ]
    }
   ],
   "source": [
    "#dtm.create_slope('/home/philipp/Data/edin_diss/test/test_slope.tif')"
   ]
  },
  {
   "cell_type": "code",
   "execution_count": null,
   "metadata": {},
   "outputs": [],
   "source": []
  },
  {
   "cell_type": "code",
   "execution_count": 16,
   "metadata": {},
   "outputs": [],
   "source": [
    "t_ulx, t_uly, t_lrx, t_lry = dtm.extend"
   ]
  },
  {
   "cell_type": "code",
   "execution_count": 22,
   "metadata": {},
   "outputs": [
    {
     "data": {
      "text/plain": [
       "369160.6"
      ]
     },
     "execution_count": 22,
     "metadata": {},
     "output_type": "execute_result"
    }
   ],
   "source": [
    "t_uly"
   ]
  },
  {
   "cell_type": "code",
   "execution_count": 27,
   "metadata": {},
   "outputs": [
    {
     "data": {
      "text/plain": [
       "368660.6"
      ]
     },
     "execution_count": 27,
     "metadata": {},
     "output_type": "execute_result"
    }
   ],
   "source": [
    "t_lry"
   ]
  },
  {
   "cell_type": "code",
   "execution_count": 26,
   "metadata": {},
   "outputs": [],
   "source": [
    "idx_fil = dtm.index[(t_ulx <= dtm.index['lrx']) &\n",
    "                             (t_lrx >= dtm.index['ulx']) &\n",
    "                             (t_uly >= dtm.index['uly']) &\n",
    "                             (t_lry <= dtm.index['lry'])]"
   ]
  },
  {
   "cell_type": "code",
   "execution_count": 44,
   "metadata": {},
   "outputs": [],
   "source": [
    "idx_fil = dtm.index[(dtm.index['ulx'] <= t_lrx) & (dtm.index['lrx'] >= t_ulx) &\n",
    "                   (dtm.index['lry'] <= t_uly) & (dtm.index['uly'] >= t_lry)]"
   ]
  },
  {
   "cell_type": "code",
   "execution_count": 45,
   "metadata": {},
   "outputs": [
    {
     "data": {
      "text/html": [
       "<div>\n",
       "<style scoped>\n",
       "    .dataframe tbody tr th:only-of-type {\n",
       "        vertical-align: middle;\n",
       "    }\n",
       "\n",
       "    .dataframe tbody tr th {\n",
       "        vertical-align: top;\n",
       "    }\n",
       "\n",
       "    .dataframe thead th {\n",
       "        text-align: right;\n",
       "    }\n",
       "</style>\n",
       "<table border=\"1\" class=\"dataframe\">\n",
       "  <thead>\n",
       "    <tr style=\"text-align: right;\">\n",
       "      <th></th>\n",
       "      <th>filename</th>\n",
       "      <th>y</th>\n",
       "      <th>x</th>\n",
       "      <th>ulx</th>\n",
       "      <th>uly</th>\n",
       "      <th>lrx</th>\n",
       "      <th>lry</th>\n",
       "    </tr>\n",
       "  </thead>\n",
       "  <tbody>\n",
       "    <tr>\n",
       "      <th>3492</th>\n",
       "      <td>204-38.tif</td>\n",
       "      <td>204</td>\n",
       "      <td>38</td>\n",
       "      <td>622217.473231</td>\n",
       "      <td>369431.35679</td>\n",
       "      <td>622527.372119</td>\n",
       "      <td>368406.691115</td>\n",
       "    </tr>\n",
       "    <tr>\n",
       "      <th>3515</th>\n",
       "      <td>205-38.tif</td>\n",
       "      <td>205</td>\n",
       "      <td>38</td>\n",
       "      <td>622527.372119</td>\n",
       "      <td>369431.35679</td>\n",
       "      <td>622881.256654</td>\n",
       "      <td>368406.691115</td>\n",
       "    </tr>\n",
       "  </tbody>\n",
       "</table>\n",
       "</div>"
      ],
      "text/plain": [
       "        filename    y   x            ulx           uly            lrx  \\\n",
       "3492  204-38.tif  204  38  622217.473231  369431.35679  622527.372119   \n",
       "3515  205-38.tif  205  38  622527.372119  369431.35679  622881.256654   \n",
       "\n",
       "                lry  \n",
       "3492  368406.691115  \n",
       "3515  368406.691115  "
      ]
     },
     "execution_count": 45,
     "metadata": {},
     "output_type": "execute_result"
    }
   ],
   "source": [
    "idx_fil"
   ]
  },
  {
   "cell_type": "code",
   "execution_count": 10,
   "metadata": {},
   "outputs": [
    {
     "data": {
      "text/html": [
       "<div>\n",
       "<style scoped>\n",
       "    .dataframe tbody tr th:only-of-type {\n",
       "        vertical-align: middle;\n",
       "    }\n",
       "\n",
       "    .dataframe tbody tr th {\n",
       "        vertical-align: top;\n",
       "    }\n",
       "\n",
       "    .dataframe thead th {\n",
       "        text-align: right;\n",
       "    }\n",
       "</style>\n",
       "<table border=\"1\" class=\"dataframe\">\n",
       "  <thead>\n",
       "    <tr style=\"text-align: right;\">\n",
       "      <th></th>\n",
       "      <th>filename</th>\n",
       "      <th>y</th>\n",
       "      <th>x</th>\n",
       "      <th>ulx</th>\n",
       "      <th>uly</th>\n",
       "      <th>lrx</th>\n",
       "      <th>lry</th>\n",
       "    </tr>\n",
       "  </thead>\n",
       "  <tbody>\n",
       "    <tr>\n",
       "      <th>0</th>\n",
       "      <td>100-16.tif</td>\n",
       "      <td>100</td>\n",
       "      <td>16</td>\n",
       "      <td>360026.829121</td>\n",
       "      <td>315262.828057</td>\n",
       "      <td>362527.146703</td>\n",
       "      <td>315228.837334</td>\n",
       "    </tr>\n",
       "    <tr>\n",
       "      <th>1</th>\n",
       "      <td>100-17.tif</td>\n",
       "      <td>100</td>\n",
       "      <td>17</td>\n",
       "      <td>360026.829121</td>\n",
       "      <td>317762.145911</td>\n",
       "      <td>362527.146703</td>\n",
       "      <td>315262.828057</td>\n",
       "    </tr>\n",
       "    <tr>\n",
       "      <th>2</th>\n",
       "      <td>100-18.tif</td>\n",
       "      <td>100</td>\n",
       "      <td>18</td>\n",
       "      <td>360027.234669</td>\n",
       "      <td>320262.444506</td>\n",
       "      <td>362527.527239</td>\n",
       "      <td>317762.151937</td>\n",
       "    </tr>\n",
       "    <tr>\n",
       "      <th>3</th>\n",
       "      <td>100-19.tif</td>\n",
       "      <td>100</td>\n",
       "      <td>19</td>\n",
       "      <td>360027.428356</td>\n",
       "      <td>322762.733928</td>\n",
       "      <td>362526.709275</td>\n",
       "      <td>320262.453296</td>\n",
       "    </tr>\n",
       "    <tr>\n",
       "      <th>4</th>\n",
       "      <td>100-20.tif</td>\n",
       "      <td>100</td>\n",
       "      <td>20</td>\n",
       "      <td>360027.615981</td>\n",
       "      <td>325263.011413</td>\n",
       "      <td>362526.885346</td>\n",
       "      <td>322762.742338</td>\n",
       "    </tr>\n",
       "    <tr>\n",
       "      <th>...</th>\n",
       "      <td>...</td>\n",
       "      <td>...</td>\n",
       "      <td>...</td>\n",
       "      <td>...</td>\n",
       "      <td>...</td>\n",
       "      <td>...</td>\n",
       "      <td>...</td>\n",
       "    </tr>\n",
       "    <tr>\n",
       "      <th>6244</th>\n",
       "      <td>99-75.tif</td>\n",
       "      <td>99</td>\n",
       "      <td>75</td>\n",
       "      <td>357527.317067</td>\n",
       "      <td>462762.206705</td>\n",
       "      <td>360027.529346</td>\n",
       "      <td>460262.994113</td>\n",
       "    </tr>\n",
       "    <tr>\n",
       "      <th>6245</th>\n",
       "      <td>99-76.tif</td>\n",
       "      <td>99</td>\n",
       "      <td>76</td>\n",
       "      <td>357527.153018</td>\n",
       "      <td>465262.277605</td>\n",
       "      <td>360027.368623</td>\n",
       "      <td>462762.062002</td>\n",
       "    </tr>\n",
       "    <tr>\n",
       "      <th>6246</th>\n",
       "      <td>99-77.tif</td>\n",
       "      <td>99</td>\n",
       "      <td>77</td>\n",
       "      <td>357526.980899</td>\n",
       "      <td>467762.506630</td>\n",
       "      <td>360027.206428</td>\n",
       "      <td>465262.281104</td>\n",
       "    </tr>\n",
       "    <tr>\n",
       "      <th>6247</th>\n",
       "      <td>99-78.tif</td>\n",
       "      <td>99</td>\n",
       "      <td>78</td>\n",
       "      <td>357527.616560</td>\n",
       "      <td>470262.749518</td>\n",
       "      <td>360026.863399</td>\n",
       "      <td>467762.502980</td>\n",
       "    </tr>\n",
       "    <tr>\n",
       "      <th>6248</th>\n",
       "      <td>99-79.tif</td>\n",
       "      <td>99</td>\n",
       "      <td>79</td>\n",
       "      <td>357527.616560</td>\n",
       "      <td>472677.021964</td>\n",
       "      <td>360026.863399</td>\n",
       "      <td>470262.749518</td>\n",
       "    </tr>\n",
       "  </tbody>\n",
       "</table>\n",
       "<p>6249 rows × 7 columns</p>\n",
       "</div>"
      ],
      "text/plain": [
       "        filename    y   x            ulx            uly            lrx  \\\n",
       "0     100-16.tif  100  16  360026.829121  315262.828057  362527.146703   \n",
       "1     100-17.tif  100  17  360026.829121  317762.145911  362527.146703   \n",
       "2     100-18.tif  100  18  360027.234669  320262.444506  362527.527239   \n",
       "3     100-19.tif  100  19  360027.428356  322762.733928  362526.709275   \n",
       "4     100-20.tif  100  20  360027.615981  325263.011413  362526.885346   \n",
       "...          ...  ...  ..            ...            ...            ...   \n",
       "6244   99-75.tif   99  75  357527.317067  462762.206705  360027.529346   \n",
       "6245   99-76.tif   99  76  357527.153018  465262.277605  360027.368623   \n",
       "6246   99-77.tif   99  77  357526.980899  467762.506630  360027.206428   \n",
       "6247   99-78.tif   99  78  357527.616560  470262.749518  360026.863399   \n",
       "6248   99-79.tif   99  79  357527.616560  472677.021964  360026.863399   \n",
       "\n",
       "                lry  \n",
       "0     315228.837334  \n",
       "1     315262.828057  \n",
       "2     317762.151937  \n",
       "3     320262.453296  \n",
       "4     322762.742338  \n",
       "...             ...  \n",
       "6244  460262.994113  \n",
       "6245  462762.062002  \n",
       "6246  465262.281104  \n",
       "6247  467762.502980  \n",
       "6248  470262.749518  \n",
       "\n",
       "[6249 rows x 7 columns]"
      ]
     },
     "execution_count": 10,
     "metadata": {},
     "output_type": "execute_result"
    }
   ],
   "source": [
    "dtm.index"
   ]
  },
  {
   "cell_type": "code",
   "execution_count": 5,
   "metadata": {},
   "outputs": [
    {
     "data": {
      "text/plain": [
       "6224.2"
      ]
     },
     "execution_count": 5,
     "metadata": {},
     "output_type": "execute_result"
    }
   ],
   "source": [
    "31121/5"
   ]
  },
  {
   "cell_type": "code",
   "execution_count": 11,
   "metadata": {},
   "outputs": [
    {
     "data": {
      "text/plain": [
       "(622455.0, 369160.6, 622955.0, 368660.6)"
      ]
     },
     "execution_count": 11,
     "metadata": {},
     "output_type": "execute_result"
    }
   ],
   "source": [
    "dtm.get_extend()"
   ]
  },
  {
   "cell_type": "code",
   "execution_count": 15,
   "metadata": {},
   "outputs": [
    {
     "data": {
      "text/plain": [
       "553568.494734126"
      ]
     },
     "execution_count": 15,
     "metadata": {},
     "output_type": "execute_result"
    }
   ],
   "source": [
    "dtm.index['uly'].max()"
   ]
  },
  {
   "cell_type": "code",
   "execution_count": null,
   "metadata": {},
   "outputs": [],
   "source": []
  }
 ],
 "metadata": {
  "kernelspec": {
   "display_name": "geo",
   "language": "python",
   "name": "geo"
  },
  "language_info": {
   "codemirror_mode": {
    "name": "ipython",
    "version": 3
   },
   "file_extension": ".py",
   "mimetype": "text/x-python",
   "name": "python",
   "nbconvert_exporter": "python",
   "pygments_lexer": "ipython3",
   "version": "3.8.2"
  }
 },
 "nbformat": 4,
 "nbformat_minor": 4
}
