{
 "cells": [
  {
   "cell_type": "code",
   "execution_count": null,
   "metadata": {},
   "outputs": [],
   "source": []
  },
  {
   "cell_type": "code",
   "execution_count": 1,
   "metadata": {},
   "outputs": [],
   "source": [
    "import sys\n",
    "import os\n",
    "\n",
    "import geopandas as gpd\n",
    "import pandas as pd\n",
    "\n",
    "from osgeo import gdal\n",
    "from pyproj import CRS"
   ]
  },
  {
   "cell_type": "code",
   "execution_count": 25,
   "metadata": {},
   "outputs": [],
   "source": [
    "# load raw vector data\n",
    "db_data = gpd.read_file(\"/home/philipp/Data/edin_diss/GIS_tax/raw_vector_Stichtag_20200228.gdb\", layer=\"Waldorte\")"
   ]
  },
  {
   "cell_type": "code",
   "execution_count": 26,
   "metadata": {},
   "outputs": [],
   "source": [
    "# define crs of orthophotos\n",
    "new_crs = CRS.from_user_input('PROJCS[\"Austria_Lambert\",GEOGCS[\"GCS_BESSEL_AUT\",DATUM[\"D_BESSEL_AUT\",SPHEROID[\"Bessel_1841\",6377397.155,299.1528128,AUTHORITY[\"EPSG\",\"7004\"]]],PRIMEM[\"Greenwich\",0],UNIT[\"degree\",0.0174532925199433,AUTHORITY[\"EPSG\",\"9122\"]]],PROJECTION[\"Lambert_Conformal_Conic_2SP\"],PARAMETER[\"latitude_of_origin\",47.5],PARAMETER[\"central_meridian\",13.333333333],PARAMETER[\"standard_parallel_1\",46],PARAMETER[\"standard_parallel_2\",49],PARAMETER[\"false_easting\",400000],PARAMETER[\"false_northing\",400000],UNIT[\"metre\",1,AUTHORITY[\"EPSG\",\"9001\"]],AXIS[\"Easting\",EAST],AXIS[\"Northing\",NORTH]]')\n",
    "# reproject to new crs\n",
    "db_data = db_data.to_crs(new_crs)"
   ]
  },
  {
   "cell_type": "code",
   "execution_count": 27,
   "metadata": {},
   "outputs": [],
   "source": [
    "# add year the data is valid from\n",
    "db_data['year_data'] = 2019"
   ]
  },
  {
   "cell_type": "code",
   "execution_count": 5,
   "metadata": {},
   "outputs": [],
   "source": [
    "# save to file\n",
    "db_data.to_file(\"/home/philipp/Data/edin_diss/GIS_tax/gis_wo/gis_wo.shp\")"
   ]
  },
  {
   "cell_type": "code",
   "execution_count": 28,
   "metadata": {},
   "outputs": [
    {
     "data": {
      "text/html": [
       "<div>\n",
       "<style scoped>\n",
       "    .dataframe tbody tr th:only-of-type {\n",
       "        vertical-align: middle;\n",
       "    }\n",
       "\n",
       "    .dataframe tbody tr th {\n",
       "        vertical-align: top;\n",
       "    }\n",
       "\n",
       "    .dataframe thead th {\n",
       "        text-align: right;\n",
       "    }\n",
       "</style>\n",
       "<table border=\"1\" class=\"dataframe\">\n",
       "  <thead>\n",
       "    <tr style=\"text-align: right;\">\n",
       "      <th></th>\n",
       "      <th>FB_KURZ</th>\n",
       "      <th>FB_LANG</th>\n",
       "      <th>FR_KURZ</th>\n",
       "      <th>FR_LANG</th>\n",
       "      <th>ABTEILUNG</th>\n",
       "      <th>UNTERABTEILUNG</th>\n",
       "      <th>FARBCODE</th>\n",
       "      <th>LINKID</th>\n",
       "      <th>SHAPE_Length</th>\n",
       "      <th>SHAPE_Area</th>\n",
       "      <th>geometry</th>\n",
       "      <th>year_data</th>\n",
       "    </tr>\n",
       "  </thead>\n",
       "  <tbody>\n",
       "    <tr>\n",
       "      <th>0</th>\n",
       "      <td>179</td>\n",
       "      <td>Pongau</td>\n",
       "      <td>8</td>\n",
       "      <td>Gastein</td>\n",
       "      <td>647</td>\n",
       "      <td>C2</td>\n",
       "      <td>12000000000</td>\n",
       "      <td>{770B160D-349F-4E03-8E31-C09966044E95}</td>\n",
       "      <td>1490.713604</td>\n",
       "      <td>31382.525999</td>\n",
       "      <td>MULTIPOLYGON (((386279.300 358369.925, 386291....</td>\n",
       "      <td>2019</td>\n",
       "    </tr>\n",
       "    <tr>\n",
       "      <th>1</th>\n",
       "      <td>179</td>\n",
       "      <td>Pongau</td>\n",
       "      <td>1</td>\n",
       "      <td>Filzmoos</td>\n",
       "      <td>376</td>\n",
       "      <td>G4</td>\n",
       "      <td>12000000000</td>\n",
       "      <td>{B0F0509B-37B0-42AD-866E-4B6D75DF4AA6}</td>\n",
       "      <td>377.331016</td>\n",
       "      <td>7873.920587</td>\n",
       "      <td>MULTIPOLYGON (((411127.657 394260.340, 411148....</td>\n",
       "      <td>2019</td>\n",
       "    </tr>\n",
       "    <tr>\n",
       "      <th>2</th>\n",
       "      <td>179</td>\n",
       "      <td>Pongau</td>\n",
       "      <td>8</td>\n",
       "      <td>Gastein</td>\n",
       "      <td>689</td>\n",
       "      <td>I0</td>\n",
       "      <td>15000000000</td>\n",
       "      <td>{05C33B9A-5FEC-4754-97D8-D01CF5BDDD1C}</td>\n",
       "      <td>466.808748</td>\n",
       "      <td>10235.032218</td>\n",
       "      <td>MULTIPOLYGON (((380930.470 358686.725, 380935....</td>\n",
       "      <td>2019</td>\n",
       "    </tr>\n",
       "    <tr>\n",
       "      <th>3</th>\n",
       "      <td>179</td>\n",
       "      <td>Pongau</td>\n",
       "      <td>4</td>\n",
       "      <td>Kleinarl</td>\n",
       "      <td>554</td>\n",
       "      <td>G0</td>\n",
       "      <td>35200300000</td>\n",
       "      <td>{6E9C11FE-55F5-4247-A2B5-202F122286F6}</td>\n",
       "      <td>1432.461887</td>\n",
       "      <td>39275.813450</td>\n",
       "      <td>MULTIPOLYGON (((397372.350 374393.005, 397368....</td>\n",
       "      <td>2019</td>\n",
       "    </tr>\n",
       "    <tr>\n",
       "      <th>4</th>\n",
       "      <td>179</td>\n",
       "      <td>Pongau</td>\n",
       "      <td>3</td>\n",
       "      <td>Flachau</td>\n",
       "      <td>224</td>\n",
       "      <td>v_8/001</td>\n",
       "      <td>00000000008</td>\n",
       "      <td>{75650917-8ACF-46EF-912F-201029A152B2}</td>\n",
       "      <td>2062.772651</td>\n",
       "      <td>27072.555584</td>\n",
       "      <td>MULTIPOLYGON (((402954.780 381514.065, 402947....</td>\n",
       "      <td>2019</td>\n",
       "    </tr>\n",
       "  </tbody>\n",
       "</table>\n",
       "</div>"
      ],
      "text/plain": [
       "   FB_KURZ FB_LANG  FR_KURZ   FR_LANG  ABTEILUNG UNTERABTEILUNG     FARBCODE  \\\n",
       "0      179  Pongau        8   Gastein        647             C2  12000000000   \n",
       "1      179  Pongau        1  Filzmoos        376             G4  12000000000   \n",
       "2      179  Pongau        8   Gastein        689             I0  15000000000   \n",
       "3      179  Pongau        4  Kleinarl        554             G0  35200300000   \n",
       "4      179  Pongau        3   Flachau        224        v_8/001  00000000008   \n",
       "\n",
       "                                   LINKID  SHAPE_Length    SHAPE_Area  \\\n",
       "0  {770B160D-349F-4E03-8E31-C09966044E95}   1490.713604  31382.525999   \n",
       "1  {B0F0509B-37B0-42AD-866E-4B6D75DF4AA6}    377.331016   7873.920587   \n",
       "2  {05C33B9A-5FEC-4754-97D8-D01CF5BDDD1C}    466.808748  10235.032218   \n",
       "3  {6E9C11FE-55F5-4247-A2B5-202F122286F6}   1432.461887  39275.813450   \n",
       "4  {75650917-8ACF-46EF-912F-201029A152B2}   2062.772651  27072.555584   \n",
       "\n",
       "                                            geometry  year_data  \n",
       "0  MULTIPOLYGON (((386279.300 358369.925, 386291....       2019  \n",
       "1  MULTIPOLYGON (((411127.657 394260.340, 411148....       2019  \n",
       "2  MULTIPOLYGON (((380930.470 358686.725, 380935....       2019  \n",
       "3  MULTIPOLYGON (((397372.350 374393.005, 397368....       2019  \n",
       "4  MULTIPOLYGON (((402954.780 381514.065, 402947....       2019  "
      ]
     },
     "execution_count": 28,
     "metadata": {},
     "output_type": "execute_result"
    }
   ],
   "source": [
    "db_data.head()"
   ]
  },
  {
   "cell_type": "code",
   "execution_count": 8,
   "metadata": {},
   "outputs": [
    {
     "data": {
      "text/plain": [
       "<Projected CRS: PROJCS[\"Austria_Lambert\",GEOGCS[\"GCS_BESSEL_AUT\",D ...>\n",
       "Name: Austria_Lambert\n",
       "Axis Info [cartesian]:\n",
       "- [east]: Easting (metre)\n",
       "- [north]: Northing (metre)\n",
       "Area of Use:\n",
       "- undefined\n",
       "Coordinate Operation:\n",
       "- name: unnamed\n",
       "- method: Lambert Conic Conformal (2SP)\n",
       "Datum: D_BESSEL_AUT\n",
       "- Ellipsoid: Bessel 1841\n",
       "- Prime Meridian: Greenwich"
      ]
     },
     "execution_count": 8,
     "metadata": {},
     "output_type": "execute_result"
    }
   ],
   "source": [
    "db_data.crs"
   ]
  },
  {
   "cell_type": "code",
   "execution_count": 29,
   "metadata": {},
   "outputs": [
    {
     "data": {
      "text/plain": [
       "Index(['FB_KURZ', 'FB_LANG', 'FR_KURZ', 'FR_LANG', 'ABTEILUNG',\n",
       "       'UNTERABTEILUNG', 'FARBCODE', 'LINKID', 'SHAPE_Length', 'SHAPE_Area',\n",
       "       'geometry', 'year_data'],\n",
       "      dtype='object')"
      ]
     },
     "execution_count": 29,
     "metadata": {},
     "output_type": "execute_result"
    }
   ],
   "source": [
    "db_data.columns"
   ]
  },
  {
   "cell_type": "code",
   "execution_count": 32,
   "metadata": {},
   "outputs": [],
   "source": [
    "db_data['id'] = db_data['FB_KURZ'].astype(str) + db_data['FR_KURZ'].astype(str) + \\\n",
    "                db_data['ABTEILUNG'].astype(str) + db_data['UNTERABTEILUNG'].astype(str)"
   ]
  },
  {
   "cell_type": "code",
   "execution_count": 33,
   "metadata": {},
   "outputs": [
    {
     "data": {
      "text/plain": [
       "0              1798647C2\n",
       "1              1791376G4\n",
       "2              1798689I0\n",
       "3              1794554G0\n",
       "4         1793224v_8/001\n",
       "               ...      \n",
       "373121         8411480B2\n",
       "373122    8411209v_8/006\n",
       "373123         8411172A2\n",
       "373124         8411511P5\n",
       "373125     841150v_3/001\n",
       "Name: id, Length: 373126, dtype: object"
      ]
     },
     "execution_count": 33,
     "metadata": {},
     "output_type": "execute_result"
    }
   ],
   "source": [
    "db_data['id']"
   ]
  },
  {
   "cell_type": "code",
   "execution_count": null,
   "metadata": {},
   "outputs": [],
   "source": []
  },
  {
   "cell_type": "code",
   "execution_count": 2,
   "metadata": {},
   "outputs": [],
   "source": [
    "# load data about SAP tax\n",
    "sap_path = \"/home/philipp/Data/edin_diss/SAP_tax\"\n",
    "sap_tax = pd.read_csv(sap_path + \"/sap_meta.csv\", sep=',')\n",
    "\n",
    "year_data = '2019'"
   ]
  },
  {
   "cell_type": "code",
   "execution_count": 3,
   "metadata": {},
   "outputs": [
    {
     "data": {
      "text/html": [
       "<div>\n",
       "<style scoped>\n",
       "    .dataframe tbody tr th:only-of-type {\n",
       "        vertical-align: middle;\n",
       "    }\n",
       "\n",
       "    .dataframe tbody tr th {\n",
       "        vertical-align: top;\n",
       "    }\n",
       "\n",
       "    .dataframe thead th {\n",
       "        text-align: right;\n",
       "    }\n",
       "</style>\n",
       "<table border=\"1\" class=\"dataframe\">\n",
       "  <thead>\n",
       "    <tr style=\"text-align: right;\">\n",
       "      <th></th>\n",
       "      <th>FB</th>\n",
       "      <th>FR</th>\n",
       "      <th>2007</th>\n",
       "      <th>2008</th>\n",
       "      <th>2009</th>\n",
       "      <th>2010</th>\n",
       "      <th>2011</th>\n",
       "      <th>2012</th>\n",
       "      <th>2013</th>\n",
       "      <th>2014</th>\n",
       "      <th>2015</th>\n",
       "      <th>2016</th>\n",
       "      <th>2017</th>\n",
       "      <th>2018</th>\n",
       "      <th>2019</th>\n",
       "      <th>2020</th>\n",
       "      <th>2021</th>\n",
       "    </tr>\n",
       "  </thead>\n",
       "  <tbody>\n",
       "    <tr>\n",
       "      <th>0</th>\n",
       "      <td>171</td>\n",
       "      <td>1</td>\n",
       "      <td>1208</td>\n",
       "      <td>1208</td>\n",
       "      <td>1030</td>\n",
       "      <td>1030</td>\n",
       "      <td>1030</td>\n",
       "      <td>1030</td>\n",
       "      <td>1030</td>\n",
       "      <td>1030</td>\n",
       "      <td>1030</td>\n",
       "      <td>1030</td>\n",
       "      <td>1030</td>\n",
       "      <td>1030</td>\n",
       "      <td>1030</td>\n",
       "      <td>1356</td>\n",
       "      <td>1356</td>\n",
       "    </tr>\n",
       "    <tr>\n",
       "      <th>1</th>\n",
       "      <td>171</td>\n",
       "      <td>2</td>\n",
       "      <td>1208</td>\n",
       "      <td>1208</td>\n",
       "      <td>1030</td>\n",
       "      <td>1030</td>\n",
       "      <td>1030</td>\n",
       "      <td>1030</td>\n",
       "      <td>1030</td>\n",
       "      <td>1030</td>\n",
       "      <td>1030</td>\n",
       "      <td>1030</td>\n",
       "      <td>1030</td>\n",
       "      <td>1030</td>\n",
       "      <td>1030</td>\n",
       "      <td>1356</td>\n",
       "      <td>1356</td>\n",
       "    </tr>\n",
       "    <tr>\n",
       "      <th>2</th>\n",
       "      <td>171</td>\n",
       "      <td>3</td>\n",
       "      <td>1208</td>\n",
       "      <td>1208</td>\n",
       "      <td>1030</td>\n",
       "      <td>1030</td>\n",
       "      <td>1030</td>\n",
       "      <td>1030</td>\n",
       "      <td>1030</td>\n",
       "      <td>1030</td>\n",
       "      <td>1030</td>\n",
       "      <td>1030</td>\n",
       "      <td>1030</td>\n",
       "      <td>1030</td>\n",
       "      <td>1030</td>\n",
       "      <td>1356</td>\n",
       "      <td>1356</td>\n",
       "    </tr>\n",
       "    <tr>\n",
       "      <th>3</th>\n",
       "      <td>171</td>\n",
       "      <td>4</td>\n",
       "      <td>1208</td>\n",
       "      <td>1208</td>\n",
       "      <td>1030</td>\n",
       "      <td>1030</td>\n",
       "      <td>1030</td>\n",
       "      <td>1030</td>\n",
       "      <td>1030</td>\n",
       "      <td>1030</td>\n",
       "      <td>1030</td>\n",
       "      <td>1030</td>\n",
       "      <td>1030</td>\n",
       "      <td>1030</td>\n",
       "      <td>1030</td>\n",
       "      <td>1356</td>\n",
       "      <td>1356</td>\n",
       "    </tr>\n",
       "    <tr>\n",
       "      <th>4</th>\n",
       "      <td>171</td>\n",
       "      <td>5</td>\n",
       "      <td>1208</td>\n",
       "      <td>1208</td>\n",
       "      <td>1030</td>\n",
       "      <td>1030</td>\n",
       "      <td>1030</td>\n",
       "      <td>1030</td>\n",
       "      <td>1030</td>\n",
       "      <td>1030</td>\n",
       "      <td>1030</td>\n",
       "      <td>1030</td>\n",
       "      <td>1030</td>\n",
       "      <td>1030</td>\n",
       "      <td>1030</td>\n",
       "      <td>1356</td>\n",
       "      <td>1356</td>\n",
       "    </tr>\n",
       "  </tbody>\n",
       "</table>\n",
       "</div>"
      ],
      "text/plain": [
       "    FB  FR  2007  2008  2009  2010  2011  2012  2013  2014  2015  2016  2017  \\\n",
       "0  171   1  1208  1208  1030  1030  1030  1030  1030  1030  1030  1030  1030   \n",
       "1  171   2  1208  1208  1030  1030  1030  1030  1030  1030  1030  1030  1030   \n",
       "2  171   3  1208  1208  1030  1030  1030  1030  1030  1030  1030  1030  1030   \n",
       "3  171   4  1208  1208  1030  1030  1030  1030  1030  1030  1030  1030  1030   \n",
       "4  171   5  1208  1208  1030  1030  1030  1030  1030  1030  1030  1030  1030   \n",
       "\n",
       "   2018  2019  2020  2021  \n",
       "0  1030  1030  1356  1356  \n",
       "1  1030  1030  1356  1356  \n",
       "2  1030  1030  1356  1356  \n",
       "3  1030  1030  1356  1356  \n",
       "4  1030  1030  1356  1356  "
      ]
     },
     "execution_count": 3,
     "metadata": {},
     "output_type": "execute_result"
    }
   ],
   "source": [
    "sap_tax.head()"
   ]
  },
  {
   "cell_type": "code",
   "execution_count": 4,
   "metadata": {},
   "outputs": [
    {
     "data": {
      "text/plain": [
       "array([1030, 1353, 1049, 1053, 1052, 1100, 1050, 1051, 1083, 1042, 1073,\n",
       "       1092, 1311, 1342, 1151, 1194, 1086, 1043, 1144, 1197, 1055, 1303,\n",
       "       1085, 1345, 1302, 1140, 1312, 1065, 1066, 1067, 1088, 1044, 1196,\n",
       "       1313, 1343, 1354, 1093, 1045, 1081, 1082, 1341, 1355, 1156, 1250])"
      ]
     },
     "execution_count": 4,
     "metadata": {},
     "output_type": "execute_result"
    }
   ],
   "source": [
    "# get all \n",
    "tos = sap_tax[year_data].unique()\n",
    "tos"
   ]
  },
  {
   "cell_type": "code",
   "execution_count": 5,
   "metadata": {},
   "outputs": [],
   "source": [
    "# create df for giveb year\n",
    "sap_tax_year = sap_tax[['FB', year_data]]"
   ]
  },
  {
   "cell_type": "code",
   "execution_count": 6,
   "metadata": {},
   "outputs": [],
   "source": [
    "def concat_sap_tax(tos, sap_tax_year):\n",
    "    \n",
    "    sap_tax_tos = []\n",
    "\n",
    "    for to in tos:\n",
    "        # find Forstbetrieb for the giveb Teiloperat\n",
    "        fb = sap_tax_year.loc[sap_tax_year[year_data] == to, 'FB'].unique()[0]\n",
    "        path = sap_path + \"/\" + str(fb) + \"/TO_\" + str(to) + \".XLS\"\n",
    "        sap_tax_tos.append(pd.read_csv(path, sep='\\t', encoding = \"ISO-8859-1\", decimal=',', error_bad_lines=False, na_values=0))\n",
    "        print(path)\n",
    "\n",
    "    return pd.concat(sap_tax_tos)"
   ]
  },
  {
   "cell_type": "code",
   "execution_count": 8,
   "metadata": {
    "scrolled": true
   },
   "outputs": [
    {
     "name": "stderr",
     "output_type": "stream",
     "text": [
      "/home/philipp/miniconda3/envs/geopd/lib/python3.7/site-packages/IPython/core/interactiveshell.py:3263: DtypeWarning: Columns (2,4,29,147,148,149) have mixed types.Specify dtype option on import or set low_memory=False.\n",
      "  if (await self.run_code(code, result,  async_=asy)):\n"
     ]
    },
    {
     "name": "stdout",
     "output_type": "stream",
     "text": [
      "/home/philipp/Data/edin_diss/SAP_tax/171/TO_1030.XLS\n"
     ]
    },
    {
     "name": "stderr",
     "output_type": "stream",
     "text": [
      "/home/philipp/miniconda3/envs/geopd/lib/python3.7/site-packages/IPython/core/interactiveshell.py:3263: DtypeWarning: Columns (29) have mixed types.Specify dtype option on import or set low_memory=False.\n",
      "  if (await self.run_code(code, result,  async_=asy)):\n"
     ]
    },
    {
     "name": "stdout",
     "output_type": "stream",
     "text": [
      "/home/philipp/Data/edin_diss/SAP_tax/171/TO_1353.XLS\n"
     ]
    },
    {
     "name": "stderr",
     "output_type": "stream",
     "text": [
      "/home/philipp/miniconda3/envs/geopd/lib/python3.7/site-packages/IPython/core/interactiveshell.py:3263: DtypeWarning: Columns (0,2,4,148,149) have mixed types.Specify dtype option on import or set low_memory=False.\n",
      "  if (await self.run_code(code, result,  async_=asy)):\n"
     ]
    },
    {
     "name": "stdout",
     "output_type": "stream",
     "text": [
      "/home/philipp/Data/edin_diss/SAP_tax/171/TO_1049.XLS\n"
     ]
    },
    {
     "name": "stderr",
     "output_type": "stream",
     "text": [
      "/home/philipp/miniconda3/envs/geopd/lib/python3.7/site-packages/IPython/core/interactiveshell.py:3263: DtypeWarning: Columns (0,2,4,29,146,147) have mixed types.Specify dtype option on import or set low_memory=False.\n",
      "  if (await self.run_code(code, result,  async_=asy)):\n"
     ]
    },
    {
     "name": "stdout",
     "output_type": "stream",
     "text": [
      "/home/philipp/Data/edin_diss/SAP_tax/172/TO_1053.XLS\n",
      "/home/philipp/Data/edin_diss/SAP_tax/172/TO_1052.XLS\n"
     ]
    },
    {
     "name": "stderr",
     "output_type": "stream",
     "text": [
      "/home/philipp/miniconda3/envs/geopd/lib/python3.7/site-packages/IPython/core/interactiveshell.py:3263: DtypeWarning: Columns (149) have mixed types.Specify dtype option on import or set low_memory=False.\n",
      "  if (await self.run_code(code, result,  async_=asy)):\n"
     ]
    },
    {
     "name": "stdout",
     "output_type": "stream",
     "text": [
      "/home/philipp/Data/edin_diss/SAP_tax/172/TO_1100.XLS\n",
      "/home/philipp/Data/edin_diss/SAP_tax/172/TO_1050.XLS\n"
     ]
    },
    {
     "name": "stderr",
     "output_type": "stream",
     "text": [
      "/home/philipp/miniconda3/envs/geopd/lib/python3.7/site-packages/IPython/core/interactiveshell.py:3263: DtypeWarning: Columns (29,148) have mixed types.Specify dtype option on import or set low_memory=False.\n",
      "  if (await self.run_code(code, result,  async_=asy)):\n"
     ]
    },
    {
     "name": "stdout",
     "output_type": "stream",
     "text": [
      "/home/philipp/Data/edin_diss/SAP_tax/172/TO_1051.XLS\n"
     ]
    },
    {
     "name": "stderr",
     "output_type": "stream",
     "text": [
      "/home/philipp/miniconda3/envs/geopd/lib/python3.7/site-packages/IPython/core/interactiveshell.py:3263: DtypeWarning: Columns (2,4,29,148,149) have mixed types.Specify dtype option on import or set low_memory=False.\n",
      "  if (await self.run_code(code, result,  async_=asy)):\n"
     ]
    },
    {
     "name": "stdout",
     "output_type": "stream",
     "text": [
      "/home/philipp/Data/edin_diss/SAP_tax/172/TO_1083.XLS\n"
     ]
    },
    {
     "name": "stderr",
     "output_type": "stream",
     "text": [
      "/home/philipp/miniconda3/envs/geopd/lib/python3.7/site-packages/IPython/core/interactiveshell.py:3263: DtypeWarning: Columns (148,149) have mixed types.Specify dtype option on import or set low_memory=False.\n",
      "  if (await self.run_code(code, result,  async_=asy)):\n"
     ]
    },
    {
     "name": "stdout",
     "output_type": "stream",
     "text": [
      "/home/philipp/Data/edin_diss/SAP_tax/173/TO_1042.XLS\n",
      "/home/philipp/Data/edin_diss/SAP_tax/173/TO_1073.XLS\n"
     ]
    },
    {
     "name": "stderr",
     "output_type": "stream",
     "text": [
      "/home/philipp/miniconda3/envs/geopd/lib/python3.7/site-packages/IPython/core/interactiveshell.py:3263: DtypeWarning: Columns (29,147) have mixed types.Specify dtype option on import or set low_memory=False.\n",
      "  if (await self.run_code(code, result,  async_=asy)):\n",
      "/home/philipp/miniconda3/envs/geopd/lib/python3.7/site-packages/IPython/core/interactiveshell.py:3263: DtypeWarning: Columns (0,2,4,29,149) have mixed types.Specify dtype option on import or set low_memory=False.\n",
      "  if (await self.run_code(code, result,  async_=asy)):\n"
     ]
    },
    {
     "name": "stdout",
     "output_type": "stream",
     "text": [
      "/home/philipp/Data/edin_diss/SAP_tax/173/TO_1092.XLS\n",
      "/home/philipp/Data/edin_diss/SAP_tax/173/TO_1311.XLS\n"
     ]
    },
    {
     "name": "stderr",
     "output_type": "stream",
     "text": [
      "/home/philipp/miniconda3/envs/geopd/lib/python3.7/site-packages/IPython/core/interactiveshell.py:3263: DtypeWarning: Columns (146,147,148,149) have mixed types.Specify dtype option on import or set low_memory=False.\n",
      "  if (await self.run_code(code, result,  async_=asy)):\n"
     ]
    },
    {
     "name": "stdout",
     "output_type": "stream",
     "text": [
      "/home/philipp/Data/edin_diss/SAP_tax/173/TO_1342.XLS\n"
     ]
    },
    {
     "name": "stderr",
     "output_type": "stream",
     "text": [
      "/home/philipp/miniconda3/envs/geopd/lib/python3.7/site-packages/IPython/core/interactiveshell.py:3263: DtypeWarning: Columns (29,40,148,149) have mixed types.Specify dtype option on import or set low_memory=False.\n",
      "  if (await self.run_code(code, result,  async_=asy)):\n"
     ]
    },
    {
     "name": "stdout",
     "output_type": "stream",
     "text": [
      "/home/philipp/Data/edin_diss/SAP_tax/174/TO_1151.XLS\n"
     ]
    },
    {
     "name": "stderr",
     "output_type": "stream",
     "text": [
      "/home/philipp/miniconda3/envs/geopd/lib/python3.7/site-packages/IPython/core/interactiveshell.py:3263: DtypeWarning: Columns (40,148,149) have mixed types.Specify dtype option on import or set low_memory=False.\n",
      "  if (await self.run_code(code, result,  async_=asy)):\n"
     ]
    },
    {
     "name": "stdout",
     "output_type": "stream",
     "text": [
      "/home/philipp/Data/edin_diss/SAP_tax/174/TO_1194.XLS\n"
     ]
    },
    {
     "name": "stderr",
     "output_type": "stream",
     "text": [
      "/home/philipp/miniconda3/envs/geopd/lib/python3.7/site-packages/IPython/core/interactiveshell.py:3263: DtypeWarning: Columns (29,148,149) have mixed types.Specify dtype option on import or set low_memory=False.\n",
      "  if (await self.run_code(code, result,  async_=asy)):\n"
     ]
    },
    {
     "name": "stdout",
     "output_type": "stream",
     "text": [
      "/home/philipp/Data/edin_diss/SAP_tax/175/TO_1086.XLS\n",
      "/home/philipp/Data/edin_diss/SAP_tax/175/TO_1043.XLS\n",
      "/home/philipp/Data/edin_diss/SAP_tax/175/TO_1144.XLS\n",
      "/home/philipp/Data/edin_diss/SAP_tax/175/TO_1197.XLS\n"
     ]
    },
    {
     "name": "stderr",
     "output_type": "stream",
     "text": [
      "/home/philipp/miniconda3/envs/geopd/lib/python3.7/site-packages/IPython/core/interactiveshell.py:3263: DtypeWarning: Columns (0,2,4,29,146,147,148,149) have mixed types.Specify dtype option on import or set low_memory=False.\n",
      "  if (await self.run_code(code, result,  async_=asy)):\n"
     ]
    },
    {
     "name": "stdout",
     "output_type": "stream",
     "text": [
      "/home/philipp/Data/edin_diss/SAP_tax/176/TO_1055.XLS\n",
      "/home/philipp/Data/edin_diss/SAP_tax/176/TO_1303.XLS\n"
     ]
    },
    {
     "name": "stderr",
     "output_type": "stream",
     "text": [
      "/home/philipp/miniconda3/envs/geopd/lib/python3.7/site-packages/IPython/core/interactiveshell.py:3263: DtypeWarning: Columns (0,2,4) have mixed types.Specify dtype option on import or set low_memory=False.\n",
      "  if (await self.run_code(code, result,  async_=asy)):\n"
     ]
    },
    {
     "name": "stdout",
     "output_type": "stream",
     "text": [
      "/home/philipp/Data/edin_diss/SAP_tax/176/TO_1085.XLS\n",
      "/home/philipp/Data/edin_diss/SAP_tax/176/TO_1345.XLS\n",
      "/home/philipp/Data/edin_diss/SAP_tax/176/TO_1302.XLS\n"
     ]
    },
    {
     "name": "stderr",
     "output_type": "stream",
     "text": [
      "/home/philipp/miniconda3/envs/geopd/lib/python3.7/site-packages/IPython/core/interactiveshell.py:3263: DtypeWarning: Columns (147,148,149) have mixed types.Specify dtype option on import or set low_memory=False.\n",
      "  if (await self.run_code(code, result,  async_=asy)):\n"
     ]
    },
    {
     "name": "stdout",
     "output_type": "stream",
     "text": [
      "/home/philipp/Data/edin_diss/SAP_tax/177/TO_1140.XLS\n"
     ]
    },
    {
     "name": "stderr",
     "output_type": "stream",
     "text": [
      "/home/philipp/miniconda3/envs/geopd/lib/python3.7/site-packages/IPython/core/interactiveshell.py:3263: DtypeWarning: Columns (40,149) have mixed types.Specify dtype option on import or set low_memory=False.\n",
      "  if (await self.run_code(code, result,  async_=asy)):\n"
     ]
    },
    {
     "name": "stdout",
     "output_type": "stream",
     "text": [
      "/home/philipp/Data/edin_diss/SAP_tax/177/TO_1312.XLS\n"
     ]
    },
    {
     "name": "stderr",
     "output_type": "stream",
     "text": [
      "/home/philipp/miniconda3/envs/geopd/lib/python3.7/site-packages/IPython/core/interactiveshell.py:3263: DtypeWarning: Columns (0,2,4,29,146,147,148) have mixed types.Specify dtype option on import or set low_memory=False.\n",
      "  if (await self.run_code(code, result,  async_=asy)):\n"
     ]
    },
    {
     "name": "stdout",
     "output_type": "stream",
     "text": [
      "/home/philipp/Data/edin_diss/SAP_tax/178/TO_1065.XLS\n"
     ]
    },
    {
     "name": "stderr",
     "output_type": "stream",
     "text": [
      "/home/philipp/miniconda3/envs/geopd/lib/python3.7/site-packages/IPython/core/interactiveshell.py:3263: DtypeWarning: Columns (0,2,4,147,148) have mixed types.Specify dtype option on import or set low_memory=False.\n",
      "  if (await self.run_code(code, result,  async_=asy)):\n"
     ]
    },
    {
     "name": "stdout",
     "output_type": "stream",
     "text": [
      "/home/philipp/Data/edin_diss/SAP_tax/178/TO_1066.XLS\n",
      "/home/philipp/Data/edin_diss/SAP_tax/178/TO_1067.XLS\n"
     ]
    },
    {
     "name": "stderr",
     "output_type": "stream",
     "text": [
      "/home/philipp/miniconda3/envs/geopd/lib/python3.7/site-packages/IPython/core/interactiveshell.py:3263: DtypeWarning: Columns (0,2,4,29,147) have mixed types.Specify dtype option on import or set low_memory=False.\n",
      "  if (await self.run_code(code, result,  async_=asy)):\n"
     ]
    },
    {
     "name": "stdout",
     "output_type": "stream",
     "text": [
      "/home/philipp/Data/edin_diss/SAP_tax/179/TO_1088.XLS\n"
     ]
    },
    {
     "name": "stderr",
     "output_type": "stream",
     "text": [
      "/home/philipp/miniconda3/envs/geopd/lib/python3.7/site-packages/IPython/core/interactiveshell.py:3263: DtypeWarning: Columns (40,145,146,147) have mixed types.Specify dtype option on import or set low_memory=False.\n",
      "  if (await self.run_code(code, result,  async_=asy)):\n"
     ]
    },
    {
     "name": "stdout",
     "output_type": "stream",
     "text": [
      "/home/philipp/Data/edin_diss/SAP_tax/179/TO_1044.XLS\n",
      "/home/philipp/Data/edin_diss/SAP_tax/179/TO_1196.XLS\n"
     ]
    },
    {
     "name": "stderr",
     "output_type": "stream",
     "text": [
      "/home/philipp/miniconda3/envs/geopd/lib/python3.7/site-packages/IPython/core/interactiveshell.py:3263: DtypeWarning: Columns (148) have mixed types.Specify dtype option on import or set low_memory=False.\n",
      "  if (await self.run_code(code, result,  async_=asy)):\n"
     ]
    },
    {
     "name": "stdout",
     "output_type": "stream",
     "text": [
      "/home/philipp/Data/edin_diss/SAP_tax/179/TO_1313.XLS\n",
      "/home/philipp/Data/edin_diss/SAP_tax/180/TO_1343.XLS\n"
     ]
    },
    {
     "name": "stderr",
     "output_type": "stream",
     "text": [
      "/home/philipp/miniconda3/envs/geopd/lib/python3.7/site-packages/IPython/core/interactiveshell.py:3263: DtypeWarning: Columns (40,146,147,148,149) have mixed types.Specify dtype option on import or set low_memory=False.\n",
      "  if (await self.run_code(code, result,  async_=asy)):\n"
     ]
    },
    {
     "name": "stdout",
     "output_type": "stream",
     "text": [
      "/home/philipp/Data/edin_diss/SAP_tax/180/TO_1354.XLS\n"
     ]
    },
    {
     "name": "stderr",
     "output_type": "stream",
     "text": [
      "/home/philipp/miniconda3/envs/geopd/lib/python3.7/site-packages/IPython/core/interactiveshell.py:3263: DtypeWarning: Columns (29,146,147,148) have mixed types.Specify dtype option on import or set low_memory=False.\n",
      "  if (await self.run_code(code, result,  async_=asy)):\n"
     ]
    },
    {
     "name": "stdout",
     "output_type": "stream",
     "text": [
      "/home/philipp/Data/edin_diss/SAP_tax/181/TO_1093.XLS\n",
      "/home/philipp/Data/edin_diss/SAP_tax/181/TO_1045.XLS\n",
      "/home/philipp/Data/edin_diss/SAP_tax/181/TO_1081.XLS\n",
      "/home/philipp/Data/edin_diss/SAP_tax/181/TO_1082.XLS\n",
      "/home/philipp/Data/edin_diss/SAP_tax/182/TO_1341.XLS\n",
      "/home/philipp/Data/edin_diss/SAP_tax/182/TO_1355.XLS\n",
      "/home/philipp/Data/edin_diss/SAP_tax/182/TO_1156.XLS\n",
      "/home/philipp/Data/edin_diss/SAP_tax/182/TO_1250.XLS\n"
     ]
    }
   ],
   "source": [
    "sap_tax = concat_sap_tax(tos, sap_tax_year)"
   ]
  },
  {
   "cell_type": "code",
   "execution_count": 9,
   "metadata": {},
   "outputs": [
    {
     "data": {
      "text/plain": [
       "(1098308, 152)"
      ]
     },
     "execution_count": 9,
     "metadata": {},
     "output_type": "execute_result"
    }
   ],
   "source": [
    "sap_tax.shape"
   ]
  },
  {
   "cell_type": "code",
   "execution_count": null,
   "metadata": {},
   "outputs": [],
   "source": []
  },
  {
   "cell_type": "code",
   "execution_count": 10,
   "metadata": {},
   "outputs": [],
   "source": [
    "# filter for Durchforstungen"
   ]
  },
  {
   "cell_type": "code",
   "execution_count": 11,
   "metadata": {},
   "outputs": [
    {
     "data": {
      "text/plain": [
       "Index(['Merkmalausprägung', 'AuswKatTyp', 'Teiloperats-ID', 'Forstbetrieb',\n",
       "       'Debitor', 'TO-Bezeichnung', 'Status', 'Beg. Laufzeit', 'Ende Laufzeit',\n",
       "       'Operat-ID', 'vorgeschl. Hiebssatz', 'Verantwortlicher',\n",
       "       'Erfassungsstatus', 'Migriert?', 'GUID', 'Forstbetrieb.1',\n",
       "       'Teiloperats-ID.1', 'Forstrevier', 'Abteilung', 'Unterabteil.',\n",
       "       'Teilfl.', 'Debitor.1', 'Bearbeitungsblock', 'WE-Typ', 'Betriebsklasse',\n",
       "       'Umtriebszeit', 'Nebengrund Art', 'Ertragssituation',\n",
       "       'Bewirtschaftungsform', 'Schutzwaldkategorie', 'Fläche in HA',\n",
       "       'Seehöhe', 'Exposition', 'Neigung', 'Standorteinheit', 'Vegetationstyp',\n",
       "       'Waldtyp', 'Wuchsgebiet', 'Überh. Laubholz', 'Überh. Nadelhz.',\n",
       "       'fr. Schälschade', 'Verbissgrad', 'SchutzwaldProjNr', 'Schlussgrad',\n",
       "       'Stabilität', 'VJ Bedingung', 'VJ Situation', 'Erreichbark. des BZ',\n",
       "       'Selektiver Verbiss', 'Erfassungsstatus.1', 'Storno', 'Angelegt von',\n",
       "       'Angelegt am', 'Uhrzeit', 'Geändert von', 'Geändert am', 'Uhrzeit.1',\n",
       "       'Waldort', 'GUID.1', 'GUID.2', 'Forstbetrieb.2', 'Teiloperats-ID.2',\n",
       "       'Forstrevier.1', 'Abteilung.1', 'Unterabteil..1', 'Teilfl..1',\n",
       "       'Best.-Schicht', 'Debitor.2', 'Schichtanteil', 'Schichtalter',\n",
       "       'S-Best.grad', 'Erfassungsstatus.2', 'Storno.1', 'GUID.3', 'GUID.4',\n",
       "       'Forstbetrieb.3', 'Teiloperats-ID.3', 'Forstrevier.2', 'Abteilung.2',\n",
       "       'Unterabteil..2', 'Teilfl..2', 'Best.-Schicht.1', 'Baumart',\n",
       "       'Debitor.3', 'Baumartenanteil', 'BaumartenBestockgrad', 'Schälgrad',\n",
       "       'Ertragsklasse', 'Vorrat / ha', 'Laubholzvorrat / ha',\n",
       "       'Nadelholzvorrat / ha', 'Vorrat am Ort', 'Laubholzvorrat Ort',\n",
       "       'Nadelholzvorrat Ort', 'GSOLL / HA', 'GIST / HA', 'lauf. Zuwachs / HA',\n",
       "       'DGZU / HA', 'HDZ', 'LGZ'],\n",
       "      dtype='object')"
      ]
     },
     "execution_count": 11,
     "metadata": {},
     "output_type": "execute_result"
    }
   ],
   "source": [
    "sap_tax.columns[:100]"
   ]
  },
  {
   "cell_type": "code",
   "execution_count": 12,
   "metadata": {},
   "outputs": [
    {
     "data": {
      "text/plain": [
       "Index(['Erfassungsstatus.3', 'Storno.2', 'GUID.5', 'GUID.6', 'Forstbetrieb.4',\n",
       "       'Teiloperats-ID.4', 'Forstrevier.3', 'Abteilung.3', 'Unterabteil..3',\n",
       "       'Teilfl..3', 'Best.-Schicht.2', 'Nutzungsnummer', 'Maßnahmenart',\n",
       "       'Massnahme geplant', 'Massnahmengruppe', 'Angriffsfläche', 'Nutzung LH',\n",
       "       'Nutzung NH', 'Nutzungssumme', 'Nutzdringlichkeit', 'Bewpfl.',\n",
       "       'Zeitpunkt', 'Rückungsart', 'Schlägerungsart', 'Erfassungsstatus.4',\n",
       "       'Storno.3', 'Nutztext', 'Alter der 1. Schicht', 'TAX: Altersklasse',\n",
       "       'Repr. Fläche Schicht', 'Produktionskategorie', 'Geschäftsjahr',\n",
       "       'Abmaßbeleg', 'Maßnahme', 'Geschäftsfeld', 'Bezeichnung',\n",
       "       'Pflanzen Ist', 'Baumarten Ist', 'Repr. Fläche Baumart',\n",
       "       'Ertragstafelnummer', 'Ertragstafelbezeich', 'Anmerkung', 'Zeile1',\n",
       "       'Zeile2', 'Zeile3', 'Zeile4', 'Zeile5', 'Zeile6', 'Zeile7', 'Zeile8',\n",
       "       'Bestockungsziel', 'Flächenanteil'],\n",
       "      dtype='object')"
      ]
     },
     "execution_count": 12,
     "metadata": {},
     "output_type": "execute_result"
    }
   ],
   "source": [
    "sap_tax.columns[100:]"
   ]
  },
  {
   "cell_type": "code",
   "execution_count": 13,
   "metadata": {},
   "outputs": [],
   "source": [
    "sap_tax.fillna(0, inplace=True)"
   ]
  },
  {
   "cell_type": "code",
   "execution_count": 19,
   "metadata": {},
   "outputs": [],
   "source": [
    "sap_tax['Forstbetrieb'] = sap_tax['Forstbetrieb'].astype(int)\n",
    "sap_tax['Forstrevier'] = sap_tax['Forstrevier'].astype(int)\n",
    "sap_tax['Abteilung'] = sap_tax['Abteilung'].astype(int)\n",
    "sap_tax['Teilfl.'] = sap_tax['Teilfl.'].astype(int)\n",
    "sap_tax['Nutzdringlichkeit'] = sap_tax['Nutzdringlichkeit'].astype(int)"
   ]
  },
  {
   "cell_type": "code",
   "execution_count": 20,
   "metadata": {},
   "outputs": [],
   "source": [
    "# create ID_wo\n",
    "\n",
    "sap_tax['id'] = sap_tax['Forstbetrieb'].astype(str) + sap_tax['Forstrevier'].astype(str) + \\\n",
    "sap_tax['Abteilung'].astype(str) + sap_tax['Unterabteil.'].astype(str) + sap_tax['Teilfl.'].astype(str)"
   ]
  },
  {
   "cell_type": "code",
   "execution_count": 21,
   "metadata": {},
   "outputs": [],
   "source": [
    "sap_tax_df = sap_tax.loc[ (sap_tax['Maßnahmenart'] == 'DE') | (sap_tax['Maßnahmenart'] == 'DF') \\\n",
    "                         | (sap_tax['Maßnahmenart'] == 'ND'), ['id', 'Forstbetrieb', 'Forstrevier', \\\n",
    "                        'Abteilung', 'Unterabteil.', 'Teilfl.', 'Maßnahmenart', 'Nutzdringlichkeit']]"
   ]
  },
  {
   "cell_type": "code",
   "execution_count": 22,
   "metadata": {},
   "outputs": [
    {
     "data": {
      "text/html": [
       "<div>\n",
       "<style scoped>\n",
       "    .dataframe tbody tr th:only-of-type {\n",
       "        vertical-align: middle;\n",
       "    }\n",
       "\n",
       "    .dataframe tbody tr th {\n",
       "        vertical-align: top;\n",
       "    }\n",
       "\n",
       "    .dataframe thead th {\n",
       "        text-align: right;\n",
       "    }\n",
       "</style>\n",
       "<table border=\"1\" class=\"dataframe\">\n",
       "  <thead>\n",
       "    <tr style=\"text-align: right;\">\n",
       "      <th></th>\n",
       "      <th>id</th>\n",
       "      <th>Forstbetrieb</th>\n",
       "      <th>Forstrevier</th>\n",
       "      <th>Abteilung</th>\n",
       "      <th>Unterabteil.</th>\n",
       "      <th>Teilfl.</th>\n",
       "      <th>Maßnahmenart</th>\n",
       "      <th>Nutzdringlichkeit</th>\n",
       "    </tr>\n",
       "  </thead>\n",
       "  <tbody>\n",
       "    <tr>\n",
       "      <th>10</th>\n",
       "      <td>1711652C1</td>\n",
       "      <td>171</td>\n",
       "      <td>1</td>\n",
       "      <td>652</td>\n",
       "      <td>C</td>\n",
       "      <td>1</td>\n",
       "      <td>DF</td>\n",
       "      <td>2</td>\n",
       "    </tr>\n",
       "    <tr>\n",
       "      <th>26</th>\n",
       "      <td>1711658A1</td>\n",
       "      <td>171</td>\n",
       "      <td>1</td>\n",
       "      <td>658</td>\n",
       "      <td>A</td>\n",
       "      <td>1</td>\n",
       "      <td>DF</td>\n",
       "      <td>2</td>\n",
       "    </tr>\n",
       "    <tr>\n",
       "      <th>38</th>\n",
       "      <td>1711599G1</td>\n",
       "      <td>171</td>\n",
       "      <td>1</td>\n",
       "      <td>599</td>\n",
       "      <td>G</td>\n",
       "      <td>1</td>\n",
       "      <td>DF</td>\n",
       "      <td>2</td>\n",
       "    </tr>\n",
       "    <tr>\n",
       "      <th>95</th>\n",
       "      <td>1711726D1</td>\n",
       "      <td>171</td>\n",
       "      <td>1</td>\n",
       "      <td>726</td>\n",
       "      <td>D</td>\n",
       "      <td>1</td>\n",
       "      <td>DF</td>\n",
       "      <td>2</td>\n",
       "    </tr>\n",
       "    <tr>\n",
       "      <th>149</th>\n",
       "      <td>1711520E1</td>\n",
       "      <td>171</td>\n",
       "      <td>1</td>\n",
       "      <td>520</td>\n",
       "      <td>E</td>\n",
       "      <td>1</td>\n",
       "      <td>DF</td>\n",
       "      <td>2</td>\n",
       "    </tr>\n",
       "    <tr>\n",
       "      <th>...</th>\n",
       "      <td>...</td>\n",
       "      <td>...</td>\n",
       "      <td>...</td>\n",
       "      <td>...</td>\n",
       "      <td>...</td>\n",
       "      <td>...</td>\n",
       "      <td>...</td>\n",
       "      <td>...</td>\n",
       "    </tr>\n",
       "    <tr>\n",
       "      <th>16020</th>\n",
       "      <td>182863F2</td>\n",
       "      <td>182</td>\n",
       "      <td>8</td>\n",
       "      <td>63</td>\n",
       "      <td>F</td>\n",
       "      <td>2</td>\n",
       "      <td>DE</td>\n",
       "      <td>2</td>\n",
       "    </tr>\n",
       "    <tr>\n",
       "      <th>16076</th>\n",
       "      <td>1829365B2</td>\n",
       "      <td>182</td>\n",
       "      <td>9</td>\n",
       "      <td>365</td>\n",
       "      <td>B</td>\n",
       "      <td>2</td>\n",
       "      <td>DE</td>\n",
       "      <td>2</td>\n",
       "    </tr>\n",
       "    <tr>\n",
       "      <th>16174</th>\n",
       "      <td>1829350H2</td>\n",
       "      <td>182</td>\n",
       "      <td>9</td>\n",
       "      <td>350</td>\n",
       "      <td>H</td>\n",
       "      <td>2</td>\n",
       "      <td>DE</td>\n",
       "      <td>2</td>\n",
       "    </tr>\n",
       "    <tr>\n",
       "      <th>16192</th>\n",
       "      <td>182822A3</td>\n",
       "      <td>182</td>\n",
       "      <td>8</td>\n",
       "      <td>22</td>\n",
       "      <td>A</td>\n",
       "      <td>3</td>\n",
       "      <td>DE</td>\n",
       "      <td>1</td>\n",
       "    </tr>\n",
       "    <tr>\n",
       "      <th>16213</th>\n",
       "      <td>1829323P4</td>\n",
       "      <td>182</td>\n",
       "      <td>9</td>\n",
       "      <td>323</td>\n",
       "      <td>P</td>\n",
       "      <td>4</td>\n",
       "      <td>DE</td>\n",
       "      <td>1</td>\n",
       "    </tr>\n",
       "  </tbody>\n",
       "</table>\n",
       "<p>39534 rows × 8 columns</p>\n",
       "</div>"
      ],
      "text/plain": [
       "              id  Forstbetrieb  Forstrevier  Abteilung Unterabteil.  Teilfl.  \\\n",
       "10     1711652C1           171            1        652            C        1   \n",
       "26     1711658A1           171            1        658            A        1   \n",
       "38     1711599G1           171            1        599            G        1   \n",
       "95     1711726D1           171            1        726            D        1   \n",
       "149    1711520E1           171            1        520            E        1   \n",
       "...          ...           ...          ...        ...          ...      ...   \n",
       "16020   182863F2           182            8         63            F        2   \n",
       "16076  1829365B2           182            9        365            B        2   \n",
       "16174  1829350H2           182            9        350            H        2   \n",
       "16192   182822A3           182            8         22            A        3   \n",
       "16213  1829323P4           182            9        323            P        4   \n",
       "\n",
       "      Maßnahmenart  Nutzdringlichkeit  \n",
       "10              DF                  2  \n",
       "26              DF                  2  \n",
       "38              DF                  2  \n",
       "95              DF                  2  \n",
       "149             DF                  2  \n",
       "...            ...                ...  \n",
       "16020           DE                  2  \n",
       "16076           DE                  2  \n",
       "16174           DE                  2  \n",
       "16192           DE                  1  \n",
       "16213           DE                  1  \n",
       "\n",
       "[39534 rows x 8 columns]"
      ]
     },
     "execution_count": 22,
     "metadata": {},
     "output_type": "execute_result"
    }
   ],
   "source": [
    "sap_tax_df"
   ]
  },
  {
   "cell_type": "code",
   "execution_count": null,
   "metadata": {},
   "outputs": [],
   "source": []
  }
 ],
 "metadata": {
  "kernelspec": {
   "display_name": "geopd",
   "language": "python",
   "name": "geopd"
  },
  "language_info": {
   "codemirror_mode": {
    "name": "ipython",
    "version": 3
   },
   "file_extension": ".py",
   "mimetype": "text/x-python",
   "name": "python",
   "nbconvert_exporter": "python",
   "pygments_lexer": "ipython3",
   "version": "3.7.7"
  }
 },
 "nbformat": 4,
 "nbformat_minor": 4
}
