{
 "cells": [
  {
   "cell_type": "code",
   "execution_count": null,
   "metadata": {},
   "outputs": [],
   "source": []
  },
  {
   "cell_type": "code",
   "execution_count": 1,
   "metadata": {},
   "outputs": [],
   "source": [
    "import sys\n",
    "import geopandas\n",
    "import pandas as pd\n",
    "try:\n",
    "    from osgeo import ogr, osr, gdal\n",
    "except:\n",
    "    sys.exit('ERROR: cannot find GDAL/OGR modules')"
   ]
  },
  {
   "cell_type": "markdown",
   "metadata": {},
   "source": [
    "## load GIS vector data"
   ]
  },
  {
   "cell_type": "code",
   "execution_count": 2,
   "metadata": {},
   "outputs": [],
   "source": [
    "wo_geo = geopandas.read_file('/home/philipp/Data/edin_diss/GIS_wo/wo_2016_2020.gdb', layer='Stichtag_20160101')"
   ]
  },
  {
   "cell_type": "code",
   "execution_count": 3,
   "metadata": {},
   "outputs": [
    {
     "data": {
      "text/html": [
       "<div>\n",
       "<style scoped>\n",
       "    .dataframe tbody tr th:only-of-type {\n",
       "        vertical-align: middle;\n",
       "    }\n",
       "\n",
       "    .dataframe tbody tr th {\n",
       "        vertical-align: top;\n",
       "    }\n",
       "\n",
       "    .dataframe thead th {\n",
       "        text-align: right;\n",
       "    }\n",
       "</style>\n",
       "<table border=\"1\" class=\"dataframe\">\n",
       "  <thead>\n",
       "    <tr style=\"text-align: right;\">\n",
       "      <th></th>\n",
       "      <th>FORSTBETRIEB_NR</th>\n",
       "      <th>REVIER_NR</th>\n",
       "      <th>ABTEILUNG</th>\n",
       "      <th>UNTERABTEILUNG</th>\n",
       "      <th>TEILFLAECHE</th>\n",
       "      <th>FARBCODE</th>\n",
       "      <th>LINKID</th>\n",
       "      <th>ID</th>\n",
       "      <th>VERWALTUNGSBLOCK</th>\n",
       "      <th>Erstellungsdatum</th>\n",
       "      <th>Datenaktualität</th>\n",
       "      <th>SHAPE_Length</th>\n",
       "      <th>SHAPE_Area</th>\n",
       "      <th>geometry</th>\n",
       "    </tr>\n",
       "  </thead>\n",
       "  <tbody>\n",
       "    <tr>\n",
       "      <th>0</th>\n",
       "      <td>171</td>\n",
       "      <td>1</td>\n",
       "      <td>-1</td>\n",
       "      <td>0</td>\n",
       "      <td>1</td>\n",
       "      <td>00000000000</td>\n",
       "      <td>{7DDA8BDD-4E69-47D2-B7B5-D75FBCAAA0B2}</td>\n",
       "      <td>1450126</td>\n",
       "      <td>529</td>\n",
       "      <td>2020-11-20T08:40:34</td>\n",
       "      <td>2016-01-01T00:00:00</td>\n",
       "      <td>195.920109</td>\n",
       "      <td>1553.41910</td>\n",
       "      <td>MULTIPOLYGON (((616346.810 493670.595, 616342....</td>\n",
       "    </tr>\n",
       "    <tr>\n",
       "      <th>1</th>\n",
       "      <td>171</td>\n",
       "      <td>1</td>\n",
       "      <td>-1</td>\n",
       "      <td>0</td>\n",
       "      <td>1</td>\n",
       "      <td>00000000000</td>\n",
       "      <td>{2CAE2042-5D26-4B61-857B-A3643351503C}</td>\n",
       "      <td>1450044</td>\n",
       "      <td>529</td>\n",
       "      <td>2020-11-20T08:40:34</td>\n",
       "      <td>2016-01-01T00:00:00</td>\n",
       "      <td>1125.586021</td>\n",
       "      <td>35217.65235</td>\n",
       "      <td>MULTIPOLYGON (((615325.040 492902.555, 615263....</td>\n",
       "    </tr>\n",
       "    <tr>\n",
       "      <th>2</th>\n",
       "      <td>171</td>\n",
       "      <td>1</td>\n",
       "      <td>-1</td>\n",
       "      <td>0</td>\n",
       "      <td>1</td>\n",
       "      <td>00000000000</td>\n",
       "      <td>{62D0D4D2-FFD0-45DD-8622-5B24494B182C}</td>\n",
       "      <td>1449991</td>\n",
       "      <td>529</td>\n",
       "      <td>2020-11-20T08:40:34</td>\n",
       "      <td>2016-01-01T00:00:00</td>\n",
       "      <td>946.503132</td>\n",
       "      <td>24184.69905</td>\n",
       "      <td>MULTIPOLYGON (((608107.790 487993.105, 608108....</td>\n",
       "    </tr>\n",
       "    <tr>\n",
       "      <th>3</th>\n",
       "      <td>171</td>\n",
       "      <td>1</td>\n",
       "      <td>-1</td>\n",
       "      <td>0</td>\n",
       "      <td>1</td>\n",
       "      <td>00000000000</td>\n",
       "      <td>{1AD6A0D3-C110-4E44-B7D8-DE5495E5C3EC}</td>\n",
       "      <td>1450382</td>\n",
       "      <td>529</td>\n",
       "      <td>2020-11-20T08:40:34</td>\n",
       "      <td>2016-01-01T00:00:00</td>\n",
       "      <td>319.914046</td>\n",
       "      <td>5266.03840</td>\n",
       "      <td>MULTIPOLYGON (((614628.190 492540.735, 614612....</td>\n",
       "    </tr>\n",
       "    <tr>\n",
       "      <th>4</th>\n",
       "      <td>171</td>\n",
       "      <td>1</td>\n",
       "      <td>506</td>\n",
       "      <td>3</td>\n",
       "      <td>1</td>\n",
       "      <td>00000000003</td>\n",
       "      <td>{E77BB096-11C9-4939-9331-B4B305C4096A}</td>\n",
       "      <td>1450402</td>\n",
       "      <td>529</td>\n",
       "      <td>2020-11-20T08:40:34</td>\n",
       "      <td>2016-01-01T00:00:00</td>\n",
       "      <td>2402.546849</td>\n",
       "      <td>11624.65550</td>\n",
       "      <td>MULTIPOLYGON (((617139.640 493799.045, 617151....</td>\n",
       "    </tr>\n",
       "  </tbody>\n",
       "</table>\n",
       "</div>"
      ],
      "text/plain": [
       "   FORSTBETRIEB_NR  REVIER_NR  ABTEILUNG UNTERABTEILUNG  TEILFLAECHE  \\\n",
       "0              171          1         -1              0            1   \n",
       "1              171          1         -1              0            1   \n",
       "2              171          1         -1              0            1   \n",
       "3              171          1         -1              0            1   \n",
       "4              171          1        506              3            1   \n",
       "\n",
       "      FARBCODE                                  LINKID       ID  \\\n",
       "0  00000000000  {7DDA8BDD-4E69-47D2-B7B5-D75FBCAAA0B2}  1450126   \n",
       "1  00000000000  {2CAE2042-5D26-4B61-857B-A3643351503C}  1450044   \n",
       "2  00000000000  {62D0D4D2-FFD0-45DD-8622-5B24494B182C}  1449991   \n",
       "3  00000000000  {1AD6A0D3-C110-4E44-B7D8-DE5495E5C3EC}  1450382   \n",
       "4  00000000003  {E77BB096-11C9-4939-9331-B4B305C4096A}  1450402   \n",
       "\n",
       "   VERWALTUNGSBLOCK     Erstellungsdatum      Datenaktualität  SHAPE_Length  \\\n",
       "0               529  2020-11-20T08:40:34  2016-01-01T00:00:00    195.920109   \n",
       "1               529  2020-11-20T08:40:34  2016-01-01T00:00:00   1125.586021   \n",
       "2               529  2020-11-20T08:40:34  2016-01-01T00:00:00    946.503132   \n",
       "3               529  2020-11-20T08:40:34  2016-01-01T00:00:00    319.914046   \n",
       "4               529  2020-11-20T08:40:34  2016-01-01T00:00:00   2402.546849   \n",
       "\n",
       "    SHAPE_Area                                           geometry  \n",
       "0   1553.41910  MULTIPOLYGON (((616346.810 493670.595, 616342....  \n",
       "1  35217.65235  MULTIPOLYGON (((615325.040 492902.555, 615263....  \n",
       "2  24184.69905  MULTIPOLYGON (((608107.790 487993.105, 608108....  \n",
       "3   5266.03840  MULTIPOLYGON (((614628.190 492540.735, 614612....  \n",
       "4  11624.65550  MULTIPOLYGON (((617139.640 493799.045, 617151....  "
      ]
     },
     "execution_count": 3,
     "metadata": {},
     "output_type": "execute_result"
    }
   ],
   "source": [
    "wo_geo.head()"
   ]
  },
  {
   "cell_type": "code",
   "execution_count": 4,
   "metadata": {},
   "outputs": [
    {
     "data": {
      "text/plain": [
       "{'init': 'epsg:31287'}"
      ]
     },
     "execution_count": 4,
     "metadata": {},
     "output_type": "execute_result"
    }
   ],
   "source": [
    "wo_geo.crs"
   ]
  },
  {
   "cell_type": "code",
   "execution_count": 5,
   "metadata": {},
   "outputs": [],
   "source": [
    "# filter abteilung -1\n",
    "wo_geo = wo_geo.loc[wo_geo['ABTEILUNG'] != -1,:]"
   ]
  },
  {
   "cell_type": "code",
   "execution_count": 6,
   "metadata": {},
   "outputs": [],
   "source": [
    "# create unique ID WO\n",
    "wo_geo['WO'] = wo_geo['FORSTBETRIEB_NR'].astype(str) + \\\n",
    "wo_geo['REVIER_NR'].astype(str) + \\\n",
    "wo_geo['ABTEILUNG'].astype(str) + \\\n",
    "wo_geo['UNTERABTEILUNG'] + \\\n",
    "wo_geo['TEILFLAECHE'].astype(str)"
   ]
  },
  {
   "cell_type": "code",
   "execution_count": null,
   "metadata": {},
   "outputs": [],
   "source": []
  },
  {
   "cell_type": "markdown",
   "metadata": {},
   "source": [
    "## load SAP tax data"
   ]
  },
  {
   "cell_type": "code",
   "execution_count": null,
   "metadata": {},
   "outputs": [],
   "source": [
    "# get infromation about which Teiloperate were active in a giveb year"
   ]
  },
  {
   "cell_type": "code",
   "execution_count": 19,
   "metadata": {},
   "outputs": [],
   "source": [
    "# set year\n",
    "year = 2016\n",
    "\n",
    "path_sap_info = '/home/philipp/Data/edin_diss/SAP_tax/edin_meta_data.xlsx'\n",
    "sap_info = pd.read_excel(path_sap_info)"
   ]
  },
  {
   "cell_type": "code",
   "execution_count": 8,
   "metadata": {},
   "outputs": [
    {
     "data": {
      "text/html": [
       "<div>\n",
       "<style scoped>\n",
       "    .dataframe tbody tr th:only-of-type {\n",
       "        vertical-align: middle;\n",
       "    }\n",
       "\n",
       "    .dataframe tbody tr th {\n",
       "        vertical-align: top;\n",
       "    }\n",
       "\n",
       "    .dataframe thead th {\n",
       "        text-align: right;\n",
       "    }\n",
       "</style>\n",
       "<table border=\"1\" class=\"dataframe\">\n",
       "  <thead>\n",
       "    <tr style=\"text-align: right;\">\n",
       "      <th></th>\n",
       "      <th>FB</th>\n",
       "      <th>FR</th>\n",
       "      <th>2007</th>\n",
       "      <th>2008</th>\n",
       "      <th>2009</th>\n",
       "      <th>2010</th>\n",
       "      <th>2011</th>\n",
       "      <th>2012</th>\n",
       "      <th>2013</th>\n",
       "      <th>2014</th>\n",
       "      <th>2015</th>\n",
       "      <th>2016</th>\n",
       "      <th>2017</th>\n",
       "      <th>2018</th>\n",
       "      <th>2019</th>\n",
       "      <th>2020</th>\n",
       "      <th>2021</th>\n",
       "    </tr>\n",
       "  </thead>\n",
       "  <tbody>\n",
       "    <tr>\n",
       "      <th>0</th>\n",
       "      <td>171</td>\n",
       "      <td>1</td>\n",
       "      <td>1208</td>\n",
       "      <td>1208</td>\n",
       "      <td>1030</td>\n",
       "      <td>1030</td>\n",
       "      <td>1030</td>\n",
       "      <td>1030</td>\n",
       "      <td>1030</td>\n",
       "      <td>1030</td>\n",
       "      <td>1030</td>\n",
       "      <td>1030</td>\n",
       "      <td>1030</td>\n",
       "      <td>1030</td>\n",
       "      <td>1030</td>\n",
       "      <td>1356</td>\n",
       "      <td>1356</td>\n",
       "    </tr>\n",
       "    <tr>\n",
       "      <th>1</th>\n",
       "      <td>171</td>\n",
       "      <td>2</td>\n",
       "      <td>1208</td>\n",
       "      <td>1208</td>\n",
       "      <td>1030</td>\n",
       "      <td>1030</td>\n",
       "      <td>1030</td>\n",
       "      <td>1030</td>\n",
       "      <td>1030</td>\n",
       "      <td>1030</td>\n",
       "      <td>1030</td>\n",
       "      <td>1030</td>\n",
       "      <td>1030</td>\n",
       "      <td>1030</td>\n",
       "      <td>1030</td>\n",
       "      <td>1356</td>\n",
       "      <td>1356</td>\n",
       "    </tr>\n",
       "    <tr>\n",
       "      <th>2</th>\n",
       "      <td>171</td>\n",
       "      <td>3</td>\n",
       "      <td>1208</td>\n",
       "      <td>1208</td>\n",
       "      <td>1030</td>\n",
       "      <td>1030</td>\n",
       "      <td>1030</td>\n",
       "      <td>1030</td>\n",
       "      <td>1030</td>\n",
       "      <td>1030</td>\n",
       "      <td>1030</td>\n",
       "      <td>1030</td>\n",
       "      <td>1030</td>\n",
       "      <td>1030</td>\n",
       "      <td>1030</td>\n",
       "      <td>1356</td>\n",
       "      <td>1356</td>\n",
       "    </tr>\n",
       "    <tr>\n",
       "      <th>3</th>\n",
       "      <td>171</td>\n",
       "      <td>4</td>\n",
       "      <td>1208</td>\n",
       "      <td>1208</td>\n",
       "      <td>1030</td>\n",
       "      <td>1030</td>\n",
       "      <td>1030</td>\n",
       "      <td>1030</td>\n",
       "      <td>1030</td>\n",
       "      <td>1030</td>\n",
       "      <td>1030</td>\n",
       "      <td>1030</td>\n",
       "      <td>1030</td>\n",
       "      <td>1030</td>\n",
       "      <td>1030</td>\n",
       "      <td>1356</td>\n",
       "      <td>1356</td>\n",
       "    </tr>\n",
       "    <tr>\n",
       "      <th>4</th>\n",
       "      <td>171</td>\n",
       "      <td>5</td>\n",
       "      <td>1208</td>\n",
       "      <td>1208</td>\n",
       "      <td>1030</td>\n",
       "      <td>1030</td>\n",
       "      <td>1030</td>\n",
       "      <td>1030</td>\n",
       "      <td>1030</td>\n",
       "      <td>1030</td>\n",
       "      <td>1030</td>\n",
       "      <td>1030</td>\n",
       "      <td>1030</td>\n",
       "      <td>1030</td>\n",
       "      <td>1030</td>\n",
       "      <td>1356</td>\n",
       "      <td>1356</td>\n",
       "    </tr>\n",
       "  </tbody>\n",
       "</table>\n",
       "</div>"
      ],
      "text/plain": [
       "    FB  FR  2007  2008  2009  2010  2011  2012  2013  2014  2015  2016  2017  \\\n",
       "0  171   1  1208  1208  1030  1030  1030  1030  1030  1030  1030  1030  1030   \n",
       "1  171   2  1208  1208  1030  1030  1030  1030  1030  1030  1030  1030  1030   \n",
       "2  171   3  1208  1208  1030  1030  1030  1030  1030  1030  1030  1030  1030   \n",
       "3  171   4  1208  1208  1030  1030  1030  1030  1030  1030  1030  1030  1030   \n",
       "4  171   5  1208  1208  1030  1030  1030  1030  1030  1030  1030  1030  1030   \n",
       "\n",
       "   2018  2019  2020  2021  \n",
       "0  1030  1030  1356  1356  \n",
       "1  1030  1030  1356  1356  \n",
       "2  1030  1030  1356  1356  \n",
       "3  1030  1030  1356  1356  \n",
       "4  1030  1030  1356  1356  "
      ]
     },
     "execution_count": 8,
     "metadata": {},
     "output_type": "execute_result"
    }
   ],
   "source": [
    "sap_info.head()"
   ]
  },
  {
   "cell_type": "code",
   "execution_count": 16,
   "metadata": {},
   "outputs": [],
   "source": [
    "# array with all TOs in a given year\n",
    "tos = sap_info.loc[:,year].unique()"
   ]
  },
  {
   "cell_type": "code",
   "execution_count": 17,
   "metadata": {},
   "outputs": [
    {
     "data": {
      "text/plain": [
       "array([1030, 1048, 1049, 1053, 1052, 1100, 1050, 1051, 1083, 1042, 1073,\n",
       "       1092, 1074, 1075, 1151, 1194, 1086, 1043, 1144, 1197, 1055, 1057,\n",
       "       1085, 1056, 1140, 1061, 1065, 1066, 1067, 1088, 1044, 1196, 1283,\n",
       "       1031, 1041, 1079, 1093, 1045, 1081, 1082, 1069, 1070, 1071, 1156,\n",
       "       1250])"
      ]
     },
     "execution_count": 17,
     "metadata": {},
     "output_type": "execute_result"
    }
   ],
   "source": [
    "tos"
   ]
  },
  {
   "cell_type": "code",
   "execution_count": 26,
   "metadata": {},
   "outputs": [
    {
     "data": {
      "text/plain": [
       "171"
      ]
     },
     "execution_count": 26,
     "metadata": {},
     "output_type": "execute_result"
    }
   ],
   "source": [
    "sap_info.loc[sap_info[year] == 1030, 'FB'].unique()[0]"
   ]
  },
  {
   "cell_type": "code",
   "execution_count": 28,
   "metadata": {},
   "outputs": [
    {
     "name": "stdout",
     "output_type": "stream",
     "text": [
      "/home/philipp/Data/edin_diss/SAP_tax/171/TO_1030.XLS\n",
      "/home/philipp/Data/edin_diss/SAP_tax/171/TO_1048.XLS\n",
      "/home/philipp/Data/edin_diss/SAP_tax/171/TO_1049.XLS\n",
      "/home/philipp/Data/edin_diss/SAP_tax/172/TO_1053.XLS\n",
      "/home/philipp/Data/edin_diss/SAP_tax/172/TO_1052.XLS\n",
      "/home/philipp/Data/edin_diss/SAP_tax/172/TO_1100.XLS\n",
      "/home/philipp/Data/edin_diss/SAP_tax/172/TO_1050.XLS\n",
      "/home/philipp/Data/edin_diss/SAP_tax/172/TO_1051.XLS\n",
      "/home/philipp/Data/edin_diss/SAP_tax/172/TO_1083.XLS\n",
      "/home/philipp/Data/edin_diss/SAP_tax/173/TO_1042.XLS\n",
      "/home/philipp/Data/edin_diss/SAP_tax/173/TO_1073.XLS\n",
      "/home/philipp/Data/edin_diss/SAP_tax/173/TO_1092.XLS\n",
      "/home/philipp/Data/edin_diss/SAP_tax/173/TO_1074.XLS\n",
      "/home/philipp/Data/edin_diss/SAP_tax/173/TO_1075.XLS\n",
      "/home/philipp/Data/edin_diss/SAP_tax/174/TO_1151.XLS\n",
      "/home/philipp/Data/edin_diss/SAP_tax/174/TO_1194.XLS\n",
      "/home/philipp/Data/edin_diss/SAP_tax/175/TO_1086.XLS\n",
      "/home/philipp/Data/edin_diss/SAP_tax/175/TO_1043.XLS\n",
      "/home/philipp/Data/edin_diss/SAP_tax/175/TO_1144.XLS\n",
      "/home/philipp/Data/edin_diss/SAP_tax/175/TO_1197.XLS\n",
      "/home/philipp/Data/edin_diss/SAP_tax/176/TO_1055.XLS\n",
      "/home/philipp/Data/edin_diss/SAP_tax/176/TO_1057.XLS\n",
      "/home/philipp/Data/edin_diss/SAP_tax/176/TO_1085.XLS\n",
      "/home/philipp/Data/edin_diss/SAP_tax/176/TO_1056.XLS\n",
      "/home/philipp/Data/edin_diss/SAP_tax/177/TO_1140.XLS\n",
      "/home/philipp/Data/edin_diss/SAP_tax/177/TO_1061.XLS\n",
      "/home/philipp/Data/edin_diss/SAP_tax/178/TO_1065.XLS\n",
      "/home/philipp/Data/edin_diss/SAP_tax/178/TO_1066.XLS\n",
      "/home/philipp/Data/edin_diss/SAP_tax/178/TO_1067.XLS\n",
      "/home/philipp/Data/edin_diss/SAP_tax/179/TO_1088.XLS\n",
      "/home/philipp/Data/edin_diss/SAP_tax/179/TO_1044.XLS\n",
      "/home/philipp/Data/edin_diss/SAP_tax/179/TO_1196.XLS\n",
      "/home/philipp/Data/edin_diss/SAP_tax/179/TO_1283.XLS\n",
      "/home/philipp/Data/edin_diss/SAP_tax/180/TO_1031.XLS\n",
      "/home/philipp/Data/edin_diss/SAP_tax/180/TO_1041.XLS\n",
      "/home/philipp/Data/edin_diss/SAP_tax/180/TO_1079.XLS\n",
      "/home/philipp/Data/edin_diss/SAP_tax/181/TO_1093.XLS\n",
      "/home/philipp/Data/edin_diss/SAP_tax/181/TO_1045.XLS\n",
      "/home/philipp/Data/edin_diss/SAP_tax/181/TO_1081.XLS\n",
      "/home/philipp/Data/edin_diss/SAP_tax/181/TO_1082.XLS\n",
      "/home/philipp/Data/edin_diss/SAP_tax/182/TO_1069.XLS\n",
      "/home/philipp/Data/edin_diss/SAP_tax/182/TO_1070.XLS\n",
      "/home/philipp/Data/edin_diss/SAP_tax/182/TO_1071.XLS\n",
      "/home/philipp/Data/edin_diss/SAP_tax/182/TO_1156.XLS\n",
      "/home/philipp/Data/edin_diss/SAP_tax/182/TO_1250.XLS\n"
     ]
    },
    {
     "data": {
      "text/plain": [
       "'\\nwo_sap = pd.read_csv(path_sap_tax_file, \\n                     sep=\\'\\t\\', \\n                     encoding = \"ISO-8859-1\", \\n                     decimal=\\',\\', \\n                     error_bad_lines=False) '"
      ]
     },
     "execution_count": 28,
     "metadata": {},
     "output_type": "execute_result"
    }
   ],
   "source": [
    "# set sap tax path directory\n",
    "path_sap_tax_dir = '/home/philipp/Data/edin_diss/SAP_tax'\n",
    "\n",
    "for to in tos:\n",
    "    # get fb\n",
    "    fb = sap_info.loc[sap_info[year] == to, 'FB'].unique()[0]\n",
    "    # create path to file\n",
    "    path_sap_tax_file = path_sap_tax_dir + '/' + str(fb) + '/TO_' + str(to) + '.XLS'\n",
    "    \n",
    "    print(path_sap_tax_file)\n",
    "\n",
    "\n",
    "'''\n",
    "wo_sap = pd.read_csv(path_sap_tax_file, \n",
    "                     sep='\\t', \n",
    "                     encoding = \"ISO-8859-1\", \n",
    "                     decimal=',', \n",
    "                     error_bad_lines=False) '''"
   ]
  },
  {
   "cell_type": "code",
   "execution_count": null,
   "metadata": {},
   "outputs": [],
   "source": [
    "'/home/philipp/Data/edin_diss/SAP_tax/171/TO_1030.XLS'"
   ]
  }
 ],
 "metadata": {
  "kernelspec": {
   "display_name": "geo",
   "language": "python",
   "name": "geo"
  },
  "language_info": {
   "codemirror_mode": {
    "name": "ipython",
    "version": 3
   },
   "file_extension": ".py",
   "mimetype": "text/x-python",
   "name": "python",
   "nbconvert_exporter": "python",
   "pygments_lexer": "ipython3",
   "version": "3.8.2"
  }
 },
 "nbformat": 4,
 "nbformat_minor": 4
}
