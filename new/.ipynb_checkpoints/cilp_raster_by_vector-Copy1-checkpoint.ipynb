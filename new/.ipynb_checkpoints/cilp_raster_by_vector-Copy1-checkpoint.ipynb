{
 "cells": [
  {
   "cell_type": "code",
   "execution_count": null,
   "metadata": {},
   "outputs": [],
   "source": []
  },
  {
   "cell_type": "code",
   "execution_count": 1,
   "metadata": {},
   "outputs": [],
   "source": [
    "import os\n",
    "import sys\n",
    "import geopandas\n",
    "import pandas as pd\n",
    "try:\n",
    "    from osgeo import ogr, osr, gdal\n",
    "except:\n",
    "    sys.exit('ERROR: cannot find GDAL/OGR modules')"
   ]
  },
  {
   "cell_type": "code",
   "execution_count": 2,
   "metadata": {},
   "outputs": [],
   "source": [
    "grid = geopandas.read_file('/home/philipp/Data/edin_diss/GIS_meta/fly_blocks_overlap.shp')"
   ]
  },
  {
   "cell_type": "code",
   "execution_count": 3,
   "metadata": {},
   "outputs": [
    {
     "data": {
      "text/html": [
       "<div>\n",
       "<style scoped>\n",
       "    .dataframe tbody tr th:only-of-type {\n",
       "        vertical-align: middle;\n",
       "    }\n",
       "\n",
       "    .dataframe tbody tr th {\n",
       "        vertical-align: top;\n",
       "    }\n",
       "\n",
       "    .dataframe thead th {\n",
       "        text-align: right;\n",
       "    }\n",
       "</style>\n",
       "<table border=\"1\" class=\"dataframe\">\n",
       "  <thead>\n",
       "    <tr style=\"text-align: right;\">\n",
       "      <th></th>\n",
       "      <th>name_1</th>\n",
       "      <th>year_1</th>\n",
       "      <th>file_1</th>\n",
       "      <th>id</th>\n",
       "      <th>year_2</th>\n",
       "      <th>name_2</th>\n",
       "      <th>file_2</th>\n",
       "      <th>geometry</th>\n",
       "    </tr>\n",
       "  </thead>\n",
       "  <tbody>\n",
       "    <tr>\n",
       "      <th>0</th>\n",
       "      <td>Nordburgenland</td>\n",
       "      <td>2019.0</td>\n",
       "      <td>2019150_nordburgenland_lb_rgbi.img</td>\n",
       "      <td>1.0</td>\n",
       "      <td>2018.0</td>\n",
       "      <td>Wien</td>\n",
       "      <td>2018460_wien_lb_rgbi.img</td>\n",
       "      <td>POLYGON ((671995.597 492379.065, 671995.597 46...</td>\n",
       "    </tr>\n",
       "    <tr>\n",
       "      <th>1</th>\n",
       "      <td>Wien</td>\n",
       "      <td>2018.0</td>\n",
       "      <td>2018460_wien_lb_rgbi.img</td>\n",
       "      <td>4.0</td>\n",
       "      <td>2017.0</td>\n",
       "      <td>St_Poelten</td>\n",
       "      <td>2017250_stpoelten_lb_rgbi.img</td>\n",
       "      <td>POLYGON ((599957.002 514827.376, 599957.002 46...</td>\n",
       "    </tr>\n",
       "    <tr>\n",
       "      <th>2</th>\n",
       "      <td>Nordburgenland</td>\n",
       "      <td>2019.0</td>\n",
       "      <td>2019150_nordburgenland_lb_rgbi.img</td>\n",
       "      <td>2.0</td>\n",
       "      <td>2017.0</td>\n",
       "      <td>Mariazell</td>\n",
       "      <td>2017360_mariazell_lb_rgbi.img</td>\n",
       "      <td>POLYGON ((596339.288 462082.372, 602080.127 46...</td>\n",
       "    </tr>\n",
       "    <tr>\n",
       "      <th>3</th>\n",
       "      <td>Nordburgenland</td>\n",
       "      <td>2019.0</td>\n",
       "      <td>2019150_nordburgenland_lb_rgbi.img</td>\n",
       "      <td>3.0</td>\n",
       "      <td>2019.0</td>\n",
       "      <td>Suedburgenland</td>\n",
       "      <td>2019250_suedburgenland_lb_rgbi.img</td>\n",
       "      <td>POLYGON ((598540.814 434188.172, 658744.814 43...</td>\n",
       "    </tr>\n",
       "    <tr>\n",
       "      <th>4</th>\n",
       "      <td>Wien</td>\n",
       "      <td>2018.0</td>\n",
       "      <td>2018460_wien_lb_rgbi.img</td>\n",
       "      <td>22.0</td>\n",
       "      <td>2018.0</td>\n",
       "      <td>Weinviertel</td>\n",
       "      <td>2018450_weinviertel_lb_rgbi.img</td>\n",
       "      <td>POLYGON ((669207.437 514827.376, 669207.437 50...</td>\n",
       "    </tr>\n",
       "  </tbody>\n",
       "</table>\n",
       "</div>"
      ],
      "text/plain": [
       "           name_1  year_1                              file_1    id  year_2  \\\n",
       "0  Nordburgenland  2019.0  2019150_nordburgenland_lb_rgbi.img   1.0  2018.0   \n",
       "1            Wien  2018.0            2018460_wien_lb_rgbi.img   4.0  2017.0   \n",
       "2  Nordburgenland  2019.0  2019150_nordburgenland_lb_rgbi.img   2.0  2017.0   \n",
       "3  Nordburgenland  2019.0  2019150_nordburgenland_lb_rgbi.img   3.0  2019.0   \n",
       "4            Wien  2018.0            2018460_wien_lb_rgbi.img  22.0  2018.0   \n",
       "\n",
       "           name_2                              file_2  \\\n",
       "0            Wien            2018460_wien_lb_rgbi.img   \n",
       "1      St_Poelten       2017250_stpoelten_lb_rgbi.img   \n",
       "2       Mariazell       2017360_mariazell_lb_rgbi.img   \n",
       "3  Suedburgenland  2019250_suedburgenland_lb_rgbi.img   \n",
       "4     Weinviertel     2018450_weinviertel_lb_rgbi.img   \n",
       "\n",
       "                                            geometry  \n",
       "0  POLYGON ((671995.597 492379.065, 671995.597 46...  \n",
       "1  POLYGON ((599957.002 514827.376, 599957.002 46...  \n",
       "2  POLYGON ((596339.288 462082.372, 602080.127 46...  \n",
       "3  POLYGON ((598540.814 434188.172, 658744.814 43...  \n",
       "4  POLYGON ((669207.437 514827.376, 669207.437 50...  "
      ]
     },
     "execution_count": 3,
     "metadata": {},
     "output_type": "execute_result"
    }
   ],
   "source": [
    "grid.head()"
   ]
  },
  {
   "cell_type": "code",
   "execution_count": 4,
   "metadata": {},
   "outputs": [],
   "source": [
    "extend = grid.loc[3,'geometry'].bounds"
   ]
  },
  {
   "cell_type": "code",
   "execution_count": 5,
   "metadata": {},
   "outputs": [
    {
     "data": {
      "text/plain": [
       "(598540.8144514622, 423027.6654496529, 658744.8144514622, 434188.1718825997)"
      ]
     },
     "execution_count": 5,
     "metadata": {},
     "output_type": "execute_result"
    }
   ],
   "source": [
    "extend"
   ]
  },
  {
   "cell_type": "code",
   "execution_count": 6,
   "metadata": {},
   "outputs": [
    {
     "data": {
      "text/plain": [
       "598540.8144514622"
      ]
     },
     "execution_count": 6,
     "metadata": {},
     "output_type": "execute_result"
    }
   ],
   "source": [
    "extend[0]"
   ]
  },
  {
   "cell_type": "code",
   "execution_count": 7,
   "metadata": {},
   "outputs": [
    {
     "data": {
      "text/plain": [
       "'Nordburgenland'"
      ]
     },
     "execution_count": 7,
     "metadata": {},
     "output_type": "execute_result"
    }
   ],
   "source": [
    "grid.loc[0,'name_1']"
   ]
  },
  {
   "cell_type": "code",
   "execution_count": 12,
   "metadata": {},
   "outputs": [
    {
     "data": {
      "text/plain": [
       "True"
      ]
     },
     "execution_count": 12,
     "metadata": {},
     "output_type": "execute_result"
    }
   ],
   "source": [
    "os.path.isfile('/media/philipp/Elements/2019/2019150_nordburgenland_lb_rgbi.img') "
   ]
  },
  {
   "cell_type": "code",
   "execution_count": 13,
   "metadata": {},
   "outputs": [],
   "source": [
    "path_raster = '/media/philipp/Elements/2019/2019150_nordburgenland_lb_rgbi.img'\n",
    "path_out = \"/media/philipp/DATA/overlap/overlap_{}_{}.tif\".format(grid.loc[0,'name_1'], grid.loc[0,'name_2'])\n",
    "\n",
    "bashCommand = \"gdal_translate -projwin {} {} {} {} -a_nodata 0.0 -of GTiff {} {}\".format(extend[0], extend[3], extend[2], extend[1], path_raster, path_out)"
   ]
  },
  {
   "cell_type": "code",
   "execution_count": 14,
   "metadata": {},
   "outputs": [
    {
     "data": {
      "text/plain": [
       "'gdal_translate -projwin 598540.8144514622 434188.1718825997 658744.8144514622 423027.6654496529 -a_nodata 0.0 -of GTiff /media/philipp/Elements/2019/2019150_nordburgenland_lb_rgbi.img /media/philipp/DATA/overlap/overlap_Nordburgenland_Wien.tif'"
      ]
     },
     "execution_count": 14,
     "metadata": {},
     "output_type": "execute_result"
    }
   ],
   "source": [
    "bashCommand"
   ]
  },
  {
   "cell_type": "code",
   "execution_count": null,
   "metadata": {},
   "outputs": [],
   "source": [
    "os.system(bashCommand)"
   ]
  },
  {
   "cell_type": "code",
   "execution_count": 23,
   "metadata": {},
   "outputs": [
    {
     "data": {
      "text/plain": [
       "True"
      ]
     },
     "execution_count": 23,
     "metadata": {},
     "output_type": "execute_result"
    }
   ],
   "source": [
    "os.path.isfile(path_raster)"
   ]
  },
  {
   "cell_type": "code",
   "execution_count": null,
   "metadata": {},
   "outputs": [],
   "source": []
  }
 ],
 "metadata": {
  "kernelspec": {
   "display_name": "geo",
   "language": "python",
   "name": "geo"
  },
  "language_info": {
   "codemirror_mode": {
    "name": "ipython",
    "version": 3
   },
   "file_extension": ".py",
   "mimetype": "text/x-python",
   "name": "python",
   "nbconvert_exporter": "python",
   "pygments_lexer": "ipython3",
   "version": "3.8.2"
  }
 },
 "nbformat": 4,
 "nbformat_minor": 4
}
