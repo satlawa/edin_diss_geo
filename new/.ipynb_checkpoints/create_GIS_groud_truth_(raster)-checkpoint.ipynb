{
 "cells": [
  {
   "cell_type": "code",
   "execution_count": null,
   "metadata": {},
   "outputs": [],
   "source": []
  },
  {
   "cell_type": "code",
   "execution_count": 1,
   "metadata": {},
   "outputs": [],
   "source": [
    "import sys\n",
    "import os\n",
    "\n",
    "import geopandas as gpd\n",
    "import pandas as pd\n",
    "\n",
    "from osgeo import gdal\n",
    "#from pyproj import CRS"
   ]
  },
  {
   "cell_type": "code",
   "execution_count": 2,
   "metadata": {},
   "outputs": [],
   "source": [
    "clip = gpd.read_file(\"/home/philipp/Data/edin_diss/clip/GIS_clip.shp\")"
   ]
  },
  {
   "cell_type": "code",
   "execution_count": 3,
   "metadata": {},
   "outputs": [
    {
     "data": {
      "text/html": [
       "<div>\n",
       "<style scoped>\n",
       "    .dataframe tbody tr th:only-of-type {\n",
       "        vertical-align: middle;\n",
       "    }\n",
       "\n",
       "    .dataframe tbody tr th {\n",
       "        vertical-align: top;\n",
       "    }\n",
       "\n",
       "    .dataframe thead th {\n",
       "        text-align: right;\n",
       "    }\n",
       "</style>\n",
       "<table border=\"1\" class=\"dataframe\">\n",
       "  <thead>\n",
       "    <tr style=\"text-align: right;\">\n",
       "      <th></th>\n",
       "      <th>id</th>\n",
       "      <th>left</th>\n",
       "      <th>top</th>\n",
       "      <th>right</th>\n",
       "      <th>bottom</th>\n",
       "      <th>geometry</th>\n",
       "    </tr>\n",
       "  </thead>\n",
       "  <tbody>\n",
       "    <tr>\n",
       "      <th>0</th>\n",
       "      <td>7025979.0</td>\n",
       "      <td>441224.1</td>\n",
       "      <td>410799.3152</td>\n",
       "      <td>441327.1</td>\n",
       "      <td>410696.3152</td>\n",
       "      <td>POLYGON ((441327.100 410749.714, 441327.100 41...</td>\n",
       "    </tr>\n",
       "    <tr>\n",
       "      <th>1</th>\n",
       "      <td>7025980.0</td>\n",
       "      <td>441224.1</td>\n",
       "      <td>410696.6152</td>\n",
       "      <td>441327.1</td>\n",
       "      <td>410593.6152</td>\n",
       "      <td>POLYGON ((441295.561 410696.615, 441327.100 41...</td>\n",
       "    </tr>\n",
       "    <tr>\n",
       "      <th>2</th>\n",
       "      <td>7025981.0</td>\n",
       "      <td>441224.1</td>\n",
       "      <td>410593.9152</td>\n",
       "      <td>441327.1</td>\n",
       "      <td>410490.9152</td>\n",
       "      <td>POLYGON ((441228.848 410593.915, 441327.100 41...</td>\n",
       "    </tr>\n",
       "    <tr>\n",
       "      <th>3</th>\n",
       "      <td>7025982.0</td>\n",
       "      <td>441224.1</td>\n",
       "      <td>410491.2152</td>\n",
       "      <td>441327.1</td>\n",
       "      <td>410388.2152</td>\n",
       "      <td>POLYGON ((441313.863 410491.215, 441327.100 41...</td>\n",
       "    </tr>\n",
       "    <tr>\n",
       "      <th>4</th>\n",
       "      <td>7028554.0</td>\n",
       "      <td>441326.8</td>\n",
       "      <td>410799.3152</td>\n",
       "      <td>441429.8</td>\n",
       "      <td>410696.3152</td>\n",
       "      <td>POLYGON ((441429.800 410704.859, 441429.800 41...</td>\n",
       "    </tr>\n",
       "    <tr>\n",
       "      <th>...</th>\n",
       "      <td>...</td>\n",
       "      <td>...</td>\n",
       "      <td>...</td>\n",
       "      <td>...</td>\n",
       "      <td>...</td>\n",
       "      <td>...</td>\n",
       "    </tr>\n",
       "    <tr>\n",
       "      <th>57</th>\n",
       "      <td>7046581.0</td>\n",
       "      <td>442045.7</td>\n",
       "      <td>410593.9152</td>\n",
       "      <td>442148.7</td>\n",
       "      <td>410490.9152</td>\n",
       "      <td>MULTIPOLYGON (((442045.700 410593.915, 442148....</td>\n",
       "    </tr>\n",
       "    <tr>\n",
       "      <th>58</th>\n",
       "      <td>7046582.0</td>\n",
       "      <td>442045.7</td>\n",
       "      <td>410491.2152</td>\n",
       "      <td>442148.7</td>\n",
       "      <td>410388.2152</td>\n",
       "      <td>MULTIPOLYGON (((442045.700 410491.215, 442084....</td>\n",
       "    </tr>\n",
       "    <tr>\n",
       "      <th>59</th>\n",
       "      <td>7046583.0</td>\n",
       "      <td>442045.7</td>\n",
       "      <td>410388.5152</td>\n",
       "      <td>442148.7</td>\n",
       "      <td>410285.5152</td>\n",
       "      <td>POLYGON ((442071.492 410388.515, 442148.700 41...</td>\n",
       "    </tr>\n",
       "    <tr>\n",
       "      <th>60</th>\n",
       "      <td>7046584.0</td>\n",
       "      <td>442045.7</td>\n",
       "      <td>410285.8152</td>\n",
       "      <td>442148.7</td>\n",
       "      <td>410182.8152</td>\n",
       "      <td>POLYGON ((442045.700 410285.815, 442148.700 41...</td>\n",
       "    </tr>\n",
       "    <tr>\n",
       "      <th>61</th>\n",
       "      <td>7046585.0</td>\n",
       "      <td>442045.7</td>\n",
       "      <td>410183.1152</td>\n",
       "      <td>442148.7</td>\n",
       "      <td>410080.1152</td>\n",
       "      <td>POLYGON ((442045.700 410183.115, 442148.700 41...</td>\n",
       "    </tr>\n",
       "  </tbody>\n",
       "</table>\n",
       "<p>62 rows × 6 columns</p>\n",
       "</div>"
      ],
      "text/plain": [
       "           id      left          top     right       bottom  \\\n",
       "0   7025979.0  441224.1  410799.3152  441327.1  410696.3152   \n",
       "1   7025980.0  441224.1  410696.6152  441327.1  410593.6152   \n",
       "2   7025981.0  441224.1  410593.9152  441327.1  410490.9152   \n",
       "3   7025982.0  441224.1  410491.2152  441327.1  410388.2152   \n",
       "4   7028554.0  441326.8  410799.3152  441429.8  410696.3152   \n",
       "..        ...       ...          ...       ...          ...   \n",
       "57  7046581.0  442045.7  410593.9152  442148.7  410490.9152   \n",
       "58  7046582.0  442045.7  410491.2152  442148.7  410388.2152   \n",
       "59  7046583.0  442045.7  410388.5152  442148.7  410285.5152   \n",
       "60  7046584.0  442045.7  410285.8152  442148.7  410182.8152   \n",
       "61  7046585.0  442045.7  410183.1152  442148.7  410080.1152   \n",
       "\n",
       "                                             geometry  \n",
       "0   POLYGON ((441327.100 410749.714, 441327.100 41...  \n",
       "1   POLYGON ((441295.561 410696.615, 441327.100 41...  \n",
       "2   POLYGON ((441228.848 410593.915, 441327.100 41...  \n",
       "3   POLYGON ((441313.863 410491.215, 441327.100 41...  \n",
       "4   POLYGON ((441429.800 410704.859, 441429.800 41...  \n",
       "..                                                ...  \n",
       "57  MULTIPOLYGON (((442045.700 410593.915, 442148....  \n",
       "58  MULTIPOLYGON (((442045.700 410491.215, 442084....  \n",
       "59  POLYGON ((442071.492 410388.515, 442148.700 41...  \n",
       "60  POLYGON ((442045.700 410285.815, 442148.700 41...  \n",
       "61  POLYGON ((442045.700 410183.115, 442148.700 41...  \n",
       "\n",
       "[62 rows x 6 columns]"
      ]
     },
     "execution_count": 3,
     "metadata": {},
     "output_type": "execute_result"
    }
   ],
   "source": [
    "clip"
   ]
  },
  {
   "cell_type": "code",
   "execution_count": 7,
   "metadata": {},
   "outputs": [],
   "source": [
    "clip['percent'] = clip.area / 10609"
   ]
  },
  {
   "cell_type": "code",
   "execution_count": 5,
   "metadata": {},
   "outputs": [
    {
     "data": {
      "text/plain": [
       "10609"
      ]
     },
     "execution_count": 5,
     "metadata": {},
     "output_type": "execute_result"
    }
   ],
   "source": [
    "103*103"
   ]
  },
  {
   "cell_type": "code",
   "execution_count": 12,
   "metadata": {},
   "outputs": [],
   "source": [
    "clip = clip[['id', 'percent']]"
   ]
  },
  {
   "cell_type": "code",
   "execution_count": null,
   "metadata": {},
   "outputs": [],
   "source": []
  },
  {
   "cell_type": "code",
   "execution_count": 9,
   "metadata": {},
   "outputs": [],
   "source": [
    "raw = gpd.read_file(\"/home/philipp/Data/edin_diss/clip/GIS_grid_9x9_selected.shp\")"
   ]
  },
  {
   "cell_type": "code",
   "execution_count": 10,
   "metadata": {},
   "outputs": [
    {
     "data": {
      "text/html": [
       "<div>\n",
       "<style scoped>\n",
       "    .dataframe tbody tr th:only-of-type {\n",
       "        vertical-align: middle;\n",
       "    }\n",
       "\n",
       "    .dataframe tbody tr th {\n",
       "        vertical-align: top;\n",
       "    }\n",
       "\n",
       "    .dataframe thead th {\n",
       "        text-align: right;\n",
       "    }\n",
       "</style>\n",
       "<table border=\"1\" class=\"dataframe\">\n",
       "  <thead>\n",
       "    <tr style=\"text-align: right;\">\n",
       "      <th></th>\n",
       "      <th>id</th>\n",
       "      <th>left</th>\n",
       "      <th>top</th>\n",
       "      <th>right</th>\n",
       "      <th>bottom</th>\n",
       "      <th>geometry</th>\n",
       "    </tr>\n",
       "  </thead>\n",
       "  <tbody>\n",
       "    <tr>\n",
       "      <th>0</th>\n",
       "      <td>7025977.0</td>\n",
       "      <td>441224.1</td>\n",
       "      <td>411004.7152</td>\n",
       "      <td>441327.1</td>\n",
       "      <td>410901.7152</td>\n",
       "      <td>POLYGON ((441224.100 411004.715, 441327.100 41...</td>\n",
       "    </tr>\n",
       "    <tr>\n",
       "      <th>1</th>\n",
       "      <td>7025978.0</td>\n",
       "      <td>441224.1</td>\n",
       "      <td>410902.0152</td>\n",
       "      <td>441327.1</td>\n",
       "      <td>410799.0152</td>\n",
       "      <td>POLYGON ((441224.100 410902.015, 441327.100 41...</td>\n",
       "    </tr>\n",
       "    <tr>\n",
       "      <th>2</th>\n",
       "      <td>7025979.0</td>\n",
       "      <td>441224.1</td>\n",
       "      <td>410799.3152</td>\n",
       "      <td>441327.1</td>\n",
       "      <td>410696.3152</td>\n",
       "      <td>POLYGON ((441224.100 410799.315, 441327.100 41...</td>\n",
       "    </tr>\n",
       "    <tr>\n",
       "      <th>3</th>\n",
       "      <td>7025980.0</td>\n",
       "      <td>441224.1</td>\n",
       "      <td>410696.6152</td>\n",
       "      <td>441327.1</td>\n",
       "      <td>410593.6152</td>\n",
       "      <td>POLYGON ((441224.100 410696.615, 441327.100 41...</td>\n",
       "    </tr>\n",
       "    <tr>\n",
       "      <th>4</th>\n",
       "      <td>7025981.0</td>\n",
       "      <td>441224.1</td>\n",
       "      <td>410593.9152</td>\n",
       "      <td>441327.1</td>\n",
       "      <td>410490.9152</td>\n",
       "      <td>POLYGON ((441224.100 410593.915, 441327.100 41...</td>\n",
       "    </tr>\n",
       "    <tr>\n",
       "      <th>...</th>\n",
       "      <td>...</td>\n",
       "      <td>...</td>\n",
       "      <td>...</td>\n",
       "      <td>...</td>\n",
       "      <td>...</td>\n",
       "      <td>...</td>\n",
       "    </tr>\n",
       "    <tr>\n",
       "      <th>76</th>\n",
       "      <td>7046581.0</td>\n",
       "      <td>442045.7</td>\n",
       "      <td>410593.9152</td>\n",
       "      <td>442148.7</td>\n",
       "      <td>410490.9152</td>\n",
       "      <td>POLYGON ((442045.700 410593.915, 442148.700 41...</td>\n",
       "    </tr>\n",
       "    <tr>\n",
       "      <th>77</th>\n",
       "      <td>7046582.0</td>\n",
       "      <td>442045.7</td>\n",
       "      <td>410491.2152</td>\n",
       "      <td>442148.7</td>\n",
       "      <td>410388.2152</td>\n",
       "      <td>POLYGON ((442045.700 410491.215, 442148.700 41...</td>\n",
       "    </tr>\n",
       "    <tr>\n",
       "      <th>78</th>\n",
       "      <td>7046583.0</td>\n",
       "      <td>442045.7</td>\n",
       "      <td>410388.5152</td>\n",
       "      <td>442148.7</td>\n",
       "      <td>410285.5152</td>\n",
       "      <td>POLYGON ((442045.700 410388.515, 442148.700 41...</td>\n",
       "    </tr>\n",
       "    <tr>\n",
       "      <th>79</th>\n",
       "      <td>7046584.0</td>\n",
       "      <td>442045.7</td>\n",
       "      <td>410285.8152</td>\n",
       "      <td>442148.7</td>\n",
       "      <td>410182.8152</td>\n",
       "      <td>POLYGON ((442045.700 410285.815, 442148.700 41...</td>\n",
       "    </tr>\n",
       "    <tr>\n",
       "      <th>80</th>\n",
       "      <td>7046585.0</td>\n",
       "      <td>442045.7</td>\n",
       "      <td>410183.1152</td>\n",
       "      <td>442148.7</td>\n",
       "      <td>410080.1152</td>\n",
       "      <td>POLYGON ((442045.700 410183.115, 442148.700 41...</td>\n",
       "    </tr>\n",
       "  </tbody>\n",
       "</table>\n",
       "<p>81 rows × 6 columns</p>\n",
       "</div>"
      ],
      "text/plain": [
       "           id      left          top     right       bottom  \\\n",
       "0   7025977.0  441224.1  411004.7152  441327.1  410901.7152   \n",
       "1   7025978.0  441224.1  410902.0152  441327.1  410799.0152   \n",
       "2   7025979.0  441224.1  410799.3152  441327.1  410696.3152   \n",
       "3   7025980.0  441224.1  410696.6152  441327.1  410593.6152   \n",
       "4   7025981.0  441224.1  410593.9152  441327.1  410490.9152   \n",
       "..        ...       ...          ...       ...          ...   \n",
       "76  7046581.0  442045.7  410593.9152  442148.7  410490.9152   \n",
       "77  7046582.0  442045.7  410491.2152  442148.7  410388.2152   \n",
       "78  7046583.0  442045.7  410388.5152  442148.7  410285.5152   \n",
       "79  7046584.0  442045.7  410285.8152  442148.7  410182.8152   \n",
       "80  7046585.0  442045.7  410183.1152  442148.7  410080.1152   \n",
       "\n",
       "                                             geometry  \n",
       "0   POLYGON ((441224.100 411004.715, 441327.100 41...  \n",
       "1   POLYGON ((441224.100 410902.015, 441327.100 41...  \n",
       "2   POLYGON ((441224.100 410799.315, 441327.100 41...  \n",
       "3   POLYGON ((441224.100 410696.615, 441327.100 41...  \n",
       "4   POLYGON ((441224.100 410593.915, 441327.100 41...  \n",
       "..                                                ...  \n",
       "76  POLYGON ((442045.700 410593.915, 442148.700 41...  \n",
       "77  POLYGON ((442045.700 410491.215, 442148.700 41...  \n",
       "78  POLYGON ((442045.700 410388.515, 442148.700 41...  \n",
       "79  POLYGON ((442045.700 410285.815, 442148.700 41...  \n",
       "80  POLYGON ((442045.700 410183.115, 442148.700 41...  \n",
       "\n",
       "[81 rows x 6 columns]"
      ]
     },
     "execution_count": 10,
     "metadata": {},
     "output_type": "execute_result"
    }
   ],
   "source": [
    "raw"
   ]
  },
  {
   "cell_type": "code",
   "execution_count": 13,
   "metadata": {},
   "outputs": [],
   "source": [
    "merge = raw.merge(clip, on='id')"
   ]
  },
  {
   "cell_type": "code",
   "execution_count": 14,
   "metadata": {},
   "outputs": [
    {
     "data": {
      "text/html": [
       "<div>\n",
       "<style scoped>\n",
       "    .dataframe tbody tr th:only-of-type {\n",
       "        vertical-align: middle;\n",
       "    }\n",
       "\n",
       "    .dataframe tbody tr th {\n",
       "        vertical-align: top;\n",
       "    }\n",
       "\n",
       "    .dataframe thead th {\n",
       "        text-align: right;\n",
       "    }\n",
       "</style>\n",
       "<table border=\"1\" class=\"dataframe\">\n",
       "  <thead>\n",
       "    <tr style=\"text-align: right;\">\n",
       "      <th></th>\n",
       "      <th>id</th>\n",
       "      <th>left</th>\n",
       "      <th>top</th>\n",
       "      <th>right</th>\n",
       "      <th>bottom</th>\n",
       "      <th>geometry</th>\n",
       "      <th>percent</th>\n",
       "    </tr>\n",
       "  </thead>\n",
       "  <tbody>\n",
       "    <tr>\n",
       "      <th>0</th>\n",
       "      <td>7025979.0</td>\n",
       "      <td>441224.1</td>\n",
       "      <td>410799.3152</td>\n",
       "      <td>441327.1</td>\n",
       "      <td>410696.3152</td>\n",
       "      <td>POLYGON ((441224.100 410799.315, 441327.100 41...</td>\n",
       "      <td>0.054311</td>\n",
       "    </tr>\n",
       "    <tr>\n",
       "      <th>1</th>\n",
       "      <td>7025980.0</td>\n",
       "      <td>441224.1</td>\n",
       "      <td>410696.6152</td>\n",
       "      <td>441327.1</td>\n",
       "      <td>410593.6152</td>\n",
       "      <td>POLYGON ((441224.100 410696.615, 441327.100 41...</td>\n",
       "      <td>0.644734</td>\n",
       "    </tr>\n",
       "    <tr>\n",
       "      <th>2</th>\n",
       "      <td>7025981.0</td>\n",
       "      <td>441224.1</td>\n",
       "      <td>410593.9152</td>\n",
       "      <td>441327.1</td>\n",
       "      <td>410490.9152</td>\n",
       "      <td>POLYGON ((441224.100 410593.915, 441327.100 41...</td>\n",
       "      <td>0.689525</td>\n",
       "    </tr>\n",
       "    <tr>\n",
       "      <th>3</th>\n",
       "      <td>7025982.0</td>\n",
       "      <td>441224.1</td>\n",
       "      <td>410491.2152</td>\n",
       "      <td>441327.1</td>\n",
       "      <td>410388.2152</td>\n",
       "      <td>POLYGON ((441224.100 410491.215, 441327.100 41...</td>\n",
       "      <td>0.002361</td>\n",
       "    </tr>\n",
       "    <tr>\n",
       "      <th>4</th>\n",
       "      <td>7028554.0</td>\n",
       "      <td>441326.8</td>\n",
       "      <td>410799.3152</td>\n",
       "      <td>441429.8</td>\n",
       "      <td>410696.3152</td>\n",
       "      <td>POLYGON ((441326.800 410799.315, 441429.800 41...</td>\n",
       "      <td>0.396420</td>\n",
       "    </tr>\n",
       "    <tr>\n",
       "      <th>...</th>\n",
       "      <td>...</td>\n",
       "      <td>...</td>\n",
       "      <td>...</td>\n",
       "      <td>...</td>\n",
       "      <td>...</td>\n",
       "      <td>...</td>\n",
       "      <td>...</td>\n",
       "    </tr>\n",
       "    <tr>\n",
       "      <th>57</th>\n",
       "      <td>7046581.0</td>\n",
       "      <td>442045.7</td>\n",
       "      <td>410593.9152</td>\n",
       "      <td>442148.7</td>\n",
       "      <td>410490.9152</td>\n",
       "      <td>POLYGON ((442045.700 410593.915, 442148.700 41...</td>\n",
       "      <td>0.901605</td>\n",
       "    </tr>\n",
       "    <tr>\n",
       "      <th>58</th>\n",
       "      <td>7046582.0</td>\n",
       "      <td>442045.7</td>\n",
       "      <td>410491.2152</td>\n",
       "      <td>442148.7</td>\n",
       "      <td>410388.2152</td>\n",
       "      <td>POLYGON ((442045.700 410491.215, 442148.700 41...</td>\n",
       "      <td>0.880874</td>\n",
       "    </tr>\n",
       "    <tr>\n",
       "      <th>59</th>\n",
       "      <td>7046583.0</td>\n",
       "      <td>442045.7</td>\n",
       "      <td>410388.5152</td>\n",
       "      <td>442148.7</td>\n",
       "      <td>410285.5152</td>\n",
       "      <td>POLYGON ((442045.700 410388.515, 442148.700 41...</td>\n",
       "      <td>0.958129</td>\n",
       "    </tr>\n",
       "    <tr>\n",
       "      <th>60</th>\n",
       "      <td>7046584.0</td>\n",
       "      <td>442045.7</td>\n",
       "      <td>410285.8152</td>\n",
       "      <td>442148.7</td>\n",
       "      <td>410182.8152</td>\n",
       "      <td>POLYGON ((442045.700 410285.815, 442148.700 41...</td>\n",
       "      <td>1.000000</td>\n",
       "    </tr>\n",
       "    <tr>\n",
       "      <th>61</th>\n",
       "      <td>7046585.0</td>\n",
       "      <td>442045.7</td>\n",
       "      <td>410183.1152</td>\n",
       "      <td>442148.7</td>\n",
       "      <td>410080.1152</td>\n",
       "      <td>POLYGON ((442045.700 410183.115, 442148.700 41...</td>\n",
       "      <td>0.994014</td>\n",
       "    </tr>\n",
       "  </tbody>\n",
       "</table>\n",
       "<p>62 rows × 7 columns</p>\n",
       "</div>"
      ],
      "text/plain": [
       "           id      left          top     right       bottom  \\\n",
       "0   7025979.0  441224.1  410799.3152  441327.1  410696.3152   \n",
       "1   7025980.0  441224.1  410696.6152  441327.1  410593.6152   \n",
       "2   7025981.0  441224.1  410593.9152  441327.1  410490.9152   \n",
       "3   7025982.0  441224.1  410491.2152  441327.1  410388.2152   \n",
       "4   7028554.0  441326.8  410799.3152  441429.8  410696.3152   \n",
       "..        ...       ...          ...       ...          ...   \n",
       "57  7046581.0  442045.7  410593.9152  442148.7  410490.9152   \n",
       "58  7046582.0  442045.7  410491.2152  442148.7  410388.2152   \n",
       "59  7046583.0  442045.7  410388.5152  442148.7  410285.5152   \n",
       "60  7046584.0  442045.7  410285.8152  442148.7  410182.8152   \n",
       "61  7046585.0  442045.7  410183.1152  442148.7  410080.1152   \n",
       "\n",
       "                                             geometry   percent  \n",
       "0   POLYGON ((441224.100 410799.315, 441327.100 41...  0.054311  \n",
       "1   POLYGON ((441224.100 410696.615, 441327.100 41...  0.644734  \n",
       "2   POLYGON ((441224.100 410593.915, 441327.100 41...  0.689525  \n",
       "3   POLYGON ((441224.100 410491.215, 441327.100 41...  0.002361  \n",
       "4   POLYGON ((441326.800 410799.315, 441429.800 41...  0.396420  \n",
       "..                                                ...       ...  \n",
       "57  POLYGON ((442045.700 410593.915, 442148.700 41...  0.901605  \n",
       "58  POLYGON ((442045.700 410491.215, 442148.700 41...  0.880874  \n",
       "59  POLYGON ((442045.700 410388.515, 442148.700 41...  0.958129  \n",
       "60  POLYGON ((442045.700 410285.815, 442148.700 41...  1.000000  \n",
       "61  POLYGON ((442045.700 410183.115, 442148.700 41...  0.994014  \n",
       "\n",
       "[62 rows x 7 columns]"
      ]
     },
     "execution_count": 14,
     "metadata": {},
     "output_type": "execute_result"
    }
   ],
   "source": [
    "merge"
   ]
  },
  {
   "cell_type": "code",
   "execution_count": 22,
   "metadata": {},
   "outputs": [
    {
     "data": {
      "image/svg+xml": [
       "<svg xmlns=\"http://www.w3.org/2000/svg\" xmlns:xlink=\"http://www.w3.org/1999/xlink\" width=\"111.23999999999069\" height=\"111.23999999999069\" viewBox=\"441219.97999971325 410692.19519993 111.23999999999069 111.23999999999069\" preserveAspectRatio=\"xMinYMin meet\"><g transform=\"matrix(1,0,0,-1,0,821495.63039986)\"><path fill-rule=\"evenodd\" fill=\"#66cc99\" stroke=\"#555555\" stroke-width=\"2.0\" opacity=\"0.6\" d=\"M 441224.09999971325,410799.31519993 L 441327.09999971325,410799.31519993 L 441327.09999971325,410696.31519993 L 441224.09999971325,410696.31519993 L 441224.09999971325,410799.31519993 z\" /></g></svg>"
      ],
      "text/plain": [
       "<shapely.geometry.polygon.Polygon at 0x7f5575b7bd10>"
      ]
     },
     "execution_count": 22,
     "metadata": {},
     "output_type": "execute_result"
    }
   ],
   "source": [
    "merge.loc[0, 'geometry']"
   ]
  },
  {
   "cell_type": "code",
   "execution_count": 26,
   "metadata": {},
   "outputs": [
    {
     "data": {
      "image/svg+xml": [
       "<svg xmlns=\"http://www.w3.org/2000/svg\" xmlns:xlink=\"http://www.w3.org/1999/xlink\" width=\"111.23999999999069\" height=\"111.23999999999069\" viewBox=\"441219.97999971325 410692.19519993 111.23999999999069 111.23999999999069\" preserveAspectRatio=\"xMinYMin meet\"><g transform=\"matrix(1,0,0,-1,0,821495.63039986)\"><path fill-rule=\"evenodd\" fill=\"#66cc99\" stroke=\"#555555\" stroke-width=\"2.0\" opacity=\"0.6\" d=\"M 441224.09999971325,410799.31519993 L 441327.09999971325,410799.31519993 L 441327.09999971325,410696.31519993 L 441224.09999971325,410696.31519993 L 441224.09999971325,410799.31519993 z\" /></g></svg>"
      ],
      "text/plain": [
       "<shapely.geometry.polygon.Polygon at 0x7f5575b7bd10>"
      ]
     },
     "execution_count": 26,
     "metadata": {},
     "output_type": "execute_result"
    }
   ],
   "source": [
    "merge['geometry'].iloc[0]"
   ]
  },
  {
   "cell_type": "code",
   "execution_count": 25,
   "metadata": {},
   "outputs": [
    {
     "data": {
      "text/plain": [
       "array([441224.09999971, 410080.11519993, 442148.69999971, 411004.71519993])"
      ]
     },
     "execution_count": 25,
     "metadata": {},
     "output_type": "execute_result"
    }
   ],
   "source": [
    "merge.total_bounds"
   ]
  },
  {
   "cell_type": "code",
   "execution_count": 27,
   "metadata": {},
   "outputs": [
    {
     "data": {
      "text/html": [
       "<div>\n",
       "<style scoped>\n",
       "    .dataframe tbody tr th:only-of-type {\n",
       "        vertical-align: middle;\n",
       "    }\n",
       "\n",
       "    .dataframe tbody tr th {\n",
       "        vertical-align: top;\n",
       "    }\n",
       "\n",
       "    .dataframe thead th {\n",
       "        text-align: right;\n",
       "    }\n",
       "</style>\n",
       "<table border=\"1\" class=\"dataframe\">\n",
       "  <thead>\n",
       "    <tr style=\"text-align: right;\">\n",
       "      <th></th>\n",
       "      <th>minx</th>\n",
       "      <th>miny</th>\n",
       "      <th>maxx</th>\n",
       "      <th>maxy</th>\n",
       "    </tr>\n",
       "  </thead>\n",
       "  <tbody>\n",
       "    <tr>\n",
       "      <th>0</th>\n",
       "      <td>441224.1</td>\n",
       "      <td>410696.3152</td>\n",
       "      <td>441327.1</td>\n",
       "      <td>410799.3152</td>\n",
       "    </tr>\n",
       "    <tr>\n",
       "      <th>1</th>\n",
       "      <td>441224.1</td>\n",
       "      <td>410593.6152</td>\n",
       "      <td>441327.1</td>\n",
       "      <td>410696.6152</td>\n",
       "    </tr>\n",
       "    <tr>\n",
       "      <th>2</th>\n",
       "      <td>441224.1</td>\n",
       "      <td>410490.9152</td>\n",
       "      <td>441327.1</td>\n",
       "      <td>410593.9152</td>\n",
       "    </tr>\n",
       "    <tr>\n",
       "      <th>3</th>\n",
       "      <td>441224.1</td>\n",
       "      <td>410388.2152</td>\n",
       "      <td>441327.1</td>\n",
       "      <td>410491.2152</td>\n",
       "    </tr>\n",
       "    <tr>\n",
       "      <th>4</th>\n",
       "      <td>441326.8</td>\n",
       "      <td>410696.3152</td>\n",
       "      <td>441429.8</td>\n",
       "      <td>410799.3152</td>\n",
       "    </tr>\n",
       "    <tr>\n",
       "      <th>...</th>\n",
       "      <td>...</td>\n",
       "      <td>...</td>\n",
       "      <td>...</td>\n",
       "      <td>...</td>\n",
       "    </tr>\n",
       "    <tr>\n",
       "      <th>57</th>\n",
       "      <td>442045.7</td>\n",
       "      <td>410490.9152</td>\n",
       "      <td>442148.7</td>\n",
       "      <td>410593.9152</td>\n",
       "    </tr>\n",
       "    <tr>\n",
       "      <th>58</th>\n",
       "      <td>442045.7</td>\n",
       "      <td>410388.2152</td>\n",
       "      <td>442148.7</td>\n",
       "      <td>410491.2152</td>\n",
       "    </tr>\n",
       "    <tr>\n",
       "      <th>59</th>\n",
       "      <td>442045.7</td>\n",
       "      <td>410285.5152</td>\n",
       "      <td>442148.7</td>\n",
       "      <td>410388.5152</td>\n",
       "    </tr>\n",
       "    <tr>\n",
       "      <th>60</th>\n",
       "      <td>442045.7</td>\n",
       "      <td>410182.8152</td>\n",
       "      <td>442148.7</td>\n",
       "      <td>410285.8152</td>\n",
       "    </tr>\n",
       "    <tr>\n",
       "      <th>61</th>\n",
       "      <td>442045.7</td>\n",
       "      <td>410080.1152</td>\n",
       "      <td>442148.7</td>\n",
       "      <td>410183.1152</td>\n",
       "    </tr>\n",
       "  </tbody>\n",
       "</table>\n",
       "<p>62 rows × 4 columns</p>\n",
       "</div>"
      ],
      "text/plain": [
       "        minx         miny      maxx         maxy\n",
       "0   441224.1  410696.3152  441327.1  410799.3152\n",
       "1   441224.1  410593.6152  441327.1  410696.6152\n",
       "2   441224.1  410490.9152  441327.1  410593.9152\n",
       "3   441224.1  410388.2152  441327.1  410491.2152\n",
       "4   441326.8  410696.3152  441429.8  410799.3152\n",
       "..       ...          ...       ...          ...\n",
       "57  442045.7  410490.9152  442148.7  410593.9152\n",
       "58  442045.7  410388.2152  442148.7  410491.2152\n",
       "59  442045.7  410285.5152  442148.7  410388.5152\n",
       "60  442045.7  410182.8152  442148.7  410285.8152\n",
       "61  442045.7  410080.1152  442148.7  410183.1152\n",
       "\n",
       "[62 rows x 4 columns]"
      ]
     },
     "execution_count": 27,
     "metadata": {},
     "output_type": "execute_result"
    }
   ],
   "source": [
    "merge.bounds"
   ]
  },
  {
   "cell_type": "code",
   "execution_count": 36,
   "metadata": {},
   "outputs": [],
   "source": [
    "x = merge.iloc[61,:]"
   ]
  },
  {
   "cell_type": "code",
   "execution_count": 38,
   "metadata": {},
   "outputs": [
    {
     "data": {
      "text/plain": [
       "id                                                7.04658e+06\n",
       "left                                                   442046\n",
       "top                                                    410183\n",
       "right                                                  442149\n",
       "bottom                                                 410080\n",
       "geometry    POLYGON ((442045.6999997132 410183.11519993, 4...\n",
       "percent                                              0.994014\n",
       "Name: 61, dtype: object"
      ]
     },
     "execution_count": 38,
     "metadata": {},
     "output_type": "execute_result"
    }
   ],
   "source": [
    "x"
   ]
  },
  {
   "cell_type": "code",
   "execution_count": 37,
   "metadata": {},
   "outputs": [
    {
     "data": {
      "text/plain": [
       "410183.11519993"
      ]
     },
     "execution_count": 37,
     "metadata": {},
     "output_type": "execute_result"
    }
   ],
   "source": [
    "x.top"
   ]
  },
  {
   "cell_type": "code",
   "execution_count": 28,
   "metadata": {},
   "outputs": [],
   "source": [
    "## create ground truth"
   ]
  },
  {
   "cell_type": "code",
   "execution_count": 29,
   "metadata": {},
   "outputs": [],
   "source": [
    "# load raw vector data\n",
    "db_data = gpd.read_file(\"/home/philipp/Data/edin_diss/GIS_df/gis_df_wwie_2019.shp\")"
   ]
  },
  {
   "cell_type": "code",
   "execution_count": 20,
   "metadata": {},
   "outputs": [],
   "source": [
    "x = grid.loc[1]"
   ]
  },
  {
   "cell_type": "code",
   "execution_count": 21,
   "metadata": {},
   "outputs": [],
   "source": [
    "# pixel resolution\n",
    "#pixel = 0.2000000000000000111\n",
    "pixel = 0.2\n",
    "\n",
    "# boundries\n",
    "c0 = x.left\n",
    "c1 = x.bottom\n",
    "c2 = x.right\n",
    "c3 = x.top\n",
    "\n",
    "#\n",
    "name = \"gis_df_wwie_2019\"\n",
    "name_layer = \"df\"\n",
    "path_shp = \"/home/philipp/Data/edin_diss/GIS_df/\" + name + \".shp\"\n",
    "path_out = \"/home/philipp/Data/edin_diss/test_ww.tif\""
   ]
  },
  {
   "cell_type": "code",
   "execution_count": 18,
   "metadata": {},
   "outputs": [
    {
     "data": {
      "text/plain": [
       "0"
      ]
     },
     "execution_count": 18,
     "metadata": {},
     "output_type": "execute_result"
    }
   ],
   "source": [
    "# create string for bash command\n",
    "bashCommand = \"gdal_rasterize -l \" + name + \" -a \" + name_layer + \" -tr \" + str(pixel) + \" \" + str(pixel) + \\\n",
    "\" -a_nodata 0.0 -te \" + str(c0) + \" \" + str(c1) + \" \" + str(c2) + \" \" + str(c3) + \\\n",
    "\" -ot Byte -of GTiff \" + path_shp + \" \" + path_out\n",
    "\n",
    "# execute bash command\n",
    "os.system(bashCommand)"
   ]
  },
  {
   "cell_type": "code",
   "execution_count": null,
   "metadata": {},
   "outputs": [],
   "source": [
    "# create roads"
   ]
  },
  {
   "cell_type": "code",
   "execution_count": 3,
   "metadata": {},
   "outputs": [],
   "source": [
    "# load raw vector data\n",
    "db_data = gpd.read_file(\"/media/philipp/ed7d22ba-5a3b-4d31-bf6c-6add6e106b3d/test/256x256/1m/ground_truth_roads/gt_roads.shp\")"
   ]
  },
  {
   "cell_type": "code",
   "execution_count": 2,
   "metadata": {},
   "outputs": [],
   "source": [
    "grid = gpd.read_file(\"/media/philipp/ed7d22ba-5a3b-4d31-bf6c-6add6e106b3d/test/256x256/1m/grid_256_fin_clip.shp\")"
   ]
  },
  {
   "cell_type": "code",
   "execution_count": 3,
   "metadata": {},
   "outputs": [
    {
     "data": {
      "text/html": [
       "<div>\n",
       "<style scoped>\n",
       "    .dataframe tbody tr th:only-of-type {\n",
       "        vertical-align: middle;\n",
       "    }\n",
       "\n",
       "    .dataframe tbody tr th {\n",
       "        vertical-align: top;\n",
       "    }\n",
       "\n",
       "    .dataframe thead th {\n",
       "        text-align: right;\n",
       "    }\n",
       "</style>\n",
       "<table border=\"1\" class=\"dataframe\">\n",
       "  <thead>\n",
       "    <tr style=\"text-align: right;\">\n",
       "      <th></th>\n",
       "      <th>id</th>\n",
       "      <th>left</th>\n",
       "      <th>top</th>\n",
       "      <th>right</th>\n",
       "      <th>bottom</th>\n",
       "      <th>area</th>\n",
       "      <th>geometry</th>\n",
       "    </tr>\n",
       "  </thead>\n",
       "  <tbody>\n",
       "    <tr>\n",
       "      <th>0</th>\n",
       "      <td>865700.0</td>\n",
       "      <td>373903.070003</td>\n",
       "      <td>397777.915204</td>\n",
       "      <td>374163.070003</td>\n",
       "      <td>397517.915204</td>\n",
       "      <td>67600.0</td>\n",
       "      <td>POLYGON ((373903.070 397777.915, 374163.070 39...</td>\n",
       "    </tr>\n",
       "    <tr>\n",
       "      <th>1</th>\n",
       "      <td>865701.0</td>\n",
       "      <td>373903.070003</td>\n",
       "      <td>397519.915204</td>\n",
       "      <td>374163.070003</td>\n",
       "      <td>397259.915204</td>\n",
       "      <td>67600.0</td>\n",
       "      <td>POLYGON ((373903.070 397519.915, 374163.070 39...</td>\n",
       "    </tr>\n",
       "    <tr>\n",
       "      <th>2</th>\n",
       "      <td>865702.0</td>\n",
       "      <td>373903.070003</td>\n",
       "      <td>397261.915204</td>\n",
       "      <td>374163.070003</td>\n",
       "      <td>397001.915204</td>\n",
       "      <td>67600.0</td>\n",
       "      <td>POLYGON ((373903.070 397261.915, 374163.070 39...</td>\n",
       "    </tr>\n",
       "    <tr>\n",
       "      <th>3</th>\n",
       "      <td>865703.0</td>\n",
       "      <td>373903.070003</td>\n",
       "      <td>397003.915204</td>\n",
       "      <td>374163.070003</td>\n",
       "      <td>396743.915204</td>\n",
       "      <td>67600.0</td>\n",
       "      <td>POLYGON ((373903.070 397003.915, 374163.070 39...</td>\n",
       "    </tr>\n",
       "    <tr>\n",
       "      <th>4</th>\n",
       "      <td>865704.0</td>\n",
       "      <td>373903.070003</td>\n",
       "      <td>396745.915204</td>\n",
       "      <td>374163.070003</td>\n",
       "      <td>396485.915204</td>\n",
       "      <td>67600.0</td>\n",
       "      <td>POLYGON ((373903.070 396745.915, 374163.070 39...</td>\n",
       "    </tr>\n",
       "  </tbody>\n",
       "</table>\n",
       "</div>"
      ],
      "text/plain": [
       "         id           left            top          right         bottom  \\\n",
       "0  865700.0  373903.070003  397777.915204  374163.070003  397517.915204   \n",
       "1  865701.0  373903.070003  397519.915204  374163.070003  397259.915204   \n",
       "2  865702.0  373903.070003  397261.915204  374163.070003  397001.915204   \n",
       "3  865703.0  373903.070003  397003.915204  374163.070003  396743.915204   \n",
       "4  865704.0  373903.070003  396745.915204  374163.070003  396485.915204   \n",
       "\n",
       "      area                                           geometry  \n",
       "0  67600.0  POLYGON ((373903.070 397777.915, 374163.070 39...  \n",
       "1  67600.0  POLYGON ((373903.070 397519.915, 374163.070 39...  \n",
       "2  67600.0  POLYGON ((373903.070 397261.915, 374163.070 39...  \n",
       "3  67600.0  POLYGON ((373903.070 397003.915, 374163.070 39...  \n",
       "4  67600.0  POLYGON ((373903.070 396745.915, 374163.070 39...  "
      ]
     },
     "execution_count": 3,
     "metadata": {},
     "output_type": "execute_result"
    }
   ],
   "source": [
    "grid.loc[:4]"
   ]
  },
  {
   "cell_type": "code",
   "execution_count": 12,
   "metadata": {},
   "outputs": [
    {
     "name": "stdout",
     "output_type": "stream",
     "text": [
      "0 373903.0700034943\n",
      "1 373903.0700034943\n",
      "2 373903.0700034943\n",
      "3 373903.0700034943\n",
      "4 373903.0700034943\n"
     ]
    }
   ],
   "source": [
    "for index, row in grid.loc[:4].iterrows():\n",
    "    print(index, row.left)"
   ]
  },
  {
   "cell_type": "code",
   "execution_count": 4,
   "metadata": {},
   "outputs": [
    {
     "data": {
      "text/html": [
       "<div>\n",
       "<style scoped>\n",
       "    .dataframe tbody tr th:only-of-type {\n",
       "        vertical-align: middle;\n",
       "    }\n",
       "\n",
       "    .dataframe tbody tr th {\n",
       "        vertical-align: top;\n",
       "    }\n",
       "\n",
       "    .dataframe thead th {\n",
       "        text-align: right;\n",
       "    }\n",
       "</style>\n",
       "<table border=\"1\" class=\"dataframe\">\n",
       "  <thead>\n",
       "    <tr style=\"text-align: right;\">\n",
       "      <th></th>\n",
       "      <th>id</th>\n",
       "      <th>left</th>\n",
       "      <th>top</th>\n",
       "      <th>right</th>\n",
       "      <th>bottom</th>\n",
       "      <th>area</th>\n",
       "      <th>geometry</th>\n",
       "    </tr>\n",
       "  </thead>\n",
       "  <tbody>\n",
       "    <tr>\n",
       "      <th>5468</th>\n",
       "      <td>960967.0</td>\n",
       "      <td>397897.070003</td>\n",
       "      <td>412741.915204</td>\n",
       "      <td>398157.070003</td>\n",
       "      <td>412481.915204</td>\n",
       "      <td>67600.0</td>\n",
       "      <td>POLYGON ((397897.070 412741.915, 398157.070 41...</td>\n",
       "    </tr>\n",
       "  </tbody>\n",
       "</table>\n",
       "</div>"
      ],
      "text/plain": [
       "            id           left            top          right         bottom  \\\n",
       "5468  960967.0  397897.070003  412741.915204  398157.070003  412481.915204   \n",
       "\n",
       "         area                                           geometry  \n",
       "5468  67600.0  POLYGON ((397897.070 412741.915, 398157.070 41...  "
      ]
     },
     "execution_count": 4,
     "metadata": {},
     "output_type": "execute_result"
    }
   ],
   "source": [
    "grid[grid['id'] == 960967]"
   ]
  },
  {
   "cell_type": "code",
   "execution_count": 13,
   "metadata": {},
   "outputs": [],
   "source": [
    "def create_raster(x, i, res=1):\n",
    "\n",
    "    #\n",
    "    name = \"gt_roads\"\n",
    "    name_layer = \"str\"\n",
    "    path_shp = \"/media/philipp/ed7d22ba-5a3b-4d31-bf6c-6add6e106b3d/test/256x256/1m/ground_truth_roads/\" + name + \".shp\"\n",
    "    path_out = \"/media/philipp/ed7d22ba-5a3b-4d31-bf6c-6add6e106b3d/test/256x256/1m/data_256_gt_roads/256_gt_id_\" + str(i) + \".tif\"\n",
    "    \n",
    "    # create string for bash command\n",
    "    bashCommand = \"gdal_rasterize -l \" + name + \" -a \" + name_layer + \" -tr \" + str(res) + \" \" + str(res) + \\\n",
    "    \" -a_nodata 0.0 -te \" + str(x.left) + \" \" + str(x.right) + \" \" + str(x.bottom) + \" \" + str(x.top) + \\\n",
    "    \" -ot Byte -of GTiff \" + path_shp + \" \" + path_out\n",
    "    \n",
    "    print(bashCommand)\n",
    "    # execute bash command\n",
    "    os.system(bashCommand)"
   ]
  },
  {
   "cell_type": "code",
   "execution_count": 14,
   "metadata": {},
   "outputs": [
    {
     "name": "stdout",
     "output_type": "stream",
     "text": [
      "gdal_rasterize -l gt_roads -a str -tr 1.0 1.0 -a_nodata 0.0 -te 397897.0700034943 398157.0700034943 412481.9152037557 412741.9152037557 -ot Byte -of GTiff /media/philipp/ed7d22ba-5a3b-4d31-bf6c-6add6e106b3d/test/256x256/1m/ground_truth_roads/gt_roads.shp /media/philipp/ed7d22ba-5a3b-4d31-bf6c-6add6e106b3d/test/256x256/1m/data_256_gt_roads/256_gt_id_5468.tif\n"
     ]
    }
   ],
   "source": [
    "create_raster(grid.loc[5468], 5468, res=1.0)"
   ]
  },
  {
   "cell_type": "code",
   "execution_count": 27,
   "metadata": {},
   "outputs": [],
   "source": [
    "# load raw vector data\n",
    "name = \"gt_roads\"\n",
    "db_data = gpd.read_file(\"/media/philipp/ed7d22ba-5a3b-4d31-bf6c-6add6e106b3d/test/256x256/1m/ground_truth_roads/gt_roads.shp\")"
   ]
  },
  {
   "cell_type": "code",
   "execution_count": 28,
   "metadata": {},
   "outputs": [
    {
     "data": {
      "text/html": [
       "<div>\n",
       "<style scoped>\n",
       "    .dataframe tbody tr th:only-of-type {\n",
       "        vertical-align: middle;\n",
       "    }\n",
       "\n",
       "    .dataframe tbody tr th {\n",
       "        vertical-align: top;\n",
       "    }\n",
       "\n",
       "    .dataframe thead th {\n",
       "        text-align: right;\n",
       "    }\n",
       "</style>\n",
       "<table border=\"1\" class=\"dataframe\">\n",
       "  <thead>\n",
       "    <tr style=\"text-align: right;\">\n",
       "      <th></th>\n",
       "      <th>str</th>\n",
       "      <th>geometry</th>\n",
       "    </tr>\n",
       "  </thead>\n",
       "  <tbody>\n",
       "    <tr>\n",
       "      <th>0</th>\n",
       "      <td>0</td>\n",
       "      <td>POLYGON ((386279.300 358369.925, 386291.340 35...</td>\n",
       "    </tr>\n",
       "    <tr>\n",
       "      <th>1</th>\n",
       "      <td>0</td>\n",
       "      <td>POLYGON ((411127.657 394260.340, 411148.950 39...</td>\n",
       "    </tr>\n",
       "    <tr>\n",
       "      <th>2</th>\n",
       "      <td>0</td>\n",
       "      <td>POLYGON ((380930.470 358686.725, 380935.880 35...</td>\n",
       "    </tr>\n",
       "    <tr>\n",
       "      <th>3</th>\n",
       "      <td>0</td>\n",
       "      <td>POLYGON ((397372.350 374393.005, 397368.830 37...</td>\n",
       "    </tr>\n",
       "    <tr>\n",
       "      <th>4</th>\n",
       "      <td>0</td>\n",
       "      <td>POLYGON ((402954.780 381514.065, 402947.730 38...</td>\n",
       "    </tr>\n",
       "    <tr>\n",
       "      <th>...</th>\n",
       "      <td>...</td>\n",
       "      <td>...</td>\n",
       "    </tr>\n",
       "    <tr>\n",
       "      <th>373121</th>\n",
       "      <td>0</td>\n",
       "      <td>POLYGON ((475862.030 432686.985, 475862.030 43...</td>\n",
       "    </tr>\n",
       "    <tr>\n",
       "      <th>373122</th>\n",
       "      <td>0</td>\n",
       "      <td>POLYGON ((482408.040 432455.096, 482407.996 43...</td>\n",
       "    </tr>\n",
       "    <tr>\n",
       "      <th>373123</th>\n",
       "      <td>0</td>\n",
       "      <td>POLYGON ((484783.950 428687.795, 484791.320 42...</td>\n",
       "    </tr>\n",
       "    <tr>\n",
       "      <th>373124</th>\n",
       "      <td>0</td>\n",
       "      <td>POLYGON ((464475.693 432193.495, 464475.352 43...</td>\n",
       "    </tr>\n",
       "    <tr>\n",
       "      <th>373125</th>\n",
       "      <td>1</td>\n",
       "      <td>POLYGON ((482027.847 439229.777, 482022.961 43...</td>\n",
       "    </tr>\n",
       "  </tbody>\n",
       "</table>\n",
       "<p>373126 rows × 2 columns</p>\n",
       "</div>"
      ],
      "text/plain": [
       "        str                                           geometry\n",
       "0         0  POLYGON ((386279.300 358369.925, 386291.340 35...\n",
       "1         0  POLYGON ((411127.657 394260.340, 411148.950 39...\n",
       "2         0  POLYGON ((380930.470 358686.725, 380935.880 35...\n",
       "3         0  POLYGON ((397372.350 374393.005, 397368.830 37...\n",
       "4         0  POLYGON ((402954.780 381514.065, 402947.730 38...\n",
       "...     ...                                                ...\n",
       "373121    0  POLYGON ((475862.030 432686.985, 475862.030 43...\n",
       "373122    0  POLYGON ((482408.040 432455.096, 482407.996 43...\n",
       "373123    0  POLYGON ((484783.950 428687.795, 484791.320 42...\n",
       "373124    0  POLYGON ((464475.693 432193.495, 464475.352 43...\n",
       "373125    1  POLYGON ((482027.847 439229.777, 482022.961 43...\n",
       "\n",
       "[373126 rows x 2 columns]"
      ]
     },
     "execution_count": 28,
     "metadata": {},
     "output_type": "execute_result"
    }
   ],
   "source": [
    "db_data"
   ]
  },
  {
   "cell_type": "code",
   "execution_count": 15,
   "metadata": {},
   "outputs": [],
   "source": [
    "c0 = 373757.9999999924912117\n",
    "c1 = 381706.9999999923165888\n",
    "c2 = 418695.9999999915598892\n",
    "c3 = 451232.9999999909196049"
   ]
  },
  {
   "cell_type": "code",
   "execution_count": 22,
   "metadata": {},
   "outputs": [],
   "source": [
    "bashCommand = \"gdal_rasterize -l gt_roads -a str -tr 1.0 1.0 -a_nodata 0.0 -te \" + str(c0) + \" \" + str(c1) + \" \" + str(c3) + \" \" + str(c2) + \" -ot Byte -of GTiff /media/philipp/ed7d22ba-5a3b-4d31-bf6c-6add6e106b3d/test/256x256/1m/ground_truth_roads/gt_roads.shp /media/philipp/ed7d22ba-5a3b-4d31-bf6c-6add6e106b3d/test/256x256/1m/data_256_gt_roads/256_gt_id.tif\""
   ]
  },
  {
   "cell_type": "code",
   "execution_count": 23,
   "metadata": {},
   "outputs": [
    {
     "data": {
      "text/plain": [
       "0"
      ]
     },
     "execution_count": 23,
     "metadata": {},
     "output_type": "execute_result"
    }
   ],
   "source": [
    "os.system(bashCommand)"
   ]
  },
  {
   "cell_type": "code",
   "execution_count": null,
   "metadata": {},
   "outputs": [],
   "source": [
    "\"gdal_rasterize -l gt_roads -a str -tr 1.0 1.0 -a_nodata 0.0 -te 397897.070003 398157.070003 412741.915204 412481.915204 -ot Float32 -of GTiff /media/philipp/ed7d22ba-5a3b-4d31-bf6c-6add6e106b3d/test/256x256/1m/ground_truth_roads/gt_roads.shp /tmp/processing_6d2f8ae78a2b40e0a5a23fd41edebe3a/a28b3db10203442a842805fa64cd3777/OUTPUT.tif\""
   ]
  }
 ],
 "metadata": {
  "kernelspec": {
   "display_name": "geo",
   "language": "python",
   "name": "geo"
  },
  "language_info": {
   "codemirror_mode": {
    "name": "ipython",
    "version": 3
   },
   "file_extension": ".py",
   "mimetype": "text/x-python",
   "name": "python",
   "nbconvert_exporter": "python",
   "pygments_lexer": "ipython3",
   "version": "3.8.2"
  }
 },
 "nbformat": 4,
 "nbformat_minor": 4
}
