{
 "cells": [
  {
   "cell_type": "code",
   "execution_count": 1,
   "metadata": {},
   "outputs": [],
   "source": [
    "import sys\n",
    "import geopandas\n",
    "import pandas as pd\n",
    "try:\n",
    "    from osgeo import ogr, osr, gdal\n",
    "except:\n",
    "    sys.exit('ERROR: cannot find GDAL/OGR modules')"
   ]
  },
  {
   "cell_type": "code",
   "execution_count": null,
   "metadata": {},
   "outputs": [],
   "source": [
    "grid_raw = geopandas.read_file('/home/philipp/Data/edin_diss/GIS_grid/GIS_grid_raw.shp')"
   ]
  },
  {
   "cell_type": "code",
   "execution_count": null,
   "metadata": {},
   "outputs": [],
   "source": [
    "grid_raw"
   ]
  },
  {
   "cell_type": "code",
   "execution_count": 4,
   "metadata": {},
   "outputs": [],
   "source": [
    "# I.\n",
    "grid_raw = grid_raw[~((grid_raw['left'] < 356500) & (grid_raw['top'] > 427300))]"
   ]
  },
  {
   "cell_type": "code",
   "execution_count": 5,
   "metadata": {},
   "outputs": [],
   "source": [
    "# II.\n",
    "grid_raw = grid_raw[~((grid_raw['left'] < 520000) & (grid_raw['top'] > 470000))]"
   ]
  },
  {
   "cell_type": "code",
   "execution_count": 6,
   "metadata": {},
   "outputs": [],
   "source": [
    "# III.\n",
    "grid_raw = grid_raw[grid_raw['top'] < 552500]"
   ]
  },
  {
   "cell_type": "code",
   "execution_count": 7,
   "metadata": {},
   "outputs": [],
   "source": [
    "# IV.\n",
    "grid_raw = grid_raw[~((grid_raw['right'] > 583000) & (grid_raw['top'] > 495000))]"
   ]
  },
  {
   "cell_type": "code",
   "execution_count": 8,
   "metadata": {},
   "outputs": [],
   "source": [
    "# V.\n",
    "grid_raw = grid_raw[~((grid_raw['right'] > 484500) & (grid_raw['bottom'] < 351000))]"
   ]
  },
  {
   "cell_type": "code",
   "execution_count": 9,
   "metadata": {},
   "outputs": [],
   "source": [
    "# VI.\n",
    "grid_raw = grid_raw[~((grid_raw['right'] > 196000) & (grid_raw['bottom'] < 350000) & (grid_raw['left'] < 372000))]"
   ]
  },
  {
   "cell_type": "code",
   "execution_count": 10,
   "metadata": {},
   "outputs": [],
   "source": [
    "# VII.\n",
    "grid_raw = grid_raw[~((grid_raw['left'] < 196000) & (grid_raw['bottom'] < 337000))]"
   ]
  },
  {
   "cell_type": "code",
   "execution_count": 11,
   "metadata": {},
   "outputs": [],
   "source": [
    "# VIII.\n",
    "grid_raw = grid_raw[~((grid_raw['right'] > 452500) & (grid_raw['bottom'] < 408000) & (grid_raw['left'] < 577500) & (grid_raw['top'] > 370000))]"
   ]
  },
  {
   "cell_type": "code",
   "execution_count": 12,
   "metadata": {},
   "outputs": [
    {
     "data": {
      "text/plain": [
       "(5635990, 6)"
      ]
     },
     "execution_count": 12,
     "metadata": {},
     "output_type": "execute_result"
    }
   ],
   "source": [
    "grid_raw.shape"
   ]
  },
  {
   "cell_type": "code",
   "execution_count": 31,
   "metadata": {},
   "outputs": [
    {
     "data": {
      "text/plain": [
       "(5671876, 6)"
      ]
     },
     "execution_count": 31,
     "metadata": {},
     "output_type": "execute_result"
    }
   ],
   "source": [
    "grid_raw.shape"
   ]
  },
  {
   "cell_type": "code",
   "execution_count": 13,
   "metadata": {},
   "outputs": [],
   "source": [
    "# save to file\n",
    "grid_raw.to_file(\"/home/philipp/Data/edin_diss/GIS_grid/GIS_grid_raw_filtered.shp\")"
   ]
  },
  {
   "cell_type": "code",
   "execution_count": null,
   "metadata": {},
   "outputs": [],
   "source": []
  },
  {
   "cell_type": "code",
   "execution_count": 2,
   "metadata": {},
   "outputs": [],
   "source": [
    "grid_raw = geopandas.read_file('/home/philipp/Data/edin_diss/GIS_grid/GIS_grid_raw_man_filter.shp')"
   ]
  },
  {
   "cell_type": "code",
   "execution_count": 3,
   "metadata": {},
   "outputs": [
    {
     "data": {
      "text/plain": [
       "959189"
      ]
     },
     "execution_count": 3,
     "metadata": {},
     "output_type": "execute_result"
    }
   ],
   "source": [
    "grid_raw.shape[0]"
   ]
  },
  {
   "cell_type": "code",
   "execution_count": 4,
   "metadata": {},
   "outputs": [],
   "source": [
    "path = \"/home/philipp/Data/edin_diss/GIS_grid/parts_raw_4/\"\n",
    "\n",
    "n = 4\n",
    "part = int(round(grid_raw.shape[0]/n,0))\n",
    "\n",
    "for i in range(n):\n",
    "    if i == n-1:\n",
    "        grid_raw.iloc[i*part:].to_file(path + \"GIS_grid_raw_\" + str(i) + \".shp\")\n",
    "    else:\n",
    "        grid_raw.iloc[i*part:(i+1)*part].to_file(path + \"GIS_grid_raw_\" + str(i) + \".shp\")"
   ]
  },
  {
   "cell_type": "code",
   "execution_count": null,
   "metadata": {},
   "outputs": [],
   "source": []
  },
  {
   "cell_type": "code",
   "execution_count": 11,
   "metadata": {},
   "outputs": [],
   "source": [
    "grid_raw.iloc[:part].to_file(\"/home/philipp/Data/edin_diss/GIS_grid/parts/GIS_grid_raw_filtered_0.shp\")"
   ]
  },
  {
   "cell_type": "code",
   "execution_count": 12,
   "metadata": {},
   "outputs": [],
   "source": [
    "grid_raw.iloc[part:2*part].to_file(\"/home/philipp/Data/edin_diss/GIS_grid/GIS_grid_raw_filtered_1.shp\")\n",
    "grid_raw.iloc[2*part:3*part].to_file(\"/home/philipp/Data/edin_diss/GIS_grid/GIS_grid_raw_filtered_2.shp\")\n",
    "grid_raw.iloc[3*part:4*part].to_file(\"/home/philipp/Data/edin_diss/GIS_grid/GIS_grid_raw_filtered_3.shp\")\n",
    "grid_raw.iloc[4*part:].to_file(\"/home/philipp/Data/edin_diss/GIS_grid/GIS_grid_raw_filtered_4.shp\")"
   ]
  },
  {
   "cell_type": "code",
   "execution_count": 5,
   "metadata": {},
   "outputs": [],
   "source": [
    "grid_raw.iloc[:100].to_file(\"/home/philipp/Data/edin_diss/GIS_grid/parts_raw_4/GIS_grid_raw_100.shp\")"
   ]
  },
  {
   "cell_type": "code",
   "execution_count": 6,
   "metadata": {},
   "outputs": [
    {
     "data": {
      "text/plain": [
       "39.966208333333334"
      ]
     },
     "execution_count": 6,
     "metadata": {},
     "output_type": "execute_result"
    }
   ],
   "source": [
    "959189/100/60/4"
   ]
  },
  {
   "cell_type": "code",
   "execution_count": null,
   "metadata": {},
   "outputs": [],
   "source": []
  },
  {
   "cell_type": "code",
   "execution_count": null,
   "metadata": {},
   "outputs": [],
   "source": [
    "# delete not needed attributes from cilper"
   ]
  },
  {
   "cell_type": "code",
   "execution_count": 2,
   "metadata": {},
   "outputs": [],
   "source": [
    "grid_raw = geopandas.read_file('/home/philipp/Data/edin_diss/GIS_grid/GIS_grid_dissolved_wo.shp')"
   ]
  },
  {
   "cell_type": "code",
   "execution_count": 3,
   "metadata": {},
   "outputs": [
    {
     "data": {
      "text/plain": [
       "Index(['FB_KURZ', 'FB_LANG', 'FR_KURZ', 'FR_LANG', 'ABTEILUNG', 'UNTERABTEI',\n",
       "       'FARBCODE', 'LINKID', 'SHAPE_Leng', 'SHAPE_Area', 'year_data', 'id',\n",
       "       'FB', 'FR', 'Abt', 'UAbt', 'TFl', 'Esit', 'Bwirt', 'SWKat', 'Stoe',\n",
       "       'Vtyp', 'Wgeb', 'year_start', 'year_end', 'geometry'],\n",
       "      dtype='object')"
      ]
     },
     "execution_count": 3,
     "metadata": {},
     "output_type": "execute_result"
    }
   ],
   "source": [
    "grid_raw.columns"
   ]
  },
  {
   "cell_type": "code",
   "execution_count": 4,
   "metadata": {},
   "outputs": [],
   "source": [
    "grid_raw = grid_raw.drop(columns=['FB_KURZ', 'FB_LANG', 'FR_KURZ', 'FR_LANG', 'ABTEILUNG', 'UNTERABTEI', \\\n",
    "                                  'FARBCODE', 'LINKID', 'id', 'FB', 'FR', 'Abt', 'UAbt', 'TFl', 'Esit', \\\n",
    "                                  'Bwirt', 'SWKat', 'Stoe', 'Vtyp', 'Wgeb', 'year_start', 'year_end'])"
   ]
  },
  {
   "cell_type": "code",
   "execution_count": 5,
   "metadata": {},
   "outputs": [
    {
     "data": {
      "text/html": [
       "<div>\n",
       "<style scoped>\n",
       "    .dataframe tbody tr th:only-of-type {\n",
       "        vertical-align: middle;\n",
       "    }\n",
       "\n",
       "    .dataframe tbody tr th {\n",
       "        vertical-align: top;\n",
       "    }\n",
       "\n",
       "    .dataframe thead th {\n",
       "        text-align: right;\n",
       "    }\n",
       "</style>\n",
       "<table border=\"1\" class=\"dataframe\">\n",
       "  <thead>\n",
       "    <tr style=\"text-align: right;\">\n",
       "      <th></th>\n",
       "      <th>SHAPE_Leng</th>\n",
       "      <th>SHAPE_Area</th>\n",
       "      <th>year_data</th>\n",
       "      <th>geometry</th>\n",
       "    </tr>\n",
       "  </thead>\n",
       "  <tbody>\n",
       "    <tr>\n",
       "      <th>0</th>\n",
       "      <td>1490.713604</td>\n",
       "      <td>31382.525999</td>\n",
       "      <td>2019</td>\n",
       "      <td>MULTIPOLYGON (((426689.258 291445.923, 426693....</td>\n",
       "    </tr>\n",
       "  </tbody>\n",
       "</table>\n",
       "</div>"
      ],
      "text/plain": [
       "    SHAPE_Leng    SHAPE_Area  year_data  \\\n",
       "0  1490.713604  31382.525999       2019   \n",
       "\n",
       "                                            geometry  \n",
       "0  MULTIPOLYGON (((426689.258 291445.923, 426693....  "
      ]
     },
     "execution_count": 5,
     "metadata": {},
     "output_type": "execute_result"
    }
   ],
   "source": [
    "grid_raw"
   ]
  },
  {
   "cell_type": "code",
   "execution_count": 6,
   "metadata": {},
   "outputs": [],
   "source": [
    "grid_raw.to_file(\"/home/philipp/Data/edin_diss/GIS_grid/parts_raw_4/GIS_grid_dissolved_wo_clean.shp\")"
   ]
  },
  {
   "cell_type": "code",
   "execution_count": null,
   "metadata": {},
   "outputs": [],
   "source": []
  }
 ],
 "metadata": {
  "kernelspec": {
   "display_name": "geo",
   "language": "python",
   "name": "geo"
  },
  "language_info": {
   "codemirror_mode": {
    "name": "ipython",
    "version": 3
   },
   "file_extension": ".py",
   "mimetype": "text/x-python",
   "name": "python",
   "nbconvert_exporter": "python",
   "pygments_lexer": "ipython3",
   "version": "3.8.2"
  }
 },
 "nbformat": 4,
 "nbformat_minor": 4
}
