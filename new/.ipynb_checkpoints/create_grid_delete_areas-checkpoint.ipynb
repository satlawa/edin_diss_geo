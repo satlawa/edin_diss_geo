{
 "cells": [
  {
   "cell_type": "code",
   "execution_count": 1,
   "metadata": {},
   "outputs": [],
   "source": [
    "import sys\n",
    "import geopandas\n",
    "import pandas as pd\n",
    "try:\n",
    "    from osgeo import ogr, osr, gdal\n",
    "except:\n",
    "    sys.exit('ERROR: cannot find GDAL/OGR modules')"
   ]
  },
  {
   "cell_type": "code",
   "execution_count": null,
   "metadata": {},
   "outputs": [],
   "source": [
    "grid_raw = geopandas.read_file('/home/philipp/Data/edin_diss/GIS_grid/GIS_grid_raw.shp')"
   ]
  },
  {
   "cell_type": "code",
   "execution_count": null,
   "metadata": {},
   "outputs": [],
   "source": [
    "grid_raw"
   ]
  },
  {
   "cell_type": "markdown",
   "metadata": {},
   "source": [
    "### cut out parts without ÖBF area (to speed up computation)"
   ]
  },
  {
   "cell_type": "code",
   "execution_count": 4,
   "metadata": {},
   "outputs": [],
   "source": [
    "# I.\n",
    "grid_raw = grid_raw[~((grid_raw['left'] < 356500) & (grid_raw['top'] > 427300))]"
   ]
  },
  {
   "cell_type": "code",
   "execution_count": 5,
   "metadata": {},
   "outputs": [],
   "source": [
    "# II.\n",
    "grid_raw = grid_raw[~((grid_raw['left'] < 520000) & (grid_raw['top'] > 470000))]"
   ]
  },
  {
   "cell_type": "code",
   "execution_count": 6,
   "metadata": {},
   "outputs": [],
   "source": [
    "# III.\n",
    "grid_raw = grid_raw[grid_raw['top'] < 552500]"
   ]
  },
  {
   "cell_type": "code",
   "execution_count": 7,
   "metadata": {},
   "outputs": [],
   "source": [
    "# IV.\n",
    "grid_raw = grid_raw[~((grid_raw['right'] > 583000) & (grid_raw['top'] > 495000))]"
   ]
  },
  {
   "cell_type": "code",
   "execution_count": 8,
   "metadata": {},
   "outputs": [],
   "source": [
    "# V.\n",
    "grid_raw = grid_raw[~((grid_raw['right'] > 484500) & (grid_raw['bottom'] < 351000))]"
   ]
  },
  {
   "cell_type": "code",
   "execution_count": 9,
   "metadata": {},
   "outputs": [],
   "source": [
    "# VI.\n",
    "grid_raw = grid_raw[~((grid_raw['right'] > 196000) & (grid_raw['bottom'] < 350000) & (grid_raw['left'] < 372000))]"
   ]
  },
  {
   "cell_type": "code",
   "execution_count": 10,
   "metadata": {},
   "outputs": [],
   "source": [
    "# VII.\n",
    "grid_raw = grid_raw[~((grid_raw['left'] < 196000) & (grid_raw['bottom'] < 337000))]"
   ]
  },
  {
   "cell_type": "code",
   "execution_count": 11,
   "metadata": {},
   "outputs": [],
   "source": [
    "# VIII.\n",
    "grid_raw = grid_raw[~((grid_raw['right'] > 452500) & (grid_raw['bottom'] < 408000) & (grid_raw['left'] < 577500) & (grid_raw['top'] > 370000))]"
   ]
  },
  {
   "cell_type": "code",
   "execution_count": 12,
   "metadata": {},
   "outputs": [
    {
     "data": {
      "text/plain": [
       "(5635990, 6)"
      ]
     },
     "execution_count": 12,
     "metadata": {},
     "output_type": "execute_result"
    }
   ],
   "source": [
    "grid_raw.shape"
   ]
  },
  {
   "cell_type": "code",
   "execution_count": 31,
   "metadata": {},
   "outputs": [
    {
     "data": {
      "text/plain": [
       "(5671876, 6)"
      ]
     },
     "execution_count": 31,
     "metadata": {},
     "output_type": "execute_result"
    }
   ],
   "source": [
    "grid_raw.shape"
   ]
  },
  {
   "cell_type": "code",
   "execution_count": 13,
   "metadata": {},
   "outputs": [],
   "source": [
    "# save to file\n",
    "grid_raw.to_file(\"/home/philipp/Data/edin_diss/GIS_grid/GIS_grid_raw_filtered.shp\")"
   ]
  },
  {
   "cell_type": "code",
   "execution_count": null,
   "metadata": {},
   "outputs": [],
   "source": []
  },
  {
   "cell_type": "code",
   "execution_count": 2,
   "metadata": {},
   "outputs": [],
   "source": [
    "grid_raw = geopandas.read_file('/home/philipp/Data/edin_diss/GIS_grid/GIS_grid_raw_man_filter.shp')"
   ]
  },
  {
   "cell_type": "code",
   "execution_count": 3,
   "metadata": {},
   "outputs": [
    {
     "data": {
      "text/plain": [
       "959189"
      ]
     },
     "execution_count": 3,
     "metadata": {},
     "output_type": "execute_result"
    }
   ],
   "source": [
    "grid_raw.shape[0]"
   ]
  },
  {
   "cell_type": "markdown",
   "metadata": {},
   "source": [
    "### clip into pieces"
   ]
  },
  {
   "cell_type": "code",
   "execution_count": null,
   "metadata": {},
   "outputs": [],
   "source": [
    "path = \"/home/philipp/Data/edin_diss/GIS_grid/parts_raw/\"\n",
    "\n",
    "n = 7\n",
    "# calc portion of every part\n",
    "part = int(round(grid_raw.shape[0]/n,0))\n",
    "\n",
    "# split into parts\n",
    "for i in range(n):\n",
    "    if i == n-1:\n",
    "        grid_raw.iloc[i*part:].to_file(path + \"GIS_grid_raw_\" + str(i) + \".shp\")\n",
    "    else:\n",
    "        grid_raw.iloc[i*part:(i+1)*part].to_file(path + \"GIS_grid_raw_\" + str(i) + \".shp\")"
   ]
  },
  {
   "cell_type": "code",
   "execution_count": null,
   "metadata": {},
   "outputs": [],
   "source": []
  },
  {
   "cell_type": "code",
   "execution_count": 11,
   "metadata": {},
   "outputs": [],
   "source": [
    "grid_raw.iloc[:part].to_file(\"/home/philipp/Data/edin_diss/GIS_grid/parts/GIS_grid_raw_filtered_0.shp\")"
   ]
  },
  {
   "cell_type": "code",
   "execution_count": 12,
   "metadata": {},
   "outputs": [],
   "source": [
    "grid_raw.iloc[part:2*part].to_file(\"/home/philipp/Data/edin_diss/GIS_grid/GIS_grid_raw_filtered_1.shp\")\n",
    "grid_raw.iloc[2*part:3*part].to_file(\"/home/philipp/Data/edin_diss/GIS_grid/GIS_grid_raw_filtered_2.shp\")\n",
    "grid_raw.iloc[3*part:4*part].to_file(\"/home/philipp/Data/edin_diss/GIS_grid/GIS_grid_raw_filtered_3.shp\")\n",
    "grid_raw.iloc[4*part:].to_file(\"/home/philipp/Data/edin_diss/GIS_grid/GIS_grid_raw_filtered_4.shp\")"
   ]
  },
  {
   "cell_type": "code",
   "execution_count": 5,
   "metadata": {},
   "outputs": [],
   "source": [
    "grid_raw.iloc[:100].to_file(\"/home/philipp/Data/edin_diss/GIS_grid/parts_raw_4/GIS_grid_raw_100.shp\")"
   ]
  },
  {
   "cell_type": "code",
   "execution_count": 6,
   "metadata": {},
   "outputs": [
    {
     "data": {
      "text/plain": [
       "39.966208333333334"
      ]
     },
     "execution_count": 6,
     "metadata": {},
     "output_type": "execute_result"
    }
   ],
   "source": [
    "959189/100/60/4"
   ]
  },
  {
   "cell_type": "code",
   "execution_count": null,
   "metadata": {},
   "outputs": [],
   "source": []
  },
  {
   "cell_type": "markdown",
   "metadata": {},
   "source": [
    "### delete not needed attributes from cilper (ÖBF area)"
   ]
  },
  {
   "cell_type": "code",
   "execution_count": 2,
   "metadata": {},
   "outputs": [],
   "source": [
    "grid_raw = geopandas.read_file('/home/philipp/Data/edin_diss/GIS_grid/GIS_grid_dissolved_wo.shp')"
   ]
  },
  {
   "cell_type": "code",
   "execution_count": 3,
   "metadata": {},
   "outputs": [
    {
     "data": {
      "text/plain": [
       "Index(['FB_KURZ', 'FB_LANG', 'FR_KURZ', 'FR_LANG', 'ABTEILUNG', 'UNTERABTEI',\n",
       "       'FARBCODE', 'LINKID', 'SHAPE_Leng', 'SHAPE_Area', 'year_data', 'id',\n",
       "       'FB', 'FR', 'Abt', 'UAbt', 'TFl', 'Esit', 'Bwirt', 'SWKat', 'Stoe',\n",
       "       'Vtyp', 'Wgeb', 'year_start', 'year_end', 'geometry'],\n",
       "      dtype='object')"
      ]
     },
     "execution_count": 3,
     "metadata": {},
     "output_type": "execute_result"
    }
   ],
   "source": [
    "grid_raw.columns"
   ]
  },
  {
   "cell_type": "code",
   "execution_count": 4,
   "metadata": {},
   "outputs": [],
   "source": [
    "grid_raw = grid_raw.drop(columns=['FB_KURZ', 'FB_LANG', 'FR_KURZ', 'FR_LANG', 'ABTEILUNG', 'UNTERABTEI', \\\n",
    "                                  'FARBCODE', 'LINKID', 'id', 'FB', 'FR', 'Abt', 'UAbt', 'TFl', 'Esit', \\\n",
    "                                  'Bwirt', 'SWKat', 'Stoe', 'Vtyp', 'Wgeb', 'year_start', 'year_end'])"
   ]
  },
  {
   "cell_type": "code",
   "execution_count": 5,
   "metadata": {},
   "outputs": [
    {
     "data": {
      "text/html": [
       "<div>\n",
       "<style scoped>\n",
       "    .dataframe tbody tr th:only-of-type {\n",
       "        vertical-align: middle;\n",
       "    }\n",
       "\n",
       "    .dataframe tbody tr th {\n",
       "        vertical-align: top;\n",
       "    }\n",
       "\n",
       "    .dataframe thead th {\n",
       "        text-align: right;\n",
       "    }\n",
       "</style>\n",
       "<table border=\"1\" class=\"dataframe\">\n",
       "  <thead>\n",
       "    <tr style=\"text-align: right;\">\n",
       "      <th></th>\n",
       "      <th>SHAPE_Leng</th>\n",
       "      <th>SHAPE_Area</th>\n",
       "      <th>year_data</th>\n",
       "      <th>geometry</th>\n",
       "    </tr>\n",
       "  </thead>\n",
       "  <tbody>\n",
       "    <tr>\n",
       "      <th>0</th>\n",
       "      <td>1490.713604</td>\n",
       "      <td>31382.525999</td>\n",
       "      <td>2019</td>\n",
       "      <td>MULTIPOLYGON (((426689.258 291445.923, 426693....</td>\n",
       "    </tr>\n",
       "  </tbody>\n",
       "</table>\n",
       "</div>"
      ],
      "text/plain": [
       "    SHAPE_Leng    SHAPE_Area  year_data  \\\n",
       "0  1490.713604  31382.525999       2019   \n",
       "\n",
       "                                            geometry  \n",
       "0  MULTIPOLYGON (((426689.258 291445.923, 426693....  "
      ]
     },
     "execution_count": 5,
     "metadata": {},
     "output_type": "execute_result"
    }
   ],
   "source": [
    "grid_raw"
   ]
  },
  {
   "cell_type": "code",
   "execution_count": 6,
   "metadata": {},
   "outputs": [],
   "source": [
    "grid_raw.to_file(\"/home/philipp/Data/edin_diss/GIS_grid/parts_raw_4/GIS_grid_dissolved_wo_clean.shp\")"
   ]
  },
  {
   "cell_type": "code",
   "execution_count": null,
   "metadata": {},
   "outputs": [],
   "source": []
  },
  {
   "cell_type": "code",
   "execution_count": 2,
   "metadata": {},
   "outputs": [],
   "source": [
    "# fme process to estimate tiles with a share of more than 0.25 of the ÖBF area on the whole tile"
   ]
  },
  {
   "cell_type": "markdown",
   "metadata": {},
   "source": [
    "### merge files into one"
   ]
  },
  {
   "cell_type": "code",
   "execution_count": 2,
   "metadata": {},
   "outputs": [],
   "source": [
    "n = 7\n",
    "grids = []\n",
    "\n",
    "for i in range(7):\n",
    "    # read vector file\n",
    "    grids.append(geopandas.read_file('/home/philipp/Data/edin_diss/GIS_grid/parts_fin/GIS_grid_fin_' + str(i) + '.shp'))"
   ]
  },
  {
   "cell_type": "code",
   "execution_count": 5,
   "metadata": {},
   "outputs": [],
   "source": [
    "grid_all = grids[0].append(grids[1])"
   ]
  },
  {
   "cell_type": "code",
   "execution_count": 6,
   "metadata": {},
   "outputs": [],
   "source": [
    "for i in range(2,7):\n",
    "    grid_all = grid_all.append(grids[i])"
   ]
  },
  {
   "cell_type": "code",
   "execution_count": 7,
   "metadata": {},
   "outputs": [
    {
     "data": {
      "text/html": [
       "<div>\n",
       "<style scoped>\n",
       "    .dataframe tbody tr th:only-of-type {\n",
       "        vertical-align: middle;\n",
       "    }\n",
       "\n",
       "    .dataframe tbody tr th {\n",
       "        vertical-align: top;\n",
       "    }\n",
       "\n",
       "    .dataframe thead th {\n",
       "        text-align: right;\n",
       "    }\n",
       "</style>\n",
       "<table border=\"1\" class=\"dataframe\">\n",
       "  <thead>\n",
       "    <tr style=\"text-align: right;\">\n",
       "      <th></th>\n",
       "      <th>id</th>\n",
       "      <th>left</th>\n",
       "      <th>top</th>\n",
       "      <th>right</th>\n",
       "      <th>bottom</th>\n",
       "      <th>geometry</th>\n",
       "    </tr>\n",
       "  </thead>\n",
       "  <tbody>\n",
       "    <tr>\n",
       "      <th>0</th>\n",
       "      <td>1903.0</td>\n",
       "      <td>161058.5</td>\n",
       "      <td>356984.5152</td>\n",
       "      <td>161161.5</td>\n",
       "      <td>356881.5152</td>\n",
       "      <td>POLYGON ((161058.500 356984.515, 161161.500 35...</td>\n",
       "    </tr>\n",
       "    <tr>\n",
       "      <th>1</th>\n",
       "      <td>1904.0</td>\n",
       "      <td>161058.5</td>\n",
       "      <td>356881.8152</td>\n",
       "      <td>161161.5</td>\n",
       "      <td>356778.8152</td>\n",
       "      <td>POLYGON ((161058.500 356881.815, 161161.500 35...</td>\n",
       "    </tr>\n",
       "    <tr>\n",
       "      <th>2</th>\n",
       "      <td>1905.0</td>\n",
       "      <td>161058.5</td>\n",
       "      <td>356779.1152</td>\n",
       "      <td>161161.5</td>\n",
       "      <td>356676.1152</td>\n",
       "      <td>POLYGON ((161058.500 356779.115, 161161.500 35...</td>\n",
       "    </tr>\n",
       "    <tr>\n",
       "      <th>3</th>\n",
       "      <td>4478.0</td>\n",
       "      <td>161161.2</td>\n",
       "      <td>356984.5152</td>\n",
       "      <td>161264.2</td>\n",
       "      <td>356881.5152</td>\n",
       "      <td>POLYGON ((161161.200 356984.515, 161264.200 35...</td>\n",
       "    </tr>\n",
       "    <tr>\n",
       "      <th>4</th>\n",
       "      <td>4479.0</td>\n",
       "      <td>161161.2</td>\n",
       "      <td>356881.8152</td>\n",
       "      <td>161264.2</td>\n",
       "      <td>356778.8152</td>\n",
       "      <td>POLYGON ((161161.200 356881.815, 161264.200 35...</td>\n",
       "    </tr>\n",
       "  </tbody>\n",
       "</table>\n",
       "</div>"
      ],
      "text/plain": [
       "       id      left          top     right       bottom  \\\n",
       "0  1903.0  161058.5  356984.5152  161161.5  356881.5152   \n",
       "1  1904.0  161058.5  356881.8152  161161.5  356778.8152   \n",
       "2  1905.0  161058.5  356779.1152  161161.5  356676.1152   \n",
       "3  4478.0  161161.2  356984.5152  161264.2  356881.5152   \n",
       "4  4479.0  161161.2  356881.8152  161264.2  356778.8152   \n",
       "\n",
       "                                            geometry  \n",
       "0  POLYGON ((161058.500 356984.515, 161161.500 35...  \n",
       "1  POLYGON ((161058.500 356881.815, 161161.500 35...  \n",
       "2  POLYGON ((161058.500 356779.115, 161161.500 35...  \n",
       "3  POLYGON ((161161.200 356984.515, 161264.200 35...  \n",
       "4  POLYGON ((161161.200 356881.815, 161264.200 35...  "
      ]
     },
     "execution_count": 7,
     "metadata": {},
     "output_type": "execute_result"
    }
   ],
   "source": [
    "grid_all.head()"
   ]
  },
  {
   "cell_type": "code",
   "execution_count": 8,
   "metadata": {},
   "outputs": [
    {
     "data": {
      "text/plain": [
       "(352842, 6)"
      ]
     },
     "execution_count": 8,
     "metadata": {},
     "output_type": "execute_result"
    }
   ],
   "source": [
    "grid_all.shape"
   ]
  },
  {
   "cell_type": "code",
   "execution_count": 9,
   "metadata": {},
   "outputs": [
    {
     "name": "stdout",
     "output_type": "stream",
     "text": [
      "(41294, 6)\n",
      "(40924, 6)\n",
      "(48466, 6)\n",
      "(55285, 6)\n",
      "(56655, 6)\n",
      "(50241, 6)\n",
      "(59977, 6)\n"
     ]
    }
   ],
   "source": [
    "for i in range(7):\n",
    "    print(grids[i].shape)"
   ]
  },
  {
   "cell_type": "code",
   "execution_count": 10,
   "metadata": {},
   "outputs": [
    {
     "data": {
      "text/plain": [
       "352842"
      ]
     },
     "execution_count": 10,
     "metadata": {},
     "output_type": "execute_result"
    }
   ],
   "source": [
    "41294 + 40924 + 48466 + 55285 + 56655 + 50241 + 59977"
   ]
  },
  {
   "cell_type": "code",
   "execution_count": 12,
   "metadata": {},
   "outputs": [],
   "source": [
    "# save to file\n",
    "grid_all.to_file(\"/home/philipp/Data/edin_diss/GIS_grid/GIS_grid_fin.shp\")"
   ]
  },
  {
   "cell_type": "code",
   "execution_count": null,
   "metadata": {},
   "outputs": [],
   "source": []
  }
 ],
 "metadata": {
  "kernelspec": {
   "display_name": "geo",
   "language": "python",
   "name": "geo"
  },
  "language_info": {
   "codemirror_mode": {
    "name": "ipython",
    "version": 3
   },
   "file_extension": ".py",
   "mimetype": "text/x-python",
   "name": "python",
   "nbconvert_exporter": "python",
   "pygments_lexer": "ipython3",
   "version": "3.8.2"
  }
 },
 "nbformat": 4,
 "nbformat_minor": 4
}
