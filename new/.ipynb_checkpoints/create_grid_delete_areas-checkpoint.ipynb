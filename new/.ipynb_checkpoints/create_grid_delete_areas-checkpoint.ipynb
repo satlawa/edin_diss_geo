{
 "cells": [
  {
   "cell_type": "code",
   "execution_count": 1,
   "metadata": {},
   "outputs": [],
   "source": [
    "import sys\n",
    "import geopandas\n",
    "import pandas as pd\n",
    "try:\n",
    "    from osgeo import ogr, osr, gdal\n",
    "except:\n",
    "    sys.exit('ERROR: cannot find GDAL/OGR modules')"
   ]
  },
  {
   "cell_type": "code",
   "execution_count": 2,
   "metadata": {},
   "outputs": [],
   "source": [
    "grid_raw = geopandas.read_file('/home/philipp/Data/edin_diss/GIS_grid/GIS_grid_raw.shp')"
   ]
  },
  {
   "cell_type": "code",
   "execution_count": 3,
   "metadata": {},
   "outputs": [
    {
     "data": {
      "text/html": [
       "<div>\n",
       "<style scoped>\n",
       "    .dataframe tbody tr th:only-of-type {\n",
       "        vertical-align: middle;\n",
       "    }\n",
       "\n",
       "    .dataframe tbody tr th {\n",
       "        vertical-align: top;\n",
       "    }\n",
       "\n",
       "    .dataframe thead th {\n",
       "        text-align: right;\n",
       "    }\n",
       "</style>\n",
       "<table border=\"1\" class=\"dataframe\">\n",
       "  <thead>\n",
       "    <tr style=\"text-align: right;\">\n",
       "      <th></th>\n",
       "      <th>id</th>\n",
       "      <th>left</th>\n",
       "      <th>top</th>\n",
       "      <th>right</th>\n",
       "      <th>bottom</th>\n",
       "      <th>geometry</th>\n",
       "    </tr>\n",
       "  </thead>\n",
       "  <tbody>\n",
       "    <tr>\n",
       "      <th>0</th>\n",
       "      <td>1.0</td>\n",
       "      <td>161058.5</td>\n",
       "      <td>552319.9152</td>\n",
       "      <td>161161.5</td>\n",
       "      <td>552216.9152</td>\n",
       "      <td>POLYGON ((161058.500 552319.915, 161161.500 55...</td>\n",
       "    </tr>\n",
       "    <tr>\n",
       "      <th>1</th>\n",
       "      <td>2.0</td>\n",
       "      <td>161058.5</td>\n",
       "      <td>552217.2152</td>\n",
       "      <td>161161.5</td>\n",
       "      <td>552114.2152</td>\n",
       "      <td>POLYGON ((161058.500 552217.215, 161161.500 55...</td>\n",
       "    </tr>\n",
       "    <tr>\n",
       "      <th>2</th>\n",
       "      <td>3.0</td>\n",
       "      <td>161058.5</td>\n",
       "      <td>552114.5152</td>\n",
       "      <td>161161.5</td>\n",
       "      <td>552011.5152</td>\n",
       "      <td>POLYGON ((161058.500 552114.515, 161161.500 55...</td>\n",
       "    </tr>\n",
       "    <tr>\n",
       "      <th>3</th>\n",
       "      <td>4.0</td>\n",
       "      <td>161058.5</td>\n",
       "      <td>552011.8152</td>\n",
       "      <td>161161.5</td>\n",
       "      <td>551908.8152</td>\n",
       "      <td>POLYGON ((161058.500 552011.815, 161161.500 55...</td>\n",
       "    </tr>\n",
       "    <tr>\n",
       "      <th>4</th>\n",
       "      <td>5.0</td>\n",
       "      <td>161058.5</td>\n",
       "      <td>551909.1152</td>\n",
       "      <td>161161.5</td>\n",
       "      <td>551806.1152</td>\n",
       "      <td>POLYGON ((161058.500 551909.115, 161161.500 55...</td>\n",
       "    </tr>\n",
       "    <tr>\n",
       "      <th>...</th>\n",
       "      <td>...</td>\n",
       "      <td>...</td>\n",
       "      <td>...</td>\n",
       "      <td>...</td>\n",
       "      <td>...</td>\n",
       "      <td>...</td>\n",
       "    </tr>\n",
       "    <tr>\n",
       "      <th>12223520</th>\n",
       "      <td>12223521.0</td>\n",
       "      <td>648472.7</td>\n",
       "      <td>288380.9152</td>\n",
       "      <td>648575.7</td>\n",
       "      <td>288277.9152</td>\n",
       "      <td>POLYGON ((648472.700 288380.915, 648575.700 28...</td>\n",
       "    </tr>\n",
       "    <tr>\n",
       "      <th>12223521</th>\n",
       "      <td>12223522.0</td>\n",
       "      <td>648472.7</td>\n",
       "      <td>288278.2152</td>\n",
       "      <td>648575.7</td>\n",
       "      <td>288175.2152</td>\n",
       "      <td>POLYGON ((648472.700 288278.215, 648575.700 28...</td>\n",
       "    </tr>\n",
       "    <tr>\n",
       "      <th>12223522</th>\n",
       "      <td>12223523.0</td>\n",
       "      <td>648472.7</td>\n",
       "      <td>288175.5152</td>\n",
       "      <td>648575.7</td>\n",
       "      <td>288072.5152</td>\n",
       "      <td>POLYGON ((648472.700 288175.515, 648575.700 28...</td>\n",
       "    </tr>\n",
       "    <tr>\n",
       "      <th>12223523</th>\n",
       "      <td>12223524.0</td>\n",
       "      <td>648472.7</td>\n",
       "      <td>288072.8152</td>\n",
       "      <td>648575.7</td>\n",
       "      <td>287969.8152</td>\n",
       "      <td>POLYGON ((648472.700 288072.815, 648575.700 28...</td>\n",
       "    </tr>\n",
       "    <tr>\n",
       "      <th>12223524</th>\n",
       "      <td>12223525.0</td>\n",
       "      <td>648472.7</td>\n",
       "      <td>287970.1152</td>\n",
       "      <td>648575.7</td>\n",
       "      <td>287867.1152</td>\n",
       "      <td>POLYGON ((648472.700 287970.115, 648575.700 28...</td>\n",
       "    </tr>\n",
       "  </tbody>\n",
       "</table>\n",
       "<p>12223525 rows × 6 columns</p>\n",
       "</div>"
      ],
      "text/plain": [
       "                  id      left          top     right       bottom  \\\n",
       "0                1.0  161058.5  552319.9152  161161.5  552216.9152   \n",
       "1                2.0  161058.5  552217.2152  161161.5  552114.2152   \n",
       "2                3.0  161058.5  552114.5152  161161.5  552011.5152   \n",
       "3                4.0  161058.5  552011.8152  161161.5  551908.8152   \n",
       "4                5.0  161058.5  551909.1152  161161.5  551806.1152   \n",
       "...              ...       ...          ...       ...          ...   \n",
       "12223520  12223521.0  648472.7  288380.9152  648575.7  288277.9152   \n",
       "12223521  12223522.0  648472.7  288278.2152  648575.7  288175.2152   \n",
       "12223522  12223523.0  648472.7  288175.5152  648575.7  288072.5152   \n",
       "12223523  12223524.0  648472.7  288072.8152  648575.7  287969.8152   \n",
       "12223524  12223525.0  648472.7  287970.1152  648575.7  287867.1152   \n",
       "\n",
       "                                                   geometry  \n",
       "0         POLYGON ((161058.500 552319.915, 161161.500 55...  \n",
       "1         POLYGON ((161058.500 552217.215, 161161.500 55...  \n",
       "2         POLYGON ((161058.500 552114.515, 161161.500 55...  \n",
       "3         POLYGON ((161058.500 552011.815, 161161.500 55...  \n",
       "4         POLYGON ((161058.500 551909.115, 161161.500 55...  \n",
       "...                                                     ...  \n",
       "12223520  POLYGON ((648472.700 288380.915, 648575.700 28...  \n",
       "12223521  POLYGON ((648472.700 288278.215, 648575.700 28...  \n",
       "12223522  POLYGON ((648472.700 288175.515, 648575.700 28...  \n",
       "12223523  POLYGON ((648472.700 288072.815, 648575.700 28...  \n",
       "12223524  POLYGON ((648472.700 287970.115, 648575.700 28...  \n",
       "\n",
       "[12223525 rows x 6 columns]"
      ]
     },
     "execution_count": 3,
     "metadata": {},
     "output_type": "execute_result"
    }
   ],
   "source": [
    "grid_raw"
   ]
  },
  {
   "cell_type": "code",
   "execution_count": 4,
   "metadata": {},
   "outputs": [],
   "source": [
    "# I.\n",
    "grid_raw = grid_raw[~((grid_raw['left'] < 356500) & (grid_raw['top'] > 427300))]"
   ]
  },
  {
   "cell_type": "code",
   "execution_count": 5,
   "metadata": {},
   "outputs": [],
   "source": [
    "# II.\n",
    "grid_raw = grid_raw[~((grid_raw['left'] < 520000) & (grid_raw['top'] > 470000))]"
   ]
  },
  {
   "cell_type": "code",
   "execution_count": 6,
   "metadata": {},
   "outputs": [],
   "source": [
    "# III.\n",
    "grid_raw = grid_raw[grid_raw['top'] < 552500]"
   ]
  },
  {
   "cell_type": "code",
   "execution_count": 7,
   "metadata": {},
   "outputs": [],
   "source": [
    "# IV.\n",
    "grid_raw = grid_raw[~((grid_raw['right'] > 583000) & (grid_raw['top'] > 495000))]"
   ]
  },
  {
   "cell_type": "code",
   "execution_count": 8,
   "metadata": {},
   "outputs": [],
   "source": [
    "# V.\n",
    "grid_raw = grid_raw[~((grid_raw['right'] > 484500) & (grid_raw['bottom'] < 351000))]"
   ]
  },
  {
   "cell_type": "code",
   "execution_count": 9,
   "metadata": {},
   "outputs": [],
   "source": [
    "# VI.\n",
    "grid_raw = grid_raw[~((grid_raw['right'] > 196000) & (grid_raw['bottom'] < 350000) & (grid_raw['left'] < 372000))]"
   ]
  },
  {
   "cell_type": "code",
   "execution_count": 10,
   "metadata": {},
   "outputs": [],
   "source": [
    "# VII.\n",
    "grid_raw = grid_raw[~((grid_raw['left'] < 196000) & (grid_raw['bottom'] < 337000))]"
   ]
  },
  {
   "cell_type": "code",
   "execution_count": 11,
   "metadata": {},
   "outputs": [],
   "source": [
    "# VIII.\n",
    "grid_raw = grid_raw[~((grid_raw['right'] > 452500) & (grid_raw['bottom'] < 408000) & (grid_raw['left'] < 577500) & (grid_raw['top'] > 370000))]"
   ]
  },
  {
   "cell_type": "code",
   "execution_count": 12,
   "metadata": {},
   "outputs": [
    {
     "data": {
      "text/plain": [
       "(5635990, 6)"
      ]
     },
     "execution_count": 12,
     "metadata": {},
     "output_type": "execute_result"
    }
   ],
   "source": [
    "grid_raw.shape"
   ]
  },
  {
   "cell_type": "code",
   "execution_count": 31,
   "metadata": {},
   "outputs": [
    {
     "data": {
      "text/plain": [
       "(5671876, 6)"
      ]
     },
     "execution_count": 31,
     "metadata": {},
     "output_type": "execute_result"
    }
   ],
   "source": [
    "grid_raw.shape"
   ]
  },
  {
   "cell_type": "code",
   "execution_count": 13,
   "metadata": {},
   "outputs": [],
   "source": [
    "# save to file\n",
    "grid_raw.to_file(\"/home/philipp/Data/edin_diss/GIS_grid/GIS_grid_raw_filtered.shp\")"
   ]
  },
  {
   "cell_type": "code",
   "execution_count": null,
   "metadata": {},
   "outputs": [],
   "source": []
  },
  {
   "cell_type": "code",
   "execution_count": 2,
   "metadata": {},
   "outputs": [],
   "source": [
    "grid_raw = geopandas.read_file('/home/philipp/Data/edin_diss/GIS_grid/GIS_grid_raw_man_filter.shp')"
   ]
  },
  {
   "cell_type": "code",
   "execution_count": 3,
   "metadata": {},
   "outputs": [
    {
     "data": {
      "text/plain": [
       "959189"
      ]
     },
     "execution_count": 3,
     "metadata": {},
     "output_type": "execute_result"
    }
   ],
   "source": [
    "grid_raw.shape[0]"
   ]
  },
  {
   "cell_type": "code",
   "execution_count": 4,
   "metadata": {},
   "outputs": [],
   "source": [
    "path = \"/home/philipp/Data/edin_diss/GIS_grid/parts_raw_4/\"\n",
    "\n",
    "n = 4\n",
    "part = int(round(grid_raw.shape[0]/n,0))\n",
    "\n",
    "for i in range(n):\n",
    "    if i == n-1:\n",
    "        grid_raw.iloc[i*part:].to_file(path + \"GIS_grid_raw_\" + str(i) + \".shp\")\n",
    "    else:\n",
    "        grid_raw.iloc[i*part:(i+1)*part].to_file(path + \"GIS_grid_raw_\" + str(i) + \".shp\")"
   ]
  },
  {
   "cell_type": "code",
   "execution_count": null,
   "metadata": {},
   "outputs": [],
   "source": []
  },
  {
   "cell_type": "code",
   "execution_count": 11,
   "metadata": {},
   "outputs": [],
   "source": [
    "grid_raw.iloc[:part].to_file(\"/home/philipp/Data/edin_diss/GIS_grid/parts/GIS_grid_raw_filtered_0.shp\")"
   ]
  },
  {
   "cell_type": "code",
   "execution_count": 12,
   "metadata": {},
   "outputs": [],
   "source": [
    "grid_raw.iloc[part:2*part].to_file(\"/home/philipp/Data/edin_diss/GIS_grid/GIS_grid_raw_filtered_1.shp\")\n",
    "grid_raw.iloc[2*part:3*part].to_file(\"/home/philipp/Data/edin_diss/GIS_grid/GIS_grid_raw_filtered_2.shp\")\n",
    "grid_raw.iloc[3*part:4*part].to_file(\"/home/philipp/Data/edin_diss/GIS_grid/GIS_grid_raw_filtered_3.shp\")\n",
    "grid_raw.iloc[4*part:].to_file(\"/home/philipp/Data/edin_diss/GIS_grid/GIS_grid_raw_filtered_4.shp\")"
   ]
  },
  {
   "cell_type": "code",
   "execution_count": 5,
   "metadata": {},
   "outputs": [],
   "source": [
    "grid_raw.iloc[:100].to_file(\"/home/philipp/Data/edin_diss/GIS_grid/parts_raw_4/GIS_grid_raw_100.shp\")"
   ]
  },
  {
   "cell_type": "code",
   "execution_count": 6,
   "metadata": {},
   "outputs": [
    {
     "data": {
      "text/plain": [
       "39.966208333333334"
      ]
     },
     "execution_count": 6,
     "metadata": {},
     "output_type": "execute_result"
    }
   ],
   "source": [
    "959189/100/60/4"
   ]
  },
  {
   "cell_type": "code",
   "execution_count": null,
   "metadata": {},
   "outputs": [],
   "source": []
  }
 ],
 "metadata": {
  "kernelspec": {
   "display_name": "geo",
   "language": "python",
   "name": "geo"
  },
  "language_info": {
   "codemirror_mode": {
    "name": "ipython",
    "version": 3
   },
   "file_extension": ".py",
   "mimetype": "text/x-python",
   "name": "python",
   "nbconvert_exporter": "python",
   "pygments_lexer": "ipython3",
   "version": "3.8.2"
  }
 },
 "nbformat": 4,
 "nbformat_minor": 4
}
