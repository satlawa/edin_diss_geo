{
 "cells": [
  {
   "cell_type": "code",
   "execution_count": 14,
   "metadata": {},
   "outputs": [],
   "source": [
    "import sys\n",
    "import os\n",
    "\n",
    "import geopandas as gpd\n",
    "import pandas as pd\n",
    "\n",
    "from shapely.geometry import Polygon\n",
    "from osgeo import gdal"
   ]
  },
  {
   "cell_type": "code",
   "execution_count": 2,
   "metadata": {},
   "outputs": [],
   "source": [
    "def get_extend(file_path):\n",
    "    src = gdal.Open(file_path)\n",
    "    ulx, xres, xskew, uly, yskew, yres  = src.GetGeoTransform()\n",
    "    lrx = ulx + (src.RasterXSize * xres)\n",
    "    lry = uly + (src.RasterYSize * yres)\n",
    "    return(ulx,uly,lrx,lry)"
   ]
  },
  {
   "cell_type": "code",
   "execution_count": 120,
   "metadata": {},
   "outputs": [
    {
     "name": "stdout",
     "output_type": "stream",
     "text": [
      "upper left corner:  110076.57240882212 418412.32049253245\n",
      "lower right corner:  168338.57240882213 330382.32049253245\n"
     ]
    }
   ],
   "source": [
    "path_ortho = '/media/philipp/Seagate Desktop Drive/2018/2018410_vorarlberg_lb_rgbi.img'\n",
    "ulx,uly,lrx,lry = get_extend(path_ortho)\n",
    "\n",
    "print('upper left corner: ', ulx, uly)\n",
    "print('lower right corner: ', lrx, lry)"
   ]
  },
  {
   "cell_type": "code",
   "execution_count": 121,
   "metadata": {},
   "outputs": [
    {
     "data": {
      "image/svg+xml": [
       "<svg xmlns=\"http://www.w3.org/2000/svg\" xmlns:xlink=\"http://www.w3.org/1999/xlink\" width=\"300\" height=\"300\" viewBox=\"106555.37240882212 326861.12049253244 65304.40000000002 95072.40000000002\" preserveAspectRatio=\"xMinYMin meet\"><g transform=\"matrix(1,0,0,-1,0,748794.6409850649)\"><path fill-rule=\"evenodd\" fill=\"#66cc99\" stroke=\"#555555\" stroke-width=\"633.8160000000001\" opacity=\"0.6\" d=\"M 110076.57240882212,418412.32049253245 L 168338.57240882213,418412.32049253245 L 168338.57240882213,330382.32049253245 L 110076.57240882212,330382.32049253245 L 110076.57240882212,418412.32049253245 z\" /></g></svg>"
      ],
      "text/plain": [
       "<shapely.geometry.polygon.Polygon at 0x7fee8584f460>"
      ]
     },
     "execution_count": 121,
     "metadata": {},
     "output_type": "execute_result"
    }
   ],
   "source": [
    "Polygon([(ulx, uly), (lrx, uly), (lrx, lry), (ulx, lry)])"
   ]
  },
  {
   "cell_type": "code",
   "execution_count": 122,
   "metadata": {},
   "outputs": [],
   "source": [
    "d = {'name': ['Vorarlberg'], 'year': [2018], 'file': ['2018410_vorarlberg_lb_rgbi.img'], 'geometry': [Polygon([(ulx, uly), (lrx, uly), (lrx, lry), (ulx, lry)])]}"
   ]
  },
  {
   "cell_type": "code",
   "execution_count": 123,
   "metadata": {},
   "outputs": [],
   "source": [
    "gdf = gpd.GeoDataFrame(d, crs=\"EPSG:31287\")"
   ]
  },
  {
   "cell_type": "code",
   "execution_count": 124,
   "metadata": {},
   "outputs": [],
   "source": [
    "gdf.to_file(\"/home/philipp/Data/edin_diss/GIS_meta/2018/vorarlberg/vorarlberg.shp\")"
   ]
  },
  {
   "cell_type": "code",
   "execution_count": null,
   "metadata": {},
   "outputs": [],
   "source": []
  }
 ],
 "metadata": {
  "kernelspec": {
   "display_name": "geo",
   "language": "python",
   "name": "geo"
  },
  "language_info": {
   "codemirror_mode": {
    "name": "ipython",
    "version": 3
   },
   "file_extension": ".py",
   "mimetype": "text/x-python",
   "name": "python",
   "nbconvert_exporter": "python",
   "pygments_lexer": "ipython3",
   "version": "3.8.2"
  }
 },
 "nbformat": 4,
 "nbformat_minor": 4
}
