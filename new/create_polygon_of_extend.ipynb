{
 "cells": [
  {
   "cell_type": "code",
   "execution_count": 1,
   "metadata": {},
   "outputs": [],
   "source": [
    "import sys\n",
    "import os\n",
    "\n",
    "import geopandas as gpd\n",
    "import pandas as pd\n",
    "\n",
    "from shapely.geometry import Polygon\n",
    "from osgeo import gdal"
   ]
  },
  {
   "cell_type": "code",
   "execution_count": 2,
   "metadata": {},
   "outputs": [],
   "source": [
    "def get_extend(file_path):\n",
    "    src = gdal.Open(file_path)\n",
    "    ulx, xres, xskew, uly, yskew, yres  = src.GetGeoTransform()\n",
    "    lrx = ulx + (src.RasterXSize * xres)\n",
    "    lry = uly + (src.RasterYSize * yres)\n",
    "    return(ulx,uly,lrx,lry)"
   ]
  },
  {
   "cell_type": "code",
   "execution_count": 3,
   "metadata": {},
   "outputs": [
    {
     "name": "stdout",
     "output_type": "stream",
     "text": [
      "upper left corner:  596339.2880734366 492379.0654496529\n",
      "lower right corner:  687541.0880734366 423027.6654496529\n"
     ]
    }
   ],
   "source": [
    "path_ortho = '/media/philipp/Elements/2019/2019150_nordburgenland_lb_rgbi.img'\n",
    "ulx,uly,lrx,lry = get_extend(path_ortho)\n",
    "\n",
    "print('upper left corner: ', ulx, uly)\n",
    "print('lower right corner: ', lrx, lry)"
   ]
  },
  {
   "cell_type": "code",
   "execution_count": 4,
   "metadata": {},
   "outputs": [
    {
     "data": {
      "image/svg+xml": [
       "<svg xmlns=\"http://www.w3.org/2000/svg\" xmlns:xlink=\"http://www.w3.org/1999/xlink\" width=\"300\" height=\"300\" viewBox=\"592691.2160734365 419379.5934496529 98497.94400000013 76647.544\" preserveAspectRatio=\"xMinYMin meet\"><g transform=\"matrix(1,0,0,-1,0,915406.7308993058)\"><path fill-rule=\"evenodd\" fill=\"#66cc99\" stroke=\"#555555\" stroke-width=\"656.6529600000009\" opacity=\"0.6\" d=\"M 596339.2880734366,492379.0654496529 L 687541.0880734366,492379.0654496529 L 687541.0880734366,423027.6654496529 L 596339.2880734366,423027.6654496529 L 596339.2880734366,492379.0654496529 z\" /></g></svg>"
      ],
      "text/plain": [
       "<shapely.geometry.polygon.Polygon at 0x7efc10e171f0>"
      ]
     },
     "execution_count": 4,
     "metadata": {},
     "output_type": "execute_result"
    }
   ],
   "source": [
    "Polygon([(ulx, uly), (lrx, uly), (lrx, lry), (ulx, lry)])"
   ]
  },
  {
   "cell_type": "code",
   "execution_count": 5,
   "metadata": {},
   "outputs": [],
   "source": [
    "d = {'name': ['Nordburgenland'], 'year': [2019], 'file': ['2019150_nordburgenland_lb_rgbi.img'], 'geometry': [Polygon([(ulx, uly), (lrx, uly), (lrx, lry), (ulx, lry)])]}"
   ]
  },
  {
   "cell_type": "code",
   "execution_count": 6,
   "metadata": {},
   "outputs": [],
   "source": [
    "gdf = gpd.GeoDataFrame(d, crs=\"EPSG:31287\")"
   ]
  },
  {
   "cell_type": "code",
   "execution_count": 7,
   "metadata": {},
   "outputs": [],
   "source": [
    "gdf.to_file(\"/home/philipp/Data/edin_diss/GIS_meta/2019/nordburgenland.shp\")"
   ]
  },
  {
   "cell_type": "code",
   "execution_count": null,
   "metadata": {},
   "outputs": [],
   "source": []
  }
 ],
 "metadata": {
  "kernelspec": {
   "display_name": "geo",
   "language": "python",
   "name": "geo"
  },
  "language_info": {
   "codemirror_mode": {
    "name": "ipython",
    "version": 3
   },
   "file_extension": ".py",
   "mimetype": "text/x-python",
   "name": "python",
   "nbconvert_exporter": "python",
   "pygments_lexer": "ipython3",
   "version": "3.8.2"
  }
 },
 "nbformat": 4,
 "nbformat_minor": 4
}
