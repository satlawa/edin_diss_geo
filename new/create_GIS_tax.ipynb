{
 "cells": [
  {
   "cell_type": "code",
   "execution_count": null,
   "metadata": {},
   "outputs": [],
   "source": []
  },
  {
   "cell_type": "code",
   "execution_count": 1,
   "metadata": {},
   "outputs": [],
   "source": [
    "import sys\n",
    "import os\n",
    "\n",
    "import geopandas as gpd\n",
    "import pandas as pd\n",
    "\n",
    "from osgeo import gdal\n",
    "from pyproj import CRS"
   ]
  },
  {
   "cell_type": "markdown",
   "metadata": {},
   "source": [
    "## change coordinate system (CRS)"
   ]
  },
  {
   "cell_type": "code",
   "execution_count": null,
   "metadata": {},
   "outputs": [],
   "source": [
    "# load raw vector data\n",
    "db_data = gpd.read_file(\"/home/philipp/Data/edin_diss/GIS_tax/raw_vector_Stichtag_20200228.gdb\", layer=\"Waldorte\")"
   ]
  },
  {
   "cell_type": "code",
   "execution_count": null,
   "metadata": {},
   "outputs": [],
   "source": [
    "# define crs of orthophotos\n",
    "new_crs = CRS.from_user_input('PROJCS[\"Austria_Lambert\",GEOGCS[\"GCS_BESSEL_AUT\",DATUM[\"D_BESSEL_AUT\",SPHEROID[\"Bessel_1841\",6377397.155,299.1528128,AUTHORITY[\"EPSG\",\"7004\"]]],PRIMEM[\"Greenwich\",0],UNIT[\"degree\",0.0174532925199433,AUTHORITY[\"EPSG\",\"9122\"]]],PROJECTION[\"Lambert_Conformal_Conic_2SP\"],PARAMETER[\"latitude_of_origin\",47.5],PARAMETER[\"central_meridian\",13.333333333],PARAMETER[\"standard_parallel_1\",46],PARAMETER[\"standard_parallel_2\",49],PARAMETER[\"false_easting\",400000],PARAMETER[\"false_northing\",400000],UNIT[\"metre\",1,AUTHORITY[\"EPSG\",\"9001\"]],AXIS[\"Easting\",EAST],AXIS[\"Northing\",NORTH]]')\n",
    "# reproject to new crs\n",
    "db_data = db_data.to_crs(new_crs)"
   ]
  },
  {
   "cell_type": "code",
   "execution_count": null,
   "metadata": {},
   "outputs": [],
   "source": [
    "# add year the data is valid from\n",
    "db_data['year_data'] = 2019"
   ]
  },
  {
   "cell_type": "code",
   "execution_count": 5,
   "metadata": {},
   "outputs": [],
   "source": [
    "# save to file\n",
    "db_data.to_file(\"/home/philipp/Data/edin_diss/GIS_tax/gis_wo/gis_wo.shp\")"
   ]
  },
  {
   "cell_type": "markdown",
   "metadata": {},
   "source": [
    "## read data - GIS_tax"
   ]
  },
  {
   "cell_type": "code",
   "execution_count": 2,
   "metadata": {},
   "outputs": [],
   "source": [
    "# load raw vector data\n",
    "db_data = gpd.read_file(\"/home/philipp/Data/edin_diss/GIS_tax/gis_wo/gis_wo.shp\")"
   ]
  },
  {
   "cell_type": "code",
   "execution_count": 3,
   "metadata": {},
   "outputs": [
    {
     "data": {
      "text/html": [
       "<div>\n",
       "<style scoped>\n",
       "    .dataframe tbody tr th:only-of-type {\n",
       "        vertical-align: middle;\n",
       "    }\n",
       "\n",
       "    .dataframe tbody tr th {\n",
       "        vertical-align: top;\n",
       "    }\n",
       "\n",
       "    .dataframe thead th {\n",
       "        text-align: right;\n",
       "    }\n",
       "</style>\n",
       "<table border=\"1\" class=\"dataframe\">\n",
       "  <thead>\n",
       "    <tr style=\"text-align: right;\">\n",
       "      <th></th>\n",
       "      <th>FB_KURZ</th>\n",
       "      <th>FB_LANG</th>\n",
       "      <th>FR_KURZ</th>\n",
       "      <th>FR_LANG</th>\n",
       "      <th>ABTEILUNG</th>\n",
       "      <th>UNTERABTEI</th>\n",
       "      <th>FARBCODE</th>\n",
       "      <th>LINKID</th>\n",
       "      <th>SHAPE_Leng</th>\n",
       "      <th>SHAPE_Area</th>\n",
       "      <th>year_data</th>\n",
       "      <th>geometry</th>\n",
       "    </tr>\n",
       "  </thead>\n",
       "  <tbody>\n",
       "    <tr>\n",
       "      <th>0</th>\n",
       "      <td>179</td>\n",
       "      <td>Pongau</td>\n",
       "      <td>8</td>\n",
       "      <td>Gastein</td>\n",
       "      <td>647</td>\n",
       "      <td>C2</td>\n",
       "      <td>12000000000</td>\n",
       "      <td>{770B160D-349F-4E03-8E31-C09966044E95}</td>\n",
       "      <td>1490.713604</td>\n",
       "      <td>31382.525999</td>\n",
       "      <td>2019</td>\n",
       "      <td>POLYGON ((386279.300 358369.925, 386291.340 35...</td>\n",
       "    </tr>\n",
       "    <tr>\n",
       "      <th>1</th>\n",
       "      <td>179</td>\n",
       "      <td>Pongau</td>\n",
       "      <td>1</td>\n",
       "      <td>Filzmoos</td>\n",
       "      <td>376</td>\n",
       "      <td>G4</td>\n",
       "      <td>12000000000</td>\n",
       "      <td>{B0F0509B-37B0-42AD-866E-4B6D75DF4AA6}</td>\n",
       "      <td>377.331016</td>\n",
       "      <td>7873.920587</td>\n",
       "      <td>2019</td>\n",
       "      <td>POLYGON ((411127.657 394260.340, 411148.950 39...</td>\n",
       "    </tr>\n",
       "    <tr>\n",
       "      <th>2</th>\n",
       "      <td>179</td>\n",
       "      <td>Pongau</td>\n",
       "      <td>8</td>\n",
       "      <td>Gastein</td>\n",
       "      <td>689</td>\n",
       "      <td>I0</td>\n",
       "      <td>15000000000</td>\n",
       "      <td>{05C33B9A-5FEC-4754-97D8-D01CF5BDDD1C}</td>\n",
       "      <td>466.808748</td>\n",
       "      <td>10235.032218</td>\n",
       "      <td>2019</td>\n",
       "      <td>POLYGON ((380930.470 358686.725, 380935.880 35...</td>\n",
       "    </tr>\n",
       "    <tr>\n",
       "      <th>3</th>\n",
       "      <td>179</td>\n",
       "      <td>Pongau</td>\n",
       "      <td>4</td>\n",
       "      <td>Kleinarl</td>\n",
       "      <td>554</td>\n",
       "      <td>G0</td>\n",
       "      <td>35200300000</td>\n",
       "      <td>{6E9C11FE-55F5-4247-A2B5-202F122286F6}</td>\n",
       "      <td>1432.461887</td>\n",
       "      <td>39275.813450</td>\n",
       "      <td>2019</td>\n",
       "      <td>POLYGON ((397372.350 374393.005, 397368.830 37...</td>\n",
       "    </tr>\n",
       "    <tr>\n",
       "      <th>4</th>\n",
       "      <td>179</td>\n",
       "      <td>Pongau</td>\n",
       "      <td>3</td>\n",
       "      <td>Flachau</td>\n",
       "      <td>224</td>\n",
       "      <td>v_8/001</td>\n",
       "      <td>00000000008</td>\n",
       "      <td>{75650917-8ACF-46EF-912F-201029A152B2}</td>\n",
       "      <td>2062.772651</td>\n",
       "      <td>27072.555584</td>\n",
       "      <td>2019</td>\n",
       "      <td>POLYGON ((402954.780 381514.065, 402947.730 38...</td>\n",
       "    </tr>\n",
       "  </tbody>\n",
       "</table>\n",
       "</div>"
      ],
      "text/plain": [
       "   FB_KURZ FB_LANG  FR_KURZ   FR_LANG  ABTEILUNG UNTERABTEI     FARBCODE  \\\n",
       "0      179  Pongau        8   Gastein        647         C2  12000000000   \n",
       "1      179  Pongau        1  Filzmoos        376         G4  12000000000   \n",
       "2      179  Pongau        8   Gastein        689         I0  15000000000   \n",
       "3      179  Pongau        4  Kleinarl        554         G0  35200300000   \n",
       "4      179  Pongau        3   Flachau        224    v_8/001  00000000008   \n",
       "\n",
       "                                   LINKID   SHAPE_Leng    SHAPE_Area  \\\n",
       "0  {770B160D-349F-4E03-8E31-C09966044E95}  1490.713604  31382.525999   \n",
       "1  {B0F0509B-37B0-42AD-866E-4B6D75DF4AA6}   377.331016   7873.920587   \n",
       "2  {05C33B9A-5FEC-4754-97D8-D01CF5BDDD1C}   466.808748  10235.032218   \n",
       "3  {6E9C11FE-55F5-4247-A2B5-202F122286F6}  1432.461887  39275.813450   \n",
       "4  {75650917-8ACF-46EF-912F-201029A152B2}  2062.772651  27072.555584   \n",
       "\n",
       "   year_data                                           geometry  \n",
       "0       2019  POLYGON ((386279.300 358369.925, 386291.340 35...  \n",
       "1       2019  POLYGON ((411127.657 394260.340, 411148.950 39...  \n",
       "2       2019  POLYGON ((380930.470 358686.725, 380935.880 35...  \n",
       "3       2019  POLYGON ((397372.350 374393.005, 397368.830 37...  \n",
       "4       2019  POLYGON ((402954.780 381514.065, 402947.730 38...  "
      ]
     },
     "execution_count": 3,
     "metadata": {},
     "output_type": "execute_result"
    }
   ],
   "source": [
    "db_data.head()"
   ]
  },
  {
   "cell_type": "code",
   "execution_count": 4,
   "metadata": {},
   "outputs": [
    {
     "data": {
      "text/plain": [
       "<Projected CRS: PROJCS[\"Austria_Lambert\",GEOGCS[\"GCS_BESSEL_AUT\",D ...>\n",
       "Name: Austria_Lambert\n",
       "Axis Info [cartesian]:\n",
       "- [east]: Easting (metre)\n",
       "- [north]: Northing (metre)\n",
       "Area of Use:\n",
       "- undefined\n",
       "Coordinate Operation:\n",
       "- name: unnamed\n",
       "- method: Lambert Conic Conformal (2SP)\n",
       "Datum: D_BESSEL_AUT\n",
       "- Ellipsoid: Bessel 1841\n",
       "- Prime Meridian: Greenwich"
      ]
     },
     "execution_count": 4,
     "metadata": {},
     "output_type": "execute_result"
    }
   ],
   "source": [
    "db_data.crs"
   ]
  },
  {
   "cell_type": "code",
   "execution_count": 5,
   "metadata": {},
   "outputs": [
    {
     "data": {
      "text/plain": [
       "Index(['FB_KURZ', 'FB_LANG', 'FR_KURZ', 'FR_LANG', 'ABTEILUNG', 'UNTERABTEI',\n",
       "       'FARBCODE', 'LINKID', 'SHAPE_Leng', 'SHAPE_Area', 'year_data',\n",
       "       'geometry'],\n",
       "      dtype='object')"
      ]
     },
     "execution_count": 5,
     "metadata": {},
     "output_type": "execute_result"
    }
   ],
   "source": [
    "db_data.columns"
   ]
  },
  {
   "cell_type": "code",
   "execution_count": 6,
   "metadata": {},
   "outputs": [],
   "source": [
    "# create id\n",
    "db_data['id'] = db_data['FB_KURZ'].astype(str) + db_data['FR_KURZ'].astype(str) + \\\n",
    "                db_data['ABTEILUNG'].astype(str) + db_data['UNTERABTEI'].astype(str)"
   ]
  },
  {
   "cell_type": "code",
   "execution_count": 7,
   "metadata": {},
   "outputs": [
    {
     "data": {
      "text/plain": [
       "0              1798647C2\n",
       "1              1791376G4\n",
       "2              1798689I0\n",
       "3              1794554G0\n",
       "4         1793224v_8/001\n",
       "               ...      \n",
       "373121         8411480B2\n",
       "373122    8411209v_8/006\n",
       "373123         8411172A2\n",
       "373124         8411511P5\n",
       "373125     841150v_3/001\n",
       "Name: id, Length: 373126, dtype: object"
      ]
     },
     "execution_count": 7,
     "metadata": {},
     "output_type": "execute_result"
    }
   ],
   "source": [
    "db_data['id']"
   ]
  },
  {
   "cell_type": "markdown",
   "metadata": {},
   "source": [
    "## read data - SAP_tax"
   ]
  },
  {
   "cell_type": "code",
   "execution_count": 2,
   "metadata": {},
   "outputs": [],
   "source": [
    "# load data about SAP tax\n",
    "sap_path = \"/home/philipp/Data/edin_diss/SAP_tax\"\n",
    "sap_tax = pd.read_csv(sap_path + \"/sap_meta.csv\", sep=',')\n",
    "\n",
    "year_data = '2019'"
   ]
  },
  {
   "cell_type": "code",
   "execution_count": 3,
   "metadata": {},
   "outputs": [
    {
     "data": {
      "text/html": [
       "<div>\n",
       "<style scoped>\n",
       "    .dataframe tbody tr th:only-of-type {\n",
       "        vertical-align: middle;\n",
       "    }\n",
       "\n",
       "    .dataframe tbody tr th {\n",
       "        vertical-align: top;\n",
       "    }\n",
       "\n",
       "    .dataframe thead th {\n",
       "        text-align: right;\n",
       "    }\n",
       "</style>\n",
       "<table border=\"1\" class=\"dataframe\">\n",
       "  <thead>\n",
       "    <tr style=\"text-align: right;\">\n",
       "      <th></th>\n",
       "      <th>FB</th>\n",
       "      <th>FR</th>\n",
       "      <th>2007</th>\n",
       "      <th>2008</th>\n",
       "      <th>2009</th>\n",
       "      <th>2010</th>\n",
       "      <th>2011</th>\n",
       "      <th>2012</th>\n",
       "      <th>2013</th>\n",
       "      <th>2014</th>\n",
       "      <th>2015</th>\n",
       "      <th>2016</th>\n",
       "      <th>2017</th>\n",
       "      <th>2018</th>\n",
       "      <th>2019</th>\n",
       "      <th>2020</th>\n",
       "      <th>2021</th>\n",
       "    </tr>\n",
       "  </thead>\n",
       "  <tbody>\n",
       "    <tr>\n",
       "      <th>0</th>\n",
       "      <td>171</td>\n",
       "      <td>1</td>\n",
       "      <td>1208</td>\n",
       "      <td>1208</td>\n",
       "      <td>1030</td>\n",
       "      <td>1030</td>\n",
       "      <td>1030</td>\n",
       "      <td>1030</td>\n",
       "      <td>1030</td>\n",
       "      <td>1030</td>\n",
       "      <td>1030</td>\n",
       "      <td>1030</td>\n",
       "      <td>1030</td>\n",
       "      <td>1030</td>\n",
       "      <td>1030</td>\n",
       "      <td>1356</td>\n",
       "      <td>1356</td>\n",
       "    </tr>\n",
       "    <tr>\n",
       "      <th>1</th>\n",
       "      <td>171</td>\n",
       "      <td>2</td>\n",
       "      <td>1208</td>\n",
       "      <td>1208</td>\n",
       "      <td>1030</td>\n",
       "      <td>1030</td>\n",
       "      <td>1030</td>\n",
       "      <td>1030</td>\n",
       "      <td>1030</td>\n",
       "      <td>1030</td>\n",
       "      <td>1030</td>\n",
       "      <td>1030</td>\n",
       "      <td>1030</td>\n",
       "      <td>1030</td>\n",
       "      <td>1030</td>\n",
       "      <td>1356</td>\n",
       "      <td>1356</td>\n",
       "    </tr>\n",
       "    <tr>\n",
       "      <th>2</th>\n",
       "      <td>171</td>\n",
       "      <td>3</td>\n",
       "      <td>1208</td>\n",
       "      <td>1208</td>\n",
       "      <td>1030</td>\n",
       "      <td>1030</td>\n",
       "      <td>1030</td>\n",
       "      <td>1030</td>\n",
       "      <td>1030</td>\n",
       "      <td>1030</td>\n",
       "      <td>1030</td>\n",
       "      <td>1030</td>\n",
       "      <td>1030</td>\n",
       "      <td>1030</td>\n",
       "      <td>1030</td>\n",
       "      <td>1356</td>\n",
       "      <td>1356</td>\n",
       "    </tr>\n",
       "    <tr>\n",
       "      <th>3</th>\n",
       "      <td>171</td>\n",
       "      <td>4</td>\n",
       "      <td>1208</td>\n",
       "      <td>1208</td>\n",
       "      <td>1030</td>\n",
       "      <td>1030</td>\n",
       "      <td>1030</td>\n",
       "      <td>1030</td>\n",
       "      <td>1030</td>\n",
       "      <td>1030</td>\n",
       "      <td>1030</td>\n",
       "      <td>1030</td>\n",
       "      <td>1030</td>\n",
       "      <td>1030</td>\n",
       "      <td>1030</td>\n",
       "      <td>1356</td>\n",
       "      <td>1356</td>\n",
       "    </tr>\n",
       "    <tr>\n",
       "      <th>4</th>\n",
       "      <td>171</td>\n",
       "      <td>5</td>\n",
       "      <td>1208</td>\n",
       "      <td>1208</td>\n",
       "      <td>1030</td>\n",
       "      <td>1030</td>\n",
       "      <td>1030</td>\n",
       "      <td>1030</td>\n",
       "      <td>1030</td>\n",
       "      <td>1030</td>\n",
       "      <td>1030</td>\n",
       "      <td>1030</td>\n",
       "      <td>1030</td>\n",
       "      <td>1030</td>\n",
       "      <td>1030</td>\n",
       "      <td>1356</td>\n",
       "      <td>1356</td>\n",
       "    </tr>\n",
       "  </tbody>\n",
       "</table>\n",
       "</div>"
      ],
      "text/plain": [
       "    FB  FR  2007  2008  2009  2010  2011  2012  2013  2014  2015  2016  2017  \\\n",
       "0  171   1  1208  1208  1030  1030  1030  1030  1030  1030  1030  1030  1030   \n",
       "1  171   2  1208  1208  1030  1030  1030  1030  1030  1030  1030  1030  1030   \n",
       "2  171   3  1208  1208  1030  1030  1030  1030  1030  1030  1030  1030  1030   \n",
       "3  171   4  1208  1208  1030  1030  1030  1030  1030  1030  1030  1030  1030   \n",
       "4  171   5  1208  1208  1030  1030  1030  1030  1030  1030  1030  1030  1030   \n",
       "\n",
       "   2018  2019  2020  2021  \n",
       "0  1030  1030  1356  1356  \n",
       "1  1030  1030  1356  1356  \n",
       "2  1030  1030  1356  1356  \n",
       "3  1030  1030  1356  1356  \n",
       "4  1030  1030  1356  1356  "
      ]
     },
     "execution_count": 3,
     "metadata": {},
     "output_type": "execute_result"
    }
   ],
   "source": [
    "sap_tax.head()"
   ]
  },
  {
   "cell_type": "code",
   "execution_count": 4,
   "metadata": {},
   "outputs": [
    {
     "data": {
      "text/plain": [
       "array([1030, 1353, 1049, 1053, 1052, 1100, 1050, 1051, 1083, 1042, 1073,\n",
       "       1092, 1311, 1342, 1151, 1194, 1086, 1043, 1144, 1197, 1055, 1303,\n",
       "       1085, 1345, 1302, 1140, 1312, 1065, 1066, 1067, 1088, 1044, 1196,\n",
       "       1313, 1343, 1354, 1093, 1045, 1081, 1082, 1341, 1355, 1156, 1250])"
      ]
     },
     "execution_count": 4,
     "metadata": {},
     "output_type": "execute_result"
    }
   ],
   "source": [
    "# get all \n",
    "tos = sap_tax[year_data].unique()\n",
    "tos"
   ]
  },
  {
   "cell_type": "code",
   "execution_count": 5,
   "metadata": {},
   "outputs": [],
   "source": [
    "#to = 1355\n",
    "#path = \"/home/philipp/Data/edin_diss/SAP_tax/182/TO_\" + str(to) + \".XLS\"\n",
    "#x = pd.read_csv(path, sep='\\t', encoding = \"ISO-8859-1\", decimal=',', error_bad_lines=False, na_values=0)"
   ]
  },
  {
   "cell_type": "code",
   "execution_count": 6,
   "metadata": {},
   "outputs": [],
   "source": [
    "#x['Teiloperats-ID'].unique()"
   ]
  },
  {
   "cell_type": "code",
   "execution_count": 7,
   "metadata": {},
   "outputs": [],
   "source": [
    "# create df for given year\n",
    "sap_tax_year = sap_tax[['FB', year_data]]"
   ]
  },
  {
   "cell_type": "code",
   "execution_count": 8,
   "metadata": {},
   "outputs": [],
   "source": [
    "def concat_sap_tax(tos, sap_tax_year):\n",
    "    \n",
    "    sap_tax_tos = []\n",
    "\n",
    "    for to in tos:\n",
    "        # find Forstbetrieb for the giveb Teiloperat\n",
    "        fb = sap_tax_year.loc[sap_tax_year[year_data] == to, 'FB'].unique()[0]\n",
    "        path = sap_path + \"/\" + str(fb) + \"/TO_\" + str(to) + \".XLS\"\n",
    "        sap_tax_tos.append(pd.read_csv(path, sep='\\t', encoding = \"ISO-8859-1\", decimal=',', error_bad_lines=False, na_values=0))\n",
    "        print(path)\n",
    "\n",
    "    return pd.concat(sap_tax_tos)"
   ]
  },
  {
   "cell_type": "code",
   "execution_count": 9,
   "metadata": {
    "scrolled": true
   },
   "outputs": [
    {
     "name": "stderr",
     "output_type": "stream",
     "text": [
      "/home/philipp/miniconda3/envs/geopd/lib/python3.7/site-packages/IPython/core/interactiveshell.py:3263: DtypeWarning: Columns (29,127,129,147,148,149) have mixed types.Specify dtype option on import or set low_memory=False.\n",
      "  if (await self.run_code(code, result,  async_=asy)):\n"
     ]
    },
    {
     "name": "stdout",
     "output_type": "stream",
     "text": [
      "/home/philipp/Data/edin_diss/SAP_tax/171/TO_1030.XLS\n"
     ]
    },
    {
     "name": "stderr",
     "output_type": "stream",
     "text": [
      "/home/philipp/miniconda3/envs/geopd/lib/python3.7/site-packages/IPython/core/interactiveshell.py:3263: DtypeWarning: Columns (29) have mixed types.Specify dtype option on import or set low_memory=False.\n",
      "  if (await self.run_code(code, result,  async_=asy)):\n"
     ]
    },
    {
     "name": "stdout",
     "output_type": "stream",
     "text": [
      "/home/philipp/Data/edin_diss/SAP_tax/171/TO_1353.XLS\n"
     ]
    },
    {
     "name": "stderr",
     "output_type": "stream",
     "text": [
      "/home/philipp/miniconda3/envs/geopd/lib/python3.7/site-packages/IPython/core/interactiveshell.py:3263: DtypeWarning: Columns (148,149) have mixed types.Specify dtype option on import or set low_memory=False.\n",
      "  if (await self.run_code(code, result,  async_=asy)):\n"
     ]
    },
    {
     "name": "stdout",
     "output_type": "stream",
     "text": [
      "/home/philipp/Data/edin_diss/SAP_tax/171/TO_1049.XLS\n"
     ]
    },
    {
     "name": "stderr",
     "output_type": "stream",
     "text": [
      "/home/philipp/miniconda3/envs/geopd/lib/python3.7/site-packages/IPython/core/interactiveshell.py:3263: DtypeWarning: Columns (29,146,147) have mixed types.Specify dtype option on import or set low_memory=False.\n",
      "  if (await self.run_code(code, result,  async_=asy)):\n"
     ]
    },
    {
     "name": "stdout",
     "output_type": "stream",
     "text": [
      "/home/philipp/Data/edin_diss/SAP_tax/172/TO_1053.XLS\n",
      "/home/philipp/Data/edin_diss/SAP_tax/172/TO_1052.XLS\n"
     ]
    },
    {
     "name": "stderr",
     "output_type": "stream",
     "text": [
      "/home/philipp/miniconda3/envs/geopd/lib/python3.7/site-packages/IPython/core/interactiveshell.py:3263: DtypeWarning: Columns (149) have mixed types.Specify dtype option on import or set low_memory=False.\n",
      "  if (await self.run_code(code, result,  async_=asy)):\n"
     ]
    },
    {
     "name": "stdout",
     "output_type": "stream",
     "text": [
      "/home/philipp/Data/edin_diss/SAP_tax/172/TO_1100.XLS\n",
      "/home/philipp/Data/edin_diss/SAP_tax/172/TO_1050.XLS\n"
     ]
    },
    {
     "name": "stderr",
     "output_type": "stream",
     "text": [
      "/home/philipp/miniconda3/envs/geopd/lib/python3.7/site-packages/IPython/core/interactiveshell.py:3263: DtypeWarning: Columns (29,148) have mixed types.Specify dtype option on import or set low_memory=False.\n",
      "  if (await self.run_code(code, result,  async_=asy)):\n"
     ]
    },
    {
     "name": "stdout",
     "output_type": "stream",
     "text": [
      "/home/philipp/Data/edin_diss/SAP_tax/172/TO_1051.XLS\n"
     ]
    },
    {
     "name": "stderr",
     "output_type": "stream",
     "text": [
      "/home/philipp/miniconda3/envs/geopd/lib/python3.7/site-packages/IPython/core/interactiveshell.py:3263: DtypeWarning: Columns (29,148,149) have mixed types.Specify dtype option on import or set low_memory=False.\n",
      "  if (await self.run_code(code, result,  async_=asy)):\n"
     ]
    },
    {
     "name": "stdout",
     "output_type": "stream",
     "text": [
      "/home/philipp/Data/edin_diss/SAP_tax/172/TO_1083.XLS\n",
      "/home/philipp/Data/edin_diss/SAP_tax/173/TO_1042.XLS\n"
     ]
    },
    {
     "name": "stderr",
     "output_type": "stream",
     "text": [
      "/home/philipp/miniconda3/envs/geopd/lib/python3.7/site-packages/IPython/core/interactiveshell.py:3263: DtypeWarning: Columns (29,147) have mixed types.Specify dtype option on import or set low_memory=False.\n",
      "  if (await self.run_code(code, result,  async_=asy)):\n"
     ]
    },
    {
     "name": "stdout",
     "output_type": "stream",
     "text": [
      "/home/philipp/Data/edin_diss/SAP_tax/173/TO_1073.XLS\n"
     ]
    },
    {
     "name": "stderr",
     "output_type": "stream",
     "text": [
      "/home/philipp/miniconda3/envs/geopd/lib/python3.7/site-packages/IPython/core/interactiveshell.py:3263: DtypeWarning: Columns (29,149) have mixed types.Specify dtype option on import or set low_memory=False.\n",
      "  if (await self.run_code(code, result,  async_=asy)):\n"
     ]
    },
    {
     "name": "stdout",
     "output_type": "stream",
     "text": [
      "/home/philipp/Data/edin_diss/SAP_tax/173/TO_1092.XLS\n",
      "/home/philipp/Data/edin_diss/SAP_tax/173/TO_1311.XLS\n"
     ]
    },
    {
     "name": "stderr",
     "output_type": "stream",
     "text": [
      "/home/philipp/miniconda3/envs/geopd/lib/python3.7/site-packages/IPython/core/interactiveshell.py:3263: DtypeWarning: Columns (146,147,148,149) have mixed types.Specify dtype option on import or set low_memory=False.\n",
      "  if (await self.run_code(code, result,  async_=asy)):\n"
     ]
    },
    {
     "name": "stdout",
     "output_type": "stream",
     "text": [
      "/home/philipp/Data/edin_diss/SAP_tax/173/TO_1342.XLS\n"
     ]
    },
    {
     "name": "stderr",
     "output_type": "stream",
     "text": [
      "/home/philipp/miniconda3/envs/geopd/lib/python3.7/site-packages/IPython/core/interactiveshell.py:3263: DtypeWarning: Columns (29,40,148,149) have mixed types.Specify dtype option on import or set low_memory=False.\n",
      "  if (await self.run_code(code, result,  async_=asy)):\n"
     ]
    },
    {
     "name": "stdout",
     "output_type": "stream",
     "text": [
      "/home/philipp/Data/edin_diss/SAP_tax/174/TO_1151.XLS\n"
     ]
    },
    {
     "name": "stderr",
     "output_type": "stream",
     "text": [
      "/home/philipp/miniconda3/envs/geopd/lib/python3.7/site-packages/IPython/core/interactiveshell.py:3263: DtypeWarning: Columns (40,148,149) have mixed types.Specify dtype option on import or set low_memory=False.\n",
      "  if (await self.run_code(code, result,  async_=asy)):\n"
     ]
    },
    {
     "name": "stdout",
     "output_type": "stream",
     "text": [
      "/home/philipp/Data/edin_diss/SAP_tax/174/TO_1194.XLS\n",
      "/home/philipp/Data/edin_diss/SAP_tax/175/TO_1086.XLS\n",
      "/home/philipp/Data/edin_diss/SAP_tax/175/TO_1043.XLS\n",
      "/home/philipp/Data/edin_diss/SAP_tax/175/TO_1144.XLS\n",
      "/home/philipp/Data/edin_diss/SAP_tax/175/TO_1197.XLS\n"
     ]
    },
    {
     "name": "stderr",
     "output_type": "stream",
     "text": [
      "/home/philipp/miniconda3/envs/geopd/lib/python3.7/site-packages/IPython/core/interactiveshell.py:3263: DtypeWarning: Columns (29,146,147,148,149) have mixed types.Specify dtype option on import or set low_memory=False.\n",
      "  if (await self.run_code(code, result,  async_=asy)):\n"
     ]
    },
    {
     "name": "stdout",
     "output_type": "stream",
     "text": [
      "/home/philipp/Data/edin_diss/SAP_tax/176/TO_1055.XLS\n",
      "/home/philipp/Data/edin_diss/SAP_tax/176/TO_1303.XLS\n",
      "/home/philipp/Data/edin_diss/SAP_tax/176/TO_1085.XLS\n",
      "/home/philipp/Data/edin_diss/SAP_tax/176/TO_1345.XLS\n",
      "/home/philipp/Data/edin_diss/SAP_tax/176/TO_1302.XLS\n"
     ]
    },
    {
     "name": "stderr",
     "output_type": "stream",
     "text": [
      "/home/philipp/miniconda3/envs/geopd/lib/python3.7/site-packages/IPython/core/interactiveshell.py:3263: DtypeWarning: Columns (147,148,149) have mixed types.Specify dtype option on import or set low_memory=False.\n",
      "  if (await self.run_code(code, result,  async_=asy)):\n"
     ]
    },
    {
     "name": "stdout",
     "output_type": "stream",
     "text": [
      "/home/philipp/Data/edin_diss/SAP_tax/177/TO_1140.XLS\n"
     ]
    },
    {
     "name": "stderr",
     "output_type": "stream",
     "text": [
      "/home/philipp/miniconda3/envs/geopd/lib/python3.7/site-packages/IPython/core/interactiveshell.py:3263: DtypeWarning: Columns (40,149) have mixed types.Specify dtype option on import or set low_memory=False.\n",
      "  if (await self.run_code(code, result,  async_=asy)):\n"
     ]
    },
    {
     "name": "stdout",
     "output_type": "stream",
     "text": [
      "/home/philipp/Data/edin_diss/SAP_tax/177/TO_1312.XLS\n"
     ]
    },
    {
     "name": "stderr",
     "output_type": "stream",
     "text": [
      "/home/philipp/miniconda3/envs/geopd/lib/python3.7/site-packages/IPython/core/interactiveshell.py:3263: DtypeWarning: Columns (29,146,147,148) have mixed types.Specify dtype option on import or set low_memory=False.\n",
      "  if (await self.run_code(code, result,  async_=asy)):\n"
     ]
    },
    {
     "name": "stdout",
     "output_type": "stream",
     "text": [
      "/home/philipp/Data/edin_diss/SAP_tax/178/TO_1065.XLS\n"
     ]
    },
    {
     "name": "stderr",
     "output_type": "stream",
     "text": [
      "/home/philipp/miniconda3/envs/geopd/lib/python3.7/site-packages/IPython/core/interactiveshell.py:3263: DtypeWarning: Columns (127,129,147,148) have mixed types.Specify dtype option on import or set low_memory=False.\n",
      "  if (await self.run_code(code, result,  async_=asy)):\n"
     ]
    },
    {
     "name": "stdout",
     "output_type": "stream",
     "text": [
      "/home/philipp/Data/edin_diss/SAP_tax/178/TO_1066.XLS\n",
      "/home/philipp/Data/edin_diss/SAP_tax/178/TO_1067.XLS\n",
      "/home/philipp/Data/edin_diss/SAP_tax/179/TO_1088.XLS\n"
     ]
    },
    {
     "name": "stderr",
     "output_type": "stream",
     "text": [
      "/home/philipp/miniconda3/envs/geopd/lib/python3.7/site-packages/IPython/core/interactiveshell.py:3263: DtypeWarning: Columns (40,145,146,147) have mixed types.Specify dtype option on import or set low_memory=False.\n",
      "  if (await self.run_code(code, result,  async_=asy)):\n"
     ]
    },
    {
     "name": "stdout",
     "output_type": "stream",
     "text": [
      "/home/philipp/Data/edin_diss/SAP_tax/179/TO_1044.XLS\n",
      "/home/philipp/Data/edin_diss/SAP_tax/179/TO_1196.XLS\n"
     ]
    },
    {
     "name": "stderr",
     "output_type": "stream",
     "text": [
      "/home/philipp/miniconda3/envs/geopd/lib/python3.7/site-packages/IPython/core/interactiveshell.py:3263: DtypeWarning: Columns (148) have mixed types.Specify dtype option on import or set low_memory=False.\n",
      "  if (await self.run_code(code, result,  async_=asy)):\n"
     ]
    },
    {
     "name": "stdout",
     "output_type": "stream",
     "text": [
      "/home/philipp/Data/edin_diss/SAP_tax/179/TO_1313.XLS\n",
      "/home/philipp/Data/edin_diss/SAP_tax/180/TO_1343.XLS\n"
     ]
    },
    {
     "name": "stderr",
     "output_type": "stream",
     "text": [
      "/home/philipp/miniconda3/envs/geopd/lib/python3.7/site-packages/IPython/core/interactiveshell.py:3263: DtypeWarning: Columns (40,146,147,148,149) have mixed types.Specify dtype option on import or set low_memory=False.\n",
      "  if (await self.run_code(code, result,  async_=asy)):\n"
     ]
    },
    {
     "name": "stdout",
     "output_type": "stream",
     "text": [
      "/home/philipp/Data/edin_diss/SAP_tax/180/TO_1354.XLS\n",
      "/home/philipp/Data/edin_diss/SAP_tax/181/TO_1093.XLS\n",
      "/home/philipp/Data/edin_diss/SAP_tax/181/TO_1045.XLS\n",
      "/home/philipp/Data/edin_diss/SAP_tax/181/TO_1081.XLS\n",
      "/home/philipp/Data/edin_diss/SAP_tax/181/TO_1082.XLS\n",
      "/home/philipp/Data/edin_diss/SAP_tax/182/TO_1341.XLS\n",
      "/home/philipp/Data/edin_diss/SAP_tax/182/TO_1355.XLS\n",
      "/home/philipp/Data/edin_diss/SAP_tax/182/TO_1156.XLS\n",
      "/home/philipp/Data/edin_diss/SAP_tax/182/TO_1250.XLS\n"
     ]
    }
   ],
   "source": [
    "sap_tax = concat_sap_tax(tos, sap_tax_year)"
   ]
  },
  {
   "cell_type": "code",
   "execution_count": 10,
   "metadata": {},
   "outputs": [
    {
     "data": {
      "text/plain": [
       "(1098268, 152)"
      ]
     },
     "execution_count": 10,
     "metadata": {},
     "output_type": "execute_result"
    }
   ],
   "source": [
    "sap_tax.shape"
   ]
  },
  {
   "cell_type": "code",
   "execution_count": 11,
   "metadata": {},
   "outputs": [],
   "source": [
    "# create id \n",
    "sap_tax['id'] = sap_tax['Forstbetrieb'].astype(str) + sap_tax['Forstrevier'].astype(str) + \\\n",
    "sap_tax['Abteilung'].astype(str) + sap_tax['Unterabteil.'].astype(str) + sap_tax['Teilfl.'].astype(str)"
   ]
  },
  {
   "cell_type": "code",
   "execution_count": 12,
   "metadata": {},
   "outputs": [],
   "source": [
    "# create year the TO started and ended\n",
    "sap_tax['year_to_start'] = sap_tax['Beg. Laufzeit'].str[-4:].astype(int)\n",
    "sap_tax['year_to_end'] = sap_tax['Ende Laufzeit'].str[-4:].astype(int)"
   ]
  },
  {
   "cell_type": "code",
   "execution_count": 18,
   "metadata": {},
   "outputs": [],
   "source": [
    "# filter information about the stand\n",
    "sap_tax_stoe = sap_tax.loc[sap_tax['Schichtanteil'] == 0, ['id', 'Forstbetrieb', 'Forstrevier', \\\n",
    "        'Abteilung', 'Unterabteil.', 'Teilfl.', 'Ertragssituation', 'Bewirtschaftungsform', \\\n",
    "        'Schutzwaldkategorie', 'Standorteinheit', 'Vegetationstyp', 'Wuchsgebiet', 'year_to_start', \\\n",
    "        'year_to_end']]"
   ]
  },
  {
   "cell_type": "code",
   "execution_count": 20,
   "metadata": {},
   "outputs": [],
   "source": [
    "sap_tax_stoe.rename(columns = {'Forstbetrieb':'FB', 'Forstrevier':'FR', 'Abteilung':'Abt', \\\n",
    "                               'Unterabteil.':'UAbt', 'Teilfl.':'TFl', 'Ertragssituation':'Esit', \\\n",
    "                               'Bewirtschaftungsform':'Bwirt', 'Schutzwaldkategorie':'SWKat', \\\n",
    "                               'Standorteinheit': 'Stoe', 'Vegetationstyp' : 'Vtyp', 'Wuchsgebiet': 'Wgeb', \\\n",
    "                               'year_to_start' : 'year_start', 'year_to_end' : 'year_end'}, inplace = True) "
   ]
  },
  {
   "cell_type": "code",
   "execution_count": 25,
   "metadata": {},
   "outputs": [],
   "source": [
    "# fill nan\n",
    "sap_tax_stoe = sap_tax_stoe.fillna(0)\n",
    "sap_tax_stoe['Stoe'] = sap_tax_stoe['Stoe'].astype(int)"
   ]
  },
  {
   "cell_type": "code",
   "execution_count": 26,
   "metadata": {},
   "outputs": [
    {
     "data": {
      "text/html": [
       "<div>\n",
       "<style scoped>\n",
       "    .dataframe tbody tr th:only-of-type {\n",
       "        vertical-align: middle;\n",
       "    }\n",
       "\n",
       "    .dataframe tbody tr th {\n",
       "        vertical-align: top;\n",
       "    }\n",
       "\n",
       "    .dataframe thead th {\n",
       "        text-align: right;\n",
       "    }\n",
       "</style>\n",
       "<table border=\"1\" class=\"dataframe\">\n",
       "  <thead>\n",
       "    <tr style=\"text-align: right;\">\n",
       "      <th></th>\n",
       "      <th>id</th>\n",
       "      <th>FB</th>\n",
       "      <th>FR</th>\n",
       "      <th>Abt</th>\n",
       "      <th>UAbt</th>\n",
       "      <th>TFl</th>\n",
       "      <th>Esit</th>\n",
       "      <th>Bwirt</th>\n",
       "      <th>SWKat</th>\n",
       "      <th>Stoe</th>\n",
       "      <th>Vtyp</th>\n",
       "      <th>Wgeb</th>\n",
       "      <th>year_start</th>\n",
       "      <th>year_end</th>\n",
       "    </tr>\n",
       "  </thead>\n",
       "  <tbody>\n",
       "    <tr>\n",
       "      <th>0</th>\n",
       "      <td>1711648B1</td>\n",
       "      <td>171</td>\n",
       "      <td>1</td>\n",
       "      <td>648</td>\n",
       "      <td>B</td>\n",
       "      <td>1</td>\n",
       "      <td>I</td>\n",
       "      <td>W</td>\n",
       "      <td>0</td>\n",
       "      <td>87</td>\n",
       "      <td>BW</td>\n",
       "      <td>5.1</td>\n",
       "      <td>2009</td>\n",
       "      <td>2019</td>\n",
       "    </tr>\n",
       "    <tr>\n",
       "      <th>6</th>\n",
       "      <td>1711652C1</td>\n",
       "      <td>171</td>\n",
       "      <td>1</td>\n",
       "      <td>652</td>\n",
       "      <td>C</td>\n",
       "      <td>1</td>\n",
       "      <td>I</td>\n",
       "      <td>W</td>\n",
       "      <td>0</td>\n",
       "      <td>87</td>\n",
       "      <td>WW</td>\n",
       "      <td>5.1</td>\n",
       "      <td>2009</td>\n",
       "      <td>2019</td>\n",
       "    </tr>\n",
       "    <tr>\n",
       "      <th>12</th>\n",
       "      <td>1711736B4</td>\n",
       "      <td>171</td>\n",
       "      <td>1</td>\n",
       "      <td>736</td>\n",
       "      <td>B</td>\n",
       "      <td>4</td>\n",
       "      <td>I</td>\n",
       "      <td>W</td>\n",
       "      <td>0</td>\n",
       "      <td>87</td>\n",
       "      <td>WW</td>\n",
       "      <td>5.1</td>\n",
       "      <td>2009</td>\n",
       "      <td>2019</td>\n",
       "    </tr>\n",
       "    <tr>\n",
       "      <th>21</th>\n",
       "      <td>1711658A1</td>\n",
       "      <td>171</td>\n",
       "      <td>1</td>\n",
       "      <td>658</td>\n",
       "      <td>A</td>\n",
       "      <td>1</td>\n",
       "      <td>I</td>\n",
       "      <td>W</td>\n",
       "      <td>0</td>\n",
       "      <td>87</td>\n",
       "      <td>WW</td>\n",
       "      <td>5.1</td>\n",
       "      <td>2009</td>\n",
       "      <td>2019</td>\n",
       "    </tr>\n",
       "    <tr>\n",
       "      <th>27</th>\n",
       "      <td>1711506D1</td>\n",
       "      <td>171</td>\n",
       "      <td>1</td>\n",
       "      <td>506</td>\n",
       "      <td>D</td>\n",
       "      <td>1</td>\n",
       "      <td>I</td>\n",
       "      <td>W</td>\n",
       "      <td>0</td>\n",
       "      <td>88</td>\n",
       "      <td>WW</td>\n",
       "      <td>5.1</td>\n",
       "      <td>2009</td>\n",
       "      <td>2019</td>\n",
       "    </tr>\n",
       "  </tbody>\n",
       "</table>\n",
       "</div>"
      ],
      "text/plain": [
       "           id   FB  FR  Abt UAbt  TFl Esit Bwirt SWKat  Stoe Vtyp Wgeb  \\\n",
       "0   1711648B1  171   1  648    B    1    I     W     0    87   BW  5.1   \n",
       "6   1711652C1  171   1  652    C    1    I     W     0    87   WW  5.1   \n",
       "12  1711736B4  171   1  736    B    4    I     W     0    87   WW  5.1   \n",
       "21  1711658A1  171   1  658    A    1    I     W     0    87   WW  5.1   \n",
       "27  1711506D1  171   1  506    D    1    I     W     0    88   WW  5.1   \n",
       "\n",
       "    year_start  year_end  \n",
       "0         2009      2019  \n",
       "6         2009      2019  \n",
       "12        2009      2019  \n",
       "21        2009      2019  \n",
       "27        2009      2019  "
      ]
     },
     "execution_count": 26,
     "metadata": {},
     "output_type": "execute_result"
    }
   ],
   "source": [
    "sap_tax_stoe.head()"
   ]
  },
  {
   "cell_type": "markdown",
   "metadata": {},
   "source": [
    "## merge GIS_tax and SAP_tax (STOE)"
   ]
  },
  {
   "cell_type": "code",
   "execution_count": 27,
   "metadata": {},
   "outputs": [],
   "source": [
    "db_data = db_data.merge(sap_tax_stoe, on='id')"
   ]
  },
  {
   "cell_type": "code",
   "execution_count": 28,
   "metadata": {
    "scrolled": true
   },
   "outputs": [
    {
     "data": {
      "text/html": [
       "<div>\n",
       "<style scoped>\n",
       "    .dataframe tbody tr th:only-of-type {\n",
       "        vertical-align: middle;\n",
       "    }\n",
       "\n",
       "    .dataframe tbody tr th {\n",
       "        vertical-align: top;\n",
       "    }\n",
       "\n",
       "    .dataframe thead th {\n",
       "        text-align: right;\n",
       "    }\n",
       "</style>\n",
       "<table border=\"1\" class=\"dataframe\">\n",
       "  <thead>\n",
       "    <tr style=\"text-align: right;\">\n",
       "      <th></th>\n",
       "      <th>FB_KURZ</th>\n",
       "      <th>FB_LANG</th>\n",
       "      <th>FR_KURZ</th>\n",
       "      <th>FR_LANG</th>\n",
       "      <th>ABTEILUNG</th>\n",
       "      <th>UNTERABTEI</th>\n",
       "      <th>FARBCODE</th>\n",
       "      <th>LINKID</th>\n",
       "      <th>SHAPE_Leng</th>\n",
       "      <th>SHAPE_Area</th>\n",
       "      <th>...</th>\n",
       "      <th>UAbt</th>\n",
       "      <th>TFl</th>\n",
       "      <th>Esit</th>\n",
       "      <th>Bwirt</th>\n",
       "      <th>SWKat</th>\n",
       "      <th>Stoe</th>\n",
       "      <th>Vtyp</th>\n",
       "      <th>Wgeb</th>\n",
       "      <th>year_start</th>\n",
       "      <th>year_end</th>\n",
       "    </tr>\n",
       "  </thead>\n",
       "  <tbody>\n",
       "    <tr>\n",
       "      <th>0</th>\n",
       "      <td>179</td>\n",
       "      <td>Pongau</td>\n",
       "      <td>8</td>\n",
       "      <td>Gastein</td>\n",
       "      <td>647</td>\n",
       "      <td>C2</td>\n",
       "      <td>12000000000</td>\n",
       "      <td>{770B160D-349F-4E03-8E31-C09966044E95}</td>\n",
       "      <td>1490.713604</td>\n",
       "      <td>31382.525999</td>\n",
       "      <td>...</td>\n",
       "      <td>C</td>\n",
       "      <td>2</td>\n",
       "      <td>I</td>\n",
       "      <td>W</td>\n",
       "      <td>0</td>\n",
       "      <td>72</td>\n",
       "      <td>AHD</td>\n",
       "      <td>1.3</td>\n",
       "      <td>2016</td>\n",
       "      <td>2025</td>\n",
       "    </tr>\n",
       "    <tr>\n",
       "      <th>1</th>\n",
       "      <td>179</td>\n",
       "      <td>Pongau</td>\n",
       "      <td>1</td>\n",
       "      <td>Filzmoos</td>\n",
       "      <td>376</td>\n",
       "      <td>G4</td>\n",
       "      <td>12000000000</td>\n",
       "      <td>{B0F0509B-37B0-42AD-866E-4B6D75DF4AA6}</td>\n",
       "      <td>377.331016</td>\n",
       "      <td>7873.920587</td>\n",
       "      <td>...</td>\n",
       "      <td>G</td>\n",
       "      <td>4</td>\n",
       "      <td>I</td>\n",
       "      <td>W</td>\n",
       "      <td>0</td>\n",
       "      <td>72</td>\n",
       "      <td>AHD</td>\n",
       "      <td>2.2</td>\n",
       "      <td>2013</td>\n",
       "      <td>2022</td>\n",
       "    </tr>\n",
       "    <tr>\n",
       "      <th>2</th>\n",
       "      <td>179</td>\n",
       "      <td>Pongau</td>\n",
       "      <td>1</td>\n",
       "      <td>Filzmoos</td>\n",
       "      <td>376</td>\n",
       "      <td>G4</td>\n",
       "      <td>12000000000</td>\n",
       "      <td>{1563161F-C2F4-49FB-91B6-72FF7B12C4C8}</td>\n",
       "      <td>482.350500</td>\n",
       "      <td>10410.074694</td>\n",
       "      <td>...</td>\n",
       "      <td>G</td>\n",
       "      <td>4</td>\n",
       "      <td>I</td>\n",
       "      <td>W</td>\n",
       "      <td>0</td>\n",
       "      <td>72</td>\n",
       "      <td>AHD</td>\n",
       "      <td>2.2</td>\n",
       "      <td>2013</td>\n",
       "      <td>2022</td>\n",
       "    </tr>\n",
       "    <tr>\n",
       "      <th>3</th>\n",
       "      <td>179</td>\n",
       "      <td>Pongau</td>\n",
       "      <td>8</td>\n",
       "      <td>Gastein</td>\n",
       "      <td>689</td>\n",
       "      <td>I0</td>\n",
       "      <td>15000000000</td>\n",
       "      <td>{05C33B9A-5FEC-4754-97D8-D01CF5BDDD1C}</td>\n",
       "      <td>466.808748</td>\n",
       "      <td>10235.032218</td>\n",
       "      <td>...</td>\n",
       "      <td>I</td>\n",
       "      <td>0</td>\n",
       "      <td>I</td>\n",
       "      <td>W</td>\n",
       "      <td>0</td>\n",
       "      <td>81</td>\n",
       "      <td>SH</td>\n",
       "      <td>1.3</td>\n",
       "      <td>2016</td>\n",
       "      <td>2025</td>\n",
       "    </tr>\n",
       "    <tr>\n",
       "      <th>4</th>\n",
       "      <td>179</td>\n",
       "      <td>Pongau</td>\n",
       "      <td>4</td>\n",
       "      <td>Kleinarl</td>\n",
       "      <td>554</td>\n",
       "      <td>G0</td>\n",
       "      <td>35200300000</td>\n",
       "      <td>{6E9C11FE-55F5-4247-A2B5-202F122286F6}</td>\n",
       "      <td>1432.461887</td>\n",
       "      <td>39275.813450</td>\n",
       "      <td>...</td>\n",
       "      <td>G</td>\n",
       "      <td>0</td>\n",
       "      <td>I</td>\n",
       "      <td>S</td>\n",
       "      <td>S</td>\n",
       "      <td>3</td>\n",
       "      <td>GE</td>\n",
       "      <td>2.2</td>\n",
       "      <td>2014</td>\n",
       "      <td>2023</td>\n",
       "    </tr>\n",
       "  </tbody>\n",
       "</table>\n",
       "<p>5 rows × 26 columns</p>\n",
       "</div>"
      ],
      "text/plain": [
       "   FB_KURZ FB_LANG  FR_KURZ   FR_LANG  ABTEILUNG UNTERABTEI     FARBCODE  \\\n",
       "0      179  Pongau        8   Gastein        647         C2  12000000000   \n",
       "1      179  Pongau        1  Filzmoos        376         G4  12000000000   \n",
       "2      179  Pongau        1  Filzmoos        376         G4  12000000000   \n",
       "3      179  Pongau        8   Gastein        689         I0  15000000000   \n",
       "4      179  Pongau        4  Kleinarl        554         G0  35200300000   \n",
       "\n",
       "                                   LINKID   SHAPE_Leng    SHAPE_Area  ...  \\\n",
       "0  {770B160D-349F-4E03-8E31-C09966044E95}  1490.713604  31382.525999  ...   \n",
       "1  {B0F0509B-37B0-42AD-866E-4B6D75DF4AA6}   377.331016   7873.920587  ...   \n",
       "2  {1563161F-C2F4-49FB-91B6-72FF7B12C4C8}   482.350500  10410.074694  ...   \n",
       "3  {05C33B9A-5FEC-4754-97D8-D01CF5BDDD1C}   466.808748  10235.032218  ...   \n",
       "4  {6E9C11FE-55F5-4247-A2B5-202F122286F6}  1432.461887  39275.813450  ...   \n",
       "\n",
       "   UAbt TFl Esit  Bwirt  SWKat  Stoe Vtyp  Wgeb year_start year_end  \n",
       "0     C   2    I      W      0    72  AHD   1.3       2016     2025  \n",
       "1     G   4    I      W      0    72  AHD   2.2       2013     2022  \n",
       "2     G   4    I      W      0    72  AHD   2.2       2013     2022  \n",
       "3     I   0    I      W      0    81   SH   1.3       2016     2025  \n",
       "4     G   0    I      S      S     3   GE   2.2       2014     2023  \n",
       "\n",
       "[5 rows x 26 columns]"
      ]
     },
     "execution_count": 28,
     "metadata": {},
     "output_type": "execute_result"
    }
   ],
   "source": [
    "db_data.head()"
   ]
  },
  {
   "cell_type": "code",
   "execution_count": 29,
   "metadata": {},
   "outputs": [],
   "source": [
    "# save to file\n",
    "db_data.to_file(\"/home/philipp/Data/edin_diss/GIS_tax/gis_wo/gis_wo_2019.shp\")"
   ]
  },
  {
   "cell_type": "code",
   "execution_count": 32,
   "metadata": {},
   "outputs": [],
   "source": [
    "# load raw vector data\n",
    "db_data = gpd.read_file(\"/home/philipp/Data/edin_diss/GIS_tax/gis_wo/gis_wo_2019.shp\")"
   ]
  },
  {
   "cell_type": "code",
   "execution_count": 33,
   "metadata": {},
   "outputs": [],
   "source": [
    "# filter -> just Wirtschaftswald in Ertrag\n",
    "db_data = db_data[(db_data['Bwirt']=='W') & (db_data['Esit']=='I')]"
   ]
  },
  {
   "cell_type": "code",
   "execution_count": 34,
   "metadata": {},
   "outputs": [],
   "source": [
    "# save to file\n",
    "db_data.to_file(\"/home/philipp/Data/edin_diss/GIS_tax/gis_wo/gis_wo_wwie_2019.shp\")"
   ]
  },
  {
   "cell_type": "code",
   "execution_count": null,
   "metadata": {},
   "outputs": [],
   "source": []
  },
  {
   "cell_type": "markdown",
   "metadata": {},
   "source": [
    "## add thinning information"
   ]
  },
  {
   "cell_type": "code",
   "execution_count": 33,
   "metadata": {},
   "outputs": [],
   "source": [
    "# load raw vector data\n",
    "db_data = gpd.read_file(\"/home/philipp/Data/edin_diss/GIS_tax/gis_wo/gis_wo_wwie_2019.shp\")"
   ]
  },
  {
   "cell_type": "code",
   "execution_count": 15,
   "metadata": {},
   "outputs": [
    {
     "data": {
      "text/html": [
       "<div>\n",
       "<style scoped>\n",
       "    .dataframe tbody tr th:only-of-type {\n",
       "        vertical-align: middle;\n",
       "    }\n",
       "\n",
       "    .dataframe tbody tr th {\n",
       "        vertical-align: top;\n",
       "    }\n",
       "\n",
       "    .dataframe thead th {\n",
       "        text-align: right;\n",
       "    }\n",
       "</style>\n",
       "<table border=\"1\" class=\"dataframe\">\n",
       "  <thead>\n",
       "    <tr style=\"text-align: right;\">\n",
       "      <th></th>\n",
       "      <th>Merkmalausprägung</th>\n",
       "      <th>AuswKatTyp</th>\n",
       "      <th>Teiloperats-ID</th>\n",
       "      <th>Forstbetrieb</th>\n",
       "      <th>Debitor</th>\n",
       "      <th>TO-Bezeichnung</th>\n",
       "      <th>Status</th>\n",
       "      <th>Beg. Laufzeit</th>\n",
       "      <th>Ende Laufzeit</th>\n",
       "      <th>Operat-ID</th>\n",
       "      <th>...</th>\n",
       "      <th>Zeile4</th>\n",
       "      <th>Zeile5</th>\n",
       "      <th>Zeile6</th>\n",
       "      <th>Zeile7</th>\n",
       "      <th>Zeile8</th>\n",
       "      <th>Bestockungsziel</th>\n",
       "      <th>Flächenanteil</th>\n",
       "      <th>id</th>\n",
       "      <th>year_to_start</th>\n",
       "      <th>year_to_end</th>\n",
       "    </tr>\n",
       "  </thead>\n",
       "  <tbody>\n",
       "    <tr>\n",
       "      <th>0</th>\n",
       "      <td>0</td>\n",
       "      <td>NaN</td>\n",
       "      <td>1030</td>\n",
       "      <td>171</td>\n",
       "      <td>220442</td>\n",
       "      <td>1</td>\n",
       "      <td>2</td>\n",
       "      <td>01.01.2009</td>\n",
       "      <td>31.12.2019</td>\n",
       "      <td>111</td>\n",
       "      <td>...</td>\n",
       "      <td>vergrast und leicht verkrautet</td>\n",
       "      <td>MA  BZ: 5LA 5BU</td>\n",
       "      <td>NaN</td>\n",
       "      <td>NaN</td>\n",
       "      <td>NaN</td>\n",
       "      <td>NaN</td>\n",
       "      <td>NaN</td>\n",
       "      <td>1711648B1</td>\n",
       "      <td>2009</td>\n",
       "      <td>2019</td>\n",
       "    </tr>\n",
       "    <tr>\n",
       "      <th>1</th>\n",
       "      <td>0</td>\n",
       "      <td>NaN</td>\n",
       "      <td>1030</td>\n",
       "      <td>171</td>\n",
       "      <td>220442</td>\n",
       "      <td>1</td>\n",
       "      <td>2</td>\n",
       "      <td>01.01.2009</td>\n",
       "      <td>31.12.2019</td>\n",
       "      <td>111</td>\n",
       "      <td>...</td>\n",
       "      <td>NaN</td>\n",
       "      <td>NaN</td>\n",
       "      <td>NaN</td>\n",
       "      <td>NaN</td>\n",
       "      <td>NaN</td>\n",
       "      <td>NaN</td>\n",
       "      <td>NaN</td>\n",
       "      <td>1711648B1</td>\n",
       "      <td>2009</td>\n",
       "      <td>2019</td>\n",
       "    </tr>\n",
       "    <tr>\n",
       "      <th>2</th>\n",
       "      <td>0</td>\n",
       "      <td>NaN</td>\n",
       "      <td>1030</td>\n",
       "      <td>171</td>\n",
       "      <td>220442</td>\n",
       "      <td>1</td>\n",
       "      <td>2</td>\n",
       "      <td>01.01.2009</td>\n",
       "      <td>31.12.2019</td>\n",
       "      <td>111</td>\n",
       "      <td>...</td>\n",
       "      <td>NaN</td>\n",
       "      <td>NaN</td>\n",
       "      <td>NaN</td>\n",
       "      <td>NaN</td>\n",
       "      <td>NaN</td>\n",
       "      <td>NaN</td>\n",
       "      <td>NaN</td>\n",
       "      <td>1711648B1</td>\n",
       "      <td>2009</td>\n",
       "      <td>2019</td>\n",
       "    </tr>\n",
       "    <tr>\n",
       "      <th>3</th>\n",
       "      <td>0</td>\n",
       "      <td>NaN</td>\n",
       "      <td>1030</td>\n",
       "      <td>171</td>\n",
       "      <td>220442</td>\n",
       "      <td>1</td>\n",
       "      <td>2</td>\n",
       "      <td>01.01.2009</td>\n",
       "      <td>31.12.2019</td>\n",
       "      <td>111</td>\n",
       "      <td>...</td>\n",
       "      <td>NaN</td>\n",
       "      <td>NaN</td>\n",
       "      <td>NaN</td>\n",
       "      <td>NaN</td>\n",
       "      <td>NaN</td>\n",
       "      <td>NaN</td>\n",
       "      <td>NaN</td>\n",
       "      <td>1711648B1</td>\n",
       "      <td>2009</td>\n",
       "      <td>2019</td>\n",
       "    </tr>\n",
       "    <tr>\n",
       "      <th>4</th>\n",
       "      <td>0</td>\n",
       "      <td>NaN</td>\n",
       "      <td>1030</td>\n",
       "      <td>171</td>\n",
       "      <td>220442</td>\n",
       "      <td>1</td>\n",
       "      <td>2</td>\n",
       "      <td>01.01.2009</td>\n",
       "      <td>31.12.2019</td>\n",
       "      <td>111</td>\n",
       "      <td>...</td>\n",
       "      <td>NaN</td>\n",
       "      <td>NaN</td>\n",
       "      <td>NaN</td>\n",
       "      <td>NaN</td>\n",
       "      <td>NaN</td>\n",
       "      <td>NaN</td>\n",
       "      <td>NaN</td>\n",
       "      <td>1711648B1</td>\n",
       "      <td>2009</td>\n",
       "      <td>2019</td>\n",
       "    </tr>\n",
       "  </tbody>\n",
       "</table>\n",
       "<p>5 rows × 155 columns</p>\n",
       "</div>"
      ],
      "text/plain": [
       "   Merkmalausprägung  AuswKatTyp  Teiloperats-ID  Forstbetrieb  Debitor  \\\n",
       "0                  0         NaN            1030           171   220442   \n",
       "1                  0         NaN            1030           171   220442   \n",
       "2                  0         NaN            1030           171   220442   \n",
       "3                  0         NaN            1030           171   220442   \n",
       "4                  0         NaN            1030           171   220442   \n",
       "\n",
       "  TO-Bezeichnung  Status Beg. Laufzeit Ende Laufzeit  Operat-ID  ...  \\\n",
       "0              1       2    01.01.2009    31.12.2019        111  ...   \n",
       "1              1       2    01.01.2009    31.12.2019        111  ...   \n",
       "2              1       2    01.01.2009    31.12.2019        111  ...   \n",
       "3              1       2    01.01.2009    31.12.2019        111  ...   \n",
       "4              1       2    01.01.2009    31.12.2019        111  ...   \n",
       "\n",
       "                           Zeile4           Zeile5 Zeile6 Zeile7 Zeile8  \\\n",
       "0  vergrast und leicht verkrautet  MA  BZ: 5LA 5BU    NaN    NaN    NaN   \n",
       "1                             NaN              NaN    NaN    NaN    NaN   \n",
       "2                             NaN              NaN    NaN    NaN    NaN   \n",
       "3                             NaN              NaN    NaN    NaN    NaN   \n",
       "4                             NaN              NaN    NaN    NaN    NaN   \n",
       "\n",
       "   Bestockungsziel  Flächenanteil         id  year_to_start year_to_end  \n",
       "0              NaN            NaN  1711648B1           2009        2019  \n",
       "1              NaN            NaN  1711648B1           2009        2019  \n",
       "2              NaN            NaN  1711648B1           2009        2019  \n",
       "3              NaN            NaN  1711648B1           2009        2019  \n",
       "4              NaN            NaN  1711648B1           2009        2019  \n",
       "\n",
       "[5 rows x 155 columns]"
      ]
     },
     "execution_count": 15,
     "metadata": {},
     "output_type": "execute_result"
    }
   ],
   "source": [
    "# sap_tax has to be loaded\n",
    "sap_tax.head()"
   ]
  },
  {
   "cell_type": "code",
   "execution_count": 16,
   "metadata": {},
   "outputs": [],
   "source": [
    "# filter thinnings (DE, DF, ND)\n",
    "sap_tax_df = sap_tax.loc[ (sap_tax['Maßnahmenart'] == 'DE') | (sap_tax['Maßnahmenart'] == 'DF') \\\n",
    "                         | (sap_tax['Maßnahmenart'] == 'ND'), ['id', 'Forstbetrieb', 'Forstrevier', \\\n",
    "                        'Abteilung', 'Unterabteil.', 'Teilfl.', 'Maßnahmenart', 'Nutzdringlichkeit']]"
   ]
  },
  {
   "cell_type": "code",
   "execution_count": 18,
   "metadata": {},
   "outputs": [],
   "source": [
    "# set 'Nutzdringlichkeit' to type int\n",
    "sap_tax_df['Nutzdringlichkeit'] = sap_tax_df['Nutzdringlichkeit'].astype(int)"
   ]
  },
  {
   "cell_type": "code",
   "execution_count": 21,
   "metadata": {},
   "outputs": [
    {
     "data": {
      "text/html": [
       "<div>\n",
       "<style scoped>\n",
       "    .dataframe tbody tr th:only-of-type {\n",
       "        vertical-align: middle;\n",
       "    }\n",
       "\n",
       "    .dataframe tbody tr th {\n",
       "        vertical-align: top;\n",
       "    }\n",
       "\n",
       "    .dataframe thead th {\n",
       "        text-align: right;\n",
       "    }\n",
       "</style>\n",
       "<table border=\"1\" class=\"dataframe\">\n",
       "  <thead>\n",
       "    <tr style=\"text-align: right;\">\n",
       "      <th></th>\n",
       "      <th>id</th>\n",
       "      <th>Forstbetrieb</th>\n",
       "      <th>Forstrevier</th>\n",
       "      <th>Abteilung</th>\n",
       "      <th>Unterabteil.</th>\n",
       "      <th>Teilfl.</th>\n",
       "      <th>Maßnahmenart</th>\n",
       "      <th>Nutzdringlichkeit</th>\n",
       "    </tr>\n",
       "  </thead>\n",
       "  <tbody>\n",
       "    <tr>\n",
       "      <th>10</th>\n",
       "      <td>1711652C1</td>\n",
       "      <td>171</td>\n",
       "      <td>1</td>\n",
       "      <td>652</td>\n",
       "      <td>C</td>\n",
       "      <td>1</td>\n",
       "      <td>DF</td>\n",
       "      <td>2</td>\n",
       "    </tr>\n",
       "    <tr>\n",
       "      <th>26</th>\n",
       "      <td>1711658A1</td>\n",
       "      <td>171</td>\n",
       "      <td>1</td>\n",
       "      <td>658</td>\n",
       "      <td>A</td>\n",
       "      <td>1</td>\n",
       "      <td>DF</td>\n",
       "      <td>2</td>\n",
       "    </tr>\n",
       "    <tr>\n",
       "      <th>38</th>\n",
       "      <td>1711599G1</td>\n",
       "      <td>171</td>\n",
       "      <td>1</td>\n",
       "      <td>599</td>\n",
       "      <td>G</td>\n",
       "      <td>1</td>\n",
       "      <td>DF</td>\n",
       "      <td>2</td>\n",
       "    </tr>\n",
       "    <tr>\n",
       "      <th>95</th>\n",
       "      <td>1711726D1</td>\n",
       "      <td>171</td>\n",
       "      <td>1</td>\n",
       "      <td>726</td>\n",
       "      <td>D</td>\n",
       "      <td>1</td>\n",
       "      <td>DF</td>\n",
       "      <td>2</td>\n",
       "    </tr>\n",
       "    <tr>\n",
       "      <th>149</th>\n",
       "      <td>1711520E1</td>\n",
       "      <td>171</td>\n",
       "      <td>1</td>\n",
       "      <td>520</td>\n",
       "      <td>E</td>\n",
       "      <td>1</td>\n",
       "      <td>DF</td>\n",
       "      <td>2</td>\n",
       "    </tr>\n",
       "    <tr>\n",
       "      <th>...</th>\n",
       "      <td>...</td>\n",
       "      <td>...</td>\n",
       "      <td>...</td>\n",
       "      <td>...</td>\n",
       "      <td>...</td>\n",
       "      <td>...</td>\n",
       "      <td>...</td>\n",
       "      <td>...</td>\n",
       "    </tr>\n",
       "    <tr>\n",
       "      <th>16020</th>\n",
       "      <td>182863F2</td>\n",
       "      <td>182</td>\n",
       "      <td>8</td>\n",
       "      <td>63</td>\n",
       "      <td>F</td>\n",
       "      <td>2</td>\n",
       "      <td>DE</td>\n",
       "      <td>2</td>\n",
       "    </tr>\n",
       "    <tr>\n",
       "      <th>16076</th>\n",
       "      <td>1829365B2</td>\n",
       "      <td>182</td>\n",
       "      <td>9</td>\n",
       "      <td>365</td>\n",
       "      <td>B</td>\n",
       "      <td>2</td>\n",
       "      <td>DE</td>\n",
       "      <td>2</td>\n",
       "    </tr>\n",
       "    <tr>\n",
       "      <th>16174</th>\n",
       "      <td>1829350H2</td>\n",
       "      <td>182</td>\n",
       "      <td>9</td>\n",
       "      <td>350</td>\n",
       "      <td>H</td>\n",
       "      <td>2</td>\n",
       "      <td>DE</td>\n",
       "      <td>2</td>\n",
       "    </tr>\n",
       "    <tr>\n",
       "      <th>16192</th>\n",
       "      <td>182822A3</td>\n",
       "      <td>182</td>\n",
       "      <td>8</td>\n",
       "      <td>22</td>\n",
       "      <td>A</td>\n",
       "      <td>3</td>\n",
       "      <td>DE</td>\n",
       "      <td>1</td>\n",
       "    </tr>\n",
       "    <tr>\n",
       "      <th>16213</th>\n",
       "      <td>1829323P4</td>\n",
       "      <td>182</td>\n",
       "      <td>9</td>\n",
       "      <td>323</td>\n",
       "      <td>P</td>\n",
       "      <td>4</td>\n",
       "      <td>DE</td>\n",
       "      <td>1</td>\n",
       "    </tr>\n",
       "  </tbody>\n",
       "</table>\n",
       "<p>39534 rows × 8 columns</p>\n",
       "</div>"
      ],
      "text/plain": [
       "              id  Forstbetrieb  Forstrevier  Abteilung Unterabteil.  Teilfl.  \\\n",
       "10     1711652C1           171            1        652            C        1   \n",
       "26     1711658A1           171            1        658            A        1   \n",
       "38     1711599G1           171            1        599            G        1   \n",
       "95     1711726D1           171            1        726            D        1   \n",
       "149    1711520E1           171            1        520            E        1   \n",
       "...          ...           ...          ...        ...          ...      ...   \n",
       "16020   182863F2           182            8         63            F        2   \n",
       "16076  1829365B2           182            9        365            B        2   \n",
       "16174  1829350H2           182            9        350            H        2   \n",
       "16192   182822A3           182            8         22            A        3   \n",
       "16213  1829323P4           182            9        323            P        4   \n",
       "\n",
       "      Maßnahmenart  Nutzdringlichkeit  \n",
       "10              DF                  2  \n",
       "26              DF                  2  \n",
       "38              DF                  2  \n",
       "95              DF                  2  \n",
       "149             DF                  2  \n",
       "...            ...                ...  \n",
       "16020           DE                  2  \n",
       "16076           DE                  2  \n",
       "16174           DE                  2  \n",
       "16192           DE                  1  \n",
       "16213           DE                  1  \n",
       "\n",
       "[39534 rows x 8 columns]"
      ]
     },
     "execution_count": 21,
     "metadata": {},
     "output_type": "execute_result"
    }
   ],
   "source": [
    "sap_tax_df"
   ]
  },
  {
   "cell_type": "code",
   "execution_count": 34,
   "metadata": {},
   "outputs": [],
   "source": [
    "# merge GIS and SAP data\n",
    "db_data = db_data.merge(sap_tax_df[['id', 'Maßnahmenart']], on='id', how='left')"
   ]
  },
  {
   "cell_type": "code",
   "execution_count": 41,
   "metadata": {},
   "outputs": [],
   "source": [
    "# create attribute for thinning 'df'\n",
    "db_data['df'] = 0\n",
    "db_data.loc[(db_data['Maßnahmenart'] == 'DE') | (db_data['Maßnahmenart'] == 'DF') | (db_data['Maßnahmenart'] == 'ND'), 'df'] = 1\n",
    "db_data['df'].unique()"
   ]
  },
  {
   "cell_type": "code",
   "execution_count": 44,
   "metadata": {},
   "outputs": [],
   "source": [
    "# create geo-dataframe\n",
    "db_data_df = db_data[['df', 'geometry']]"
   ]
  },
  {
   "cell_type": "code",
   "execution_count": 47,
   "metadata": {},
   "outputs": [],
   "source": [
    "# save to file\n",
    "db_data_df.to_file(\"/home/philipp/Data/edin_diss/GIS_df/gis_df_wwie_2019.shp\")"
   ]
  },
  {
   "cell_type": "code",
   "execution_count": null,
   "metadata": {},
   "outputs": [],
   "source": []
  },
  {
   "cell_type": "code",
   "execution_count": 13,
   "metadata": {},
   "outputs": [
    {
     "data": {
      "text/plain": [
       "Index(['Merkmalausprägung', 'AuswKatTyp', 'Teiloperats-ID', 'Forstbetrieb',\n",
       "       'Debitor', 'TO-Bezeichnung', 'Status', 'Beg. Laufzeit', 'Ende Laufzeit',\n",
       "       'Operat-ID', 'vorgeschl. Hiebssatz', 'Verantwortlicher',\n",
       "       'Erfassungsstatus', 'Migriert?', 'GUID', 'Forstbetrieb.1',\n",
       "       'Teiloperats-ID.1', 'Forstrevier', 'Abteilung', 'Unterabteil.',\n",
       "       'Teilfl.', 'Debitor.1', 'Bearbeitungsblock', 'WE-Typ', 'Betriebsklasse',\n",
       "       'Umtriebszeit', 'Nebengrund Art', 'Ertragssituation',\n",
       "       'Bewirtschaftungsform', 'Schutzwaldkategorie', 'Fläche in HA',\n",
       "       'Seehöhe', 'Exposition', 'Neigung', 'Standorteinheit', 'Vegetationstyp',\n",
       "       'Waldtyp', 'Wuchsgebiet', 'Überh. Laubholz', 'Überh. Nadelhz.',\n",
       "       'fr. Schälschade', 'Verbissgrad', 'SchutzwaldProjNr', 'Schlussgrad',\n",
       "       'Stabilität', 'VJ Bedingung', 'VJ Situation', 'Erreichbark. des BZ',\n",
       "       'Selektiver Verbiss', 'Erfassungsstatus.1', 'Storno', 'Angelegt von',\n",
       "       'Angelegt am', 'Uhrzeit', 'Geändert von', 'Geändert am', 'Uhrzeit.1',\n",
       "       'Waldort', 'GUID.1', 'GUID.2', 'Forstbetrieb.2', 'Teiloperats-ID.2',\n",
       "       'Forstrevier.1', 'Abteilung.1', 'Unterabteil..1', 'Teilfl..1',\n",
       "       'Best.-Schicht', 'Debitor.2', 'Schichtanteil', 'Schichtalter',\n",
       "       'S-Best.grad', 'Erfassungsstatus.2', 'Storno.1', 'GUID.3', 'GUID.4',\n",
       "       'Forstbetrieb.3', 'Teiloperats-ID.3', 'Forstrevier.2', 'Abteilung.2',\n",
       "       'Unterabteil..2', 'Teilfl..2', 'Best.-Schicht.1', 'Baumart',\n",
       "       'Debitor.3', 'Baumartenanteil', 'BaumartenBestockgrad', 'Schälgrad',\n",
       "       'Ertragsklasse', 'Vorrat / ha', 'Laubholzvorrat / ha',\n",
       "       'Nadelholzvorrat / ha', 'Vorrat am Ort', 'Laubholzvorrat Ort',\n",
       "       'Nadelholzvorrat Ort', 'GSOLL / HA', 'GIST / HA', 'lauf. Zuwachs / HA',\n",
       "       'DGZU / HA', 'HDZ', 'LGZ'],\n",
       "      dtype='object')"
      ]
     },
     "execution_count": 13,
     "metadata": {},
     "output_type": "execute_result"
    }
   ],
   "source": [
    "sap_tax.columns[:100]"
   ]
  },
  {
   "cell_type": "code",
   "execution_count": 14,
   "metadata": {},
   "outputs": [
    {
     "data": {
      "text/plain": [
       "Index(['Erfassungsstatus.3', 'Storno.2', 'GUID.5', 'GUID.6', 'Forstbetrieb.4',\n",
       "       'Teiloperats-ID.4', 'Forstrevier.3', 'Abteilung.3', 'Unterabteil..3',\n",
       "       'Teilfl..3', 'Best.-Schicht.2', 'Nutzungsnummer', 'Maßnahmenart',\n",
       "       'Massnahme geplant', 'Massnahmengruppe', 'Angriffsfläche', 'Nutzung LH',\n",
       "       'Nutzung NH', 'Nutzungssumme', 'Nutzdringlichkeit', 'Bewpfl.',\n",
       "       'Zeitpunkt', 'Rückungsart', 'Schlägerungsart', 'Erfassungsstatus.4',\n",
       "       'Storno.3', 'Nutztext', 'Alter der 1. Schicht', 'TAX: Altersklasse',\n",
       "       'Repr. Fläche Schicht', 'Produktionskategorie', 'Geschäftsjahr',\n",
       "       'Abmaßbeleg', 'Maßnahme', 'Geschäftsfeld', 'Bezeichnung',\n",
       "       'Pflanzen Ist', 'Baumarten Ist', 'Repr. Fläche Baumart',\n",
       "       'Ertragstafelnummer', 'Ertragstafelbezeich', 'Anmerkung', 'Zeile1',\n",
       "       'Zeile2', 'Zeile3', 'Zeile4', 'Zeile5', 'Zeile6', 'Zeile7', 'Zeile8',\n",
       "       'Bestockungsziel', 'Flächenanteil', 'id', 'year_to_start',\n",
       "       'year_to_end'],\n",
       "      dtype='object')"
      ]
     },
     "execution_count": 14,
     "metadata": {},
     "output_type": "execute_result"
    }
   ],
   "source": [
    "sap_tax.columns[100:]"
   ]
  },
  {
   "cell_type": "code",
   "execution_count": 225,
   "metadata": {},
   "outputs": [],
   "source": [
    "sap_tax.fillna(0, inplace=True)"
   ]
  },
  {
   "cell_type": "code",
   "execution_count": 226,
   "metadata": {},
   "outputs": [
    {
     "data": {
      "text/html": [
       "<div>\n",
       "<style scoped>\n",
       "    .dataframe tbody tr th:only-of-type {\n",
       "        vertical-align: middle;\n",
       "    }\n",
       "\n",
       "    .dataframe tbody tr th {\n",
       "        vertical-align: top;\n",
       "    }\n",
       "\n",
       "    .dataframe thead th {\n",
       "        text-align: right;\n",
       "    }\n",
       "</style>\n",
       "<table border=\"1\" class=\"dataframe\">\n",
       "  <thead>\n",
       "    <tr style=\"text-align: right;\">\n",
       "      <th></th>\n",
       "      <th>Forstbetrieb</th>\n",
       "      <th>Forstrevier</th>\n",
       "      <th>Abteilung</th>\n",
       "    </tr>\n",
       "  </thead>\n",
       "  <tbody>\n",
       "    <tr>\n",
       "      <th>0</th>\n",
       "      <td>171</td>\n",
       "      <td>1</td>\n",
       "      <td>648</td>\n",
       "    </tr>\n",
       "    <tr>\n",
       "      <th>1</th>\n",
       "      <td>171</td>\n",
       "      <td>1</td>\n",
       "      <td>648</td>\n",
       "    </tr>\n",
       "    <tr>\n",
       "      <th>2</th>\n",
       "      <td>171</td>\n",
       "      <td>1</td>\n",
       "      <td>648</td>\n",
       "    </tr>\n",
       "    <tr>\n",
       "      <th>3</th>\n",
       "      <td>171</td>\n",
       "      <td>1</td>\n",
       "      <td>648</td>\n",
       "    </tr>\n",
       "    <tr>\n",
       "      <th>4</th>\n",
       "      <td>171</td>\n",
       "      <td>1</td>\n",
       "      <td>648</td>\n",
       "    </tr>\n",
       "    <tr>\n",
       "      <th>...</th>\n",
       "      <td>...</td>\n",
       "      <td>...</td>\n",
       "      <td>...</td>\n",
       "    </tr>\n",
       "    <tr>\n",
       "      <th>16210</th>\n",
       "      <td>182</td>\n",
       "      <td>9</td>\n",
       "      <td>323</td>\n",
       "    </tr>\n",
       "    <tr>\n",
       "      <th>16211</th>\n",
       "      <td>182</td>\n",
       "      <td>9</td>\n",
       "      <td>323</td>\n",
       "    </tr>\n",
       "    <tr>\n",
       "      <th>16212</th>\n",
       "      <td>182</td>\n",
       "      <td>9</td>\n",
       "      <td>323</td>\n",
       "    </tr>\n",
       "    <tr>\n",
       "      <th>16213</th>\n",
       "      <td>182</td>\n",
       "      <td>9</td>\n",
       "      <td>323</td>\n",
       "    </tr>\n",
       "    <tr>\n",
       "      <th>16214</th>\n",
       "      <td>182</td>\n",
       "      <td>9</td>\n",
       "      <td>323</td>\n",
       "    </tr>\n",
       "  </tbody>\n",
       "</table>\n",
       "<p>1098268 rows × 3 columns</p>\n",
       "</div>"
      ],
      "text/plain": [
       "       Forstbetrieb  Forstrevier  Abteilung\n",
       "0               171            1        648\n",
       "1               171            1        648\n",
       "2               171            1        648\n",
       "3               171            1        648\n",
       "4               171            1        648\n",
       "...             ...          ...        ...\n",
       "16210           182            9        323\n",
       "16211           182            9        323\n",
       "16212           182            9        323\n",
       "16213           182            9        323\n",
       "16214           182            9        323\n",
       "\n",
       "[1098268 rows x 3 columns]"
      ]
     },
     "execution_count": 226,
     "metadata": {},
     "output_type": "execute_result"
    }
   ],
   "source": [
    "sap_tax[['Forstbetrieb', 'Forstrevier', 'Abteilung']]"
   ]
  },
  {
   "cell_type": "code",
   "execution_count": 227,
   "metadata": {},
   "outputs": [],
   "source": [
    "# create ID_wo\n",
    "\n",
    "sap_tax['id'] = sap_tax['Forstbetrieb'].astype(str) + sap_tax['Forstrevier'].astype(str) + \\\n",
    "sap_tax['Abteilung'].astype(str) + sap_tax['Unterabteil.'].astype(str) + sap_tax['Teilfl.'].astype(str)"
   ]
  },
  {
   "cell_type": "code",
   "execution_count": 232,
   "metadata": {},
   "outputs": [],
   "source": [
    "sap_tax_df = sap_tax.loc[ (sap_tax['Maßnahmenart'] == 'DE') | (sap_tax['Maßnahmenart'] == 'DF') \\\n",
    "                         | (sap_tax['Maßnahmenart'] == 'ND'), ['id', 'Forstbetrieb', 'Forstrevier', \\\n",
    "                        'Abteilung', 'Unterabteil.', 'Teilfl.', 'Maßnahmenart', 'Nutzdringlichkeit']]"
   ]
  },
  {
   "cell_type": "code",
   "execution_count": 233,
   "metadata": {},
   "outputs": [
    {
     "data": {
      "text/html": [
       "<div>\n",
       "<style scoped>\n",
       "    .dataframe tbody tr th:only-of-type {\n",
       "        vertical-align: middle;\n",
       "    }\n",
       "\n",
       "    .dataframe tbody tr th {\n",
       "        vertical-align: top;\n",
       "    }\n",
       "\n",
       "    .dataframe thead th {\n",
       "        text-align: right;\n",
       "    }\n",
       "</style>\n",
       "<table border=\"1\" class=\"dataframe\">\n",
       "  <thead>\n",
       "    <tr style=\"text-align: right;\">\n",
       "      <th></th>\n",
       "      <th>id</th>\n",
       "      <th>Forstbetrieb</th>\n",
       "      <th>Forstrevier</th>\n",
       "      <th>Abteilung</th>\n",
       "      <th>Unterabteil.</th>\n",
       "      <th>Teilfl.</th>\n",
       "      <th>Bewirtschaftungsform</th>\n",
       "      <th>Maßnahmenart</th>\n",
       "      <th>Nutzdringlichkeit</th>\n",
       "    </tr>\n",
       "  </thead>\n",
       "  <tbody>\n",
       "    <tr>\n",
       "      <th>10</th>\n",
       "      <td>1711652C1</td>\n",
       "      <td>171</td>\n",
       "      <td>1</td>\n",
       "      <td>652</td>\n",
       "      <td>C</td>\n",
       "      <td>1</td>\n",
       "      <td>W</td>\n",
       "      <td>DF</td>\n",
       "      <td>2.0</td>\n",
       "    </tr>\n",
       "    <tr>\n",
       "      <th>26</th>\n",
       "      <td>1711658A1</td>\n",
       "      <td>171</td>\n",
       "      <td>1</td>\n",
       "      <td>658</td>\n",
       "      <td>A</td>\n",
       "      <td>1</td>\n",
       "      <td>W</td>\n",
       "      <td>DF</td>\n",
       "      <td>2.0</td>\n",
       "    </tr>\n",
       "    <tr>\n",
       "      <th>38</th>\n",
       "      <td>1711599G1</td>\n",
       "      <td>171</td>\n",
       "      <td>1</td>\n",
       "      <td>599</td>\n",
       "      <td>G</td>\n",
       "      <td>1</td>\n",
       "      <td>W</td>\n",
       "      <td>DF</td>\n",
       "      <td>2.0</td>\n",
       "    </tr>\n",
       "    <tr>\n",
       "      <th>95</th>\n",
       "      <td>1711726D1</td>\n",
       "      <td>171</td>\n",
       "      <td>1</td>\n",
       "      <td>726</td>\n",
       "      <td>D</td>\n",
       "      <td>1</td>\n",
       "      <td>W</td>\n",
       "      <td>DF</td>\n",
       "      <td>2.0</td>\n",
       "    </tr>\n",
       "    <tr>\n",
       "      <th>149</th>\n",
       "      <td>1711520E1</td>\n",
       "      <td>171</td>\n",
       "      <td>1</td>\n",
       "      <td>520</td>\n",
       "      <td>E</td>\n",
       "      <td>1</td>\n",
       "      <td>W</td>\n",
       "      <td>DF</td>\n",
       "      <td>2.0</td>\n",
       "    </tr>\n",
       "    <tr>\n",
       "      <th>...</th>\n",
       "      <td>...</td>\n",
       "      <td>...</td>\n",
       "      <td>...</td>\n",
       "      <td>...</td>\n",
       "      <td>...</td>\n",
       "      <td>...</td>\n",
       "      <td>...</td>\n",
       "      <td>...</td>\n",
       "      <td>...</td>\n",
       "    </tr>\n",
       "    <tr>\n",
       "      <th>16020</th>\n",
       "      <td>182863F2</td>\n",
       "      <td>182</td>\n",
       "      <td>8</td>\n",
       "      <td>63</td>\n",
       "      <td>F</td>\n",
       "      <td>2</td>\n",
       "      <td>W</td>\n",
       "      <td>DE</td>\n",
       "      <td>2.0</td>\n",
       "    </tr>\n",
       "    <tr>\n",
       "      <th>16076</th>\n",
       "      <td>1829365B2</td>\n",
       "      <td>182</td>\n",
       "      <td>9</td>\n",
       "      <td>365</td>\n",
       "      <td>B</td>\n",
       "      <td>2</td>\n",
       "      <td>W</td>\n",
       "      <td>DE</td>\n",
       "      <td>2.0</td>\n",
       "    </tr>\n",
       "    <tr>\n",
       "      <th>16174</th>\n",
       "      <td>1829350H2</td>\n",
       "      <td>182</td>\n",
       "      <td>9</td>\n",
       "      <td>350</td>\n",
       "      <td>H</td>\n",
       "      <td>2</td>\n",
       "      <td>W</td>\n",
       "      <td>DE</td>\n",
       "      <td>2.0</td>\n",
       "    </tr>\n",
       "    <tr>\n",
       "      <th>16192</th>\n",
       "      <td>182822A3</td>\n",
       "      <td>182</td>\n",
       "      <td>8</td>\n",
       "      <td>22</td>\n",
       "      <td>A</td>\n",
       "      <td>3</td>\n",
       "      <td>W</td>\n",
       "      <td>DE</td>\n",
       "      <td>1.0</td>\n",
       "    </tr>\n",
       "    <tr>\n",
       "      <th>16213</th>\n",
       "      <td>1829323P4</td>\n",
       "      <td>182</td>\n",
       "      <td>9</td>\n",
       "      <td>323</td>\n",
       "      <td>P</td>\n",
       "      <td>4</td>\n",
       "      <td>W</td>\n",
       "      <td>DE</td>\n",
       "      <td>1.0</td>\n",
       "    </tr>\n",
       "  </tbody>\n",
       "</table>\n",
       "<p>39534 rows × 9 columns</p>\n",
       "</div>"
      ],
      "text/plain": [
       "              id  Forstbetrieb  Forstrevier  Abteilung Unterabteil.  Teilfl.  \\\n",
       "10     1711652C1           171            1        652            C        1   \n",
       "26     1711658A1           171            1        658            A        1   \n",
       "38     1711599G1           171            1        599            G        1   \n",
       "95     1711726D1           171            1        726            D        1   \n",
       "149    1711520E1           171            1        520            E        1   \n",
       "...          ...           ...          ...        ...          ...      ...   \n",
       "16020   182863F2           182            8         63            F        2   \n",
       "16076  1829365B2           182            9        365            B        2   \n",
       "16174  1829350H2           182            9        350            H        2   \n",
       "16192   182822A3           182            8         22            A        3   \n",
       "16213  1829323P4           182            9        323            P        4   \n",
       "\n",
       "      Bewirtschaftungsform Maßnahmenart  Nutzdringlichkeit  \n",
       "10                       W           DF                2.0  \n",
       "26                       W           DF                2.0  \n",
       "38                       W           DF                2.0  \n",
       "95                       W           DF                2.0  \n",
       "149                      W           DF                2.0  \n",
       "...                    ...          ...                ...  \n",
       "16020                    W           DE                2.0  \n",
       "16076                    W           DE                2.0  \n",
       "16174                    W           DE                2.0  \n",
       "16192                    W           DE                1.0  \n",
       "16213                    W           DE                1.0  \n",
       "\n",
       "[39534 rows x 9 columns]"
      ]
     },
     "execution_count": 233,
     "metadata": {},
     "output_type": "execute_result"
    }
   ],
   "source": [
    "sap_tax_df"
   ]
  },
  {
   "cell_type": "code",
   "execution_count": 230,
   "metadata": {},
   "outputs": [
    {
     "data": {
      "text/html": [
       "<div>\n",
       "<style scoped>\n",
       "    .dataframe tbody tr th:only-of-type {\n",
       "        vertical-align: middle;\n",
       "    }\n",
       "\n",
       "    .dataframe tbody tr th {\n",
       "        vertical-align: top;\n",
       "    }\n",
       "\n",
       "    .dataframe thead th {\n",
       "        text-align: right;\n",
       "    }\n",
       "</style>\n",
       "<table border=\"1\" class=\"dataframe\">\n",
       "  <thead>\n",
       "    <tr style=\"text-align: right;\">\n",
       "      <th></th>\n",
       "      <th>Beg. Laufzeit</th>\n",
       "      <th>Ende Laufzeit</th>\n",
       "    </tr>\n",
       "  </thead>\n",
       "  <tbody>\n",
       "    <tr>\n",
       "      <th>0</th>\n",
       "      <td>01.01.2009</td>\n",
       "      <td>31.12.2019</td>\n",
       "    </tr>\n",
       "    <tr>\n",
       "      <th>1</th>\n",
       "      <td>01.01.2009</td>\n",
       "      <td>31.12.2019</td>\n",
       "    </tr>\n",
       "    <tr>\n",
       "      <th>2</th>\n",
       "      <td>01.01.2009</td>\n",
       "      <td>31.12.2019</td>\n",
       "    </tr>\n",
       "    <tr>\n",
       "      <th>3</th>\n",
       "      <td>01.01.2009</td>\n",
       "      <td>31.12.2019</td>\n",
       "    </tr>\n",
       "    <tr>\n",
       "      <th>4</th>\n",
       "      <td>01.01.2009</td>\n",
       "      <td>31.12.2019</td>\n",
       "    </tr>\n",
       "    <tr>\n",
       "      <th>...</th>\n",
       "      <td>...</td>\n",
       "      <td>...</td>\n",
       "    </tr>\n",
       "    <tr>\n",
       "      <th>16210</th>\n",
       "      <td>01.01.2016</td>\n",
       "      <td>31.12.2025</td>\n",
       "    </tr>\n",
       "    <tr>\n",
       "      <th>16211</th>\n",
       "      <td>01.01.2016</td>\n",
       "      <td>31.12.2025</td>\n",
       "    </tr>\n",
       "    <tr>\n",
       "      <th>16212</th>\n",
       "      <td>01.01.2016</td>\n",
       "      <td>31.12.2025</td>\n",
       "    </tr>\n",
       "    <tr>\n",
       "      <th>16213</th>\n",
       "      <td>01.01.2016</td>\n",
       "      <td>31.12.2025</td>\n",
       "    </tr>\n",
       "    <tr>\n",
       "      <th>16214</th>\n",
       "      <td>01.01.2016</td>\n",
       "      <td>31.12.2025</td>\n",
       "    </tr>\n",
       "  </tbody>\n",
       "</table>\n",
       "<p>1098268 rows × 2 columns</p>\n",
       "</div>"
      ],
      "text/plain": [
       "      Beg. Laufzeit Ende Laufzeit\n",
       "0        01.01.2009    31.12.2019\n",
       "1        01.01.2009    31.12.2019\n",
       "2        01.01.2009    31.12.2019\n",
       "3        01.01.2009    31.12.2019\n",
       "4        01.01.2009    31.12.2019\n",
       "...             ...           ...\n",
       "16210    01.01.2016    31.12.2025\n",
       "16211    01.01.2016    31.12.2025\n",
       "16212    01.01.2016    31.12.2025\n",
       "16213    01.01.2016    31.12.2025\n",
       "16214    01.01.2016    31.12.2025\n",
       "\n",
       "[1098268 rows x 2 columns]"
      ]
     },
     "execution_count": 230,
     "metadata": {},
     "output_type": "execute_result"
    }
   ],
   "source": [
    "sap_tax[['Beg. Laufzeit', 'Ende Laufzeit']]"
   ]
  },
  {
   "cell_type": "code",
   "execution_count": 231,
   "metadata": {},
   "outputs": [
    {
     "data": {
      "text/plain": [
       "0        2009\n",
       "1        2009\n",
       "2        2009\n",
       "3        2009\n",
       "4        2009\n",
       "         ... \n",
       "16210    2016\n",
       "16211    2016\n",
       "16212    2016\n",
       "16213    2016\n",
       "16214    2016\n",
       "Name: Beg. Laufzeit, Length: 1098268, dtype: int64"
      ]
     },
     "execution_count": 231,
     "metadata": {},
     "output_type": "execute_result"
    }
   ],
   "source": [
    "sap_tax['Beg. Laufzeit'].str[-4:].astype(int)"
   ]
  },
  {
   "cell_type": "code",
   "execution_count": 44,
   "metadata": {},
   "outputs": [
    {
     "data": {
      "text/plain": [
       "array(['01.01.2009', 0, '01.01.2019', '01.01.2010', '01.01.2011',\n",
       "       '01.01.2012', '01.01.2013', '01.01.2014', '01.01.2017',\n",
       "       '01.01.2018', '01.01.2015', '01.01.2016', '01.01.2007',\n",
       "       '01.01.2008'], dtype=object)"
      ]
     },
     "execution_count": 44,
     "metadata": {},
     "output_type": "execute_result"
    }
   ],
   "source": [
    "sap_tax['Beg. Laufzeit'].unique()"
   ]
  },
  {
   "cell_type": "code",
   "execution_count": null,
   "metadata": {},
   "outputs": [],
   "source": []
  },
  {
   "cell_type": "code",
   "execution_count": 1,
   "metadata": {},
   "outputs": [],
   "source": [
    "from DataVector import DataVector"
   ]
  },
  {
   "cell_type": "code",
   "execution_count": 2,
   "metadata": {},
   "outputs": [],
   "source": [
    "vec = DataVector(\"/home/philipp/Data/edin_diss/GIS_tax/raw_vector_Stichtag_20200228.gdb\", 2019)"
   ]
  },
  {
   "cell_type": "code",
   "execution_count": 3,
   "metadata": {},
   "outputs": [
    {
     "data": {
      "text/html": [
       "<div>\n",
       "<style scoped>\n",
       "    .dataframe tbody tr th:only-of-type {\n",
       "        vertical-align: middle;\n",
       "    }\n",
       "\n",
       "    .dataframe tbody tr th {\n",
       "        vertical-align: top;\n",
       "    }\n",
       "\n",
       "    .dataframe thead th {\n",
       "        text-align: right;\n",
       "    }\n",
       "</style>\n",
       "<table border=\"1\" class=\"dataframe\">\n",
       "  <thead>\n",
       "    <tr style=\"text-align: right;\">\n",
       "      <th></th>\n",
       "      <th>FB_KURZ</th>\n",
       "      <th>FB_LANG</th>\n",
       "      <th>FR_KURZ</th>\n",
       "      <th>FR_LANG</th>\n",
       "      <th>ABTEILUNG</th>\n",
       "      <th>UNTERABTEILUNG</th>\n",
       "      <th>FARBCODE</th>\n",
       "      <th>LINKID</th>\n",
       "      <th>SHAPE_Length</th>\n",
       "      <th>SHAPE_Area</th>\n",
       "      <th>geometry</th>\n",
       "      <th>id</th>\n",
       "      <th>year_data</th>\n",
       "    </tr>\n",
       "  </thead>\n",
       "  <tbody>\n",
       "    <tr>\n",
       "      <th>0</th>\n",
       "      <td>179</td>\n",
       "      <td>Pongau</td>\n",
       "      <td>8</td>\n",
       "      <td>Gastein</td>\n",
       "      <td>647</td>\n",
       "      <td>C2</td>\n",
       "      <td>12000000000</td>\n",
       "      <td>{770B160D-349F-4E03-8E31-C09966044E95}</td>\n",
       "      <td>1490.713604</td>\n",
       "      <td>31382.525999</td>\n",
       "      <td>MULTIPOLYGON (((386279.300 302801.760, 386291....</td>\n",
       "      <td>1798647C2</td>\n",
       "      <td>2019</td>\n",
       "    </tr>\n",
       "    <tr>\n",
       "      <th>1</th>\n",
       "      <td>179</td>\n",
       "      <td>Pongau</td>\n",
       "      <td>1</td>\n",
       "      <td>Filzmoos</td>\n",
       "      <td>376</td>\n",
       "      <td>G4</td>\n",
       "      <td>12000000000</td>\n",
       "      <td>{B0F0509B-37B0-42AD-866E-4B6D75DF4AA6}</td>\n",
       "      <td>377.331016</td>\n",
       "      <td>7873.920587</td>\n",
       "      <td>MULTIPOLYGON (((411127.657 338692.175, 411148....</td>\n",
       "      <td>1791376G4</td>\n",
       "      <td>2019</td>\n",
       "    </tr>\n",
       "    <tr>\n",
       "      <th>2</th>\n",
       "      <td>179</td>\n",
       "      <td>Pongau</td>\n",
       "      <td>8</td>\n",
       "      <td>Gastein</td>\n",
       "      <td>689</td>\n",
       "      <td>I0</td>\n",
       "      <td>15000000000</td>\n",
       "      <td>{05C33B9A-5FEC-4754-97D8-D01CF5BDDD1C}</td>\n",
       "      <td>466.808748</td>\n",
       "      <td>10235.032218</td>\n",
       "      <td>MULTIPOLYGON (((380930.470 303118.560, 380935....</td>\n",
       "      <td>1798689I0</td>\n",
       "      <td>2019</td>\n",
       "    </tr>\n",
       "    <tr>\n",
       "      <th>3</th>\n",
       "      <td>179</td>\n",
       "      <td>Pongau</td>\n",
       "      <td>4</td>\n",
       "      <td>Kleinarl</td>\n",
       "      <td>554</td>\n",
       "      <td>G0</td>\n",
       "      <td>35200300000</td>\n",
       "      <td>{6E9C11FE-55F5-4247-A2B5-202F122286F6}</td>\n",
       "      <td>1432.461887</td>\n",
       "      <td>39275.813450</td>\n",
       "      <td>MULTIPOLYGON (((397372.350 318824.840, 397368....</td>\n",
       "      <td>1794554G0</td>\n",
       "      <td>2019</td>\n",
       "    </tr>\n",
       "    <tr>\n",
       "      <th>4</th>\n",
       "      <td>179</td>\n",
       "      <td>Pongau</td>\n",
       "      <td>3</td>\n",
       "      <td>Flachau</td>\n",
       "      <td>224</td>\n",
       "      <td>v_8/001</td>\n",
       "      <td>00000000008</td>\n",
       "      <td>{75650917-8ACF-46EF-912F-201029A152B2}</td>\n",
       "      <td>2062.772651</td>\n",
       "      <td>27072.555584</td>\n",
       "      <td>MULTIPOLYGON (((402954.780 325945.900, 402947....</td>\n",
       "      <td>1793224v_8/001</td>\n",
       "      <td>2019</td>\n",
       "    </tr>\n",
       "  </tbody>\n",
       "</table>\n",
       "</div>"
      ],
      "text/plain": [
       "   FB_KURZ FB_LANG  FR_KURZ   FR_LANG  ABTEILUNG UNTERABTEILUNG     FARBCODE  \\\n",
       "0      179  Pongau        8   Gastein        647             C2  12000000000   \n",
       "1      179  Pongau        1  Filzmoos        376             G4  12000000000   \n",
       "2      179  Pongau        8   Gastein        689             I0  15000000000   \n",
       "3      179  Pongau        4  Kleinarl        554             G0  35200300000   \n",
       "4      179  Pongau        3   Flachau        224        v_8/001  00000000008   \n",
       "\n",
       "                                   LINKID  SHAPE_Length    SHAPE_Area  \\\n",
       "0  {770B160D-349F-4E03-8E31-C09966044E95}   1490.713604  31382.525999   \n",
       "1  {B0F0509B-37B0-42AD-866E-4B6D75DF4AA6}    377.331016   7873.920587   \n",
       "2  {05C33B9A-5FEC-4754-97D8-D01CF5BDDD1C}    466.808748  10235.032218   \n",
       "3  {6E9C11FE-55F5-4247-A2B5-202F122286F6}   1432.461887  39275.813450   \n",
       "4  {75650917-8ACF-46EF-912F-201029A152B2}   2062.772651  27072.555584   \n",
       "\n",
       "                                            geometry              id  \\\n",
       "0  MULTIPOLYGON (((386279.300 302801.760, 386291....       1798647C2   \n",
       "1  MULTIPOLYGON (((411127.657 338692.175, 411148....       1791376G4   \n",
       "2  MULTIPOLYGON (((380930.470 303118.560, 380935....       1798689I0   \n",
       "3  MULTIPOLYGON (((397372.350 318824.840, 397368....       1794554G0   \n",
       "4  MULTIPOLYGON (((402954.780 325945.900, 402947....  1793224v_8/001   \n",
       "\n",
       "   year_data  \n",
       "0       2019  \n",
       "1       2019  \n",
       "2       2019  \n",
       "3       2019  \n",
       "4       2019  "
      ]
     },
     "execution_count": 3,
     "metadata": {},
     "output_type": "execute_result"
    }
   ],
   "source": [
    "vec.wo_vector.head()"
   ]
  },
  {
   "cell_type": "code",
   "execution_count": 4,
   "metadata": {},
   "outputs": [],
   "source": [
    "vec.change_crs(crs='std')"
   ]
  },
  {
   "cell_type": "code",
   "execution_count": 5,
   "metadata": {},
   "outputs": [
    {
     "ename": "KeyError",
     "evalue": "'[2019] not in index'",
     "output_type": "error",
     "traceback": [
      "\u001b[0;31m---------------------------------------------------------------------------\u001b[0m",
      "\u001b[0;31mKeyError\u001b[0m                                  Traceback (most recent call last)",
      "\u001b[0;32m<ipython-input-5-b406fae818fb>\u001b[0m in \u001b[0;36m<module>\u001b[0;34m\u001b[0m\n\u001b[0;32m----> 1\u001b[0;31m \u001b[0mvec\u001b[0m\u001b[0;34m.\u001b[0m\u001b[0mmerge_sap\u001b[0m\u001b[0;34m(\u001b[0m\u001b[0;34m\"/home/philipp/Data/edin_diss/SAP_tax\"\u001b[0m\u001b[0;34m,\u001b[0m \u001b[0mkind\u001b[0m \u001b[0;34m=\u001b[0m \u001b[0;34m'all'\u001b[0m\u001b[0;34m)\u001b[0m\u001b[0;34m\u001b[0m\u001b[0;34m\u001b[0m\u001b[0m\n\u001b[0m",
      "\u001b[0;32m~/Code/python/edin_diss_geo/new/DataVector.py\u001b[0m in \u001b[0;36mmerge_sap\u001b[0;34m(self, path, kind)\u001b[0m\n\u001b[1;32m     46\u001b[0m         '''\n\u001b[1;32m     47\u001b[0m         \u001b[0;31m# read SAP data from path\u001b[0m\u001b[0;34m\u001b[0m\u001b[0;34m\u001b[0m\u001b[0;34m\u001b[0m\u001b[0m\n\u001b[0;32m---> 48\u001b[0;31m         \u001b[0mself\u001b[0m\u001b[0;34m.\u001b[0m\u001b[0mread_sap\u001b[0m\u001b[0;34m(\u001b[0m\u001b[0mpath\u001b[0m\u001b[0;34m)\u001b[0m\u001b[0;34m\u001b[0m\u001b[0;34m\u001b[0m\u001b[0m\n\u001b[0m\u001b[1;32m     49\u001b[0m         \u001b[0;31m# get filter STOE information\u001b[0m\u001b[0;34m\u001b[0m\u001b[0;34m\u001b[0m\u001b[0;34m\u001b[0m\u001b[0m\n\u001b[1;32m     50\u001b[0m         \u001b[0msap_tax_stoe\u001b[0m \u001b[0;34m=\u001b[0m \u001b[0mself\u001b[0m\u001b[0;34m.\u001b[0m\u001b[0mfilter_sap_stoe\u001b[0m\u001b[0;34m(\u001b[0m\u001b[0;34m)\u001b[0m\u001b[0;34m\u001b[0m\u001b[0;34m\u001b[0m\u001b[0m\n",
      "\u001b[0;32m~/Code/python/edin_diss_geo/new/DataVector.py\u001b[0m in \u001b[0;36mread_sap\u001b[0;34m(self, path)\u001b[0m\n\u001b[1;32m     65\u001b[0m         \u001b[0msap_tax\u001b[0m \u001b[0;34m=\u001b[0m \u001b[0mpd\u001b[0m\u001b[0;34m.\u001b[0m\u001b[0mread_csv\u001b[0m\u001b[0;34m(\u001b[0m\u001b[0mpath\u001b[0m \u001b[0;34m+\u001b[0m \u001b[0;34m\"/sap_meta.csv\"\u001b[0m\u001b[0;34m,\u001b[0m \u001b[0msep\u001b[0m\u001b[0;34m=\u001b[0m\u001b[0;34m','\u001b[0m\u001b[0;34m)\u001b[0m\u001b[0;34m\u001b[0m\u001b[0;34m\u001b[0m\u001b[0m\n\u001b[1;32m     66\u001b[0m         \u001b[0;31m# filter metadata for a given year\u001b[0m\u001b[0;34m\u001b[0m\u001b[0;34m\u001b[0m\u001b[0;34m\u001b[0m\u001b[0m\n\u001b[0;32m---> 67\u001b[0;31m         \u001b[0msap_tax_year\u001b[0m \u001b[0;34m=\u001b[0m \u001b[0msap_tax\u001b[0m\u001b[0;34m[\u001b[0m\u001b[0;34m[\u001b[0m\u001b[0;34m'FB'\u001b[0m\u001b[0;34m,\u001b[0m \u001b[0mself\u001b[0m\u001b[0;34m.\u001b[0m\u001b[0myear\u001b[0m\u001b[0;34m]\u001b[0m\u001b[0;34m]\u001b[0m\u001b[0;34m\u001b[0m\u001b[0;34m\u001b[0m\u001b[0m\n\u001b[0m\u001b[1;32m     68\u001b[0m         \u001b[0;31m# create array with all TOs for a given year\u001b[0m\u001b[0;34m\u001b[0m\u001b[0;34m\u001b[0m\u001b[0;34m\u001b[0m\u001b[0m\n\u001b[1;32m     69\u001b[0m         \u001b[0mtos\u001b[0m \u001b[0;34m=\u001b[0m \u001b[0msap_tax\u001b[0m\u001b[0;34m[\u001b[0m\u001b[0myear_data\u001b[0m\u001b[0;34m]\u001b[0m\u001b[0;34m.\u001b[0m\u001b[0munique\u001b[0m\u001b[0;34m(\u001b[0m\u001b[0;34m)\u001b[0m\u001b[0;34m\u001b[0m\u001b[0;34m\u001b[0m\u001b[0m\n",
      "\u001b[0;32m~/miniconda3/envs/geopd/lib/python3.7/site-packages/pandas/core/frame.py\u001b[0m in \u001b[0;36m__getitem__\u001b[0;34m(self, key)\u001b[0m\n\u001b[1;32m   2804\u001b[0m             \u001b[0;32mif\u001b[0m \u001b[0mis_iterator\u001b[0m\u001b[0;34m(\u001b[0m\u001b[0mkey\u001b[0m\u001b[0;34m)\u001b[0m\u001b[0;34m:\u001b[0m\u001b[0;34m\u001b[0m\u001b[0;34m\u001b[0m\u001b[0m\n\u001b[1;32m   2805\u001b[0m                 \u001b[0mkey\u001b[0m \u001b[0;34m=\u001b[0m \u001b[0mlist\u001b[0m\u001b[0;34m(\u001b[0m\u001b[0mkey\u001b[0m\u001b[0;34m)\u001b[0m\u001b[0;34m\u001b[0m\u001b[0;34m\u001b[0m\u001b[0m\n\u001b[0;32m-> 2806\u001b[0;31m             \u001b[0mindexer\u001b[0m \u001b[0;34m=\u001b[0m \u001b[0mself\u001b[0m\u001b[0;34m.\u001b[0m\u001b[0mloc\u001b[0m\u001b[0;34m.\u001b[0m\u001b[0m_get_listlike_indexer\u001b[0m\u001b[0;34m(\u001b[0m\u001b[0mkey\u001b[0m\u001b[0;34m,\u001b[0m \u001b[0maxis\u001b[0m\u001b[0;34m=\u001b[0m\u001b[0;36m1\u001b[0m\u001b[0;34m,\u001b[0m \u001b[0mraise_missing\u001b[0m\u001b[0;34m=\u001b[0m\u001b[0;32mTrue\u001b[0m\u001b[0;34m)\u001b[0m\u001b[0;34m[\u001b[0m\u001b[0;36m1\u001b[0m\u001b[0;34m]\u001b[0m\u001b[0;34m\u001b[0m\u001b[0;34m\u001b[0m\u001b[0m\n\u001b[0m\u001b[1;32m   2807\u001b[0m \u001b[0;34m\u001b[0m\u001b[0m\n\u001b[1;32m   2808\u001b[0m         \u001b[0;31m# take() does not accept boolean indexers\u001b[0m\u001b[0;34m\u001b[0m\u001b[0;34m\u001b[0m\u001b[0;34m\u001b[0m\u001b[0m\n",
      "\u001b[0;32m~/miniconda3/envs/geopd/lib/python3.7/site-packages/pandas/core/indexing.py\u001b[0m in \u001b[0;36m_get_listlike_indexer\u001b[0;34m(self, key, axis, raise_missing)\u001b[0m\n\u001b[1;32m   1551\u001b[0m \u001b[0;34m\u001b[0m\u001b[0m\n\u001b[1;32m   1552\u001b[0m         self._validate_read_indexer(\n\u001b[0;32m-> 1553\u001b[0;31m             \u001b[0mkeyarr\u001b[0m\u001b[0;34m,\u001b[0m \u001b[0mindexer\u001b[0m\u001b[0;34m,\u001b[0m \u001b[0mo\u001b[0m\u001b[0;34m.\u001b[0m\u001b[0m_get_axis_number\u001b[0m\u001b[0;34m(\u001b[0m\u001b[0maxis\u001b[0m\u001b[0;34m)\u001b[0m\u001b[0;34m,\u001b[0m \u001b[0mraise_missing\u001b[0m\u001b[0;34m=\u001b[0m\u001b[0mraise_missing\u001b[0m\u001b[0;34m\u001b[0m\u001b[0;34m\u001b[0m\u001b[0m\n\u001b[0m\u001b[1;32m   1554\u001b[0m         )\n\u001b[1;32m   1555\u001b[0m         \u001b[0;32mreturn\u001b[0m \u001b[0mkeyarr\u001b[0m\u001b[0;34m,\u001b[0m \u001b[0mindexer\u001b[0m\u001b[0;34m\u001b[0m\u001b[0;34m\u001b[0m\u001b[0m\n",
      "\u001b[0;32m~/miniconda3/envs/geopd/lib/python3.7/site-packages/pandas/core/indexing.py\u001b[0m in \u001b[0;36m_validate_read_indexer\u001b[0;34m(self, key, indexer, axis, raise_missing)\u001b[0m\n\u001b[1;32m   1644\u001b[0m             \u001b[0;32mif\u001b[0m \u001b[0;32mnot\u001b[0m \u001b[0;34m(\u001b[0m\u001b[0mself\u001b[0m\u001b[0;34m.\u001b[0m\u001b[0mname\u001b[0m \u001b[0;34m==\u001b[0m \u001b[0;34m\"loc\"\u001b[0m \u001b[0;32mand\u001b[0m \u001b[0;32mnot\u001b[0m \u001b[0mraise_missing\u001b[0m\u001b[0;34m)\u001b[0m\u001b[0;34m:\u001b[0m\u001b[0;34m\u001b[0m\u001b[0;34m\u001b[0m\u001b[0m\n\u001b[1;32m   1645\u001b[0m                 \u001b[0mnot_found\u001b[0m \u001b[0;34m=\u001b[0m \u001b[0mlist\u001b[0m\u001b[0;34m(\u001b[0m\u001b[0mset\u001b[0m\u001b[0;34m(\u001b[0m\u001b[0mkey\u001b[0m\u001b[0;34m)\u001b[0m \u001b[0;34m-\u001b[0m \u001b[0mset\u001b[0m\u001b[0;34m(\u001b[0m\u001b[0max\u001b[0m\u001b[0;34m)\u001b[0m\u001b[0;34m)\u001b[0m\u001b[0;34m\u001b[0m\u001b[0;34m\u001b[0m\u001b[0m\n\u001b[0;32m-> 1646\u001b[0;31m                 \u001b[0;32mraise\u001b[0m \u001b[0mKeyError\u001b[0m\u001b[0;34m(\u001b[0m\u001b[0;34mf\"{not_found} not in index\"\u001b[0m\u001b[0;34m)\u001b[0m\u001b[0;34m\u001b[0m\u001b[0;34m\u001b[0m\u001b[0m\n\u001b[0m\u001b[1;32m   1647\u001b[0m \u001b[0;34m\u001b[0m\u001b[0m\n\u001b[1;32m   1648\u001b[0m             \u001b[0;31m# we skip the warning on Categorical/Interval\u001b[0m\u001b[0;34m\u001b[0m\u001b[0;34m\u001b[0m\u001b[0;34m\u001b[0m\u001b[0m\n",
      "\u001b[0;31mKeyError\u001b[0m: '[2019] not in index'"
     ]
    }
   ],
   "source": [
    "vec.merge_sap(\"/home/philipp/Data/edin_diss/SAP_tax\", kind = 'wwie')"
   ]
  },
  {
   "cell_type": "code",
   "execution_count": 6,
   "metadata": {},
   "outputs": [],
   "source": [
    "vec.sap_tax"
   ]
  },
  {
   "cell_type": "code",
   "execution_count": 6,
   "metadata": {},
   "outputs": [
    {
     "data": {
      "text/plain": [
       "2019"
      ]
     },
     "execution_count": 6,
     "metadata": {},
     "output_type": "execute_result"
    }
   ],
   "source": [
    "vec.year"
   ]
  },
  {
   "cell_type": "code",
   "execution_count": null,
   "metadata": {},
   "outputs": [],
   "source": []
  }
 ],
 "metadata": {
  "kernelspec": {
   "display_name": "geo",
   "language": "python",
   "name": "geo"
  },
  "language_info": {
   "codemirror_mode": {
    "name": "ipython",
    "version": 3
   },
   "file_extension": ".py",
   "mimetype": "text/x-python",
   "name": "python",
   "nbconvert_exporter": "python",
   "pygments_lexer": "ipython3",
   "version": "3.8.2"
  }
 },
 "nbformat": 4,
 "nbformat_minor": 4
}
