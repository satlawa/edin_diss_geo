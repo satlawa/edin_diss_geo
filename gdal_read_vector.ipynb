{
 "cells": [
  {
   "cell_type": "code",
   "execution_count": 6,
   "metadata": {},
   "outputs": [],
   "source": [
    "import osgeo.ogr as ogr\n",
    "import osgeo.osr as osr\n",
    "import os"
   ]
  },
  {
   "cell_type": "code",
   "execution_count": 2,
   "metadata": {},
   "outputs": [],
   "source": [
    "shp_path = '/home/philipp/Data/edin/diss/grid_256_fin.shp'"
   ]
  },
  {
   "cell_type": "code",
   "execution_count": 31,
   "metadata": {},
   "outputs": [],
   "source": [
    "features = ogr.Open(shp_path)"
   ]
  },
  {
   "cell_type": "code",
   "execution_count": 32,
   "metadata": {},
   "outputs": [
    {
     "data": {
      "text/plain": [
       "<osgeo.ogr.DataSource; proxy of <Swig Object of type 'OGRDataSourceShadow *' at 0x7f0ac0c9c390> >"
      ]
     },
     "execution_count": 32,
     "metadata": {},
     "output_type": "execute_result"
    }
   ],
   "source": [
    "features"
   ]
  },
  {
   "cell_type": "code",
   "execution_count": 7,
   "metadata": {},
   "outputs": [],
   "source": [
    "lyr = features.GetLayer(os.path.split(os.path.splitext(shp_path)[0])[1])"
   ]
  },
  {
   "cell_type": "code",
   "execution_count": 8,
   "metadata": {},
   "outputs": [
    {
     "data": {
      "text/plain": [
       "<osgeo.ogr.Layer; proxy of <Swig Object of type 'OGRLayerShadow *' at 0x7f0ae4062ab0> >"
      ]
     },
     "execution_count": 8,
     "metadata": {},
     "output_type": "execute_result"
    }
   ],
   "source": [
    "lyr"
   ]
  },
  {
   "cell_type": "code",
   "execution_count": 27,
   "metadata": {},
   "outputs": [],
   "source": [
    "poly = lyr.GetNextFeature()"
   ]
  },
  {
   "cell_type": "code",
   "execution_count": 28,
   "metadata": {},
   "outputs": [
    {
     "data": {
      "text/plain": [
       "{'id': 778.0,\n",
       " 'left': 156151.07000349427,\n",
       " 'top': 351853.9152037557,\n",
       " 'right': 156411.07000349427,\n",
       " 'bottom': 351593.9152037557}"
      ]
     },
     "execution_count": 28,
     "metadata": {},
     "output_type": "execute_result"
    }
   ],
   "source": [
    "poly.items()"
   ]
  },
  {
   "cell_type": "code",
   "execution_count": 18,
   "metadata": {},
   "outputs": [],
   "source": [
    "minX, maxX, minY, maxY = lyr.GetExtent()"
   ]
  },
  {
   "cell_type": "code",
   "execution_count": 20,
   "metadata": {},
   "outputs": [
    {
     "name": "stdout",
     "output_type": "stream",
     "text": [
      "156151.07000349427 670605.0700034943 287867.9152037557 552319.9152037557\n"
     ]
    }
   ],
   "source": [
    "print(minX, maxX, minY, maxY)"
   ]
  },
  {
   "cell_type": "code",
   "execution_count": 13,
   "metadata": {},
   "outputs": [
    {
     "data": {
      "text/plain": [
       "'grid_256_fin'"
      ]
     },
     "execution_count": 13,
     "metadata": {},
     "output_type": "execute_result"
    }
   ],
   "source": [
    "lyr.GetDescription()"
   ]
  },
  {
   "cell_type": "code",
   "execution_count": 14,
   "metadata": {},
   "outputs": [
    {
     "data": {
      "text/plain": [
       "138795"
      ]
     },
     "execution_count": 14,
     "metadata": {},
     "output_type": "execute_result"
    }
   ],
   "source": [
    "lyr.GetFeatureCount()"
   ]
  },
  {
   "cell_type": "code",
   "execution_count": 21,
   "metadata": {},
   "outputs": [
    {
     "data": {
      "text/plain": [
       "3"
      ]
     },
     "execution_count": 21,
     "metadata": {},
     "output_type": "execute_result"
    }
   ],
   "source": [
    "lyr.GetGeomType()"
   ]
  },
  {
   "cell_type": "code",
   "execution_count": 22,
   "metadata": {},
   "outputs": [
    {
     "data": {
      "text/plain": [
       "{'DBF_DATE_LAST_UPDATE': '2020-07-22'}"
      ]
     },
     "execution_count": 22,
     "metadata": {},
     "output_type": "execute_result"
    }
   ],
   "source": [
    "lyr."
   ]
  },
  {
   "cell_type": "code",
   "execution_count": 33,
   "metadata": {},
   "outputs": [
    {
     "name": "stdout",
     "output_type": "stream",
     "text": [
      "{'id': 4814.0, 'left': 157183.07000349427, 'top': 368365.9152037557, 'right': 157443.07000349427, 'bottom': 368105.9152037557}\n",
      "{'id': 4815.0, 'left': 157183.07000349427, 'top': 368107.9152037557, 'right': 157443.07000349427, 'bottom': 367847.9152037557}\n",
      "{'id': 4816.0, 'left': 157183.07000349427, 'top': 367849.9152037557, 'right': 157443.07000349427, 'bottom': 367589.9152037557}\n",
      "{'id': 4851.0, 'left': 157183.07000349427, 'top': 358819.9152037557, 'right': 157443.07000349427, 'bottom': 358559.9152037557}\n",
      "{'id': 4852.0, 'left': 157183.07000349427, 'top': 358561.9152037557, 'right': 157443.07000349427, 'bottom': 358301.9152037557}\n",
      "{'id': 4853.0, 'left': 157183.07000349427, 'top': 358303.9152037557, 'right': 157443.07000349427, 'bottom': 358043.9152037557}\n",
      "{'id': 4854.0, 'left': 157183.07000349427, 'top': 358045.9152037557, 'right': 157443.07000349427, 'bottom': 357785.9152037557}\n",
      "{'id': 4855.0, 'left': 157183.07000349427, 'top': 357787.9152037557, 'right': 157443.07000349427, 'bottom': 357527.9152037557}\n",
      "{'id': 4858.0, 'left': 157183.07000349427, 'top': 357013.9152037557, 'right': 157443.07000349427, 'bottom': 356753.9152037557}\n",
      "{'id': 4859.0, 'left': 157183.07000349427, 'top': 356755.9152037557, 'right': 157443.07000349427, 'bottom': 356495.9152037557}\n",
      "{'id': 4874.0, 'left': 157183.07000349427, 'top': 352885.9152037557, 'right': 157443.07000349427, 'bottom': 352625.9152037557}\n",
      "{'id': 4875.0, 'left': 157183.07000349427, 'top': 352627.9152037557, 'right': 157443.07000349427, 'bottom': 352367.9152037557}\n",
      "{'id': 4876.0, 'left': 157183.07000349427, 'top': 352369.9152037557, 'right': 157443.07000349427, 'bottom': 352109.9152037557}\n",
      "{'id': 4880.0, 'left': 157183.07000349427, 'top': 351337.9152037557, 'right': 157443.07000349427, 'bottom': 351077.9152037557}\n",
      "{'id': 5839.0, 'left': 157441.07000349427, 'top': 368365.9152037557, 'right': 157701.07000349427, 'bottom': 368105.9152037557}\n",
      "{'id': 5841.0, 'left': 157441.07000349427, 'top': 367849.9152037557, 'right': 157701.07000349427, 'bottom': 367589.9152037557}\n",
      "{'id': 5842.0, 'left': 157441.07000349427, 'top': 367591.9152037557, 'right': 157701.07000349427, 'bottom': 367331.9152037557}\n",
      "{'id': 5875.0, 'left': 157441.07000349427, 'top': 359077.9152037557, 'right': 157701.07000349427, 'bottom': 358817.9152037557}\n",
      "{'id': 5876.0, 'left': 157441.07000349427, 'top': 358819.9152037557, 'right': 157701.07000349427, 'bottom': 358559.9152037557}\n",
      "{'id': 5877.0, 'left': 157441.07000349427, 'top': 358561.9152037557, 'right': 157701.07000349427, 'bottom': 358301.9152037557}\n"
     ]
    }
   ],
   "source": [
    "for i in range(0, 20):\n",
    "    poly = lyr.GetNextFeature()\n",
    "    print(poly.items())"
   ]
  },
  {
   "cell_type": "code",
   "execution_count": 34,
   "metadata": {},
   "outputs": [
    {
     "data": {
      "text/plain": [
       "44"
      ]
     },
     "execution_count": 34,
     "metadata": {},
     "output_type": "execute_result"
    }
   ],
   "source": [
    "lyr.GetFeaturesRead()"
   ]
  },
  {
   "cell_type": "code",
   "execution_count": 42,
   "metadata": {},
   "outputs": [
    {
     "data": {
      "text/plain": [
       "{'id': 5876.0,\n",
       " 'left': 157441.07000349427,\n",
       " 'top': 358819.9152037557,\n",
       " 'right': 157701.07000349427,\n",
       " 'bottom': 358559.9152037557}"
      ]
     },
     "execution_count": 42,
     "metadata": {},
     "output_type": "execute_result"
    }
   ],
   "source": [
    "lyr.GetFeature(40).items()"
   ]
  },
  {
   "cell_type": "code",
   "execution_count": null,
   "metadata": {},
   "outputs": [],
   "source": []
  }
 ],
 "metadata": {
  "kernelspec": {
   "display_name": "geo",
   "language": "python",
   "name": "geo"
  },
  "language_info": {
   "codemirror_mode": {
    "name": "ipython",
    "version": 3
   },
   "file_extension": ".py",
   "mimetype": "text/x-python",
   "name": "python",
   "nbconvert_exporter": "python",
   "pygments_lexer": "ipython3",
   "version": "3.8.5"
  }
 },
 "nbformat": 4,
 "nbformat_minor": 4
}
