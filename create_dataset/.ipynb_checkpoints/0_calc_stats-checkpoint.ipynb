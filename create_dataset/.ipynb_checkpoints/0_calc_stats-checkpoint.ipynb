{
 "cells": [
  {
   "cell_type": "code",
   "execution_count": 1,
   "metadata": {},
   "outputs": [],
   "source": [
    "import geopandas"
   ]
  },
  {
   "cell_type": "code",
   "execution_count": 2,
   "metadata": {},
   "outputs": [],
   "source": [
    "# calculate weights "
   ]
  },
  {
   "cell_type": "code",
   "execution_count": 3,
   "metadata": {},
   "outputs": [],
   "source": [
    "stats = geopandas.read_file('/home/philipp/Downloads/stats_typ/ststs_typ.shp')"
   ]
  },
  {
   "cell_type": "code",
   "execution_count": 4,
   "metadata": {},
   "outputs": [
    {
     "data": {
      "text/html": [
       "<div>\n",
       "<style scoped>\n",
       "    .dataframe tbody tr th:only-of-type {\n",
       "        vertical-align: middle;\n",
       "    }\n",
       "\n",
       "    .dataframe tbody tr th {\n",
       "        vertical-align: top;\n",
       "    }\n",
       "\n",
       "    .dataframe thead th {\n",
       "        text-align: right;\n",
       "    }\n",
       "</style>\n",
       "<table border=\"1\" class=\"dataframe\">\n",
       "  <thead>\n",
       "    <tr style=\"text-align: right;\">\n",
       "      <th></th>\n",
       "      <th>typ</th>\n",
       "      <th>area</th>\n",
       "      <th>geometry</th>\n",
       "    </tr>\n",
       "  </thead>\n",
       "  <tbody>\n",
       "    <tr>\n",
       "      <th>0</th>\n",
       "      <td>4</td>\n",
       "      <td>20356.200</td>\n",
       "      <td>POLYGON ((617823.101 493816.881, 617812.861 49...</td>\n",
       "    </tr>\n",
       "    <tr>\n",
       "      <th>1</th>\n",
       "      <td>1</td>\n",
       "      <td>284.290</td>\n",
       "      <td>POLYGON ((616681.900 493795.705, 616673.380 49...</td>\n",
       "    </tr>\n",
       "    <tr>\n",
       "      <th>2</th>\n",
       "      <td>1</td>\n",
       "      <td>628.135</td>\n",
       "      <td>POLYGON ((616727.780 493818.285, 616693.580 49...</td>\n",
       "    </tr>\n",
       "    <tr>\n",
       "      <th>3</th>\n",
       "      <td>4</td>\n",
       "      <td>2352.365</td>\n",
       "      <td>POLYGON ((617131.470 494010.975, 617124.440 49...</td>\n",
       "    </tr>\n",
       "    <tr>\n",
       "      <th>4</th>\n",
       "      <td>4</td>\n",
       "      <td>3838.758</td>\n",
       "      <td>POLYGON ((616769.916 493463.354, 616703.848 49...</td>\n",
       "    </tr>\n",
       "    <tr>\n",
       "      <th>...</th>\n",
       "      <td>...</td>\n",
       "      <td>...</td>\n",
       "      <td>...</td>\n",
       "    </tr>\n",
       "    <tr>\n",
       "      <th>9260</th>\n",
       "      <td>2</td>\n",
       "      <td>5255.288</td>\n",
       "      <td>POLYGON ((602380.300 480764.001, 602362.725 48...</td>\n",
       "    </tr>\n",
       "    <tr>\n",
       "      <th>9261</th>\n",
       "      <td>2</td>\n",
       "      <td>1124.075</td>\n",
       "      <td>POLYGON ((602092.487 480678.229, 602105.366 48...</td>\n",
       "    </tr>\n",
       "    <tr>\n",
       "      <th>9262</th>\n",
       "      <td>2</td>\n",
       "      <td>9240.516</td>\n",
       "      <td>POLYGON ((602067.853 480850.622, 602066.875 48...</td>\n",
       "    </tr>\n",
       "    <tr>\n",
       "      <th>9263</th>\n",
       "      <td>2</td>\n",
       "      <td>1774.154</td>\n",
       "      <td>POLYGON ((602209.170 480884.326, 602207.505 48...</td>\n",
       "    </tr>\n",
       "    <tr>\n",
       "      <th>9264</th>\n",
       "      <td>3</td>\n",
       "      <td>111747.557</td>\n",
       "      <td>POLYGON ((602161.742 480882.065, 602155.680 48...</td>\n",
       "    </tr>\n",
       "  </tbody>\n",
       "</table>\n",
       "<p>9265 rows × 3 columns</p>\n",
       "</div>"
      ],
      "text/plain": [
       "      typ        area                                           geometry\n",
       "0       4   20356.200  POLYGON ((617823.101 493816.881, 617812.861 49...\n",
       "1       1     284.290  POLYGON ((616681.900 493795.705, 616673.380 49...\n",
       "2       1     628.135  POLYGON ((616727.780 493818.285, 616693.580 49...\n",
       "3       4    2352.365  POLYGON ((617131.470 494010.975, 617124.440 49...\n",
       "4       4    3838.758  POLYGON ((616769.916 493463.354, 616703.848 49...\n",
       "...   ...         ...                                                ...\n",
       "9260    2    5255.288  POLYGON ((602380.300 480764.001, 602362.725 48...\n",
       "9261    2    1124.075  POLYGON ((602092.487 480678.229, 602105.366 48...\n",
       "9262    2    9240.516  POLYGON ((602067.853 480850.622, 602066.875 48...\n",
       "9263    2    1774.154  POLYGON ((602209.170 480884.326, 602207.505 48...\n",
       "9264    3  111747.557  POLYGON ((602161.742 480882.065, 602155.680 48...\n",
       "\n",
       "[9265 rows x 3 columns]"
      ]
     },
     "execution_count": 4,
     "metadata": {},
     "output_type": "execute_result"
    }
   ],
   "source": [
    "stats"
   ]
  },
  {
   "cell_type": "code",
   "execution_count": 10,
   "metadata": {},
   "outputs": [],
   "source": [
    "x = stats.groupby(['typ']).sum()"
   ]
  },
  {
   "cell_type": "code",
   "execution_count": 13,
   "metadata": {},
   "outputs": [],
   "source": [
    "x['percent'] = x['area'] / x['area'].sum()"
   ]
  },
  {
   "cell_type": "code",
   "execution_count": 14,
   "metadata": {},
   "outputs": [
    {
     "data": {
      "text/html": [
       "<div>\n",
       "<style scoped>\n",
       "    .dataframe tbody tr th:only-of-type {\n",
       "        vertical-align: middle;\n",
       "    }\n",
       "\n",
       "    .dataframe tbody tr th {\n",
       "        vertical-align: top;\n",
       "    }\n",
       "\n",
       "    .dataframe thead th {\n",
       "        text-align: right;\n",
       "    }\n",
       "</style>\n",
       "<table border=\"1\" class=\"dataframe\">\n",
       "  <thead>\n",
       "    <tr style=\"text-align: right;\">\n",
       "      <th></th>\n",
       "      <th>area</th>\n",
       "      <th>percent</th>\n",
       "    </tr>\n",
       "    <tr>\n",
       "      <th>typ</th>\n",
       "      <th></th>\n",
       "      <th></th>\n",
       "    </tr>\n",
       "  </thead>\n",
       "  <tbody>\n",
       "    <tr>\n",
       "      <th>1</th>\n",
       "      <td>1.010047e+07</td>\n",
       "      <td>0.071774</td>\n",
       "    </tr>\n",
       "    <tr>\n",
       "      <th>2</th>\n",
       "      <td>1.089356e+08</td>\n",
       "      <td>0.774102</td>\n",
       "    </tr>\n",
       "    <tr>\n",
       "      <th>3</th>\n",
       "      <td>1.737831e+07</td>\n",
       "      <td>0.123491</td>\n",
       "    </tr>\n",
       "    <tr>\n",
       "      <th>4</th>\n",
       "      <td>4.310798e+06</td>\n",
       "      <td>0.030633</td>\n",
       "    </tr>\n",
       "  </tbody>\n",
       "</table>\n",
       "</div>"
      ],
      "text/plain": [
       "             area   percent\n",
       "typ                        \n",
       "1    1.010047e+07  0.071774\n",
       "2    1.089356e+08  0.774102\n",
       "3    1.737831e+07  0.123491\n",
       "4    4.310798e+06  0.030633"
      ]
     },
     "execution_count": 14,
     "metadata": {},
     "output_type": "execute_result"
    }
   ],
   "source": [
    "x"
   ]
  },
  {
   "cell_type": "code",
   "execution_count": null,
   "metadata": {},
   "outputs": [],
   "source": [
    "#############################################\n",
    "#   calculate mean and standard deviation   #\n",
    "#############################################"
   ]
  },
  {
   "cell_type": "code",
   "execution_count": 1,
   "metadata": {},
   "outputs": [],
   "source": [
    "import h5py\n",
    "import numpy as np\n",
    "#import matplotlib.pyplot as plt"
   ]
  },
  {
   "cell_type": "code",
   "execution_count": 3,
   "metadata": {},
   "outputs": [
    {
     "name": "stdout",
     "output_type": "stream",
     "text": [
      "<KeysViewHDF5 ['x_ground_truth', 'x_ortho']>\n"
     ]
    }
   ],
   "source": [
    "path = \"/media/philipp/DATA/dataset/dataset_256_ba.h5\"\n",
    "dset = h5py.File(path, 'r')\n",
    "print(dset.keys())\n",
    "ortho = dset['x_ortho']"
   ]
  },
  {
   "cell_type": "code",
   "execution_count": 3,
   "metadata": {},
   "outputs": [],
   "source": [
    "# info dataset\n",
    "# 0:46868 -> wien\n",
    "# 46868:91055 -> mariazell"
   ]
  },
  {
   "cell_type": "code",
   "execution_count": 4,
   "metadata": {},
   "outputs": [],
   "source": [
    "##################\n",
    "## calculate mean\n",
    "##################"
   ]
  },
  {
   "cell_type": "code",
   "execution_count": 6,
   "metadata": {},
   "outputs": [],
   "source": [
    "us_wien = list()\n",
    "\n",
    "# mean wien\n",
    "for band in range(4):\n",
    "    u1 = np.moveaxis(ortho[0:23434], 3, 0)[band].mean()\n",
    "    u2 = np.moveaxis(ortho[23434:46868], 3, 0)[band].mean()\n",
    "    us_wien.append((u1+u2)/2)"
   ]
  },
  {
   "cell_type": "code",
   "execution_count": 7,
   "metadata": {},
   "outputs": [
    {
     "data": {
      "text/plain": [
       "[56.003890684524514, 68.57362613839135, 74.81702698592574, 153.3728899964296]"
      ]
     },
     "execution_count": 7,
     "metadata": {},
     "output_type": "execute_result"
    }
   ],
   "source": [
    "# RGBI\n",
    "us_wien"
   ]
  },
  {
   "cell_type": "code",
   "execution_count": 10,
   "metadata": {},
   "outputs": [],
   "source": [
    "us_mariazell = list()\n",
    "\n",
    "# mean wien\n",
    "for band in range(4):\n",
    "    u1 = np.moveaxis(ortho[46868:68962], 3, 0)[band].mean()\n",
    "    u2 = np.moveaxis(ortho[68962:91055], 3, 0)[band].mean()\n",
    "    us_mariazell.append((u1+u2)/2)"
   ]
  },
  {
   "cell_type": "code",
   "execution_count": 11,
   "metadata": {},
   "outputs": [
    {
     "data": {
      "text/plain": [
       "[52.57864629094064, 63.1731943283136, 59.55804782119867, 101.3607586098534]"
      ]
     },
     "execution_count": 11,
     "metadata": {},
     "output_type": "execute_result"
    }
   ],
   "source": [
    "# RGBI\n",
    "us_mariazell"
   ]
  },
  {
   "cell_type": "code",
   "execution_count": null,
   "metadata": {},
   "outputs": [],
   "source": [
    "################################\n",
    "## calculate standard deviation\n",
    "################################"
   ]
  },
  {
   "cell_type": "code",
   "execution_count": 22,
   "metadata": {},
   "outputs": [],
   "source": [
    "start = 0\n",
    "end = 46868\n",
    "\n",
    "std_wien = list()\n",
    "\n",
    "for band in range(4):\n",
    "    # sum squared difference\n",
    "    sum_sqr = list()\n",
    "    for i in range(end//10000):\n",
    "        sum_sqr.append(((np.moveaxis(ortho[start+(i)*10000:start+(i+1)*10000], 3, 0)[band] - us_wien[band])**2).sum())\n",
    "    sum_sqr.append(((np.moveaxis(ortho[start+(i)*10000:start+(i+1)*10000+(end%10000)], 3, 0)[band] - us_wien[band])**2).sum())\n",
    "\n",
    "    # count records\n",
    "    sum_n = list()\n",
    "    for i in range(end//10000):\n",
    "        sum_n.append(np.moveaxis(ortho[start+(i)*10000:start+(i+1)*10000], 3, 0)[band].size)\n",
    "    sum_n.append(np.moveaxis(ortho[start+(i)*10000:start+(i+1)*10000+(end%10000)], 3, 0)[band].size)\n",
    "\n",
    "    std_wien.append((sum(sum_sqr)/sum(sum_n))**(1/2))"
   ]
  },
  {
   "cell_type": "code",
   "execution_count": 23,
   "metadata": {},
   "outputs": [
    {
     "data": {
      "text/plain": [
       "[22.921560008757936, 24.69759936552532, 19.553485949030918, 35.00320612463889]"
      ]
     },
     "execution_count": 23,
     "metadata": {},
     "output_type": "execute_result"
    }
   ],
   "source": [
    "# RGBI\n",
    "std_wien"
   ]
  },
  {
   "cell_type": "code",
   "execution_count": 40,
   "metadata": {},
   "outputs": [
    {
     "name": "stdout",
     "output_type": "stream",
     "text": [
      "Band: 0\n",
      "Band: 1\n",
      "Band: 2\n",
      "Band: 3\n"
     ]
    }
   ],
   "source": [
    "start = 46868\n",
    "end = 91055\n",
    "\n",
    "std_mariazell = list()\n",
    "\n",
    "for band in range(4):\n",
    "    print('Band: {}'.format(band))\n",
    "    # sum squared difference\n",
    "    sum_sqr = list()\n",
    "    for i in range((end-start)//10000):\n",
    "        sum_sqr.append(((np.moveaxis(ortho[start+(i)*10000:start+(i+1)*10000], 3, 0)[band] - us_mariazell[band])**2).sum())\n",
    "    sum_sqr.append(((np.moveaxis(ortho[start+(i)*10000:start+(i+1)*10000+((end-start)%10000)], 3, 0)[band] - us_mariazell[band])**2).sum())\n",
    "\n",
    "    # count records\n",
    "    sum_n = list()\n",
    "    for i in range((end-start)//10000):\n",
    "        sum_n.append(np.moveaxis(ortho[start+(i)*10000:start+(i+1)*10000], 3, 0)[band].size)\n",
    "    sum_n.append(np.moveaxis(ortho[start+(i)*10000:start+(i+1)*10000+((end-start)%10000)], 3, 0)[band].size)\n",
    "\n",
    "    std_mariazell.append((sum(sum_sqr)/sum(sum_n))**(1/2))"
   ]
  },
  {
   "cell_type": "code",
   "execution_count": 41,
   "metadata": {},
   "outputs": [
    {
     "data": {
      "text/plain": [
       "[37.73983594430985, 35.156998551108586, 25.451356265963383, 47.10539409662177]"
      ]
     },
     "execution_count": 41,
     "metadata": {},
     "output_type": "execute_result"
    }
   ],
   "source": [
    "# RGBI\n",
    "std_mariazell"
   ]
  },
  {
   "cell_type": "code",
   "execution_count": null,
   "metadata": {},
   "outputs": [],
   "source": []
  },
  {
   "cell_type": "code",
   "execution_count": null,
   "metadata": {},
   "outputs": [],
   "source": [
    "#################################################\n",
    "# calculate weights due to unbalanced classes   #\n",
    "#################################################"
   ]
  },
  {
   "cell_type": "code",
   "execution_count": 4,
   "metadata": {},
   "outputs": [],
   "source": [
    "gt = dset['x_ground_truth']"
   ]
  },
  {
   "cell_type": "code",
   "execution_count": 5,
   "metadata": {},
   "outputs": [
    {
     "data": {
      "text/plain": [
       "<HDF5 dataset \"x_ground_truth\": shape (100000, 256, 256, 1), type \"|u1\">"
      ]
     },
     "execution_count": 5,
     "metadata": {},
     "output_type": "execute_result"
    }
   ],
   "source": [
    "gt"
   ]
  },
  {
   "cell_type": "code",
   "execution_count": 6,
   "metadata": {},
   "outputs": [],
   "source": [
    "end = 91055\n",
    "sum_class = list()\n",
    "\n",
    "for i in range(end//10000):\n",
    "    classes, sum_c = np.unique(gt[i*10000:(i+1)*10000], return_counts = True)\n",
    "    sum_class.append(sum_c)\n",
    "\n",
    "classes, sum_c = np.unique(gt[i*10000:end], return_counts = True)\n",
    "sum_class.append(sum_c)"
   ]
  },
  {
   "cell_type": "code",
   "execution_count": 7,
   "metadata": {},
   "outputs": [
    {
     "data": {
      "text/plain": [
       "[array([ 11258438,  39484961, 503645242,  83114345,  17857014]),\n",
       " array([ 11545801,  41954406, 500141997,  84353453,  17364343]),\n",
       " array([ 11670455,  36776192, 501591979,  88616666,  16704708]),\n",
       " array([ 11355261,  35318759, 510486448,  81950548,  16248984]),\n",
       " array([  9983671,  56433478, 363159507, 204331801,  21451543]),\n",
       " array([  5625072, 103903925,  46459225, 467650033,  31721745]),\n",
       " array([  6191595, 112284435,  50102024, 455111006,  31670940]),\n",
       " array([  6013906, 111347994,  49970234, 456820754,  31207112]),\n",
       " array([  5739221, 109685972,  51363699, 456594349,  31976759]),\n",
       " array([  6393404, 121262613,  56724258, 504741095,  35379110])]"
      ]
     },
     "execution_count": 7,
     "metadata": {},
     "output_type": "execute_result"
    }
   ],
   "source": [
    "sum_class"
   ]
  },
  {
   "cell_type": "code",
   "execution_count": 14,
   "metadata": {},
   "outputs": [],
   "source": [
    "sum_class = np.concatenate(sum_class, axis=0).reshape((-1, 5))"
   ]
  },
  {
   "cell_type": "code",
   "execution_count": 19,
   "metadata": {},
   "outputs": [
    {
     "data": {
      "text/plain": [
       "array([0.01295186, 0.11603244, 0.39766689, 0.43536117, 0.03798764])"
      ]
     },
     "execution_count": 19,
     "metadata": {},
     "output_type": "execute_result"
    }
   ],
   "source": [
    "sum_class.sum(axis=0)/sum_class.sum()"
   ]
  },
  {
   "cell_type": "code",
   "execution_count": null,
   "metadata": {},
   "outputs": [],
   "source": []
  }
 ],
 "metadata": {
  "kernelspec": {
   "display_name": "geo",
   "language": "python",
   "name": "geo"
  },
  "language_info": {
   "codemirror_mode": {
    "name": "ipython",
    "version": 3
   },
   "file_extension": ".py",
   "mimetype": "text/x-python",
   "name": "python",
   "nbconvert_exporter": "python",
   "pygments_lexer": "ipython3",
   "version": "3.8.2"
  }
 },
 "nbformat": 4,
 "nbformat_minor": 4
}
