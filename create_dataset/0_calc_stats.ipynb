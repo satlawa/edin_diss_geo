{
 "cells": [
  {
   "cell_type": "code",
   "execution_count": 1,
   "metadata": {},
   "outputs": [],
   "source": [
    "import geopandas"
   ]
  },
  {
   "cell_type": "code",
   "execution_count": 2,
   "metadata": {},
   "outputs": [],
   "source": [
    "# calculate weights "
   ]
  },
  {
   "cell_type": "code",
   "execution_count": 3,
   "metadata": {},
   "outputs": [],
   "source": [
    "stats = geopandas.read_file('/home/philipp/Downloads/stats_typ/ststs_typ.shp')"
   ]
  },
  {
   "cell_type": "code",
   "execution_count": 4,
   "metadata": {},
   "outputs": [
    {
     "data": {
      "text/html": [
       "<div>\n",
       "<style scoped>\n",
       "    .dataframe tbody tr th:only-of-type {\n",
       "        vertical-align: middle;\n",
       "    }\n",
       "\n",
       "    .dataframe tbody tr th {\n",
       "        vertical-align: top;\n",
       "    }\n",
       "\n",
       "    .dataframe thead th {\n",
       "        text-align: right;\n",
       "    }\n",
       "</style>\n",
       "<table border=\"1\" class=\"dataframe\">\n",
       "  <thead>\n",
       "    <tr style=\"text-align: right;\">\n",
       "      <th></th>\n",
       "      <th>typ</th>\n",
       "      <th>area</th>\n",
       "      <th>geometry</th>\n",
       "    </tr>\n",
       "  </thead>\n",
       "  <tbody>\n",
       "    <tr>\n",
       "      <th>0</th>\n",
       "      <td>4</td>\n",
       "      <td>20356.200</td>\n",
       "      <td>POLYGON ((617823.101 493816.881, 617812.861 49...</td>\n",
       "    </tr>\n",
       "    <tr>\n",
       "      <th>1</th>\n",
       "      <td>1</td>\n",
       "      <td>284.290</td>\n",
       "      <td>POLYGON ((616681.900 493795.705, 616673.380 49...</td>\n",
       "    </tr>\n",
       "    <tr>\n",
       "      <th>2</th>\n",
       "      <td>1</td>\n",
       "      <td>628.135</td>\n",
       "      <td>POLYGON ((616727.780 493818.285, 616693.580 49...</td>\n",
       "    </tr>\n",
       "    <tr>\n",
       "      <th>3</th>\n",
       "      <td>4</td>\n",
       "      <td>2352.365</td>\n",
       "      <td>POLYGON ((617131.470 494010.975, 617124.440 49...</td>\n",
       "    </tr>\n",
       "    <tr>\n",
       "      <th>4</th>\n",
       "      <td>4</td>\n",
       "      <td>3838.758</td>\n",
       "      <td>POLYGON ((616769.916 493463.354, 616703.848 49...</td>\n",
       "    </tr>\n",
       "    <tr>\n",
       "      <th>...</th>\n",
       "      <td>...</td>\n",
       "      <td>...</td>\n",
       "      <td>...</td>\n",
       "    </tr>\n",
       "    <tr>\n",
       "      <th>9260</th>\n",
       "      <td>2</td>\n",
       "      <td>5255.288</td>\n",
       "      <td>POLYGON ((602380.300 480764.001, 602362.725 48...</td>\n",
       "    </tr>\n",
       "    <tr>\n",
       "      <th>9261</th>\n",
       "      <td>2</td>\n",
       "      <td>1124.075</td>\n",
       "      <td>POLYGON ((602092.487 480678.229, 602105.366 48...</td>\n",
       "    </tr>\n",
       "    <tr>\n",
       "      <th>9262</th>\n",
       "      <td>2</td>\n",
       "      <td>9240.516</td>\n",
       "      <td>POLYGON ((602067.853 480850.622, 602066.875 48...</td>\n",
       "    </tr>\n",
       "    <tr>\n",
       "      <th>9263</th>\n",
       "      <td>2</td>\n",
       "      <td>1774.154</td>\n",
       "      <td>POLYGON ((602209.170 480884.326, 602207.505 48...</td>\n",
       "    </tr>\n",
       "    <tr>\n",
       "      <th>9264</th>\n",
       "      <td>3</td>\n",
       "      <td>111747.557</td>\n",
       "      <td>POLYGON ((602161.742 480882.065, 602155.680 48...</td>\n",
       "    </tr>\n",
       "  </tbody>\n",
       "</table>\n",
       "<p>9265 rows × 3 columns</p>\n",
       "</div>"
      ],
      "text/plain": [
       "      typ        area                                           geometry\n",
       "0       4   20356.200  POLYGON ((617823.101 493816.881, 617812.861 49...\n",
       "1       1     284.290  POLYGON ((616681.900 493795.705, 616673.380 49...\n",
       "2       1     628.135  POLYGON ((616727.780 493818.285, 616693.580 49...\n",
       "3       4    2352.365  POLYGON ((617131.470 494010.975, 617124.440 49...\n",
       "4       4    3838.758  POLYGON ((616769.916 493463.354, 616703.848 49...\n",
       "...   ...         ...                                                ...\n",
       "9260    2    5255.288  POLYGON ((602380.300 480764.001, 602362.725 48...\n",
       "9261    2    1124.075  POLYGON ((602092.487 480678.229, 602105.366 48...\n",
       "9262    2    9240.516  POLYGON ((602067.853 480850.622, 602066.875 48...\n",
       "9263    2    1774.154  POLYGON ((602209.170 480884.326, 602207.505 48...\n",
       "9264    3  111747.557  POLYGON ((602161.742 480882.065, 602155.680 48...\n",
       "\n",
       "[9265 rows x 3 columns]"
      ]
     },
     "execution_count": 4,
     "metadata": {},
     "output_type": "execute_result"
    }
   ],
   "source": [
    "stats"
   ]
  },
  {
   "cell_type": "code",
   "execution_count": 10,
   "metadata": {},
   "outputs": [],
   "source": [
    "x = stats.groupby(['typ']).sum()"
   ]
  },
  {
   "cell_type": "code",
   "execution_count": 13,
   "metadata": {},
   "outputs": [],
   "source": [
    "x['percent'] = x['area'] / x['area'].sum()"
   ]
  },
  {
   "cell_type": "code",
   "execution_count": 14,
   "metadata": {},
   "outputs": [
    {
     "data": {
      "text/html": [
       "<div>\n",
       "<style scoped>\n",
       "    .dataframe tbody tr th:only-of-type {\n",
       "        vertical-align: middle;\n",
       "    }\n",
       "\n",
       "    .dataframe tbody tr th {\n",
       "        vertical-align: top;\n",
       "    }\n",
       "\n",
       "    .dataframe thead th {\n",
       "        text-align: right;\n",
       "    }\n",
       "</style>\n",
       "<table border=\"1\" class=\"dataframe\">\n",
       "  <thead>\n",
       "    <tr style=\"text-align: right;\">\n",
       "      <th></th>\n",
       "      <th>area</th>\n",
       "      <th>percent</th>\n",
       "    </tr>\n",
       "    <tr>\n",
       "      <th>typ</th>\n",
       "      <th></th>\n",
       "      <th></th>\n",
       "    </tr>\n",
       "  </thead>\n",
       "  <tbody>\n",
       "    <tr>\n",
       "      <th>1</th>\n",
       "      <td>1.010047e+07</td>\n",
       "      <td>0.071774</td>\n",
       "    </tr>\n",
       "    <tr>\n",
       "      <th>2</th>\n",
       "      <td>1.089356e+08</td>\n",
       "      <td>0.774102</td>\n",
       "    </tr>\n",
       "    <tr>\n",
       "      <th>3</th>\n",
       "      <td>1.737831e+07</td>\n",
       "      <td>0.123491</td>\n",
       "    </tr>\n",
       "    <tr>\n",
       "      <th>4</th>\n",
       "      <td>4.310798e+06</td>\n",
       "      <td>0.030633</td>\n",
       "    </tr>\n",
       "  </tbody>\n",
       "</table>\n",
       "</div>"
      ],
      "text/plain": [
       "             area   percent\n",
       "typ                        \n",
       "1    1.010047e+07  0.071774\n",
       "2    1.089356e+08  0.774102\n",
       "3    1.737831e+07  0.123491\n",
       "4    4.310798e+06  0.030633"
      ]
     },
     "execution_count": 14,
     "metadata": {},
     "output_type": "execute_result"
    }
   ],
   "source": [
    "x"
   ]
  },
  {
   "cell_type": "code",
   "execution_count": null,
   "metadata": {},
   "outputs": [],
   "source": [
    "#############################################\n",
    "#   calculate mean and standard deviation   #\n",
    "#############################################"
   ]
  },
  {
   "cell_type": "code",
   "execution_count": 1,
   "metadata": {},
   "outputs": [],
   "source": [
    "import h5py\n",
    "import numpy as np\n",
    "#import matplotlib.pyplot as plt"
   ]
  },
  {
   "cell_type": "code",
   "execution_count": 2,
   "metadata": {},
   "outputs": [
    {
     "name": "stdout",
     "output_type": "stream",
     "text": [
      "<KeysViewHDF5 ['x_ground_truth', 'x_ortho']>\n"
     ]
    }
   ],
   "source": [
    "path = \"/home/philipp/Data/edin_dataset/dataset_256_ba.h5\"\n",
    "dset = h5py.File(path, 'r')\n",
    "print(dset.keys())\n",
    "ortho = dset['x_ortho']"
   ]
  },
  {
   "cell_type": "code",
   "execution_count": 6,
   "metadata": {},
   "outputs": [
    {
     "data": {
      "text/plain": [
       "88.32899811477661"
      ]
     },
     "execution_count": 6,
     "metadata": {},
     "output_type": "execute_result"
    }
   ],
   "source": [
    "ortho[:10000].mean()"
   ]
  },
  {
   "cell_type": "code",
   "execution_count": 15,
   "metadata": {},
   "outputs": [
    {
     "data": {
      "text/plain": [
       "(2000, 256, 256, 4)"
      ]
     },
     "execution_count": 15,
     "metadata": {},
     "output_type": "execute_result"
    }
   ],
   "source": [
    "ortho[:2000].shape"
   ]
  },
  {
   "cell_type": "code",
   "execution_count": 25,
   "metadata": {
    "scrolled": true
   },
   "outputs": [
    {
     "data": {
      "text/plain": [
       "(4, 100, 256, 256)"
      ]
     },
     "execution_count": 25,
     "metadata": {},
     "output_type": "execute_result"
    }
   ],
   "source": [
    "# rearrange dimensions \n",
    "np.moveaxis(ortho[:100], 3, 0).shape"
   ]
  },
  {
   "cell_type": "code",
   "execution_count": 4,
   "metadata": {},
   "outputs": [
    {
     "data": {
      "text/plain": [
       "46.3706972766336"
      ]
     },
     "execution_count": 4,
     "metadata": {},
     "output_type": "execute_result"
    }
   ],
   "source": [
    "ortho[:2000].std()"
   ]
  },
  {
   "cell_type": "code",
   "execution_count": null,
   "metadata": {},
   "outputs": [],
   "source": [
    "# calc mean"
   ]
  },
  {
   "cell_type": "code",
   "execution_count": 3,
   "metadata": {
    "scrolled": true
   },
   "outputs": [
    {
     "name": "stdout",
     "output_type": "stream",
     "text": [
      "56.02732971954346\n",
      "56.146769607543945\n",
      "56.298400722503665\n",
      "56.269758758544924\n",
      "56.31877851486206\n",
      "55.751606674194335\n",
      "55.764327659606934\n",
      "55.74617500686646\n",
      "55.86728916168213\n",
      "55.7633464012146\n",
      "55.98012944412231\n",
      "55.185220790863035\n",
      "52.387024589538576\n",
      "52.115344215393065\n",
      "52.00401023483276\n",
      "52.70980043792725\n",
      "53.138613361358644\n",
      "53.19888626098633\n",
      "52.8334953956604\n",
      "52.323093734741214\n",
      "52.780654922485354\n",
      "52.57570294570923\n",
      "39.83497578048706\n",
      "0.0\n",
      "0.0\n"
     ]
    }
   ],
   "source": [
    "for i in range(25):\n",
    "    print(np.moveaxis(ortho[i*4000:(i+1)*4000], 3, 0)[0].mean())"
   ]
  },
  {
   "cell_type": "code",
   "execution_count": null,
   "metadata": {},
   "outputs": [],
   "source": [
    "# calc standard deviation"
   ]
  },
  {
   "cell_type": "code",
   "execution_count": 5,
   "metadata": {},
   "outputs": [],
   "source": [
    "i=0\n",
    "x=[]\n",
    "for i in range(25):\n",
    "    x.append(((np.moveaxis(ortho[i*4000:(i+1)*4000], 3, 0)[0] - 56.025)**2).sum())"
   ]
  },
  {
   "cell_type": "code",
   "execution_count": 10,
   "metadata": {},
   "outputs": [
    {
     "data": {
      "text/plain": [
       "94076501.18468715"
      ]
     },
     "execution_count": 10,
     "metadata": {},
     "output_type": "execute_result"
    }
   ],
   "source": [
    "sum(x)/(25*4000*256*256)**(1/2)"
   ]
  },
  {
   "cell_type": "code",
   "execution_count": 13,
   "metadata": {},
   "outputs": [],
   "source": [
    "i=0\n",
    "n=[]\n",
    "for i in range(25):\n",
    "    n.append(np.moveaxis(ortho[i*4000:(i+1)*4000], 3, 0)[0].size)"
   ]
  },
  {
   "cell_type": "code",
   "execution_count": 15,
   "metadata": {},
   "outputs": [
    {
     "data": {
      "text/plain": [
       "34.08949721660642"
      ]
     },
     "execution_count": 15,
     "metadata": {},
     "output_type": "execute_result"
    }
   ],
   "source": [
    "(sum(x)/sum(n))**(1/2)"
   ]
  },
  {
   "cell_type": "code",
   "execution_count": 6,
   "metadata": {},
   "outputs": [
    {
     "name": "stdout",
     "output_type": "stream",
     "text": [
      "46.3706972766336\n",
      "46.33832475789108\n",
      "46.39620762060354\n",
      "46.4715739149884\n",
      "46.2500837886271\n",
      "46.260540651225114\n",
      "46.36568556450631\n",
      "46.39135791728189\n",
      "46.354599737714956\n",
      "46.32882984855717\n",
      "46.225366369546656\n",
      "46.253598802338125\n",
      "46.379372240772426\n",
      "46.467514533923726\n",
      "46.381275904501955\n",
      "46.52201244553597\n",
      "46.300592003160155\n",
      "46.36818628149443\n",
      "46.23511390535049\n",
      "46.44114127362717\n",
      "46.355078014785036\n",
      "46.458494311667415\n",
      "46.355022524747795\n",
      "45.06316673239668\n",
      "41.698709330221256\n",
      "41.8149057018248\n",
      "41.50467513986725\n",
      "41.5935186327769\n",
      "41.449634845607655\n",
      "41.31561499679394\n",
      "41.85177853807252\n",
      "41.52979409763346\n",
      "41.87506104729481\n",
      "41.68464959876167\n",
      "41.947769318176725\n",
      "41.61517535554614\n",
      "41.73415639643779\n",
      "42.095461870441326\n",
      "41.74802238119987\n",
      "41.71396222993705\n",
      "42.06088837426574\n",
      "41.89740479809759\n",
      "41.65687235056358\n",
      "41.56936500970752\n",
      "41.63615253353877\n",
      "45.57745444960749\n",
      "0.0\n",
      "0.0\n",
      "0.0\n",
      "0.0\n",
      "nan\n",
      "nan\n",
      "nan\n",
      "nan\n",
      "nan\n",
      "nan\n",
      "nan\n",
      "nan\n",
      "nan\n",
      "nan\n",
      "nan\n",
      "nan\n",
      "nan\n",
      "nan\n",
      "nan\n",
      "nan\n",
      "nan\n",
      "nan\n",
      "nan\n",
      "nan\n",
      "nan\n",
      "nan\n",
      "nan\n",
      "nan\n",
      "nan\n",
      "nan\n",
      "nan\n",
      "nan\n",
      "nan\n",
      "nan\n",
      "nan\n",
      "nan\n",
      "nan\n",
      "nan\n",
      "nan\n",
      "nan\n",
      "nan\n",
      "nan\n",
      "nan\n",
      "nan\n",
      "nan\n",
      "nan\n",
      "nan\n",
      "nan\n",
      "nan\n",
      "nan\n",
      "nan\n",
      "nan\n",
      "nan\n",
      "nan\n"
     ]
    },
    {
     "name": "stderr",
     "output_type": "stream",
     "text": [
      "/home/philipp/miniconda3/envs/geo/lib/python3.8/site-packages/numpy/core/_methods.py:216: RuntimeWarning: Degrees of freedom <= 0 for slice\n",
      "  ret = _var(a, axis=axis, dtype=dtype, out=out, ddof=ddof,\n",
      "/home/philipp/miniconda3/envs/geo/lib/python3.8/site-packages/numpy/core/_methods.py:185: RuntimeWarning: invalid value encountered in true_divide\n",
      "  arrmean = um.true_divide(\n",
      "/home/philipp/miniconda3/envs/geo/lib/python3.8/site-packages/numpy/core/_methods.py:209: RuntimeWarning: invalid value encountered in double_scalars\n",
      "  ret = ret.dtype.type(ret / rcount)\n"
     ]
    }
   ],
   "source": [
    "for i in range(50):\n",
    "    print(ortho[i*2000:(i+1)*2000].std())"
   ]
  },
  {
   "cell_type": "code",
   "execution_count": 8,
   "metadata": {},
   "outputs": [
    {
     "name": "stdout",
     "output_type": "stream",
     "text": [
      "88.32899811477661\n",
      "88.34064523658752\n",
      "87.95781745681762\n",
      "88.06655635223389\n",
      "82.30187549972534\n",
      "68.79736037597657\n",
      "69.46131154670715\n",
      "69.20425926589965\n",
      "69.28247956123352\n",
      "7.2274374004364015\n"
     ]
    }
   ],
   "source": [
    "for i in range(10):\n",
    "    print(ortho[i*10000:(i+1)*10000].mean())"
   ]
  },
  {
   "cell_type": "code",
   "execution_count": null,
   "metadata": {},
   "outputs": [],
   "source": [
    "#################################################\n",
    "# calculate weights due to unbalanced classes   #\n",
    "#################################################"
   ]
  },
  {
   "cell_type": "code",
   "execution_count": 7,
   "metadata": {},
   "outputs": [],
   "source": [
    "gt = dset['x_ground_truth']"
   ]
  },
  {
   "cell_type": "code",
   "execution_count": 8,
   "metadata": {},
   "outputs": [
    {
     "data": {
      "text/plain": [
       "<HDF5 dataset \"x_ground_truth\": shape (100000, 256, 256, 1), type \"|u1\">"
      ]
     },
     "execution_count": 8,
     "metadata": {},
     "output_type": "execute_result"
    }
   ],
   "source": [
    "gt"
   ]
  },
  {
   "cell_type": "code",
   "execution_count": 11,
   "metadata": {},
   "outputs": [
    {
     "data": {
      "text/plain": [
       "(array([0, 1, 2, 3, 4], dtype=uint8),\n",
       " array([ 11258438,  39484961, 503645242,  83114345,  17857014]))"
      ]
     },
     "execution_count": 11,
     "metadata": {},
     "output_type": "execute_result"
    }
   ],
   "source": [
    "np.unique(gt[:10000], return_counts = True)"
   ]
  },
  {
   "cell_type": "code",
   "execution_count": null,
   "metadata": {},
   "outputs": [],
   "source": []
  }
 ],
 "metadata": {
  "kernelspec": {
   "display_name": "geo",
   "language": "python",
   "name": "geo"
  },
  "language_info": {
   "codemirror_mode": {
    "name": "ipython",
    "version": 3
   },
   "file_extension": ".py",
   "mimetype": "text/x-python",
   "name": "python",
   "nbconvert_exporter": "python",
   "pygments_lexer": "ipython3",
   "version": "3.8.2"
  }
 },
 "nbformat": 4,
 "nbformat_minor": 4
}
