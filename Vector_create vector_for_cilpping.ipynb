{
 "cells": [
  {
   "cell_type": "code",
   "execution_count": null,
   "metadata": {},
   "outputs": [],
   "source": []
  },
  {
   "cell_type": "code",
   "execution_count": null,
   "metadata": {},
   "outputs": [],
   "source": []
  },
  {
   "cell_type": "code",
   "execution_count": null,
   "metadata": {},
   "outputs": [],
   "source": [
    "#src = gdal.Open('/media/philipp/ed7d22ba-5a3b-4d31-bf6c-6add6e106b3d/oh/oh.tif')\n",
    "src = gdal.Open('/media/philipp/5e9929a4-cb93-48b8-8648-6c83a93e83ed/tmp/raster_1_temp.tif')\n",
    "ulx, xres, xskew, uly, yskew, yres  = src.GetGeoTransform()\n",
    "lrx = ulx + (src.RasterXSize * xres)\n",
    "lry = uly + (src.RasterYSize * yres)\n",
    "\n",
    "print('upper left corner: ', ulx, uly)\n",
    "print('lower right corner: ', lrx, lry)"
   ]
  },
  {
   "cell_type": "code",
   "execution_count": null,
   "metadata": {},
   "outputs": [],
   "source": [
    "from osgeo import ogr\n",
    "\n",
    "# Create ring\n",
    "ring = ogr.Geometry(ogr.wkbLinearRing)\n",
    "ring.AddPoint(ulx, uly)\n",
    "ring.AddPoint(ulx, lry)\n",
    "ring.AddPoint(lrx, lry)\n",
    "ring.AddPoint(lrx, uly)\n",
    "\n",
    "# Create polygon\n",
    "poly = ogr.Geometry(ogr.wkbPolygon)\n",
    "poly.AddGeometry(ring)\n",
    "\n",
    "print(poly.ExportToWkt())"
   ]
  },
  {
   "cell_type": "code",
   "execution_count": null,
   "metadata": {},
   "outputs": [],
   "source": [
    "import osgeo.ogr as ogr\n",
    "import osgeo.osr as osr\n",
    "\n",
    "# set up the shapefile driver\n",
    "driver = ogr.GetDriverByName(\"ESRI Shapefile\")\n",
    "\n",
    "# create the data source\n",
    "data_source = driver.CreateDataSource(\"test.shp\")\n",
    "\n",
    "# create the spatial reference, WGS84\n",
    "srs = osr.SpatialReference()\n",
    "srs.ImportFromEPSG(31287)\n",
    "\n",
    "# create the layer\n",
    "layer = data_source.CreateLayer(\"poly\", srs, ogr.wkbPolygon)\n",
    "\n",
    "#field_region = ogr.FieldDefn(\"Region\", ogr.OFTString)\n",
    "#field_region.SetWidth(24)\n",
    "#layer.CreateField(ogr.FieldDefn(\"Latitude\", ogr.OFTReal))\n",
    "#layer.CreateField(ogr.FieldDefn(\"Longitude\", ogr.OFTReal))\n",
    "layer.CreateField(ogr.FieldDefn('id', ogr.OFTInteger))\n",
    "defn = layer.GetLayerDefn()\n",
    "\n",
    "# Create a new feature (attribute and geometry)\n",
    "feature = ogr.Feature(defn)\n",
    "feature.SetField('id', 123)\n",
    "\n",
    "# Make a geometry, from Shapely object\n",
    "geom = ogr.CreateGeometryFromWkb(poly.ExportToWkt())\n",
    "feature.SetGeometry(geom)\n",
    "\n",
    "# Create the feature in the layer (shapefile)\n",
    "layer.CreateFeature(feature)\n",
    "# Dereference the feature\n",
    "feature = None\n",
    "\n",
    "# Save and close the data source\n",
    "data_source = None"
   ]
  }
 ],
 "metadata": {
  "kernelspec": {
   "display_name": "geo",
   "language": "python",
   "name": "geo"
  },
  "language_info": {
   "codemirror_mode": {
    "name": "ipython",
    "version": 3
   },
   "file_extension": ".py",
   "mimetype": "text/x-python",
   "name": "python",
   "nbconvert_exporter": "python",
   "pygments_lexer": "ipython3",
   "version": "3.8.2"
  }
 },
 "nbformat": 4,
 "nbformat_minor": 4
}
