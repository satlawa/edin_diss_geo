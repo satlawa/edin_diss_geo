{
 "cells": [
  {
   "cell_type": "markdown",
   "metadata": {},
   "source": [
    "# Gdal tutorial"
   ]
  },
  {
   "cell_type": "code",
   "execution_count": null,
   "metadata": {},
   "outputs": [],
   "source": []
  },
  {
   "cell_type": "markdown",
   "metadata": {},
   "source": [
    "### Open and close a raster dataset"
   ]
  },
  {
   "cell_type": "code",
   "execution_count": 1,
   "metadata": {},
   "outputs": [],
   "source": [
    "import gdal\n",
    "\n",
    "# open dataset\n",
    "ds = gdal.Open('/media/philipp/ed7d22ba-5a3b-4d31-bf6c-6add6e106b3d/dtm/25-46.tif')\n",
    "\n",
    "# close dataset\n",
    "ds = None"
   ]
  },
  {
   "cell_type": "markdown",
   "metadata": {},
   "source": [
    "### Get Raster Metadata"
   ]
  },
  {
   "cell_type": "code",
   "execution_count": 2,
   "metadata": {},
   "outputs": [],
   "source": [
    "# open dataset\n",
    "gtif = gdal.Open('/media/philipp/ed7d22ba-5a3b-4d31-bf6c-6add6e106b3d/dtm/25-46.tif')"
   ]
  },
  {
   "cell_type": "code",
   "execution_count": 3,
   "metadata": {},
   "outputs": [
    {
     "name": "stdout",
     "output_type": "stream",
     "text": [
      "{'AREA_OR_POINT': 'Area'}\n"
     ]
    }
   ],
   "source": [
    "print(gtif.GetMetadata())"
   ]
  },
  {
   "cell_type": "markdown",
   "metadata": {},
   "source": [
    "### Get Raster Band"
   ]
  },
  {
   "cell_type": "code",
   "execution_count": 4,
   "metadata": {},
   "outputs": [],
   "source": [
    "from osgeo import gdal\n",
    "import sys\n",
    "# this allows GDAL to throw Python Exceptions\n",
    "gdal.UseExceptions()\n",
    "\n",
    "try:\n",
    "    src_ds = gdal.Open('/media/philipp/ed7d22ba-5a3b-4d31-bf6c-6add6e106b3d/dtm/25-46.tif')\n",
    "except RuntimeError:\n",
    "    print('Unable to open INPUT.tif')\n",
    "    #print(e)\n",
    "    sys.exit(1)\n",
    "\n",
    "try:\n",
    "    srcband = src_ds.GetRasterBand(1)\n",
    "except RuntimeError:\n",
    "    # for example, try GetRasterBand(10)\n",
    "    print('Band ( %i ) not found' % band_num)\n",
    "    #print(e)\n",
    "    sys.exit(1)\n"
   ]
  },
  {
   "cell_type": "code",
   "execution_count": 5,
   "metadata": {},
   "outputs": [
    {
     "ename": "RuntimeError",
     "evalue": "Failed to compute statistics, no valid pixels found in sampling.",
     "output_type": "error",
     "traceback": [
      "\u001b[0;31m---------------------------------------------------------------------------\u001b[0m",
      "\u001b[0;31mRuntimeError\u001b[0m                              Traceback (most recent call last)",
      "\u001b[0;32m<ipython-input-5-5dd5edc0c1b1>\u001b[0m in \u001b[0;36m<module>\u001b[0;34m\u001b[0m\n\u001b[0;32m----> 1\u001b[0;31m \u001b[0msrcband\u001b[0m\u001b[0;34m.\u001b[0m\u001b[0mGetStatistics\u001b[0m\u001b[0;34m(\u001b[0m\u001b[0;32mTrue\u001b[0m\u001b[0;34m,\u001b[0m \u001b[0;32mTrue\u001b[0m\u001b[0;34m)\u001b[0m\u001b[0;34m\u001b[0m\u001b[0;34m\u001b[0m\u001b[0m\n\u001b[0m",
      "\u001b[0;32m~/Software/miniconda3/envs/geo/lib/python3.8/site-packages/osgeo/gdal.py\u001b[0m in \u001b[0;36mGetStatistics\u001b[0;34m(self, *args)\u001b[0m\n\u001b[1;32m   3476\u001b[0m     \u001b[0;32mdef\u001b[0m \u001b[0mGetStatistics\u001b[0m\u001b[0;34m(\u001b[0m\u001b[0mself\u001b[0m\u001b[0;34m,\u001b[0m \u001b[0;34m*\u001b[0m\u001b[0margs\u001b[0m\u001b[0;34m)\u001b[0m\u001b[0;34m:\u001b[0m\u001b[0;34m\u001b[0m\u001b[0;34m\u001b[0m\u001b[0m\n\u001b[1;32m   3477\u001b[0m         \u001b[0;34m\"\"\"GetStatistics(Band self, int approx_ok, int force) -> CPLErr\"\"\"\u001b[0m\u001b[0;34m\u001b[0m\u001b[0;34m\u001b[0m\u001b[0m\n\u001b[0;32m-> 3478\u001b[0;31m         \u001b[0;32mreturn\u001b[0m \u001b[0m_gdal\u001b[0m\u001b[0;34m.\u001b[0m\u001b[0mBand_GetStatistics\u001b[0m\u001b[0;34m(\u001b[0m\u001b[0mself\u001b[0m\u001b[0;34m,\u001b[0m \u001b[0;34m*\u001b[0m\u001b[0margs\u001b[0m\u001b[0;34m)\u001b[0m\u001b[0;34m\u001b[0m\u001b[0;34m\u001b[0m\u001b[0m\n\u001b[0m\u001b[1;32m   3479\u001b[0m \u001b[0;34m\u001b[0m\u001b[0m\n\u001b[1;32m   3480\u001b[0m \u001b[0;34m\u001b[0m\u001b[0m\n",
      "\u001b[0;31mRuntimeError\u001b[0m: Failed to compute statistics, no valid pixels found in sampling."
     ]
    }
   ],
   "source": [
    "srcband.GetStatistics(True, True)"
   ]
  },
  {
   "cell_type": "markdown",
   "metadata": {},
   "source": [
    "### Loop Through All Raster Bands"
   ]
  },
  {
   "cell_type": "code",
   "execution_count": 6,
   "metadata": {},
   "outputs": [
    {
     "name": "stdout",
     "output_type": "stream",
     "text": [
      "[ RASTER BAND COUNT ]:  1\n",
      "[ GETTING BAND ]:  1\n",
      "[ STATS ] =  Minimum=-340282306073709992518750102204469739520.000, Maximum=45.000, Mean=-186529541738350012835662197320696463360.000, StdDev=169350030033880009086770168648261697536.000\n"
     ]
    }
   ],
   "source": [
    "from osgeo import gdal\n",
    "import sys\n",
    "\n",
    "src_ds = gdal.Open('/media/philipp/ed7d22ba-5a3b-4d31-bf6c-6add6e106b3d/oh/oh.tif')\n",
    "if src_ds is None:\n",
    "    print('Unable to open INPUT.tif')\n",
    "    sys.exit(1)\n",
    "\n",
    "print(\"[ RASTER BAND COUNT ]: \", src_ds.RasterCount)\n",
    "for band in range( src_ds.RasterCount ):\n",
    "    band += 1\n",
    "    print(\"[ GETTING BAND ]: \", band)\n",
    "    srcband = src_ds.GetRasterBand(band)\n",
    "    if srcband is None:\n",
    "        continue\n",
    "\n",
    "    stats = srcband.GetStatistics( True, True )\n",
    "    if stats is None:\n",
    "        continue\n",
    "\n",
    "    print(\"[ STATS ] =  Minimum=%.3f, Maximum=%.3f, Mean=%.3f, StdDev=%.3f\" % ( \\\n",
    "                stats[0], stats[1], stats[2], stats[3] ))"
   ]
  },
  {
   "cell_type": "code",
   "execution_count": 7,
   "metadata": {},
   "outputs": [
    {
     "data": {
      "text/plain": [
       "[-3.4028230607371e+38, 45.0, -1.8652954173835e+38, 1.6935003003388e+38]"
      ]
     },
     "execution_count": 7,
     "metadata": {},
     "output_type": "execute_result"
    }
   ],
   "source": [
    "srcband.GetStatistics( True, True )"
   ]
  },
  {
   "cell_type": "code",
   "execution_count": 11,
   "metadata": {},
   "outputs": [
    {
     "data": {
      "text/plain": [
       "(373758.8101525671,\n",
       " 0.9999999999999799,\n",
       " 0.0,\n",
       " 418695.6451956801,\n",
       " 0.0,\n",
       " -0.99999999999998)"
      ]
     },
     "execution_count": 11,
     "metadata": {},
     "output_type": "execute_result"
    }
   ],
   "source": [
    "src_ds.GetGeoTransform()"
   ]
  },
  {
   "cell_type": "markdown",
   "metadata": {},
   "source": [
    "### Get extend"
   ]
  },
  {
   "cell_type": "code",
   "execution_count": 31,
   "metadata": {},
   "outputs": [],
   "source": [
    "#src = gdal.Open('/media/philipp/ed7d22ba-5a3b-4d31-bf6c-6add6e106b3d/oh/oh.tif')\n",
    "#src = gdal.Open('/media/philipp/5e9929a4-cb93-48b8-8648-6c83a93e83ed/tmp/raster_1_temp.tif')\n",
    "src = gdal.Open('/media/philipp/ed7d22ba-5a3b-4d31-bf6c-6add6e106b3d/dtm/25-46.tif')\n",
    "ulx, xres, xskew, uly, yskew, yres  = src.GetGeoTransform()\n",
    "lrx = ulx + (src.RasterXSize * xres)\n",
    "lry = uly + (src.RasterYSize * yres)"
   ]
  },
  {
   "cell_type": "code",
   "execution_count": 32,
   "metadata": {},
   "outputs": [
    {
     "name": "stdout",
     "output_type": "stream",
     "text": [
      "upper left corner:  173462.08030918773 389578.5985227945\n",
      "lower right corner:  175027.55069879314 387762.213018567\n"
     ]
    }
   ],
   "source": [
    "print('upper left corner: ', ulx, uly)\n",
    "print('lower right corner: ', lrx, lry)"
   ]
  },
  {
   "cell_type": "code",
   "execution_count": null,
   "metadata": {},
   "outputs": [],
   "source": []
  },
  {
   "cell_type": "code",
   "execution_count": 36,
   "metadata": {},
   "outputs": [
    {
     "name": "stdout",
     "output_type": "stream",
     "text": [
      "[ NO DATA VALUE ] =  None\n",
      "[ MIN ] =  None\n",
      "[ MAX ] =  None\n",
      "[ SCALE ] =  None\n",
      "No ColorTable found\n"
     ]
    },
    {
     "ename": "SystemExit",
     "evalue": "1",
     "output_type": "error",
     "traceback": [
      "An exception has occurred, use %tb to see the full traceback.\n",
      "\u001b[0;31mSystemExit\u001b[0m\u001b[0;31m:\u001b[0m 1\n"
     ]
    }
   ],
   "source": [
    "from osgeo import gdal\n",
    "import sys\n",
    "gdal.UseExceptions()\n",
    "\n",
    "def Usage():\n",
    "    print(\"\"\"\n",
    "    $ getrasterband.py [ band number ] input-raster\n",
    "    \"\"\")\n",
    "    sys.exit(1)\n",
    "\n",
    "def main( band_num, input_file ):\n",
    "    src_ds = gdal.Open( input_file )\n",
    "    if src_ds is None:\n",
    "        print('Unable to open %s' % input_file)\n",
    "        sys.exit(1)\n",
    "\n",
    "    try:\n",
    "        srcband = src_ds.GetRasterBand(band_num)\n",
    "    except RuntimeError:\n",
    "        print('No band %i found' % band_num)\n",
    "        sys.exit(1)\n",
    "\n",
    "\n",
    "    print(\"[ NO DATA VALUE ] = \", srcband.GetNoDataValue())\n",
    "    print(\"[ MIN ] = \", srcband.GetMinimum())\n",
    "    print(\"[ MAX ] = \", srcband.GetMaximum())\n",
    "    print(\"[ SCALE ] = \", srcband.GetScale())\n",
    "    #print(\"[ UNIT TYPE ] = \", srcband.GetUnitType())\n",
    "    ctable = srcband.GetColorTable()\n",
    "\n",
    "    if ctable is None:\n",
    "        print('No ColorTable found')\n",
    "        sys.exit(1)\n",
    "\n",
    "    print(\"[ COLOR TABLE COUNT ] = \", ctable.GetCount())\n",
    "    for i in range( 0, ctable.GetCount() ):\n",
    "        entry = ctable.GetColorEntry( i )\n",
    "        if not entry:\n",
    "            continue\n",
    "        print(\"[ COLOR ENTRY RGB ] = \", ctable.GetColorEntryAsRGB( i, entry ))\n",
    "\n",
    "if __name__ == '__main__':\n",
    "\n",
    "    if len( sys.argv ) < 3:\n",
    "        print(\"\"\"\n",
    "        [ ERROR ] you must supply at least two arguments:\n",
    "        1) the band number to retrieve and 2) input raster\n",
    "        \"\"\")\n",
    "        Usage()\n",
    "\n",
    "    main( 1, '/media/philipp/5e9929a4-cb93-48b8-8648-6c83a93e83ed/tmp/raster_1_temp.tif' )"
   ]
  },
  {
   "cell_type": "code",
   "execution_count": 18,
   "metadata": {},
   "outputs": [],
   "source": [
    "### http://karthur.org/2015/clipping-rasters-in-python.html"
   ]
  },
  {
   "cell_type": "code",
   "execution_count": 19,
   "metadata": {},
   "outputs": [
    {
     "ename": "ModuleNotFoundError",
     "evalue": "No module named 'PIL'",
     "output_type": "error",
     "traceback": [
      "\u001b[0;31m---------------------------------------------------------------------------\u001b[0m",
      "\u001b[0;31mModuleNotFoundError\u001b[0m                       Traceback (most recent call last)",
      "\u001b[0;32m<ipython-input-19-1d4625184fe2>\u001b[0m in \u001b[0;36m<module>\u001b[0;34m\u001b[0m\n\u001b[1;32m      1\u001b[0m \u001b[0;32mfrom\u001b[0m \u001b[0mosgeo\u001b[0m \u001b[0;32mimport\u001b[0m \u001b[0mgdal\u001b[0m\u001b[0;34m,\u001b[0m \u001b[0mgdalnumeric\u001b[0m\u001b[0;34m,\u001b[0m \u001b[0mogr\u001b[0m\u001b[0;34m\u001b[0m\u001b[0;34m\u001b[0m\u001b[0m\n\u001b[0;32m----> 2\u001b[0;31m \u001b[0;32mfrom\u001b[0m \u001b[0mPIL\u001b[0m \u001b[0;32mimport\u001b[0m \u001b[0mImage\u001b[0m\u001b[0;34m,\u001b[0m \u001b[0mImageDraw\u001b[0m\u001b[0;34m\u001b[0m\u001b[0;34m\u001b[0m\u001b[0m\n\u001b[0m\u001b[1;32m      3\u001b[0m \u001b[0;32mimport\u001b[0m \u001b[0mos\u001b[0m\u001b[0;34m\u001b[0m\u001b[0;34m\u001b[0m\u001b[0m\n\u001b[1;32m      4\u001b[0m \u001b[0;32mimport\u001b[0m \u001b[0mnumpy\u001b[0m \u001b[0;32mas\u001b[0m \u001b[0mnp\u001b[0m\u001b[0;34m\u001b[0m\u001b[0;34m\u001b[0m\u001b[0m\n\u001b[1;32m      5\u001b[0m \u001b[0;34m\u001b[0m\u001b[0m\n",
      "\u001b[0;31mModuleNotFoundError\u001b[0m: No module named 'PIL'"
     ]
    }
   ],
   "source": [
    "from osgeo import gdal, gdalnumeric, ogr\n",
    "from PIL import Image, ImageDraw\n",
    "import os\n",
    "import numpy as np\n",
    "\n",
    "def clip_raster(rast, features_path, gt=None, nodata=-9999):\n",
    "    '''\n",
    "    Clips a raster (given as either a gdal.Dataset or as a numpy.array\n",
    "    instance) to a polygon layer provided by a Shapefile (or other vector\n",
    "    layer). If a numpy.array is given, a \"GeoTransform\" must be provided\n",
    "    (via dataset.GetGeoTransform() in GDAL). Returns an array. Clip features\n",
    "    must be a dissolved, single-part geometry (not multi-part). Modified from:\n",
    "\n",
    "    http://pcjericks.github.io/py-gdalogr-cookbook/raster_layers.html\n",
    "    #clip-a-geotiff-with-shapefile\n",
    "\n",
    "    Arguments:\n",
    "        rast            A gdal.Dataset or a NumPy array\n",
    "        features_path   The path to the clipping features\n",
    "        gt              An optional GDAL GeoTransform to use instead\n",
    "        nodata          The NoData value; defaults to -9999.\n",
    "    '''\n",
    "    def array_to_image(a):\n",
    "        '''\n",
    "        Converts a gdalnumeric array to a Python Imaging Library (PIL) Image.\n",
    "        '''\n",
    "        i = Image.fromstring('L',(a.shape[1], a.shape[0]),\n",
    "            (a.astype('b')).tostring())\n",
    "        return i\n",
    "\n",
    "    def image_to_array(i):\n",
    "        '''\n",
    "        Converts a Python Imaging Library (PIL) array to a gdalnumeric image.\n",
    "        '''\n",
    "        a = gdalnumeric.fromstring(i.tobytes(), 'b')\n",
    "        a.shape = i.im.size[1], i.im.size[0]\n",
    "        return a\n",
    "\n",
    "    def world_to_pixel(geo_matrix, x, y):\n",
    "        '''\n",
    "        Uses a gdal geomatrix (gdal.GetGeoTransform()) to calculate\n",
    "        the pixel location of a geospatial coordinate; from:\n",
    "        http://pcjericks.github.io/py-gdalogr-cookbook/raster_layers.html#clip-a-geotiff-with-shapefile\n",
    "        '''\n",
    "        ulX = geo_matrix[0]\n",
    "        ulY = geo_matrix[3]\n",
    "        xDist = geo_matrix[1]\n",
    "        yDist = geo_matrix[5]\n",
    "        rtnX = geo_matrix[2]\n",
    "        rtnY = geo_matrix[4]\n",
    "        pixel = int((x - ulX) / xDist)\n",
    "        line = int((ulY - y) / xDist)\n",
    "        return (pixel, line)\n",
    "\n",
    "    # Can accept either a gdal.Dataset or numpy.array instance\n",
    "    if not isinstance(rast, np.ndarray):\n",
    "        gt = rast.GetGeoTransform()\n",
    "        rast = rast.ReadAsArray()\n",
    "\n",
    "    # Create an OGR layer from a boundary shapefile\n",
    "    features = ogr.Open(features_path)\n",
    "    if features.GetDriver().GetName() == 'ESRI Shapefile':\n",
    "        lyr = features.GetLayer(os.path.split(os.path.splitext(features_path)[0])[1])\n",
    "\n",
    "    else:\n",
    "        lyr = features.GetLayer()\n",
    "\n",
    "    # Get the first feature\n",
    "    poly = lyr.GetNextFeature()\n",
    "\n",
    "    # Convert the layer extent to image pixel coordinates\n",
    "    minX, maxX, minY, maxY = lyr.GetExtent()\n",
    "    ulX, ulY = world_to_pixel(gt, minX, maxY)\n",
    "    lrX, lrY = world_to_pixel(gt, maxX, minY)\n",
    "\n",
    "    # Calculate the pixel size of the new image\n",
    "    pxWidth = int(lrX - ulX)\n",
    "    pxHeight = int(lrY - ulY)\n",
    "\n",
    "    # If the clipping features extend out-of-bounds and ABOVE the raster...\n",
    "    if gt[3] < maxY:\n",
    "        # In such a case... ulY ends up being negative--can't have that!\n",
    "        iY = ulY\n",
    "        ulY = 0\n",
    "\n",
    "    # Multi-band image?\n",
    "    try:\n",
    "        clip = rast[:, ulY:lrY, ulX:lrX]\n",
    "\n",
    "    except IndexError:\n",
    "        clip = rast[ulY:lrY, ulX:lrX]\n",
    "\n",
    "    # Create a new geomatrix for the image\n",
    "    gt2 = list(gt)\n",
    "    gt2[0] = minX\n",
    "    gt2[3] = maxY\n",
    "\n",
    "    # Map points to pixels for drawing the boundary on a blank 8-bit,\n",
    "    #   black and white, mask image.\n",
    "    points = []\n",
    "    pixels = []\n",
    "    geom = poly.GetGeometryRef()\n",
    "    pts = geom.GetGeometryRef(0)\n",
    "\n",
    "    for p in range(pts.GetPointCount()):\n",
    "        points.append((pts.GetX(p), pts.GetY(p)))\n",
    "\n",
    "    for p in points:\n",
    "        pixels.append(world_to_pixel(gt2, p[0], p[1]))\n",
    "\n",
    "    raster_poly = Image.new('L', (pxWidth, pxHeight), 1)\n",
    "    rasterize = ImageDraw.Draw(raster_poly)\n",
    "    rasterize.polygon(pixels, 0) # Fill with zeroes\n",
    "\n",
    "    # If the clipping features extend out-of-bounds and ABOVE the raster...\n",
    "    if gt[3] < maxY:\n",
    "        # The clip features were \"pushed down\" to match the bounds of the\n",
    "        #   raster; this step \"pulls\" them back up\n",
    "        premask = image_to_array(raster_poly)\n",
    "        # We slice out the piece of our clip features that are \"off the map\"\n",
    "        mask = np.ndarray((premask.shape[-2] - abs(iY), premask.shape[-1]), premask.dtype)\n",
    "        mask[:] = premask[abs(iY):, :]\n",
    "        mask.resize(premask.shape) # Then fill in from the bottom\n",
    "\n",
    "        # Most importantly, push the clipped piece down\n",
    "        gt2[3] = maxY - (maxY - gt[3])\n",
    "\n",
    "    else:\n",
    "        mask = image_to_array(raster_poly)\n",
    "\n",
    "    # Clip the image using the mask\n",
    "    try:\n",
    "        clip = gdalnumeric.choose(mask, (clip, nodata))\n",
    "\n",
    "    # If the clipping features extend out-of-bounds and BELOW the raster...\n",
    "    except ValueError:\n",
    "        # We have to cut the clipping features to the raster!\n",
    "        rshp = list(mask.shape)\n",
    "        if mask.shape[-2] != clip.shape[-2]:\n",
    "            rshp[0] = clip.shape[-2]\n",
    "\n",
    "        if mask.shape[-1] != clip.shape[-1]:\n",
    "            rshp[1] = clip.shape[-1]\n",
    "\n",
    "        mask.resize(*rshp, refcheck=False)\n",
    "\n",
    "        clip = gdalnumeric.choose(mask, (clip, nodata))\n",
    "\n",
    "    return (clip, ulX, ulY, gt2)\n"
   ]
  },
  {
   "cell_type": "code",
   "execution_count": null,
   "metadata": {},
   "outputs": [],
   "source": []
  },
  {
   "cell_type": "code",
   "execution_count": null,
   "metadata": {},
   "outputs": [],
   "source": [
    "### Create a Polygon"
   ]
  },
  {
   "cell_type": "code",
   "execution_count": 20,
   "metadata": {},
   "outputs": [
    {
     "name": "stdout",
     "output_type": "stream",
     "text": [
      "POLYGON ((1179091.16469033 712782.883845978 0,1161053.02182265 667456.268434881 0,1214704.9339419 641092.828859039 0,1228580.42845551 682719.312399842 0,1218405.0658122 721108.180554139 0,1179091.16469033 712782.883845978 0))\n"
     ]
    }
   ],
   "source": [
    "from osgeo import ogr\n",
    "\n",
    "# Create ring\n",
    "ring = ogr.Geometry(ogr.wkbLinearRing)\n",
    "ring.AddPoint(1179091.1646903288, 712782.8838459781)\n",
    "ring.AddPoint(1161053.0218226474, 667456.2684348812)\n",
    "ring.AddPoint(1214704.933941905, 641092.8288590391)\n",
    "ring.AddPoint(1228580.428455506, 682719.3123998424)\n",
    "ring.AddPoint(1218405.0658121984, 721108.1805541387)\n",
    "ring.AddPoint(1179091.1646903288, 712782.8838459781)\n",
    "\n",
    "# Create polygon\n",
    "poly = ogr.Geometry(ogr.wkbPolygon)\n",
    "poly.AddGeometry(ring)\n",
    "\n",
    "print(poly.ExportToWkt())"
   ]
  },
  {
   "cell_type": "code",
   "execution_count": null,
   "metadata": {},
   "outputs": [],
   "source": [
    "### Create a MultiPolygon"
   ]
  },
  {
   "cell_type": "code",
   "execution_count": null,
   "metadata": {},
   "outputs": [],
   "source": [
    "from osgeo import ogr\n",
    "\n",
    "multipolygon = ogr.Geometry(ogr.wkbMultiPolygon)\n",
    "\n",
    "# Create ring #1\n",
    "ring1 = ogr.Geometry(ogr.wkbLinearRing)\n",
    "ring1.AddPoint(1204067.0548148106, 634617.5980860253)\n",
    "ring1.AddPoint(1204067.0548148106, 620742.1035724243)\n",
    "ring1.AddPoint(1215167.4504256917, 620742.1035724243)\n",
    "ring1.AddPoint(1215167.4504256917, 634617.5980860253)\n",
    "ring1.AddPoint(1204067.0548148106, 634617.5980860253)\n",
    "\n",
    "# Create polygon #1\n",
    "poly1 = ogr.Geometry(ogr.wkbPolygon)\n",
    "poly1.AddGeometry(ring1)\n",
    "multipolygon.AddGeometry(poly1)\n",
    "\n",
    "# Create ring #2\n",
    "ring2 = ogr.Geometry(ogr.wkbLinearRing)\n",
    "ring2.AddPoint(1179553.6811741155, 647105.5431482664)\n",
    "ring2.AddPoint(1179553.6811741155, 626292.3013778647)\n",
    "ring2.AddPoint(1194354.20865529, 626292.3013778647)\n",
    "ring2.AddPoint(1194354.20865529, 647105.5431482664)\n",
    "ring2.AddPoint(1179553.6811741155, 647105.5431482664)\n",
    "\n",
    "# Create polygon #2\n",
    "poly2 = ogr.Geometry(ogr.wkbPolygon)\n",
    "poly2.AddGeometry(ring2)\n",
    "multipolygon.AddGeometry(poly2)\n",
    "\n",
    "print(multipolygon.ExportToWkt())"
   ]
  },
  {
   "cell_type": "code",
   "execution_count": 21,
   "metadata": {},
   "outputs": [
    {
     "data": {
      "text/plain": [
       "<osgeo.ogr.Geometry; proxy of <Swig Object of type 'OGRGeometryShadow *' at 0x7f262162c2a0> >"
      ]
     },
     "execution_count": 21,
     "metadata": {},
     "output_type": "execute_result"
    }
   ],
   "source": [
    "poly"
   ]
  },
  {
   "cell_type": "code",
   "execution_count": null,
   "metadata": {},
   "outputs": [],
   "source": []
  },
  {
   "cell_type": "markdown",
   "metadata": {},
   "source": [
    "# create polygon and save it un a ESRI shapefile"
   ]
  },
  {
   "cell_type": "code",
   "execution_count": 23,
   "metadata": {},
   "outputs": [
    {
     "name": "stdout",
     "output_type": "stream",
     "text": [
      "upper left corner:  373759.8101529634 418694.64519406826\n",
      "lower right corner:  451231.8101521982 381707.6451944336\n"
     ]
    }
   ],
   "source": [
    "#src = gdal.Open('/media/philipp/ed7d22ba-5a3b-4d31-bf6c-6add6e106b3d/oh/oh.tif')\n",
    "src = gdal.Open('/media/philipp/5e9929a4-cb93-48b8-8648-6c83a93e83ed/tmp/raster_1_temp.tif')\n",
    "ulx, xres, xskew, uly, yskew, yres  = src.GetGeoTransform()\n",
    "lrx = ulx + (src.RasterXSize * xres)\n",
    "lry = uly + (src.RasterYSize * yres)\n",
    "\n",
    "print('upper left corner: ', ulx, uly)\n",
    "print('lower right corner: ', lrx, lry)"
   ]
  },
  {
   "cell_type": "code",
   "execution_count": 24,
   "metadata": {},
   "outputs": [
    {
     "name": "stdout",
     "output_type": "stream",
     "text": [
      "POLYGON ((373759.810152963 418694.645194068 0,373759.810152963 381707.645194434 0,451231.810152198 381707.645194434 0,451231.810152198 418694.645194068 0))\n"
     ]
    }
   ],
   "source": [
    "from osgeo import ogr\n",
    "\n",
    "# Create ring\n",
    "ring = ogr.Geometry(ogr.wkbLinearRing)\n",
    "ring.AddPoint(ulx, uly)\n",
    "ring.AddPoint(ulx, lry)\n",
    "ring.AddPoint(lrx, lry)\n",
    "ring.AddPoint(lrx, uly)\n",
    "\n",
    "# Create polygon\n",
    "poly = ogr.Geometry(ogr.wkbPolygon)\n",
    "poly.AddGeometry(ring)\n",
    "\n",
    "print(poly.ExportToWkt())"
   ]
  },
  {
   "cell_type": "code",
   "execution_count": 29,
   "metadata": {},
   "outputs": [],
   "source": [
    "import osgeo.ogr as ogr\n",
    "import osgeo.osr as osr\n",
    "\n",
    "# set up the shapefile driver\n",
    "driver = ogr.GetDriverByName(\"ESRI Shapefile\")\n",
    "\n",
    "# create the data source\n",
    "data_source = driver.CreateDataSource(\"test.shp\")\n",
    "\n",
    "# create the spatial reference, WGS84\n",
    "srs = osr.SpatialReference()\n",
    "srs.ImportFromEPSG(31287)\n",
    "\n",
    "# create the layer\n",
    "layer = data_source.CreateLayer(\"poly\", srs, ogr.wkbPolygon)\n",
    "\n",
    "#field_region = ogr.FieldDefn(\"Region\", ogr.OFTString)\n",
    "#field_region.SetWidth(24)\n",
    "#layer.CreateField(ogr.FieldDefn(\"Latitude\", ogr.OFTReal))\n",
    "#layer.CreateField(ogr.FieldDefn(\"Longitude\", ogr.OFTReal))\n",
    "layer.CreateField(ogr.FieldDefn('id', ogr.OFTInteger))\n",
    "defn = layer.GetLayerDefn()\n",
    "\n",
    "# Create a new feature (attribute and geometry)\n",
    "feature = ogr.Feature(defn)\n",
    "feature.SetField('id', 123)\n",
    "\n",
    "# Make a geometry, from Shapely object\n",
    "geom = ogr.CreateGeometryFromWkb(poly.ExportToWkt())\n",
    "feature.SetGeometry(geom)\n",
    "\n",
    "# Create the feature in the layer (shapefile)\n",
    "layer.CreateFeature(feature)\n",
    "# Dereference the feature\n",
    "feature = None\n",
    "\n",
    "# Save and close the data source\n",
    "data_source = None"
   ]
  },
  {
   "cell_type": "code",
   "execution_count": null,
   "metadata": {},
   "outputs": [],
   "source": []
  }
 ],
 "metadata": {
  "kernelspec": {
   "display_name": "geo",
   "language": "python",
   "name": "geo"
  },
  "language_info": {
   "codemirror_mode": {
    "name": "ipython",
    "version": 3
   },
   "file_extension": ".py",
   "mimetype": "text/x-python",
   "name": "python",
   "nbconvert_exporter": "python",
   "pygments_lexer": "ipython3",
   "version": "3.8.4"
  }
 },
 "nbformat": 4,
 "nbformat_minor": 4
}
