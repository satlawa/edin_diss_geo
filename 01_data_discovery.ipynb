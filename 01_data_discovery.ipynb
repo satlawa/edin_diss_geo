{
 "cells": [
  {
   "cell_type": "code",
   "execution_count": 1,
   "metadata": {},
   "outputs": [],
   "source": [
    "import pandas as pd\n",
    "import numpy as np"
   ]
  },
  {
   "cell_type": "code",
   "execution_count": 2,
   "metadata": {},
   "outputs": [],
   "source": [
    "# read data\n",
    "nutz_data_0 = pd.read_excel(\"/home/philipp/Downloads/FB 171-178_MA_2006_2020.xlsx\")\n",
    "nutz_data_1 = pd.read_excel(\"/home/philipp/Downloads/FB 179-182_MA_2006_2020.xlsx\")\n",
    "\n",
    "# concat data\n",
    "nutz_data = pd.concat([nutz_data_0, nutz_data_1])\n",
    "\n",
    "del nutz_data_0\n",
    "del nutz_data_1"
   ]
  },
  {
   "cell_type": "code",
   "execution_count": 3,
   "metadata": {},
   "outputs": [
    {
     "data": {
      "text/html": [
       "<div>\n",
       "<style scoped>\n",
       "    .dataframe tbody tr th:only-of-type {\n",
       "        vertical-align: middle;\n",
       "    }\n",
       "\n",
       "    .dataframe tbody tr th {\n",
       "        vertical-align: top;\n",
       "    }\n",
       "\n",
       "    .dataframe thead th {\n",
       "        text-align: right;\n",
       "    }\n",
       "</style>\n",
       "<table border=\"1\" class=\"dataframe\">\n",
       "  <thead>\n",
       "    <tr style=\"text-align: right;\">\n",
       "      <th></th>\n",
       "      <th>Waldort</th>\n",
       "      <th>Wirtschafts-/Schutzwald</th>\n",
       "      <th>Derbholz/Nicht-Derbholz</th>\n",
       "      <th>Altersgruppe 1.Sch.</th>\n",
       "      <th>Nutzungsart</th>\n",
       "      <th>planmäßig</th>\n",
       "      <th>Ernteverfahren</th>\n",
       "      <th>Rückungsart</th>\n",
       "      <th>Sorte</th>\n",
       "      <th>Erntenummer-Projekt</th>\n",
       "      <th>Projekt: Gültig ab</th>\n",
       "      <th>Abmaßkontrollperiode</th>\n",
       "      <th>Abmaßjahr</th>\n",
       "      <th>Laubholz EFM</th>\n",
       "      <th>Nadelholz EFM</th>\n",
       "      <th>Nicht zugeordnet EFM</th>\n",
       "      <th>Gesamtergebnis EFM</th>\n",
       "    </tr>\n",
       "  </thead>\n",
       "  <tbody>\n",
       "    <tr>\n",
       "      <th>0</th>\n",
       "      <td>#/171/1/#</td>\n",
       "      <td>Nicht zugeordnet</td>\n",
       "      <td>DH</td>\n",
       "      <td>#</td>\n",
       "      <td>Nicht zugeordnet</td>\n",
       "      <td>Nicht zugeordnet</td>\n",
       "      <td>Harvester</td>\n",
       "      <td>Forwarder</td>\n",
       "      <td>gehackt</td>\n",
       "      <td>1/200060</td>\n",
       "      <td>2020-05-01 00:00:00</td>\n",
       "      <td>9</td>\n",
       "      <td>2020</td>\n",
       "      <td>NaN</td>\n",
       "      <td>1.0</td>\n",
       "      <td>NaN</td>\n",
       "      <td>1.0</td>\n",
       "    </tr>\n",
       "    <tr>\n",
       "      <th>1</th>\n",
       "      <td>#/171/1/#</td>\n",
       "      <td>Nicht zugeordnet</td>\n",
       "      <td>DH</td>\n",
       "      <td>#</td>\n",
       "      <td>Nicht zugeordnet</td>\n",
       "      <td>Nicht zugeordnet</td>\n",
       "      <td>Sortimentsverfahren</td>\n",
       "      <td>Seil bergauf</td>\n",
       "      <td>nicht gehackt</td>\n",
       "      <td>1/190070</td>\n",
       "      <td>2019-03-10 00:00:00</td>\n",
       "      <td>4</td>\n",
       "      <td>2019</td>\n",
       "      <td>NaN</td>\n",
       "      <td>2.0</td>\n",
       "      <td>NaN</td>\n",
       "      <td>2.0</td>\n",
       "    </tr>\n",
       "    <tr>\n",
       "      <th>2</th>\n",
       "      <td>#/171/1/#</td>\n",
       "      <td>Nicht zugeordnet</td>\n",
       "      <td>DH</td>\n",
       "      <td>#</td>\n",
       "      <td>Nicht zugeordnet</td>\n",
       "      <td>Nicht zugeordnet</td>\n",
       "      <td>Sortimentsverfahren</td>\n",
       "      <td>Seil bergauf</td>\n",
       "      <td>nicht gehackt</td>\n",
       "      <td>1/190070</td>\n",
       "      <td>2019-03-10 00:00:00</td>\n",
       "      <td>5</td>\n",
       "      <td>2019</td>\n",
       "      <td>NaN</td>\n",
       "      <td>10.0</td>\n",
       "      <td>NaN</td>\n",
       "      <td>10.0</td>\n",
       "    </tr>\n",
       "    <tr>\n",
       "      <th>3</th>\n",
       "      <td>#/171/1/9</td>\n",
       "      <td>Nicht zugeordnet</td>\n",
       "      <td>DH</td>\n",
       "      <td>#</td>\n",
       "      <td>Durchforstung</td>\n",
       "      <td>planmäßig</td>\n",
       "      <td>Sortimentsverfahren</td>\n",
       "      <td>Sonstiges</td>\n",
       "      <td>Brennholz II</td>\n",
       "      <td>1/#</td>\n",
       "      <td>#</td>\n",
       "      <td>5</td>\n",
       "      <td>2016</td>\n",
       "      <td>22.0</td>\n",
       "      <td>NaN</td>\n",
       "      <td>NaN</td>\n",
       "      <td>22.0</td>\n",
       "    </tr>\n",
       "    <tr>\n",
       "      <th>4</th>\n",
       "      <td>#/171/1/533A4</td>\n",
       "      <td>Nicht zugeordnet</td>\n",
       "      <td>DH</td>\n",
       "      <td>#</td>\n",
       "      <td>Erstdurchforstung</td>\n",
       "      <td>planmäßig</td>\n",
       "      <td>Sortimentsverfahren</td>\n",
       "      <td>Händisch</td>\n",
       "      <td>Brennholz II</td>\n",
       "      <td>1/#</td>\n",
       "      <td>#</td>\n",
       "      <td>3</td>\n",
       "      <td>2020</td>\n",
       "      <td>5.0</td>\n",
       "      <td>NaN</td>\n",
       "      <td>NaN</td>\n",
       "      <td>5.0</td>\n",
       "    </tr>\n",
       "  </tbody>\n",
       "</table>\n",
       "</div>"
      ],
      "text/plain": [
       "         Waldort Wirtschafts-/Schutzwald Derbholz/Nicht-Derbholz  \\\n",
       "0      #/171/1/#        Nicht zugeordnet                      DH   \n",
       "1      #/171/1/#        Nicht zugeordnet                      DH   \n",
       "2      #/171/1/#        Nicht zugeordnet                      DH   \n",
       "3      #/171/1/9        Nicht zugeordnet                      DH   \n",
       "4  #/171/1/533A4        Nicht zugeordnet                      DH   \n",
       "\n",
       "  Altersgruppe 1.Sch.        Nutzungsart         planmäßig  \\\n",
       "0                   #   Nicht zugeordnet  Nicht zugeordnet   \n",
       "1                   #   Nicht zugeordnet  Nicht zugeordnet   \n",
       "2                   #   Nicht zugeordnet  Nicht zugeordnet   \n",
       "3                   #      Durchforstung         planmäßig   \n",
       "4                   #  Erstdurchforstung         planmäßig   \n",
       "\n",
       "        Ernteverfahren   Rückungsart          Sorte Erntenummer-Projekt  \\\n",
       "0            Harvester     Forwarder        gehackt            1/200060   \n",
       "1  Sortimentsverfahren  Seil bergauf  nicht gehackt            1/190070   \n",
       "2  Sortimentsverfahren  Seil bergauf  nicht gehackt            1/190070   \n",
       "3  Sortimentsverfahren     Sonstiges   Brennholz II                 1/#   \n",
       "4  Sortimentsverfahren      Händisch   Brennholz II                 1/#   \n",
       "\n",
       "    Projekt: Gültig ab Abmaßkontrollperiode  Abmaßjahr  Laubholz EFM  \\\n",
       "0  2020-05-01 00:00:00                    9       2020           NaN   \n",
       "1  2019-03-10 00:00:00                    4       2019           NaN   \n",
       "2  2019-03-10 00:00:00                    5       2019           NaN   \n",
       "3                    #                    5       2016          22.0   \n",
       "4                    #                    3       2020           5.0   \n",
       "\n",
       "   Nadelholz EFM  Nicht zugeordnet EFM  Gesamtergebnis EFM  \n",
       "0            1.0                   NaN                 1.0  \n",
       "1            2.0                   NaN                 2.0  \n",
       "2           10.0                   NaN                10.0  \n",
       "3            NaN                   NaN                22.0  \n",
       "4            NaN                   NaN                 5.0  "
      ]
     },
     "execution_count": 3,
     "metadata": {},
     "output_type": "execute_result"
    }
   ],
   "source": [
    "nutz_data.head()"
   ]
  },
  {
   "cell_type": "code",
   "execution_count": 7,
   "metadata": {},
   "outputs": [
    {
     "data": {
      "text/plain": [
       "0                #/171/1/#\n",
       "1                #/171/1/#\n",
       "2                #/171/1/#\n",
       "3                #/171/1/9\n",
       "4            #/171/1/533A4\n",
       "                ...       \n",
       "303099    1355/182/5/297O6\n",
       "303100    1355/182/5/297O7\n",
       "303101    1355/182/5/297O7\n",
       "303102    1355/182/5/521A1\n",
       "303103    1355/182/5/521G1\n",
       "Name: Waldort, Length: 1264299, dtype: object"
      ]
     },
     "execution_count": 7,
     "metadata": {},
     "output_type": "execute_result"
    }
   ],
   "source": [
    "nutz_data.loc[:,'Waldort']"
   ]
  },
  {
   "cell_type": "code",
   "execution_count": 8,
   "metadata": {},
   "outputs": [],
   "source": [
    "# split WO naming\n",
    "ids = nutz_data.iloc[:,0].str.split('/')\n",
    "# transform series into numpy array\n",
    "ids = np.array(ids.to_list())"
   ]
  },
  {
   "cell_type": "code",
   "execution_count": 10,
   "metadata": {},
   "outputs": [
    {
     "data": {
      "text/plain": [
       "array([['#', '171', '1', '#'],\n",
       "       ['#', '171', '1', '#'],\n",
       "       ['#', '171', '1', '#'],\n",
       "       ...,\n",
       "       ['1355', '182', '5', '297O7'],\n",
       "       ['1355', '182', '5', '521A1'],\n",
       "       ['1355', '182', '5', '521G1']], dtype='<U5')"
      ]
     },
     "execution_count": 10,
     "metadata": {},
     "output_type": "execute_result"
    }
   ],
   "source": [
    "ids"
   ]
  },
  {
   "cell_type": "code",
   "execution_count": 13,
   "metadata": {},
   "outputs": [],
   "source": [
    "# add wo informaiton to dataframe\n",
    "nutz_data['to'] = ids[:,0]\n",
    "nutz_data['fb'] = ids[:,1]\n",
    "nutz_data['fr'] = ids[:,2]\n",
    "nutz_data['wo'] = ids[:,3]"
   ]
  },
  {
   "cell_type": "code",
   "execution_count": 14,
   "metadata": {},
   "outputs": [],
   "source": [
    "nutz_data = nutz_data.replace('#','0')"
   ]
  },
  {
   "cell_type": "code",
   "execution_count": 15,
   "metadata": {},
   "outputs": [],
   "source": [
    "nutz_data[['to','fb','fr']] = nutz_data[['to','fb','fr']].astype(int)"
   ]
  },
  {
   "cell_type": "code",
   "execution_count": 16,
   "metadata": {},
   "outputs": [
    {
     "data": {
      "text/plain": [
       "Index(['Waldort', 'Wirtschafts-/Schutzwald', 'Derbholz/Nicht-Derbholz',\n",
       "       'Altersgruppe 1.Sch.', 'Nutzungsart', 'planmäßig', 'Ernteverfahren',\n",
       "       'Rückungsart', 'Sorte', 'Erntenummer-Projekt', 'Projekt: Gültig ab',\n",
       "       'Abmaßkontrollperiode', 'Abmaßjahr', 'Laubholz EFM', 'Nadelholz EFM',\n",
       "       'Nicht zugeordnet EFM', 'Gesamtergebnis EFM', 'to', 'fb', 'fr', 'wo'],\n",
       "      dtype='object')"
      ]
     },
     "execution_count": 16,
     "metadata": {},
     "output_type": "execute_result"
    }
   ],
   "source": [
    "nutz_data.columns"
   ]
  },
  {
   "cell_type": "code",
   "execution_count": 17,
   "metadata": {},
   "outputs": [
    {
     "data": {
      "text/plain": [
       "(343683, 21)"
      ]
     },
     "execution_count": 17,
     "metadata": {},
     "output_type": "execute_result"
    }
   ],
   "source": [
    "nutz_data[nutz_data['Projekt: Gültig ab']=='0'].shape"
   ]
  },
  {
   "cell_type": "code",
   "execution_count": 18,
   "metadata": {},
   "outputs": [
    {
     "data": {
      "text/plain": [
       "(920616, 21)"
      ]
     },
     "execution_count": 18,
     "metadata": {},
     "output_type": "execute_result"
    }
   ],
   "source": [
    "nutz_data[nutz_data['Projekt: Gültig ab']!='0'].shape"
   ]
  },
  {
   "cell_type": "code",
   "execution_count": 19,
   "metadata": {},
   "outputs": [
    {
     "name": "stdout",
     "output_type": "stream",
     "text": [
      "0.2718368044268009\n",
      "0.7281631955731991\n"
     ]
    }
   ],
   "source": [
    "# percentage of records without project start\n",
    "print(nutz_data[nutz_data['Projekt: Gültig ab']=='0'].shape[0]/nutz_data.shape[0])\n",
    "print(nutz_data[nutz_data['Projekt: Gültig ab']!='0'].shape[0]/nutz_data.shape[0])"
   ]
  },
  {
   "cell_type": "code",
   "execution_count": 20,
   "metadata": {},
   "outputs": [
    {
     "name": "stdout",
     "output_type": "stream",
     "text": [
      "0.1618990273680804\n",
      "0.8381009726319195\n"
     ]
    }
   ],
   "source": [
    "# percentage of volume cutted without project start\n",
    "print(nutz_data.loc[nutz_data['Projekt: Gültig ab']=='0', 'Gesamtergebnis EFM'].sum() / nutz_data.loc[:, 'Gesamtergebnis EFM'].sum())\n",
    "print(nutz_data.loc[nutz_data['Projekt: Gültig ab']!='0', 'Gesamtergebnis EFM'].sum() / nutz_data.loc[:, 'Gesamtergebnis EFM'].sum())"
   ]
  },
  {
   "cell_type": "code",
   "execution_count": 21,
   "metadata": {},
   "outputs": [
    {
     "name": "stdout",
     "output_type": "stream",
     "text": [
      "0.01986894361428297\n",
      "0.980131056385717\n"
     ]
    }
   ],
   "source": [
    "print(nutz_data.loc[nutz_data['wo']=='0', 'Gesamtergebnis EFM'].sum() / nutz_data.loc[:, 'Gesamtergebnis EFM'].sum())\n",
    "print(nutz_data.loc[nutz_data['wo']!='0', 'Gesamtergebnis EFM'].sum() / nutz_data.loc[:, 'Gesamtergebnis EFM'].sum())\n"
   ]
  },
  {
   "cell_type": "code",
   "execution_count": null,
   "metadata": {},
   "outputs": [],
   "source": []
  }
 ],
 "metadata": {
  "kernelspec": {
   "display_name": "geo",
   "language": "python",
   "name": "geo"
  },
  "language_info": {
   "codemirror_mode": {
    "name": "ipython",
    "version": 3
   },
   "file_extension": ".py",
   "mimetype": "text/x-python",
   "name": "python",
   "nbconvert_exporter": "python",
   "pygments_lexer": "ipython3",
   "version": "3.8.2"
  }
 },
 "nbformat": 4,
 "nbformat_minor": 4
}
