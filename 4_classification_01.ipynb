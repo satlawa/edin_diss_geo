{
 "cells": [
  {
   "cell_type": "code",
   "execution_count": 1,
   "metadata": {},
   "outputs": [
    {
     "name": "stderr",
     "output_type": "stream",
     "text": [
      "/Users/philipp/Python/anaconda3/envs/py3iaml/lib/python3.7/site-packages/sklearn/utils/__init__.py:4: DeprecationWarning: Using or importing the ABCs from 'collections' instead of from 'collections.abc' is deprecated, and in 3.8 it will stop working\n",
      "  from collections import Sequence\n",
      "/Users/philipp/Python/anaconda3/envs/py3iaml/lib/python3.7/site-packages/sklearn/cross_validation.py:41: DeprecationWarning: This module was deprecated in version 0.18 in favor of the model_selection module into which all the refactored classes and functions are moved. Also note that the interface of the new CV iterators are different from that of this module. This module will be removed in 0.20.\n",
      "  \"This module will be removed in 0.20.\", DeprecationWarning)\n",
      "/Users/philipp/Python/anaconda3/envs/py3iaml/lib/python3.7/site-packages/sklearn/ensemble/weight_boosting.py:29: DeprecationWarning: numpy.core.umath_tests is an internal NumPy module and should not be imported. It will be removed in a future NumPy release.\n",
      "  from numpy.core.umath_tests import inner1d\n"
     ]
    }
   ],
   "source": [
    "import os\n",
    "import numpy as np \n",
    "import pandas as pd\n",
    "import matplotlib.pyplot as plt\n",
    "import seaborn as sns\n",
    "from sklearn.cross_validation import train_test_split #, KFold\n",
    "from sklearn.linear_model import LogisticRegression, LogisticRegressionCV\n",
    "from sklearn.svm import SVC\n",
    "from sklearn.ensemble import RandomForestClassifier\n",
    "from sklearn.tree import DecisionTreeClassifier\n",
    "from sklearn.naive_bayes import GaussianNB\n",
    "from sklearn.neighbors import KNeighborsClassifier\n",
    "from sklearn.metrics import accuracy_score\n",
    "#from sklearn import preprocessing\n",
    "from numpy import unravel_index\n",
    "from matplotlib.colors import ListedColormap\n",
    "from numpy import linspace\n",
    "%matplotlib inline\n",
    "\n",
    "from sklearn.decomposition import PCA\n",
    "from sklearn.discriminant_analysis import LinearDiscriminantAnalysis\n",
    "\n",
    "from sklearn.metrics import log_loss\n",
    "from sklearn.model_selection import KFold\n",
    "from sklearn.preprocessing import StandardScaler\n",
    "from sklearn.neural_network import MLPClassifier\n",
    "from sklearn.model_selection import train_test_split, cross_val_score, GridSearchCV"
   ]
  },
  {
   "cell_type": "markdown",
   "metadata": {},
   "source": [
    "# Classification\n",
    "trying to train a model that can classify if weather data is from the northern third, the middle third or the southern third"
   ]
  },
  {
   "cell_type": "code",
   "execution_count": 2,
   "metadata": {},
   "outputs": [],
   "source": [
    "# load data\n",
    "path_file = os.path.join(os.getcwd(), 'data_weather_missing_values_filled.csv')\n",
    "data = pd.read_csv(path_file)"
   ]
  },
  {
   "cell_type": "code",
   "execution_count": 3,
   "metadata": {},
   "outputs": [
    {
     "name": "stdout",
     "output_type": "stream",
     "text": [
      "(36795, 11)\n"
     ]
    },
    {
     "data": {
      "text/html": [
       "<div>\n",
       "<style scoped>\n",
       "    .dataframe tbody tr th:only-of-type {\n",
       "        vertical-align: middle;\n",
       "    }\n",
       "\n",
       "    .dataframe tbody tr th {\n",
       "        vertical-align: top;\n",
       "    }\n",
       "\n",
       "    .dataframe thead th {\n",
       "        text-align: right;\n",
       "    }\n",
       "</style>\n",
       "<table border=\"1\" class=\"dataframe\">\n",
       "  <thead>\n",
       "    <tr style=\"text-align: right;\">\n",
       "      <th></th>\n",
       "      <th>yyyy</th>\n",
       "      <th>mm</th>\n",
       "      <th>tmax</th>\n",
       "      <th>tmin</th>\n",
       "      <th>af</th>\n",
       "      <th>rain</th>\n",
       "      <th>sun</th>\n",
       "      <th>lat</th>\n",
       "      <th>lon</th>\n",
       "      <th>station</th>\n",
       "      <th>third</th>\n",
       "    </tr>\n",
       "  </thead>\n",
       "  <tbody>\n",
       "    <tr>\n",
       "      <th>0</th>\n",
       "      <td>1942</td>\n",
       "      <td>1</td>\n",
       "      <td>5.8</td>\n",
       "      <td>2.1</td>\n",
       "      <td>10</td>\n",
       "      <td>114.0</td>\n",
       "      <td>58.0</td>\n",
       "      <td>52.139</td>\n",
       "      <td>-4.57</td>\n",
       "      <td>aberporth</td>\n",
       "      <td>1</td>\n",
       "    </tr>\n",
       "    <tr>\n",
       "      <th>1</th>\n",
       "      <td>1942</td>\n",
       "      <td>2</td>\n",
       "      <td>4.2</td>\n",
       "      <td>-0.6</td>\n",
       "      <td>14</td>\n",
       "      <td>13.8</td>\n",
       "      <td>80.3</td>\n",
       "      <td>52.139</td>\n",
       "      <td>-4.57</td>\n",
       "      <td>aberporth</td>\n",
       "      <td>1</td>\n",
       "    </tr>\n",
       "    <tr>\n",
       "      <th>2</th>\n",
       "      <td>1942</td>\n",
       "      <td>3</td>\n",
       "      <td>9.7</td>\n",
       "      <td>3.7</td>\n",
       "      <td>1</td>\n",
       "      <td>58.0</td>\n",
       "      <td>117.9</td>\n",
       "      <td>52.139</td>\n",
       "      <td>-4.57</td>\n",
       "      <td>aberporth</td>\n",
       "      <td>1</td>\n",
       "    </tr>\n",
       "    <tr>\n",
       "      <th>3</th>\n",
       "      <td>1942</td>\n",
       "      <td>4</td>\n",
       "      <td>13.1</td>\n",
       "      <td>5.3</td>\n",
       "      <td>0</td>\n",
       "      <td>42.5</td>\n",
       "      <td>200.1</td>\n",
       "      <td>52.139</td>\n",
       "      <td>-4.57</td>\n",
       "      <td>aberporth</td>\n",
       "      <td>1</td>\n",
       "    </tr>\n",
       "    <tr>\n",
       "      <th>4</th>\n",
       "      <td>1942</td>\n",
       "      <td>5</td>\n",
       "      <td>14.0</td>\n",
       "      <td>6.9</td>\n",
       "      <td>0</td>\n",
       "      <td>101.1</td>\n",
       "      <td>215.1</td>\n",
       "      <td>52.139</td>\n",
       "      <td>-4.57</td>\n",
       "      <td>aberporth</td>\n",
       "      <td>1</td>\n",
       "    </tr>\n",
       "  </tbody>\n",
       "</table>\n",
       "</div>"
      ],
      "text/plain": [
       "   yyyy  mm  tmax  tmin  af   rain    sun     lat   lon    station  third\n",
       "0  1942   1   5.8   2.1  10  114.0   58.0  52.139 -4.57  aberporth      1\n",
       "1  1942   2   4.2  -0.6  14   13.8   80.3  52.139 -4.57  aberporth      1\n",
       "2  1942   3   9.7   3.7   1   58.0  117.9  52.139 -4.57  aberporth      1\n",
       "3  1942   4  13.1   5.3   0   42.5  200.1  52.139 -4.57  aberporth      1\n",
       "4  1942   5  14.0   6.9   0  101.1  215.1  52.139 -4.57  aberporth      1"
      ]
     },
     "execution_count": 3,
     "metadata": {},
     "output_type": "execute_result"
    }
   ],
   "source": [
    "# print the shape of the data and the first 5 instances\n",
    "print(data.shape)\n",
    "data.head()"
   ]
  },
  {
   "cell_type": "code",
   "execution_count": 4,
   "metadata": {},
   "outputs": [
    {
     "data": {
      "text/html": [
       "<div>\n",
       "<style scoped>\n",
       "    .dataframe tbody tr th:only-of-type {\n",
       "        vertical-align: middle;\n",
       "    }\n",
       "\n",
       "    .dataframe tbody tr th {\n",
       "        vertical-align: top;\n",
       "    }\n",
       "\n",
       "    .dataframe thead th {\n",
       "        text-align: right;\n",
       "    }\n",
       "</style>\n",
       "<table border=\"1\" class=\"dataframe\">\n",
       "  <thead>\n",
       "    <tr style=\"text-align: right;\">\n",
       "      <th></th>\n",
       "      <th>yyyy</th>\n",
       "      <th>mm</th>\n",
       "      <th>tmax</th>\n",
       "      <th>tmin</th>\n",
       "      <th>af</th>\n",
       "      <th>rain</th>\n",
       "      <th>sun</th>\n",
       "      <th>lat</th>\n",
       "      <th>lon</th>\n",
       "      <th>third</th>\n",
       "    </tr>\n",
       "  </thead>\n",
       "  <tbody>\n",
       "    <tr>\n",
       "      <th>count</th>\n",
       "      <td>36795.000000</td>\n",
       "      <td>36795.000000</td>\n",
       "      <td>36795.000000</td>\n",
       "      <td>36795.000000</td>\n",
       "      <td>36795.000000</td>\n",
       "      <td>36795.000000</td>\n",
       "      <td>36795.000000</td>\n",
       "      <td>36795.000000</td>\n",
       "      <td>36795.000000</td>\n",
       "      <td>36795.000000</td>\n",
       "    </tr>\n",
       "    <tr>\n",
       "      <th>mean</th>\n",
       "      <td>1968.987118</td>\n",
       "      <td>6.487539</td>\n",
       "      <td>12.720948</td>\n",
       "      <td>5.917076</td>\n",
       "      <td>3.564805</td>\n",
       "      <td>73.083734</td>\n",
       "      <td>116.731480</td>\n",
       "      <td>53.962404</td>\n",
       "      <td>-2.716951</td>\n",
       "      <td>1.605816</td>\n",
       "    </tr>\n",
       "    <tr>\n",
       "      <th>std</th>\n",
       "      <td>35.990652</td>\n",
       "      <td>3.454615</td>\n",
       "      <td>5.041129</td>\n",
       "      <td>4.067206</td>\n",
       "      <td>5.247866</td>\n",
       "      <td>47.961228</td>\n",
       "      <td>68.378006</td>\n",
       "      <td>2.511071</td>\n",
       "      <td>2.207022</td>\n",
       "      <td>0.719221</td>\n",
       "    </tr>\n",
       "    <tr>\n",
       "      <th>min</th>\n",
       "      <td>1853.000000</td>\n",
       "      <td>1.000000</td>\n",
       "      <td>-4.700000</td>\n",
       "      <td>-9.700000</td>\n",
       "      <td>-6.000000</td>\n",
       "      <td>0.000000</td>\n",
       "      <td>-304.300000</td>\n",
       "      <td>50.218000</td>\n",
       "      <td>-6.880000</td>\n",
       "      <td>1.000000</td>\n",
       "    </tr>\n",
       "    <tr>\n",
       "      <th>25%</th>\n",
       "      <td>1949.000000</td>\n",
       "      <td>3.000000</td>\n",
       "      <td>8.500000</td>\n",
       "      <td>2.700000</td>\n",
       "      <td>0.000000</td>\n",
       "      <td>39.500000</td>\n",
       "      <td>63.000000</td>\n",
       "      <td>51.761000</td>\n",
       "      <td>-4.147000</td>\n",
       "      <td>1.000000</td>\n",
       "    </tr>\n",
       "    <tr>\n",
       "      <th>50%</th>\n",
       "      <td>1976.000000</td>\n",
       "      <td>6.000000</td>\n",
       "      <td>12.400000</td>\n",
       "      <td>5.500000</td>\n",
       "      <td>1.000000</td>\n",
       "      <td>63.000000</td>\n",
       "      <td>111.400000</td>\n",
       "      <td>53.381000</td>\n",
       "      <td>-2.584000</td>\n",
       "      <td>1.000000</td>\n",
       "    </tr>\n",
       "    <tr>\n",
       "      <th>75%</th>\n",
       "      <td>1997.000000</td>\n",
       "      <td>9.000000</td>\n",
       "      <td>16.800000</td>\n",
       "      <td>9.400000</td>\n",
       "      <td>6.000000</td>\n",
       "      <td>95.000000</td>\n",
       "      <td>162.600000</td>\n",
       "      <td>55.311000</td>\n",
       "      <td>-1.262000</td>\n",
       "      <td>2.000000</td>\n",
       "    </tr>\n",
       "    <tr>\n",
       "      <th>max</th>\n",
       "      <td>2019.000000</td>\n",
       "      <td>12.000000</td>\n",
       "      <td>28.300000</td>\n",
       "      <td>18.000000</td>\n",
       "      <td>33.000000</td>\n",
       "      <td>568.800000</td>\n",
       "      <td>823.400000</td>\n",
       "      <td>60.139000</td>\n",
       "      <td>1.727000</td>\n",
       "      <td>3.000000</td>\n",
       "    </tr>\n",
       "  </tbody>\n",
       "</table>\n",
       "</div>"
      ],
      "text/plain": [
       "               yyyy            mm          tmax          tmin            af  \\\n",
       "count  36795.000000  36795.000000  36795.000000  36795.000000  36795.000000   \n",
       "mean    1968.987118      6.487539     12.720948      5.917076      3.564805   \n",
       "std       35.990652      3.454615      5.041129      4.067206      5.247866   \n",
       "min     1853.000000      1.000000     -4.700000     -9.700000     -6.000000   \n",
       "25%     1949.000000      3.000000      8.500000      2.700000      0.000000   \n",
       "50%     1976.000000      6.000000     12.400000      5.500000      1.000000   \n",
       "75%     1997.000000      9.000000     16.800000      9.400000      6.000000   \n",
       "max     2019.000000     12.000000     28.300000     18.000000     33.000000   \n",
       "\n",
       "               rain           sun           lat           lon         third  \n",
       "count  36795.000000  36795.000000  36795.000000  36795.000000  36795.000000  \n",
       "mean      73.083734    116.731480     53.962404     -2.716951      1.605816  \n",
       "std       47.961228     68.378006      2.511071      2.207022      0.719221  \n",
       "min        0.000000   -304.300000     50.218000     -6.880000      1.000000  \n",
       "25%       39.500000     63.000000     51.761000     -4.147000      1.000000  \n",
       "50%       63.000000    111.400000     53.381000     -2.584000      1.000000  \n",
       "75%       95.000000    162.600000     55.311000     -1.262000      2.000000  \n",
       "max      568.800000    823.400000     60.139000      1.727000      3.000000  "
      ]
     },
     "execution_count": 4,
     "metadata": {},
     "output_type": "execute_result"
    }
   ],
   "source": [
    "# descriptive statistics\n",
    "data.describe()"
   ]
  },
  {
   "cell_type": "code",
   "execution_count": 5,
   "metadata": {},
   "outputs": [
    {
     "name": "stdout",
     "output_type": "stream",
     "text": [
      "       station  percent\n",
      "third                  \n",
      "1        19627     53.3\n",
      "2        12045     32.7\n",
      "3         5123     13.9\n",
      "36795 masks\n"
     ]
    },
    {
     "data": {
      "image/png": "[encoded data removed]",
      "text/plain": [
       "<Figure size 432x288 with 1 Axes>"
      ]
     },
     "metadata": {
      "needs_background": "light"
     },
     "output_type": "display_data"
    }
   ],
   "source": [
    "# plot the distribution of the weather data in the thirds\n",
    "count_cat = data[['station', 'third']].groupby('third').count()\n",
    "count_cat['percent'] = round(count_cat/count_cat.sum() * 100, 1)\n",
    "print(count_cat)\n",
    "data['third'].hist(bins=data['third'].max())\n",
    "print(data.shape[0], 'masks')"
   ]
  },
  {
   "cell_type": "markdown",
   "metadata": {},
   "source": [
    "comment:\n",
    "the data is not balanced on the target attribute ('third'). 53% of the data fall into the southern third and just 14% fall into the nothern part"
   ]
  },
  {
   "cell_type": "code",
   "execution_count": 6,
   "metadata": {},
   "outputs": [],
   "source": [
    "# count kinds of MA\n",
    "temp = data[['tmax', 'third']].groupby('third').count()\n",
    "temp = round(temp.min()/1000,1)*1000\n",
    "temp = temp[0]"
   ]
  },
  {
   "cell_type": "code",
   "execution_count": 7,
   "metadata": {},
   "outputs": [
    {
     "name": "stdout",
     "output_type": "stream",
     "text": [
      "15300 masks\n"
     ]
    },
    {
     "data": {
      "image/png": "[encoded data removed]",
      "text/plain": [
       "<Figure size 432x288 with 1 Axes>"
      ]
     },
     "metadata": {
      "needs_background": "light"
     },
     "output_type": "display_data"
    }
   ],
   "source": [
    "# make the data set blanced over the target variable ('third')\n",
    "SAMPLES_PER_GROUP = int(temp)\n",
    "data_balanced = data.groupby('third').apply(lambda x: x.sample(SAMPLES_PER_GROUP) if len(x) > SAMPLES_PER_GROUP else x)\n",
    "data_balanced['third'].hist(bins=data_balanced['third'].max())\n",
    "print(data_balanced.shape[0], 'masks')"
   ]
  },
  {
   "cell_type": "markdown",
   "metadata": {},
   "source": [
    "comment: \n",
    "* to acomplish a balanced dataset on the target variable I had to get rid of 58% of the data\n",
    "* I tried the alorithms and the full inbalanced dataset outperforms the balanced dataset"
   ]
  },
  {
   "cell_type": "markdown",
   "metadata": {},
   "source": [
    "## prepare data\n",
    "prepare data for using it in the classification algorithms"
   ]
  },
  {
   "cell_type": "code",
   "execution_count": 8,
   "metadata": {},
   "outputs": [],
   "source": [
    "########################\n",
    "###   shuffle data   ###\n",
    "########################\n",
    "\n",
    "data = data.reindex(np.random.permutation(data.index))"
   ]
  },
  {
   "cell_type": "code",
   "execution_count": 9,
   "metadata": {},
   "outputs": [],
   "source": [
    "######################################\n",
    "###   split into train-test data   ###\n",
    "######################################\n",
    "\n",
    "# split into train, validate, test\n",
    "train, validate, test = np.split(data.sample(frac=1), [int(.6*len(data)), int(.8*len(data))])\n",
    "#X_train, X_test, y_train, y_test = train_test_split(X, y, test_size=0.2, random_state=0)"
   ]
  },
  {
   "cell_type": "markdown",
   "metadata": {},
   "source": [
    "comment:\n",
    "I am splitting the data into:\n",
    "* a training set -> for training the classifiers but classifiers can overfit to this dataset\n",
    "* a validation set -> for selecting the best performing model\n",
    "* but since I selected the bes performing model the score (accurancy is biased towards the model)\n",
    "* a test set that shows the real performance of the selected model"
   ]
  },
  {
   "cell_type": "code",
   "execution_count": 10,
   "metadata": {},
   "outputs": [],
   "source": [
    "##########################################\n",
    "###   assingn attributes and targets   ###\n",
    "##########################################\n",
    "\n",
    "X_train = train[['yyyy', 'mm', 'tmax', 'tmin', 'af', 'rain', 'sun']].values\n",
    "y_train = train['third'].values\n",
    "X_val = validate[['yyyy', 'mm', 'tmax', 'tmin', 'af', 'rain', 'sun']].values\n",
    "y_val = validate['third'].values\n",
    "X_test = test[['yyyy', 'mm', 'tmax', 'tmin', 'af', 'rain', 'sun']].values\n",
    "y_test = test['third'].values"
   ]
  },
  {
   "cell_type": "code",
   "execution_count": 11,
   "metadata": {},
   "outputs": [],
   "source": [
    "############################\n",
    "###   standardize data   ###\n",
    "############################\n",
    "\n",
    "scaler = StandardScaler()\n",
    "scaler.fit(X_train)\n",
    "\n",
    "X_train = scaler.transform(X_train)\n",
    "X_val = scaler.transform(X_val)\n",
    "X_test = scaler.transform(X_test)"
   ]
  },
  {
   "cell_type": "code",
   "execution_count": 12,
   "metadata": {},
   "outputs": [
    {
     "name": "stdout",
     "output_type": "stream",
     "text": [
      "(36795, 11)\n",
      "(22077, 7)\n",
      "(7359, 7)\n",
      "(7359, 7)\n"
     ]
    }
   ],
   "source": [
    "# print shapes of full, training, validation and test set\n",
    "print(data.shape)\n",
    "print(X_train.shape)\n",
    "print(X_val.shape)\n",
    "print(X_test.shape)"
   ]
  },
  {
   "cell_type": "markdown",
   "metadata": {},
   "source": [
    "### appling PCA\n",
    "applying PCA for dimensionality reduction since some algorithms perform better with data in a lower dimensional space"
   ]
  },
  {
   "cell_type": "code",
   "execution_count": 13,
   "metadata": {},
   "outputs": [
    {
     "data": {
      "image/png": "[encoded data removed]",
      "text/plain": [
       "<Figure size 432x288 with 2 Axes>"
      ]
     },
     "metadata": {
      "needs_background": "light"
     },
     "output_type": "display_data"
    }
   ],
   "source": [
    "##############################################\n",
    "###   PCA - Principal component analysis   ###\n",
    "##############################################\n",
    "\n",
    "# fit PCA\n",
    "pca = PCA(n_components=X_train.shape[1], svd_solver='full')\n",
    "pca.fit(X_train) # X\n",
    "\n",
    "# make cumulative array of the variance\n",
    "culm_var = np.cumsum(pca.explained_variance_ratio_)\n",
    "    \n",
    "# find 80%\n",
    "idx_08 = (np.abs(culm_var-0.80)).argmin()\n",
    "\n",
    "# make plot\n",
    "fig, ax1 = plt.subplots()\n",
    "plt.title('explained variance versus principal components')\n",
    "\n",
    "# plot explained variance ratio\n",
    "color = 'tab:blue'\n",
    "ax1.set_xlabel('principal components')\n",
    "ax1.set_ylabel('explained variance ratio', color=color)\n",
    "ax1.bar(np.arange(X_train.shape[1]), pca.explained_variance_ratio_)\n",
    "ax1.tick_params(axis='y', labelcolor=color)\n",
    "\n",
    "# plot 80% of the variance is explained\n",
    "ax1.vlines(idx_08, 0, pca.explained_variance_ratio_.max(), colors='k', linestyles='--', label='80%', color='r')\n",
    "ax2 = ax1.twinx()  # instantiate a second axes that shares the same x-axis\n",
    "\n",
    "# plot cumative variance\n",
    "color = 'tab:green'\n",
    "ax2.set_ylabel('cumululative explained variance', color=color)  # we already handled the x-label with ax1\n",
    "ax2.plot(np.arange(X_train.shape[1]), culm_var, color='g')\n",
    "ax2.tick_params(axis='y', labelcolor=color)\n",
    "\n",
    "fig.tight_layout()  # otherwise the right y-label is slightly clipped\n",
    "plt.show()"
   ]
  },
  {
   "cell_type": "markdown",
   "metadata": {},
   "source": [
    "comment:\n",
    "after applying PCA to the data and plotting the explained variance of the principal components, we can se that mor than 80% of the variance can be explained by just 2 principal components"
   ]
  },
  {
   "cell_type": "code",
   "execution_count": 14,
   "metadata": {},
   "outputs": [],
   "source": [
    "#####################\n",
    "###   apply PCA   ###\n",
    "#####################\n",
    "\n",
    "# define PCA\n",
    "pca = PCA(n_components=idx_08, svd_solver='full')\n",
    "# compute PCA\n",
    "pca.fit(X_train)\n",
    "\n",
    "# transform training and validation data set\n",
    "X_train_pca = pca.transform(X_train)\n",
    "X_val_pca = pca.transform(X_val)"
   ]
  },
  {
   "cell_type": "markdown",
   "metadata": {},
   "source": [
    "## training classifiers\n",
    "traing differn classifiers"
   ]
  },
  {
   "cell_type": "code",
   "execution_count": 15,
   "metadata": {},
   "outputs": [
    {
     "name": "stdout",
     "output_type": "stream",
     "text": [
      "\n",
      "*****************   without PCA   *****************\n",
      "\n",
      "score:    0.516\n",
      "log loss: 1.034\n",
      "\n",
      "*****************   with PCA   *****************\n",
      "\n",
      "score:    0.539\n",
      "log loss: 0.947\n"
     ]
    }
   ],
   "source": [
    "############################\n",
    "###   NB - Naive Bayes   ###\n",
    "############################\n",
    "\n",
    "Xs = [[X_train,X_val,'without PCA'],[X_train_pca,X_val_pca,'with PCA']]\n",
    "for X in Xs:\n",
    "    print(\"\\n*****************   \" + X[2] + \"   *****************\\n\")\n",
    "    gnb = GaussianNB()\n",
    "    gnb.fit(X[0], y_train)\n",
    "    pred = gnb.predict_proba(X[1])\n",
    "\n",
    "    print(\"score:    {:.3f}\".format(gnb.score(X[1],y_val)))\n",
    "    print(\"log loss: {:.3f}\".format(log_loss(y_val,pred))) "
   ]
  },
  {
   "cell_type": "code",
   "execution_count": 16,
   "metadata": {},
   "outputs": [
    {
     "name": "stdout",
     "output_type": "stream",
     "text": [
      "\n",
      "*****************   without PCA   *****************\n",
      "\n",
      "-----------------   solver: lbfgs   -----------------\n",
      "score:    0.558\n",
      "log loss: 0.895\n",
      "-----------------   solver: liblinear   -----------------\n",
      "score:    0.558\n",
      "log loss: 0.895\n",
      "-----------------   solver: newton-cg   -----------------\n",
      "score:    0.558\n",
      "log loss: 0.895\n",
      "\n",
      "*****************   with PCA   *****************\n",
      "\n",
      "-----------------   solver: lbfgs   -----------------\n",
      "score:    0.545\n",
      "log loss: 0.951\n",
      "-----------------   solver: liblinear   -----------------\n",
      "score:    0.545\n",
      "log loss: 0.951\n",
      "-----------------   solver: newton-cg   -----------------\n",
      "score:    0.545\n",
      "log loss: 0.951\n"
     ]
    }
   ],
   "source": [
    "####################################\n",
    "###   LR - Logistic Regression   ###\n",
    "####################################\n",
    "\n",
    "# trying LR with solver: 'lbfgs', 'liblinear', 'newton-cg'\n",
    "solvers = ['lbfgs', 'liblinear', 'newton-cg']\n",
    "\n",
    "Xs = [[X_train,X_val,'without PCA'],[X_train_pca,X_val_pca,'with PCA']]\n",
    "for X in Xs:\n",
    "    print(\"\\n*****************   \" + X[2] + \"   *****************\\n\")\n",
    "    for solver in solvers:\n",
    "        print(\"-----------------   solver: \" + solver + \"   -----------------\")\n",
    "        lr = LogisticRegression(solver=solver)\n",
    "        lr.fit(X[0], y_train)\n",
    "        pred = lr.predict_proba(X[1])\n",
    "\n",
    "        print(\"score:    {:.3f}\".format(lr.score(X[1],y_val)))\n",
    "        print(\"log loss: {:.3f}\".format(log_loss(y_val,pred)))"
   ]
  },
  {
   "cell_type": "code",
   "execution_count": 17,
   "metadata": {},
   "outputs": [
    {
     "name": "stdout",
     "output_type": "stream",
     "text": [
      "Number of processors:  4\n",
      "\n",
      "*****************   without PCA   *****************\n",
      "\n"
     ]
    },
    {
     "ename": "KeyboardInterrupt",
     "evalue": "",
     "output_type": "error",
     "traceback": [
      "\u001b[0;31m---------------------------------------------------------------------------\u001b[0m",
      "\u001b[0;31mKeyboardInterrupt\u001b[0m                         Traceback (most recent call last)",
      "\u001b[0;32m<ipython-input-17-1e39ac5f15cc>\u001b[0m in \u001b[0;36m<module>\u001b[0;34m()\u001b[0m\n\u001b[1;32m     22\u001b[0m \u001b[0;32mfor\u001b[0m \u001b[0mX\u001b[0m \u001b[0;32min\u001b[0m \u001b[0mXs\u001b[0m\u001b[0;34m:\u001b[0m\u001b[0;34m\u001b[0m\u001b[0;34m\u001b[0m\u001b[0m\n\u001b[1;32m     23\u001b[0m     \u001b[0mprint\u001b[0m\u001b[0;34m(\u001b[0m\u001b[0;34m\"\\n*****************   \"\u001b[0m \u001b[0;34m+\u001b[0m \u001b[0mX\u001b[0m\u001b[0;34m[\u001b[0m\u001b[0;36m2\u001b[0m\u001b[0;34m]\u001b[0m \u001b[0;34m+\u001b[0m \u001b[0;34m\"   *****************\\n\"\u001b[0m\u001b[0;34m)\u001b[0m\u001b[0;34m\u001b[0m\u001b[0;34m\u001b[0m\u001b[0m\n\u001b[0;32m---> 24\u001b[0;31m     \u001b[0mresults\u001b[0m \u001b[0;34m=\u001b[0m \u001b[0mpool\u001b[0m\u001b[0;34m.\u001b[0m\u001b[0mmap\u001b[0m\u001b[0;34m(\u001b[0m\u001b[0mml_svc\u001b[0m\u001b[0;34m,\u001b[0m \u001b[0;34m[\u001b[0m\u001b[0;34m'poly'\u001b[0m\u001b[0;34m,\u001b[0m \u001b[0;34m'rbf'\u001b[0m\u001b[0;34m,\u001b[0m \u001b[0;34m'sigmoid'\u001b[0m\u001b[0;34m,\u001b[0m \u001b[0;34m'linear'\u001b[0m\u001b[0;34m]\u001b[0m\u001b[0;34m)\u001b[0m\u001b[0;34m\u001b[0m\u001b[0;34m\u001b[0m\u001b[0m\n\u001b[0m",
      "\u001b[0;32m~/Python/anaconda3/envs/py3iaml/lib/python3.7/multiprocessing/pool.py\u001b[0m in \u001b[0;36mmap\u001b[0;34m(self, func, iterable, chunksize)\u001b[0m\n\u001b[1;32m    266\u001b[0m         \u001b[0;32min\u001b[0m \u001b[0ma\u001b[0m \u001b[0mlist\u001b[0m \u001b[0mthat\u001b[0m \u001b[0;32mis\u001b[0m \u001b[0mreturned\u001b[0m\u001b[0;34m.\u001b[0m\u001b[0;34m\u001b[0m\u001b[0;34m\u001b[0m\u001b[0m\n\u001b[1;32m    267\u001b[0m         '''\n\u001b[0;32m--> 268\u001b[0;31m         \u001b[0;32mreturn\u001b[0m \u001b[0mself\u001b[0m\u001b[0;34m.\u001b[0m\u001b[0m_map_async\u001b[0m\u001b[0;34m(\u001b[0m\u001b[0mfunc\u001b[0m\u001b[0;34m,\u001b[0m \u001b[0miterable\u001b[0m\u001b[0;34m,\u001b[0m \u001b[0mmapstar\u001b[0m\u001b[0;34m,\u001b[0m \u001b[0mchunksize\u001b[0m\u001b[0;34m)\u001b[0m\u001b[0;34m.\u001b[0m\u001b[0mget\u001b[0m\u001b[0;34m(\u001b[0m\u001b[0;34m)\u001b[0m\u001b[0;34m\u001b[0m\u001b[0;34m\u001b[0m\u001b[0m\n\u001b[0m\u001b[1;32m    269\u001b[0m \u001b[0;34m\u001b[0m\u001b[0m\n\u001b[1;32m    270\u001b[0m     \u001b[0;32mdef\u001b[0m \u001b[0mstarmap\u001b[0m\u001b[0;34m(\u001b[0m\u001b[0mself\u001b[0m\u001b[0;34m,\u001b[0m \u001b[0mfunc\u001b[0m\u001b[0;34m,\u001b[0m \u001b[0miterable\u001b[0m\u001b[0;34m,\u001b[0m \u001b[0mchunksize\u001b[0m\u001b[0;34m=\u001b[0m\u001b[0;32mNone\u001b[0m\u001b[0;34m)\u001b[0m\u001b[0;34m:\u001b[0m\u001b[0;34m\u001b[0m\u001b[0;34m\u001b[0m\u001b[0m\n",
      "\u001b[0;32m~/Python/anaconda3/envs/py3iaml/lib/python3.7/multiprocessing/pool.py\u001b[0m in \u001b[0;36mget\u001b[0;34m(self, timeout)\u001b[0m\n\u001b[1;32m    649\u001b[0m \u001b[0;34m\u001b[0m\u001b[0m\n\u001b[1;32m    650\u001b[0m     \u001b[0;32mdef\u001b[0m \u001b[0mget\u001b[0m\u001b[0;34m(\u001b[0m\u001b[0mself\u001b[0m\u001b[0;34m,\u001b[0m \u001b[0mtimeout\u001b[0m\u001b[0;34m=\u001b[0m\u001b[0;32mNone\u001b[0m\u001b[0;34m)\u001b[0m\u001b[0;34m:\u001b[0m\u001b[0;34m\u001b[0m\u001b[0;34m\u001b[0m\u001b[0m\n\u001b[0;32m--> 651\u001b[0;31m         \u001b[0mself\u001b[0m\u001b[0;34m.\u001b[0m\u001b[0mwait\u001b[0m\u001b[0;34m(\u001b[0m\u001b[0mtimeout\u001b[0m\u001b[0;34m)\u001b[0m\u001b[0;34m\u001b[0m\u001b[0;34m\u001b[0m\u001b[0m\n\u001b[0m\u001b[1;32m    652\u001b[0m         \u001b[0;32mif\u001b[0m \u001b[0;32mnot\u001b[0m \u001b[0mself\u001b[0m\u001b[0;34m.\u001b[0m\u001b[0mready\u001b[0m\u001b[0;34m(\u001b[0m\u001b[0;34m)\u001b[0m\u001b[0;34m:\u001b[0m\u001b[0;34m\u001b[0m\u001b[0;34m\u001b[0m\u001b[0m\n\u001b[1;32m    653\u001b[0m             \u001b[0;32mraise\u001b[0m \u001b[0mTimeoutError\u001b[0m\u001b[0;34m\u001b[0m\u001b[0;34m\u001b[0m\u001b[0m\n",
      "\u001b[0;32m~/Python/anaconda3/envs/py3iaml/lib/python3.7/multiprocessing/pool.py\u001b[0m in \u001b[0;36mwait\u001b[0;34m(self, timeout)\u001b[0m\n\u001b[1;32m    646\u001b[0m \u001b[0;34m\u001b[0m\u001b[0m\n\u001b[1;32m    647\u001b[0m     \u001b[0;32mdef\u001b[0m \u001b[0mwait\u001b[0m\u001b[0;34m(\u001b[0m\u001b[0mself\u001b[0m\u001b[0;34m,\u001b[0m \u001b[0mtimeout\u001b[0m\u001b[0;34m=\u001b[0m\u001b[0;32mNone\u001b[0m\u001b[0;34m)\u001b[0m\u001b[0;34m:\u001b[0m\u001b[0;34m\u001b[0m\u001b[0;34m\u001b[0m\u001b[0m\n\u001b[0;32m--> 648\u001b[0;31m         \u001b[0mself\u001b[0m\u001b[0;34m.\u001b[0m\u001b[0m_event\u001b[0m\u001b[0;34m.\u001b[0m\u001b[0mwait\u001b[0m\u001b[0;34m(\u001b[0m\u001b[0mtimeout\u001b[0m\u001b[0;34m)\u001b[0m\u001b[0;34m\u001b[0m\u001b[0;34m\u001b[0m\u001b[0m\n\u001b[0m\u001b[1;32m    649\u001b[0m \u001b[0;34m\u001b[0m\u001b[0m\n\u001b[1;32m    650\u001b[0m     \u001b[0;32mdef\u001b[0m \u001b[0mget\u001b[0m\u001b[0;34m(\u001b[0m\u001b[0mself\u001b[0m\u001b[0;34m,\u001b[0m \u001b[0mtimeout\u001b[0m\u001b[0;34m=\u001b[0m\u001b[0;32mNone\u001b[0m\u001b[0;34m)\u001b[0m\u001b[0;34m:\u001b[0m\u001b[0;34m\u001b[0m\u001b[0;34m\u001b[0m\u001b[0m\n",
      "\u001b[0;32m~/Python/anaconda3/envs/py3iaml/lib/python3.7/threading.py\u001b[0m in \u001b[0;36mwait\u001b[0;34m(self, timeout)\u001b[0m\n\u001b[1;32m    550\u001b[0m             \u001b[0msignaled\u001b[0m \u001b[0;34m=\u001b[0m \u001b[0mself\u001b[0m\u001b[0;34m.\u001b[0m\u001b[0m_flag\u001b[0m\u001b[0;34m\u001b[0m\u001b[0;34m\u001b[0m\u001b[0m\n\u001b[1;32m    551\u001b[0m             \u001b[0;32mif\u001b[0m \u001b[0;32mnot\u001b[0m \u001b[0msignaled\u001b[0m\u001b[0;34m:\u001b[0m\u001b[0;34m\u001b[0m\u001b[0;34m\u001b[0m\u001b[0m\n\u001b[0;32m--> 552\u001b[0;31m                 \u001b[0msignaled\u001b[0m \u001b[0;34m=\u001b[0m \u001b[0mself\u001b[0m\u001b[0;34m.\u001b[0m\u001b[0m_cond\u001b[0m\u001b[0;34m.\u001b[0m\u001b[0mwait\u001b[0m\u001b[0;34m(\u001b[0m\u001b[0mtimeout\u001b[0m\u001b[0;34m)\u001b[0m\u001b[0;34m\u001b[0m\u001b[0;34m\u001b[0m\u001b[0m\n\u001b[0m\u001b[1;32m    553\u001b[0m             \u001b[0;32mreturn\u001b[0m \u001b[0msignaled\u001b[0m\u001b[0;34m\u001b[0m\u001b[0;34m\u001b[0m\u001b[0m\n\u001b[1;32m    554\u001b[0m \u001b[0;34m\u001b[0m\u001b[0m\n",
      "\u001b[0;32m~/Python/anaconda3/envs/py3iaml/lib/python3.7/threading.py\u001b[0m in \u001b[0;36mwait\u001b[0;34m(self, timeout)\u001b[0m\n\u001b[1;32m    294\u001b[0m         \u001b[0;32mtry\u001b[0m\u001b[0;34m:\u001b[0m    \u001b[0;31m# restore state no matter what (e.g., KeyboardInterrupt)\u001b[0m\u001b[0;34m\u001b[0m\u001b[0;34m\u001b[0m\u001b[0m\n\u001b[1;32m    295\u001b[0m             \u001b[0;32mif\u001b[0m \u001b[0mtimeout\u001b[0m \u001b[0;32mis\u001b[0m \u001b[0;32mNone\u001b[0m\u001b[0;34m:\u001b[0m\u001b[0;34m\u001b[0m\u001b[0;34m\u001b[0m\u001b[0m\n\u001b[0;32m--> 296\u001b[0;31m                 \u001b[0mwaiter\u001b[0m\u001b[0;34m.\u001b[0m\u001b[0macquire\u001b[0m\u001b[0;34m(\u001b[0m\u001b[0;34m)\u001b[0m\u001b[0;34m\u001b[0m\u001b[0;34m\u001b[0m\u001b[0m\n\u001b[0m\u001b[1;32m    297\u001b[0m                 \u001b[0mgotit\u001b[0m \u001b[0;34m=\u001b[0m \u001b[0;32mTrue\u001b[0m\u001b[0;34m\u001b[0m\u001b[0;34m\u001b[0m\u001b[0m\n\u001b[1;32m    298\u001b[0m             \u001b[0;32melse\u001b[0m\u001b[0;34m:\u001b[0m\u001b[0;34m\u001b[0m\u001b[0;34m\u001b[0m\u001b[0m\n",
      "\u001b[0;31mKeyboardInterrupt\u001b[0m: "
     ]
    }
   ],
   "source": [
    "###########################################\n",
    "###   SVC - Support Vector Classifier   ###\n",
    "###########################################\n",
    "\n",
    "import multiprocessing as mp\n",
    "print(\"Number of processors: \", mp.cpu_count())\n",
    "\n",
    "def ml_svc(kernel):\n",
    "    svc = SVC(kernel=kernel, probability=True, gamma='auto')\n",
    "    svc.fit(X[0], y_train)\n",
    "    pred = svc.predict_proba(X[1])\n",
    "    \n",
    "    print(\"-----------------   kernel: \" + kernel + \"   -----------------\")\n",
    "    print(\"score:    {:.3f}\".format(svc.score(X[1],y_val))) \n",
    "    print(\"log loss: {:.3f}\".format(log_loss(y_val,pred)))\n",
    "    \n",
    "    return(pred)\n",
    "\n",
    "pool = mp.Pool(processes=mp.cpu_count())\n",
    "\n",
    "Xs = [[X_train,X_val,'without PCA'],[X_train_pca,X_val_pca,'with PCA']]\n",
    "for X in Xs:\n",
    "    print(\"\\n*****************   \" + X[2] + \"   *****************\\n\")\n",
    "    results = pool.map(ml_svc, ['poly', 'rbf', 'sigmoid', 'linear'])"
   ]
  },
  {
   "cell_type": "code",
   "execution_count": 60,
   "metadata": {
    "scrolled": true
   },
   "outputs": [
    {
     "name": "stdout",
     "output_type": "stream",
     "text": [
      "\n",
      "*****************   without PCA   *****************\n",
      "\n",
      "-----------------   kernel: poly   -----------------\n",
      "score:    0.530\n",
      "log loss: 0.962\n",
      "-----------------   kernel: rbf   -----------------\n",
      "score:    0.618\n",
      "log loss: 0.818\n",
      "-----------------   kernel: sigmoid   -----------------\n",
      "score:    0.337\n",
      "log loss: 1.094\n",
      "-----------------   kernel: linear   -----------------\n"
     ]
    },
    {
     "ename": "KeyboardInterrupt",
     "evalue": "",
     "output_type": "error",
     "traceback": [
      "\u001b[0;31m---------------------------------------------------------------------------\u001b[0m",
      "\u001b[0;31mKeyboardInterrupt\u001b[0m                         Traceback (most recent call last)",
      "\u001b[0;32m<ipython-input-60-eddadc8d0804>\u001b[0m in \u001b[0;36m<module>\u001b[0;34m()\u001b[0m\n\u001b[1;32m     12\u001b[0m         \u001b[0mprint\u001b[0m\u001b[0;34m(\u001b[0m\u001b[0;34m\"-----------------   kernel: \"\u001b[0m \u001b[0;34m+\u001b[0m \u001b[0mkernel\u001b[0m \u001b[0;34m+\u001b[0m \u001b[0;34m\"   -----------------\"\u001b[0m\u001b[0;34m)\u001b[0m\u001b[0;34m\u001b[0m\u001b[0m\n\u001b[1;32m     13\u001b[0m         \u001b[0msvc\u001b[0m \u001b[0;34m=\u001b[0m \u001b[0mSVC\u001b[0m\u001b[0;34m(\u001b[0m\u001b[0mkernel\u001b[0m\u001b[0;34m=\u001b[0m\u001b[0mkernel\u001b[0m\u001b[0;34m,\u001b[0m \u001b[0mprobability\u001b[0m\u001b[0;34m=\u001b[0m\u001b[0;32mTrue\u001b[0m\u001b[0;34m)\u001b[0m\u001b[0;34m\u001b[0m\u001b[0m\n\u001b[0;32m---> 14\u001b[0;31m         \u001b[0msvc\u001b[0m\u001b[0;34m.\u001b[0m\u001b[0mfit\u001b[0m\u001b[0;34m(\u001b[0m\u001b[0mX\u001b[0m\u001b[0;34m[\u001b[0m\u001b[0;36m0\u001b[0m\u001b[0;34m]\u001b[0m\u001b[0;34m,\u001b[0m \u001b[0my_train\u001b[0m\u001b[0;34m)\u001b[0m\u001b[0;34m\u001b[0m\u001b[0m\n\u001b[0m\u001b[1;32m     15\u001b[0m         \u001b[0mpred\u001b[0m \u001b[0;34m=\u001b[0m \u001b[0msvc\u001b[0m\u001b[0;34m.\u001b[0m\u001b[0mpredict_proba\u001b[0m\u001b[0;34m(\u001b[0m\u001b[0mX\u001b[0m\u001b[0;34m[\u001b[0m\u001b[0;36m1\u001b[0m\u001b[0;34m]\u001b[0m\u001b[0;34m)\u001b[0m\u001b[0;34m\u001b[0m\u001b[0m\n\u001b[1;32m     16\u001b[0m \u001b[0;34m\u001b[0m\u001b[0m\n",
      "\u001b[0;32m~/Python/anaconda3/envs/py3iaml/lib/python3.7/site-packages/sklearn/svm/base.py\u001b[0m in \u001b[0;36mfit\u001b[0;34m(self, X, y, sample_weight)\u001b[0m\n\u001b[1;32m    185\u001b[0m \u001b[0;34m\u001b[0m\u001b[0m\n\u001b[1;32m    186\u001b[0m         \u001b[0mseed\u001b[0m \u001b[0;34m=\u001b[0m \u001b[0mrnd\u001b[0m\u001b[0;34m.\u001b[0m\u001b[0mrandint\u001b[0m\u001b[0;34m(\u001b[0m\u001b[0mnp\u001b[0m\u001b[0;34m.\u001b[0m\u001b[0miinfo\u001b[0m\u001b[0;34m(\u001b[0m\u001b[0;34m'i'\u001b[0m\u001b[0;34m)\u001b[0m\u001b[0;34m.\u001b[0m\u001b[0mmax\u001b[0m\u001b[0;34m)\u001b[0m\u001b[0;34m\u001b[0m\u001b[0m\n\u001b[0;32m--> 187\u001b[0;31m         \u001b[0mfit\u001b[0m\u001b[0;34m(\u001b[0m\u001b[0mX\u001b[0m\u001b[0;34m,\u001b[0m \u001b[0my\u001b[0m\u001b[0;34m,\u001b[0m \u001b[0msample_weight\u001b[0m\u001b[0;34m,\u001b[0m \u001b[0msolver_type\u001b[0m\u001b[0;34m,\u001b[0m \u001b[0mkernel\u001b[0m\u001b[0;34m,\u001b[0m \u001b[0mrandom_seed\u001b[0m\u001b[0;34m=\u001b[0m\u001b[0mseed\u001b[0m\u001b[0;34m)\u001b[0m\u001b[0;34m\u001b[0m\u001b[0m\n\u001b[0m\u001b[1;32m    188\u001b[0m         \u001b[0;31m# see comment on the other call to np.iinfo in this file\u001b[0m\u001b[0;34m\u001b[0m\u001b[0;34m\u001b[0m\u001b[0m\n\u001b[1;32m    189\u001b[0m \u001b[0;34m\u001b[0m\u001b[0m\n",
      "\u001b[0;32m~/Python/anaconda3/envs/py3iaml/lib/python3.7/site-packages/sklearn/svm/base.py\u001b[0m in \u001b[0;36m_dense_fit\u001b[0;34m(self, X, y, sample_weight, solver_type, kernel, random_seed)\u001b[0m\n\u001b[1;32m    252\u001b[0m                 \u001b[0mcache_size\u001b[0m\u001b[0;34m=\u001b[0m\u001b[0mself\u001b[0m\u001b[0;34m.\u001b[0m\u001b[0mcache_size\u001b[0m\u001b[0;34m,\u001b[0m \u001b[0mcoef0\u001b[0m\u001b[0;34m=\u001b[0m\u001b[0mself\u001b[0m\u001b[0;34m.\u001b[0m\u001b[0mcoef0\u001b[0m\u001b[0;34m,\u001b[0m\u001b[0;34m\u001b[0m\u001b[0m\n\u001b[1;32m    253\u001b[0m                 \u001b[0mgamma\u001b[0m\u001b[0;34m=\u001b[0m\u001b[0mself\u001b[0m\u001b[0;34m.\u001b[0m\u001b[0m_gamma\u001b[0m\u001b[0;34m,\u001b[0m \u001b[0mepsilon\u001b[0m\u001b[0;34m=\u001b[0m\u001b[0mself\u001b[0m\u001b[0;34m.\u001b[0m\u001b[0mepsilon\u001b[0m\u001b[0;34m,\u001b[0m\u001b[0;34m\u001b[0m\u001b[0m\n\u001b[0;32m--> 254\u001b[0;31m                 max_iter=self.max_iter, random_seed=random_seed)\n\u001b[0m\u001b[1;32m    255\u001b[0m \u001b[0;34m\u001b[0m\u001b[0m\n\u001b[1;32m    256\u001b[0m         \u001b[0mself\u001b[0m\u001b[0;34m.\u001b[0m\u001b[0m_warn_from_fit_status\u001b[0m\u001b[0;34m(\u001b[0m\u001b[0;34m)\u001b[0m\u001b[0;34m\u001b[0m\u001b[0m\n",
      "\u001b[0;31mKeyboardInterrupt\u001b[0m: "
     ]
    }
   ],
   "source": [
    "###########################################\n",
    "###   SVC - Support Vector Classifier   ###\n",
    "###########################################\n",
    "\n",
    "# trying SVC with kernel: 'poly', 'rbf', 'sigmoid', 'linear'\n",
    "kernels = ['poly', 'rbf', 'sigmoid', 'linear']\n",
    "\n",
    "Xs = [[X_train,X_val,'without PCA'],[X_train_pca,X_val_pca,'with PCA']]\n",
    "for X in Xs:\n",
    "    print(\"\\n*****************   \" + X[2] + \"   *****************\\n\")\n",
    "    for kernel in kernels:\n",
    "        print(\"-----------------   kernel: \" + kernel + \"   -----------------\")\n",
    "        svc = SVC(kernel=kernel, probability=True)\n",
    "        svc.fit(X[0], y_train)\n",
    "        pred = svc.predict_proba(X[1])\n",
    "\n",
    "        print(\"score:    {:.3f}\".format(svc.score(X[1],y_val))) \n",
    "        print(\"log loss: {:.3f}\".format(log_loss(y_val,pred)))"
   ]
  },
  {
   "cell_type": "code",
   "execution_count": 25,
   "metadata": {},
   "outputs": [
    {
     "name": "stdout",
     "output_type": "stream",
     "text": [
      "\n",
      "*****************   without PCA   *****************\n",
      "\n",
      "-----------------   k: 5   -----------------\n",
      "score:    0.641\n",
      "log loss: 3.137\n",
      "-----------------   k: 7   -----------------\n",
      "score:    0.643\n",
      "log loss: 2.055\n",
      "-----------------   k: 9   -----------------\n",
      "score:    0.645\n",
      "log loss: 1.532\n",
      "-----------------   k: 11   -----------------\n",
      "score:    0.648\n",
      "log loss: 1.291\n",
      "-----------------   k: 13   -----------------\n",
      "score:    0.649\n",
      "log loss: 1.158\n",
      "-----------------   k: 15   -----------------\n",
      "score:    0.645\n",
      "log loss: 1.044\n",
      "-----------------   k: 17   -----------------\n",
      "score:    0.648\n",
      "log loss: 0.963\n",
      "-----------------   k: 19   -----------------\n",
      "score:    0.646\n",
      "log loss: 0.929\n",
      "\n",
      "*****************   with PCA   *****************\n",
      "\n",
      "-----------------   k: 5   -----------------\n",
      "score:    0.523\n",
      "log loss: 4.335\n",
      "-----------------   k: 7   -----------------\n",
      "score:    0.532\n",
      "log loss: 2.885\n",
      "-----------------   k: 9   -----------------\n",
      "score:    0.531\n",
      "log loss: 2.197\n",
      "-----------------   k: 11   -----------------\n",
      "score:    0.534\n",
      "log loss: 1.834\n",
      "-----------------   k: 13   -----------------\n",
      "score:    0.538\n",
      "log loss: 1.557\n",
      "-----------------   k: 15   -----------------\n",
      "score:    0.541\n",
      "log loss: 1.368\n",
      "-----------------   k: 17   -----------------\n",
      "score:    0.544\n",
      "log loss: 1.244\n",
      "-----------------   k: 19   -----------------\n",
      "score:    0.544\n",
      "log loss: 1.163\n"
     ]
    }
   ],
   "source": [
    "#####################################\n",
    "###   KNN - K-nearest neighbors   ###\n",
    "#####################################\n",
    "\n",
    "Xs = [[X_train,X_val,'without PCA'],[X_train_pca,X_val_pca,'with PCA']]\n",
    "for X in Xs:\n",
    "    print(\"\\n*****************   \" + X[2] + \"   *****************\\n\")\n",
    "    \n",
    "    #trying KNN with K: 5 to 20\n",
    "    for k in np.arange(5,20,2):\n",
    "        print(\"-----------------   k: \" + str(k) + \"   -----------------\")\n",
    "        knc = KNeighborsClassifier(n_neighbors=k)\n",
    "        knc.fit(X[0], y_train)\n",
    "        pred = knc.predict_proba(X[1])\n",
    "\n",
    "        print(\"score:    {:.3f}\".format(knc.score(X[1],y_val))) \n",
    "        print(\"log loss: {:.3f}\".format(log_loss(y_val,pred)))"
   ]
  },
  {
   "cell_type": "code",
   "execution_count": null,
   "metadata": {},
   "outputs": [],
   "source": []
  },
  {
   "cell_type": "code",
   "execution_count": 19,
   "metadata": {},
   "outputs": [
    {
     "name": "stdout",
     "output_type": "stream",
     "text": [
      "Finished with grid search with best mean cross-validated score: 0.7019975540154912\n",
      "Best params appeared to be {'hidden_layer_sizes': (16, 32, 16)}\n",
      "score:     0.6977850251392852\n",
      "log loss:  0.6716363373398718\n"
     ]
    }
   ],
   "source": [
    "##########################################\n",
    "###   NN - Neural Network Classifier   ###\n",
    "##########################################\n",
    "\n",
    "# model\n",
    "params = {'hidden_layer_sizes': [(4,), (8,), (16,), (32,), (64,), (128,), (4, 8, 4,), (16, 32, 16,)]}\n",
    "mlp = MLPClassifier(verbose=False, learning_rate='adaptive', random_state=100)\n",
    "clf = GridSearchCV(mlp, params, verbose=False, n_jobs=-1, cv=5)\n",
    "clf.fit(X_train, y_train)\n",
    "\n",
    "print('Finished with grid search with best mean cross-validated score:', clf.best_score_)\n",
    "print('Best params appeared to be', clf.best_params_)\n",
    "\n",
    "pred = clf.predict_proba(X_val)\n",
    "print('score:    ', clf.score(X_val,y_val)) \n",
    "print('log loss: ', log_loss(y_val,pred))"
   ]
  },
  {
   "cell_type": "code",
   "execution_count": 17,
   "metadata": {},
   "outputs": [
    {
     "name": "stdout",
     "output_type": "stream",
     "text": [
      "------------------------   alpha: 0.2   ------------------------\n",
      "0.6994156814784618\n",
      "0.6650418687789978\n"
     ]
    }
   ],
   "source": [
    "alphas = [0.2]\n",
    "for alpha in alphas:\n",
    "    mlp = MLPClassifier(hidden_layer_sizes= (32, 64, 32,), max_iter=500, learning_rate='adaptive', learning_rate_init=0.001, alpha=alpha, random_state=100)\n",
    "    mlp.fit(X_train,y_train)\n",
    "    pred = mlp.predict_proba(X_val)\n",
    "    \n",
    "    print('------------------------   alpha: ' + str(alpha) + '   ------------------------')\n",
    "    print(mlp.score(X_val,y_val)) \n",
    "    print(log_loss(y_val,pred))"
   ]
  },
  {
   "cell_type": "code",
   "execution_count": 18,
   "metadata": {},
   "outputs": [
    {
     "name": "stdout",
     "output_type": "stream",
     "text": [
      "------------------------   alpha: 0.2   ------------------------\n",
      "0.6988721293654029\n",
      "0.6678639926256065\n"
     ]
    }
   ],
   "source": [
    "alphas = [0.2]\n",
    "for alpha in alphas:\n",
    "    mlp = MLPClassifier(hidden_layer_sizes= (64, 128, 64), max_iter=500, learning_rate='adaptive', learning_rate_init=0.001, alpha=alpha, random_state=100)\n",
    "    mlp.fit(X_train,y_train)\n",
    "    pred = mlp.predict_proba(X_val)\n",
    "    \n",
    "    print('------------------------   alpha: ' + str(alpha) + '   ------------------------')\n",
    "    print(mlp.score(X_val,y_val)) \n",
    "    print(log_loss(y_val,pred))"
   ]
  },
  {
   "cell_type": "code",
   "execution_count": 19,
   "metadata": {},
   "outputs": [
    {
     "name": "stdout",
     "output_type": "stream",
     "text": [
      "0.7048512026090501\n"
     ]
    }
   ],
   "source": [
    "print(mlp.score(X_test,y_test))"
   ]
  },
  {
   "cell_type": "markdown",
   "metadata": {},
   "source": [
    "The best performing classifier is a fully connected neural network with a 64-128-64 architecture. It reaches an accurcy of 70% on the test set."
   ]
  },
  {
   "cell_type": "code",
   "execution_count": null,
   "metadata": {},
   "outputs": [],
   "source": []
  }
 ],
 "metadata": {
  "kernelspec": {
   "display_name": "IAML",
   "language": "python",
   "name": "py3iaml"
  },
  "language_info": {
   "codemirror_mode": {
    "name": "ipython",
    "version": 3
   },
   "file_extension": ".py",
   "mimetype": "text/x-python",
   "name": "python",
   "nbconvert_exporter": "python",
   "pygments_lexer": "ipython3",
   "version": "3.7.2"
  }
 },
 "nbformat": 4,
 "nbformat_minor": 2
}
