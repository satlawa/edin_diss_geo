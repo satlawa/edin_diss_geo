{
 "cells": [
  {
   "cell_type": "code",
   "execution_count": 1,
   "metadata": {},
   "outputs": [],
   "source": [
    "# main steps for creating the dataset"
   ]
  },
  {
   "cell_type": "code",
   "execution_count": null,
   "metadata": {},
   "outputs": [],
   "source": []
  },
  {
   "cell_type": "code",
   "execution_count": 11,
   "metadata": {},
   "outputs": [],
   "source": [
    "from osgeo import gdal\n",
    "import sys\n",
    "import os\n",
    "import pandas as pd\n",
    "import numpy as np"
   ]
  },
  {
   "cell_type": "code",
   "execution_count": 2,
   "metadata": {},
   "outputs": [],
   "source": [
    "# get extend of rater file (using gdal)\n",
    "def get_extend(file_path):\n",
    "    src = gdal.Open(file_path)\n",
    "    ulx, xres, xskew, uly, yskew, yres  = src.GetGeoTransform()\n",
    "    lrx = ulx + (src.RasterXSize * xres)\n",
    "    lry = uly + (src.RasterYSize * yres)\n",
    "    return(ulx,uly,lrx,lry)"
   ]
  },
  {
   "cell_type": "code",
   "execution_count": 3,
   "metadata": {},
   "outputs": [
    {
     "name": "stdout",
     "output_type": "stream",
     "text": [
      "upper left corner:  373758.97009303217 418695.08341240825\n",
      "lower right corner:  451232.3700930322 381707.48341240827\n"
     ]
    }
   ],
   "source": [
    "# get extend of orthophoto\n",
    "ulx,uly,lrx,lry = get_extend('/media/philipp/ed7d22ba-5a3b-4d31-bf6c-6add6e106b3d/ortho/2018250_bischofshofen_lb_rgbi.img')\n",
    "\n",
    "print('upper left corner: ', ulx, uly)\n",
    "print('lower right corner: ', lrx, lry)"
   ]
  },
  {
   "cell_type": "code",
   "execution_count": 4,
   "metadata": {},
   "outputs": [],
   "source": [
    "#upper left corner:   374000 387500\n",
    "#lower right corner:  381700 381700"
   ]
  },
  {
   "cell_type": "code",
   "execution_count": null,
   "metadata": {},
   "outputs": [],
   "source": []
  },
  {
   "cell_type": "code",
   "execution_count": 5,
   "metadata": {},
   "outputs": [],
   "source": [
    "# writing shapefile \n",
    "#countries_gdf.to_file(\"countries.shp\")"
   ]
  },
  {
   "cell_type": "code",
   "execution_count": null,
   "metadata": {},
   "outputs": [],
   "source": []
  },
  {
   "cell_type": "markdown",
   "metadata": {},
   "source": [
    "## test create DTM (Digital Terain Model)"
   ]
  },
  {
   "cell_type": "code",
   "execution_count": 6,
   "metadata": {},
   "outputs": [],
   "source": [
    "from DataDTM import DataDTM"
   ]
  },
  {
   "cell_type": "code",
   "execution_count": 7,
   "metadata": {},
   "outputs": [
    {
     "name": "stdout",
     "output_type": "stream",
     "text": [
      "provided path found\n",
      "reading file 'dtm_info.csv' ...\n",
      "dtm initialised\n"
     ]
    }
   ],
   "source": [
    "path_input = '/media/philipp/5e9929a4-cb93-48b8-8648-6c83a93e83ed/gis/dtm/'\n",
    "path_output = '/media/philipp/5e9929a4-cb93-48b8-8648-6c83a93e83ed/gis/dtm_/'\n",
    "shape = [373758, 418695, 451232, 381707]\n",
    "data_dtm = DataDTM(path_input, path_output, shape)"
   ]
  },
  {
   "cell_type": "code",
   "execution_count": 8,
   "metadata": {},
   "outputs": [
    {
     "data": {
      "text/html": [
       "<div>\n",
       "<style scoped>\n",
       "    .dataframe tbody tr th:only-of-type {\n",
       "        vertical-align: middle;\n",
       "    }\n",
       "\n",
       "    .dataframe tbody tr th {\n",
       "        vertical-align: top;\n",
       "    }\n",
       "\n",
       "    .dataframe thead th {\n",
       "        text-align: right;\n",
       "    }\n",
       "</style>\n",
       "<table border=\"1\" class=\"dataframe\">\n",
       "  <thead>\n",
       "    <tr style=\"text-align: right;\">\n",
       "      <th></th>\n",
       "      <th>filename</th>\n",
       "      <th>y</th>\n",
       "      <th>x</th>\n",
       "      <th>ulx</th>\n",
       "      <th>uly</th>\n",
       "      <th>lrx</th>\n",
       "      <th>lry</th>\n",
       "    </tr>\n",
       "  </thead>\n",
       "  <tbody>\n",
       "    <tr>\n",
       "      <th>0</th>\n",
       "      <td>100-16.tif</td>\n",
       "      <td>100</td>\n",
       "      <td>16</td>\n",
       "      <td>360026.829121</td>\n",
       "      <td>315262.828057</td>\n",
       "      <td>362527.146703</td>\n",
       "      <td>315228.837334</td>\n",
       "    </tr>\n",
       "    <tr>\n",
       "      <th>1</th>\n",
       "      <td>100-17.tif</td>\n",
       "      <td>100</td>\n",
       "      <td>17</td>\n",
       "      <td>360026.829121</td>\n",
       "      <td>317762.145911</td>\n",
       "      <td>362527.146703</td>\n",
       "      <td>315262.828057</td>\n",
       "    </tr>\n",
       "    <tr>\n",
       "      <th>2</th>\n",
       "      <td>100-18.tif</td>\n",
       "      <td>100</td>\n",
       "      <td>18</td>\n",
       "      <td>360027.234669</td>\n",
       "      <td>320262.444506</td>\n",
       "      <td>362527.527239</td>\n",
       "      <td>317762.151937</td>\n",
       "    </tr>\n",
       "    <tr>\n",
       "      <th>3</th>\n",
       "      <td>100-19.tif</td>\n",
       "      <td>100</td>\n",
       "      <td>19</td>\n",
       "      <td>360027.428356</td>\n",
       "      <td>322762.733928</td>\n",
       "      <td>362526.709275</td>\n",
       "      <td>320262.453296</td>\n",
       "    </tr>\n",
       "    <tr>\n",
       "      <th>4</th>\n",
       "      <td>100-20.tif</td>\n",
       "      <td>100</td>\n",
       "      <td>20</td>\n",
       "      <td>360027.615981</td>\n",
       "      <td>325263.011413</td>\n",
       "      <td>362526.885346</td>\n",
       "      <td>322762.742338</td>\n",
       "    </tr>\n",
       "    <tr>\n",
       "      <th>...</th>\n",
       "      <td>...</td>\n",
       "      <td>...</td>\n",
       "      <td>...</td>\n",
       "      <td>...</td>\n",
       "      <td>...</td>\n",
       "      <td>...</td>\n",
       "      <td>...</td>\n",
       "    </tr>\n",
       "    <tr>\n",
       "      <th>6244</th>\n",
       "      <td>99-75.tif</td>\n",
       "      <td>99</td>\n",
       "      <td>75</td>\n",
       "      <td>357527.317067</td>\n",
       "      <td>462762.206705</td>\n",
       "      <td>360027.529346</td>\n",
       "      <td>460262.994113</td>\n",
       "    </tr>\n",
       "    <tr>\n",
       "      <th>6245</th>\n",
       "      <td>99-76.tif</td>\n",
       "      <td>99</td>\n",
       "      <td>76</td>\n",
       "      <td>357527.153018</td>\n",
       "      <td>465262.277605</td>\n",
       "      <td>360027.368623</td>\n",
       "      <td>462762.062002</td>\n",
       "    </tr>\n",
       "    <tr>\n",
       "      <th>6246</th>\n",
       "      <td>99-77.tif</td>\n",
       "      <td>99</td>\n",
       "      <td>77</td>\n",
       "      <td>357526.980899</td>\n",
       "      <td>467762.506630</td>\n",
       "      <td>360027.206428</td>\n",
       "      <td>465262.281104</td>\n",
       "    </tr>\n",
       "    <tr>\n",
       "      <th>6247</th>\n",
       "      <td>99-78.tif</td>\n",
       "      <td>99</td>\n",
       "      <td>78</td>\n",
       "      <td>357527.616560</td>\n",
       "      <td>470262.749518</td>\n",
       "      <td>360026.863399</td>\n",
       "      <td>467762.502980</td>\n",
       "    </tr>\n",
       "    <tr>\n",
       "      <th>6248</th>\n",
       "      <td>99-79.tif</td>\n",
       "      <td>99</td>\n",
       "      <td>79</td>\n",
       "      <td>357527.616560</td>\n",
       "      <td>472677.021964</td>\n",
       "      <td>360026.863399</td>\n",
       "      <td>470262.749518</td>\n",
       "    </tr>\n",
       "  </tbody>\n",
       "</table>\n",
       "<p>6249 rows × 7 columns</p>\n",
       "</div>"
      ],
      "text/plain": [
       "        filename    y   x            ulx            uly            lrx  \\\n",
       "0     100-16.tif  100  16  360026.829121  315262.828057  362527.146703   \n",
       "1     100-17.tif  100  17  360026.829121  317762.145911  362527.146703   \n",
       "2     100-18.tif  100  18  360027.234669  320262.444506  362527.527239   \n",
       "3     100-19.tif  100  19  360027.428356  322762.733928  362526.709275   \n",
       "4     100-20.tif  100  20  360027.615981  325263.011413  362526.885346   \n",
       "...          ...  ...  ..            ...            ...            ...   \n",
       "6244   99-75.tif   99  75  357527.317067  462762.206705  360027.529346   \n",
       "6245   99-76.tif   99  76  357527.153018  465262.277605  360027.368623   \n",
       "6246   99-77.tif   99  77  357526.980899  467762.506630  360027.206428   \n",
       "6247   99-78.tif   99  78  357527.616560  470262.749518  360026.863399   \n",
       "6248   99-79.tif   99  79  357527.616560  472677.021964  360026.863399   \n",
       "\n",
       "                lry  \n",
       "0     315228.837334  \n",
       "1     315262.828057  \n",
       "2     317762.151937  \n",
       "3     320262.453296  \n",
       "4     322762.742338  \n",
       "...             ...  \n",
       "6244  460262.994113  \n",
       "6245  462762.062002  \n",
       "6246  465262.281104  \n",
       "6247  467762.502980  \n",
       "6248  470262.749518  \n",
       "\n",
       "[6249 rows x 7 columns]"
      ]
     },
     "execution_count": 8,
     "metadata": {},
     "output_type": "execute_result"
    }
   ],
   "source": [
    "data_dtm.index"
   ]
  },
  {
   "cell_type": "code",
   "execution_count": 9,
   "metadata": {},
   "outputs": [
    {
     "data": {
      "text/plain": [
       "'/media/philipp/5e9929a4-cb93-48b8-8648-6c83a93e83ed/gis/dtm/'"
      ]
     },
     "execution_count": 9,
     "metadata": {},
     "output_type": "execute_result"
    }
   ],
   "source": [
    "data_dtm.input_dir"
   ]
  },
  {
   "cell_type": "code",
   "execution_count": null,
   "metadata": {},
   "outputs": [
    {
     "name": "stdout",
     "output_type": "stream",
     "text": [
      "tile column |105| finished\n",
      "tile column |106| finished\n",
      "tile column |107| finished\n",
      "tile column |108| finished\n",
      "tile column |109| finished\n",
      "tile column |110| finished\n",
      "tile column |111| finished\n",
      "tile column |112| finished\n",
      "tile column |113| finished\n",
      "tile column |114| finished\n",
      "tile column |115| finished\n",
      "tile column |116| finished\n",
      "tile column |117| finished\n",
      "tile column |118| finished\n",
      "tile column |119| finished\n",
      "tile column |120| finished\n",
      "tile column |121| finished\n",
      "tile column |122| finished\n",
      "tile column |123| finished\n",
      "tile column |124| finished\n",
      "tile column |125| finished\n",
      "tile column |126| finished\n",
      "tile column |127| finished\n",
      "tile column |128| finished\n",
      "tile column |129| finished\n",
      "tile column |130| finished\n",
      "tile column |131| finished\n",
      "tile column |132| finished\n",
      "tile column |133| finished\n",
      "tile column |134| finished\n",
      "tile column |135| finished\n",
      "tile column |136| finished\n"
     ]
    },
    {
     "name": "stderr",
     "output_type": "stream",
     "text": [
      "Process ForkPoolWorker-2:\n",
      "Process ForkPoolWorker-1:\n",
      "Process ForkPoolWorker-3:\n",
      "Traceback (most recent call last):\n",
      "Traceback (most recent call last):\n",
      "Traceback (most recent call last):\n",
      "  File \"/home/philipp/Software/miniconda3/envs/geo/lib/python3.8/multiprocessing/process.py\", line 315, in _bootstrap\n",
      "    self.run()\n",
      "  File \"/home/philipp/Software/miniconda3/envs/geo/lib/python3.8/multiprocessing/process.py\", line 315, in _bootstrap\n",
      "    self.run()\n",
      "  File \"/home/philipp/Software/miniconda3/envs/geo/lib/python3.8/multiprocessing/process.py\", line 315, in _bootstrap\n",
      "    self.run()\n",
      "  File \"/home/philipp/Software/miniconda3/envs/geo/lib/python3.8/multiprocessing/process.py\", line 108, in run\n",
      "    self._target(*self._args, **self._kwargs)\n",
      "  File \"/home/philipp/Software/miniconda3/envs/geo/lib/python3.8/multiprocessing/process.py\", line 108, in run\n",
      "    self._target(*self._args, **self._kwargs)\n",
      "  File \"/home/philipp/Software/miniconda3/envs/geo/lib/python3.8/multiprocessing/process.py\", line 108, in run\n",
      "    self._target(*self._args, **self._kwargs)\n",
      "Process ForkPoolWorker-4:\n",
      "  File \"/home/philipp/Software/miniconda3/envs/geo/lib/python3.8/multiprocessing/pool.py\", line 114, in worker\n",
      "    task = get()\n",
      "  File \"/home/philipp/Software/miniconda3/envs/geo/lib/python3.8/multiprocessing/pool.py\", line 114, in worker\n",
      "    task = get()\n",
      "  File \"/home/philipp/Software/miniconda3/envs/geo/lib/python3.8/multiprocessing/pool.py\", line 114, in worker\n",
      "    task = get()\n",
      "  File \"/home/philipp/Software/miniconda3/envs/geo/lib/python3.8/multiprocessing/queues.py\", line 356, in get\n",
      "    res = self._reader.recv_bytes()\n",
      "  File \"/home/philipp/Software/miniconda3/envs/geo/lib/python3.8/multiprocessing/queues.py\", line 355, in get\n",
      "    with self._rlock:\n",
      "  File \"/home/philipp/Software/miniconda3/envs/geo/lib/python3.8/multiprocessing/connection.py\", line 216, in recv_bytes\n",
      "    buf = self._recv_bytes(maxlength)\n",
      "  File \"/home/philipp/Software/miniconda3/envs/geo/lib/python3.8/multiprocessing/connection.py\", line 414, in _recv_bytes\n",
      "    buf = self._recv(4)\n",
      "  File \"/home/philipp/Software/miniconda3/envs/geo/lib/python3.8/multiprocessing/queues.py\", line 355, in get\n",
      "    with self._rlock:\n",
      "  File \"/home/philipp/Software/miniconda3/envs/geo/lib/python3.8/multiprocessing/connection.py\", line 379, in _recv\n",
      "    chunk = read(handle, remaining)\n",
      "  File \"/home/philipp/Software/miniconda3/envs/geo/lib/python3.8/multiprocessing/synchronize.py\", line 95, in __enter__\n",
      "    return self._semlock.__enter__()\n",
      "Traceback (most recent call last):\n",
      "KeyboardInterrupt\n",
      "  File \"/home/philipp/Software/miniconda3/envs/geo/lib/python3.8/multiprocessing/synchronize.py\", line 95, in __enter__\n",
      "    return self._semlock.__enter__()\n",
      "  File \"/home/philipp/Software/miniconda3/envs/geo/lib/python3.8/multiprocessing/process.py\", line 315, in _bootstrap\n",
      "    self.run()\n",
      "  File \"/home/philipp/Software/miniconda3/envs/geo/lib/python3.8/multiprocessing/process.py\", line 108, in run\n",
      "    self._target(*self._args, **self._kwargs)\n",
      "KeyboardInterrupt\n",
      "KeyboardInterrupt\n",
      "  File \"/home/philipp/Software/miniconda3/envs/geo/lib/python3.8/multiprocessing/pool.py\", line 114, in worker\n",
      "    task = get()\n",
      "  File \"/home/philipp/Software/miniconda3/envs/geo/lib/python3.8/multiprocessing/queues.py\", line 355, in get\n",
      "    with self._rlock:\n",
      "  File \"/home/philipp/Software/miniconda3/envs/geo/lib/python3.8/multiprocessing/synchronize.py\", line 95, in __enter__\n",
      "    return self._semlock.__enter__()\n",
      "KeyboardInterrupt\n"
     ]
    }
   ],
   "source": [
    "data_dtm.create_dtm()"
   ]
  },
  {
   "cell_type": "code",
   "execution_count": 16,
   "metadata": {},
   "outputs": [
    {
     "data": {
      "text/plain": [
       "array([105, 107, 109, 111, 113, 115, 117, 119, 121, 123, 125, 127, 129,\n",
       "       131, 133, 135])"
      ]
     },
     "execution_count": 16,
     "metadata": {},
     "output_type": "execute_result"
    }
   ],
   "source": [
    "np.arange(105,137, 2)"
   ]
  },
  {
   "cell_type": "code",
   "execution_count": null,
   "metadata": {},
   "outputs": [],
   "source": [
    "for i in range(105,137,2)\n",
    "\n",
    "##   paralell processing   ###\n",
    "# set number of processes to cpu cores (threads)\n",
    "pool = mp.Pool(processes=int(mp.cpu_count()/2))\n",
    "# merge tiles in columns - distributed over all cores\n",
    "pool.map(self.create_column, paths_paralell)"
   ]
  },
  {
   "cell_type": "code",
   "execution_count": null,
   "metadata": {},
   "outputs": [],
   "source": []
  },
  {
   "cell_type": "code",
   "execution_count": null,
   "metadata": {},
   "outputs": [],
   "source": [
    "data_dtm.mosaic(path1, path2, path_out)"
   ]
  },
  {
   "cell_type": "code",
   "execution_count": null,
   "metadata": {},
   "outputs": [],
   "source": []
  },
  {
   "cell_type": "code",
   "execution_count": null,
   "metadata": {},
   "outputs": [],
   "source": []
  },
  {
   "cell_type": "markdown",
   "metadata": {},
   "source": [
    "## test data tools"
   ]
  },
  {
   "cell_type": "code",
   "execution_count": 4,
   "metadata": {},
   "outputs": [],
   "source": [
    "# raster alignment\n",
    "# clip raster"
   ]
  },
  {
   "cell_type": "code",
   "execution_count": 6,
   "metadata": {},
   "outputs": [],
   "source": [
    "from DataTools import DataTools"
   ]
  },
  {
   "cell_type": "code",
   "execution_count": 7,
   "metadata": {},
   "outputs": [],
   "source": [
    "#raster_path = '/media/philipp/ed7d22ba-5a3b-4d31-bf6c-6add6e106b3d/oh/oh.tif'\n",
    "#raster_path = '/media/philipp/ed7d22ba-5a3b-4d31-bf6c-6add6e106b3d/test/256x256/ortho_1.tif'\n",
    "raster_path = '/media/philipp/ed7d22ba-5a3b-4d31-bf6c-6add6e106b3d/ortho/2018250_bischofshofen_lb_rgbi.img'\n",
    "shp_path = '/media/philipp/ed7d22ba-5a3b-4d31-bf6c-6add6e106b3d/test/rater_clip/test_256.shp'\n",
    "\n",
    "data_tool = DataTools()"
   ]
  },
  {
   "cell_type": "code",
   "execution_count": null,
   "metadata": {},
   "outputs": [],
   "source": []
  },
  {
   "cell_type": "code",
   "execution_count": 23,
   "metadata": {},
   "outputs": [],
   "source": [
    "# align rasters\n",
    "path_in_rast = '/media/philipp/ed7d22ba-5a3b-4d31-bf6c-6add6e106b3d/test/256x256/02_ortho_clipped.tif'\n",
    "path_in_proj = '/media/philipp/ed7d22ba-5a3b-4d31-bf6c-6add6e106b3d/test/256x256/10_oh_clipped.tif'\n",
    "path_out = '/media/philipp/ed7d22ba-5a3b-4d31-bf6c-6add6e106b3d/test/256x256/10_ortho_clipped.tif'\n",
    "data_tool.align_rasters(path_in_rast, path_in_proj, path_out)"
   ]
  },
  {
   "cell_type": "code",
   "execution_count": 10,
   "metadata": {},
   "outputs": [],
   "source": [
    "# align rasters\n",
    "path_in_rast = '/media/philipp/ed7d22ba-5a3b-4d31-bf6c-6add6e106b3d/test/256x256/10_oh_clipped.tif'\n",
    "path_in_proj = '/media/philipp/ed7d22ba-5a3b-4d31-bf6c-6add6e106b3d/test/256x256/02_ortho_clipped.tif'\n",
    "path_out = '/media/philipp/ed7d22ba-5a3b-4d31-bf6c-6add6e106b3d/test/256x256/02_oh_clipped.tif'\n",
    "data_tool.align_rasters(path_in_rast, path_in_proj, path_out)"
   ]
  },
  {
   "cell_type": "code",
   "execution_count": null,
   "metadata": {},
   "outputs": [],
   "source": []
  },
  {
   "cell_type": "code",
   "execution_count": 9,
   "metadata": {},
   "outputs": [],
   "source": [
    "# clip raster\n",
    "path_out = '/media/philipp/ed7d22ba-5a3b-4d31-bf6c-6add6e106b3d/test/256x256/02_ortho_clipped_new2.tif'\n",
    "data_tool.clip_raster(raster_path=raster_path, shp_path=shp_path, path_out=path_out)"
   ]
  },
  {
   "cell_type": "code",
   "execution_count": null,
   "metadata": {},
   "outputs": [],
   "source": []
  },
  {
   "cell_type": "code",
   "execution_count": 11,
   "metadata": {},
   "outputs": [],
   "source": [
    "# clip raster\n",
    "path_out = '/media/philipp/ed7d22ba-5a3b-4d31-bf6c-6add6e106b3d/test/256x256/oh_02_clipped.tif'\n",
    "raster_path = '/media/philipp/ed7d22ba-5a3b-4d31-bf6c-6add6e106b3d/oh/oh.tif'\n",
    "shp_path = '/media/philipp/ed7d22ba-5a3b-4d31-bf6c-6add6e106b3d/test/rater_clip/ortho_extend.shp'\n",
    "data_tool.clip_raster(raster_path=raster_path, shp_path=shp_path, path_out=path_out)"
   ]
  },
  {
   "cell_type": "code",
   "execution_count": null,
   "metadata": {},
   "outputs": [],
   "source": [
    "# align rasters\n",
    "path_in_rast = '/media/philipp/ed7d22ba-5a3b-4d31-bf6c-6add6e106b3d/test/256x256/oh_02_clipped.tif'\n",
    "path_in_proj = '/media/philipp/ed7d22ba-5a3b-4d31-bf6c-6add6e106b3d/ortho/ortho_band_1.tif'\n",
    "path_out = '/media/philipp/ed7d22ba-5a3b-4d31-bf6c-6add6e106b3d/test/256x256/oh_02_aligned.tif'\n",
    "data_tool.align_rasters(path_in_rast, path_in_proj, path_out)"
   ]
  },
  {
   "cell_type": "code",
   "execution_count": null,
   "metadata": {},
   "outputs": [],
   "source": []
  },
  {
   "cell_type": "code",
   "execution_count": 3,
   "metadata": {},
   "outputs": [
    {
     "name": "stdout",
     "output_type": "stream",
     "text": [
      "Input file size is 387367, 184938\n",
      "0...10...20...30...40...50...60...70...80...90...100 - done.\n"
     ]
    }
   ],
   "source": [
    "!gdal_translate -b 1 /media/philipp/ed7d22ba-5a3b-4d31-bf6c-6add6e106b3d/ortho/2018250_bischofshofen_lb_rgbi.img /media/philipp/ed7d22ba-5a3b-4d31-bf6c-6add6e106b3d/ortho/ortho_band_1.tif"
   ]
  },
  {
   "cell_type": "code",
   "execution_count": null,
   "metadata": {},
   "outputs": [],
   "source": []
  },
  {
   "cell_type": "code",
   "execution_count": 16,
   "metadata": {},
   "outputs": [],
   "source": [
    "## for loop in one line"
   ]
  },
  {
   "cell_type": "code",
   "execution_count": 15,
   "metadata": {},
   "outputs": [
    {
     "name": "stdout",
     "output_type": "stream",
     "text": [
      "['/home/100-16.tif', '/home/100-17.tif', '/home/100-18.tif', '/home/100-19.tif', '/home/100-20.tif', '/home/100-21.tif', '/home/100-22.tif', '/home/100-23.tif', '/home/100-24.tif', '/home/100-25.tif']\n"
     ]
    }
   ],
   "source": [
    "xs = ['100-16.tif','100-17.tif', '100-18.tif', '100-19.tif', '100-20.tif', '100-21.tif', '100-22.tif', \\\n",
    "      '100-23.tif', '100-24.tif', '100-25.tif']\n",
    "paths = '/home/'\n",
    "\n",
    "# for loop in one line\n",
    "print([paths + x for x in xs])"
   ]
  },
  {
   "cell_type": "code",
   "execution_count": null,
   "metadata": {},
   "outputs": [],
   "source": [
    "## Multiprocessing"
   ]
  },
  {
   "cell_type": "code",
   "execution_count": 5,
   "metadata": {},
   "outputs": [
    {
     "name": "stdout",
     "output_type": "stream",
     "text": [
      "Number of processors:  8\n"
     ]
    }
   ],
   "source": [
    "import multiprocessing as mp\n",
    "print(\"Number of processors: \", mp.cpu_count())"
   ]
  },
  {
   "cell_type": "code",
   "execution_count": 7,
   "metadata": {},
   "outputs": [],
   "source": [
    "def ml_svc(x):\n",
    "    svc = x**3 + 2*x**2\n",
    "    return(svc)\n",
    "\n",
    "pool = mp.Pool(processes=mp.cpu_count())\n",
    "\n",
    "# trying SVC with kernel: 'poly', 'rbf', 'sigmoid', 'linear'\n",
    "x = [1,2,3,4,5,6,7,8]\n",
    "results = []\n",
    "results.append(pool.map(ml_svc, x))"
   ]
  },
  {
   "cell_type": "code",
   "execution_count": 8,
   "metadata": {},
   "outputs": [
    {
     "data": {
      "text/plain": [
       "[[3, 16, 45, 96, 175, 288, 441, 640]]"
      ]
     },
     "execution_count": 8,
     "metadata": {},
     "output_type": "execute_result"
    }
   ],
   "source": [
    "results"
   ]
  },
  {
   "cell_type": "code",
   "execution_count": null,
   "metadata": {},
   "outputs": [],
   "source": []
  }
 ],
 "metadata": {
  "kernelspec": {
   "display_name": "geo",
   "language": "python",
   "name": "geo"
  },
  "language_info": {
   "codemirror_mode": {
    "name": "ipython",
    "version": 3
   },
   "file_extension": ".py",
   "mimetype": "text/x-python",
   "name": "python",
   "nbconvert_exporter": "python",
   "pygments_lexer": "ipython3",
   "version": "3.8.4"
  }
 },
 "nbformat": 4,
 "nbformat_minor": 4
}
