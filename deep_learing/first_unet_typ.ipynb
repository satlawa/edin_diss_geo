{
 "cells": [
  {
   "cell_type": "code",
   "execution_count": 1,
   "metadata": {},
   "outputs": [],
   "source": [
    "# implementation of unet"
   ]
  },
  {
   "cell_type": "code",
   "execution_count": 1,
   "metadata": {},
   "outputs": [
    {
     "name": "stdout",
     "output_type": "stream",
     "text": [
      "cuda\n"
     ]
    }
   ],
   "source": [
    "import os\n",
    "import time\n",
    "import math\n",
    "import glob\n",
    "import numpy as np \n",
    "#import pandas as pd\n",
    "import matplotlib.pyplot as plt\n",
    "import h5py\n",
    "#from PIL import Image\n",
    "\n",
    "import torch\n",
    "import torch.nn as nn\n",
    "import torch.nn.functional as F\n",
    "from torch.utils.data import Dataset, DataLoader\n",
    "from torch.utils.data.sampler import SubsetRandomSampler\n",
    "import torchvision\n",
    "import torchvision.transforms as T\n",
    "\n",
    "def timeSince(since):\n",
    "    now = time.time()\n",
    "    s = now - since\n",
    "    m = math.floor(s / 60)\n",
    "    s -= m * 60\n",
    "    return '%dm %ds' % (m, s)\n",
    "\n",
    "\n",
    "#for dirname, _, filenames in os.walk('/kaggle/input'):\n",
    "#    for filename in filenames:\n",
    "#        print(os.path.join(dirname, filename))\n",
    "\n",
    "device = torch.device(\"cuda\" if torch.cuda.is_available() else \"cpu\")\n",
    "print(device)\n",
    "\n",
    "model_path = 'unet_model.pth'"
   ]
  },
  {
   "cell_type": "code",
   "execution_count": 2,
   "metadata": {},
   "outputs": [],
   "source": [
    "path_dataset = \"/mnt/sda1/dataset_256_typ.h5\""
   ]
  },
  {
   "cell_type": "code",
   "execution_count": 3,
   "metadata": {},
   "outputs": [],
   "source": [
    "class forestDataset(torch.utils.data.Dataset):\n",
    "    \n",
    "    '''Characterizes a dataset for PyTorch'''\n",
    "    \n",
    "    def __init__(self, path):\n",
    "        '''Initialization'''\n",
    "        # open dataset\n",
    "        self.dset = h5py.File(path, 'r')\n",
    "        self.ortho = self.dset['x_ortho']\n",
    "        #self.dsm = self.dset['x_dsm']\n",
    "        #self.dtm = self.dset['x_dtm']\n",
    "        #self.slope = self.dset['x_slope']\n",
    "        self.ground_truth = self.dset['x_ground_truth']\n",
    "        \n",
    "        # set number of samples\n",
    "        self.length = self.ground_truth.shape[0]\n",
    "        #self.labels = labels\n",
    "        #self.list_IDs = list_IDs\n",
    "        \n",
    "        ## TODO:\n",
    "        # make means and stds load from hdf5\n",
    "        self.means = np.array([106.623276, 14.312894, 1325.6674, 29.272326])\n",
    "        self.stds = np.array([54.006954, 12.487458, 16.26564, 7.691262])\n",
    "        \n",
    "        self.transforms = T.Compose([T.ToTensor()])\n",
    "\n",
    "    def __len__(self):\n",
    "        '''Denotes the total number of samples'''\n",
    "        return self.length\n",
    "\n",
    "    def __getitem__(self, index):\n",
    "        '''Generates one sample of data'''\n",
    "        \n",
    "        # Load data and get label\n",
    "        \n",
    "        X = np.array(self.ortho[index])     \n",
    "        y = np.array(self.ground_truth[index])\n",
    "\n",
    "        return self.transforms(X), self.transforms(y) #torch.from_numpy(y).permute(2, 0, 1)\n",
    "        \n",
    "        \n",
    "    def show_item(self, index):\n",
    "        '''shows the data'''\n",
    "        #plt.imshow(np.array(self.ground_truth[index]))\n",
    "        \n",
    "        fig = plt.figure(figsize=(20,20))\n",
    "        \n",
    "        a = fig.add_subplot(1, 3, 1)\n",
    "        imgplot = plt.imshow(np.array(self.ortho[index][:,:,:3]))\n",
    "        a.set_title('RGB')\n",
    "        plt.colorbar(ticks=[0.1, 0.3, 0.5, 0.7], orientation='horizontal')\n",
    "        plt.axis('off')\n",
    "        \n",
    "        a = fig.add_subplot(1, 3, 2)\n",
    "        imgplot = plt.imshow(np.array(np.roll(self.ortho[index], 1, axis=2)[:,:,:3]))\n",
    "        a.set_title('CIR')\n",
    "        plt.colorbar(ticks=[0.1, 0.3, 0.5, 0.7], orientation='horizontal')\n",
    "        plt.axis('off')\n",
    "        \n",
    "        a = fig.add_subplot(1, 3, 3)\n",
    "        imgplot = plt.imshow(np.array(self.ground_truth[index]), cmap=\"hot\")\n",
    "        imgplot.set_clim(0, 7)\n",
    "        a.set_title('Ground Truth')\n",
    "        plt.colorbar(ticks=[1, 2, 3, 4, 5, 6], orientation='horizontal')\n",
    "        plt.axis('off')\n",
    "        \n",
    "        \n",
    "    def close(self):\n",
    "        ''' closes the hdf5 file'''\n",
    "        self.dset.close()"
   ]
  },
  {
   "cell_type": "code",
   "execution_count": 4,
   "metadata": {},
   "outputs": [],
   "source": [
    "dataset = forestDataset(path_dataset)"
   ]
  },
  {
   "cell_type": "code",
   "execution_count": 8,
   "metadata": {},
   "outputs": [],
   "source": [
    "batch_size = 6\n",
    "validation_split = .2\n",
    "shuffle_dataset = True\n",
    "random_seed= 42\n",
    "\n",
    "# Creating data indices for training and validation splits:\n",
    "dataset_size = 144608\n",
    "#dataset_size = len(dataset)\n",
    "indices = list(range(dataset_size))\n",
    "split = int(np.floor(validation_split * dataset_size))\n",
    "if shuffle_dataset :\n",
    "    np.random.seed(random_seed)\n",
    "    np.random.shuffle(indices)\n",
    "train_indices, val_indices = indices[split:], indices[:split]"
   ]
  },
  {
   "cell_type": "code",
   "execution_count": 9,
   "metadata": {},
   "outputs": [
    {
     "name": "stdout",
     "output_type": "stream",
     "text": [
      "115687\n",
      "28921\n"
     ]
    }
   ],
   "source": [
    "print(len(train_indices))\n",
    "print(len(val_indices))"
   ]
  },
  {
   "cell_type": "code",
   "execution_count": 10,
   "metadata": {},
   "outputs": [],
   "source": [
    "# Creating PT data samplers and loaders:\n",
    "train_sampler = SubsetRandomSampler(train_indices)\n",
    "valid_sampler = SubsetRandomSampler(val_indices)\n",
    "\n",
    "train_dataloader = torch.utils.data.DataLoader(dataset, batch_size=batch_size, \n",
    "                                           sampler=train_sampler)\n",
    "validation_loader = torch.utils.data.DataLoader(dataset, batch_size=batch_size,\n",
    "                                                sampler=valid_sampler)"
   ]
  },
  {
   "cell_type": "markdown",
   "metadata": {},
   "source": [
    "## test data loader"
   ]
  },
  {
   "cell_type": "code",
   "execution_count": 11,
   "metadata": {},
   "outputs": [],
   "source": [
    "# Run this to test your data loader\n",
    "images, labels = next(iter(train_dataloader))"
   ]
  },
  {
   "cell_type": "code",
   "execution_count": 12,
   "metadata": {},
   "outputs": [
    {
     "data": {
      "text/plain": [
       "torch.Size([6, 4, 256, 256])"
      ]
     },
     "execution_count": 12,
     "metadata": {},
     "output_type": "execute_result"
    }
   ],
   "source": [
    "images.shape"
   ]
  },
  {
   "cell_type": "code",
   "execution_count": 13,
   "metadata": {},
   "outputs": [
    {
     "data": {
      "text/plain": [
       "torch.Size([6, 256, 256, 4])"
      ]
     },
     "execution_count": 13,
     "metadata": {},
     "output_type": "execute_result"
    }
   ],
   "source": [
    "images.permute(0, 2, 3, 1).shape"
   ]
  },
  {
   "cell_type": "code",
   "execution_count": 14,
   "metadata": {},
   "outputs": [
    {
     "data": {
      "text/plain": [
       "(256, 256, 3)"
      ]
     },
     "execution_count": 14,
     "metadata": {},
     "output_type": "execute_result"
    }
   ],
   "source": [
    "images.permute(0, 2, 3, 1).numpy()[0,:,:,:3].shape"
   ]
  },
  {
   "cell_type": "code",
   "execution_count": 15,
   "metadata": {},
   "outputs": [
    {
     "data": {
      "text/plain": [
       "<matplotlib.image.AxesImage at 0x7f93c5a24940>"
      ]
     },
     "execution_count": 15,
     "metadata": {},
     "output_type": "execute_result"
    },
    {
     "data": {
      "image/png": "[encoded data removed]",
      "text/plain": [
       "<Figure size 432x288 with 1 Axes>"
      ]
     },
     "metadata": {
      "needs_background": "light"
     },
     "output_type": "display_data"
    }
   ],
   "source": [
    "plt.imshow(images.permute(0, 2, 3, 1).numpy()[3,:,:,:3])"
   ]
  },
  {
   "cell_type": "code",
   "execution_count": 16,
   "metadata": {},
   "outputs": [
    {
     "data": {
      "text/plain": [
       "<matplotlib.image.AxesImage at 0x7f93c5e6feb0>"
      ]
     },
     "execution_count": 16,
     "metadata": {},
     "output_type": "execute_result"
    },
    {
     "data": {
      "image/png": "[encoded data removed]",
      "text/plain": [
       "<Figure size 432x288 with 1 Axes>"
      ]
     },
     "metadata": {
      "needs_background": "light"
     },
     "output_type": "display_data"
    }
   ],
   "source": [
    "plt.imshow(labels.permute(0, 2, 3, 1).numpy()[3,:,:,:])"
   ]
  },
  {
   "cell_type": "markdown",
   "metadata": {},
   "source": [
    "## Model Architecture"
   ]
  },
  {
   "cell_type": "code",
   "execution_count": 17,
   "metadata": {},
   "outputs": [],
   "source": [
    "class convBlock(nn.Module):\n",
    "    def __init__(self, in_channels, filters, size, stride = 1, activation = True):\n",
    "        super(convBlock, self).__init__()\n",
    "        self.activation = activation\n",
    "        self.conv = nn.Conv2d(in_channels, filters, size, stride = stride, padding = size//2)\n",
    "        self.norm = nn.BatchNorm2d(filters)\n",
    "\n",
    "    def forward(self, x):\n",
    "        x = self.conv(x)\n",
    "        x = self.norm(x)\n",
    "        if self.activation:\n",
    "            return F.relu(x)\n",
    "        else:\n",
    "            return x\n",
    "    \n",
    "class residualBlock(nn.Module):\n",
    "    def __init__(self, in_channels, filters, size = 3):\n",
    "        super(residualBlock, self).__init__()\n",
    "\n",
    "        self.norm = nn.BatchNorm2d(in_channels)\n",
    "        self.conv1 = convBlock(in_channels, filters, size)\n",
    "        self.conv2 = convBlock(filters, filters, size, activation=False)\n",
    "\n",
    "    def forward(self, x):\n",
    "        residual = x  \n",
    "        x = F.relu(x)\n",
    "        x = self.norm(x)\n",
    "        x = self.conv1(x)\n",
    "        x = self.conv2(x)\n",
    "        #x += residual\n",
    "        return x \n",
    "    \n",
    "class deconvBlock(nn.Module):\n",
    "    def __init__(self, in_channels, out_channels, kernel_size = 2, stride = 2):\n",
    "        super(deconvBlock, self).__init__()\n",
    "        \n",
    "        self.deconv = nn.ConvTranspose2d(in_channels, out_channels, kernel_size = kernel_size, stride = stride)\n",
    "\n",
    "    def forward(self, x1, x2):\n",
    "        xd = self.deconv(x1)\n",
    "        x = torch.cat([xd, x2], dim = 1)\n",
    "        return x"
   ]
  },
  {
   "cell_type": "code",
   "execution_count": 18,
   "metadata": {},
   "outputs": [],
   "source": [
    "class UnetModel(nn.Module):\n",
    "\n",
    "    def __init__(self, filters = 16, dropout = 0.5):\n",
    "        super(UnetModel, self).__init__()\n",
    "        \n",
    "        self.conv1 = nn.Sequential(\n",
    "            nn.Conv2d(1, filters, 3, padding = 1),\n",
    "            residualBlock(filters, filters),\n",
    "            residualBlock(filters, filters),\n",
    "            nn.ReLU()\n",
    "        )\n",
    "        \n",
    "        self.conv2 = nn.Sequential(\n",
    "            nn.MaxPool2d(2, 2),\n",
    "            nn.Dropout(dropout/2),\n",
    "            nn.Conv2d(filters, filters * 2, 3, padding = 1),\n",
    "            residualBlock(filters * 2, filters * 2),\n",
    "            residualBlock(filters * 2, filters * 2),\n",
    "            nn.ReLU()\n",
    "        )\n",
    "        \n",
    "        self.conv3 = nn.Sequential(\n",
    "            nn.MaxPool2d(2, 2),\n",
    "            nn.Dropout(dropout),\n",
    "            nn.Conv2d(filters * 2, filters * 4, 3, padding = 1),\n",
    "            residualBlock(filters * 4, filters * 4),\n",
    "            residualBlock(filters * 4, filters * 4),\n",
    "            nn.ReLU()\n",
    "        )\n",
    "        \n",
    "        self.conv4 = nn.Sequential(\n",
    "            nn.MaxPool2d(2, 2),\n",
    "            nn.Dropout(dropout),\n",
    "            nn.Conv2d(filters * 4, filters * 8, 3, padding = 1),\n",
    "            residualBlock(filters * 8, filters * 8),\n",
    "            residualBlock(filters * 8, filters * 8),\n",
    "            nn.ReLU()\n",
    "        )\n",
    "            \n",
    "\n",
    "        self.middle = nn.Sequential(\n",
    "            nn.MaxPool2d(2, 2),\n",
    "            nn.Dropout(dropout),\n",
    "            nn.Conv2d(filters * 8, filters * 16, 3, padding = 3//2),\n",
    "            residualBlock(filters * 16, filters * 16),\n",
    "            residualBlock(filters * 16, filters * 16),\n",
    "            nn.ReLU()\n",
    "        )\n",
    "        \n",
    "        self.deconv4 = deconvBlock(filters * 16, filters * 8, 2)\n",
    "        self.upconv4 = nn.Sequential(\n",
    "            nn.Dropout(dropout),\n",
    "            nn.Conv2d(filters * 16, filters * 8, 3, padding = 1),\n",
    "            residualBlock(filters * 8, filters * 8),\n",
    "            residualBlock(filters * 8, filters * 8),\n",
    "            nn.ReLU()\n",
    "        )\n",
    "  \n",
    "\n",
    "        self.deconv3 = deconvBlock(filters * 8, filters * 4, 3)\n",
    "        self.upconv3 = nn.Sequential(\n",
    "            nn.Dropout(dropout),\n",
    "            nn.Conv2d(filters * 8, filters * 4, 3, padding = 1),\n",
    "            residualBlock(filters * 4, filters * 4),\n",
    "            residualBlock(filters * 4, filters * 4),\n",
    "            nn.ReLU()\n",
    "        )\n",
    "        \n",
    "        self.deconv2 = deconvBlock(filters * 4, filters * 2, 2)\n",
    "        self.upconv2 = nn.Sequential(\n",
    "            nn.Dropout(dropout),\n",
    "            nn.Conv2d(filters * 4, filters * 2, 3, padding = 1),\n",
    "            residualBlock(filters * 2, filters * 2),\n",
    "            residualBlock(filters * 2, filters * 2),\n",
    "            nn.ReLU()\n",
    "        )\n",
    "\n",
    "        self.deconv1 = deconvBlock(filters * 2, filters, 3)\n",
    "        self.upconv1 = nn.Sequential(\n",
    "            nn.Dropout(dropout),\n",
    "            nn.Conv2d(filters * 2, filters, 3, padding = 1),\n",
    "            residualBlock(filters, filters),\n",
    "            residualBlock(filters, filters),\n",
    "            nn.ReLU(),\n",
    "            nn.Dropout(dropout/2),\n",
    "            nn.Conv2d(filters, 1, 3, padding = 1)\n",
    "        )\n",
    "\n",
    "    def forward(self, x):\n",
    "        conv1 = self.conv1(x) \n",
    "        # 101 -> 50\n",
    "        conv2 = self.conv2(conv1) \n",
    "        # 50 -> 25\n",
    "        conv3 = self.conv3(conv2) \n",
    "        # 25 -> 12\n",
    "        conv4 = self.conv4(conv3) \n",
    "        # 12 - 6\n",
    "        x = self.middle(conv4) \n",
    "        \n",
    "        # 6 -> 12\n",
    "        x = self.deconv4(x, conv4)\n",
    "        x = self.upconv4(x)\n",
    "        # 12 -> 25\n",
    "        x = self.deconv3(x, conv3)\n",
    "        x = self.upconv3(x)\n",
    "        # 25 -> 50\n",
    "        x = self.deconv2(x, conv2)\n",
    "        x = self.upconv2(x)\n",
    "        # 50 -> 101\n",
    "        x = self.deconv1(x, conv1)\n",
    "        x = self.upconv1(x)\n",
    "\n",
    "        return x"
   ]
  },
  {
   "cell_type": "code",
   "execution_count": 19,
   "metadata": {},
   "outputs": [],
   "source": [
    "class DoubleConv(nn.Module):\n",
    "    \"\"\"(convolution => [BN] => ReLU) * 2\"\"\"\n",
    "\n",
    "    def __init__(self, in_channels, out_channels, mid_channels=None):\n",
    "        super().__init__()\n",
    "        if not mid_channels:\n",
    "            mid_channels = out_channels\n",
    "        self.double_conv = nn.Sequential(\n",
    "            nn.Conv2d(in_channels, mid_channels, kernel_size=3, padding=1),\n",
    "            nn.BatchNorm2d(mid_channels),\n",
    "            nn.ReLU(inplace=True),\n",
    "            nn.Conv2d(mid_channels, out_channels, kernel_size=3, padding=1),\n",
    "            nn.BatchNorm2d(out_channels),\n",
    "            nn.ReLU(inplace=True)\n",
    "        )\n",
    "\n",
    "    def forward(self, x):\n",
    "        return self.double_conv(x)\n",
    "\n",
    "\n",
    "class Down(nn.Module):\n",
    "    \"\"\"Downscaling with maxpool then double conv\"\"\"\n",
    "\n",
    "    def __init__(self, in_channels, out_channels):\n",
    "        super().__init__()\n",
    "        self.maxpool_conv = nn.Sequential(\n",
    "            nn.MaxPool2d(2),\n",
    "            DoubleConv(in_channels, out_channels)\n",
    "        )\n",
    "\n",
    "    def forward(self, x):\n",
    "        return self.maxpool_conv(x)\n",
    "\n",
    "\n",
    "class Up(nn.Module):\n",
    "    \"\"\"Upscaling then double conv\"\"\"\n",
    "\n",
    "    def __init__(self, in_channels, out_channels, bilinear=True):\n",
    "        super().__init__()\n",
    "\n",
    "        # if bilinear, use the normal convolutions to reduce the number of channels\n",
    "        if bilinear:\n",
    "            self.up = nn.Upsample(scale_factor=2, mode='bilinear', align_corners=True)\n",
    "            self.conv = DoubleConv(in_channels, out_channels, in_channels // 2)\n",
    "        else:\n",
    "            self.up = nn.ConvTranspose2d(in_channels , in_channels // 2, kernel_size=2, stride=2)\n",
    "            self.conv = DoubleConv(in_channels, out_channels)\n",
    "\n",
    "\n",
    "    def forward(self, x1, x2):\n",
    "        x1 = self.up(x1)\n",
    "        # input is CHW\n",
    "        diffY = x2.size()[2] - x1.size()[2]\n",
    "        diffX = x2.size()[3] - x1.size()[3]\n",
    "\n",
    "        x1 = F.pad(x1, [diffX // 2, diffX - diffX // 2,\n",
    "                        diffY // 2, diffY - diffY // 2])\n",
    "        # if you have padding issues, see\n",
    "        # https://github.com/HaiyongJiang/U-Net-Pytorch-Unstructured-Buggy/commit/0e854509c2cea854e247a9c615f175f76fbb2e3a\n",
    "        # https://github.com/xiaopeng-liao/Pytorch-UNet/commit/8ebac70e633bac59fc22bb5195e513d5832fb3bd\n",
    "        x = torch.cat([x2, x1], dim=1)\n",
    "        return self.conv(x)\n",
    "\n",
    "\n",
    "class OutConv(nn.Module):\n",
    "    def __init__(self, in_channels, out_channels):\n",
    "        super(OutConv, self).__init__()\n",
    "        self.conv = nn.Conv2d(in_channels, out_channels, kernel_size=1)\n",
    "\n",
    "    def forward(self, x):\n",
    "        return self.conv(x)\n"
   ]
  },
  {
   "cell_type": "code",
   "execution_count": 20,
   "metadata": {},
   "outputs": [],
   "source": [
    "class UNet(nn.Module):\n",
    "    def __init__(self, n_channels, n_classes, bilinear=True):\n",
    "        super(UNet, self).__init__()\n",
    "        self.n_channels = n_channels\n",
    "        self.n_classes = n_classes\n",
    "        self.bilinear = bilinear\n",
    "\n",
    "        self.inc = DoubleConv(n_channels, 64)\n",
    "        self.down1 = Down(64, 128)\n",
    "        self.down2 = Down(128, 256)\n",
    "        self.down3 = Down(256, 512)\n",
    "        factor = 2 if bilinear else 1\n",
    "        self.down4 = Down(512, 1024 // factor)\n",
    "        self.up1 = Up(1024, 512 // factor, bilinear)\n",
    "        self.up2 = Up(512, 256 // factor, bilinear)\n",
    "        self.up3 = Up(256, 128 // factor, bilinear)\n",
    "        self.up4 = Up(128, 64, bilinear)\n",
    "        self.outc = OutConv(64, n_classes)\n",
    "\n",
    "    def forward(self, x):\n",
    "        x1 = self.inc(x)\n",
    "        x2 = self.down1(x1)\n",
    "        x3 = self.down2(x2)\n",
    "        x4 = self.down3(x3)\n",
    "        x5 = self.down4(x4)\n",
    "        x = self.up1(x5, x4)\n",
    "        x = self.up2(x, x3)\n",
    "        x = self.up3(x, x2)\n",
    "        x = self.up4(x, x1)\n",
    "        logits = self.outc(x)\n",
    "        return logits\n"
   ]
  },
  {
   "cell_type": "markdown",
   "metadata": {},
   "source": [
    "## Model training"
   ]
  },
  {
   "cell_type": "code",
   "execution_count": 31,
   "metadata": {},
   "outputs": [],
   "source": [
    "def get_iou_score(outputs, labels):\n",
    "    A = labels.squeeze().bool()\n",
    "    pred = torch.where(outputs<0., torch.zeros_like(outputs), torch.ones_like(outputs))\n",
    "    B = pred.squeeze().bool()\n",
    "    intersection = (A & B).float().sum((1,2))\n",
    "    union = (A | B).float().sum((1,2)) \n",
    "    iou = (intersection + 1e-6) / (union + 1e-6)  \n",
    "    return iou"
   ]
  },
  {
   "cell_type": "code",
   "execution_count": 21,
   "metadata": {},
   "outputs": [],
   "source": [
    "def get_iou_score(outputs, labels, num_classes=4):\n",
    "    iou_list = []\n",
    "    for c in range(num_classes):\n",
    "        A = labels.squeeze()==c/255\n",
    "        #pred = torch.where(outputs<0., torch.zeros_like(outputs), torch.ones_like(outputs))\n",
    "        pred = outputs\n",
    "        B = pred.squeeze()==c/255\n",
    "        intersection = (A & B).float().sum((1,2))\n",
    "        union = (A | B).float().sum((1,2)) \n",
    "        iou = (intersection + 1e-6) / (union + 1e-6)\n",
    "        iou_list.append(iou)\n",
    "    return sum(iou_list)/num_classes"
   ]
  },
  {
   "cell_type": "code",
   "execution_count": 22,
   "metadata": {},
   "outputs": [
    {
     "data": {
      "text/plain": [
       "tensor([1., 1., 1., 1., 1., 1.])"
      ]
     },
     "execution_count": 22,
     "metadata": {},
     "output_type": "execute_result"
    }
   ],
   "source": [
    "get_iou_score(labels, labels)"
   ]
  },
  {
   "cell_type": "code",
   "execution_count": null,
   "metadata": {},
   "outputs": [],
   "source": []
  },
  {
   "cell_type": "code",
   "execution_count": null,
   "metadata": {},
   "outputs": [],
   "source": [
    "\n",
    "# Usage Example:\n",
    "num_epochs = 10\n",
    "for epoch in range(num_epochs):\n",
    "    # Train:   \n",
    "    for batch_index, (faces, labels) in enumerate(train_loader):\n",
    "        # ..."
   ]
  },
  {
   "cell_type": "code",
   "execution_count": null,
   "metadata": {},
   "outputs": [],
   "source": [
    "####"
   ]
  },
  {
   "cell_type": "code",
   "execution_count": 23,
   "metadata": {},
   "outputs": [],
   "source": [
    "def get_iou_score(outputs, labels, num_classes=4):\n",
    "    iou_list = []\n",
    "    for c in range(num_classes):\n",
    "        A = labels.squeeze()==c\n",
    "        #pred = torch.where(outputs<0., torch.zeros_like(outputs), torch.ones_like(outputs))\n",
    "        pred = outputs\n",
    "        B = pred.squeeze()==c\n",
    "        intersection = (A & B).float().sum((1,2))\n",
    "        union = (A | B).float().sum((1,2)) \n",
    "        iou = (intersection + 1e-6) / (union + 1e-6)\n",
    "        iou_list.append(iou)\n",
    "    return iou_list\n",
    "  \n",
    "def train_one_batch(model, x, y):\n",
    "    x, y = x.to(device), y.to(device)\n",
    "\n",
    "    outputs = model(x)\n",
    "    loss = loss_fn(outputs, y)\n",
    "    iou = get_iou_score(outputs, y).mean()\n",
    "    \n",
    "    optimizer.zero_grad()\n",
    "    loss.backward()\n",
    "    optimizer.step()\n",
    "    return loss.item(), iou.item()"
   ]
  },
  {
   "cell_type": "code",
   "execution_count": 24,
   "metadata": {},
   "outputs": [
    {
     "name": "stdout",
     "output_type": "stream",
     "text": [
      "19281 steps per epoch\n",
      "----------\n",
      "Epoch 1/2\n",
      "   0.8 %\tloss   0.0633\tIoU   0.9583"
     ]
    },
    {
     "ename": "KeyboardInterrupt",
     "evalue": "",
     "output_type": "error",
     "traceback": [
      "\u001b[0;31m---------------------------------------------------------------------------\u001b[0m",
      "\u001b[0;31mKeyboardInterrupt\u001b[0m                         Traceback (most recent call last)",
      "\u001b[0;32m<ipython-input-24-ae0f9dceeb54>\u001b[0m in \u001b[0;36m<module>\u001b[0;34m\u001b[0m\n\u001b[1;32m     23\u001b[0m     \u001b[0mrunning_loss\u001b[0m \u001b[0;34m=\u001b[0m \u001b[0;34m[\u001b[0m\u001b[0;34m]\u001b[0m\u001b[0;34m\u001b[0m\u001b[0;34m\u001b[0m\u001b[0m\n\u001b[1;32m     24\u001b[0m     \u001b[0;32mfor\u001b[0m \u001b[0mstep\u001b[0m\u001b[0;34m,\u001b[0m \u001b[0;34m(\u001b[0m\u001b[0mx\u001b[0m\u001b[0;34m,\u001b[0m \u001b[0my\u001b[0m\u001b[0;34m)\u001b[0m \u001b[0;32min\u001b[0m \u001b[0menumerate\u001b[0m\u001b[0;34m(\u001b[0m\u001b[0mtrain_dataloader\u001b[0m\u001b[0;34m)\u001b[0m\u001b[0;34m:\u001b[0m\u001b[0;34m\u001b[0m\u001b[0;34m\u001b[0m\u001b[0m\n\u001b[0;32m---> 25\u001b[0;31m         \u001b[0mloss\u001b[0m\u001b[0;34m,\u001b[0m \u001b[0miou\u001b[0m \u001b[0;34m=\u001b[0m \u001b[0mtrain_one_batch\u001b[0m\u001b[0;34m(\u001b[0m\u001b[0mmodel\u001b[0m\u001b[0;34m,\u001b[0m \u001b[0mx\u001b[0m\u001b[0;34m,\u001b[0m \u001b[0my\u001b[0m\u001b[0;34m)\u001b[0m\u001b[0;34m\u001b[0m\u001b[0;34m\u001b[0m\u001b[0m\n\u001b[0m\u001b[1;32m     26\u001b[0m         \u001b[0mrunning_iou\u001b[0m\u001b[0;34m.\u001b[0m\u001b[0mappend\u001b[0m\u001b[0;34m(\u001b[0m\u001b[0miou\u001b[0m\u001b[0;34m)\u001b[0m\u001b[0;34m\u001b[0m\u001b[0;34m\u001b[0m\u001b[0m\n\u001b[1;32m     27\u001b[0m         \u001b[0mrunning_loss\u001b[0m\u001b[0;34m.\u001b[0m\u001b[0mappend\u001b[0m\u001b[0;34m(\u001b[0m\u001b[0mloss\u001b[0m\u001b[0;34m)\u001b[0m\u001b[0;34m\u001b[0m\u001b[0;34m\u001b[0m\u001b[0m\n",
      "\u001b[0;32m<ipython-input-23-302fd1b4ecfe>\u001b[0m in \u001b[0;36mtrain_one_batch\u001b[0;34m(model, x, y)\u001b[0m\n\u001b[1;32m     21\u001b[0m     \u001b[0moptimizer\u001b[0m\u001b[0;34m.\u001b[0m\u001b[0mzero_grad\u001b[0m\u001b[0;34m(\u001b[0m\u001b[0;34m)\u001b[0m\u001b[0;34m\u001b[0m\u001b[0;34m\u001b[0m\u001b[0m\n\u001b[1;32m     22\u001b[0m     \u001b[0mloss\u001b[0m\u001b[0;34m.\u001b[0m\u001b[0mbackward\u001b[0m\u001b[0;34m(\u001b[0m\u001b[0;34m)\u001b[0m\u001b[0;34m\u001b[0m\u001b[0;34m\u001b[0m\u001b[0m\n\u001b[0;32m---> 23\u001b[0;31m     \u001b[0moptimizer\u001b[0m\u001b[0;34m.\u001b[0m\u001b[0mstep\u001b[0m\u001b[0;34m(\u001b[0m\u001b[0;34m)\u001b[0m\u001b[0;34m\u001b[0m\u001b[0;34m\u001b[0m\u001b[0m\n\u001b[0m\u001b[1;32m     24\u001b[0m     \u001b[0;32mreturn\u001b[0m \u001b[0mloss\u001b[0m\u001b[0;34m.\u001b[0m\u001b[0mitem\u001b[0m\u001b[0;34m(\u001b[0m\u001b[0;34m)\u001b[0m\u001b[0;34m,\u001b[0m \u001b[0miou\u001b[0m\u001b[0;34m.\u001b[0m\u001b[0mitem\u001b[0m\u001b[0;34m(\u001b[0m\u001b[0;34m)\u001b[0m\u001b[0;34m\u001b[0m\u001b[0;34m\u001b[0m\u001b[0m\n",
      "\u001b[0;32m~/miniconda3/envs/pytorch/lib/python3.8/site-packages/torch/autograd/grad_mode.py\u001b[0m in \u001b[0;36mdecorate_context\u001b[0;34m(*args, **kwargs)\u001b[0m\n\u001b[1;32m     24\u001b[0m         \u001b[0;32mdef\u001b[0m \u001b[0mdecorate_context\u001b[0m\u001b[0;34m(\u001b[0m\u001b[0;34m*\u001b[0m\u001b[0margs\u001b[0m\u001b[0;34m,\u001b[0m \u001b[0;34m**\u001b[0m\u001b[0mkwargs\u001b[0m\u001b[0;34m)\u001b[0m\u001b[0;34m:\u001b[0m\u001b[0;34m\u001b[0m\u001b[0;34m\u001b[0m\u001b[0m\n\u001b[1;32m     25\u001b[0m             \u001b[0;32mwith\u001b[0m \u001b[0mself\u001b[0m\u001b[0;34m.\u001b[0m\u001b[0m__class__\u001b[0m\u001b[0;34m(\u001b[0m\u001b[0;34m)\u001b[0m\u001b[0;34m:\u001b[0m\u001b[0;34m\u001b[0m\u001b[0;34m\u001b[0m\u001b[0m\n\u001b[0;32m---> 26\u001b[0;31m                 \u001b[0;32mreturn\u001b[0m \u001b[0mfunc\u001b[0m\u001b[0;34m(\u001b[0m\u001b[0;34m*\u001b[0m\u001b[0margs\u001b[0m\u001b[0;34m,\u001b[0m \u001b[0;34m**\u001b[0m\u001b[0mkwargs\u001b[0m\u001b[0;34m)\u001b[0m\u001b[0;34m\u001b[0m\u001b[0;34m\u001b[0m\u001b[0m\n\u001b[0m\u001b[1;32m     27\u001b[0m         \u001b[0;32mreturn\u001b[0m \u001b[0mcast\u001b[0m\u001b[0;34m(\u001b[0m\u001b[0mF\u001b[0m\u001b[0;34m,\u001b[0m \u001b[0mdecorate_context\u001b[0m\u001b[0;34m)\u001b[0m\u001b[0;34m\u001b[0m\u001b[0;34m\u001b[0m\u001b[0m\n\u001b[1;32m     28\u001b[0m \u001b[0;34m\u001b[0m\u001b[0m\n",
      "\u001b[0;32m~/miniconda3/envs/pytorch/lib/python3.8/site-packages/torch/optim/adam.py\u001b[0m in \u001b[0;36mstep\u001b[0;34m(self, closure)\u001b[0m\n\u001b[1;32m    106\u001b[0m \u001b[0;34m\u001b[0m\u001b[0m\n\u001b[1;32m    107\u001b[0m             \u001b[0mbeta1\u001b[0m\u001b[0;34m,\u001b[0m \u001b[0mbeta2\u001b[0m \u001b[0;34m=\u001b[0m \u001b[0mgroup\u001b[0m\u001b[0;34m[\u001b[0m\u001b[0;34m'betas'\u001b[0m\u001b[0;34m]\u001b[0m\u001b[0;34m\u001b[0m\u001b[0;34m\u001b[0m\u001b[0m\n\u001b[0;32m--> 108\u001b[0;31m             F.adam(params_with_grad,\n\u001b[0m\u001b[1;32m    109\u001b[0m                    \u001b[0mgrads\u001b[0m\u001b[0;34m,\u001b[0m\u001b[0;34m\u001b[0m\u001b[0;34m\u001b[0m\u001b[0m\n\u001b[1;32m    110\u001b[0m                    \u001b[0mexp_avgs\u001b[0m\u001b[0;34m,\u001b[0m\u001b[0;34m\u001b[0m\u001b[0;34m\u001b[0m\u001b[0m\n",
      "\u001b[0;32m~/miniconda3/envs/pytorch/lib/python3.8/site-packages/torch/optim/functional.py\u001b[0m in \u001b[0;36madam\u001b[0;34m(params, grads, exp_avgs, exp_avg_sqs, max_exp_avg_sqs, state_steps, amsgrad, beta1, beta2, lr, weight_decay, eps)\u001b[0m\n\u001b[1;32m     96\u001b[0m         \u001b[0mstep_size\u001b[0m \u001b[0;34m=\u001b[0m \u001b[0mlr\u001b[0m \u001b[0;34m/\u001b[0m \u001b[0mbias_correction1\u001b[0m\u001b[0;34m\u001b[0m\u001b[0;34m\u001b[0m\u001b[0m\n\u001b[1;32m     97\u001b[0m \u001b[0;34m\u001b[0m\u001b[0m\n\u001b[0;32m---> 98\u001b[0;31m         \u001b[0mparam\u001b[0m\u001b[0;34m.\u001b[0m\u001b[0maddcdiv_\u001b[0m\u001b[0;34m(\u001b[0m\u001b[0mexp_avg\u001b[0m\u001b[0;34m,\u001b[0m \u001b[0mdenom\u001b[0m\u001b[0;34m,\u001b[0m \u001b[0mvalue\u001b[0m\u001b[0;34m=\u001b[0m\u001b[0;34m-\u001b[0m\u001b[0mstep_size\u001b[0m\u001b[0;34m)\u001b[0m\u001b[0;34m\u001b[0m\u001b[0;34m\u001b[0m\u001b[0m\n\u001b[0m",
      "\u001b[0;31mKeyboardInterrupt\u001b[0m: "
     ]
    }
   ],
   "source": [
    "NUM_EPOCHS = 2\n",
    "BATCH_SIZE = batch_size\n",
    "\n",
    "model = UNet(n_channels=4, n_classes=1).to(device)\n",
    "model.train()\n",
    "optimizer = torch.optim.Adam(model.parameters())\n",
    "scheduler = torch.optim.lr_scheduler.ReduceLROnPlateau(optimizer, 'min')\n",
    "\n",
    "#loss_fn = nn.BCEWithLogitsLoss(), lr_scheduler.ReduceLROnPlateau(optimizer, 'max')\n",
    "loss_fn = nn.CrossEntropyLoss()\n",
    "\n",
    "#train_dataloader = DataLoader(train_dataset, batch_size = BATCH_SIZE, shuffle = True, drop_last = True)\n",
    "#steps  = train_dataset.__len__() // BATCH_SIZE\n",
    "steps = len(train_indices) // BATCH_SIZE\n",
    "print(steps,\"steps per epoch\")\n",
    "\n",
    "start = time.time()\n",
    "train_losses = []\n",
    "train_ious = []\n",
    "for epoch in range(1, NUM_EPOCHS + 1):\n",
    "    print('-' * 10)\n",
    "    print('Epoch {}/{}'.format(epoch, NUM_EPOCHS))\n",
    "    running_iou = []\n",
    "    running_loss = []\n",
    "    for step, (x, y) in enumerate(train_dataloader):\n",
    "        loss, iou = train_one_batch(model, x, y)\n",
    "        running_iou.append(iou)\n",
    "        running_loss.append(loss)\n",
    "        print('\\r{:6.1f} %\\tloss {:8.4f}\\tIoU {:8.4f}'.format(100*(step+1)/steps, loss,iou), end = \"\") \n",
    "        \n",
    "    print('\\r{:6.1f} %\\tloss {:8.4f}\\tIoU {:8.4f}\\t{}'.format(100*(step+1)/steps,np.mean(running_loss),np.mean(running_iou), timeSince(start)))\n",
    "    scheduler.step(np.mean(running_iou))\n",
    "    \n",
    "    train_losses.append(loss)\n",
    "    train_ious.append(iou)"
   ]
  },
  {
   "cell_type": "code",
   "execution_count": null,
   "metadata": {},
   "outputs": [],
   "source": [
    "## plot loss\n",
    "plt.plot(train_losses, label = 'loss')\n",
    "plt.plot(train_ious, label = 'IoU')\n",
    "plt.xlabel('Epoch')\n",
    "plt.ylabel('Metric')\n",
    "plt.legend()\n",
    "plt.show()"
   ]
  },
  {
   "cell_type": "code",
   "execution_count": null,
   "metadata": {},
   "outputs": [],
   "source": [
    "## save weights    \n",
    "torch.save(model.cpu().state_dict(), model_path)\n",
    "\n",
    "model.eval()"
   ]
  },
  {
   "cell_type": "code",
   "execution_count": null,
   "metadata": {},
   "outputs": [],
   "source": []
  },
  {
   "cell_type": "markdown",
   "metadata": {},
   "source": [
    "## Make predictions"
   ]
  },
  {
   "cell_type": "code",
   "execution_count": null,
   "metadata": {},
   "outputs": [],
   "source": []
  }
 ],
 "metadata": {
  "kernelspec": {
   "display_name": "pytorch",
   "language": "python",
   "name": "pytorch"
  },
  "language_info": {
   "codemirror_mode": {
    "name": "ipython",
    "version": 3
   },
   "file_extension": ".py",
   "mimetype": "text/x-python",
   "name": "python",
   "nbconvert_exporter": "python",
   "pygments_lexer": "ipython3",
   "version": "3.8.5"
  }
 },
 "nbformat": 4,
 "nbformat_minor": 4
}
