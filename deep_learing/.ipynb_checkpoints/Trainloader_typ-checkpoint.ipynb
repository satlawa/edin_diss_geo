{
 "cells": [
  {
   "cell_type": "code",
   "execution_count": 1,
   "metadata": {},
   "outputs": [],
   "source": [
    "import torch\n",
    "import torch.nn as nn\n",
    "import torch.utils.data as data\n",
    "import torchvision.utils as utils\n",
    "import torchvision.datasets as dataset\n",
    "import torchvision.transforms as transforms\n",
    "\n",
    "import h5py\n",
    "import numpy as np\n",
    "import matplotlib.pyplot as plt"
   ]
  },
  {
   "cell_type": "code",
   "execution_count": 2,
   "metadata": {},
   "outputs": [],
   "source": [
    "class Dataset(torch.utils.data.Dataset):\n",
    "    \n",
    "    '''Characterizes a dataset for PyTorch'''\n",
    "    \n",
    "    def __init__(self, path):\n",
    "        '''Initialization'''\n",
    "        # open dataset\n",
    "        self.dset = h5py.File(path, 'r')\n",
    "        self.ortho = self.dset['x_ortho']\n",
    "        #self.dsm = self.dset['x_dsm']\n",
    "        #self.dtm = self.dset['x_dtm']\n",
    "        #self.slope = self.dset['x_slope']\n",
    "        self.ground_truth = self.dset['y_ground_truth']\n",
    "        \n",
    "        # set number of samples\n",
    "        self.length = self.ground_truth.shape[0]\n",
    "        #self.labels = labels\n",
    "        #self.list_IDs = list_IDs\n",
    "        \n",
    "        ## TODO:\n",
    "        # make means and stds load from hdf5\n",
    "        self.means = np.array([106.623276, 14.312894, 1325.6674, 29.272326])\n",
    "        self.stds = np.array([54.006954, 12.487458, 16.26564, 7.691262])\n",
    "\n",
    "    def __len__(self):\n",
    "        '''Denotes the total number of samples'''\n",
    "        return self.length\n",
    "\n",
    "    def __getitem__(self, index):\n",
    "        '''Generates one sample of data'''\n",
    "        \n",
    "        # Load data and get label\n",
    "        \n",
    "        X = (np.array(self.ortho[index]) - self.means[0]) / self.stds[0]\n",
    "        #x1 = (np.array(self.dsm[index]) - self.means[1]) / self.stds[1]\n",
    "        #x2 = (np.array(self.dtm[index]) - self.means[2]) / self.stds[2]\n",
    "        #x3 = (np.array(self.slope[index]) - self.means[3]) / self.stds[3]\n",
    "        # con\n",
    "        #X = np.concatenate([x0, x1, x2, x3], axis=2)\n",
    "        # get ground truth       \n",
    "        y = np.array(self.ground_truth[index])\n",
    "\n",
    "        return X, y\n",
    "    \n",
    "    def show_item(self, index):\n",
    "        '''shows the data'''\n",
    "        plt.imshow(np.array(self.ortho[index][:,:,:3]))\n",
    "    \n",
    "        \n",
    "    def show_item_2(self, index):\n",
    "        '''shows the data'''\n",
    "        fig, axs = plt.subplots(1, 3)\n",
    "        \n",
    "        images = []    \n",
    "        images.append(axs[0].imshow(np.array(self.ortho[index][:,:,:3])))\n",
    "        #plt.axis('off')\n",
    "        images.append(axs[1].imshow(np.array(self.slope[index][:,:,0])))\n",
    "        #plt.axis('off')\n",
    "        images.append(axs[2].imshow(np.array(self.ground_truth[index][:,:,0])))\n",
    "        #plt.axis('off')\n",
    "        #plt.imshow(np.array(self.slope[index][:,:,0]))\n",
    "        #plt.colorbar()\n",
    "        plt.show()\n",
    "        \n",
    "        \n",
    "    def show_item_3(self, index):\n",
    "        '''shows the data'''\n",
    "        #plt.imshow(np.array(self.ground_truth[index]))\n",
    "        \n",
    "        fig = plt.figure(figsize=(20,20))\n",
    "        \n",
    "        a = fig.add_subplot(2, 3, 1)\n",
    "        imgplot = plt.imshow(np.array(self.ortho[index][:,:,:3]))\n",
    "        a.set_title('RGB')\n",
    "        plt.colorbar(ticks=[0.1, 0.3, 0.5, 0.7], orientation='horizontal')\n",
    "        plt.axis('off')\n",
    "        \n",
    "        a = fig.add_subplot(2, 3, 2)\n",
    "        imgplot = plt.imshow(np.array(np.roll(self.ortho[index], 1, axis=2)[:,:,:3]))\n",
    "        a.set_title('CIR')\n",
    "        plt.colorbar(ticks=[0.1, 0.3, 0.5, 0.7], orientation='horizontal')\n",
    "        plt.axis('off')\n",
    "        \n",
    "        #a = fig.add_subplot(2, 3, 3)\n",
    "        #imgplot = plt.imshow(np.array(self.dsm[index]))\n",
    "        #imgplot.set_clim(0.0, 40.0)\n",
    "        #a.set_title('Tree Height')\n",
    "        #plt.colorbar(ticks=[10, 20, 30], orientation='horizontal')\n",
    "        #plt.axis('off')\n",
    "        \n",
    "        #a = fig.add_subplot(2, 3, 4)\n",
    "        #imgplot = plt.imshow(np.array(self.slope[index]), cmap=\"nipy_spectral\")\n",
    "        #imgplot.set_clim(0.0, 90.0)\n",
    "        #a.set_title('Slope')\n",
    "        #plt.colorbar(ticks=[15, 30, 45, 60, 75], orientation='horizontal')\n",
    "        #plt.axis('off')\n",
    "        \n",
    "        a = fig.add_subplot(2, 3, 5)\n",
    "        imgplot = plt.imshow(np.array(self.ground_truth[index]), cmap=\"hot\")\n",
    "        imgplot.set_clim(0, 7)\n",
    "        a.set_title('Ground Truth')\n",
    "        plt.colorbar(ticks=[1, 2, 3, 4, 5, 6], orientation='horizontal')\n",
    "        plt.axis('off')\n",
    "        \n",
    "        \n",
    "    def close(self):\n",
    "        ''' closes the hdf5 file'''\n",
    "        self.dset.close()"
   ]
  },
  {
   "cell_type": "code",
   "execution_count": 3,
   "metadata": {},
   "outputs": [
    {
     "data": {
      "text/plain": [
       "15.0"
      ]
     },
     "execution_count": 3,
     "metadata": {},
     "output_type": "execute_result"
    }
   ],
   "source": [
    "90/6"
   ]
  },
  {
   "cell_type": "code",
   "execution_count": 4,
   "metadata": {},
   "outputs": [],
   "source": [
    "#dset = Dataset(\"/home/philipp/Data/edin_dataset/dataset_512_1.h5\")\n",
    "dset = Dataset(\"/mnt/sda1/dataset_256_0.h5\")"
   ]
  },
  {
   "cell_type": "code",
   "execution_count": 5,
   "metadata": {},
   "outputs": [],
   "source": [
    "X, y = dset[14]"
   ]
  },
  {
   "cell_type": "code",
   "execution_count": 6,
   "metadata": {},
   "outputs": [
    {
     "data": {
      "text/plain": [
       "(256, 256, 4)"
      ]
     },
     "execution_count": 6,
     "metadata": {},
     "output_type": "execute_result"
    }
   ],
   "source": [
    "X.shape"
   ]
  },
  {
   "cell_type": "code",
   "execution_count": 7,
   "metadata": {},
   "outputs": [
    {
     "data": {
      "text/plain": [
       "(256, 256, 1)"
      ]
     },
     "execution_count": 7,
     "metadata": {},
     "output_type": "execute_result"
    }
   ],
   "source": [
    "y.shape"
   ]
  },
  {
   "cell_type": "code",
   "execution_count": 28,
   "metadata": {},
   "outputs": [
    {
     "data": {
      "image/png": "[encoded data removed]",
      "text/plain": [
       "<Figure size 1440x1440 with 6 Axes>"
      ]
     },
     "metadata": {
      "needs_background": "light"
     },
     "output_type": "display_data"
    }
   ],
   "source": [
    "dset.show_item_3(140)"
   ]
  },
  {
   "cell_type": "code",
   "execution_count": 29,
   "metadata": {},
   "outputs": [
    {
     "data": {
      "text/plain": [
       "100"
      ]
     },
     "execution_count": 29,
     "metadata": {},
     "output_type": "execute_result"
    }
   ],
   "source": [
    "len(dset)"
   ]
  },
  {
   "cell_type": "code",
   "execution_count": 13,
   "metadata": {},
   "outputs": [
    {
     "data": {
      "text/plain": [
       "6.0"
      ]
     },
     "execution_count": 13,
     "metadata": {},
     "output_type": "execute_result"
    }
   ],
   "source": [
    "1500/250"
   ]
  },
  {
   "cell_type": "code",
   "execution_count": null,
   "metadata": {},
   "outputs": [],
   "source": []
  },
  {
   "cell_type": "code",
   "execution_count": 238,
   "metadata": {},
   "outputs": [],
   "source": [
    "trainloader = torch.utils.data.DataLoader(dset, batch_size=64, shuffle=True, \n",
    "                                          num_workers=1, pin_memory=True)"
   ]
  },
  {
   "cell_type": "code",
   "execution_count": 239,
   "metadata": {},
   "outputs": [
    {
     "data": {
      "text/plain": [
       "<torch.utils.data.dataloader.DataLoader at 0x7fdb98da2520>"
      ]
     },
     "execution_count": 239,
     "metadata": {},
     "output_type": "execute_result"
    }
   ],
   "source": [
    "trainloader"
   ]
  },
  {
   "cell_type": "code",
   "execution_count": null,
   "metadata": {},
   "outputs": [],
   "source": []
  },
  {
   "cell_type": "code",
   "execution_count": null,
   "metadata": {},
   "outputs": [],
   "source": []
  },
  {
   "cell_type": "code",
   "execution_count": null,
   "metadata": {},
   "outputs": [],
   "source": [
    "class RandomCrop(object):\n",
    "    \"\"\"Crop randomly the image in a sample.\n",
    "\n",
    "    Args:\n",
    "        output_size (tuple or int): Desired output size. If int, square crop\n",
    "            is made.\n",
    "    \"\"\"\n",
    "\n",
    "    def __init__(self, output_size):\n",
    "        assert isinstance(output_size, (int, tuple))\n",
    "        if isinstance(output_size, int):\n",
    "            self.output_size = (output_size, output_size)\n",
    "        else:\n",
    "            assert len(output_size) == 2\n",
    "            self.output_size = output_size\n",
    "\n",
    "    def __call__(self, sample):\n",
    "        image, landmarks = sample['image'], sample['landmarks']\n",
    "\n",
    "        h, w = image.shape[:2]\n",
    "        new_h, new_w = self.output_size\n",
    "\n",
    "        top = np.random.randint(0, h - new_h)\n",
    "        left = np.random.randint(0, w - new_w)\n",
    "\n",
    "        image = image[top: top + new_h,\n",
    "                      left: left + new_w]\n",
    "\n",
    "        landmarks = landmarks - [left, top]\n",
    "\n",
    "        return {'image': image, 'landmarks': landmarks}"
   ]
  },
  {
   "cell_type": "code",
   "execution_count": null,
   "metadata": {},
   "outputs": [],
   "source": [
    "class ToTensor(object):\n",
    "    \"\"\"Convert ndarrays in sample to Tensors.\"\"\"\n",
    "\n",
    "    def __call__(self, sample):\n",
    "        image, landmarks = sample['image'], sample['landmarks']\n",
    "\n",
    "        # swap color axis because\n",
    "        # numpy image: H x W x C\n",
    "        # torch image: C X H X W\n",
    "        image = image.transpose((2, 0, 1))\n",
    "        image = image.transpose((2, 0, 1))\n",
    "        return {'image': torch.from_numpy(image),\n",
    "                'landmarks': torch.from_numpy(landmarks)}\n"
   ]
  }
 ],
 "metadata": {
  "kernelspec": {
   "display_name": "pytorch",
   "language": "python",
   "name": "pytorch"
  },
  "language_info": {
   "codemirror_mode": {
    "name": "ipython",
    "version": 3
   },
   "file_extension": ".py",
   "mimetype": "text/x-python",
   "name": "python",
   "nbconvert_exporter": "python",
   "pygments_lexer": "ipython3",
   "version": "3.8.5"
  }
 },
 "nbformat": 4,
 "nbformat_minor": 4
}
